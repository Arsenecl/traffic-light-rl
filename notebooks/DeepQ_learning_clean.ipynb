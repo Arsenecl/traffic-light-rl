{
 "cells": [
  {
   "cell_type": "code",
   "execution_count": 1,
   "metadata": {},
   "outputs": [],
   "source": [
    "%load_ext autoreload\n",
    "%autoreload 2"
   ]
  },
  {
   "cell_type": "code",
   "execution_count": null,
   "metadata": {},
   "outputs": [],
   "source": [
    "from state import get_state, queue\n",
    "import os\n",
    "import traci"
   ]
  },
  {
   "cell_type": "code",
   "execution_count": 3,
   "metadata": {},
   "outputs": [],
   "source": [
    "from dotenv import load_dotenv\n",
    "load_dotenv()\n",
    "\n",
    "\n",
    "sumo_bin = os.getenv(\"SUMO\")\n",
    "sumo_gui_bin = os.getenv(\"SUMO-GUI\")\n",
    "simulConfig = os.getenv(\"SIMUL-CONFIG\")"
   ]
  },
  {
   "cell_type": "code",
   "execution_count": 4,
   "metadata": {},
   "outputs": [],
   "source": [
    "import numpy as np\n",
    "from tensorflow.keras import Sequential, layers\n",
    "from tensorflow.random import set_seed\n",
    "from collections import deque\n",
    "from tensorflow import keras\n",
    "from tensorflow import reduce_sum, reduce_mean, one_hot, GradientTape\n",
    "from tensorflow.keras.losses import MeanSquaredError\n",
    "import matplotlib.pyplot as plt\n",
    "import tensorflow as tf"
   ]
  },
  {
   "cell_type": "code",
   "execution_count": 5,
   "metadata": {},
   "outputs": [
    {
     "name": "stderr",
     "output_type": "stream",
     "text": [
      "/Users/arseneclaustre/.pyenv/versions/3.10.6/envs/RL_traffic/lib/python3.10/site-packages/keras/src/layers/activations/leaky_relu.py:41: UserWarning: Argument `alpha` is deprecated. Use `negative_slope` instead.\n",
      "  warnings.warn(\n",
      "/Users/arseneclaustre/.pyenv/versions/3.10.6/envs/RL_traffic/lib/python3.10/site-packages/keras/src/layers/core/dense.py:87: UserWarning: Do not pass an `input_shape`/`input_dim` argument to a layer. When using Sequential models, prefer using an `Input(shape)` object as the first layer in the model instead.\n",
      "  super().__init__(activity_regularizer=activity_regularizer, **kwargs)\n"
     ]
    }
   ],
   "source": [
    "set_seed(42)  # extra code – ensures reproducibility on the CPU\n",
    "\n",
    "input_shape = [48]  # == env.observation_space.shape\n",
    "n_outputs = 4  # == env.action_space.n\n",
    "#[((Phase(duration=30.0, state='GGrGrrGGrGrr', minDur=30.0, maxDur=30.0), Phase(duration=20.0, state='grGgrrgrGgrr', minDur=20.0, maxDur=20.0), Phase(duration=30.0, state='GrrGGrGrrGGr', minDur=30.0, maxDur=30.0), Phase(duration=20.0, state='grrgrGgrrgrG', minDur=20.0, maxDur=20.0)), [0, 2, 4, 6])]\n",
    "model_action = Sequential([\n",
    "    layers.Dense(32,activation=tf.keras.layers.LeakyReLU(alpha=0.01), input_shape=input_shape),\n",
    "    layers.Dense(32, activation=tf.keras.layers.LeakyReLU(alpha=0.01)),\n",
    "    layers.Dense(n_outputs, activation= 'linear')])"
   ]
  },
  {
   "cell_type": "code",
   "execution_count": 6,
   "metadata": {},
   "outputs": [],
   "source": [
    "def epsilon_greedy_policy(state, epsilon=0):\n",
    "    if np.random.rand() < epsilon:\n",
    "        return np.random.randint(n_outputs)  # random action\n",
    "    else:\n",
    "        Q_values = model_action.predict(state[np.newaxis], verbose=0)[0]\n",
    "        print(f\"state : {state}\")\n",
    "        print(f\"Q_values : {Q_values}\")\n",
    "        return Q_values.argmax()  # optimal action according to the DQN"
   ]
  },
  {
   "cell_type": "code",
   "execution_count": 7,
   "metadata": {},
   "outputs": [],
   "source": [
    "def sample_experiences(batch_size):\n",
    "    indices = np.random.randint(len(replay_buffer), size=batch_size)\n",
    "    batch = [replay_buffer[index] for index in indices]\n",
    "    states, actions, rewards, next_states = [\n",
    "        np.array([experience[field_index] for experience in batch])\n",
    "        for field_index in range(4)\n",
    "    ]\n",
    "    return states, actions, rewards, next_states"
   ]
  },
  {
   "cell_type": "code",
   "execution_count": 8,
   "metadata": {},
   "outputs": [],
   "source": [
    "batch_size = 32\n",
    "discount_factor = 0.5\n",
    "optimizer = keras.optimizers.Adam(learning_rate=0.05)\n",
    "loss_fn = MeanSquaredError()\n",
    "\n",
    "def training_step(batch_size):\n",
    "    experiences = sample_experiences(batch_size)\n",
    "    states, actions, rewards, next_states = experiences  # a changer\n",
    "    next_Q_values = model_action.predict(next_states, verbose=0)\n",
    "    max_next_Q_values = next_Q_values.max(axis=1)\n",
    "    # runs = 1.0 - (dones | truncateds)  # episode is not done or truncated\n",
    "    target_Q_values = rewards + discount_factor * max_next_Q_values\n",
    "    target_Q_values = target_Q_values.reshape(-1, 1)\n",
    "    mask = one_hot(actions, n_outputs)\n",
    "    with GradientTape() as tape:\n",
    "        all_Q_values = model_action(states)\n",
    "        Q_values = reduce_sum(all_Q_values * mask, axis=1, keepdims=True)\n",
    "        loss = reduce_mean(loss_fn(target_Q_values, Q_values))\n",
    "\n",
    "    grads = tape.gradient(loss, model_action.trainable_variables)\n",
    "    optimizer.apply_gradients(zip(grads, model_action.trainable_variables))"
   ]
  },
  {
   "cell_type": "code",
   "execution_count": 9,
   "metadata": {},
   "outputs": [
    {
     "name": "stdout",
     "output_type": "stream",
     "text": [
      " Retrying in 1 seconds\n"
     ]
    },
    {
     "name": "stderr",
     "output_type": "stream",
     "text": [
      "Warning: Environment variable SUMO_HOME is not set properly, disabling XML validation. Set 'auto' or 'always' for web lookups.\n"
     ]
    },
    {
     "name": "stdout",
     "output_type": "stream",
     "text": [
      "episode : 0\n",
      "Step #100.00 (0ms ?*RT. ?UPS, TraCI: 0ms, vehicles TOT 84 ACT 41 BUF 0)                    \n",
      " Retrying in 1 seconds\n"
     ]
    },
    {
     "name": "stderr",
     "output_type": "stream",
     "text": [
      "Warning: Environment variable SUMO_HOME is not set properly, disabling XML validation. Set 'auto' or 'always' for web lookups.\n"
     ]
    },
    {
     "name": "stdout",
     "output_type": "stream",
     "text": [
      "episode : 1\n",
      "Step #100.00 (0ms ?*RT. ?UPS, TraCI: 0ms, vehicles TOT 84 ACT 46 BUF 0)                    \n",
      " Retrying in 1 seconds\n"
     ]
    },
    {
     "name": "stderr",
     "output_type": "stream",
     "text": [
      "Warning: Environment variable SUMO_HOME is not set properly, disabling XML validation. Set 'auto' or 'always' for web lookups.\n"
     ]
    },
    {
     "name": "stdout",
     "output_type": "stream",
     "text": [
      "state : [ 0  0  6  0  0  0  0  0  2  0  2  0  0  0  0  0  0  0  0  0  0  0  0  0\n",
      "  0  0 10  2  2  2  4  0  2  0  6  0  0  1  1  3  0  1  0  1  1  0  0  0]\n",
      "Q_values : [ 0.19114468  0.8559715  -0.6384022  -0.16767056]\n",
      "episode : 2\n",
      "Step #100.00 (0ms ?*RT. ?UPS, TraCI: 0ms, vehicles TOT 84 ACT 39 BUF 0)                    \n",
      " Retrying in 1 seconds\n"
     ]
    },
    {
     "name": "stderr",
     "output_type": "stream",
     "text": [
      "Warning: Environment variable SUMO_HOME is not set properly, disabling XML validation. Set 'auto' or 'always' for web lookups.\n"
     ]
    },
    {
     "name": "stdout",
     "output_type": "stream",
     "text": [
      "episode : 3\n",
      "Step #100.00 (0ms ?*RT. ?UPS, TraCI: 0ms, vehicles TOT 84 ACT 46 BUF 0)                    \n",
      " Retrying in 1 seconds\n"
     ]
    },
    {
     "name": "stderr",
     "output_type": "stream",
     "text": [
      "Warning: Environment variable SUMO_HOME is not set properly, disabling XML validation. Set 'auto' or 'always' for web lookups.\n"
     ]
    },
    {
     "name": "stdout",
     "output_type": "stream",
     "text": [
      "episode : 4\n",
      "Step #100.00 (0ms ?*RT. ?UPS, TraCI: 0ms, vehicles TOT 84 ACT 45 BUF 0)                    \n",
      " Retrying in 1 seconds\n"
     ]
    },
    {
     "name": "stderr",
     "output_type": "stream",
     "text": [
      "Warning: Environment variable SUMO_HOME is not set properly, disabling XML validation. Set 'auto' or 'always' for web lookups.\n"
     ]
    },
    {
     "name": "stdout",
     "output_type": "stream",
     "text": [
      "episode : 5\n",
      "Step #100.00 (1ms ~= 10.00*RT, ~44000.00UPS, TraCI: 0ms, vehicles TOT 84 ACT 44 BUF 0)     \n",
      " Retrying in 1 seconds\n"
     ]
    },
    {
     "name": "stderr",
     "output_type": "stream",
     "text": [
      "Warning: Environment variable SUMO_HOME is not set properly, disabling XML validation. Set 'auto' or 'always' for web lookups.\n"
     ]
    },
    {
     "name": "stdout",
     "output_type": "stream",
     "text": [
      "episode : 6\n",
      "Step #100.00 (0ms ?*RT. ?UPS, TraCI: 0ms, vehicles TOT 84 ACT 57 BUF 0)                    \n",
      " Retrying in 1 seconds\n"
     ]
    },
    {
     "name": "stderr",
     "output_type": "stream",
     "text": [
      "Warning: Environment variable SUMO_HOME is not set properly, disabling XML validation. Set 'auto' or 'always' for web lookups.\n"
     ]
    },
    {
     "name": "stdout",
     "output_type": "stream",
     "text": [
      "state : [0 2 2 0 0 2 0 2 2 0 0 2 0 0 0 0 0 0 0 0 0 0 0 0 1 2 7 2 0 2 5 2 2 1 3 2 2\n",
      " 0 0 2 2 0 2 0 0 1 1 1]\n",
      "Q_values : [-0.06165856  1.4341294  -0.18034953 -1.2250168 ]\n",
      "episode : 7\n",
      "Step #100.00 (0ms ?*RT. ?UPS, TraCI: 0ms, vehicles TOT 84 ACT 39 BUF 0)                    \n",
      " Retrying in 1 seconds\n"
     ]
    },
    {
     "name": "stderr",
     "output_type": "stream",
     "text": [
      "Warning: Environment variable SUMO_HOME is not set properly, disabling XML validation. Set 'auto' or 'always' for web lookups.\n"
     ]
    },
    {
     "name": "stdout",
     "output_type": "stream",
     "text": [
      "episode : 8\n",
      "Step #100.00 (0ms ?*RT. ?UPS, TraCI: 0ms, vehicles TOT 84 ACT 45 BUF 0)                    \n",
      " Retrying in 1 seconds\n"
     ]
    },
    {
     "name": "stderr",
     "output_type": "stream",
     "text": [
      "Warning: Environment variable SUMO_HOME is not set properly, disabling XML validation. Set 'auto' or 'always' for web lookups.\n"
     ]
    },
    {
     "name": "stdout",
     "output_type": "stream",
     "text": [
      "episode : 9\n",
      "Step #100.00 (0ms ?*RT. ?UPS, TraCI: 0ms, vehicles TOT 84 ACT 45 BUF 0)                    \n",
      " Retrying in 1 seconds\n"
     ]
    },
    {
     "name": "stderr",
     "output_type": "stream",
     "text": [
      "Warning: Environment variable SUMO_HOME is not set properly, disabling XML validation. Set 'auto' or 'always' for web lookups.\n"
     ]
    },
    {
     "name": "stdout",
     "output_type": "stream",
     "text": [
      "episode : 10\n",
      "Step #100.00 (0ms ?*RT. ?UPS, TraCI: 0ms, vehicles TOT 84 ACT 48 BUF 0)                    \n",
      " Retrying in 1 seconds\n"
     ]
    },
    {
     "name": "stderr",
     "output_type": "stream",
     "text": [
      "Warning: Environment variable SUMO_HOME is not set properly, disabling XML validation. Set 'auto' or 'always' for web lookups.\n"
     ]
    },
    {
     "name": "stdout",
     "output_type": "stream",
     "text": [
      "state : [0 1 0 0 0 0 0 1 0 0 1 0 0 0 0 0 0 0 0 0 0 0 0 0 0 3 4 0 2 2 4 2 1 1 5 2 1\n",
      " 0 0 1 0 0 1 0 0 1 0 0]\n",
      "Q_values : [-0.30122113  0.23275459 -0.13083154  0.45000252]\n",
      "episode : 11\n",
      "Step #100.00 (0ms ?*RT. ?UPS, TraCI: 0ms, vehicles TOT 84 ACT 46 BUF 0)                    \n",
      " Retrying in 1 seconds\n"
     ]
    },
    {
     "name": "stderr",
     "output_type": "stream",
     "text": [
      "Warning: Environment variable SUMO_HOME is not set properly, disabling XML validation. Set 'auto' or 'always' for web lookups.\n"
     ]
    },
    {
     "name": "stdout",
     "output_type": "stream",
     "text": [
      "episode : 12\n",
      "Step #100.00 (0ms ?*RT. ?UPS, TraCI: 0ms, vehicles TOT 84 ACT 49 BUF 0)                    \n",
      " Retrying in 1 seconds\n"
     ]
    },
    {
     "name": "stderr",
     "output_type": "stream",
     "text": [
      "Warning: Environment variable SUMO_HOME is not set properly, disabling XML validation. Set 'auto' or 'always' for web lookups.\n"
     ]
    },
    {
     "name": "stdout",
     "output_type": "stream",
     "text": [
      "state : [0 0 2 0 1 2 0 0 2 0 2 2 0 0 0 0 0 0 0 0 0 0 0 0 1 0 7 2 1 2 5 0 2 1 6 2 2\n",
      " 2 0 2 0 0 2 2 0 1 1 0]\n",
      "Q_values : [ 0.05979148  1.4974171  -0.6770609  -1.1159878 ]\n",
      "episode : 13\n",
      "Step #100.00 (0ms ?*RT. ?UPS, TraCI: 0ms, vehicles TOT 84 ACT 36 BUF 0)                    \n",
      " Retrying in 1 seconds\n"
     ]
    },
    {
     "name": "stderr",
     "output_type": "stream",
     "text": [
      "Warning: Environment variable SUMO_HOME is not set properly, disabling XML validation. Set 'auto' or 'always' for web lookups.\n"
     ]
    },
    {
     "name": "stdout",
     "output_type": "stream",
     "text": [
      "episode : 14\n",
      "Step #100.00 (0ms ?*RT. ?UPS, TraCI: 0ms, vehicles TOT 84 ACT 41 BUF 0)                    \n",
      " Retrying in 1 seconds\n"
     ]
    },
    {
     "name": "stderr",
     "output_type": "stream",
     "text": [
      "Warning: Environment variable SUMO_HOME is not set properly, disabling XML validation. Set 'auto' or 'always' for web lookups.\n"
     ]
    },
    {
     "name": "stdout",
     "output_type": "stream",
     "text": [
      "episode : 15\n",
      "Step #100.00 (0ms ?*RT. ?UPS, TraCI: 1ms, vehicles TOT 84 ACT 50 BUF 0)                    \n",
      " Retrying in 1 seconds\n"
     ]
    },
    {
     "name": "stderr",
     "output_type": "stream",
     "text": [
      "Warning: Environment variable SUMO_HOME is not set properly, disabling XML validation. Set 'auto' or 'always' for web lookups.\n"
     ]
    },
    {
     "name": "stdout",
     "output_type": "stream",
     "text": [
      "episode : 16\n",
      "Step #100.00 (0ms ?*RT. ?UPS, TraCI: 1ms, vehicles TOT 84 ACT 48 BUF 0)                    \n",
      " Retrying in 1 seconds\n"
     ]
    },
    {
     "name": "stderr",
     "output_type": "stream",
     "text": [
      "Warning: Environment variable SUMO_HOME is not set properly, disabling XML validation. Set 'auto' or 'always' for web lookups.\n"
     ]
    },
    {
     "name": "stdout",
     "output_type": "stream",
     "text": [
      "state : [0 0 0 0 0 0 0 0 0 0 0 0 0 0 0 0 0 0 0 0 0 0 0 0 3 2 1 3 2 1 3 2 1 3 2 1 0\n",
      " 0 0 0 0 0 0 0 0 0 0 0]\n",
      "Q_values : [-0.6157905   0.77695376  0.8243077   0.32392374]\n",
      "episode : 17\n",
      "Step #100.00 (0ms ?*RT. ?UPS, TraCI: 0ms, vehicles TOT 84 ACT 44 BUF 0)                    \n",
      " Retrying in 1 seconds\n"
     ]
    },
    {
     "name": "stderr",
     "output_type": "stream",
     "text": [
      "Warning: Environment variable SUMO_HOME is not set properly, disabling XML validation. Set 'auto' or 'always' for web lookups.\n"
     ]
    },
    {
     "name": "stdout",
     "output_type": "stream",
     "text": [
      "episode : 18\n",
      "Step #100.00 (0ms ?*RT. ?UPS, TraCI: 0ms, vehicles TOT 84 ACT 38 BUF 0)                    \n",
      " Retrying in 1 seconds\n"
     ]
    },
    {
     "name": "stderr",
     "output_type": "stream",
     "text": [
      "Warning: Environment variable SUMO_HOME is not set properly, disabling XML validation. Set 'auto' or 'always' for web lookups.\n"
     ]
    },
    {
     "name": "stdout",
     "output_type": "stream",
     "text": [
      "state : [0 2 2 0 0 2 0 2 1 0 0 2 0 0 0 0 0 0 0 0 0 0 0 0 1 2 6 2 0 2 5 2 1 1 3 2 2\n",
      " 0 0 2 1 3 2 0 0 1 3 1]\n",
      "Q_values : [ 0.32623473  1.6684132  -0.43048528 -1.1209029 ]\n",
      "episode : 19\n",
      "Step #100.00 (0ms ?*RT. ?UPS, TraCI: 0ms, vehicles TOT 84 ACT 39 BUF 0)                    \n",
      " Retrying in 1 seconds\n"
     ]
    },
    {
     "name": "stderr",
     "output_type": "stream",
     "text": [
      "Warning: Environment variable SUMO_HOME is not set properly, disabling XML validation. Set 'auto' or 'always' for web lookups.\n"
     ]
    },
    {
     "name": "stdout",
     "output_type": "stream",
     "text": [
      "state : [0 2 0 0 0 2 0 2 0 0 1 2 0 0 0 0 0 0 0 0 0 0 0 0 1 2 3 2 3 3 5 2 0 1 4 2 1\n",
      " 0 0 2 2 6 2 0 0 1 2 1]\n",
      "Q_values : [ 0.04022444  1.5647086  -0.01429571 -1.0248601 ]\n",
      "state : [0 0 4 0 0 0 0 0 0 0 2 0 0 0 0 0 0 0 0 0 0 0 0 0 0 1 8 2 2 2 4 0 0 1 6 0 0\n",
      " 1 2 3 0 1 0 1 4 0 0 0]\n",
      "Q_values : [ 0.20928478  1.3666527  -0.23523428  0.22565287]\n",
      "episode : 20\n",
      "Step #100.00 (0ms ?*RT. ?UPS, TraCI: 0ms, vehicles TOT 84 ACT 39 BUF 0)                    \n",
      " Retrying in 1 seconds\n"
     ]
    },
    {
     "name": "stderr",
     "output_type": "stream",
     "text": [
      "Warning: Environment variable SUMO_HOME is not set properly, disabling XML validation. Set 'auto' or 'always' for web lookups.\n"
     ]
    },
    {
     "name": "stdout",
     "output_type": "stream",
     "text": [
      "state : [0 1 0 0 0 0 0 1 0 0 1 0 0 0 0 0 0 0 0 0 0 0 0 0 0 3 5 0 2 1 4 2 2 1 5 1 1\n",
      " 0 0 1 0 0 1 0 0 1 0 0]\n",
      "Q_values : [-0.60806936  0.28344578 -0.48729455  0.31888542]\n",
      "episode : 21\n",
      "Step #100.00 (0ms ?*RT. ?UPS, TraCI: 0ms, vehicles TOT 84 ACT 40 BUF 0)                    \n",
      " Retrying in 1 seconds\n"
     ]
    },
    {
     "name": "stderr",
     "output_type": "stream",
     "text": [
      "Warning: Environment variable SUMO_HOME is not set properly, disabling XML validation. Set 'auto' or 'always' for web lookups.\n"
     ]
    },
    {
     "name": "stdout",
     "output_type": "stream",
     "text": [
      "state : [ 0  0  8  0  1  0  0  0  2  0  1  0  0  0  0  0  0  0  0  0  0  0  0  0\n",
      "  0  0 12  0  2  0  4  0  2  1  4  0  2  0  2  3  3  0  0  0  3  0  0  0]\n",
      "Q_values : [-0.98123753  0.89936495  0.11971468  0.11165694]\n",
      "episode : 22\n",
      "Step #100.00 (0ms ?*RT. ?UPS, TraCI: 1ms, vehicles TOT 84 ACT 43 BUF 0)                    \n",
      " Retrying in 1 seconds\n"
     ]
    },
    {
     "name": "stderr",
     "output_type": "stream",
     "text": [
      "Warning: Environment variable SUMO_HOME is not set properly, disabling XML validation. Set 'auto' or 'always' for web lookups.\n"
     ]
    },
    {
     "name": "stdout",
     "output_type": "stream",
     "text": [
      "state : [0 1 0 0 0 0 0 1 0 0 1 0 0 0 0 0 0 0 0 0 0 0 0 0 0 3 4 0 2 2 4 2 1 1 5 2 1\n",
      " 0 0 1 0 0 1 0 0 1 0 0]\n",
      "Q_values : [-0.30122113  0.23275459 -0.13083154  0.45000252]\n",
      "state : [0 2 5 0 0 2 0 2 0 0 0 0 0 0 0 0 0 0 0 0 0 0 0 0 0 3 9 2 2 4 4 2 0 1 3 0 0\n",
      " 0 0 3 2 6 0 0 0 0 1 0]\n",
      "Q_values : [ 0.13115075  0.6068915  -0.6147508   0.3940886 ]\n",
      "episode : 23\n",
      "Step #100.00 (0ms ?*RT. ?UPS, TraCI: 0ms, vehicles TOT 84 ACT 42 BUF 0)                    \n",
      " Retrying in 1 seconds\n"
     ]
    },
    {
     "name": "stderr",
     "output_type": "stream",
     "text": [
      "Warning: Environment variable SUMO_HOME is not set properly, disabling XML validation. Set 'auto' or 'always' for web lookups.\n"
     ]
    },
    {
     "name": "stdout",
     "output_type": "stream",
     "text": [
      "state : [0 0 0 0 0 0 0 0 0 0 0 0 0 0 0 0 0 0 0 0 0 0 0 0 3 2 1 3 2 1 3 2 1 3 2 1 0\n",
      " 0 0 0 0 0 0 0 0 0 0 0]\n",
      "Q_values : [-0.6157905   0.77695376  0.8243077   0.32392374]\n",
      "state : [0 0 0 0 0 0 0 0 0 0 0 0 0 0 0 0 0 0 0 0 0 0 0 0 2 3 3 2 2 2 4 2 2 3 3 2 0\n",
      " 0 0 0 0 0 0 0 0 0 0 0]\n",
      "Q_values : [-0.50390565  0.33347192  0.25533578  0.990328  ]\n",
      "episode : 24\n",
      "Step #100.00 (0ms ?*RT. ?UPS, TraCI: 0ms, vehicles TOT 84 ACT 48 BUF 0)                    \n",
      " Retrying in 1 seconds\n"
     ]
    },
    {
     "name": "stderr",
     "output_type": "stream",
     "text": [
      "Warning: Environment variable SUMO_HOME is not set properly, disabling XML validation. Set 'auto' or 'always' for web lookups.\n"
     ]
    },
    {
     "name": "stdout",
     "output_type": "stream",
     "text": [
      "state : [ 0  0  0  0  2  2  0  0  0  0  7  0  0  0  0  0  0  0  0  0  0  0  0  0\n",
      "  0  1  4  2  4  4  4  0  0  1 11  0  0  0  0  3  0 10  0  0  0  0  0  1]\n",
      "Q_values : [ 0.56639296  0.5793751  -0.7468986   0.5749526 ]\n",
      "episode : 25\n",
      "Step #100.00 (0ms ?*RT. ?UPS, TraCI: 0ms, vehicles TOT 84 ACT 48 BUF 0)                    \n",
      " Retrying in 1 seconds\n"
     ]
    },
    {
     "name": "stderr",
     "output_type": "stream",
     "text": [
      "Warning: Environment variable SUMO_HOME is not set properly, disabling XML validation. Set 'auto' or 'always' for web lookups.\n"
     ]
    },
    {
     "name": "stdout",
     "output_type": "stream",
     "text": [
      "episode : 26\n",
      "Step #100.00 (0ms ?*RT. ?UPS, TraCI: 0ms, vehicles TOT 84 ACT 45 BUF 0)                    \n",
      " Retrying in 1 seconds\n"
     ]
    },
    {
     "name": "stderr",
     "output_type": "stream",
     "text": [
      "Warning: Environment variable SUMO_HOME is not set properly, disabling XML validation. Set 'auto' or 'always' for web lookups.\n"
     ]
    },
    {
     "name": "stdout",
     "output_type": "stream",
     "text": [
      "state : [0 2 0 0 2 1 0 2 0 0 3 1 0 0 0 0 0 0 0 0 0 0 0 0 1 2 3 2 2 1 6 2 0 1 7 1 2\n",
      " 0 1 2 0 3 2 0 1 2 0 2]\n",
      "Q_values : [-0.10465995  0.6197741  -0.3969926  -0.08399945]\n",
      "episode : 27\n",
      "Step #100.00 (1ms ~= 10.00*RT, ~46000.00UPS, TraCI: 0ms, vehicles TOT 84 ACT 46 BUF 0)     \n",
      " Retrying in 1 seconds\n"
     ]
    },
    {
     "name": "stderr",
     "output_type": "stream",
     "text": [
      "Warning: Environment variable SUMO_HOME is not set properly, disabling XML validation. Set 'auto' or 'always' for web lookups.\n"
     ]
    },
    {
     "name": "stdout",
     "output_type": "stream",
     "text": [
      "state : [ 0  0  3  0  3  0  0  0  0  0  8  0  0  0  0  0  0  0  0  0  0  0  0  0\n",
      "  0  0  7  0  4  0  4  0  0  0 12  0  2  0  2  4  0  5  0  0  3  0  0  1]\n",
      "Q_values : [ 0.8300604   0.95768875 -0.21402703  0.28669086]\n",
      "Interrupt signal received, trying to exit gracefully.s, vehicles TOT 64 ACT 48 BUF 8)     \n"
     ]
    },
    {
     "ename": "KeyboardInterrupt",
     "evalue": "",
     "output_type": "error",
     "traceback": [
      "\u001b[0;31m---------------------------------------------------------------------------\u001b[0m",
      "\u001b[0;31mKeyboardInterrupt\u001b[0m                         Traceback (most recent call last)",
      "Cell \u001b[0;32mIn[9], line 61\u001b[0m\n\u001b[1;32m     50\u001b[0m             training_step(batch_size)\n\u001b[1;32m     51\u001b[0m             \u001b[38;5;66;03m# new_weights = model_action.get_weights()\u001b[39;00m\n\u001b[1;32m     52\u001b[0m             \u001b[38;5;66;03m# weights.append(new_weights)\u001b[39;00m\n\u001b[1;32m     53\u001b[0m             \u001b[38;5;66;03m#print(f\"Episode {episode}: new weights = {new_weights}\")\u001b[39;00m\n\u001b[0;32m   (...)\u001b[0m\n\u001b[1;32m     57\u001b[0m         \u001b[38;5;66;03m# if list_values:\u001b[39;00m\n\u001b[1;32m     58\u001b[0m         \u001b[38;5;66;03m#    # print(f'list values {list_values[-1]}')\u001b[39;00m\n\u001b[0;32m---> 61\u001b[0m     \u001b[43mtraci\u001b[49m\u001b[38;5;241;43m.\u001b[39;49m\u001b[43msimulationStep\u001b[49m\u001b[43m(\u001b[49m\u001b[43m)\u001b[49m\n\u001b[1;32m     62\u001b[0m \u001b[38;5;28mprint\u001b[39m(\u001b[38;5;124mf\u001b[39m\u001b[38;5;124m'\u001b[39m\u001b[38;5;124mepisode : \u001b[39m\u001b[38;5;132;01m{\u001b[39;00mepisode\u001b[38;5;132;01m}\u001b[39;00m\u001b[38;5;124m'\u001b[39m)\n\u001b[1;32m     63\u001b[0m traci\u001b[38;5;241m.\u001b[39mclose()\n",
      "File \u001b[0;32m~/.pyenv/versions/3.10.6/envs/RL_traffic/lib/python3.10/site-packages/traci/main.py:198\u001b[0m, in \u001b[0;36msimulationStep\u001b[0;34m(step)\u001b[0m\n\u001b[1;32m    192\u001b[0m \u001b[38;5;28;01mdef\u001b[39;00m\u001b[38;5;250m \u001b[39m\u001b[38;5;21msimulationStep\u001b[39m(step\u001b[38;5;241m=\u001b[39m\u001b[38;5;241m0\u001b[39m):\n\u001b[1;32m    193\u001b[0m \u001b[38;5;250m    \u001b[39m\u001b[38;5;124;03m\"\"\"simulationStep(float) -> None\u001b[39;00m\n\u001b[1;32m    194\u001b[0m \u001b[38;5;124;03m    Make a simulation step and simulate up to the given second in sim time.\u001b[39;00m\n\u001b[1;32m    195\u001b[0m \u001b[38;5;124;03m    If the given value is 0 or absent, exactly one step is performed.\u001b[39;00m\n\u001b[1;32m    196\u001b[0m \u001b[38;5;124;03m    Values smaller than or equal to the current sim time result in no action.\u001b[39;00m\n\u001b[1;32m    197\u001b[0m \u001b[38;5;124;03m    \"\"\"\u001b[39;00m\n\u001b[0;32m--> 198\u001b[0m     \u001b[43mconnection\u001b[49m\u001b[38;5;241;43m.\u001b[39;49m\u001b[43mcheck\u001b[49m\u001b[43m(\u001b[49m\u001b[43m)\u001b[49m\u001b[38;5;241;43m.\u001b[39;49m\u001b[43msimulationStep\u001b[49m\u001b[43m(\u001b[49m\u001b[43mstep\u001b[49m\u001b[43m)\u001b[49m\n",
      "File \u001b[0;32m~/.pyenv/versions/3.10.6/envs/RL_traffic/lib/python3.10/site-packages/traci/connection.py:370\u001b[0m, in \u001b[0;36mConnection.simulationStep\u001b[0;34m(self, step)\u001b[0m\n\u001b[1;32m    368\u001b[0m \u001b[38;5;28;01mif\u001b[39;00m \u001b[38;5;28mtype\u001b[39m(step) \u001b[38;5;129;01mis\u001b[39;00m \u001b[38;5;28mint\u001b[39m \u001b[38;5;129;01mand\u001b[39;00m step \u001b[38;5;241m>\u001b[39m\u001b[38;5;241m=\u001b[39m \u001b[38;5;241m1000\u001b[39m:\n\u001b[1;32m    369\u001b[0m     warnings\u001b[38;5;241m.\u001b[39mwarn(\u001b[38;5;124m\"\u001b[39m\u001b[38;5;124mAPI change now handles step as floating point seconds\u001b[39m\u001b[38;5;124m\"\u001b[39m, stacklevel\u001b[38;5;241m=\u001b[39m\u001b[38;5;241m2\u001b[39m)\n\u001b[0;32m--> 370\u001b[0m result \u001b[38;5;241m=\u001b[39m \u001b[38;5;28;43mself\u001b[39;49m\u001b[38;5;241;43m.\u001b[39;49m\u001b[43m_sendCmd\u001b[49m\u001b[43m(\u001b[49m\u001b[43mtc\u001b[49m\u001b[38;5;241;43m.\u001b[39;49m\u001b[43mCMD_SIMSTEP\u001b[49m\u001b[43m,\u001b[49m\u001b[43m \u001b[49m\u001b[38;5;28;43;01mNone\u001b[39;49;00m\u001b[43m,\u001b[49m\u001b[43m \u001b[49m\u001b[38;5;28;43;01mNone\u001b[39;49;00m\u001b[43m,\u001b[49m\u001b[43m \u001b[49m\u001b[38;5;124;43m\"\u001b[39;49m\u001b[38;5;124;43mD\u001b[39;49m\u001b[38;5;124;43m\"\u001b[39;49m\u001b[43m,\u001b[49m\u001b[43m \u001b[49m\u001b[43mstep\u001b[49m\u001b[43m)\u001b[49m\n\u001b[1;32m    371\u001b[0m \u001b[38;5;28;01mfor\u001b[39;00m subscriptionResults \u001b[38;5;129;01min\u001b[39;00m \u001b[38;5;28mself\u001b[39m\u001b[38;5;241m.\u001b[39m_subscriptionMapping\u001b[38;5;241m.\u001b[39mvalues():\n\u001b[1;32m    372\u001b[0m     subscriptionResults\u001b[38;5;241m.\u001b[39mreset()\n",
      "File \u001b[0;32m~/.pyenv/versions/3.10.6/envs/RL_traffic/lib/python3.10/site-packages/traci/connection.py:232\u001b[0m, in \u001b[0;36mConnection._sendCmd\u001b[0;34m(self, cmdID, varID, objID, format, *values)\u001b[0m\n\u001b[1;32m    230\u001b[0m     \u001b[38;5;28mself\u001b[39m\u001b[38;5;241m.\u001b[39m_string \u001b[38;5;241m+\u001b[39m\u001b[38;5;241m=\u001b[39m struct\u001b[38;5;241m.\u001b[39mpack(\u001b[38;5;124m\"\u001b[39m\u001b[38;5;124m!i\u001b[39m\u001b[38;5;124m\"\u001b[39m, \u001b[38;5;28mlen\u001b[39m(objID)) \u001b[38;5;241m+\u001b[39m objID\n\u001b[1;32m    231\u001b[0m \u001b[38;5;28mself\u001b[39m\u001b[38;5;241m.\u001b[39m_string \u001b[38;5;241m+\u001b[39m\u001b[38;5;241m=\u001b[39m packed\n\u001b[0;32m--> 232\u001b[0m \u001b[38;5;28;01mreturn\u001b[39;00m \u001b[38;5;28;43mself\u001b[39;49m\u001b[38;5;241;43m.\u001b[39;49m\u001b[43m_sendExact\u001b[49m\u001b[43m(\u001b[49m\u001b[43m)\u001b[49m\n",
      "File \u001b[0;32m~/.pyenv/versions/3.10.6/envs/RL_traffic/lib/python3.10/site-packages/traci/connection.py:131\u001b[0m, in \u001b[0;36mConnection._sendExact\u001b[0;34m(self)\u001b[0m\n\u001b[1;32m    129\u001b[0m     \u001b[38;5;28mprint\u001b[39m(\u001b[38;5;124m\"\u001b[39m\u001b[38;5;124msending\u001b[39m\u001b[38;5;124m\"\u001b[39m, Storage(length \u001b[38;5;241m+\u001b[39m \u001b[38;5;28mself\u001b[39m\u001b[38;5;241m.\u001b[39m_string)\u001b[38;5;241m.\u001b[39mgetDebugString())\n\u001b[1;32m    130\u001b[0m \u001b[38;5;28mself\u001b[39m\u001b[38;5;241m.\u001b[39m_socket\u001b[38;5;241m.\u001b[39msend(length \u001b[38;5;241m+\u001b[39m \u001b[38;5;28mself\u001b[39m\u001b[38;5;241m.\u001b[39m_string)\n\u001b[0;32m--> 131\u001b[0m result \u001b[38;5;241m=\u001b[39m \u001b[38;5;28;43mself\u001b[39;49m\u001b[38;5;241;43m.\u001b[39;49m\u001b[43m_recvExact\u001b[49m\u001b[43m(\u001b[49m\u001b[43m)\u001b[49m\n\u001b[1;32m    132\u001b[0m \u001b[38;5;28;01mif\u001b[39;00m _DEBUG:\n\u001b[1;32m    133\u001b[0m     \u001b[38;5;28mprint\u001b[39m(\u001b[38;5;124m\"\u001b[39m\u001b[38;5;124mreceiving\u001b[39m\u001b[38;5;124m\"\u001b[39m, result\u001b[38;5;241m.\u001b[39mgetDebugString())\n",
      "File \u001b[0;32m~/.pyenv/versions/3.10.6/envs/RL_traffic/lib/python3.10/site-packages/traci/connection.py:109\u001b[0m, in \u001b[0;36mConnection._recvExact\u001b[0;34m(self)\u001b[0m\n\u001b[1;32m    107\u001b[0m result \u001b[38;5;241m=\u001b[39m \u001b[38;5;28mbytes\u001b[39m()\n\u001b[1;32m    108\u001b[0m \u001b[38;5;28;01mwhile\u001b[39;00m \u001b[38;5;28mlen\u001b[39m(result) \u001b[38;5;241m<\u001b[39m \u001b[38;5;241m4\u001b[39m:\n\u001b[0;32m--> 109\u001b[0m     t \u001b[38;5;241m=\u001b[39m \u001b[38;5;28;43mself\u001b[39;49m\u001b[38;5;241;43m.\u001b[39;49m\u001b[43m_socket\u001b[49m\u001b[38;5;241;43m.\u001b[39;49m\u001b[43mrecv\u001b[49m\u001b[43m(\u001b[49m\u001b[38;5;241;43m4\u001b[39;49m\u001b[43m \u001b[49m\u001b[38;5;241;43m-\u001b[39;49m\u001b[43m \u001b[49m\u001b[38;5;28;43mlen\u001b[39;49m\u001b[43m(\u001b[49m\u001b[43mresult\u001b[49m\u001b[43m)\u001b[49m\u001b[43m)\u001b[49m\n\u001b[1;32m    110\u001b[0m     \u001b[38;5;28;01mif\u001b[39;00m \u001b[38;5;129;01mnot\u001b[39;00m t:\n\u001b[1;32m    111\u001b[0m         \u001b[38;5;28;01mreturn\u001b[39;00m \u001b[38;5;28;01mNone\u001b[39;00m\n",
      "\u001b[0;31mKeyboardInterrupt\u001b[0m: "
     ]
    }
   ],
   "source": [
    "rewards = []\n",
    "best_score = 0\n",
    "reward = 0\n",
    "total_reward = 0\n",
    "list_values = []\n",
    "weights = []\n",
    "wait_times = []\n",
    "replay_buffer = deque(maxlen=10000)\n",
    "\n",
    "\n",
    "sumoCmd = [sumo_bin, \"-c\", simulConfig, \"--start\"]\n",
    "sumoCmd = [sumo_bin, \"-c\", simulConfig, \"--start\", \"--no-warnings\"]\n",
    "\n",
    "for episode in range(300):\n",
    "    if traci.isLoaded():\n",
    "        traci.close()\n",
    "    traci.start(sumoCmd)\n",
    "    lane_ids =  traci.lane.getIDList()\n",
    "    # print(lane_ids[0])\n",
    "\n",
    "    trafic_light_ids = traci.trafficlight.getIDList()\n",
    "\n",
    "    # state = np.array(queue(lane_ids))\n",
    "    state=np.array(get_state(lane_ids))\n",
    "    action=-1\n",
    "    # print(state)\n",
    "    wait_times.append(0)\n",
    "    for step in range(10000): ## TO CHANGED\n",
    "        epsilon = max(1 - episode / 300, 0.01)\n",
    "\n",
    "        if step%1000 == 0:\n",
    "            #print(f\"longeur du buffer :{len(replay_buffer)}\")\n",
    "            ########################################################################\n",
    "            ##Calcul de la reward\n",
    "            # next_state = np.array(queue(lane_ids))\n",
    "            next_state = np.array(get_state(lane_ids))\n",
    "            # reward = calculate_reward(values, reward, total_reward)[0]\n",
    "            # reward=(np.sum(state)-np.sum(next_state))\n",
    "            reward = np.sum(state[:24])- np.sum(next_state[:24])\n",
    "            replay_buffer.append((state, action, reward, next_state))\n",
    "\n",
    "            list_values.append(queue(lane_ids))\n",
    "            #########################################################################\n",
    "            state=next_state\n",
    "            action = epsilon_greedy_policy(state, epsilon)\n",
    "            #print(\"action\", action)\n",
    "            traci.trafficlight.setPhase(trafic_light_ids[0],2*action)\n",
    "\n",
    "            if len(replay_buffer) >= batch_size*10:\n",
    "                training_step(batch_size)\n",
    "                # new_weights = model_action.get_weights()\n",
    "                # weights.append(new_weights)\n",
    "                #print(f\"Episode {episode}: new weights = {new_weights}\")\n",
    "            # else:\n",
    "            #     print(f\"Episode {episode}: pas assez de données dans le replay buffer.\")\n",
    "            # print(values)\n",
    "            # if list_values:\n",
    "            #    # print(f'list values {list_values[-1]}')\n",
    "\n",
    "\n",
    "        traci.simulationStep()\n",
    "    print(f'episode : {episode}')\n",
    "    traci.close()\n"
   ]
  },
  {
   "cell_type": "code",
   "execution_count": 12,
   "metadata": {},
   "outputs": [
    {
     "name": "stdout",
     "output_type": "stream",
     "text": [
      " Retrying in 1 seconds\n",
      "state : [0 0 0 0 0 0 0 0 0 0 0 0 0 0 0 0 0 0 0 0 0 0 0 0 0 0 0 0 0 0 0 0 0 0 0 0 0\n",
      " 0 0 0 0 0 0 0 0 0 0 0]\n",
      "Q_values : [0. 0. 0. 0.]\n",
      "action 0\n",
      "state : [0 0 0 0 0 0 0 0 0 0 0 0 0 0 0 0 0 0 0 0 0 0 0 0 3 1 0 3 1 0 3 1 0 3 1 0 0\n",
      " 0 0 0 0 0 0 0 0 0 0 0]\n",
      "Q_values : [-0.40326726  0.91583157  0.9705516   0.06993382]\n",
      "action 4\n",
      "state : [0 0 0 0 0 0 0 0 0 0 0 0 0 0 0 0 0 0 0 0 0 0 0 0 3 2 1 3 2 1 3 2 1 3 2 1 0\n",
      " 0 0 0 0 0 0 0 0 0 0 0]\n",
      "Q_values : [-0.6157905   0.77695376  0.8243077   0.32392374]\n",
      "action 4\n",
      "state : [0 0 0 0 0 0 0 0 0 0 0 0 0 0 0 0 0 0 0 0 0 0 0 0 3 3 2 2 3 1 4 3 1 3 4 1 0\n",
      " 0 0 0 0 0 0 0 0 0 0 0]\n",
      "Q_values : [-0.85071224  0.6993439   0.6738202   0.74666685]\n",
      "action 6\n",
      "state : [0 0 0 0 0 0 0 0 0 0 0 0 0 0 0 0 0 0 0 0 0 0 0 0 2 3 3 2 2 2 4 2 2 3 3 2 0\n",
      " 0 0 0 0 0 0 0 0 0 0 0]\n",
      "Q_values : [-0.50390565  0.33347192  0.25533578  0.990328  ]\n",
      "action 6\n",
      "state : [0 0 0 0 0 0 0 0 0 0 0 0 0 0 0 0 0 0 0 0 0 0 0 0 3 2 4 2 2 2 5 2 2 3 4 2 0\n",
      " 0 0 0 0 0 0 0 0 0 0 0]\n",
      "Q_values : [-0.88748395  0.2333759   0.45698527  1.1342814 ]\n",
      "action 6\n",
      "state : [0 1 0 0 0 0 0 1 0 0 1 0 0 0 0 0 0 0 0 0 0 0 0 0 0 3 5 0 2 1 4 2 2 1 5 1 1\n",
      " 0 0 1 0 0 1 0 0 1 0 0]\n",
      "Q_values : [-0.60806936  0.28344578 -0.48729455  0.31888542]\n",
      "action 6\n",
      "state : [0 1 1 0 1 0 0 1 1 0 1 0 0 0 0 0 0 0 0 0 0 0 0 0 0 2 6 0 2 0 4 2 2 0 6 0 2\n",
      " 0 1 2 0 0 2 0 2 2 0 0]\n",
      "Q_values : [-0.33590156  0.6526303  -0.74443877 -0.32320318]\n",
      "action 2\n",
      "state : [0 2 0 0 2 0 0 2 0 0 3 0 0 0 0 0 0 0 0 0 0 0 0 0 1 2 4 2 2 0 6 2 0 1 7 0 2\n",
      " 0 2 2 0 1 2 0 2 2 0 1]\n",
      "Q_values : [-0.26374465  0.6160628  -0.04712449  0.1108406 ]\n",
      "action 2\n",
      "state : [0 2 0 0 2 0 0 2 0 0 4 0 0 0 0 0 0 0 0 0 0 0 0 0 0 3 3 3 4 1 4 2 0 1 7 0 2\n",
      " 0 2 4 0 4 2 0 1 2 0 2]\n",
      "Q_values : [ 0.6645561   0.86385685 -0.9076524  -0.29318884]\n",
      "action 2\n",
      "state : [0 2 0 0 2 0 0 2 0 0 5 0 0 0 0 0 0 0 0 0 0 0 0 0 1 2 3 2 5 1 5 2 0 1 8 0 1\n",
      " 0 1 3 0 5 2 0 1 2 0 2]\n",
      "Q_values : [ 0.5666068   0.8902045  -0.8238599  -0.18224666]\n",
      "action 2\n",
      "state : [0 2 0 0 2 0 0 2 0 0 5 0 0 0 0 0 0 0 0 0 0 0 0 0 0 3 3 2 4 2 4 2 0 1 9 0 0\n",
      " 0 1 3 0 6 0 0 0 0 0 1]\n",
      "Q_values : [ 0.50566393  0.53924066 -0.50685304  0.6283469 ]\n",
      "action 6\n",
      "state : [ 0  2  0  0  2  0  0  2  0  0  6  0  0  0  0  0  0  0  0  0  0  0  0  0\n",
      "  0  2  4  2  4  2  4  2  0  0 10  0  0  0  0  4  0  5  0  0  0  0  0  1]\n",
      "Q_values : [ 0.94041103  0.93522465 -0.4091329   0.2983439 ]\n",
      "action 0\n",
      "state : [ 0  0  1  0  3  0  0  0  0  0  7  0  0  0  0  0  0  0  0  0  0  0  0  0\n",
      "  1  0  5  1  4  2  5  0  0  1 11  0  1  1  0  3  0  3  0  1  0  0  0  0]\n",
      "Q_values : [ 1.0878557   1.0467981  -0.22830383  0.11912248]\n",
      "action 0\n",
      "state : [ 0  0  2  0  3  1  0  0  0  0  8  0  0  0  0  0  0  0  0  0  0  0  0  0\n",
      "  0  1  5  0  4  2  4  0  0  0 12  0  2  2  0  4  0  1  0  2  0  0  0  0]\n",
      "Q_values : [ 1.2819638   1.031883   -0.09252138 -0.13418661]\n",
      "action 0\n",
      "state : [ 0  0  3  0  4  2  0  0  0  0  9  0  0  0  0  0  0  0  0  0  0  0  0  0\n",
      "  1  0  7  2  4  2  5  0  0  1 13  0  1  2  1  4  0  0  0  2  0  0  0  0]\n",
      "Q_values : [ 1.3412338   1.420716    0.03132081 -0.40183574]\n",
      "action 2\n",
      "state : [ 0  0  0  0  4  2  0  0  0  0 10  0  0  0  0  0  0  0  0  0  0  0  0  0\n",
      "  0  1  4  4  5  2  4  0  0  1 13  0  1  1  1  4  0  1  0  1  0  0  0  0]\n",
      "Q_values : [1.7855719  1.7417148  0.24696977 0.01810696]\n",
      "action 0\n",
      "state : [ 0  0  1  0  4  2  0  0  0  0 11  0  0  0  0  0  0  0  0  0  0  0  0  0\n",
      "  1  0  5  2  7  3  5  0  0  1 14  0  1  1  1  4  0  3  0  1  0  0  0  0]\n",
      "Q_values : [2.3593364  1.7258217  0.086886   0.12899044]\n",
      "action 0\n",
      "state : [ 0  0  2  0  4  2  0  0  0  0 11  0  0  0  0  0  0  0  0  0  0  0  0  0\n",
      "  0  1  6  2  6  4  4  0  0  1 15  0  0  0  0  3  0  3  0  0  0  0  0  0]\n",
      "Q_values : [2.234531   1.4276547  0.30960464 0.3553836 ]\n",
      "action 0\n",
      "state : [ 0  0  3  0  4  2  0  0  0  0 12  0  0  0  0  0  0  0  0  0  0  0  0  0\n",
      "  0  0  7  2  6  4  4  0  0  0 16  0  0  0  0  4  0  2  0  0  0  0  0  0]\n",
      "Q_values : [2.440754  1.7357603 0.6306872 0.2475266]\n",
      "action 0\n"
     ]
    }
   ],
   "source": [
    "rewards = []\n",
    "best_score = 0\n",
    "reward = 0\n",
    "total_reward = 0\n",
    "list_values = []\n",
    "weights = []\n",
    "wait_times = []\n",
    "# replay_buffer = deque(maxlen=2000)\n",
    "\n",
    "\n",
    "sumoCmd = [sumo_gui_bin, \"-c\", simulConfig, \"--start\"]\n",
    "\n",
    "if traci.isLoaded():\n",
    "    traci.close()\n",
    "traci.start(sumoCmd)\n",
    "lane_ids =  traci.lane.getIDList()\n",
    "# print(lane_ids[0])\n",
    "# for lane in lane_ids:\n",
    "#     print(traci.lane.getLastStepVehicleNumber(lane))\n",
    "# north_lane = traci.lane.getLastStepVehicleNumber(\"N_0\")\n",
    "# south_lane = traci.lane.getLastStepVehicleNumber(\"S_0\")\n",
    "# east_lane = traci.lane.getLastStepVehicleNumber(\"E_0\")\n",
    "# west_lane = traci.lane.getLastStepVehicleNumber(\"W_0\")\n",
    "trafic_light_ids = traci.trafficlight.getIDList()\n",
    "\n",
    "state = np.array(get_state(lane_ids))\n",
    "action=-1\n",
    "# print(state)\n",
    "wait_times.append(0)\n",
    "for step in range(10000): ## TO CHANGED\n",
    "    #epsilon = max(1 - episode / 10, 0.01)\n",
    "    nom_du_feu= traci.trafficlight.getIDList()[0]\n",
    "\n",
    "    if step%500 == 0:\n",
    "        state=np.array(get_state(lane_ids))\n",
    "        action = epsilon_greedy_policy(state,0)*2\n",
    "        # action = np.random.randint(8)\n",
    "        print(\"action\", action)\n",
    "        #print(traci.trafficlight.getAllProgramLogics(nom_du_feu))\n",
    "        #print(traci.trafficlight.getAllProgramLogics(nom_du_feu)[0].phases[action])\n",
    "        traci.trafficlight.setPhase(trafic_light_ids[0],action)\n",
    "    traci.simulationStep()\n",
    "\n",
    "traci.close()\n"
   ]
  }
 ],
 "metadata": {
  "kernelspec": {
   "display_name": "RL_traffic",
   "language": "python",
   "name": "python3"
  },
  "language_info": {
   "codemirror_mode": {
    "name": "ipython",
    "version": 3
   },
   "file_extension": ".py",
   "mimetype": "text/x-python",
   "name": "python",
   "nbconvert_exporter": "python",
   "pygments_lexer": "ipython3",
   "version": "3.10.6"
  }
 },
 "nbformat": 4,
 "nbformat_minor": 2
}
