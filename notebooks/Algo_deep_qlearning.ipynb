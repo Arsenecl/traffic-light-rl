{
 "cells": [
  {
   "cell_type": "code",
   "execution_count": 1,
   "metadata": {},
   "outputs": [],
   "source": [
    "%load_ext autoreload\n",
    "%autoreload 2"
   ]
  },
  {
   "cell_type": "code",
   "execution_count": 2,
   "metadata": {},
   "outputs": [],
   "source": [
    "from state import get_state, queue\n",
    "from basic.reward_basic import calculate_reward\n",
    "from basic.learner_basic import Learner\n",
    "from traffic_lights_maps import get_traffic_light_phases, make_map\n",
    "import os\n",
    "import sys\n",
    "\n",
    "import traci\n",
    "import random\n",
    "import gym\n",
    "from gym import spaces"
   ]
  },
  {
   "cell_type": "code",
   "execution_count": 3,
   "metadata": {},
   "outputs": [],
   "source": [
    "from tensorflow.keras import Sequential, layers\n",
    "from tensorflow.random import set_seed\n",
    "import numpy as np\n",
    "from collections import deque\n",
    "from tensorflow import keras\n",
    "from tensorflow import reduce_sum, reduce_mean, one_hot, GradientTape\n",
    "from tensorflow.keras.losses import MeanSquaredError\n",
    "import matplotlib.pyplot as plt"
   ]
  },
  {
   "cell_type": "code",
   "execution_count": 4,
   "metadata": {},
   "outputs": [
    {
     "name": "stderr",
     "output_type": "stream",
     "text": [
      "/Users/pr/.pyenv/versions/3.10.6/envs/sumo_env/lib/python3.10/site-packages/keras/src/layers/core/dense.py:87: UserWarning: Do not pass an `input_shape`/`input_dim` argument to a layer. When using Sequential models, prefer using an `Input(shape)` object as the first layer in the model instead.\n",
      "  super().__init__(activity_regularizer=activity_regularizer, **kwargs)\n"
     ]
    }
   ],
   "source": [
    "set_seed(42)  # extra code – ensures reproducibility on the CPU\n",
    "\n",
    "input_shape = [36]  # == env.observation_space.shape\n",
    "n_outputs = 4  # == env.action_space.n\n",
    "#[((Phase(duration=30.0, state='GGrGrrGGrGrr', minDur=30.0, maxDur=30.0), Phase(duration=20.0, state='grGgrrgrGgrr', minDur=20.0, maxDur=20.0), Phase(duration=30.0, state='GrrGGrGrrGGr', minDur=30.0, maxDur=30.0), Phase(duration=20.0, state='grrgrGgrrgrG', minDur=20.0, maxDur=20.0)), [0, 2, 4, 6])]\n",
    "model_action = Sequential([\n",
    "    layers.Dense(32, activation=\"elu\", input_shape=input_shape),\n",
    "    layers.Dense(32, activation=\"elu\"),\n",
    "    # layers.Dense(2, activation=\"elu\"),\n",
    "    layers.Dense(n_outputs)])"
   ]
  },
  {
   "cell_type": "code",
   "execution_count": null,
   "metadata": {},
   "outputs": [],
   "source": [
    "def epsilon_greedy_policy(state, epsilon=0):\n",
    "    if np.random.rand() < epsilon:\n",
    "        return np.random.randint(n_outputs)  # random action\n",
    "    else:\n",
    "        Q_values = model_action.predict(state[np.newaxis], verbose=0)[0]\n",
    "        return Q_values.argmax()  # optimal action according to the DQN"
   ]
  },
  {
   "cell_type": "code",
   "execution_count": 6,
   "metadata": {},
   "outputs": [],
   "source": [
    "def sample_experiences(batch_size):\n",
    "    indices = np.random.randint(len(replay_buffer), size=batch_size)\n",
    "    batch = [replay_buffer[index] for index in indices]\n",
    "    states, actions, rewards, next_states = [\n",
    "        np.array([experience[field_index] for experience in batch])\n",
    "        for field_index in range(4)\n",
    "    ]\n",
    "    return states, actions, rewards, next_states"
   ]
  },
  {
   "cell_type": "code",
   "execution_count": 7,
   "metadata": {},
   "outputs": [],
   "source": [
    "batch_size = 32\n",
    "discount_factor = 0.5\n",
    "optimizer = keras.optimizers.Nadam(learning_rate=1e-1)\n",
    "loss_fn = MeanSquaredError()\n",
    "\n",
    "def training_step(batch_size):\n",
    "    experiences = sample_experiences(batch_size)\n",
    "    states, actions, rewards, next_states = experiences  # a changer\n",
    "    next_Q_values = model_action.predict(next_states, verbose=0)\n",
    "    max_next_Q_values = next_Q_values.max(axis=1)\n",
    "    # runs = 1.0 - (dones | truncateds)  # episode is not done or truncated\n",
    "    target_Q_values = rewards + discount_factor * max_next_Q_values\n",
    "    target_Q_values = target_Q_values.reshape(-1, 1)\n",
    "    mask = one_hot(actions, n_outputs)\n",
    "    with GradientTape() as tape:\n",
    "        all_Q_values = model_action(states)\n",
    "        Q_values = reduce_sum(all_Q_values * mask, axis=1, keepdims=True)\n",
    "        loss = reduce_mean(loss_fn(target_Q_values, Q_values))\n",
    "\n",
    "    grads = tape.gradient(loss, model_action.trainable_variables)\n",
    "    optimizer.apply_gradients(zip(grads, model_action.trainable_variables))"
   ]
  },
  {
   "cell_type": "code",
   "execution_count": null,
   "metadata": {},
   "outputs": [],
   "source": [
    "import traci\n",
    "\n",
    "class SimulationSUMO:\n",
    "    def __init__(self, sumoCmd,frame):\n",
    "        self.frame=frame\n",
    "        if traci.isLoaded():\n",
    "            traci.close()\n",
    "        traci.start(sumoCmd)  # Start SUMO once\n",
    "        self.lanes_ids = traci.lane.getIDList()\n",
    "        self.trafficlights_ids = traci.trafficlight.getIDList()\n",
    "\n",
    "\n",
    "    def queue(self,lane_ids):\n",
    "        return [traci.lane.getLastStepHaltingNumber(lane_id) for lane_id in lane_ids]\n",
    "\n",
    "    def get_lane_no_intersection(self,lane_ids=None):\n",
    "        if not lane_ids:\n",
    "            lane_ids=self.lanes_ids\n",
    "        return [lane_id for lane_id in lane_ids if lane_id.startswith(':')]\n",
    "\n",
    "\n",
    "    def get_state(self,lane_ids):\n",
    "        return [traci.lane.getLastStepHaltingNumber(lane_id) for i,lane_id in enumerate(lane_ids) ]+\\\n",
    "        [traci.lane.getLastStepVehicleNumber(lane_id) for i,lane_id in enumerate(lane_ids)]\n",
    "\n",
    "    def step(self,action):\n",
    "        ###CODER UN STEP qui prend une action en argument\n",
    "        #utiliser un modele, renvoyer next state: array, reward:int, done :\n",
    "\n",
    "        state = np.array(self.queue(self.get_lane()))\n",
    "        traci.trafficlight.setPhase(self.get_trafficlight_id()[0],2*action)\n",
    "        for _ in range(self.frame):\n",
    "            traci.simulationStep()\n",
    "        next_state = np.array(self.queue(self.get_lane()))\n",
    "        reward = sum(next_state)-sum(state)\n",
    "        return next_state,reward\n",
    "\n",
    "\n",
    "\n",
    "    def close(self):\n",
    "        traci.close()  # Properly close SUMO\n",
    "        os.system(\"pkill -f sumo\")\n",
    "\n",
    "# Example usage\n",
    "# sumoCmd = [sumoBinary2, \"-c\", sumoConfig3, \"--start\"]\n",
    "# simulation = SimulationSUMO(sumoCmd)\n",
    "\n",
    "# for _ in range(10000):  # Run 100 steps\n",
    "#     simulation.step()\n",
    "#     print(simulation.get_state())  # Print vehicle IDs\n",
    "\n",
    "# simulation.close()  # Close SUMO properly"
   ]
  },
  {
   "cell_type": "code",
   "execution_count": 10,
   "metadata": {},
   "outputs": [
    {
     "name": "stdout",
     "output_type": "stream",
     "text": [
      "episode : 0\n",
      " Retrying in 1 seconds\n",
      "Could not connect to TraCI server at localhost:50854 [Errno 61] Connection refused\n",
      " Retrying in 1 seconds\n",
      "Could not connect to TraCI server at localhost:50854 [Errno 61] Connection refused\n",
      " Retrying in 1 seconds\n",
      "Could not connect to TraCI server at localhost:50854 [Errno 61] Connection refused\n",
      " Retrying in 1 seconds\n",
      "Could not connect to TraCI server at localhost:50854 [Errno 61] Connection refused\n",
      " Retrying in 1 seconds\n",
      "Could not connect to TraCI server at localhost:50854 [Errno 61] Connection refused\n",
      " Retrying in 1 seconds\n",
      "episode : 1\n",
      " Retrying in 1 seconds\n"
     ]
    },
    {
     "ename": "FatalTraCIError",
     "evalue": "Connection closed by SUMO.",
     "output_type": "error",
     "traceback": [
      "\u001b[0;31m---------------------------------------------------------------------------\u001b[0m",
      "\u001b[0;31mFatalTraCIError\u001b[0m                           Traceback (most recent call last)",
      "Cell \u001b[0;32mIn[10], line 35\u001b[0m\n\u001b[1;32m     33\u001b[0m \u001b[38;5;28;01mfor\u001b[39;00m _ \u001b[38;5;129;01min\u001b[39;00m \u001b[38;5;28mrange\u001b[39m(\u001b[38;5;241m20\u001b[39m): \u001b[38;5;66;03m## TO CHANGED\u001b[39;00m\n\u001b[1;32m     34\u001b[0m     action \u001b[38;5;241m=\u001b[39m epsilon_greedy_policy(state, epsilon)\n\u001b[0;32m---> 35\u001b[0m     next_state,reward \u001b[38;5;241m=\u001b[39m \u001b[43msimulation\u001b[49m\u001b[38;5;241;43m.\u001b[39;49m\u001b[43mstep\u001b[49m\u001b[43m(\u001b[49m\u001b[43maction\u001b[49m\u001b[43m)\u001b[49m\n\u001b[1;32m     36\u001b[0m     replay_buffer\u001b[38;5;241m.\u001b[39mappend((state, action, reward, next_state))\n\u001b[1;32m     37\u001b[0m     state \u001b[38;5;241m=\u001b[39m next_state\n",
      "Cell \u001b[0;32mIn[8], line 17\u001b[0m, in \u001b[0;36mSimulationSUMO.step\u001b[0;34m(self, action)\u001b[0m\n\u001b[1;32m     15\u001b[0m traci\u001b[38;5;241m.\u001b[39mtrafficlight\u001b[38;5;241m.\u001b[39msetPhase(\u001b[38;5;28mself\u001b[39m\u001b[38;5;241m.\u001b[39mget_trafficlight_id()[\u001b[38;5;241m0\u001b[39m],\u001b[38;5;241m2\u001b[39m\u001b[38;5;241m*\u001b[39maction)\n\u001b[1;32m     16\u001b[0m \u001b[38;5;28;01mfor\u001b[39;00m _ \u001b[38;5;129;01min\u001b[39;00m \u001b[38;5;28mrange\u001b[39m(\u001b[38;5;28mself\u001b[39m\u001b[38;5;241m.\u001b[39mframe):\n\u001b[0;32m---> 17\u001b[0m     \u001b[43mtraci\u001b[49m\u001b[38;5;241;43m.\u001b[39;49m\u001b[43msimulationStep\u001b[49m\u001b[43m(\u001b[49m\u001b[43m)\u001b[49m\n\u001b[1;32m     18\u001b[0m next_state \u001b[38;5;241m=\u001b[39m np\u001b[38;5;241m.\u001b[39marray(\u001b[38;5;28mself\u001b[39m\u001b[38;5;241m.\u001b[39mqueue(\u001b[38;5;28mself\u001b[39m\u001b[38;5;241m.\u001b[39mget_lane()))\n\u001b[1;32m     19\u001b[0m reward \u001b[38;5;241m=\u001b[39m \u001b[38;5;28msum\u001b[39m(next_state)\u001b[38;5;241m-\u001b[39m\u001b[38;5;28msum\u001b[39m(state)\n",
      "File \u001b[0;32m~/.pyenv/versions/3.10.6/envs/sumo_env/lib/python3.10/site-packages/traci/main.py:198\u001b[0m, in \u001b[0;36msimulationStep\u001b[0;34m(step)\u001b[0m\n\u001b[1;32m    192\u001b[0m \u001b[38;5;28;01mdef\u001b[39;00m\u001b[38;5;250m \u001b[39m\u001b[38;5;21msimulationStep\u001b[39m(step\u001b[38;5;241m=\u001b[39m\u001b[38;5;241m0\u001b[39m):\n\u001b[1;32m    193\u001b[0m \u001b[38;5;250m    \u001b[39m\u001b[38;5;124;03m\"\"\"simulationStep(float) -> None\u001b[39;00m\n\u001b[1;32m    194\u001b[0m \u001b[38;5;124;03m    Make a simulation step and simulate up to the given second in sim time.\u001b[39;00m\n\u001b[1;32m    195\u001b[0m \u001b[38;5;124;03m    If the given value is 0 or absent, exactly one step is performed.\u001b[39;00m\n\u001b[1;32m    196\u001b[0m \u001b[38;5;124;03m    Values smaller than or equal to the current sim time result in no action.\u001b[39;00m\n\u001b[1;32m    197\u001b[0m \u001b[38;5;124;03m    \"\"\"\u001b[39;00m\n\u001b[0;32m--> 198\u001b[0m     \u001b[43mconnection\u001b[49m\u001b[38;5;241;43m.\u001b[39;49m\u001b[43mcheck\u001b[49m\u001b[43m(\u001b[49m\u001b[43m)\u001b[49m\u001b[38;5;241;43m.\u001b[39;49m\u001b[43msimulationStep\u001b[49m\u001b[43m(\u001b[49m\u001b[43mstep\u001b[49m\u001b[43m)\u001b[49m\n",
      "File \u001b[0;32m~/.pyenv/versions/3.10.6/envs/sumo_env/lib/python3.10/site-packages/traci/connection.py:370\u001b[0m, in \u001b[0;36mConnection.simulationStep\u001b[0;34m(self, step)\u001b[0m\n\u001b[1;32m    368\u001b[0m \u001b[38;5;28;01mif\u001b[39;00m \u001b[38;5;28mtype\u001b[39m(step) \u001b[38;5;129;01mis\u001b[39;00m \u001b[38;5;28mint\u001b[39m \u001b[38;5;129;01mand\u001b[39;00m step \u001b[38;5;241m>\u001b[39m\u001b[38;5;241m=\u001b[39m \u001b[38;5;241m1000\u001b[39m:\n\u001b[1;32m    369\u001b[0m     warnings\u001b[38;5;241m.\u001b[39mwarn(\u001b[38;5;124m\"\u001b[39m\u001b[38;5;124mAPI change now handles step as floating point seconds\u001b[39m\u001b[38;5;124m\"\u001b[39m, stacklevel\u001b[38;5;241m=\u001b[39m\u001b[38;5;241m2\u001b[39m)\n\u001b[0;32m--> 370\u001b[0m result \u001b[38;5;241m=\u001b[39m \u001b[38;5;28;43mself\u001b[39;49m\u001b[38;5;241;43m.\u001b[39;49m\u001b[43m_sendCmd\u001b[49m\u001b[43m(\u001b[49m\u001b[43mtc\u001b[49m\u001b[38;5;241;43m.\u001b[39;49m\u001b[43mCMD_SIMSTEP\u001b[49m\u001b[43m,\u001b[49m\u001b[43m \u001b[49m\u001b[38;5;28;43;01mNone\u001b[39;49;00m\u001b[43m,\u001b[49m\u001b[43m \u001b[49m\u001b[38;5;28;43;01mNone\u001b[39;49;00m\u001b[43m,\u001b[49m\u001b[43m \u001b[49m\u001b[38;5;124;43m\"\u001b[39;49m\u001b[38;5;124;43mD\u001b[39;49m\u001b[38;5;124;43m\"\u001b[39;49m\u001b[43m,\u001b[49m\u001b[43m \u001b[49m\u001b[43mstep\u001b[49m\u001b[43m)\u001b[49m\n\u001b[1;32m    371\u001b[0m \u001b[38;5;28;01mfor\u001b[39;00m subscriptionResults \u001b[38;5;129;01min\u001b[39;00m \u001b[38;5;28mself\u001b[39m\u001b[38;5;241m.\u001b[39m_subscriptionMapping\u001b[38;5;241m.\u001b[39mvalues():\n\u001b[1;32m    372\u001b[0m     subscriptionResults\u001b[38;5;241m.\u001b[39mreset()\n",
      "File \u001b[0;32m~/.pyenv/versions/3.10.6/envs/sumo_env/lib/python3.10/site-packages/traci/connection.py:232\u001b[0m, in \u001b[0;36mConnection._sendCmd\u001b[0;34m(self, cmdID, varID, objID, format, *values)\u001b[0m\n\u001b[1;32m    230\u001b[0m     \u001b[38;5;28mself\u001b[39m\u001b[38;5;241m.\u001b[39m_string \u001b[38;5;241m+\u001b[39m\u001b[38;5;241m=\u001b[39m struct\u001b[38;5;241m.\u001b[39mpack(\u001b[38;5;124m\"\u001b[39m\u001b[38;5;124m!i\u001b[39m\u001b[38;5;124m\"\u001b[39m, \u001b[38;5;28mlen\u001b[39m(objID)) \u001b[38;5;241m+\u001b[39m objID\n\u001b[1;32m    231\u001b[0m \u001b[38;5;28mself\u001b[39m\u001b[38;5;241m.\u001b[39m_string \u001b[38;5;241m+\u001b[39m\u001b[38;5;241m=\u001b[39m packed\n\u001b[0;32m--> 232\u001b[0m \u001b[38;5;28;01mreturn\u001b[39;00m \u001b[38;5;28;43mself\u001b[39;49m\u001b[38;5;241;43m.\u001b[39;49m\u001b[43m_sendExact\u001b[49m\u001b[43m(\u001b[49m\u001b[43m)\u001b[49m\n",
      "File \u001b[0;32m~/.pyenv/versions/3.10.6/envs/sumo_env/lib/python3.10/site-packages/traci/connection.py:137\u001b[0m, in \u001b[0;36mConnection._sendExact\u001b[0;34m(self)\u001b[0m\n\u001b[1;32m    135\u001b[0m     \u001b[38;5;28mself\u001b[39m\u001b[38;5;241m.\u001b[39m_socket\u001b[38;5;241m.\u001b[39mclose()\n\u001b[1;32m    136\u001b[0m     \u001b[38;5;28mself\u001b[39m\u001b[38;5;241m.\u001b[39m_socket \u001b[38;5;241m=\u001b[39m \u001b[38;5;28;01mNone\u001b[39;00m\n\u001b[0;32m--> 137\u001b[0m     \u001b[38;5;28;01mraise\u001b[39;00m FatalTraCIError(\u001b[38;5;124m\"\u001b[39m\u001b[38;5;124mConnection closed by SUMO.\u001b[39m\u001b[38;5;124m\"\u001b[39m)\n\u001b[1;32m    138\u001b[0m \u001b[38;5;28;01mfor\u001b[39;00m command \u001b[38;5;129;01min\u001b[39;00m \u001b[38;5;28mself\u001b[39m\u001b[38;5;241m.\u001b[39m_queue:\n\u001b[1;32m    139\u001b[0m     prefix \u001b[38;5;241m=\u001b[39m result\u001b[38;5;241m.\u001b[39mread(\u001b[38;5;124m\"\u001b[39m\u001b[38;5;124m!BBB\u001b[39m\u001b[38;5;124m\"\u001b[39m)\n",
      "\u001b[0;31mFatalTraCIError\u001b[0m: Connection closed by SUMO."
     ]
    }
   ],
   "source": [
    "sumoBinary = \"/Users/arseneclaustre/sumo/bin/sumo-gui\"\n",
    "sumoBinary3 = \"/Users/arseneclaustre/sumo/bin/sumo\"\n",
    "sumoBinary2 = \"/Library/Frameworks/EclipseSUMO.framework/Versions/1.22.0/EclipseSUMO/bin/sumo-gui\"\n",
    "sumoConfig = r\"C:/Program Files/rl_project/2025-02-12-16-24-37/osm.sumocfg\"\n",
    "sumoConfig2 = r\"C:/Program Files/rl_project/2025-02-25-19-05-44/osm.sumocfg\"\n",
    "# sumoConfig3 = r\"/home/psels/code/psels/RL_traffic/RL_traffic/Traditional_traffic/traditional_traffic.sumo.cfg\"\n",
    "sumoConfig3 = r\"Traditional_traffic/traditional_traffic.sumo.cfg\"\n",
    "\n",
    "rewards = []\n",
    "best_score = 0\n",
    "reward = 0\n",
    "total_reward = 0\n",
    "list_values = []\n",
    "weights = []\n",
    "wait_times = []\n",
    "replay_buffer = deque(maxlen=2000)\n",
    "\n",
    "sumoCmd = [sumoBinary2, \"-c\", sumoConfig3, \"--start\"]\n",
    "for episode in range(300):\n",
    "    print(f'episode : {episode}')\n",
    "    epsilon = max(1 - episode / 150, 0.01)\n",
    "    simulation=SimulationSUMO(sumoCmd,500)\n",
    "    lane_ids = simulation.get_lane()\n",
    "    # print(lane_ids[0])\n",
    "\n",
    "    #trafic_light_ids = traci.trafficlight.getIDList()\n",
    "    trafic_light_ids = simulation.get_trafficlight_id()\n",
    "\n",
    "    state = np.array(simulation.queue(lane_ids))\n",
    "\n",
    "    action=-1\n",
    "    wait_times.append(0)\n",
    "    for _ in range(20): ## TO CHANGED\n",
    "        action = epsilon_greedy_policy(state, epsilon)\n",
    "        next_state,reward = simulation.step(action)\n",
    "        replay_buffer.append((state, action, reward, next_state))\n",
    "        state = next_state\n",
    "        if len(replay_buffer) >= batch_size*10:\n",
    "                training_step(batch_size)\n",
    "\n",
    "    simulation.close()"
   ]
  },
  {
   "cell_type": "code",
   "execution_count": 3,
   "metadata": {},
   "outputs": [
    {
     "ename": "NameError",
     "evalue": "name 'deque' is not defined",
     "output_type": "error",
     "traceback": [
      "\u001b[0;31m---------------------------------------------------------------------------\u001b[0m",
      "\u001b[0;31mNameError\u001b[0m                                 Traceback (most recent call last)",
      "Cell \u001b[0;32mIn[3], line 17\u001b[0m\n\u001b[1;32m     15\u001b[0m weights \u001b[38;5;241m=\u001b[39m []\n\u001b[1;32m     16\u001b[0m wait_times \u001b[38;5;241m=\u001b[39m []\n\u001b[0;32m---> 17\u001b[0m replay_buffer \u001b[38;5;241m=\u001b[39m \u001b[43mdeque\u001b[49m(maxlen\u001b[38;5;241m=\u001b[39m\u001b[38;5;241m2000\u001b[39m)\n\u001b[1;32m     20\u001b[0m sumoCmd \u001b[38;5;241m=\u001b[39m [sumoBinary, \u001b[38;5;124m\"\u001b[39m\u001b[38;5;124m-c\u001b[39m\u001b[38;5;124m\"\u001b[39m, sumoConfig3, \u001b[38;5;124m\"\u001b[39m\u001b[38;5;124m--start\u001b[39m\u001b[38;5;124m\"\u001b[39m]\n\u001b[1;32m     22\u001b[0m \u001b[38;5;28;01mif\u001b[39;00m traci\u001b[38;5;241m.\u001b[39misLoaded():\n",
      "\u001b[0;31mNameError\u001b[0m: name 'deque' is not defined"
     ]
    }
   ],
   "source": [
    "sumoBinary = \"/Users/arseneclaustre/sumo/bin/sumo-gui\"\n",
    "sumoBinary2 = \"/Users/arseneclaustre/sumo/bin/sumo\"\n",
    "sumoBinary3 = \"/Library/Frameworks/EclipseSUMO.framework/Versions/1.22.0/EclipseSUMO/bin/sumo-gui\"\n",
    "sumoConfig = r\"C:/Program Files/rl_project/2025-02-12-16-24-37/osm.sumocfg\"\n",
    "sumoConfig2 = r\"C:/Program Files/rl_project/2025-02-25-19-05-44/osm.sumocfg\"\n",
    "# sumoConfig3 = r\"/home/psels/code/psels/RL_traffic/RL_traffic/Traditional_traffic/traditional_traffic.sumo.cfg\"\n",
    "sumoConfig3 = r\"Traditional_traffic/traditional_traffic.sumo.cfg\"\n",
    "\n",
    "\n",
    "rewards = []\n",
    "best_score = 0\n",
    "reward = 0\n",
    "total_reward = 0\n",
    "list_values = []\n",
    "weights = []\n",
    "wait_times = []\n",
    "replay_buffer = deque(maxlen=2000)\n",
    "\n",
    "\n",
    "sumoCmd = [sumoBinary, \"-c\", sumoConfig3, \"--start\"]\n",
    "\n",
    "if traci.isLoaded():\n",
    "    traci.close()\n",
    "traci.start(sumoCmd)\n",
    "lane_ids =  traci.lane.getIDList()\n",
    "# print(lane_ids[0])\n",
    "\n",
    "trafic_light_ids = traci.trafficlight.getIDList()\n",
    "\n",
    "state = np.array(queue(lane_ids))\n",
    "action=-1\n",
    "# print(state)\n",
    "wait_times.append(0)\n",
    "for step in range(10000): ## TO CHANGED\n",
    "    #epsilon = max(1 - episode / 10, 0.01)\n",
    "    state=np.array(queue(lane_ids))\n",
    "    if step%1000 == 0:\n",
    "        state=np.array(queue(lane_ids))\n",
    "        action = epsilon_greedy_policy(state,0)\n",
    "        print(\"action\", action*2)\n",
    "        traci.trafficlight.setPhase(trafic_light_ids[0],action*2)\n",
    "    traci.simulationStep()\n",
    "\n",
    "traci.close()"
   ]
  },
  {
   "cell_type": "code",
   "execution_count": null,
   "metadata": {},
   "outputs": [],
   "source": []
  }
 ],
 "metadata": {
  "kernelspec": {
   "display_name": "RL_traffic",
   "language": "python",
   "name": "python3"
  },
  "language_info": {
   "codemirror_mode": {
    "name": "ipython",
    "version": 3
   },
   "file_extension": ".py",
   "mimetype": "text/x-python",
   "name": "python",
   "nbconvert_exporter": "python",
   "pygments_lexer": "ipython3",
   "version": "3.10.6"
  }
 },
 "nbformat": 4,
 "nbformat_minor": 2
}
