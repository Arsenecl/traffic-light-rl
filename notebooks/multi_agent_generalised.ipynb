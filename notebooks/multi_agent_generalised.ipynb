{
 "cells": [
  {
   "cell_type": "code",
   "execution_count": 19,
   "metadata": {},
   "outputs": [
    {
     "name": "stdout",
     "output_type": "stream",
     "text": [
      "The autoreload extension is already loaded. To reload it, use:\n",
      "  %reload_ext autoreload\n"
     ]
    }
   ],
   "source": [
    "%load_ext autoreload\n",
    "%autoreload 2"
   ]
  },
  {
   "cell_type": "code",
   "execution_count": 20,
   "metadata": {},
   "outputs": [],
   "source": [
    "import os\n",
    "import traci\n",
    "import sys\n",
    "import argparse\n",
    "import tensorflow as tf\n",
    "import numpy as np\n",
    "from dotenv import load_dotenv\n",
    "\n",
    "# Import internal modules\n",
    "from rl_package.rl_logic.Environnement import EnvironnementSumo\n",
    "from rl_package.rl_logic.Agent import AgentSumo\n",
    "from rl_package.params import *\n"
   ]
  },
  {
   "cell_type": "code",
   "execution_count": 21,
   "metadata": {},
   "outputs": [],
   "source": [
    "\n",
    "\n",
    "# Load environment variables\n",
    "load_dotenv()\n",
    "\n",
    "\n",
    "#SUMO_BIN = r\"C:/Program Files/rl_project/Eclipse/Sumo/bin/sumo.exe\"\n",
    "SIMUL_CONFIG = r\"double_traffic/double_traffic.sumo.cfg\"\n",
    "\n",
    "\n",
    "WINDOW=2000\n",
    "BATCH_SIZE=6\n",
    "# SUMO command\n"
   ]
  },
  {
   "cell_type": "code",
   "execution_count": 22,
   "metadata": {},
   "outputs": [],
   "source": [
    "\n",
    "def preprocess():\n",
    "    \"\"\"\n",
    "    Determines the number of inputs and outputs required for the model.\n",
    "    \"\"\"\n",
    "    sumoCmd = [SUMO_BIN, \"-c\", SIMUL_CONFIG, '--start', '--no-warnings']\n",
    "    env = EnvironnementSumo(sumoCmd, WINDOW)\n",
    "    inputs_per_agents = []\n",
    "    outputs_per_agents = []\n",
    "    for trafficlight in env.trafficlights_ids:\n",
    "\n",
    "    # Get the number of lanes that are not intersections\n",
    "        n_lanes = len(env.control_lanes(trafficlight))\n",
    "        inputs_per_agents.append(n_lanes*2)\n",
    "\n",
    "        # Get the number of valid traffic light phases (excluding yellow phases)\n",
    "        n_outputs = len(env.get_phase_without_yellow(trafficlight)[0])\n",
    "        outputs_per_agents.append(n_outputs)\n",
    "\n",
    "    # Get the number of agents\n",
    "\n",
    "    env.close()\n",
    "    return inputs_per_agents, outputs_per_agents  # Inputs: lane states (queue + vehicle count), Outputs: traffic light phases\n"
   ]
  },
  {
   "cell_type": "code",
   "execution_count": 23,
   "metadata": {},
   "outputs": [],
   "source": [
    "\n",
    "def train_models(inputs_per_agents, outputs_per_agents, type_model=\"DQN\"):\n",
    "    \"\"\"\n",
    "    Trains a reinforcement learning model to optimize traffic lights.\n",
    "    Saves the trained model after completion.\n",
    "    \"\"\"\n",
    "\n",
    "    agents = [AgentSumo(type_model, inputs, outputs) for inputs,outputs  in zip(inputs_per_agents,outputs_per_agents)]\n",
    "    for agent in agents:\n",
    "        agent.build_model()\n",
    "        # model_path = f\"models/{type_model}.keras\"\n",
    "        # if os.path.exists(model_path):\n",
    "        #     print(f\"🔄 Loading pre-trained model {type_model}...\")\n",
    "        #     agents[i].model_action=tf.keras.models.load_model(model_path)\n",
    "        #     agents[i].model_target=tf.keras.models.load_model(model_path)\n",
    "        #print('fvvgfv', agent.n_inputs, agent.n_outputs)\n",
    "    sumoCmd = [SUMO_BIN, \"-c\", SIMUL_CONFIG, '--start', '--no-warnings']\n",
    "\n",
    "    for episode in range(EPISODE):\n",
    "        print(f'🔄 Episode {episode}/{EPISODE}')\n",
    "        env = EnvironnementSumo(sumoCmd, WINDOW)\n",
    "        #epsilon = max(1 - episode / EPISODE, 0.01)  # Decaying epsilon for exploration\n",
    "        epsilon=0.2\n",
    "        # récupère le nom des agents\n",
    "        traffic_lights = env.trafficlights_ids\n",
    "\n",
    "\n",
    "\n",
    "        # appel une fonction et récupère une partie du dictionnaire\n",
    "        states = [env.get_states_per_traffic_light(traffic_light) for traffic_light in traffic_lights]\n",
    "\n",
    "        for _ in range(50):  # Steps per episode\n",
    "            actions = [agent.epsilon_greedy_policy(np.array(states[i]),epsilon) for i, agent in enumerate(agents)]\n",
    "            #print('ici')\n",
    "            next_states, rewards = env.step(actions)\n",
    "            for i in range(len(agents)):\n",
    "                agents[i].add_to_memory(np.array(states[i]), np.array(actions[i]), np.array(rewards[i]), np.array(next_states[i]))\n",
    "            states = next_states\n",
    "            # Train the model if there is enough experience in memory\n",
    "\n",
    "            if len(agents[0].replay_buffer) >= BATCH_SIZE * 1:\n",
    "                for agent in agents:\n",
    "                    agent.training_step(BATCH_SIZE)\n",
    "\n",
    "            # Stop the simulation if there are no vehicles left\n",
    "            if env.get_total_number_vehicles() == 0:\n",
    "                break\n",
    "\n",
    "        # Update target network every 5 episodes for Double/Dueling DQN\n",
    "        if episode % 5 == 0 and type_model != 'DQN':\n",
    "            for agent in agents:\n",
    "                agent.model_target.set_weights(agent.model_action.get_weights())\n",
    "\n",
    "        env.close()\n",
    "    return agents\n",
    "\n",
    "    # Save the trained model\n",
    "    # model_path = f\"models/{type_model}.keras\"\n",
    "    # agents[i].model_action.save(model_path)\n",
    "    # print(f\"✅ Model saved at: {model_path}\")\n"
   ]
  },
  {
   "cell_type": "code",
   "execution_count": 24,
   "metadata": {},
   "outputs": [],
   "source": [
    "\n",
    "def scenario(agents):\n",
    "    \"\"\"\n",
    "    Runs a SUMO simulation using the trained agent.\n",
    "    \"\"\"\n",
    "    sumoCmd = [SUMO_GUI_BIN, \"-c\", SIMUL_CONFIG, '--start', '--no-warnings']\n",
    "    env = EnvironnementSumo(sumoCmd, WINDOW)\n",
    "    env.full_simul(agents)\n"
   ]
  },
  {
   "cell_type": "code",
   "execution_count": 25,
   "metadata": {},
   "outputs": [
    {
     "name": "stdout",
     "output_type": "stream",
     "text": [
      " Retrying in 1 seconds\n"
     ]
    },
    {
     "name": "stderr",
     "output_type": "stream",
     "text": [
      "Error: Could not access configuration 'double_traffic/double_traffic.sumo.cfg'.\n",
      "Quitting (on error).\n",
      "/Users/arseneclaustre/.pyenv/versions/3.10.6/envs/RL_traffic/lib/python3.10/site-packages/traci/main.py:154: UserWarning: Could not connect to TraCI server using port 57671 (TraCI server already finished). Retrying with different port.\n",
      "  warnings.warn((\"Could not connect to TraCI server using port %s (%s).\" +\n",
      "Error: Could not access configuration 'double_traffic/double_traffic.sumo.cfg'.\n",
      "Quitting (on error).\n"
     ]
    },
    {
     "name": "stdout",
     "output_type": "stream",
     "text": [
      " Retrying in 1 seconds\n"
     ]
    },
    {
     "name": "stderr",
     "output_type": "stream",
     "text": [
      "/Users/arseneclaustre/.pyenv/versions/3.10.6/envs/RL_traffic/lib/python3.10/site-packages/traci/main.py:154: UserWarning: Could not connect to TraCI server using port 57676 (TraCI server already finished). Retrying with different port.\n",
      "  warnings.warn((\"Could not connect to TraCI server using port %s (%s).\" +\n",
      "Error: Could not access configuration 'double_traffic/double_traffic.sumo.cfg'.\n",
      "Quitting (on error).\n"
     ]
    },
    {
     "name": "stdout",
     "output_type": "stream",
     "text": [
      " Retrying in 1 seconds\n"
     ]
    },
    {
     "name": "stderr",
     "output_type": "stream",
     "text": [
      "/Users/arseneclaustre/.pyenv/versions/3.10.6/envs/RL_traffic/lib/python3.10/site-packages/traci/main.py:154: UserWarning: Could not connect to TraCI server using port 57679 (TraCI server already finished). Retrying with different port.\n",
      "  warnings.warn((\"Could not connect to TraCI server using port %s (%s).\" +\n",
      "Error: Could not access configuration 'double_traffic/double_traffic.sumo.cfg'.\n",
      "Quitting (on error).\n"
     ]
    },
    {
     "name": "stdout",
     "output_type": "stream",
     "text": [
      " Retrying in 1 seconds\n"
     ]
    },
    {
     "name": "stderr",
     "output_type": "stream",
     "text": [
      "/Users/arseneclaustre/.pyenv/versions/3.10.6/envs/RL_traffic/lib/python3.10/site-packages/traci/main.py:154: UserWarning: Could not connect to TraCI server using port 57682 (TraCI server already finished). Retrying with different port.\n",
      "  warnings.warn((\"Could not connect to TraCI server using port %s (%s).\" +\n",
      "Error: Could not access configuration 'double_traffic/double_traffic.sumo.cfg'.\n",
      "Quitting (on error).\n"
     ]
    },
    {
     "name": "stdout",
     "output_type": "stream",
     "text": [
      " Retrying in 1 seconds\n"
     ]
    },
    {
     "name": "stderr",
     "output_type": "stream",
     "text": [
      "/Users/arseneclaustre/.pyenv/versions/3.10.6/envs/RL_traffic/lib/python3.10/site-packages/traci/main.py:154: UserWarning: Could not connect to TraCI server using port 57685 (TraCI server already finished). Retrying with different port.\n",
      "  warnings.warn((\"Could not connect to TraCI server using port %s (%s).\" +\n",
      "Error: Could not access configuration 'double_traffic/double_traffic.sumo.cfg'.\n",
      "Quitting (on error).\n"
     ]
    },
    {
     "name": "stdout",
     "output_type": "stream",
     "text": [
      " Retrying in 1 seconds\n"
     ]
    },
    {
     "name": "stderr",
     "output_type": "stream",
     "text": [
      "/Users/arseneclaustre/.pyenv/versions/3.10.6/envs/RL_traffic/lib/python3.10/site-packages/traci/main.py:154: UserWarning: Could not connect to TraCI server using port 57688 (TraCI server already finished). Retrying with different port.\n",
      "  warnings.warn((\"Could not connect to TraCI server using port %s (%s).\" +\n",
      "Error: Could not access configuration 'double_traffic/double_traffic.sumo.cfg'.\n",
      "Quitting (on error).\n"
     ]
    },
    {
     "name": "stdout",
     "output_type": "stream",
     "text": [
      " Retrying in 1 seconds\n"
     ]
    },
    {
     "name": "stderr",
     "output_type": "stream",
     "text": [
      "/Users/arseneclaustre/.pyenv/versions/3.10.6/envs/RL_traffic/lib/python3.10/site-packages/traci/main.py:154: UserWarning: Could not connect to TraCI server using port 57693 (TraCI server already finished). Retrying with different port.\n",
      "  warnings.warn((\"Could not connect to TraCI server using port %s (%s).\" +\n",
      "Error: Could not access configuration 'double_traffic/double_traffic.sumo.cfg'.\n",
      "Quitting (on error).\n"
     ]
    },
    {
     "name": "stdout",
     "output_type": "stream",
     "text": [
      " Retrying in 1 seconds\n"
     ]
    },
    {
     "name": "stderr",
     "output_type": "stream",
     "text": [
      "/Users/arseneclaustre/.pyenv/versions/3.10.6/envs/RL_traffic/lib/python3.10/site-packages/traci/main.py:154: UserWarning: Could not connect to TraCI server using port 57698 (TraCI server already finished). Retrying with different port.\n",
      "  warnings.warn((\"Could not connect to TraCI server using port %s (%s).\" +\n",
      "Error: Could not access configuration 'double_traffic/double_traffic.sumo.cfg'.\n",
      "Quitting (on error).\n"
     ]
    },
    {
     "name": "stdout",
     "output_type": "stream",
     "text": [
      " Retrying in 1 seconds\n"
     ]
    },
    {
     "ename": "KeyboardInterrupt",
     "evalue": "",
     "output_type": "error",
     "traceback": [
      "\u001b[0;31m---------------------------------------------------------------------------\u001b[0m",
      "\u001b[0;31mConnectionRefusedError\u001b[0m                    Traceback (most recent call last)",
      "File \u001b[0;32m~/.pyenv/versions/3.10.6/envs/RL_traffic/lib/python3.10/site-packages/traci/main.py:97\u001b[0m, in \u001b[0;36mconnect\u001b[0;34m(port, numRetries, host, proc, waitBetweenRetries, traceFile, traceGetters, label)\u001b[0m\n\u001b[1;32m     96\u001b[0m \u001b[38;5;28;01mtry\u001b[39;00m:\n\u001b[0;32m---> 97\u001b[0m     \u001b[38;5;28;01mreturn\u001b[39;00m \u001b[43mconnection\u001b[49m\u001b[38;5;241;43m.\u001b[39;49m\u001b[43mConnection\u001b[49m\u001b[43m(\u001b[49m\u001b[43mhost\u001b[49m\u001b[43m,\u001b[49m\u001b[43m \u001b[49m\u001b[43mport\u001b[49m\u001b[43m,\u001b[49m\u001b[43m \u001b[49m\u001b[43mproc\u001b[49m\u001b[43m,\u001b[49m\u001b[43m \u001b[49m\u001b[43mtraceFile\u001b[49m\u001b[43m,\u001b[49m\u001b[43m \u001b[49m\u001b[43mtraceGetters\u001b[49m\u001b[43m,\u001b[49m\u001b[43m \u001b[49m\u001b[43mlabel\u001b[49m\u001b[43m)\u001b[49m\n\u001b[1;32m     98\u001b[0m \u001b[38;5;28;01mexcept\u001b[39;00m socket\u001b[38;5;241m.\u001b[39merror \u001b[38;5;28;01mas\u001b[39;00m e:\n",
      "File \u001b[0;32m~/.pyenv/versions/3.10.6/envs/RL_traffic/lib/python3.10/site-packages/traci/connection.py:83\u001b[0m, in \u001b[0;36mConnection.__init__\u001b[0;34m(self, host, port, process, traceFile, traceGetters, label)\u001b[0m\n\u001b[1;32m     82\u001b[0m \u001b[38;5;28;01mtry\u001b[39;00m:\n\u001b[0;32m---> 83\u001b[0m     \u001b[38;5;28;43mself\u001b[39;49m\u001b[38;5;241;43m.\u001b[39;49m\u001b[43m_socket\u001b[49m\u001b[38;5;241;43m.\u001b[39;49m\u001b[43mconnect\u001b[49m\u001b[43m(\u001b[49m\u001b[43m(\u001b[49m\u001b[43mhost\u001b[49m\u001b[43m,\u001b[49m\u001b[43m \u001b[49m\u001b[43mport\u001b[49m\u001b[43m)\u001b[49m\u001b[43m)\u001b[49m\n\u001b[1;32m     84\u001b[0m \u001b[38;5;28;01mexcept\u001b[39;00m socket\u001b[38;5;241m.\u001b[39merror:\n",
      "\u001b[0;31mConnectionRefusedError\u001b[0m: [Errno 61] Connection refused",
      "\nDuring handling of the above exception, another exception occurred:\n",
      "\u001b[0;31mKeyboardInterrupt\u001b[0m                         Traceback (most recent call last)",
      "Cell \u001b[0;32mIn[25], line 2\u001b[0m\n\u001b[1;32m      1\u001b[0m type_model \u001b[38;5;241m=\u001b[39m \u001b[38;5;124m\"\u001b[39m\u001b[38;5;124m2DQN\u001b[39m\u001b[38;5;124m\"\u001b[39m\n\u001b[0;32m----> 2\u001b[0m inputs_per_agents, outputs_per_agents \u001b[38;5;241m=\u001b[39m \u001b[43mpreprocess\u001b[49m\u001b[43m(\u001b[49m\u001b[43m)\u001b[49m\n\u001b[1;32m      3\u001b[0m agents  \u001b[38;5;241m=\u001b[39m train_models(inputs_per_agents, outputs_per_agents,type_model)\n",
      "Cell \u001b[0;32mIn[22], line 6\u001b[0m, in \u001b[0;36mpreprocess\u001b[0;34m()\u001b[0m\n\u001b[1;32m      2\u001b[0m \u001b[38;5;250m\u001b[39m\u001b[38;5;124;03m\"\"\"\u001b[39;00m\n\u001b[1;32m      3\u001b[0m \u001b[38;5;124;03mDetermines the number of inputs and outputs required for the model.\u001b[39;00m\n\u001b[1;32m      4\u001b[0m \u001b[38;5;124;03m\"\"\"\u001b[39;00m\n\u001b[1;32m      5\u001b[0m sumoCmd \u001b[38;5;241m=\u001b[39m [SUMO_BIN, \u001b[38;5;124m\"\u001b[39m\u001b[38;5;124m-c\u001b[39m\u001b[38;5;124m\"\u001b[39m, SIMUL_CONFIG, \u001b[38;5;124m'\u001b[39m\u001b[38;5;124m--start\u001b[39m\u001b[38;5;124m'\u001b[39m, \u001b[38;5;124m'\u001b[39m\u001b[38;5;124m--no-warnings\u001b[39m\u001b[38;5;124m'\u001b[39m]\n\u001b[0;32m----> 6\u001b[0m env \u001b[38;5;241m=\u001b[39m \u001b[43mEnvironnementSumo\u001b[49m\u001b[43m(\u001b[49m\u001b[43msumoCmd\u001b[49m\u001b[43m,\u001b[49m\u001b[43m \u001b[49m\u001b[43mWINDOW\u001b[49m\u001b[43m)\u001b[49m\n\u001b[1;32m      7\u001b[0m inputs_per_agents \u001b[38;5;241m=\u001b[39m []\n\u001b[1;32m      8\u001b[0m outputs_per_agents \u001b[38;5;241m=\u001b[39m []\n",
      "File \u001b[0;32m~/code/psels/RL_traffic/rl_package/rl_logic/Environnement.py:11\u001b[0m, in \u001b[0;36mEnvironnementSumo.__init__\u001b[0;34m(self, sumoCmd, window)\u001b[0m\n\u001b[1;32m      9\u001b[0m \u001b[38;5;28;01mif\u001b[39;00m traci\u001b[38;5;241m.\u001b[39misLoaded():\n\u001b[1;32m     10\u001b[0m     traci\u001b[38;5;241m.\u001b[39mclose()\n\u001b[0;32m---> 11\u001b[0m \u001b[43mtraci\u001b[49m\u001b[38;5;241;43m.\u001b[39;49m\u001b[43mstart\u001b[49m\u001b[43m(\u001b[49m\u001b[43msumoCmd\u001b[49m\u001b[43m)\u001b[49m  \u001b[38;5;66;03m# Start SUMO once\u001b[39;00m\n\u001b[1;32m     12\u001b[0m \u001b[38;5;28mself\u001b[39m\u001b[38;5;241m.\u001b[39mwindow\u001b[38;5;241m=\u001b[39mwindow\n\u001b[1;32m     13\u001b[0m \u001b[38;5;28mself\u001b[39m\u001b[38;5;241m.\u001b[39mlanes_ids \u001b[38;5;241m=\u001b[39m traci\u001b[38;5;241m.\u001b[39mlane\u001b[38;5;241m.\u001b[39mgetIDList()\n",
      "File \u001b[0;32m~/.pyenv/versions/3.10.6/envs/RL_traffic/lib/python3.10/site-packages/traci/main.py:147\u001b[0m, in \u001b[0;36mstart\u001b[0;34m(cmd, port, numRetries, label, verbose, traceFile, traceGetters, stdout, doSwitch)\u001b[0m\n\u001b[1;32m    145\u001b[0m sumoProcess \u001b[38;5;241m=\u001b[39m subprocess\u001b[38;5;241m.\u001b[39mPopen(cmd2, stdout\u001b[38;5;241m=\u001b[39mstdout)\n\u001b[1;32m    146\u001b[0m \u001b[38;5;28;01mtry\u001b[39;00m:\n\u001b[0;32m--> 147\u001b[0m     result \u001b[38;5;241m=\u001b[39m \u001b[43minit\u001b[49m\u001b[43m(\u001b[49m\u001b[43msumoPort\u001b[49m\u001b[43m,\u001b[49m\u001b[43m \u001b[49m\u001b[43mnumRetries\u001b[49m\u001b[43m,\u001b[49m\u001b[43m \u001b[49m\u001b[38;5;124;43m\"\u001b[39;49m\u001b[38;5;124;43mlocalhost\u001b[39;49m\u001b[38;5;124;43m\"\u001b[39;49m\u001b[43m,\u001b[49m\u001b[43m \u001b[49m\u001b[43mlabel\u001b[49m\u001b[43m,\u001b[49m\u001b[43m \u001b[49m\u001b[43msumoProcess\u001b[49m\u001b[43m,\u001b[49m\u001b[43m \u001b[49m\u001b[43mdoSwitch\u001b[49m\u001b[43m,\u001b[49m\u001b[43m \u001b[49m\u001b[43mtraceFile\u001b[49m\u001b[43m,\u001b[49m\u001b[43m \u001b[49m\u001b[43mtraceGetters\u001b[49m\u001b[43m)\u001b[49m\n\u001b[1;32m    148\u001b[0m     \u001b[38;5;28;01mif\u001b[39;00m traceFile \u001b[38;5;129;01mis\u001b[39;00m \u001b[38;5;129;01mnot\u001b[39;00m \u001b[38;5;28;01mNone\u001b[39;00m:\n\u001b[1;32m    149\u001b[0m         connection\u001b[38;5;241m.\u001b[39mget(label)\u001b[38;5;241m.\u001b[39mwrite(\u001b[38;5;124m\"\u001b[39m\u001b[38;5;124mstart\u001b[39m\u001b[38;5;124m\"\u001b[39m, \u001b[38;5;124m\"\u001b[39m\u001b[38;5;132;01m%s\u001b[39;00m\u001b[38;5;124m, port=\u001b[39m\u001b[38;5;132;01m%s\u001b[39;00m\u001b[38;5;124m, label=\u001b[39m\u001b[38;5;132;01m%s\u001b[39;00m\u001b[38;5;124m\"\u001b[39m \u001b[38;5;241m%\u001b[39m (\u001b[38;5;28mrepr\u001b[39m(cmd), \u001b[38;5;28mrepr\u001b[39m(port), \u001b[38;5;28mrepr\u001b[39m(label)))\n",
      "File \u001b[0;32m~/.pyenv/versions/3.10.6/envs/RL_traffic/lib/python3.10/site-packages/traci/main.py:116\u001b[0m, in \u001b[0;36minit\u001b[0;34m(port, numRetries, host, label, proc, doSwitch, traceFile, traceGetters)\u001b[0m\n\u001b[1;32m    109\u001b[0m \u001b[38;5;28;01mdef\u001b[39;00m\u001b[38;5;250m \u001b[39m\u001b[38;5;21minit\u001b[39m(port\u001b[38;5;241m=\u001b[39m\u001b[38;5;241m8813\u001b[39m, numRetries\u001b[38;5;241m=\u001b[39mtc\u001b[38;5;241m.\u001b[39mDEFAULT_NUM_RETRIES, host\u001b[38;5;241m=\u001b[39m\u001b[38;5;124m\"\u001b[39m\u001b[38;5;124mlocalhost\u001b[39m\u001b[38;5;124m\"\u001b[39m, label\u001b[38;5;241m=\u001b[39m\u001b[38;5;124m\"\u001b[39m\u001b[38;5;124mdefault\u001b[39m\u001b[38;5;124m\"\u001b[39m, proc\u001b[38;5;241m=\u001b[39m\u001b[38;5;28;01mNone\u001b[39;00m, doSwitch\u001b[38;5;241m=\u001b[39m\u001b[38;5;28;01mTrue\u001b[39;00m,\n\u001b[1;32m    110\u001b[0m          traceFile\u001b[38;5;241m=\u001b[39m\u001b[38;5;28;01mNone\u001b[39;00m, traceGetters\u001b[38;5;241m=\u001b[39m\u001b[38;5;28;01mTrue\u001b[39;00m):\n\u001b[1;32m    111\u001b[0m \u001b[38;5;250m    \u001b[39m\u001b[38;5;124;03m\"\"\"\u001b[39;00m\n\u001b[1;32m    112\u001b[0m \u001b[38;5;124;03m    Establish a connection to a TraCI-Server and store it under the given\u001b[39;00m\n\u001b[1;32m    113\u001b[0m \u001b[38;5;124;03m    label. This method is not thread-safe. It accesses the connection\u001b[39;00m\n\u001b[1;32m    114\u001b[0m \u001b[38;5;124;03m    pool concurrently.\u001b[39;00m\n\u001b[1;32m    115\u001b[0m \u001b[38;5;124;03m    \"\"\"\u001b[39;00m\n\u001b[0;32m--> 116\u001b[0m     con \u001b[38;5;241m=\u001b[39m \u001b[43mconnect\u001b[49m\u001b[43m(\u001b[49m\u001b[43mport\u001b[49m\u001b[43m,\u001b[49m\u001b[43m \u001b[49m\u001b[43mnumRetries\u001b[49m\u001b[43m,\u001b[49m\u001b[43m \u001b[49m\u001b[43mhost\u001b[49m\u001b[43m,\u001b[49m\u001b[43m \u001b[49m\u001b[43mproc\u001b[49m\u001b[43m,\u001b[49m\u001b[43m \u001b[49m\u001b[38;5;241;43m1\u001b[39;49m\u001b[43m,\u001b[49m\u001b[43m \u001b[49m\u001b[43mtraceFile\u001b[49m\u001b[43m,\u001b[49m\u001b[43m \u001b[49m\u001b[43mtraceGetters\u001b[49m\u001b[43m,\u001b[49m\u001b[43m \u001b[49m\u001b[43mlabel\u001b[49m\u001b[43m)\u001b[49m\n\u001b[1;32m    117\u001b[0m     \u001b[38;5;28;01mif\u001b[39;00m doSwitch:\n\u001b[1;32m    118\u001b[0m         switch(label)\n",
      "File \u001b[0;32m~/.pyenv/versions/3.10.6/envs/RL_traffic/lib/python3.10/site-packages/traci/main.py:105\u001b[0m, in \u001b[0;36mconnect\u001b[0;34m(port, numRetries, host, proc, waitBetweenRetries, traceFile, traceGetters, label)\u001b[0m\n\u001b[1;32m    103\u001b[0m         \u001b[38;5;28;01mif\u001b[39;00m retry \u001b[38;5;241m<\u001b[39m numRetries \u001b[38;5;241m+\u001b[39m \u001b[38;5;241m1\u001b[39m:\n\u001b[1;32m    104\u001b[0m             \u001b[38;5;28mprint\u001b[39m(\u001b[38;5;124m\"\u001b[39m\u001b[38;5;124m Retrying in \u001b[39m\u001b[38;5;132;01m%s\u001b[39;00m\u001b[38;5;124m seconds\u001b[39m\u001b[38;5;124m\"\u001b[39m \u001b[38;5;241m%\u001b[39m waitBetweenRetries)\n\u001b[0;32m--> 105\u001b[0m             \u001b[43mtime\u001b[49m\u001b[38;5;241;43m.\u001b[39;49m\u001b[43msleep\u001b[49m\u001b[43m(\u001b[49m\u001b[43mwaitBetweenRetries\u001b[49m\u001b[43m)\u001b[49m\n\u001b[1;32m    106\u001b[0m \u001b[38;5;28;01mraise\u001b[39;00m FatalTraCIError(\u001b[38;5;124m\"\u001b[39m\u001b[38;5;124mCould not connect in \u001b[39m\u001b[38;5;132;01m%s\u001b[39;00m\u001b[38;5;124m tries\u001b[39m\u001b[38;5;124m\"\u001b[39m \u001b[38;5;241m%\u001b[39m (numRetries \u001b[38;5;241m+\u001b[39m \u001b[38;5;241m1\u001b[39m))\n",
      "\u001b[0;31mKeyboardInterrupt\u001b[0m: "
     ]
    }
   ],
   "source": [
    "\n",
    "type_model = \"2DQN\"\n",
    "inputs_per_agents, outputs_per_agents = preprocess()\n",
    "agents  = train_models(inputs_per_agents, outputs_per_agents,type_model)\n"
   ]
  },
  {
   "cell_type": "code",
   "execution_count": null,
   "metadata": {},
   "outputs": [
    {
     "name": "stdout",
     "output_type": "stream",
     "text": [
      " Retrying in 1 seconds\n"
     ]
    },
    {
     "ename": "FatalTraCIError",
     "evalue": "Connection closed by SUMO.",
     "output_type": "error",
     "traceback": [
      "\u001b[0;31m---------------------------------------------------------------------------\u001b[0m",
      "\u001b[0;31mFatalTraCIError\u001b[0m                           Traceback (most recent call last)",
      "Cell \u001b[0;32mIn[150], line 1\u001b[0m\n\u001b[0;32m----> 1\u001b[0m \u001b[43mscenario\u001b[49m\u001b[43m(\u001b[49m\u001b[43magents\u001b[49m\u001b[43m)\u001b[49m\n",
      "Cell \u001b[0;32mIn[147], line 7\u001b[0m, in \u001b[0;36mscenario\u001b[0;34m(agents)\u001b[0m\n\u001b[1;32m      5\u001b[0m sumoCmd \u001b[38;5;241m=\u001b[39m [SUMO_GUI_BIN, \u001b[38;5;124m\"\u001b[39m\u001b[38;5;124m-c\u001b[39m\u001b[38;5;124m\"\u001b[39m, SIMUL_CONFIG, \u001b[38;5;124m'\u001b[39m\u001b[38;5;124m--start\u001b[39m\u001b[38;5;124m'\u001b[39m, \u001b[38;5;124m'\u001b[39m\u001b[38;5;124m--no-warnings\u001b[39m\u001b[38;5;124m'\u001b[39m]\n\u001b[1;32m      6\u001b[0m env \u001b[38;5;241m=\u001b[39m EnvironnementSumo(sumoCmd, WINDOW)\n\u001b[0;32m----> 7\u001b[0m \u001b[43menv\u001b[49m\u001b[38;5;241;43m.\u001b[39;49m\u001b[43mfull_simul\u001b[49m\u001b[43m(\u001b[49m\u001b[43magents\u001b[49m\u001b[43m)\u001b[49m\n",
      "File \u001b[0;32m~/code/psels/RL_traffic/rl_package/rl_logic/Environnement.py:73\u001b[0m, in \u001b[0;36mEnvironnementSumo.full_simul\u001b[0;34m(self, agents)\u001b[0m\n\u001b[1;32m     71\u001b[0m     \u001b[38;5;28;01mfor\u001b[39;00m i,traffic_light \u001b[38;5;129;01min\u001b[39;00m \u001b[38;5;28menumerate\u001b[39m(\u001b[38;5;28mself\u001b[39m\u001b[38;5;241m.\u001b[39mtrafficlights_ids):\n\u001b[1;32m     72\u001b[0m         traci\u001b[38;5;241m.\u001b[39mtrafficlight\u001b[38;5;241m.\u001b[39msetPhase(traffic_light,actions[i])\n\u001b[0;32m---> 73\u001b[0m \u001b[43mtraci\u001b[49m\u001b[38;5;241;43m.\u001b[39;49m\u001b[43msimulationStep\u001b[49m\u001b[43m(\u001b[49m\u001b[43m)\u001b[49m\n",
      "File \u001b[0;32m~/.pyenv/versions/3.10.6/envs/RL_traffic/lib/python3.10/site-packages/traci/main.py:198\u001b[0m, in \u001b[0;36msimulationStep\u001b[0;34m(step)\u001b[0m\n\u001b[1;32m    192\u001b[0m \u001b[38;5;28;01mdef\u001b[39;00m\u001b[38;5;250m \u001b[39m\u001b[38;5;21msimulationStep\u001b[39m(step\u001b[38;5;241m=\u001b[39m\u001b[38;5;241m0\u001b[39m):\n\u001b[1;32m    193\u001b[0m \u001b[38;5;250m    \u001b[39m\u001b[38;5;124;03m\"\"\"simulationStep(float) -> None\u001b[39;00m\n\u001b[1;32m    194\u001b[0m \u001b[38;5;124;03m    Make a simulation step and simulate up to the given second in sim time.\u001b[39;00m\n\u001b[1;32m    195\u001b[0m \u001b[38;5;124;03m    If the given value is 0 or absent, exactly one step is performed.\u001b[39;00m\n\u001b[1;32m    196\u001b[0m \u001b[38;5;124;03m    Values smaller than or equal to the current sim time result in no action.\u001b[39;00m\n\u001b[1;32m    197\u001b[0m \u001b[38;5;124;03m    \"\"\"\u001b[39;00m\n\u001b[0;32m--> 198\u001b[0m     \u001b[43mconnection\u001b[49m\u001b[38;5;241;43m.\u001b[39;49m\u001b[43mcheck\u001b[49m\u001b[43m(\u001b[49m\u001b[43m)\u001b[49m\u001b[38;5;241;43m.\u001b[39;49m\u001b[43msimulationStep\u001b[49m\u001b[43m(\u001b[49m\u001b[43mstep\u001b[49m\u001b[43m)\u001b[49m\n",
      "File \u001b[0;32m~/.pyenv/versions/3.10.6/envs/RL_traffic/lib/python3.10/site-packages/traci/connection.py:370\u001b[0m, in \u001b[0;36mConnection.simulationStep\u001b[0;34m(self, step)\u001b[0m\n\u001b[1;32m    368\u001b[0m \u001b[38;5;28;01mif\u001b[39;00m \u001b[38;5;28mtype\u001b[39m(step) \u001b[38;5;129;01mis\u001b[39;00m \u001b[38;5;28mint\u001b[39m \u001b[38;5;129;01mand\u001b[39;00m step \u001b[38;5;241m>\u001b[39m\u001b[38;5;241m=\u001b[39m \u001b[38;5;241m1000\u001b[39m:\n\u001b[1;32m    369\u001b[0m     warnings\u001b[38;5;241m.\u001b[39mwarn(\u001b[38;5;124m\"\u001b[39m\u001b[38;5;124mAPI change now handles step as floating point seconds\u001b[39m\u001b[38;5;124m\"\u001b[39m, stacklevel\u001b[38;5;241m=\u001b[39m\u001b[38;5;241m2\u001b[39m)\n\u001b[0;32m--> 370\u001b[0m result \u001b[38;5;241m=\u001b[39m \u001b[38;5;28;43mself\u001b[39;49m\u001b[38;5;241;43m.\u001b[39;49m\u001b[43m_sendCmd\u001b[49m\u001b[43m(\u001b[49m\u001b[43mtc\u001b[49m\u001b[38;5;241;43m.\u001b[39;49m\u001b[43mCMD_SIMSTEP\u001b[49m\u001b[43m,\u001b[49m\u001b[43m \u001b[49m\u001b[38;5;28;43;01mNone\u001b[39;49;00m\u001b[43m,\u001b[49m\u001b[43m \u001b[49m\u001b[38;5;28;43;01mNone\u001b[39;49;00m\u001b[43m,\u001b[49m\u001b[43m \u001b[49m\u001b[38;5;124;43m\"\u001b[39;49m\u001b[38;5;124;43mD\u001b[39;49m\u001b[38;5;124;43m\"\u001b[39;49m\u001b[43m,\u001b[49m\u001b[43m \u001b[49m\u001b[43mstep\u001b[49m\u001b[43m)\u001b[49m\n\u001b[1;32m    371\u001b[0m \u001b[38;5;28;01mfor\u001b[39;00m subscriptionResults \u001b[38;5;129;01min\u001b[39;00m \u001b[38;5;28mself\u001b[39m\u001b[38;5;241m.\u001b[39m_subscriptionMapping\u001b[38;5;241m.\u001b[39mvalues():\n\u001b[1;32m    372\u001b[0m     subscriptionResults\u001b[38;5;241m.\u001b[39mreset()\n",
      "File \u001b[0;32m~/.pyenv/versions/3.10.6/envs/RL_traffic/lib/python3.10/site-packages/traci/connection.py:232\u001b[0m, in \u001b[0;36mConnection._sendCmd\u001b[0;34m(self, cmdID, varID, objID, format, *values)\u001b[0m\n\u001b[1;32m    230\u001b[0m     \u001b[38;5;28mself\u001b[39m\u001b[38;5;241m.\u001b[39m_string \u001b[38;5;241m+\u001b[39m\u001b[38;5;241m=\u001b[39m struct\u001b[38;5;241m.\u001b[39mpack(\u001b[38;5;124m\"\u001b[39m\u001b[38;5;124m!i\u001b[39m\u001b[38;5;124m\"\u001b[39m, \u001b[38;5;28mlen\u001b[39m(objID)) \u001b[38;5;241m+\u001b[39m objID\n\u001b[1;32m    231\u001b[0m \u001b[38;5;28mself\u001b[39m\u001b[38;5;241m.\u001b[39m_string \u001b[38;5;241m+\u001b[39m\u001b[38;5;241m=\u001b[39m packed\n\u001b[0;32m--> 232\u001b[0m \u001b[38;5;28;01mreturn\u001b[39;00m \u001b[38;5;28;43mself\u001b[39;49m\u001b[38;5;241;43m.\u001b[39;49m\u001b[43m_sendExact\u001b[49m\u001b[43m(\u001b[49m\u001b[43m)\u001b[49m\n",
      "File \u001b[0;32m~/.pyenv/versions/3.10.6/envs/RL_traffic/lib/python3.10/site-packages/traci/connection.py:137\u001b[0m, in \u001b[0;36mConnection._sendExact\u001b[0;34m(self)\u001b[0m\n\u001b[1;32m    135\u001b[0m     \u001b[38;5;28mself\u001b[39m\u001b[38;5;241m.\u001b[39m_socket\u001b[38;5;241m.\u001b[39mclose()\n\u001b[1;32m    136\u001b[0m     \u001b[38;5;28mself\u001b[39m\u001b[38;5;241m.\u001b[39m_socket \u001b[38;5;241m=\u001b[39m \u001b[38;5;28;01mNone\u001b[39;00m\n\u001b[0;32m--> 137\u001b[0m     \u001b[38;5;28;01mraise\u001b[39;00m FatalTraCIError(\u001b[38;5;124m\"\u001b[39m\u001b[38;5;124mConnection closed by SUMO.\u001b[39m\u001b[38;5;124m\"\u001b[39m)\n\u001b[1;32m    138\u001b[0m \u001b[38;5;28;01mfor\u001b[39;00m command \u001b[38;5;129;01min\u001b[39;00m \u001b[38;5;28mself\u001b[39m\u001b[38;5;241m.\u001b[39m_queue:\n\u001b[1;32m    139\u001b[0m     prefix \u001b[38;5;241m=\u001b[39m result\u001b[38;5;241m.\u001b[39mread(\u001b[38;5;124m\"\u001b[39m\u001b[38;5;124m!BBB\u001b[39m\u001b[38;5;124m\"\u001b[39m)\n",
      "\u001b[0;31mFatalTraCIError\u001b[0m: Connection closed by SUMO."
     ]
    }
   ],
   "source": [
    "scenario(agents)"
   ]
  },
  {
   "cell_type": "code",
   "execution_count": null,
   "metadata": {},
   "outputs": [],
   "source": []
  }
 ],
 "metadata": {
  "kernelspec": {
   "display_name": "RL_traffic",
   "language": "python",
   "name": "python3"
  },
  "language_info": {
   "codemirror_mode": {
    "name": "ipython",
    "version": 3
   },
   "file_extension": ".py",
   "mimetype": "text/x-python",
   "name": "python",
   "nbconvert_exporter": "python",
   "pygments_lexer": "ipython3",
   "version": "3.10.6"
  }
 },
 "nbformat": 4,
 "nbformat_minor": 2
}
