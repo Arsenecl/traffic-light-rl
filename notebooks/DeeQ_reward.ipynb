{
 "cells": [
  {
   "cell_type": "code",
   "execution_count": 1,
   "metadata": {},
   "outputs": [],
   "source": [
    "import numpy as np"
   ]
  },
  {
   "cell_type": "code",
   "execution_count": null,
   "metadata": {},
   "outputs": [],
   "source": [
    "reward = 0\n",
    "total_reward = 0\n",
    "list_values = [[0,0,0,0]]\n",
    "penal_mult1 = 0\n",
    "penal_mult2 = 0\n",
    "penal_mult3 = 0\n",
    "penal_mult4 = 0"
   ]
  },
  {
   "cell_type": "code",
   "execution_count": null,
   "metadata": {},
   "outputs": [],
   "source": [
    "values = [1,0,0,0]"
   ]
  },
  {
   "cell_type": "code",
   "execution_count": 9,
   "metadata": {},
   "outputs": [],
   "source": [
    "def calculate_reward(values, reward, total_reward):\n",
    "\n",
    "    prev_val = np.sum(np.array(list_values[-1]))\n",
    "\n",
    "    list_values.append(values)\n",
    "\n",
    "    actual_val = np.sum(np.array(list_values[-1]))\n",
    "\n",
    "    total_reward += np.sum(actual_val)\n",
    "\n",
    "    reward = prev_val - actual_val\n",
    "\n",
    "    return  reward, total_reward, prev_val"
   ]
  },
  {
   "cell_type": "code",
   "execution_count": 10,
   "metadata": {},
   "outputs": [],
   "source": [
    "def calculate_reward_V2(values, reward, total_reward, penal_mult1, penal_mult2, penal_mult3, penal_mult4):\n",
    "\n",
    "    print(values)\n",
    "\n",
    "    # if values[0] != 0:\n",
    "    #     penal_mult1 += 0.1\n",
    "    # if values[1] != 0:\n",
    "    #     penal_mult2 += 0.1\n",
    "    # if values[2] != 0:\n",
    "    #     penal_mult3 += 0.1\n",
    "    # if values[3] != 0:\n",
    "    #     penal_mult4 += 0.1\n",
    "\n",
    "    # values_penal = []\n",
    "\n",
    "    # values_penal.append(values[0] + values[0] * penal_mult1)\n",
    "    # values_penal.append(values[1] + values[1] * penal_mult2)\n",
    "    # values_penal.append(values[2] + values[2] * penal_mult3)\n",
    "    # values_penal.append(values[3] + values[3] * penal_mult4)\n",
    "\n",
    "    # prev_val = np.sum(np.array(list_values[-1]))\n",
    "\n",
    "    # list_values.append(values_penal)\n",
    "\n",
    "    # actual_val = np.sum(np.array(list_values[-1]))\n",
    "\n",
    "    # total_reward += np.sum(actual_val)\n",
    "\n",
    "    # reward = prev_val - actual_val\n",
    "\n",
    "    # return  reward, total_reward, prev_val"
   ]
  },
  {
   "cell_type": "code",
   "execution_count": 14,
   "metadata": {},
   "outputs": [
    {
     "name": "stdout",
     "output_type": "stream",
     "text": [
      "14\n",
      "15\n",
      "16\n",
      "17\n",
      "18\n",
      "18\n",
      "21\n",
      "21\n",
      "21\n"
     ]
    }
   ],
   "source": [
    "values_list = [[0, 0, 0, 0],[0, 1, 0, 0],[0, 1, 0, 0],[0, 1, 0, 0],[0, 1, 0, 0],[0, 0, 0, 0],[0, 0, 0, 3],[0, 0, 0, 0],[0, 0, 0, 0]]\n",
    "\n",
    "\n",
    "# for values in values_list:\n",
    "#     reward, total_reward, prev_val = calculate_reward_2(values, reward, total_reward,penal_mult1, penal_mult2, penal_mult3, penal_mult4)\n",
    "#     print(reward)\n",
    "\n",
    "for values in values_list:\n",
    "    reward, total_reward, prev_val = calculate_reward(values, reward, total_reward)\n",
    "    #print(reward)\n",
    "    print(total_reward)"
   ]
  },
  {
   "cell_type": "code",
   "execution_count": null,
   "metadata": {},
   "outputs": [],
   "source": []
  }
 ],
 "metadata": {
  "kernelspec": {
   "display_name": "sumo_env",
   "language": "python",
   "name": "python3"
  },
  "language_info": {
   "codemirror_mode": {
    "name": "ipython",
    "version": 3
   },
   "file_extension": ".py",
   "mimetype": "text/x-python",
   "name": "python",
   "nbconvert_exporter": "python",
   "pygments_lexer": "ipython3",
   "version": "3.10.6"
  }
 },
 "nbformat": 4,
 "nbformat_minor": 2
}
