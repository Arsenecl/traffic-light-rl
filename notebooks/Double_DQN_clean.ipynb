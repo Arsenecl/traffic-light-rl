{
 "cells": [
  {
   "cell_type": "code",
   "execution_count": 2,
   "metadata": {},
   "outputs": [
    {
     "name": "stdout",
     "output_type": "stream",
     "text": [
      "The autoreload extension is already loaded. To reload it, use:\n",
      "  %reload_ext autoreload\n"
     ]
    }
   ],
   "source": [
    "%load_ext autoreload\n",
    "%autoreload 2"
   ]
  },
  {
   "cell_type": "code",
   "execution_count": 3,
   "metadata": {},
   "outputs": [],
   "source": [
    "from state import get_state, queue\n",
    "import os\n",
    "import traci"
   ]
  },
  {
   "cell_type": "code",
   "execution_count": 4,
   "metadata": {},
   "outputs": [],
   "source": [
    "from dotenv import load_dotenv\n",
    "load_dotenv()\n",
    "\n",
    "\n",
    "sumo_bin = os.getenv(\"SUMO\")\n",
    "sumo_gui_bin = os.getenv(\"SUMO-GUI\")\n",
    "simulConfig = os.getenv(\"SIMUL-CONFIG\")"
   ]
  },
  {
   "cell_type": "code",
   "execution_count": 5,
   "metadata": {},
   "outputs": [],
   "source": [
    "import tensorflow as tf\n",
    "import numpy as np\n",
    "from collections import deque"
   ]
  },
  {
   "cell_type": "code",
   "execution_count": 17,
   "metadata": {},
   "outputs": [
    {
     "name": "stderr",
     "output_type": "stream",
     "text": [
      "/Users/arseneclaustre/.pyenv/versions/3.10.6/envs/RL_traffic/lib/python3.10/site-packages/keras/src/layers/core/dense.py:87: UserWarning: Do not pass an `input_shape`/`input_dim` argument to a layer. When using Sequential models, prefer using an `Input(shape)` object as the first layer in the model instead.\n",
      "  super().__init__(activity_regularizer=activity_regularizer, **kwargs)\n"
     ]
    }
   ],
   "source": [
    "tf.random.set_seed(42)  # extra code – ensures reproducibility on the CPU\n",
    "\n",
    "input_shape = [48]  # == env.observation_space.shape\n",
    "n_outputs = 4  # == env.action_space.n\n",
    "#[((Phase(duration=30.0, state='GGrGrrGGrGrr', minDur=30.0, maxDur=30.0), Phase(duration=20.0, state='grGgrrgrGgrr', minDur=20.0, maxDur=20.0), Phase(duration=30.0, state='GrrGGrGrrGGr', minDur=30.0, maxDur=30.0), Phase(duration=20.0, state='grrgrGgrrgrG', minDur=20.0, maxDur=20.0)), [0, 2, 4, 6])]\n",
    "model_action = tf.keras.Sequential([\n",
    "    tf.keras.layers.Dense(64,activation='relu', input_shape=input_shape),\n",
    "    tf.keras.layers.Dense(64, activation='relu'),\n",
    "    tf.keras.layers.Dense(32, activation='relu'),\n",
    "    tf.keras.layers.Dense(n_outputs, activation= 'linear')])"
   ]
  },
  {
   "cell_type": "code",
   "execution_count": 18,
   "metadata": {},
   "outputs": [],
   "source": [
    "target = tf.keras.models.clone_model(model_action)  # clone the model's architecture\n",
    "target.set_weights(model_action.get_weights())  # copy the weights"
   ]
  },
  {
   "cell_type": "code",
   "execution_count": 19,
   "metadata": {},
   "outputs": [],
   "source": [
    "def epsilon_greedy_policy(state, epsilon=0):\n",
    "    if np.random.rand() < epsilon:\n",
    "        return np.random.randint(n_outputs)  # random action\n",
    "    else:\n",
    "        Q_values = model_action.predict(state[np.newaxis], verbose=0)[0]\n",
    "        print(f\"state : {state}\")\n",
    "        print(f\"Q_values : {Q_values}\")\n",
    "        return Q_values.argmax()  # optimal action according to the DQN"
   ]
  },
  {
   "cell_type": "code",
   "execution_count": 20,
   "metadata": {},
   "outputs": [],
   "source": [
    "def sample_experiences(batch_size):\n",
    "    indices = np.random.randint(len(replay_buffer), size=batch_size)\n",
    "    batch = [replay_buffer[index] for index in indices]\n",
    "    states, actions, rewards, next_states = [\n",
    "        np.array([experience[field_index] for experience in batch])\n",
    "        for field_index in range(4)\n",
    "    ]\n",
    "    return states, actions, rewards, next_states"
   ]
  },
  {
   "cell_type": "code",
   "execution_count": 21,
   "metadata": {},
   "outputs": [],
   "source": [
    "batch_size = 32\n",
    "discount_factor = 0.5\n",
    "optimizer = tf.keras.optimizers.Adam(learning_rate=0.05)\n",
    "loss_fn = tf.keras.losses.MeanSquaredError()\n",
    "\n",
    "\n",
    "def training_step(batch_size):\n",
    "    experiences = sample_experiences(batch_size)\n",
    "    states, actions, rewards, next_states = experiences  # a changer\n",
    "        #################### CHANGED SECTION ####################\n",
    "    next_Q_values = model_action.predict(next_states, verbose=0)  # ≠ target.predict()\n",
    "    best_next_actions = next_Q_values.argmax(axis=1)\n",
    "    next_mask = tf.one_hot(best_next_actions, n_outputs).numpy()\n",
    "    max_next_Q_values = (target.predict(next_states, verbose=0) * next_mask\n",
    "                        ).sum(axis=1)\n",
    "    #########################################################\n",
    "    next_Q_values = target.predict(next_states, verbose=0)\n",
    "    max_next_Q_values = next_Q_values.max(axis=1)\n",
    "    # runs = 1.0 - (dones | truncateds)  # episode is not done or truncated\n",
    "    target_Q_values = rewards + discount_factor * max_next_Q_values\n",
    "    target_Q_values = target_Q_values.reshape(-1, 1)\n",
    "    mask = tf.one_hot(actions, n_outputs)\n",
    "    with tf.GradientTape() as tape:\n",
    "        all_Q_values = model_action(states)\n",
    "        Q_values = tf.reduce_sum(all_Q_values * mask, axis=1, keepdims=True)\n",
    "        loss = tf.reduce_mean(loss_fn(target_Q_values, Q_values))\n",
    "\n",
    "    grads = tape.gradient(loss, model_action.trainable_variables)\n",
    "    optimizer.apply_gradients(zip(grads, model_action.trainable_variables))"
   ]
  },
  {
   "cell_type": "code",
   "execution_count": 22,
   "metadata": {},
   "outputs": [
    {
     "name": "stdout",
     "output_type": "stream",
     "text": [
      "['/Users/arseneclaustre/sumo/bin/sumo', '-c', 'Traditional_traffic/traditional_traffic.sumo.cfg', '--start']\n",
      "Step #0.00 (0ms ?*RT. ?UPS, TraCI: 1334616ms, vehicles TOT 0 ACT 0 BUF 0)                \n",
      " Retrying in 1 seconds\n"
     ]
    },
    {
     "name": "stderr",
     "output_type": "stream",
     "text": [
      "Warning: Environment variable SUMO_HOME is not set properly, disabling XML validation. Set 'auto' or 'always' for web lookups.\n",
      "Warning: Vehicle 'CNE.3' performs emergency braking on lane 'end1_junction_2' with decel=9.00, wished=5.00, severity=1.00, time=63.80.\n"
     ]
    },
    {
     "name": "stdout",
     "output_type": "stream",
     "text": [
      "Step #100.00 (0ms ?*RT. ?UPS, TraCI: 1ms, vehicles TOT 84 ACT 51 BUF 0)                   \r"
     ]
    },
    {
     "name": "stderr",
     "output_type": "stream",
     "text": [
      "Warning: Vehicle 'AWE.6' performs emergency stop at the end of lane 'end4_junction_1' because of a red traffic light (decel=-11.12, offset=0.01), time=100.93.\n"
     ]
    },
    {
     "name": "stdout",
     "output_type": "stream",
     "text": [
      "Step #141.00 (0ms ?*RT. ?UPS, TraCI: 0ms, vehicles TOT 108 ACT 44 BUF 0)                  \r"
     ]
    },
    {
     "name": "stderr",
     "output_type": "stream",
     "text": [
      "Warning: Vehicle 'CES.3' performs emergency braking on lane 'end2_junction_2' with decel=9.00, wished=5.00, severity=1.00, time=140.00.\n",
      "Warning: Vehicle 'CES.3' performs emergency stop at the end of lane 'end2_junction_2' because of a red traffic light (decel=-13.67, offset=0.02), time=141.13.\n"
     ]
    },
    {
     "name": "stdout",
     "output_type": "stream",
     "text": [
      "Step #180.00 (0ms ?*RT. ?UPS, TraCI: 2ms, vehicles TOT 148 ACT 67 BUF 8)                  \r"
     ]
    },
    {
     "name": "stderr",
     "output_type": "stream",
     "text": [
      "Warning: Vehicle 'AWE.12' performs emergency stop at the end of lane 'end4_junction_1' because of a red traffic light (decel=-12.64, offset=0.02), time=180.77.\n"
     ]
    },
    {
     "name": "stdout",
     "output_type": "stream",
     "text": [
      "Step #220.00 (0ms ?*RT. ?UPS, TraCI: 0ms, vehicles TOT 176 ACT 55 BUF 4)                  "
     ]
    },
    {
     "name": "stderr",
     "output_type": "stream",
     "text": [
      "Warning: Vehicle 'CNE.14' performs emergency braking on lane 'end1_junction_2' with decel=9.00, wished=5.00, severity=1.00, time=220.00.\n"
     ]
    },
    {
     "name": "stdout",
     "output_type": "stream",
     "text": [
      "Step #240.00 (0ms ?*RT. ?UPS, TraCI: 2ms, vehicles TOT 189 ACT 53 BUF 3)                  \r"
     ]
    },
    {
     "name": "stderr",
     "output_type": "stream",
     "text": [
      "Warning: Vehicle 'AWE.18' performs emergency stop at the end of lane 'end4_junction_1' because of a red traffic light (decel=-13.60, offset=0.00), time=240.68.\n"
     ]
    },
    {
     "name": "stdout",
     "output_type": "stream",
     "text": [
      "Step #300.00 (0ms ?*RT. ?UPS, TraCI: 1ms, vehicles TOT 243 ACT 64 BUF 3)                  \r"
     ]
    },
    {
     "name": "stderr",
     "output_type": "stream",
     "text": [
      "Warning: Vehicle 'CWE.23' performs emergency braking on lane 'end4_junction_1' with decel=9.00, wished=5.00, severity=1.00, time=300.00.\n",
      "Warning: Vehicle 'CWE.23' performs emergency stop at the end of lane 'end4_junction_1' because of a red traffic light (decel=-30.54, offset=0.09), time=300.93.\n"
     ]
    },
    {
     "name": "stdout",
     "output_type": "stream",
     "text": [
      "Step #320.00 (0ms ?*RT. ?UPS, TraCI: 1ms, vehicles TOT 252 ACT 64 BUF 0)                  \r"
     ]
    },
    {
     "name": "stderr",
     "output_type": "stream",
     "text": [
      "Warning: Vehicle 'CSW.2' performs emergency braking on lane 'end3_junction_2' with decel=9.00, wished=5.00, severity=1.00, time=320.00.\n",
      "Warning: Vehicle 'CSW.2' performs emergency stop at the end of lane 'end3_junction_2' because of a red traffic light (decel=-17.01, offset=0.05), time=320.45.\n"
     ]
    },
    {
     "name": "stdout",
     "output_type": "stream",
     "text": [
      "Step #363.00 (0ms ?*RT. ?UPS, TraCI: 0ms, vehicles TOT 284 ACT 59 BUF 4)                  \r"
     ]
    },
    {
     "name": "stderr",
     "output_type": "stream",
     "text": [
      "Warning: Vehicle 'CWE.28' performs emergency braking on lane 'end4_junction_1' with decel=9.00, wished=5.00, severity=1.00, time=360.00.\n",
      "Warning: Vehicle 'CWE.28' performs emergency braking on lane 'end4_junction_1' with decel=9.00, wished=5.00, severity=1.00, time=363.37.\n"
     ]
    },
    {
     "name": "stdout",
     "output_type": "stream",
     "text": [
      "Step #440.00 (0ms ?*RT. ?UPS, TraCI: 1ms, vehicles TOT 344 ACT 71 BUF 4)                  \r"
     ]
    },
    {
     "name": "stderr",
     "output_type": "stream",
     "text": [
      "Warning: Vehicle 'AWE.35' performs emergency stop at the end of lane 'end4_junction_1' because of a red traffic light (decel=-33.84, offset=0.22), time=440.86.\n"
     ]
    },
    {
     "name": "stdout",
     "output_type": "stream",
     "text": [
      "Step #660.00 (1ms ~= 10.00*RT, ~98000.00UPS, TraCI: 1ms, vehicles TOT 517 ACT 98 BUF 5)    #621.00 (0ms ?*RT. ?UPS, TraCI: 0ms, vehicles TOT 492 ACT 98 BUF 0)                  \r"
     ]
    },
    {
     "name": "stderr",
     "output_type": "stream",
     "text": [
      "Warning: Vehicle 'CESR.1' performs emergency braking on lane 'end2_junction_2' with decel=9.00, wished=5.00, severity=1.00, time=660.00.\n",
      "Warning: Vehicle 'CESR.1' performs emergency stop at the end of lane 'end2_junction_2' because of a red traffic light (decel=-15.75, offset=0.01), time=660.13.\n"
     ]
    },
    {
     "name": "stdout",
     "output_type": "stream",
     "text": [
      "Step #843.00 (0ms ?*RT. ?UPS, TraCI: 0ms, vehicles TOT 650 ACT 68 BUF 4)                  \r"
     ]
    },
    {
     "name": "stderr",
     "output_type": "stream",
     "text": [
      "Warning: Vehicle 'CNER.6' performs emergency braking on lane 'end1_junction_2' with decel=9.00, wished=5.00, severity=1.00, time=843.97.\n"
     ]
    },
    {
     "name": "stdout",
     "output_type": "stream",
     "text": [
      "Step #921.00 (1ms ~= 10.00*RT, ~88000.00UPS, TraCI: 0ms, vehicles TOT 714 ACT 88 BUF 0)   \r"
     ]
    },
    {
     "name": "stderr",
     "output_type": "stream",
     "text": [
      "Warning: Vehicle 'CSWR.2' performs emergency braking on lane 'end3_junction_2' with decel=9.00, wished=5.00, severity=1.00, time=920.00.\n",
      "Warning: Vehicle 'CSWR.2' performs emergency stop at the end of lane 'end3_junction_2' because of a red traffic light (decel=-11.82, offset=0.02), time=921.55.\n"
     ]
    },
    {
     "name": "stdout",
     "output_type": "stream",
     "text": [
      "Step #980.00 (0ms ?*RT. ?UPS, TraCI: 0ms, vehicles TOT 755 ACT 100 BUF 1)                 "
     ]
    },
    {
     "name": "stderr",
     "output_type": "stream",
     "text": [
      "Warning: Vehicle 'CESR.17' performs emergency braking on lane 'end2_junction_2' with decel=9.00, wished=5.00, severity=1.00, time=980.00.\n"
     ]
    },
    {
     "name": "stdout",
     "output_type": "stream",
     "text": [
      "Step #1160.00 (0ms ?*RT. ?UPS, TraCI: 0ms, vehicles TOT 887 ACT 110 BUF 1)                "
     ]
    },
    {
     "name": "stderr",
     "output_type": "stream",
     "text": [
      "Warning: Vehicle 'CENR.44' performs emergency braking on lane 'end2_junction_0' with decel=9.00, wished=5.00, severity=1.00, time=1160.00.\n"
     ]
    },
    {
     "name": "stdout",
     "output_type": "stream",
     "text": [
      "Step #1280.00 (1ms ~= 10.00*RT, ~77000.00UPS, TraCI: 1ms, vehicles TOT 924 ACT 77 BUF 0)  \r"
     ]
    },
    {
     "name": "stderr",
     "output_type": "stream",
     "text": [
      "Warning: Vehicle 'AEWR.40' performs emergency stop at the end of lane 'end2_junction_1' because of a red traffic light (decel=-18.80, offset=0.04), time=1280.29.\n"
     ]
    },
    {
     "name": "stdout",
     "output_type": "stream",
     "text": [
      "episode : 0\n",
      "Step #1300.00 (0ms ?*RT. ?UPS, TraCI: 2ms, vehicles TOT 924 ACT 63 BUF 0)                 \n",
      " Retrying in 1 seconds\n"
     ]
    },
    {
     "name": "stderr",
     "output_type": "stream",
     "text": [
      "Warning: Environment variable SUMO_HOME is not set properly, disabling XML validation. Set 'auto' or 'always' for web lookups.\n",
      "Warning: Vehicle 'AWE.5' performs emergency stop at the end of lane 'end4_junction_1' because of a red traffic light (decel=-35.80, offset=0.10), time=80.14.\n"
     ]
    },
    {
     "name": "stdout",
     "output_type": "stream",
     "text": [
      "Step #300.00 (0ms ?*RT. ?UPS, TraCI: 0ms, vehicles TOT 240 ACT 105 BUF 0)                 "
     ]
    },
    {
     "name": "stderr",
     "output_type": "stream",
     "text": [
      "Warning: Vehicle 'CNE.5' performs emergency braking on lane 'end1_junction_2' with decel=9.00, wished=5.00, severity=1.00, time=300.00.\n"
     ]
    },
    {
     "name": "stdout",
     "output_type": "stream",
     "text": [
      "Step #441.00 (1ms ~= 10.00*RT, ~100000.00UPS, TraCI: 0ms, vehicles TOT 348 ACT 100 BUF 0) \r"
     ]
    },
    {
     "name": "stderr",
     "output_type": "stream",
     "text": [
      "Warning: Vehicle 'CNE.16' performs emergency braking on lane 'end1_junction_2' with decel=9.00, wished=5.00, severity=1.00, time=440.00.\n",
      "Warning: Vehicle 'CNE.16' performs emergency braking on lane 'end1_junction_2' with decel=9.00, wished=5.00, severity=1.00, time=441.03.\n"
     ]
    },
    {
     "name": "stdout",
     "output_type": "stream",
     "text": [
      "Step #460.00 (0ms ?*RT. ?UPS, TraCI: 2ms, vehicles TOT 360 ACT 98 BUF 0)                  \r"
     ]
    },
    {
     "name": "stderr",
     "output_type": "stream",
     "text": [
      "Warning: Vehicle 'CWS.3' performs emergency braking on lane 'end4_junction_0' with decel=9.00, wished=5.00, severity=1.00, time=460.00.\n",
      "Warning: Vehicle 'AWE.34' performs emergency stop at the end of lane 'end4_junction_1' because of a red traffic light (decel=-12.86, offset=0.01), time=460.76.\n"
     ]
    },
    {
     "name": "stdout",
     "output_type": "stream",
     "text": [
      "Step #721.00 (0ms ?*RT. ?UPS, TraCI: 0ms, vehicles TOT 559 ACT 103 BUF 5)                 \r"
     ]
    },
    {
     "name": "stderr",
     "output_type": "stream",
     "text": [
      "Warning: Vehicle 'CNE.44' performs emergency braking on lane 'end1_junction_2' with decel=9.00, wished=5.00, severity=1.00, time=721.59.\n"
     ]
    },
    {
     "name": "stdout",
     "output_type": "stream",
     "text": [
      "Step #780.00 (1ms ~= 10.00*RT, ~119000.00UPS, TraCI: 1ms, vehicles TOT 610 ACT 119 BUF 8) \r"
     ]
    },
    {
     "name": "stderr",
     "output_type": "stream",
     "text": [
      "Warning: Vehicle 'CNER.0' performs emergency braking on lane 'end1_junction_2' with decel=9.00, wished=5.00, severity=1.00, time=780.00.\n",
      "Warning: Vehicle 'CNER.0' performs emergency stop at the end of lane 'end1_junction_2' because of a red traffic light (decel=-12.70, offset=0.03), time=780.48.\n"
     ]
    },
    {
     "name": "stdout",
     "output_type": "stream",
     "text": [
      "Step #920.00 (1ms ~= 10.00*RT, ~100000.00UPS, TraCI: 1ms, vehicles TOT 713 ACT 100 BUF 1) \r"
     ]
    },
    {
     "name": "stderr",
     "output_type": "stream",
     "text": [
      "Warning: Vehicle 'CNSR.2' performs emergency braking on lane 'end1_junction_1' with decel=9.00, wished=5.00, severity=1.00, time=920.00.\n",
      "Warning: Vehicle 'CENR.24' performs emergency braking on lane 'end2_junction_0' with decel=9.00, wished=5.00, severity=1.00, time=920.00.\n",
      "Warning: Vehicle 'CNSR.2' performs emergency stop at the end of lane 'end1_junction_1' because of a red traffic light (decel=-25.51, offset=0.15), time=920.01.\n"
     ]
    },
    {
     "name": "stdout",
     "output_type": "stream",
     "text": [
      "Step #960.00 (1ms ~= 10.00*RT, ~100000.00UPS, TraCI: 1ms, vehicles TOT 742 ACT 100 BUF 8) \r"
     ]
    },
    {
     "name": "stderr",
     "output_type": "stream",
     "text": [
      "Warning: Vehicle 'CESR.16' performs emergency braking on lane 'end2_junction_2' with decel=9.00, wished=5.00, severity=1.00, time=960.00.\n",
      "Warning: Vehicle 'CESR.16' performs emergency stop at the end of lane 'end2_junction_2' because of a red traffic light (decel=-11.57, offset=0.01), time=960.59.\n"
     ]
    },
    {
     "name": "stdout",
     "output_type": "stream",
     "text": [
      "Step #981.00 (0ms ?*RT. ?UPS, TraCI: 0ms, vehicles TOT 756 ACT 97 BUF 0)                  \r"
     ]
    },
    {
     "name": "stderr",
     "output_type": "stream",
     "text": [
      "Warning: Vehicle 'CEWR.16' performs emergency braking on lane 'end2_junction_1' with decel=9.00, wished=5.00, severity=1.00, time=980.00.\n",
      "Warning: Vehicle 'CEWR.16' performs emergency braking on lane 'end2_junction_1' with decel=9.00, wished=5.00, severity=1.00, time=981.72.\n"
     ]
    },
    {
     "name": "stdout",
     "output_type": "stream",
     "text": [
      "Step #1060.00 (0ms ?*RT. ?UPS, TraCI: 2ms, vehicles TOT 818 ACT 107 BUF 4)                \r"
     ]
    },
    {
     "name": "stderr",
     "output_type": "stream",
     "text": [
      "Warning: Vehicle 'AWER.12' performs emergency stop at the end of lane 'end4_junction_1' because of a red traffic light (decel=-18.33, offset=0.05), time=1060.82.\n"
     ]
    },
    {
     "name": "stdout",
     "output_type": "stream",
     "text": [
      "Step #1100.00 (0ms ?*RT. ?UPS, TraCI: 1ms, vehicles TOT 845 ACT 100 BUF 1)                \r"
     ]
    },
    {
     "name": "stderr",
     "output_type": "stream",
     "text": [
      "Warning: Vehicle 'CESR.27' performs emergency braking on lane 'end2_junction_2' with decel=9.00, wished=5.00, severity=1.00, time=1100.00.\n",
      "Warning: Vehicle 'CESR.27' performs emergency stop at the end of lane 'end2_junction_2' because of a red traffic light (decel=-14.69, offset=0.05), time=1100.27.\n"
     ]
    },
    {
     "name": "stdout",
     "output_type": "stream",
     "text": [
      "Step #1221.00 (0ms ?*RT. ?UPS, TraCI: 0ms, vehicles TOT 924 ACT 92 BUF 0)                 \r"
     ]
    },
    {
     "name": "stderr",
     "output_type": "stream",
     "text": [
      "Warning: Vehicle 'CESR.38' performs emergency braking on lane 'end2_junction_2' with decel=9.00, wished=5.00, severity=1.00, time=1221.48.\n"
     ]
    },
    {
     "name": "stdout",
     "output_type": "stream",
     "text": [
      "episode : 1\n",
      "Step #1300.00 (0ms ?*RT. ?UPS, TraCI: 0ms, vehicles TOT 924 ACT 46 BUF 0)                 \n",
      " Retrying in 1 seconds\n"
     ]
    },
    {
     "name": "stderr",
     "output_type": "stream",
     "text": [
      "Warning: Environment variable SUMO_HOME is not set properly, disabling XML validation. Set 'auto' or 'always' for web lookups.\n",
      "Warning: Vehicle 'CNE.3' performs emergency braking on lane 'end1_junction_2' with decel=9.00, wished=5.00, severity=1.00, time=63.79.\n"
     ]
    },
    {
     "name": "stdout",
     "output_type": "stream",
     "text": [
      "Step #400.00 (1ms ~= 10.00*RT, ~64000.00UPS, TraCI: 0ms, vehicles TOT 308 ACT 64 BUF 4)   "
     ]
    },
    {
     "name": "stderr",
     "output_type": "stream",
     "text": [
      "Warning: Vehicle 'CWE.30' performs emergency braking on lane 'end4_junction_1' with decel=9.00, wished=5.00, severity=1.00, time=400.00.\n"
     ]
    },
    {
     "name": "stdout",
     "output_type": "stream",
     "text": [
      "Step #720.00 (1ms ~= 10.00*RT, ~96000.00UPS, TraCI: 0ms, vehicles TOT 558 ACT 96 BUF 0)   "
     ]
    },
    {
     "name": "stderr",
     "output_type": "stream",
     "text": [
      "Warning: Vehicle 'CNE.41' performs emergency braking on lane 'end1_junction_2' with decel=9.00, wished=5.00, severity=1.00, time=720.00.\n"
     ]
    },
    {
     "name": "stdout",
     "output_type": "stream",
     "text": [
      "state : [ 0  0 11  0  0 13  0  0  0  0  0  0  0  0  0  0  0  0  0  0  0  0  0  0\n",
      "  0  0 25  6 10 18  0  0  0  0  0  0  3  0  0  2  4  6  0  0  0  0  7  3]\n",
      "Q_values : [ 3.1421032   0.2972135  -1.1568536  -0.77694285]\n",
      "Step #780.00 (0ms ?*RT. ?UPS, TraCI: 1ms, vehicles TOT 610 ACT 97 BUF 8)                  \r"
     ]
    },
    {
     "name": "stderr",
     "output_type": "stream",
     "text": [
      "Warning: Vehicle 'CESR.8' performs emergency braking on lane 'end2_junction_2' with decel=9.00, wished=5.00, severity=1.00, time=780.00.\n",
      "Warning: Vehicle 'CESR.8' performs emergency stop at the end of lane 'end2_junction_2' because of a red traffic light (decel=-9.16, offset=0.00), time=780.80.\n"
     ]
    },
    {
     "name": "stdout",
     "output_type": "stream",
     "text": [
      "Step #900.00 (0ms ?*RT. ?UPS, TraCI: 1ms, vehicles TOT 703 ACT 84 BUF 5)                  \r"
     ]
    },
    {
     "name": "stderr",
     "output_type": "stream",
     "text": [
      "Warning: Vehicle 'CESR.19' performs emergency braking on lane 'end2_junction_2' with decel=9.00, wished=5.00, severity=1.00, time=900.00.\n",
      "Warning: Vehicle 'CESR.19' performs emergency braking on lane 'end2_junction_2' with decel=9.00, wished=5.00, severity=1.00, time=900.99.\n"
     ]
    },
    {
     "name": "stdout",
     "output_type": "stream",
     "text": [
      "state : [ 0  2  0  0  0 44  0  2  0  0  0  4  0  0  0  0  0  0  0  0  0  0  0  0\n",
      "  0  2  2  7  3 47  2  2  0  0  2  4  4  0  0  1  1  0  0  0  0  0  4  2]\n",
      "Q_values : [ 2.926977   2.3289592 -0.62248    0.4897043]\n",
      "episode : 2\n",
      "Step #1300.00 (0ms ?*RT. ?UPS, TraCI: 0ms, vehicles TOT 924 ACT 54 BUF 0)                 \n",
      " Retrying in 1 seconds\n"
     ]
    },
    {
     "name": "stderr",
     "output_type": "stream",
     "text": [
      "Warning: Environment variable SUMO_HOME is not set properly, disabling XML validation. Set 'auto' or 'always' for web lookups.\n",
      "Warning: Vehicle 'CNE.5' performs emergency braking on lane 'end1_junction_2' with decel=9.00, wished=5.00, severity=1.00, time=220.00.\n",
      "Warning: Vehicle 'CNE.5' performs emergency braking on lane 'end1_junction_2' with decel=9.00, wished=5.00, severity=1.00, time=221.19.\n"
     ]
    },
    {
     "name": "stdout",
     "output_type": "stream",
     "text": [
      "Step #281.00 (0ms ?*RT. ?UPS, TraCI: 0ms, vehicles TOT 216 ACT 85 BUF 0)                  \r"
     ]
    },
    {
     "name": "stderr",
     "output_type": "stream",
     "text": [
      "Warning: Vehicle 'CNE.16' performs emergency braking on lane 'end1_junction_2' with decel=9.00, wished=5.00, severity=1.00, time=280.00.\n",
      "Warning: Vehicle 'CNE.16' performs emergency braking on lane 'end1_junction_2' with decel=9.00, wished=5.00, severity=1.00, time=281.06.\n"
     ]
    },
    {
     "name": "stdout",
     "output_type": "stream",
     "text": [
      "Step #322.00 (0ms ?*RT. ?UPS, TraCI: 0ms, vehicles TOT 252 ACT 94 BUF 0)                  \r"
     ]
    },
    {
     "name": "stderr",
     "output_type": "stream",
     "text": [
      "Warning: Vehicle 'ANS.2' performs emergency braking on lane 'end1_junction_1' with decel=9.00, wished=5.00, severity=1.00, time=322.87.\n"
     ]
    },
    {
     "name": "stdout",
     "output_type": "stream",
     "text": [
      "Step #420.00 (0ms ?*RT. ?UPS, TraCI: 1ms, vehicles TOT 321 ACT 91 BUF 3)                  \r"
     ]
    },
    {
     "name": "stderr",
     "output_type": "stream",
     "text": [
      "Warning: Vehicle 'CNE.27' performs emergency braking on lane 'end1_junction_2' with decel=9.00, wished=5.00, severity=1.00, time=420.00.\n",
      "Warning: Vehicle 'CNE.27' performs emergency stop at the end of lane 'end1_junction_2' because of a red traffic light (decel=-14.77, offset=0.03), time=420.23.\n"
     ]
    },
    {
     "name": "stdout",
     "output_type": "stream",
     "text": [
      "Step #461.00 (0ms ?*RT. ?UPS, TraCI: 0ms, vehicles TOT 360 ACT 109 BUF 0)                 \r"
     ]
    },
    {
     "name": "stderr",
     "output_type": "stream",
     "text": [
      "Warning: Vehicle 'CWE.18' performs emergency braking on lane 'end4_junction_1' with decel=9.00, wished=5.00, severity=1.00, time=460.00.\n",
      "Warning: Vehicle 'CWE.18' performs emergency braking on lane 'end4_junction_1' with decel=9.00, wished=5.00, severity=1.00, time=461.24.\n"
     ]
    },
    {
     "name": "stdout",
     "output_type": "stream",
     "text": [
      "Step #763.00 (0ms ?*RT. ?UPS, TraCI: 0ms, vehicles TOT 599 ACT 116 BUF 1)                 \r"
     ]
    },
    {
     "name": "stderr",
     "output_type": "stream",
     "text": [
      "Warning: Vehicle 'CESR.11' performs emergency braking on lane 'end2_junction_2' with decel=9.00, wished=5.00, severity=1.00, time=763.96.\n"
     ]
    },
    {
     "name": "stdout",
     "output_type": "stream",
     "text": [
      "Step #780.00 (0ms ?*RT. ?UPS, TraCI: 3ms, vehicles TOT 610 ACT 119 BUF 8)                 \r"
     ]
    },
    {
     "name": "stderr",
     "output_type": "stream",
     "text": [
      "Warning: Vehicle 'CWE.42' performs emergency braking on lane 'end4_junction_1' with decel=9.00, wished=5.00, severity=1.00, time=780.00.\n",
      "Warning: Vehicle 'CWE.42' performs emergency stop at the end of lane 'end4_junction_1' because of a red traffic light (decel=-14.09, offset=0.03), time=780.59.\n"
     ]
    },
    {
     "name": "stdout",
     "output_type": "stream",
     "text": [
      "Step #820.00 (0ms ?*RT. ?UPS, TraCI: 0ms, vehicles TOT 638 ACT 103 BUF 4)                 "
     ]
    },
    {
     "name": "stderr",
     "output_type": "stream",
     "text": [
      "Warning: Vehicle 'CNER.5' performs emergency braking on lane 'end1_junction_2' with decel=9.00, wished=5.00, severity=1.00, time=820.00.\n"
     ]
    },
    {
     "name": "stdout",
     "output_type": "stream",
     "text": [
      "Step #882.00 (1ms ~= 10.00*RT, ~83000.00UPS, TraCI: 0ms, vehicles TOT 677 ACT 83 BUF 1)   \r"
     ]
    },
    {
     "name": "stderr",
     "output_type": "stream",
     "text": [
      "Warning: Vehicle 'CEWR.17' performs emergency braking on lane 'end2_junction_1' with decel=9.00, wished=5.00, severity=1.00, time=882.10.\n"
     ]
    },
    {
     "name": "stdout",
     "output_type": "stream",
     "text": [
      "Step #960.00 (0ms ?*RT. ?UPS, TraCI: 0ms, vehicles TOT 738 ACT 75 BUF 0)                  "
     ]
    },
    {
     "name": "stderr",
     "output_type": "stream",
     "text": [
      "Warning: Vehicle 'CESR.22' performs emergency braking on lane 'end2_junction_2' with decel=9.00, wished=5.00, severity=1.00, time=960.00.\n"
     ]
    },
    {
     "name": "stdout",
     "output_type": "stream",
     "text": [
      "Step #1020.00 (1ms ~= 10.00*RT, ~70000.00UPS, TraCI: 1ms, vehicles TOT 781 ACT 70 BUF 5)  \r"
     ]
    },
    {
     "name": "stderr",
     "output_type": "stream",
     "text": [
      "Warning: Vehicle 'CWER.11' performs emergency braking on lane 'end4_junction_1' with decel=9.00, wished=5.00, severity=1.00, time=1020.00.\n",
      "Warning: Vehicle 'CEWR.29' performs emergency braking on lane 'end2_junction_1' with decel=9.00, wished=5.00, severity=1.00, time=1020.00.\n",
      "Warning: Vehicle 'CEWR.29' performs emergency stop at the end of lane 'end2_junction_1' because of a red traffic light (decel=-19.00, offset=0.00), time=1020.33.\n",
      "Warning: Vehicle 'CWER.11' performs emergency stop at the end of lane 'end4_junction_1' because of a red traffic light (decel=-30.63, offset=0.04), time=1020.92.\n"
     ]
    },
    {
     "name": "stdout",
     "output_type": "stream",
     "text": [
      "state : [ 0  4  0  0  2 38  0  4  0  0  0  2  0  0  0  0  0  0  0  0  0  0  0  0\n",
      "  0  4  2  7  7 41  2  4  0  0  2  2  4  0  0  1  0  3  0  0  0  0  0  1]\n",
      "Q_values : [3.1951141  1.017973   0.18523951 0.16696303]\n",
      "episode : 3\n",
      "Step #1300.00 (0ms ?*RT. ?UPS, TraCI: 0ms, vehicles TOT 924 ACT 31 BUF 0)                 \n",
      " Retrying in 1 seconds\n"
     ]
    },
    {
     "name": "stderr",
     "output_type": "stream",
     "text": [
      "Warning: Environment variable SUMO_HOME is not set properly, disabling XML validation. Set 'auto' or 'always' for web lookups.\n",
      "Warning: Vehicle 'CNE.7' performs emergency braking on lane 'end1_junction_2' with decel=9.00, wished=5.00, severity=1.00, time=160.00.\n",
      "Warning: Vehicle 'CNE.7' performs emergency stop at the end of lane 'end1_junction_2' because of a red traffic light (decel=-11.87, offset=0.02), time=160.57.\n"
     ]
    },
    {
     "name": "stdout",
     "output_type": "stream",
     "text": [
      "Step #280.00 (0ms ?*RT. ?UPS, TraCI: 1ms, vehicles TOT 216 ACT 64 BUF 0)                  \r"
     ]
    },
    {
     "name": "stderr",
     "output_type": "stream",
     "text": [
      "Warning: Vehicle 'AWE.18' performs emergency stop at the end of lane 'end4_junction_1' because of a red traffic light (decel=-14.44, offset=0.03), time=280.60.\n"
     ]
    },
    {
     "name": "stdout",
     "output_type": "stream",
     "text": [
      "Step #301.00 (0ms ?*RT. ?UPS, TraCI: 0ms, vehicles TOT 243 ACT 73 BUF 3)                  \r"
     ]
    },
    {
     "name": "stderr",
     "output_type": "stream",
     "text": [
      "Warning: Vehicle 'CNE.18' performs emergency braking on lane 'end1_junction_2' with decel=9.00, wished=5.00, severity=1.00, time=300.00.\n",
      "Warning: Vehicle 'CNE.18' performs emergency braking on lane 'end1_junction_2' with decel=9.00, wished=5.00, severity=1.00, time=301.23.\n"
     ]
    },
    {
     "name": "stdout",
     "output_type": "stream",
     "text": [
      "Step #322.00 (0ms ?*RT. ?UPS, TraCI: 0ms, vehicles TOT 252 ACT 67 BUF 0)                  \r"
     ]
    },
    {
     "name": "stderr",
     "output_type": "stream",
     "text": [
      "Warning: Vehicle 'ANS.2' performs emergency braking on lane 'end1_junction_1' with decel=9.00, wished=5.00, severity=1.00, time=320.00.\n",
      "Warning: Vehicle 'ANS.2' performs emergency braking on lane 'end1_junction_1' with decel=9.00, wished=5.00, severity=1.00, time=322.34.\n"
     ]
    },
    {
     "name": "stdout",
     "output_type": "stream",
     "text": [
      "Step #481.00 (0ms ?*RT. ?UPS, TraCI: 0ms, vehicles TOT 375 ACT 78 BUF 3)                  \r"
     ]
    },
    {
     "name": "stderr",
     "output_type": "stream",
     "text": [
      "Warning: Vehicle 'CES.11' performs emergency braking on lane 'end2_junction_2' with decel=9.00, wished=5.00, severity=1.00, time=480.00.\n",
      "Warning: Vehicle 'CES.11' performs emergency braking on lane 'end2_junction_2' with decel=9.00, wished=5.00, severity=1.00, time=481.28.\n"
     ]
    },
    {
     "name": "stdout",
     "output_type": "stream",
     "text": [
      "Step #660.00 (1ms ~= 10.00*RT, ~119000.00UPS, TraCI: 2ms, vehicles TOT 517 ACT 119 BUF 5) \r"
     ]
    },
    {
     "name": "stderr",
     "output_type": "stream",
     "text": [
      "Warning: Vehicle 'CNE.45' performs emergency braking on lane 'end1_junction_2' with decel=9.00, wished=5.00, severity=1.00, time=660.00.\n",
      "Warning: Vehicle 'CNE.45' performs emergency stop at the end of lane 'end1_junction_2' because of a red traffic light (decel=-12.41, offset=0.01), time=660.50.\n"
     ]
    },
    {
     "name": "stdout",
     "output_type": "stream",
     "text": [
      "state : [ 0  0 11  0 22  0  0  0  0  0 44  0  0  0  0  0  0  0  0  0  0  0  0  0\n",
      "  0  1 14  6 27  3  2  0  0  0 46  0  2  0  1  2  0  2  0  0  8  0  0  0]\n",
      "Q_values : [ 6.2510786  2.3696556 -3.8518755  1.1828212]\n",
      "Step #692.00 (0ms ?*RT. ?UPS, TraCI: 0ms, vehicles TOT 539 ACT 111 BUF 1)                 \r"
     ]
    },
    {
     "name": "stderr",
     "output_type": "stream",
     "text": [
      "Warning: Teleporting vehicle 'AWE.30'; waited too long (yield), lane='end4_junction_1', time=688.55.\n",
      "Warning: Vehicle 'AWE.30' ends teleporting on edge 'junction_end2', time=688.55.\n",
      "Warning: Teleporting vehicle 'AEW.10'; waited too long (yield), lane='end2_junction_1', time=692.64.\n",
      "Warning: Vehicle 'AEW.10' ends teleporting on edge 'junction_end4', time=692.64.\n"
     ]
    },
    {
     "name": "stdout",
     "output_type": "stream",
     "text": [
      "Step #800.00 (0ms ?*RT. ?UPS, TraCI: 0ms, vehicles TOT 623 ACT 119 BUF 1)                 "
     ]
    },
    {
     "name": "stderr",
     "output_type": "stream",
     "text": [
      "Warning: Vehicle 'CESR.10' performs emergency braking on lane 'end2_junction_2' with decel=9.00, wished=5.00, severity=1.00, time=800.00.\n"
     ]
    },
    {
     "name": "stdout",
     "output_type": "stream",
     "text": [
      "Step #844.00 (0ms ?*RT. ?UPS, TraCI: 0ms, vehicles TOT 650 ACT 121 BUF 4)                 "
     ]
    },
    {
     "name": "stderr",
     "output_type": "stream",
     "text": [
      "Warning: Vehicle 'CNER.6' performs emergency braking on lane 'end1_junction_2' with decel=9.00, wished=5.00, severity=1.00, time=844.00.\n"
     ]
    },
    {
     "name": "stdout",
     "output_type": "stream",
     "text": [
      "Step #940.00 (1ms ~= 10.00*RT, ~163000.00UPS, TraCI: 2ms, vehicles TOT 728 ACT 163 BUF 4) \r"
     ]
    },
    {
     "name": "stderr",
     "output_type": "stream",
     "text": [
      "Warning: Vehicle 'CWE.39' performs emergency braking on lane 'end4_junction_1' with decel=9.00, wished=5.00, severity=1.00, time=940.00.\n",
      "Warning: Vehicle 'CWE.39' performs emergency stop at the end of lane 'end4_junction_1' because of a red traffic light (decel=-16.47, offset=0.02), time=940.19.\n"
     ]
    },
    {
     "name": "stdout",
     "output_type": "stream",
     "text": [
      "Step #1121.00 (1ms ~= 10.00*RT, ~151000.00UPS, TraCI: 0ms, vehicles TOT 862 ACT 151 BUF 2)\r"
     ]
    },
    {
     "name": "stderr",
     "output_type": "stream",
     "text": [
      "Warning: Vehicle 'CWE.48' performs emergency braking on lane 'end4_junction_1' with decel=9.00, wished=5.00, severity=1.00, time=1120.00.\n",
      "Warning: Vehicle 'AEWR.29' performs emergency stop at the end of lane 'end2_junction_1' because of a red traffic light (decel=-18.63, offset=0.05), time=1120.28.\n",
      "Warning: Vehicle 'CWE.48' performs emergency braking on lane 'end4_junction_1' with decel=9.00, wished=5.00, severity=1.00, time=1121.16.\n"
     ]
    },
    {
     "name": "stdout",
     "output_type": "stream",
     "text": [
      "state : [ 0  0 14  0 16  2  0  0  4  0 11  0  0  0  0  0  0  0  0  0  0  0  0  0\n",
      "  0  0 14  6 50 21  0  0  4  0 23  0  2  0  2  2  0  0  0  0  6  0  0  0]\n",
      "Q_values : [ 4.6781673  0.5310212 -0.889976  -1.1625849]\n",
      "Step #1180.00 (1ms ~= 10.00*RT, ~149000.00UPS, TraCI: 119ms, vehicles TOT 906 ACT 149 BUF \r"
     ]
    },
    {
     "name": "stderr",
     "output_type": "stream",
     "text": [
      "Warning: Vehicle 'CNER.13' performs emergency braking on lane 'end1_junction_2' with decel=9.00, wished=5.00, severity=1.00, time=1180.00.\n",
      "Warning: Vehicle 'CNER.13' performs emergency stop at the end of lane 'end1_junction_2' because of a red traffic light (decel=-14.60, offset=0.06), time=1180.27.\n"
     ]
    },
    {
     "name": "stdout",
     "output_type": "stream",
     "text": [
      "Step #1204.00 (1ms ~= 10.00*RT, ~148000.00UPS, TraCI: 0ms, vehicles TOT 924 ACT 148 BUF 0)\r"
     ]
    },
    {
     "name": "stderr",
     "output_type": "stream",
     "text": [
      "Warning: Vehicle 'CWNR.4' performs emergency braking on lane 'end4_junction_2' with decel=9.00, wished=5.00, severity=1.00, time=1204.14.\n"
     ]
    },
    {
     "name": "stdout",
     "output_type": "stream",
     "text": [
      "episode : 4\n",
      "Step #1300.00 (0ms ?*RT. ?UPS, TraCI: 0ms, vehicles TOT 924 ACT 113 BUF 0)                \n",
      " Retrying in 1 seconds\n"
     ]
    },
    {
     "name": "stderr",
     "output_type": "stream",
     "text": [
      "Warning: Environment variable SUMO_HOME is not set properly, disabling XML validation. Set 'auto' or 'always' for web lookups.\n"
     ]
    },
    {
     "name": "stdout",
     "output_type": "stream",
     "text": [
      "state : [ 0  0  5  0  3  9  0  0  1  0  9  3  0  0  0  0  0  0  0  0  0  0  0  0\n",
      "  0  0 10  0  4 10  4  0  2  0 13  4  2  1  0  4  0  0  2  2  0  2  0  0]\n",
      "Q_values : [ 0.03305149 -1.2541499   0.24500918  0.37917566]\n"
     ]
    },
    {
     "name": "stderr",
     "output_type": "stream",
     "text": [
      "Warning: Vehicle 'CNE.15' performs emergency braking on lane 'end1_junction_2' with decel=9.00, wished=5.00, severity=1.00, time=220.00.\n",
      "Warning: Vehicle 'CNE.15' performs emergency stop at the end of lane 'end1_junction_2' because of a red traffic light (decel=-12.55, offset=0.02), time=220.49.\n"
     ]
    },
    {
     "name": "stdout",
     "output_type": "stream",
     "text": [
      "Step #320.00 (1ms ~= 10.00*RT, ~69000.00UPS, TraCI: 68ms, vehicles TOT 252 ACT 69 BUF 0)  \r"
     ]
    },
    {
     "name": "stderr",
     "output_type": "stream",
     "text": [
      "Warning: Vehicle 'CWN.2' performs emergency braking on lane 'end4_junction_2' with decel=9.00, wished=5.00, severity=1.00, time=320.00.\n",
      "Warning: Vehicle 'CES.8' performs emergency braking on lane 'end2_junction_2' with decel=9.00, wished=5.00, severity=1.00, time=320.00.\n",
      "Warning: Vehicle 'CES.8' performs emergency stop at the end of lane 'end2_junction_2' because of a red traffic light (decel=-20.90, offset=0.05), time=320.22.\n",
      "Warning: Vehicle 'CWN.2' performs emergency stop at the end of lane 'end4_junction_2' because of a red traffic light (decel=-19.01, offset=0.06), time=320.30.\n"
     ]
    },
    {
     "name": "stdout",
     "output_type": "stream",
     "text": [
      "Step #340.00 (1ms ~= 10.00*RT, ~74000.00UPS, TraCI: 69ms, vehicles TOT 270 ACT 74 BUF 0)  \r"
     ]
    },
    {
     "name": "stderr",
     "output_type": "stream",
     "text": [
      "Warning: Vehicle 'CNE.25' performs emergency braking on lane 'end1_junction_2' with decel=9.00, wished=5.00, severity=1.00, time=340.00.\n",
      "Warning: Vehicle 'CNE.25' performs emergency stop at the end of lane 'end1_junction_2' because of a red traffic light (decel=-16.07, offset=0.02), time=340.12.\n"
     ]
    },
    {
     "name": "stdout",
     "output_type": "stream",
     "text": [
      "Step #520.00 (0ms ?*RT. ?UPS, TraCI: 68ms, vehicles TOT 402 ACT 82 BUF 0)                 \r"
     ]
    },
    {
     "name": "stderr",
     "output_type": "stream",
     "text": [
      "Warning: Vehicle 'AWE.24' performs emergency stop at the end of lane 'end4_junction_1' because of a red traffic light (decel=-18.73, offset=0.04), time=520.12.\n"
     ]
    },
    {
     "name": "stdout",
     "output_type": "stream",
     "text": [
      "Step #600.00 (1ms ~= 10.00*RT, ~93000.00UPS, TraCI: 67ms, vehicles TOT 466 ACT 93 BUF 20) \r"
     ]
    },
    {
     "name": "stderr",
     "output_type": "stream",
     "text": [
      "Warning: Vehicle 'CWE.30' performs emergency braking on lane 'end4_junction_1' with decel=9.00, wished=5.00, severity=1.00, time=600.00.\n",
      "Warning: Vehicle 'CWE.30' performs emergency stop at the end of lane 'end4_junction_1' because of a red traffic light (decel=-15.09, offset=0.02), time=600.48.\n"
     ]
    },
    {
     "name": "stdout",
     "output_type": "stream",
     "text": [
      "Step #681.00 (0ms ?*RT. ?UPS, TraCI: 0ms, vehicles TOT 534 ACT 98 BUF 0)                  \r"
     ]
    },
    {
     "name": "stderr",
     "output_type": "stream",
     "text": [
      "Warning: Vehicle 'CESR.3' performs emergency braking on lane 'end2_junction_2' with decel=9.00, wished=5.00, severity=1.00, time=681.20.\n"
     ]
    },
    {
     "name": "stdout",
     "output_type": "stream",
     "text": [
      "Step #802.00 (0ms ?*RT. ?UPS, TraCI: 0ms, vehicles TOT 624 ACT 123 BUF 0)                 \r"
     ]
    },
    {
     "name": "stderr",
     "output_type": "stream",
     "text": [
      "Warning: Vehicle 'CESR.14' performs emergency braking on lane 'end2_junction_2' with decel=9.00, wished=5.00, severity=1.00, time=802.06.\n"
     ]
    },
    {
     "name": "stdout",
     "output_type": "stream",
     "text": [
      "Step #840.00 (0ms ?*RT. ?UPS, TraCI: 70ms, vehicles TOT 649 ACT 105 BUF 5)                \r"
     ]
    },
    {
     "name": "stderr",
     "output_type": "stream",
     "text": [
      "Warning: Vehicle 'AWE.49' performs emergency stop at the end of lane 'end4_junction_1' because of a red traffic light (decel=-19.96, offset=0.08), time=840.35.\n",
      "Warning: Vehicle 'AEWR.11' performs emergency stop at the end of lane 'end2_junction_1' because of a red traffic light (decel=-19.03, offset=0.07), time=840.42.\n"
     ]
    },
    {
     "name": "stdout",
     "output_type": "stream",
     "text": [
      "Step #882.00 (1ms ~= 10.00*RT, ~92000.00UPS, TraCI: 0ms, vehicles TOT 677 ACT 92 BUF 1)   \r"
     ]
    },
    {
     "name": "stderr",
     "output_type": "stream",
     "text": [
      "Warning: Vehicle 'CEWR.17' performs emergency braking on lane 'end2_junction_1' with decel=9.00, wished=5.00, severity=1.00, time=880.00.\n",
      "Warning: Vehicle 'CEWR.17' performs emergency stop at the end of lane 'end2_junction_1' because of a red traffic light (decel=-16.01, offset=0.00), time=880.38.\n",
      "Warning: Vehicle 'CWE.47' performs emergency braking on lane 'end4_junction_1' with decel=9.00, wished=5.00, severity=1.00, time=882.03.\n"
     ]
    },
    {
     "name": "stdout",
     "output_type": "stream",
     "text": [
      "Step #960.00 (0ms ?*RT. ?UPS, TraCI: 67ms, vehicles TOT 742 ACT 76 BUF 8)                 \r"
     ]
    },
    {
     "name": "stderr",
     "output_type": "stream",
     "text": [
      "Warning: Vehicle 'AEWR.27' performs emergency stop at the end of lane 'end2_junction_1' because of a red traffic light (decel=-26.27, offset=0.14), time=960.03.\n"
     ]
    },
    {
     "name": "stdout",
     "output_type": "stream",
     "text": [
      "state : [ 0  0  6  0 13 25  0  0  2  0  4  2  0  0  0  0  0  0  0  0  0  0  0  0\n",
      "  0  0  8  5 17 40  2  0  2  0  6  2  2  1  0  2  0  0  1  2  0  2  0  0]\n",
      "Q_values : [-1.8178896   4.572767    0.13183418  1.5499855 ]\n",
      "Step #1140.00 (1ms ~= 10.00*RT, ~85000.00UPS, TraCI: 68ms, vehicles TOT 874 ACT 85 BUF 8) \r"
     ]
    },
    {
     "name": "stderr",
     "output_type": "stream",
     "text": [
      "Warning: Vehicle 'CESR.25' performs emergency braking on lane 'end2_junction_2' with decel=9.00, wished=5.00, severity=1.00, time=1140.00.\n",
      "Warning: Vehicle 'CESR.25' performs emergency stop at the end of lane 'end2_junction_2' because of a red traffic light (decel=-13.41, offset=0.02), time=1140.36.\n"
     ]
    },
    {
     "name": "stdout",
     "output_type": "stream",
     "text": [
      "episode : 5\n",
      "Step #1300.00 (0ms ?*RT. ?UPS, TraCI: 1ms, vehicles TOT 924 ACT 54 BUF 0)                 \n",
      " Retrying in 1 seconds\n"
     ]
    },
    {
     "name": "stderr",
     "output_type": "stream",
     "text": [
      "Warning: Environment variable SUMO_HOME is not set properly, disabling XML validation. Set 'auto' or 'always' for web lookups.\n",
      "Warning: Vehicle 'AWE.6' performs emergency stop at the end of lane 'end4_junction_1' because of a red traffic light (decel=-11.94, offset=0.01), time=100.85.\n"
     ]
    },
    {
     "name": "stdout",
     "output_type": "stream",
     "text": [
      "state : [ 0  0 10  0  0  5  0  0  0  0  0  0  0  0  0  0  0  0  0  0  0  0  0  0 BUF 0)   \n",
      "  0  1 13  0  1  6  4  0  0  1  2  0  2  0  0  3  4  4  0  0  0  0  2  0]\n",
      "Q_values : [0.19076133 8.227328   3.9712043  6.625069  ]\n",
      "Step #140.00 (0ms ?*RT. ?UPS, TraCI: 87ms, vehicles TOT 108 ACT 44 BUF 0)                 \r"
     ]
    },
    {
     "name": "stderr",
     "output_type": "stream",
     "text": [
      "Warning: Vehicle 'CEW.3' performs emergency braking on lane 'end2_junction_1' with decel=9.00, wished=5.00, severity=1.00, time=140.00.\n",
      "Warning: Vehicle 'CEW.3' performs emergency stop at the end of lane 'end2_junction_1' because of a red traffic light (decel=-24.92, offset=0.10), time=140.07.\n"
     ]
    },
    {
     "name": "stdout",
     "output_type": "stream",
     "text": [
      "Step #160.00 (0ms ?*RT. ?UPS, TraCI: 68ms, vehicles TOT 138 ACT 58 BUF 0)                 \r"
     ]
    },
    {
     "name": "stderr",
     "output_type": "stream",
     "text": [
      "Warning: Vehicle 'CNE.10' performs emergency braking on lane 'end1_junction_2' with decel=9.00, wished=5.00, severity=1.00, time=160.00.\n",
      "Warning: Vehicle 'CNE.10' performs emergency stop at the end of lane 'end1_junction_2' because of a red traffic light (decel=-14.11, offset=0.04), time=160.29.\n"
     ]
    },
    {
     "name": "stdout",
     "output_type": "stream",
     "text": [
      "state : [0 0 4 0 2 7 0 0 1 0 4 1 0 0 0 0 0 0 0 0 0 0 0 0 0 0 9 0 3 8 4 0 2 0 9 2 2\n",
      " 1 0 4 0 2 2 2 0 2 0 0]\n",
      "Q_values : [-0.13142872  2.73653     4.9877014   2.2896292 ]\n",
      "Step #261.00 (0ms ?*RT. ?UPS, TraCI: 0ms, vehicles TOT 204 ACT 62 BUF 0)                  \r"
     ]
    },
    {
     "name": "stderr",
     "output_type": "stream",
     "text": [
      "Warning: Vehicle 'CES.6' performs emergency braking on lane 'end2_junction_2' with decel=9.00, wished=5.00, severity=1.00, time=260.00.\n",
      "Warning: Vehicle 'CES.6' performs emergency braking on lane 'end2_junction_2' with decel=9.00, wished=5.00, severity=1.00, time=261.13.\n"
     ]
    },
    {
     "name": "stdout",
     "output_type": "stream",
     "text": [
      "state : [ 0  0 22  0  0  1  0  0  2  0  0  0  0  0  0  0  0  0  0  0  0  0  0  0\n",
      "  1  0 26  1  1  3  5  0  2  1  3  0  0  0  0  1  5  3  0  0  2  0  2  0]\n",
      "Q_values : [ 4.3118124 13.708745   4.7184973  4.827133 ]\n",
      "state : [ 0  2  0  0  1  6  0  2  0  0  2  2  0  0  0  0  0  0  0  0  0  0  0  0\n",
      "  0  2 17  0  2  7  4  2  0  0  6  2  2  0  0  3  1  9  0  0  0  0  0  1]\n",
      "Q_values : [-11.277447   -8.0918865   0.1361928  -2.3493974]\n",
      "Step #360.00 (0ms ?*RT. ?UPS, TraCI: 89ms, vehicles TOT 280 ACT 63 BUF 8)                 \r"
     ]
    },
    {
     "name": "stderr",
     "output_type": "stream",
     "text": [
      "Warning: Vehicle 'CNE.21' performs emergency braking on lane 'end1_junction_2' with decel=9.00, wished=5.00, severity=1.00, time=360.00.\n",
      "Warning: Vehicle 'CNE.21' performs emergency stop at the end of lane 'end1_junction_2' because of a red traffic light (decel=-12.06, offset=0.02), time=360.53.\n"
     ]
    },
    {
     "name": "stdout",
     "output_type": "stream",
     "text": [
      "state : [ 0  2 15  0 10  1  0  1  0  0 27  0  0  0  0  0  0  0  0  0  0  0  0  0\n",
      "  0  2 36  0 10  2  4  1  0  0 30  0  2  0  0  4  0  9  0  0  0  0  0  2]\n",
      "Q_values : [ 2.4437108 24.04134   30.463627  11.779955 ]\n",
      "state : [ 0  2 26  0  2  0  0  1  0  0 10  1  0  0  0  0  0  0  0  0  0  0  0  0\n",
      "  2  2 42  2  2  0  5  1  0  2 23  1  2  0  0  1  1  1  0  0  3  0  0  0]\n",
      "Q_values : [-4.335625 26.739557  9.414143  9.794784]\n",
      "Step #761.00 (1ms ~= 10.00*RT, ~135000.00UPS, TraCI: 0ms, vehicles TOT 598 ACT 135 BUF 2) \r"
     ]
    },
    {
     "name": "stderr",
     "output_type": "stream",
     "text": [
      "Warning: Vehicle 'CESR.10' performs emergency braking on lane 'end2_junction_2' with decel=9.00, wished=5.00, severity=1.00, time=760.00.\n",
      "Warning: Vehicle 'CESR.10' performs emergency braking on lane 'end2_junction_2' with decel=9.00, wished=5.00, severity=1.00, time=761.12.\n"
     ]
    },
    {
     "name": "stdout",
     "output_type": "stream",
     "text": [
      "Step #780.00 (0ms ?*RT. ?UPS, TraCI: 69ms, vehicles TOT 610 ACT 134 BUF 8)                \r"
     ]
    },
    {
     "name": "stderr",
     "output_type": "stream",
     "text": [
      "Warning: Vehicle 'CNE.49' performs emergency braking on lane 'end1_junction_2' with decel=9.00, wished=5.00, severity=1.00, time=780.00.\n",
      "Warning: Vehicle 'CNE.49' performs emergency stop at the end of lane 'end1_junction_2' because of a red traffic light (decel=-14.13, offset=0.05), time=780.30.\n"
     ]
    },
    {
     "name": "stdout",
     "output_type": "stream",
     "text": [
      "state : [ 0  0 13  0 11 12  0  0  0  0 11  9  0  0  0  0  0  0  0  0  0  0  0  0\n",
      "  1  1 13  6 28 15  2  0  0  1 26  9  3  2  0  1  2  0  0  1  0  0  1  0]\n",
      "Q_values : [ 5.667869   3.6732163 22.27193   10.482498 ]\n"
     ]
    },
    {
     "name": "stderr",
     "output_type": "stream",
     "text": [
      "Warning: Vehicle 'CEWR.8' performs emergency braking on lane 'end2_junction_1' with decel=9.00, wished=5.00, severity=1.00, time=840.00.\n",
      "Warning: Vehicle 'CEWR.8' performs emergency stop at the end of lane 'end2_junction_1' because of a red traffic light (decel=-16.79, offset=0.04), time=840.33.\n"
     ]
    },
    {
     "name": "stdout",
     "output_type": "stream",
     "text": [
      "Step #900.00 (0ms ?*RT. ?UPS, TraCI: 71ms, vehicles TOT 703 ACT 117 BUF 5)                \r"
     ]
    },
    {
     "name": "stderr",
     "output_type": "stream",
     "text": [
      "Warning: Vehicle 'CESR.21' performs emergency braking on lane 'end2_junction_2' with decel=9.00, wished=5.00, severity=1.00, time=900.00.\n",
      "Warning: Vehicle 'CESR.21' performs emergency stop at the end of lane 'end2_junction_2' because of a red traffic light (decel=-11.01, offset=0.02), time=900.72.\n"
     ]
    },
    {
     "name": "stdout",
     "output_type": "stream",
     "text": [
      "state : [ 0  0 19  0  0  6  0  1  1  0  0  1  0  0  0  0  0  0  0  0  0  0  0  0\n",
      "  2  2 19  6 21 10  1  2  2  2  9  2  2  0  0  0  8  3  0  0  2  0  8  3]\n",
      "Q_values : [-15.3527775 -11.848361   -1.7734137 -10.950769 ]\n",
      "Step #941.00 (1ms ~= 10.00*RT, ~95000.00UPS, TraCI: 0ms, vehicles TOT 730 ACT 95 BUF 2)   \r"
     ]
    },
    {
     "name": "stderr",
     "output_type": "stream",
     "text": [
      "Warning: Vehicle 'CEWR.22' performs emergency braking on lane 'end2_junction_1' with decel=9.00, wished=5.00, severity=1.00, time=940.00.\n",
      "Warning: Vehicle 'CEWR.22' performs emergency stop at the end of lane 'end2_junction_1' because of a red traffic light (decel=-12.39, offset=0.02), time=941.09.\n"
     ]
    },
    {
     "name": "stdout",
     "output_type": "stream",
     "text": [
      "Step #1000.00(0ms ?*RT. ?UPS, TraCI: 0ms, vehicles TOT 770 ACT 80 BUF 4)                  "
     ]
    },
    {
     "name": "stderr",
     "output_type": "stream",
     "text": [
      "Warning: Vehicle 'CENR.31' performs emergency braking on lane 'end2_junction_0' with decel=9.00, wished=5.00, severity=1.00, time=1000.00.\n"
     ]
    },
    {
     "name": "stdout",
     "output_type": "stream",
     "text": [
      "Step #1040.00 (0ms ?*RT. ?UPS, TraCI: 68ms, vehicles TOT 809 ACT 98 BUF 1)                \r"
     ]
    },
    {
     "name": "stderr",
     "output_type": "stream",
     "text": [
      "Warning: Vehicle 'CESR.32' performs emergency braking on lane 'end2_junction_2' with decel=9.00, wished=5.00, severity=1.00, time=1040.00.\n",
      "Warning: Vehicle 'CESR.32' performs emergency stop at the end of lane 'end2_junction_2' because of a red traffic light (decel=-13.92, offset=0.01), time=1040.34.\n"
     ]
    },
    {
     "name": "stdout",
     "output_type": "stream",
     "text": [
      "Step #1080.00 (1ms ~= 10.00*RT, ~99000.00UPS, TraCI: 75ms, vehicles TOT 835 ACT 99 BUF 5) \r"
     ]
    },
    {
     "name": "stderr",
     "output_type": "stream",
     "text": [
      "Warning: Teleporting vehicle 'CNE.49'; waited too long (yield), lane='end1_junction_2', time=1080.31.\n",
      "Warning: Vehicle 'CNE.49' ends teleporting on edge 'junction_end2', time=1080.31.\n"
     ]
    },
    {
     "name": "stdout",
     "output_type": "stream",
     "text": [
      "Step #1204.00 (1ms ~= 10.00*RT, ~140000.00UPS, TraCI: 0ms, vehicles TOT 924 ACT 140 BUF 0)\r"
     ]
    },
    {
     "name": "stderr",
     "output_type": "stream",
     "text": [
      "Warning: Vehicle 'CESR.43' performs emergency braking on lane 'end2_junction_2' with decel=9.00, wished=5.00, severity=1.00, time=1200.00.\n",
      "Warning: Vehicle 'CESR.43' performs emergency stop at the end of lane 'end2_junction_2' because of a red traffic light (decel=-10.04, offset=0.01), time=1200.71.\n",
      "Warning: Vehicle 'CWNR.4' performs emergency braking on lane 'end4_junction_2' with decel=9.00, wished=5.00, severity=1.00, time=1204.12.\n"
     ]
    },
    {
     "name": "stdout",
     "output_type": "stream",
     "text": [
      "Step #1220.00 (0ms ?*RT. ?UPS, TraCI: 0ms, vehicles TOT 924 ACT 128 BUF 0)                "
     ]
    },
    {
     "name": "stderr",
     "output_type": "stream",
     "text": [
      "Warning: Vehicle 'CENR.49' performs emergency braking on lane 'end2_junction_0' with decel=9.00, wished=5.00, severity=1.00, time=1220.00.\n"
     ]
    },
    {
     "name": "stdout",
     "output_type": "stream",
     "text": [
      "Step #1240.00 (0ms ?*RT. ?UPS, TraCI: 1ms, vehicles TOT 924 ACT 96 BUF 0)                 "
     ]
    },
    {
     "name": "stderr",
     "output_type": "stream",
     "text": [
      "Warning: Vehicle 'CNER.5' performs emergency braking on lane 'end1_junction_2' with decel=9.00, wished=5.00, severity=1.00, time=1240.00.\n"
     ]
    },
    {
     "name": "stdout",
     "output_type": "stream",
     "text": [
      "state : [ 0  0 23  0  2 13  0  0  0  0  0  1  0  0  0  0  0  0  0  0  0  0  0  0\n",
      "  0  0 23  0 19 13  0  0  0  0  0  1  0  0  0  0  1  0  0  0  0  0  9  2]\n",
      "Q_values : [-0.360286   0.7183444 11.0603     7.379668 ]\n",
      "episode : 6\n",
      "Step #1300.00 (0ms ?*RT. ?UPS, TraCI: 0ms, vehicles TOT 924 ACT 56 BUF 0)                 \n",
      " Retrying in 1 seconds\n"
     ]
    },
    {
     "name": "stderr",
     "output_type": "stream",
     "text": [
      "Warning: Environment variable SUMO_HOME is not set properly, disabling XML validation. Set 'auto' or 'always' for web lookups.\n"
     ]
    },
    {
     "name": "stdout",
     "output_type": "stream",
     "text": [
      "state : [0 0 0 0 0 0 0 0 0 0 0 0 0 0 0 0 0 0 0 0 0 0 0 0 2 3 3 2 2 2 4 2 2 3 3 2 0\n",
      " 0 0 0 0 0 0 0 0 0 0 0]\n",
      "Q_values : [-9.0027275 -2.0275118 -2.377486  -3.7243383]\n",
      "state : [0 2 2 0 0 2 0 2 0 0 0 2 0 0 0 0 0 0 0 0 0 0 0 0 0 2 6 2 2 4 4 2 0 0 3 2 0\n",
      " 0 0 4 4 3 0 0 0 0 1 0]\n",
      "Q_values : [-6.9683924   0.57128483 -0.2521872  -2.962357  ]\n"
     ]
    },
    {
     "name": "stderr",
     "output_type": "stream",
     "text": [
      "Warning: Vehicle 'CES.3' performs emergency braking on lane 'end2_junction_2' with decel=9.00, wished=5.00, severity=1.00, time=140.00.\n",
      "Warning: Vehicle 'CES.3' performs emergency stop at the end of lane 'end2_junction_2' because of a red traffic light (decel=-13.52, offset=0.04), time=141.15.\n"
     ]
    },
    {
     "name": "stdout",
     "output_type": "stream",
     "text": [
      "state : [ 0  2  9  0  0  1  0  2  0  0  0  0  0  0  0  0  0  0  0  0  0  0  0  0          \n",
      "  3  4 13  2  3  2  5  5  1  3  9  1  1  0  0  2  7  4  0  0  0  0  3  2]\n",
      "Q_values : [-14.546307   -2.700848   -4.2029853  -8.746464 ]\n",
      "Step #181.00 (0ms ?*RT. ?UPS, TraCI: 0ms, vehicles TOT 148 ACT 61 BUF 8)                  \r"
     ]
    },
    {
     "name": "stderr",
     "output_type": "stream",
     "text": [
      "Warning: Vehicle 'CNE.12' performs emergency braking on lane 'end1_junction_2' with decel=9.00, wished=5.00, severity=1.00, time=181.45.\n"
     ]
    },
    {
     "name": "stdout",
     "output_type": "stream",
     "text": [
      "state : [ 0  0 18  0  6  2  0  0  0  0 24  0  0  0  0  0  0  0  0  0  0  0  0  0\n",
      "  1  0 22  1  8  4  5  0  0  1 28  0  0  0  0  2  0  0  0  0  0  0  0  0]\n",
      "Q_values : [ 9.229274 13.906204 26.48784   9.671195]\n",
      "Step #320.00 (0ms ?*RT. ?UPS, TraCI: 70ms, vehicles TOT 252 ACT 82 BUF 0)                 \r"
     ]
    },
    {
     "name": "stderr",
     "output_type": "stream",
     "text": [
      "Warning: Vehicle 'CWE.21' performs emergency braking on lane 'end4_junction_1' with decel=9.00, wished=5.00, severity=1.00, time=320.00.\n",
      "Warning: Vehicle 'CWE.21' performs emergency stop at the end of lane 'end4_junction_1' because of a red traffic light (decel=-21.13, offset=0.09), time=320.15.\n"
     ]
    },
    {
     "name": "stdout",
     "output_type": "stream",
     "text": [
      "Step #420.00 (0ms ?*RT. ?UPS, TraCI: 70ms, vehicles TOT 321 ACT 68 BUF 3)                 \r"
     ]
    },
    {
     "name": "stderr",
     "output_type": "stream",
     "text": [
      "Warning: Vehicle 'CNE.23' performs emergency braking on lane 'end1_junction_2' with decel=9.00, wished=5.00, severity=1.00, time=420.00.\n",
      "Warning: Vehicle 'CNE.23' performs emergency stop at the end of lane 'end1_junction_2' because of a red traffic light (decel=-13.44, offset=0.02), time=420.40.\n"
     ]
    },
    {
     "name": "stdout",
     "output_type": "stream",
     "text": [
      "Step #644.00 (0ms ?*RT. ?UPS, TraCI: 0ms, vehicles TOT 509 ACT 112 BUF 1)                 \r"
     ]
    },
    {
     "name": "stderr",
     "output_type": "stream",
     "text": [
      "Warning: Vehicle 'CESR.1' performs emergency braking on lane 'end2_junction_2' with decel=9.00, wished=5.00, severity=1.00, time=644.19.\n"
     ]
    },
    {
     "name": "stdout",
     "output_type": "stream",
     "text": [
      "Step #661.00 (1ms ~= 10.00*RT, ~103000.00UPS, TraCI: 69ms, vehicles TOT 517 ACT 103 BUF 5)"
     ]
    },
    {
     "name": "stderr",
     "output_type": "stream",
     "text": [
      "Warning: Vehicle 'CWER.1' performs emergency braking on lane 'end4_junction_1' with decel=9.00, wished=5.00, severity=1.00, time=660.00.\n",
      "Warning: Vehicle 'CWER.1' performs emergency stop at the end of lane 'end4_junction_1' because of a red traffic light (decel=-29.91, offset=0.04), time=661.00.\n"
     ]
    },
    {
     "name": "stdout",
     "output_type": "stream",
     "text": [
      "Step #720.00 (1ms ~= 10.00*RT, ~99000.00UPS, TraCI: 70ms, vehicles TOT 559 ACT 99 BUF 5)  \r"
     ]
    },
    {
     "name": "stderr",
     "output_type": "stream",
     "text": [
      "Warning: Vehicle 'ANE.49' performs emergency stop at the end of lane 'end1_junction_2' because of a red traffic light (decel=-16.07, offset=0.02), time=720.36.\n"
     ]
    },
    {
     "name": "stdout",
     "output_type": "stream",
     "text": [
      "Step #780.00 (1ms ~= 10.00*RT, ~93000.00UPS, TraCI: 0ms, vehicles TOT 606 ACT 93 BUF 0)   "
     ]
    },
    {
     "name": "stderr",
     "output_type": "stream",
     "text": [
      "Warning: Vehicle 'CEWR.12' performs emergency braking on lane 'end2_junction_1' with decel=9.00, wished=5.00, severity=1.00, time=780.00.\n"
     ]
    },
    {
     "name": "stdout",
     "output_type": "stream",
     "text": [
      "Step #823.00 (1ms ~= 10.00*RT, ~94000.00UPS, TraCI: 0ms, vehicles TOT 641 ACT 94 BUF 1)   \r"
     ]
    },
    {
     "name": "stderr",
     "output_type": "stream",
     "text": [
      "Warning: Vehicle 'CESR.16' performs emergency braking on lane 'end2_junction_2' with decel=9.00, wished=5.00, severity=1.00, time=823.96.\n"
     ]
    },
    {
     "name": "stdout",
     "output_type": "stream",
     "text": [
      "Step #921.00 (0ms ?*RT. ?UPS, TraCI: 0ms, vehicles TOT 714 ACT 103 BUF 0)                 \r"
     ]
    },
    {
     "name": "stderr",
     "output_type": "stream",
     "text": [
      "Warning: Vehicle 'CSWR.2' performs emergency braking on lane 'end3_junction_2' with decel=9.00, wished=5.00, severity=1.00, time=920.00.\n",
      "Warning: Vehicle 'ANE.38' performs emergency stop at the end of lane 'end1_junction_2' because of a red traffic light (decel=-17.09, offset=0.00), time=920.07.\n",
      "Warning: Vehicle 'CSWR.2' performs emergency stop at the end of lane 'end3_junction_2' because of a red traffic light (decel=-12.59, offset=0.02), time=921.44.\n"
     ]
    },
    {
     "name": "stdout",
     "output_type": "stream",
     "text": [
      "Step #940.00 (0ms ?*RT. ?UPS, TraCI: 68ms, vehicles TOT 728 ACT 104 BUF 4)                \r"
     ]
    },
    {
     "name": "stderr",
     "output_type": "stream",
     "text": [
      "Warning: Vehicle 'AEWR.25' performs emergency stop at the end of lane 'end2_junction_1' because of a red traffic light (decel=-11.76, offset=0.00), time=940.87.\n"
     ]
    },
    {
     "name": "stdout",
     "output_type": "stream",
     "text": [
      "Step #960.00 (0ms ?*RT. ?UPS, TraCI: 1ms, vehicles TOT 738 ACT 87 BUF 0)                  "
     ]
    },
    {
     "name": "stderr",
     "output_type": "stream",
     "text": [
      "Warning: Vehicle 'CNE.43' performs emergency braking on lane 'end1_junction_2' with decel=9.00, wished=5.00, severity=1.00, time=960.00.\n"
     ]
    },
    {
     "name": "stdout",
     "output_type": "stream",
     "text": [
      "state : [ 0  2 23  0  0 10  0  0  2  0  0  2  0  0  0  0  0  0  0  0  0  0  0  0\n",
      "  0  2 25  5 17 14  2  0  2  0  2  2  3  1  0  2  4  3  2  0  0  2  6  4]\n",
      "Q_values : [-1.4769278  9.070449   5.3639064  7.9333973]\n",
      "Step #1080.00 (1ms ~= 10.00*RT, ~100000.00UPS, TraCI: 91ms, vehicles TOT 835 ACT 100 BUF 5\r"
     ]
    },
    {
     "name": "stderr",
     "output_type": "stream",
     "text": [
      "Warning: Vehicle 'AEWR.31' performs emergency stop at the end of lane 'end2_junction_1' because of a red traffic light (decel=-14.44, offset=0.01), time=1080.60.\n"
     ]
    },
    {
     "name": "stdout",
     "output_type": "stream",
     "text": [
      "state : [ 0  2  0  0 27 23  0  0  0  0  4  2  0  0  0  0  0  0  0  0  0  0  0  0\n",
      "  0  2  2  6 30 28  2  0  0  0  6  2  3  0  0  0  0  0  0  0  0  0  0  0]\n",
      "Q_values : [ 4.794653  5.824232 35.749233 30.148256]\n",
      "Step #1180.00 (0ms ?*RT. ?UPS, TraCI: 69ms, vehicles TOT 905 ACT 95 BUF 13)               \r"
     ]
    },
    {
     "name": "stderr",
     "output_type": "stream",
     "text": [
      "Warning: Vehicle 'AEWR.37' performs emergency stop at the end of lane 'end2_junction_1' because of a red traffic light (decel=-11.40, offset=0.01), time=1180.87.\n"
     ]
    },
    {
     "name": "stdout",
     "output_type": "stream",
     "text": [
      "Step #1203.00 (0ms ?*RT. ?UPS, TraCI: 0ms, vehicles TOT 924 ACT 90 BUF 0)                 \r"
     ]
    },
    {
     "name": "stderr",
     "output_type": "stream",
     "text": [
      "Warning: Vehicle 'CESR.38' performs emergency braking on lane 'end2_junction_2' with decel=9.00, wished=5.00, severity=1.00, time=1201.37.\n",
      "Warning: Vehicle 'CWNR.4' performs emergency braking on lane 'end4_junction_2' with decel=9.00, wished=5.00, severity=1.00, time=1203.99.\n"
     ]
    },
    {
     "name": "stdout",
     "output_type": "stream",
     "text": [
      "Step #1220.00 (0ms ?*RT. ?UPS, TraCI: 70ms, vehicles TOT 924 ACT 76 BUF 0)                \r"
     ]
    },
    {
     "name": "stderr",
     "output_type": "stream",
     "text": [
      "Warning: Vehicle 'AEWR.43' performs emergency stop at the end of lane 'end2_junction_1' because of a red traffic light (decel=-13.26, offset=0.02), time=1220.71.\n"
     ]
    },
    {
     "name": "stdout",
     "output_type": "stream",
     "text": [
      "episode : 7\n",
      "Step #1300.00 (0ms ?*RT. ?UPS, TraCI: 0ms, vehicles TOT 924 ACT 34 BUF 0)                 \n",
      " Retrying in 1 seconds\n"
     ]
    },
    {
     "name": "stderr",
     "output_type": "stream",
     "text": [
      "Warning: Environment variable SUMO_HOME is not set properly, disabling XML validation. Set 'auto' or 'always' for web lookups.\n"
     ]
    },
    {
     "name": "stdout",
     "output_type": "stream",
     "text": [
      "state : [0 0 2 0 2 2 0 0 2 0 3 2 0 0 0 0 0 0 0 0 0 0 0 0 1 0 7 2 2 2 5 0 2 1 7 2 2\n",
      " 1 0 2 0 0 1 1 1 2 0 0]\n",
      "Q_values : [-3.8935704  2.1318877  0.8308673  0.0089246]\n"
     ]
    },
    {
     "name": "stderr",
     "output_type": "stream",
     "text": [
      "Warning: Vehicle 'CNE.3' performs emergency braking on lane 'end1_junction_2' with decel=9.00, wished=5.00, severity=1.00, time=63.80.\n"
     ]
    },
    {
     "name": "stdout",
     "output_type": "stream",
     "text": [
      "state : [ 0  0  3  0  8  8  0  0  0  0 23  2  0  0  0  0  0  0  0  0  0  0  0  0          \n",
      "  3  3  6  2 10 10  5  3  1  3 28  3  1  0  0  3  0  0  0  0  0  0  0  0]\n",
      "Q_values : [ 1.2616568  6.6170325 19.045212   8.102822 ]\n",
      "Step #240.00 (0ms ?*RT. ?UPS, TraCI: 70ms, vehicles TOT 189 ACT 69 BUF 3)                 \r"
     ]
    },
    {
     "name": "stderr",
     "output_type": "stream",
     "text": [
      "Warning: Vehicle 'CNE.15' performs emergency braking on lane 'end1_junction_2' with decel=9.00, wished=5.00, severity=1.00, time=240.00.\n",
      "Warning: Vehicle 'CNE.15' performs emergency stop at the end of lane 'end1_junction_2' because of a red traffic light (decel=-12.83, offset=0.02), time=240.46.\n"
     ]
    },
    {
     "name": "stdout",
     "output_type": "stream",
     "text": [
      "Step #280.00 (0ms ?*RT. ?UPS, TraCI: 68ms, vehicles TOT 216 ACT 73 BUF 0)                 \r"
     ]
    },
    {
     "name": "stderr",
     "output_type": "stream",
     "text": [
      "Warning: Vehicle 'AWE.12' performs emergency stop at the end of lane 'end4_junction_1' because of a red traffic light (decel=-11.61, offset=0.00), time=280.88.\n"
     ]
    },
    {
     "name": "stdout",
     "output_type": "stream",
     "text": [
      "Step #320.00 (0ms ?*RT. ?UPS, TraCI: 69ms, vehicles TOT 252 ACT 80 BUF 0)                 \r"
     ]
    },
    {
     "name": "stderr",
     "output_type": "stream",
     "text": [
      "Warning: Vehicle 'CES.8' performs emergency braking on lane 'end2_junction_2' with decel=9.00, wished=5.00, severity=1.00, time=320.00.\n",
      "Warning: Vehicle 'CES.8' performs emergency stop at the end of lane 'end2_junction_2' because of a red traffic light (decel=-21.07, offset=0.02), time=320.19.\n"
     ]
    },
    {
     "name": "stdout",
     "output_type": "stream",
     "text": [
      "state : [ 0  0 21  0  4  0  0  0  0  0 27  0  0  0  0  0  0  0  0  0  0  0  0  0\n",
      "  1  0 25  2  4  0  5  0  0  1 31  0  2  0  1  2  0  0  0  0  5  0  0  0]\n",
      "Q_values : [11.021962  21.859777  27.992771   7.6226287]\n",
      "Step #460.00 (0ms ?*RT. ?UPS, TraCI: 69ms, vehicles TOT 360 ACT 84 BUF 0)                 \r"
     ]
    },
    {
     "name": "stderr",
     "output_type": "stream",
     "text": [
      "Warning: Vehicle 'CNE.26' performs emergency braking on lane 'end1_junction_2' with decel=9.00, wished=5.00, severity=1.00, time=460.00.\n",
      "Warning: Vehicle 'CNE.26' performs emergency stop at the end of lane 'end1_junction_2' because of a red traffic light (decel=-15.17, offset=0.00), time=460.20.\n"
     ]
    },
    {
     "name": "stdout",
     "output_type": "stream",
     "text": [
      "state : [ 0  0 15  0  1  4  0  0  4  0 10  4  0  0  0  0  0  0  0  0  0  0  0  0\n",
      "  1  1 15  6  5  8  2  0  4  1 19  4  2  2  1  3  0  1  1  3  0  2  0  0]\n",
      "Q_values : [-3.1642127  9.066228   0.2727521  4.8216166]\n",
      "Step #965.00 (0ms ?*RT. ?UPS, TraCI: 0ms, vehicles TOT 748 ACT 78 BUF 2)                  \r"
     ]
    },
    {
     "name": "stderr",
     "output_type": "stream",
     "text": [
      "Warning: Teleporting vehicle 'ANE.49'; waited too long (yield), lane='end1_junction_2', time=965.88.\n",
      "Warning: Vehicle 'ANE.49' ends teleporting on edge 'junction_end2', time=965.88.\n"
     ]
    },
    {
     "name": "stdout",
     "output_type": "stream",
     "text": [
      "Step #980.00 (0ms ?*RT. ?UPS, TraCI: 73ms, vehicles TOT 755 ACT 76 BUF 1)                 \r"
     ]
    },
    {
     "name": "stderr",
     "output_type": "stream",
     "text": [
      "Warning: Vehicle 'CESR.25' performs emergency braking on lane 'end2_junction_2' with decel=9.00, wished=5.00, severity=1.00, time=980.00.\n",
      "Warning: Vehicle 'CESR.25' performs emergency stop at the end of lane 'end2_junction_2' because of a red traffic light (decel=-13.22, offset=0.02), time=980.38.\n"
     ]
    },
    {
     "name": "stdout",
     "output_type": "stream",
     "text": [
      "Step #1040.00 (1ms ~= 10.00*RT, ~91000.00UPS, TraCI: 71ms, vehicles TOT 809 ACT 91 BUF 1) \r"
     ]
    },
    {
     "name": "stderr",
     "output_type": "stream",
     "text": [
      "Warning: Vehicle 'CNER.10' performs emergency braking on lane 'end1_junction_2' with decel=9.00, wished=5.00, severity=1.00, time=1040.00.\n",
      "Warning: Vehicle 'CNER.10' performs emergency stop at the end of lane 'end1_junction_2' because of a red traffic light (decel=-15.16, offset=0.05), time=1040.22.\n"
     ]
    },
    {
     "name": "stdout",
     "output_type": "stream",
     "text": [
      "Step #1061.00 (0ms ?*RT. ?UPS, TraCI: 0ms, vehicles TOT 820 ACT 89 BUF 2)                 \r"
     ]
    },
    {
     "name": "stderr",
     "output_type": "stream",
     "text": [
      "Warning: Vehicle 'ANSR.3' performs emergency stop at the end of lane 'end1_junction_1' because of a red traffic light (decel=-12.16, offset=0.01), time=1061.44.\n"
     ]
    },
    {
     "name": "stdout",
     "output_type": "stream",
     "text": [
      "state : [ 0  2  0  0 30  0  0  0  0  0 10  0  0  0  0  0  0  0  0  0  0  0  0  0\n",
      "  0  2  2  6 34 13  2  0  0  0 12  0  4  0  0  1  0  0  0  0  8  0  0  0]\n",
      "Q_values : [-0.93836284  5.4526196  24.38406    11.069738  ]\n",
      "Step #1121.00 (0ms ?*RT. ?UPS, TraCI: 0ms, vehicles TOT 862 ACT 87 BUF 2)                 \r"
     ]
    },
    {
     "name": "stderr",
     "output_type": "stream",
     "text": [
      "Warning: Vehicle 'CESR.36' performs emergency braking on lane 'end2_junction_2' with decel=9.00, wished=5.00, severity=1.00, time=1121.25.\n"
     ]
    },
    {
     "name": "stdout",
     "output_type": "stream",
     "text": [
      "state : [ 0  2  0  0 10 16  0  0  0  0  0  0  0  0  0  0  0  0  0  0  0  0  0  0\n",
      "  0  2  2  7 28 21  2  0  0  0  2  0  4  0  0  0  1  2  0  0  0  0  1  0]\n",
      "Q_values : [-2.0046954  -0.79256225 14.931748   12.563157  ]\n",
      "state : [ 0  2  2  0  0 20  0  0  0  0  0  0  0  0  0  0  0  0  0  0  0  0  0  0\n",
      "  2  3  2  6 20 23  2  1  0  2  1  0  4  0  0  1  2  0  0  0  0  0  7  3]\n",
      "Q_values : [-4.987457  -7.4596925  2.9015365  6.2454214]\n",
      "Step #1180.00 (1ms ~= 10.00*RT, ~80000.00UPS, TraCI: 92ms, vehicles TOT 905 ACT 80 BUF 13)\r"
     ]
    },
    {
     "name": "stderr",
     "output_type": "stream",
     "text": [
      "Warning: Vehicle 'AEWR.37' performs emergency stop at the end of lane 'end2_junction_1' because of a red traffic light (decel=-17.13, offset=0.00), time=1180.35.\n"
     ]
    },
    {
     "name": "stdout",
     "output_type": "stream",
     "text": [
      "episode : 8\n",
      "Step #1300.00 (0ms ?*RT. ?UPS, TraCI: 0ms, vehicles TOT 924 ACT 13 BUF 0)                 \n",
      " Retrying in 1 seconds\n"
     ]
    },
    {
     "name": "stderr",
     "output_type": "stream",
     "text": [
      "Warning: Environment variable SUMO_HOME is not set properly, disabling XML validation. Set 'auto' or 'always' for web lookups.\n",
      "Warning: Vehicle 'CNE.3' performs emergency braking on lane 'end1_junction_2' with decel=9.00, wished=5.00, severity=1.00, time=63.79.\n"
     ]
    },
    {
     "name": "stdout",
     "output_type": "stream",
     "text": [
      "Step #123.00 (1ms ~= 10.00*RT, ~50000.00UPS, TraCI: 0ms, vehicles TOT 102 ACT 50 BUF 0)   \r"
     ]
    },
    {
     "name": "stderr",
     "output_type": "stream",
     "text": [
      "Warning: Vehicle 'CNE.8' performs emergency braking on lane 'end1_junction_2' with decel=9.00, wished=5.00, severity=1.00, time=123.89.\n"
     ]
    },
    {
     "name": "stdout",
     "output_type": "stream",
     "text": [
      "state : [ 0  2  2  0  3  0  0  2  0  0 10  0  0  0  0  0  0  0  0  0  0  0  0  0\n",
      "  0  3  6  0  4  1  4  2  0  1 13  0  2  0  1  4  0  0  0  0  6  0  0  0]\n",
      "Q_values : [-1.1514876  5.0250897  6.3309097  1.9862528]\n",
      "Step #141.00 (0ms ?*RT. ?UPS, TraCI: 0ms, vehicles TOT 108 ACT 47 BUF 0)                  \r"
     ]
    },
    {
     "name": "stderr",
     "output_type": "stream",
     "text": [
      "Warning: Vehicle 'CES.3' performs emergency braking on lane 'end2_junction_2' with decel=9.00, wished=5.00, severity=1.00, time=140.00.\n",
      "Warning: Vehicle 'CES.3' performs emergency stop at the end of lane 'end2_junction_2' because of a red traffic light (decel=-13.58, offset=0.00), time=141.14.\n"
     ]
    },
    {
     "name": "stdout",
     "output_type": "stream",
     "text": [
      "Step #381.00 (0ms ?*RT. ?UPS, TraCI: 0ms, vehicles TOT 294 ACT 75 BUF 0)                  \r"
     ]
    },
    {
     "name": "stderr",
     "output_type": "stream",
     "text": [
      "Warning: Vehicle 'CNE.19' performs emergency braking on lane 'end1_junction_2' with decel=9.00, wished=5.00, severity=1.00, time=380.00.\n",
      "Warning: Vehicle 'CNE.19' performs emergency braking on lane 'end1_junction_2' with decel=9.00, wished=5.00, severity=1.00, time=381.13.\n"
     ]
    },
    {
     "name": "stdout",
     "output_type": "stream",
     "text": [
      "state : [ 0  0 31  0  6 12  0  0  0  0 20  2  0  0  0  0  0  0  0  0  0  0  0  0\n",
      "  4  1 33  4  7 12  6  1  0  4 23  2  2  0  0  4  0  0  0  0  0  0  0  0]\n",
      "Q_values : [11.062387 15.741628 27.716545  9.511097]\n",
      "Step #460.00 (1ms ~= 10.00*RT, ~111000.00UPS, TraCI: 74ms, vehicles TOT 360 ACT 111 BUF 0)\r"
     ]
    },
    {
     "name": "stderr",
     "output_type": "stream",
     "text": [
      "Warning: Vehicle 'AWE.31' performs emergency stop at the end of lane 'end4_junction_1' because of a red traffic light (decel=-11.43, offset=0.00), time=460.90.\n"
     ]
    },
    {
     "name": "stdout",
     "output_type": "stream",
     "text": [
      "Step #481.00 (1ms ~= 10.00*RT, ~105000.00UPS, TraCI: 0ms, vehicles TOT 375 ACT 105 BUF 3) \r"
     ]
    },
    {
     "name": "stderr",
     "output_type": "stream",
     "text": [
      "Warning: Vehicle 'CES.11' performs emergency braking on lane 'end2_junction_2' with decel=9.00, wished=5.00, severity=1.00, time=481.30.\n"
     ]
    },
    {
     "name": "stdout",
     "output_type": "stream",
     "text": [
      "Step #540.00 (0ms ?*RT. ?UPS, TraCI: 100ms, vehicles TOT 412 ACT 97 BUF 8)                \r"
     ]
    },
    {
     "name": "stderr",
     "output_type": "stream",
     "text": [
      "Warning: Vehicle 'CNE.30' performs emergency braking on lane 'end1_junction_2' with decel=9.00, wished=5.00, severity=1.00, time=540.00.\n",
      "Warning: Vehicle 'CNE.30' performs emergency stop at the end of lane 'end1_junction_2' because of a red traffic light (decel=-14.80, offset=0.02), time=540.30.\n"
     ]
    },
    {
     "name": "stdout",
     "output_type": "stream",
     "text": [
      "Step #640.00 (0ms ?*RT. ?UPS, TraCI: 72ms, vehicles TOT 506 ACT 117 BUF 4)                \r"
     ]
    },
    {
     "name": "stderr",
     "output_type": "stream",
     "text": [
      "Warning: Vehicle 'CWE.42' performs emergency braking on lane 'end4_junction_1' with decel=9.00, wished=5.00, severity=1.00, time=640.00.\n",
      "Warning: Vehicle 'CWE.42' performs emergency stop at the end of lane 'end4_junction_1' because of a red traffic light (decel=-16.30, offset=0.02), time=640.39.\n"
     ]
    },
    {
     "name": "stdout",
     "output_type": "stream",
     "text": [
      "state : [ 0  2  1  0  2 17  0  2  0  0 11  4  0  0  0  0  0  0  0  0  0  0  0  0\n",
      "  0  2 21  5  7 21  2  2  0  0 19  4  4  0  0  0  0 10  2  0  0  0  0  3]\n",
      "Q_values : [-9.6677885 -5.0192275 11.350069  -1.704463 ]\n",
      "Step #661.00 (0ms ?*RT. ?UPS, TraCI: 0ms, vehicles TOT 517 ACT 102 BUF 5)                 \r"
     ]
    },
    {
     "name": "stderr",
     "output_type": "stream",
     "text": [
      "Warning: Vehicle 'CNE.41' performs emergency braking on lane 'end1_junction_2' with decel=9.00, wished=5.00, severity=1.00, time=660.00.\n",
      "Warning: Vehicle 'CNE.41' performs emergency braking on lane 'end1_junction_2' with decel=9.00, wished=5.00, severity=1.00, time=661.21.\n"
     ]
    },
    {
     "name": "stdout",
     "output_type": "stream",
     "text": [
      "state : [ 0  0  2  0  2 37  0  0  0  0  0  2  0  0  0  0  0  0  0  0  0  0  0  0\n",
      "  0  0  4  5  7 40  2  0  0  0  2  2  4  2  1  0  0  0  0  2  1  0  0  0]\n",
      "Q_values : [12.00655  12.66753   9.384313 30.62224 ]\n",
      "Step #880.00 (1ms ~= 10.00*RT, ~73000.00UPS, TraCI: 72ms, vehicles TOT 674 ACT 73 BUF 4)  \r"
     ]
    },
    {
     "name": "stderr",
     "output_type": "stream",
     "text": [
      "Warning: Vehicle 'AESR.11' performs emergency stop at the end of lane 'end2_junction_2' because of a red traffic light (decel=-17.10, offset=0.07), time=880.12.\n"
     ]
    },
    {
     "name": "stdout",
     "output_type": "stream",
     "text": [
      "Step #921.00 (0ms ?*RT. ?UPS, TraCI: 0ms, vehicles TOT 714 ACT 73 BUF 0)                  \r"
     ]
    },
    {
     "name": "stderr",
     "output_type": "stream",
     "text": [
      "Warning: Vehicle 'CSWR.2' performs emergency braking on lane 'end3_junction_2' with decel=9.00, wished=5.00, severity=1.00, time=920.00.\n",
      "Warning: Vehicle 'CSWR.2' performs emergency stop at the end of lane 'end3_junction_2' because of a red traffic light (decel=-13.31, offset=0.02), time=921.34.\n"
     ]
    },
    {
     "name": "stdout",
     "output_type": "stream",
     "text": [
      "Step #1060.00 (0ms ?*RT. ?UPS, TraCI: 73ms, vehicles TOT 818 ACT 80 BUF 4)                \r"
     ]
    },
    {
     "name": "stderr",
     "output_type": "stream",
     "text": [
      "Warning: Vehicle 'AWER.12' performs emergency stop at the end of lane 'end4_junction_1' because of a red traffic light (decel=-17.95, offset=0.05), time=1060.86.\n"
     ]
    },
    {
     "name": "stdout",
     "output_type": "stream",
     "text": [
      "state : [ 0  0  6  0  2 11  0  0  0  0  0  0  0  0  0  0  0  0  0  0  0  0  0  0\n",
      "  2  2  8  5  7 33  2  2  2  2  2  1  4  0  1  0  0  0  0  0  9  0  0  0]\n",
      "Q_values : [-16.258501  -10.141859   -1.5901781  -7.4592075]\n",
      "Step #1200.00 (0ms ?*RT. ?UPS, TraCI: 95ms, vehicles TOT 924 ACT 84 BUF 0)                \r"
     ]
    },
    {
     "name": "stderr",
     "output_type": "stream",
     "text": [
      "Warning: Vehicle 'CESR.33' performs emergency braking on lane 'end2_junction_2' with decel=9.00, wished=5.00, severity=1.00, time=1200.00.\n",
      "Warning: Vehicle 'CESR.33' performs emergency braking on lane 'end2_junction_2' with decel=9.00, wished=5.00, severity=1.00, time=1200.97.\n"
     ]
    },
    {
     "name": "stdout",
     "output_type": "stream",
     "text": [
      "state : [ 0  2  8  0  0 11  0  2  2  0  0  1  0  0  0  0  0  0  0  0  0  0  0  0\n",
      "  0  2  8  1  2 33  0  2  2  0  0  1  3  0  0  1  2  0  2  0  2  2  4  1]\n",
      "Q_values : [-1.091601   6.239621   6.3823867  5.3036165]\n",
      "episode : 9\n",
      "Step #1300.00 (0ms ?*RT. ?UPS, TraCI: 0ms, vehicles TOT 924 ACT 26 BUF 0)                 \n",
      " Retrying in 1 seconds\n"
     ]
    },
    {
     "name": "stderr",
     "output_type": "stream",
     "text": [
      "Warning: Environment variable SUMO_HOME is not set properly, disabling XML validation. Set 'auto' or 'always' for web lookups.\n"
     ]
    },
    {
     "name": "stdout",
     "output_type": "stream",
     "text": [
      "state : [0 2 2 0 2 0 0 2 2 0 3 0 0 0 0 0 0 0 0 0 0 0 0 0 1 2 7 2 2 0 6 2 2 1 7 0 2\n",
      " 0 2 2 0 0 2 0 2 2 0 0]\n",
      "Q_values : [-3.1242223  0.4329802  1.205087   0.5977161]\n"
     ]
    },
    {
     "name": "stderr",
     "output_type": "stream",
     "text": [
      "Warning: Vehicle 'CWE.3' performs emergency braking on lane 'end4_junction_1' with decel=9.00, wished=5.00, severity=1.00, time=60.00.\n",
      "Warning: Vehicle 'CWE.3' performs emergency stop at the end of lane 'end4_junction_1' because of a red traffic light (decel=-29.64, offset=0.20), time=61.03.\n"
     ]
    },
    {
     "name": "stdout",
     "output_type": "stream",
     "text": [
      "state : [ 0  0 23  0  5  4  0  0  2  0 16  0  0  0  0  0  0  0  0  0  0  0  0  0          \n",
      "  3  2 27  2  8  5  5  3  3  3 21  1  0  0  0  3  0  0  0  0  0  0  0  0]\n",
      "Q_values : [0.22956991 4.3797665  6.179352   1.8564261 ]\n",
      "state : [ 0  0 40  0  2 10  0  0  4  0  2  2  0  0  0  0  0  0  0  0  0  0  0  0\n",
      "  0  0 44  4  3 10  4  0  4  1  6  2  2  0  0  4  0  0  0  0  0  0  0  0]\n",
      "Q_values : [ 5.353465 24.66797   9.638836 12.487862]\n",
      "Step #281.00 (0ms ?*RT. ?UPS, TraCI: 0ms, vehicles TOT 216 ACT 89 BUF 0)                  \r"
     ]
    },
    {
     "name": "stderr",
     "output_type": "stream",
     "text": [
      "Warning: Vehicle 'CNE.5' performs emergency braking on lane 'end1_junction_2' with decel=9.00, wished=5.00, severity=1.00, time=280.00.\n",
      "Warning: Vehicle 'CNE.5' performs emergency braking on lane 'end1_junction_2' with decel=9.00, wished=5.00, severity=1.00, time=281.21.\n"
     ]
    },
    {
     "name": "stdout",
     "output_type": "stream",
     "text": [
      "state : [ 0  0 15  0  0  7  0  0  0  0  7  0  0  0  0  0  0  0  0  0  0  0  0  0\n",
      "  0  0 37  2  2  9  4  0  0  0 11  0  0  0  0  4  1  8  0  0  0  0  0  0]\n",
      "Q_values : [-4.0117035   1.2037222   1.2632982  -0.15742093]\n",
      "Step #420.00 (0ms ?*RT. ?UPS, TraCI: 1ms, vehicles TOT 318 ACT 82 BUF 0)                  "
     ]
    },
    {
     "name": "stderr",
     "output_type": "stream",
     "text": [
      "Warning: Vehicle 'CNE.16' performs emergency braking on lane 'end1_junction_2' with decel=9.00, wished=5.00, severity=1.00, time=420.00.\n"
     ]
    },
    {
     "name": "stdout",
     "output_type": "stream",
     "text": [
      "state : [ 0  0 11  0  0  9  0  0  0  0  0  0  0  0  0  0  0  0  0  0  0  0  0  0\n",
      "  4  1 39  4  1  9  6  1  0  4  3  0  2  0  0  4  7  5  0  0  0  0  1  0]\n",
      "Q_values : [-10.399381   -6.5405774  -3.3924599  -7.486487 ]\n",
      "Step #560.00 (0ms ?*RT. ?UPS, TraCI: 68ms, vehicles TOT 426 ACT 92 BUF 0)                 \r"
     ]
    },
    {
     "name": "stderr",
     "output_type": "stream",
     "text": [
      "Warning: Vehicle 'CNE.27' performs emergency braking on lane 'end1_junction_2' with decel=9.00, wished=5.00, severity=1.00, time=560.00.\n",
      "Warning: Vehicle 'CNE.27' performs emergency stop at the end of lane 'end1_junction_2' because of a red traffic light (decel=-14.67, offset=0.04), time=560.24.\n"
     ]
    },
    {
     "name": "stdout",
     "output_type": "stream",
     "text": [
      "Step #720.00 (0ms ?*RT. ?UPS, TraCI: 67ms, vehicles TOT 559 ACT 96 BUF 5)                 \r"
     ]
    },
    {
     "name": "stderr",
     "output_type": "stream",
     "text": [
      "Warning: Vehicle 'CNE.38' performs emergency braking on lane 'end1_junction_2' with decel=9.00, wished=5.00, severity=1.00, time=720.00.\n",
      "Warning: Vehicle 'CNE.38' performs emergency stop at the end of lane 'end1_junction_2' because of a red traffic light (decel=-12.90, offset=0.03), time=720.43.\n"
     ]
    },
    {
     "name": "stdout",
     "output_type": "stream",
     "text": [
      "state : [ 0  0 26  0 20 10  0  0  0  0 12  0  0  0  0  0  0  0  0  0  0  0  0  0\n",
      "  2  2 33  6 24 13  2  2  2  2 14  2  4  0  0  0  0  0  0  0  0  0  0  0]\n",
      "Q_values : [-4.1709547  1.2367107 27.193396  11.869938 ]\n",
      "state : [ 0  0  6  0 18 20  0  0  0  0  4  2  0  0  0  0  0  0  0  0  0  0  0  0\n",
      "  1  1 24  7 21 23  2  0  0  1  5  2  4  0  0  2  0  9  0  0  0  0  0  1]\n",
      "Q_values : [-15.901284 -10.233579  16.799963  15.055825]\n",
      "state : [ 0  2 32  0  0 44  0  2  2  0  0  4  0  0  0  0  0  0  0  0  0  0  0  0\n",
      "  0  2 32  5  5 47  0  2  2  0  0  4  4  0  0  2  2  0  0  0  0  0  2  0]\n",
      "Q_values : [20.780596 36.93207  31.926424 40.991848]\n",
      "state : [ 0  0 35  0 10  0  0  0  2  0  2  0  0  0  0  0  0  0  0  0  0  0  0  0\n",
      "  0  0 36  4 16 35  2  0  2  0  4  0  3  1  0  0  0  0  0  0  9  0  0  0]\n",
      "Q_values : [ 2.1867692 14.65315    8.383944   8.391494 ]\n",
      "Step #1020.00 (0ms ?*RT. ?UPS, TraCI: 0ms, vehicles TOT 780 ACT 113 BUF 0)                "
     ]
    },
    {
     "name": "stderr",
     "output_type": "stream",
     "text": [
      "Warning: Vehicle 'CESR.17' performs emergency braking on lane 'end2_junction_2' with decel=9.00, wished=5.00, severity=1.00, time=1020.00.\n"
     ]
    },
    {
     "name": "stdout",
     "output_type": "stream",
     "text": [
      "Step #1040.00 (0ms ?*RT. ?UPS, TraCI: 69ms, vehicles TOT 809 ACT 128 BUF 1)               \r"
     ]
    },
    {
     "name": "stderr",
     "output_type": "stream",
     "text": [
      "Warning: Vehicle 'CNE.49' performs emergency braking on lane 'end1_junction_2' with decel=9.00, wished=5.00, severity=1.00, time=1040.00.\n",
      "Warning: Vehicle 'CNE.49' performs emergency stop at the end of lane 'end1_junction_2' because of a red traffic light (decel=-13.94, offset=0.05), time=1040.32.\n"
     ]
    },
    {
     "name": "stdout",
     "output_type": "stream",
     "text": [
      "Step #1120.00 (0ms ?*RT. ?UPS, TraCI: 69ms, vehicles TOT 860 ACT 127 BUF 4)               \r"
     ]
    },
    {
     "name": "stderr",
     "output_type": "stream",
     "text": [
      "Warning: Vehicle 'CESR.28' performs emergency braking on lane 'end2_junction_2' with decel=9.00, wished=5.00, severity=1.00, time=1120.00.\n",
      "Warning: Vehicle 'CESR.28' performs emergency stop at the end of lane 'end2_junction_2' because of a red traffic light (decel=-13.53, offset=0.03), time=1120.36.\n"
     ]
    },
    {
     "name": "stdout",
     "output_type": "stream",
     "text": [
      "Step #1181.00 (0ms ?*RT. ?UPS, TraCI: 0ms, vehicles TOT 912 ACT 125 BUF 6)                \r"
     ]
    },
    {
     "name": "stderr",
     "output_type": "stream",
     "text": [
      "Warning: Vehicle 'CESR.39' performs emergency braking on lane 'end2_junction_2' with decel=9.00, wished=5.00, severity=1.00, time=1181.53.\n"
     ]
    },
    {
     "name": "stdout",
     "output_type": "stream",
     "text": [
      "Step #1260.00 (0ms ?*RT. ?UPS, TraCI: 69ms, vehicles TOT 924 ACT 78 BUF 0)                \r"
     ]
    },
    {
     "name": "stderr",
     "output_type": "stream",
     "text": [
      "Warning: Vehicle 'CNER.10' performs emergency braking on lane 'end1_junction_2' with decel=9.00, wished=5.00, severity=1.00, time=1260.00.\n",
      "Warning: Vehicle 'CNER.10' performs emergency stop at the end of lane 'end1_junction_2' because of a red traffic light (decel=-14.51, offset=0.03), time=1260.35.\n"
     ]
    },
    {
     "name": "stdout",
     "output_type": "stream",
     "text": [
      "episode : 10\n",
      "Step #1300.00 (0ms ?*RT. ?UPS, TraCI: 1ms, vehicles TOT 924 ACT 55 BUF 0)                 \n",
      " Retrying in 1 seconds\n"
     ]
    },
    {
     "name": "stderr",
     "output_type": "stream",
     "text": [
      "Warning: Environment variable SUMO_HOME is not set properly, disabling XML validation. Set 'auto' or 'always' for web lookups.\n"
     ]
    },
    {
     "name": "stdout",
     "output_type": "stream",
     "text": [
      "state : [ 0  0  6  0  6  0  0  0  0  0 17  0  0  0  0  0  0  0  0  0  0  0  0  0\n",
      "  0  0 10  2  9  1  4  0  0  0 20  0  2  0  0  4  0  0  0  0  3  0  0  0]\n",
      "Q_values : [ 7.629591 16.189024 18.661469  9.769476]\n"
     ]
    },
    {
     "name": "stderr",
     "output_type": "stream",
     "text": [
      "Warning: Vehicle 'CNE.10' performs emergency braking on lane 'end1_junction_2' with decel=9.00, wished=5.00, severity=1.00, time=260.00.\n",
      "Warning: Vehicle 'CNE.10' performs emergency stop at the end of lane 'end1_junction_2' because of a red traffic light (decel=-14.48, offset=0.01), time=260.25.\n"
     ]
    },
    {
     "name": "stdout",
     "output_type": "stream",
     "text": [
      "Step #320.00 (0ms ?*RT. ?UPS, TraCI: 66ms, vehicles TOT 252 ACT 83 BUF 0)                 \r"
     ]
    },
    {
     "name": "stderr",
     "output_type": "stream",
     "text": [
      "Warning: Vehicle 'CES.8' performs emergency braking on lane 'end2_junction_2' with decel=9.00, wished=5.00, severity=1.00, time=320.00.\n",
      "Warning: Vehicle 'CWN.2' performs emergency braking on lane 'end4_junction_2' with decel=9.00, wished=5.00, severity=1.00, time=320.00.\n",
      "Warning: Vehicle 'CES.8' performs emergency stop at the end of lane 'end2_junction_2' because of a red traffic light (decel=-20.99, offset=0.03), time=320.21.\n",
      "Warning: Vehicle 'CWN.2' performs emergency stop at the end of lane 'end4_junction_2' because of a red traffic light (decel=-18.81, offset=0.00), time=320.35.\n"
     ]
    },
    {
     "name": "stdout",
     "output_type": "stream",
     "text": [
      "state : [ 0  0 33  0  6  1  0  0  2  0 19  1  0  0  0  0  0  0  0  0  0  0  0  0\n",
      "  0  1 36  2  9  2  5  0  2  1 23  1  1  1  0  3  0  0  2  1  0  0  0  0]\n",
      "Q_values : [ 5.8737993 29.524931  21.092651  10.018225 ]\n",
      "state : [ 0  0  7  0  8  2  0  0  0  0 23  1  0  0  0  0  0  0  0  0  0  0  0  0\n",
      "  0  0 28  0  8  3  4  0  0  0 26  1  2  0  0  4  0  9  0  0  0  0  0  1]\n",
      "Q_values : [ 4.3554587 15.952248  27.657696   9.689361 ]\n",
      "Step #460.00 (0ms ?*RT. ?UPS, TraCI: 67ms, vehicles TOT 360 ACT 107 BUF 0)                \r"
     ]
    },
    {
     "name": "stderr",
     "output_type": "stream",
     "text": [
      "Warning: Vehicle 'CNE.21' performs emergency braking on lane 'end1_junction_2' with decel=9.00, wished=5.00, severity=1.00, time=460.00.\n",
      "Warning: Vehicle 'CNE.21' performs emergency stop at the end of lane 'end1_junction_2' because of a red traffic light (decel=-12.53, offset=0.01), time=460.48.\n"
     ]
    },
    {
     "name": "stdout",
     "output_type": "stream",
     "text": [
      "state : [ 0  0 41  0  8  4  0  0  2  0 38  2  0  0  0  0  0  0  0  0  0  0  0  0\n",
      "  0  1 44  2 11  5  5  0  2  1 41  2  0  0  0  2  0  0  0  0  0  0  0  0]\n",
      "Q_values : [29.476774 35.77702  48.422173 18.526155]\n",
      "state : [ 0  0 61  0  3  0  0  0  6  0 15  0  0  0  0  0  0  0  0  0  0  0  0  0\n",
      "  0  0 63  5  7 13  2  0  6  1 23  0  3  0  6  1  2  1  0  0  9  0  0  0]\n",
      "Q_values : [ 5.6150546 31.048624  15.226822   8.900921 ]\n",
      "Step #680.00 (1ms ~= 10.00*RT, ~144000.00UPS, TraCI: 87ms, vehicles TOT 533 ACT 144 BUF 1)\r"
     ]
    },
    {
     "name": "stderr",
     "output_type": "stream",
     "text": [
      "Warning: Vehicle 'CESR.0' performs emergency braking on lane 'end2_junction_2' with decel=9.00, wished=5.00, severity=1.00, time=680.00.\n",
      "Warning: Vehicle 'CESR.0' performs emergency stop at the end of lane 'end2_junction_2' because of a red traffic light (decel=-16.36, offset=0.04), time=680.09.\n"
     ]
    },
    {
     "name": "stdout",
     "output_type": "stream",
     "text": [
      "Step #760.00 (0ms ?*RT. ?UPS, TraCI: 70ms, vehicles TOT 596 ACT 134 BUF 4)                \r"
     ]
    },
    {
     "name": "stderr",
     "output_type": "stream",
     "text": [
      "Warning: Vehicle 'ANE.35' performs emergency stop at the end of lane 'end1_junction_2' because of a red traffic light (decel=-17.84, offset=0.01), time=760.06.\n"
     ]
    },
    {
     "name": "stdout",
     "output_type": "stream",
     "text": [
      "Step #780.00 (0ms ?*RT. ?UPS, TraCI: 0ms, vehicles TOT 606 ACT 129 BUF 0)                 "
     ]
    },
    {
     "name": "stderr",
     "output_type": "stream",
     "text": [
      "Warning: Vehicle 'CWSR.1' performs emergency braking on lane 'end4_junction_0' with decel=9.00, wished=5.00, severity=1.00, time=780.00.\n"
     ]
    },
    {
     "name": "stdout",
     "output_type": "stream",
     "text": [
      "Step #860.00 (0ms ?*RT. ?UPS, TraCI: 0ms, vehicles TOT 665 ACT 112 BUF 1)                 "
     ]
    },
    {
     "name": "stderr",
     "output_type": "stream",
     "text": [
      "Warning: Vehicle 'CNE.40' performs emergency braking on lane 'end1_junction_2' with decel=9.00, wished=5.00, severity=1.00, time=860.00.\n"
     ]
    },
    {
     "name": "stdout",
     "output_type": "stream",
     "text": [
      "Step #900.00 (0ms ?*RT. ?UPS, TraCI: 68ms, vehicles TOT 703 ACT 106 BUF 5)                \r"
     ]
    },
    {
     "name": "stderr",
     "output_type": "stream",
     "text": [
      "Warning: Vehicle 'CNE.47' performs emergency braking on lane 'end1_junction_2' with decel=9.00, wished=5.00, severity=1.00, time=900.00.\n",
      "Warning: Vehicle 'CNE.47' performs emergency stop at the end of lane 'end1_junction_2' because of a red traffic light (decel=-16.82, offset=0.02), time=900.14.\n"
     ]
    },
    {
     "name": "stdout",
     "output_type": "stream",
     "text": [
      "Step #920.00 (1ms ~= 10.00*RT, ~100000.00UPS, TraCI: 68ms, vehicles TOT 713 ACT 100 BUF 1)\r"
     ]
    },
    {
     "name": "stderr",
     "output_type": "stream",
     "text": [
      "Warning: Vehicle 'ANSR.2' performs emergency stop at the end of lane 'end1_junction_1' because of a red traffic light (decel=-25.00, offset=0.04), time=920.16.\n"
     ]
    },
    {
     "name": "stdout",
     "output_type": "stream",
     "text": [
      "state : [ 0  0  0  0 33 30  0  0  0  0 15  2  0  0  0  0  0  0  0  0  0  0  0  0\n",
      "  1  1  0  6 37 33  2  0  0  1 16  2  4  0  0  2  0  1  0  0  0  0  0  0]\n",
      "Q_values : [10.00449  11.416014 29.493364 37.905025]\n",
      "state : [ 0  0  2  0 40 10  0  0  0  0 17  0  0  0  0  0  0  0  0  0  0  0  0  0\n",
      "  3  2  3  7 43 30  4  2  0  3 18  2  3  0  0  2  0  0  0  0  3  0  0  0]\n",
      "Q_values : [ 9.32145  11.410604 25.205788 27.015371]\n"
     ]
    },
    {
     "name": "stderr",
     "output_type": "stream",
     "text": [
      "Warning: Vehicle 'CESR.27' performs emergency braking on lane 'end2_junction_2' with decel=9.00, wished=5.00, severity=1.00, time=1060.00.\n",
      "Warning: Vehicle 'CESR.27' performs emergency stop at the end of lane 'end2_junction_2' because of a red traffic light (decel=-14.50, offset=0.05), time=1060.29.\n"
     ]
    },
    {
     "name": "stdout",
     "output_type": "stream",
     "text": [
      "Step #1080.00 (1ms ~= 10.00*RT, ~128000.00UPS, TraCI: 77ms, vehicles TOT 835 ACT 128 BUF 5\r"
     ]
    },
    {
     "name": "stderr",
     "output_type": "stream",
     "text": [
      "Warning: Vehicle 'CWER.9' performs emergency braking on lane 'end4_junction_1' with decel=9.00, wished=5.00, severity=1.00, time=1080.00.\n",
      "Warning: Vehicle 'CWER.9' performs emergency stop at the end of lane 'end4_junction_1' because of a red traffic light (decel=-16.47, offset=0.02), time=1080.35.\n"
     ]
    },
    {
     "name": "stdout",
     "output_type": "stream",
     "text": [
      "state : [ 0  2  0  0 10 22  0  2  0  0  9  0  0  0  0  0  0  0  0  0  0  0  0  0\n",
      "  0  2  0  7 41 29  0  2  0  0  9  0  4  0  0  2  0  5  0  0  0  0  2  1]\n",
      "Q_values : [ 2.1365016  4.7321463 10.577225  15.403406 ]\n",
      "Step #1141.00 (0ms ?*RT. ?UPS, TraCI: 0ms, vehicles TOT 874 ACT 106 BUF 8)                \r"
     ]
    },
    {
     "name": "stderr",
     "output_type": "stream",
     "text": [
      "Warning: Vehicle 'CESR.38' performs emergency braking on lane 'end2_junction_2' with decel=9.00, wished=5.00, severity=1.00, time=1141.48.\n"
     ]
    },
    {
     "name": "stdout",
     "output_type": "stream",
     "text": [
      "episode : 11\n",
      "Step #1300.00 (0ms ?*RT. ?UPS, TraCI: 1ms, vehicles TOT 924 ACT 57 BUF 0)                 \n",
      " Retrying in 1 seconds\n"
     ]
    },
    {
     "name": "stderr",
     "output_type": "stream",
     "text": [
      "Warning: Environment variable SUMO_HOME is not set properly, disabling XML validation. Set 'auto' or 'always' for web lookups.\n"
     ]
    },
    {
     "name": "stdout",
     "output_type": "stream",
     "text": [
      "state : [ 0  0 10  0  4  0  0  0  2  0 10  0  0  0  0  0  0  0  0  0  0  0  0  0\n",
      "  0  1 13  4  5  0  4  0  2  1 13  0  2  0  0  4  0  0  0  0  2  0  0  0]\n",
      "Q_values : [-0.22472382  9.695621   10.126432    3.548137  ]\n"
     ]
    },
    {
     "name": "stderr",
     "output_type": "stream",
     "text": [
      "Warning: Vehicle 'AWE.6' performs emergency stop at the end of lane 'end4_junction_1' because of a red traffic light (decel=-11.83, offset=0.01), time=100.86.\n"
     ]
    },
    {
     "name": "stdout",
     "output_type": "stream",
     "text": [
      "Step #121.00 (0ms ?*RT. ?UPS, TraCI: 0ms, vehicles TOT 99 ACT 50 BUF 3)                   \r"
     ]
    },
    {
     "name": "stderr",
     "output_type": "stream",
     "text": [
      "Warning: Vehicle 'CNE.5' performs emergency braking on lane 'end1_junction_2' with decel=9.00, wished=5.00, severity=1.00, time=120.00.\n",
      "Warning: Vehicle 'CNE.5' performs emergency braking on lane 'end1_junction_2' with decel=9.00, wished=5.00, severity=1.00, time=121.20.\n"
     ]
    },
    {
     "name": "stdout",
     "output_type": "stream",
     "text": [
      "state : [ 0  0 21  0  1  0  0  0  0  0 10  0  0  0  0  0  0  0  0  0  0  0  0  0\n",
      "  1  0 25  1  3  2  5  0  0  1 14  0  0  0  0  2  0  0  0  0  0  0  0  0]\n",
      "Q_values : [ 1.795541   8.527044  12.485974   4.9489408]\n",
      "Step #320.00 (0ms ?*RT. ?UPS, TraCI: 101ms, vehicles TOT 252 ACT 69 BUF 0)                \r"
     ]
    },
    {
     "name": "stderr",
     "output_type": "stream",
     "text": [
      "Warning: Vehicle 'CWN.2' performs emergency braking on lane 'end4_junction_2' with decel=9.00, wished=5.00, severity=1.00, time=320.00.\n",
      "Warning: Vehicle 'CES.8' performs emergency braking on lane 'end2_junction_2' with decel=9.00, wished=5.00, severity=1.00, time=320.00.\n",
      "Warning: Vehicle 'CES.8' performs emergency stop at the end of lane 'end2_junction_2' because of a red traffic light (decel=-20.90, offset=0.02), time=320.22.\n",
      "Warning: Vehicle 'CWN.2' performs emergency stop at the end of lane 'end4_junction_2' because of a red traffic light (decel=-18.93, offset=0.01), time=320.32.\n"
     ]
    },
    {
     "name": "stdout",
     "output_type": "stream",
     "text": [
      "Step #381.00 (0ms ?*RT. ?UPS, TraCI: 0ms, vehicles TOT 294 ACT 79 BUF 0)                  \r"
     ]
    },
    {
     "name": "stderr",
     "output_type": "stream",
     "text": [
      "Warning: Vehicle 'CNE.16' performs emergency braking on lane 'end1_junction_2' with decel=9.00, wished=5.00, severity=1.00, time=380.00.\n",
      "Warning: Vehicle 'CNE.16' performs emergency braking on lane 'end1_junction_2' with decel=9.00, wished=5.00, severity=1.00, time=381.05.\n"
     ]
    },
    {
     "name": "stdout",
     "output_type": "stream",
     "text": [
      "Step #420.00 (1ms ~= 10.00*RT, ~70000.00UPS, TraCI: 76ms, vehicles TOT 321 ACT 70 BUF 3)  \r"
     ]
    },
    {
     "name": "stderr",
     "output_type": "stream",
     "text": [
      "Warning: Vehicle 'CWE.33' performs emergency braking on lane 'end4_junction_1' with decel=9.00, wished=5.00, severity=1.00, time=420.00.\n",
      "Warning: Vehicle 'CWE.33' performs emergency stop at the end of lane 'end4_junction_1' because of a red traffic light (decel=-30.36, offset=0.03), time=420.95.\n"
     ]
    },
    {
     "name": "stdout",
     "output_type": "stream",
     "text": [
      "state : [ 0  0 10  0  2  0  0  0  0  0  5  0  0  0  0  0  0  0  0  0  0  0  0  0\n",
      "  1  3 33  1  4  2  5  2  2  2 10  2  0  0  0  2  0  3  0  0  3  0  0  0]\n",
      "Q_values : [-15.355125  -8.688915 -12.98518  -12.315463]\n",
      "Step #480.00 (0ms ?*RT. ?UPS, TraCI: 85ms, vehicles TOT 375 ACT 85 BUF 3)                 \r"
     ]
    },
    {
     "name": "stderr",
     "output_type": "stream",
     "text": [
      "Warning: Vehicle 'CNE.27' performs emergency braking on lane 'end1_junction_2' with decel=9.00, wished=5.00, severity=1.00, time=480.00.\n",
      "Warning: Vehicle 'CNE.27' performs emergency stop at the end of lane 'end1_junction_2' because of a red traffic light (decel=-14.67, offset=0.02), time=480.24.\n"
     ]
    },
    {
     "name": "stdout",
     "output_type": "stream",
     "text": [
      "state : [ 0  0 19  0 16  0  0  0  0  0 12  0  0  0  0  0  0  0  0  0  0  0  0  0\n",
      "  2  2 21  7 19  3  2  2  2  2 14  2  4  0  0  0  0  0  0  0  6  0  0  0]\n",
      "Q_values : [ 9.006386 18.111502 25.034449  9.54    ]\n",
      "Step #763.00 (0ms ?*RT. ?UPS, TraCI: 0ms, vehicles TOT 599 ACT 87 BUF 1)                  \r"
     ]
    },
    {
     "name": "stderr",
     "output_type": "stream",
     "text": [
      "Warning: Vehicle 'CESR.11' performs emergency braking on lane 'end2_junction_2' with decel=9.00, wished=5.00, severity=1.00, time=763.95.\n"
     ]
    },
    {
     "name": "stdout",
     "output_type": "stream",
     "text": [
      "state : [ 0  2  0  0  4 13  0  2  0  0  0  2  0  0  0  0  0  0  0  0  0  0  0  0\n",
      "  0  2  3  5  9 17  2  2  0  0  2  2  4  0  0  0  0 10  0  0  0  0  1  0]\n",
      "Q_values : [-2.9380498   0.22317088  7.196594    6.3078566 ]\n",
      "Step #840.00 (0ms ?*RT. ?UPS, TraCI: 0ms, vehicles TOT 648 ACT 60 BUF 0)                  "
     ]
    },
    {
     "name": "stderr",
     "output_type": "stream",
     "text": [
      "Warning: Vehicle 'CNER.5' performs emergency braking on lane 'end1_junction_2' with decel=9.00, wished=5.00, severity=1.00, time=840.00.\n"
     ]
    },
    {
     "name": "stdout",
     "output_type": "stream",
     "text": [
      "Step #921.00 (0ms ?*RT. ?UPS, TraCI: 0ms, vehicles TOT 714 ACT 69 BUF 0)                  \r"
     ]
    },
    {
     "name": "stderr",
     "output_type": "stream",
     "text": [
      "Warning: Vehicle 'CSWR.2' performs emergency braking on lane 'end3_junction_2' with decel=9.00, wished=5.00, severity=1.00, time=920.00.\n",
      "Warning: Vehicle 'CSWR.2' performs emergency stop at the end of lane 'end3_junction_2' because of a red traffic light (decel=-12.48, offset=0.01), time=921.46.\n"
     ]
    },
    {
     "name": "stdout",
     "output_type": "stream",
     "text": [
      "state : [ 0  0  0  0 14 19  0  0  1  0  4  2  0  0  0  0  0  0  0  0  0  0  0  0\n",
      "  0  0  2  7 17 22  2  0  1  0  6  2  3  2  0  2  0  0  1  1  1  2  0  0]\n",
      "Q_values : [ 8.037951  5.019945 19.00747  24.52296 ]\n",
      "state : [ 0  0  2  0 17  0  0  0  1  0  6  0  0  0  0  0  0  0  0  0  0  0  0  0\n",
      "  0  0  2  5 21 15  0  0  1  0  6  0  4  0  1  2  0  0  0  0  9  0  0  0]\n",
      "Q_values : [ 0.41544747 -0.84813964 13.567458   13.181679  ]\n",
      "Step #961.00 (0ms ?*RT. ?UPS, TraCI: 0ms, vehicles TOT 742 ACT 71 BUF 8)                  \r"
     ]
    },
    {
     "name": "stderr",
     "output_type": "stream",
     "text": [
      "Warning: Vehicle 'CESR.22' performs emergency braking on lane 'end2_junction_2' with decel=9.00, wished=5.00, severity=1.00, time=960.00.\n",
      "Warning: Vehicle 'CESR.22' performs emergency braking on lane 'end2_junction_2' with decel=9.00, wished=5.00, severity=1.00, time=961.06.\n"
     ]
    },
    {
     "name": "stdout",
     "output_type": "stream",
     "text": [
      "Step #1000.00(0ms ?*RT. ?UPS, TraCI: 0ms, vehicles TOT 770 ACT 61 BUF 4)                  "
     ]
    },
    {
     "name": "stderr",
     "output_type": "stream",
     "text": [
      "Warning: Vehicle 'CENR.31' performs emergency braking on lane 'end2_junction_0' with decel=9.00, wished=5.00, severity=1.00, time=1000.00.\n"
     ]
    },
    {
     "name": "stdout",
     "output_type": "stream",
     "text": [
      "Step #1040.00 (0ms ?*RT. ?UPS, TraCI: 78ms, vehicles TOT 809 ACT 69 BUF 1)                \r"
     ]
    },
    {
     "name": "stderr",
     "output_type": "stream",
     "text": [
      "Warning: Vehicle 'CESR.33' performs emergency braking on lane 'end2_junction_2' with decel=9.00, wished=5.00, severity=1.00, time=1040.00.\n",
      "Warning: Vehicle 'CESR.33' performs emergency stop at the end of lane 'end2_junction_2' because of a red traffic light (decel=-13.53, offset=0.04), time=1040.40.\n"
     ]
    },
    {
     "name": "stdout",
     "output_type": "stream",
     "text": [
      "state : [ 0  0  7  0 10  5  0  0  1  0  2  1  0  0  0  0  0  0  0  0  0  0  0  0\n",
      "  2  2  8  7 13  9  2  0  3  2  4  2  4  1  0  0  0  0  0  0  2  0  0  0]\n",
      "Q_values : [-6.72073   -8.144862   6.5705934  2.5802255]\n",
      "state : [ 0  2  8  0  0  9  0  0  3  0  0  2  0  0  0  0  0  0  0  0  0  0  0  0\n",
      "  0  2 10  5  5 13  2  0  3  0  2  2  3  1  0  2  2  1  2  0  0  2  7  3]\n",
      "Q_values : [ 3.9651918   6.42475    -0.78783524  7.445376  ]\n",
      "state : [ 0  2 10  0  4  0  0  0  3  0  1  0  0  0  0  0  0  0  0  0  0  0  0  0\n",
      "  0  2 10  5  8  6  0  0  3  0  2  0  3  0  1  2  0  0  0  0  9  0  1  0]\n",
      "Q_values : [-4.385949   2.9271526  2.4829946  0.307678 ]\n",
      "Step #1140.00 (1ms ~= 10.00*RT, ~50000.00UPS, TraCI: 73ms, vehicles TOT 874 ACT 50 BUF 8) \r"
     ]
    },
    {
     "name": "stderr",
     "output_type": "stream",
     "text": [
      "Warning: Vehicle 'CEWR.42' performs emergency braking on lane 'end2_junction_1' with decel=9.00, wished=5.00, severity=1.00, time=1140.00.\n",
      "Warning: Vehicle 'CEWR.42' performs emergency stop at the end of lane 'end2_junction_1' because of a red traffic light (decel=-20.07, offset=0.02), time=1140.56.\n"
     ]
    },
    {
     "name": "stdout",
     "output_type": "stream",
     "text": [
      "Step #1180.00 (0ms ?*RT. ?UPS, TraCI: 0ms, vehicles TOT 905 ACT 55 BUF 13)                "
     ]
    },
    {
     "name": "stderr",
     "output_type": "stream",
     "text": [
      "Warning: Vehicle 'CENR.46' performs emergency braking on lane 'end2_junction_0' with decel=9.00, wished=5.00, severity=1.00, time=1180.00.\n"
     ]
    },
    {
     "name": "stdout",
     "output_type": "stream",
     "text": [
      "Step #1204.00 (0ms ?*RT. ?UPS, TraCI: 0ms, vehicles TOT 924 ACT 67 BUF 0)                 \r"
     ]
    },
    {
     "name": "stderr",
     "output_type": "stream",
     "text": [
      "Warning: Vehicle 'CESR.44' performs emergency braking on lane 'end2_junction_2' with decel=9.00, wished=5.00, severity=1.00, time=1200.00.\n",
      "Warning: Vehicle 'CESR.44' performs emergency braking on lane 'end2_junction_2' with decel=9.00, wished=5.00, severity=1.00, time=1201.14.\n",
      "Warning: Vehicle 'CWNR.4' performs emergency braking on lane 'end4_junction_2' with decel=9.00, wished=5.00, severity=1.00, time=1204.12.\n"
     ]
    },
    {
     "name": "stdout",
     "output_type": "stream",
     "text": [
      "episode : 12\n",
      "Step #1300.00 (0ms ?*RT. ?UPS, TraCI: 0ms, vehicles TOT 924 ACT 19 BUF 0)                 \n",
      " Retrying in 1 seconds\n"
     ]
    },
    {
     "name": "stderr",
     "output_type": "stream",
     "text": [
      "Warning: Environment variable SUMO_HOME is not set properly, disabling XML validation. Set 'auto' or 'always' for web lookups.\n",
      "Warning: Vehicle 'CWE.3' performs emergency braking on lane 'end4_junction_1' with decel=9.00, wished=5.00, severity=1.00, time=60.00.\n",
      "Warning: Vehicle 'CWE.3' performs emergency stop at the end of lane 'end4_junction_1' because of a red traffic light (decel=-29.73, offset=0.15), time=61.02.\n"
     ]
    },
    {
     "name": "stdout",
     "output_type": "stream",
     "text": [
      "state : [ 0  2 10  0  1  0  0  2  2  0  2  0  0  0  0  0  0  0  0  0  0  0  0  0          \n",
      "  0  3 13  4  2  0  4  2  2  1  6  0  2  0  0  4  0  0  0  0  2  0  0  0]\n",
      "Q_values : [-1.8423834  6.2585964  1.8139977  4.184716 ]\n",
      "state : [ 0  2  0  0  1 12  0  2  0  0  2  2  0  0  0  0  0  0  0  0  0  0  0  0\n",
      "  2  5  2  2  4 13  5  4  1  2  7  3  2  0  0  3  1  9  0  0  0  0  0  0]\n",
      "Q_values : [-7.778035  -1.6239573 -0.9327308 -2.9892356]\n",
      "Step #320.00 (0ms ?*RT. ?UPS, TraCI: 0ms, vehicles TOT 252 ACT 64 BUF 0)                  "
     ]
    },
    {
     "name": "stderr",
     "output_type": "stream",
     "text": [
      "Warning: Vehicle 'CEW.8' performs emergency braking on lane 'end2_junction_1' with decel=9.00, wished=5.00, severity=1.00, time=320.00.\n"
     ]
    },
    {
     "name": "stdout",
     "output_type": "stream",
     "text": [
      "Step #401.00 (0ms ?*RT. ?UPS, TraCI: 0ms, vehicles TOT 310 ACT 80 BUF 2)                  \r"
     ]
    },
    {
     "name": "stderr",
     "output_type": "stream",
     "text": [
      "Warning: Vehicle 'CES.7' performs emergency braking on lane 'end2_junction_2' with decel=9.00, wished=5.00, severity=1.00, time=400.00.\n",
      "Warning: Vehicle 'CES.7' performs emergency braking on lane 'end2_junction_2' with decel=9.00, wished=5.00, severity=1.00, time=401.19.\n"
     ]
    },
    {
     "name": "stdout",
     "output_type": "stream",
     "text": [
      "Step #460.00 (0ms ?*RT. ?UPS, TraCI: 70ms, vehicles TOT 360 ACT 89 BUF 0)                 \r"
     ]
    },
    {
     "name": "stderr",
     "output_type": "stream",
     "text": [
      "Warning: Vehicle 'AWE.31' performs emergency stop at the end of lane 'end4_junction_1' because of a red traffic light (decel=-11.43, offset=0.01), time=460.90.\n"
     ]
    },
    {
     "name": "stdout",
     "output_type": "stream",
     "text": [
      "state : [ 0  2  0  0  1 11  0  2  0  0 10  2  0  0  0  0  0  0  0  0  0  0  0  0\n",
      "  0  2 11  2  4 12  4  2  0  0 18  2  2  0  0  3  1 11  2  0  0  1  1  2]\n",
      "Q_values : [-2.3929436  -0.40052855 11.104702    9.242401  ]\n",
      "Step #480.00 (0ms ?*RT. ?UPS, TraCI: 90ms, vehicles TOT 375 ACT 84 BUF 3)                 \r"
     ]
    },
    {
     "name": "stderr",
     "output_type": "stream",
     "text": [
      "Warning: Vehicle 'CNE.34' performs emergency braking on lane 'end1_junction_2' with decel=9.00, wished=5.00, severity=1.00, time=480.00.\n",
      "Warning: Vehicle 'CNE.34' performs emergency stop at the end of lane 'end1_junction_2' because of a red traffic light (decel=-14.30, offset=0.01), time=480.30.\n"
     ]
    },
    {
     "name": "stdout",
     "output_type": "stream",
     "text": [
      "Step #501.00 (0ms ?*RT. ?UPS, TraCI: 0ms, vehicles TOT 384 ACT 70 BUF 0)                  \r"
     ]
    },
    {
     "name": "stderr",
     "output_type": "stream",
     "text": [
      "Warning: Vehicle 'CEW.13' performs emergency braking on lane 'end2_junction_1' with decel=9.00, wished=5.00, severity=1.00, time=500.00.\n",
      "Warning: Vehicle 'AWE.37' performs emergency stop at the end of lane 'end4_junction_1' because of a red traffic light (decel=-15.05, offset=0.00), time=500.54.\n",
      "Warning: Vehicle 'CEW.13' performs emergency stop at the end of lane 'end2_junction_1' because of a red traffic light (decel=-15.23, offset=0.01), time=501.15.\n"
     ]
    },
    {
     "name": "stdout",
     "output_type": "stream",
     "text": [
      "Step #540.00 (0ms ?*RT. ?UPS, TraCI: 70ms, vehicles TOT 412 ACT 64 BUF 8)                 \r"
     ]
    },
    {
     "name": "stderr",
     "output_type": "stream",
     "text": [
      "Warning: Vehicle 'AWE.43' performs emergency stop at the end of lane 'end4_junction_1' because of a red traffic light (decel=-12.86, offset=0.02), time=540.75.\n"
     ]
    },
    {
     "name": "stdout",
     "output_type": "stream",
     "text": [
      "state : [ 0  2 21  0  0  0  0  2  0  0  3  0  0  0  0  0  0  0  0  0  0  0  0  0\n",
      "  0  3 24  2  2  2  4  2  0  1  7  0  0  0  0  3  2  0  0  0  3  0  0  0]\n",
      "Q_values : [-4.235998 11.24734   5.805562  1.413056]\n",
      "state : [ 0  0 26  0 19  0  0  0  4  0 20  0  0  0  0  0  0  0  0  0  0  0  0  0\n",
      "  0  0 28  5 23  4  2  0  4  0 22  0  4  0  0  2  0  0  0  0  3  0  0  0]\n",
      "Q_values : [11.639435 35.42795  42.334133 18.728195]\n",
      "state : [ 0  0 30  0 20  0  0  0  6  0 12  0  0  0  0  0  0  0  0  0  0  0  0  0\n",
      "  0  0 32  6 24  7  2  0  6  0 14  0  2  0  1  0  0  0  1  0  9  2  0  0]\n",
      "Q_values : [ 0.52657413 33.246037   23.121206   10.700141  ]\n",
      "Step #800.00 (0ms ?*RT. ?UPS, TraCI: 92ms, vehicles TOT 623 ACT 108 BUF 1)                \r"
     ]
    },
    {
     "name": "stderr",
     "output_type": "stream",
     "text": [
      "Warning: Vehicle 'CESR.13' performs emergency braking on lane 'end2_junction_2' with decel=9.00, wished=5.00, severity=1.00, time=800.00.\n",
      "Warning: Vehicle 'CESR.13' performs emergency stop at the end of lane 'end2_junction_2' because of a red traffic light (decel=-12.32, offset=0.03), time=800.47.\n"
     ]
    },
    {
     "name": "stdout",
     "output_type": "stream",
     "text": [
      "state : [ 0  0  2  0 24  6  0  0  0  0 14  0  0  0  0  0  0  0  0  0  0  0  0  0\n",
      "  1  1 21  6 28  9  2  0  0  1 15  0  4  0  0  2  0  9  0  0  2  0  0  5]\n",
      "Q_values : [ 6.3734436 13.858959  31.31165   15.288018 ]\n",
      "Step #820.00 (0ms ?*RT. ?UPS, TraCI: 92ms, vehicles TOT 638 ACT 107 BUF 4)                \r"
     ]
    },
    {
     "name": "stderr",
     "output_type": "stream",
     "text": [
      "Warning: Vehicle 'CNE.45' performs emergency braking on lane 'end1_junction_2' with decel=9.00, wished=5.00, severity=1.00, time=820.00.\n",
      "Warning: Vehicle 'CNE.45' performs emergency stop at the end of lane 'end1_junction_2' because of a red traffic light (decel=-12.23, offset=0.02), time=820.52.\n"
     ]
    },
    {
     "name": "stdout",
     "output_type": "stream",
     "text": [
      "state : [ 0  0 23  0 10  0  0  0  0  0  4  0  0  0  0  0  0  0  0  0  0  0  0  0\n",
      "  0  1 24  6 22  6  2  0  0  1  5  0  2  0  0  1  1  1  0  0  9  0  1  0]\n",
      "Q_values : [-2.9228745 18.467953  10.465555   4.299375 ]\n",
      "state : [ 0  0 10  0  0  8  0  0  0  0  0  0  0  0  0  0  0  0  0  0  0  0  0  0\n",
      "  3  1 16  5 17 12  2  2  2  3  1  2  4  0  0  2  3  6  0  0  0  0  7  3]\n",
      "Q_values : [-13.850044   -7.7172484  -2.0719094  -5.8985085]\n",
      "state : [ 0  0 16  0  0 11  0  1  1  0  0  1  0  0  0  0  0  0  0  0  0  0  0  0\n",
      "  2  2 16  6  7 16  1  2  2  2  0  2  2  0  0  0  1  0  0  0  0  0  6  5]\n",
      "Q_values : [-0.7572558  6.7920456  2.455137   5.5921745]\n",
      "Step #920.00 (0ms ?*RT. ?UPS, TraCI: 92ms, vehicles TOT 713 ACT 76 BUF 1)                 \r"
     ]
    },
    {
     "name": "stderr",
     "output_type": "stream",
     "text": [
      "Warning: Vehicle 'CEWR.22' performs emergency braking on lane 'end2_junction_1' with decel=9.00, wished=5.00, severity=1.00, time=920.00.\n",
      "Warning: Vehicle 'CEWR.22' performs emergency stop at the end of lane 'end2_junction_1' because of a red traffic light (decel=-19.64, offset=0.09), time=920.35.\n"
     ]
    },
    {
     "name": "stdout",
     "output_type": "stream",
     "text": [
      "Step #940.00 (0ms ?*RT. ?UPS, TraCI: 72ms, vehicles TOT 728 ACT 73 BUF 4)                 \r"
     ]
    },
    {
     "name": "stderr",
     "output_type": "stream",
     "text": [
      "Warning: Vehicle 'CNER.6' performs emergency braking on lane 'end1_junction_2' with decel=9.00, wished=5.00, severity=1.00, time=940.00.\n",
      "Warning: Vehicle 'CNER.6' performs emergency stop at the end of lane 'end1_junction_2' because of a red traffic light (decel=-12.24, offset=0.01), time=940.50.\n"
     ]
    },
    {
     "name": "stdout",
     "output_type": "stream",
     "text": [
      "Step #980.00 (1ms ~= 10.00*RT, ~68000.00UPS, TraCI: 67ms, vehicles TOT 755 ACT 68 BUF 1)  \r"
     ]
    },
    {
     "name": "stderr",
     "output_type": "stream",
     "text": [
      "Warning: Vehicle 'CESR.24' performs emergency braking on lane 'end2_junction_2' with decel=9.00, wished=5.00, severity=1.00, time=980.00.\n",
      "Warning: Vehicle 'CESR.24' performs emergency stop at the end of lane 'end2_junction_2' because of a red traffic light (decel=-13.66, offset=0.01), time=980.35.\n"
     ]
    },
    {
     "name": "stdout",
     "output_type": "stream",
     "text": [
      "state : [ 0  0  9  0  0 11  0  0  0  0  0  0  0  0  0  0  0  0  0  0  0  0  0  0\n",
      "  1  1  9  7  8 17  2  0  0  1  1  0  4  0  0  2  2  1  0  0  2  0  7  3]\n",
      "Q_values : [-2.756126   -0.24652553 -0.05924201  3.7659283 ]\n",
      "state : [ 0  2  2  0  0 16  0  2  1  0  0  2  0  0  0  0  0  0  0  0  0  0  0  0\n",
      "  0  2  4  5  4 20  2  2  1  0  2  2  4  0  0  1  1  5  2  0  0  2  4  2]\n",
      "Q_values : [0.97618294 5.1295314  1.1799608  8.524292  ]\n",
      "Step #1101.00 (0ms ?*RT. ?UPS, TraCI: 1ms, vehicles TOT 846 ACT 54 BUF 0)                 \r"
     ]
    },
    {
     "name": "stderr",
     "output_type": "stream",
     "text": [
      "Warning: Vehicle 'CESR.35' performs emergency braking on lane 'end2_junction_2' with decel=9.00, wished=5.00, severity=1.00, time=1100.00.\n",
      "Warning: Vehicle 'CESR.35' performs emergency braking on lane 'end2_junction_2' with decel=9.00, wished=5.00, severity=1.00, time=1101.05.\n"
     ]
    },
    {
     "name": "stdout",
     "output_type": "stream",
     "text": [
      "episode : 13\n",
      "Step #1300.00 (0ms ?*RT. ?UPS, TraCI: 0ms, vehicles TOT 924 ACT 23 BUF 0)                 \n",
      " Retrying in 1 seconds\n"
     ]
    },
    {
     "name": "stderr",
     "output_type": "stream",
     "text": [
      "Warning: Environment variable SUMO_HOME is not set properly, disabling XML validation. Set 'auto' or 'always' for web lookups.\n"
     ]
    },
    {
     "name": "stdout",
     "output_type": "stream",
     "text": [
      "state : [0 0 0 0 0 0 0 0 0 0 0 0 0 0 0 0 0 0 0 0 0 0 0 0 2 3 3 2 2 2 4 2 2 3 3 2 0\n",
      " 0 0 0 0 0 0 0 0 0 0 0]\n",
      "Q_values : [-14.179764  -9.833767 -15.837082 -14.438097]\n",
      "state : [ 0  0  6  0  4  0  0  0  0  0  9  0  0  0  0  0  0  0  0  0  0  0  0  0\n",
      "  0  0 10  2  7  1  4  0  0  0 13  0  2  0  1  4  0  0  0  0  5  0  0  0]\n",
      "Q_values : [-2.5987954  9.358078   6.3165913  1.8993105]\n",
      "state : [ 0  1  5  0  1  0  0  1  1  0  7  0  0  0  0  0  0  0  0  0  0  0  0  0\n",
      "  0  2 10  0  2  0  4  2  2  0 11  0  2  0  2  3  1  0  2  0  3  2  0  0]\n",
      "Q_values : [-6.689542    4.439899    0.46429634 -2.5050368 ]\n",
      "state : [0 0 6 0 0 2 0 0 0 0 0 0 0 0 0 0 0 0 0 0 0 0 0 0 2 3 9 2 3 3 5 2 1 3 7 1 2\n",
      " 0 0 4 6 4 0 0 0 0 2 1]\n",
      "Q_values : [-9.095432  -3.490582  -1.8608598 -4.7174053]\n",
      "state : [ 0  1  9  0  0  3  0  1  1  0  0  1  0  0  0  0  0  0  0  0  0  0  0  0\n",
      "  0  3 13  0  0  4  4  2  2  1  3  2  2  0  0  3  4  3  2  0  0  2  1  0]\n",
      "Q_values : [-4.5133944   4.8384995  -0.93184936 -0.49880546]\n"
     ]
    },
    {
     "name": "stderr",
     "output_type": "stream",
     "text": [
      "Warning: Vehicle 'CNE.25' performs emergency braking on lane 'end1_junction_2' with decel=9.00, wished=5.00, severity=1.00, time=340.00.\n",
      "Warning: Vehicle 'CNE.25' performs emergency stop at the end of lane 'end1_junction_2' because of a red traffic light (decel=-16.16, offset=0.00), time=340.11.\n"
     ]
    },
    {
     "name": "stdout",
     "output_type": "stream",
     "text": [
      "Step #420.00 (0ms ?*RT. ?UPS, TraCI: 67ms, vehicles TOT 321 ACT 47 BUF 3)                 \r"
     ]
    },
    {
     "name": "stderr",
     "output_type": "stream",
     "text": [
      "Warning: Vehicle 'CWE.33' performs emergency braking on lane 'end4_junction_1' with decel=9.00, wished=5.00, severity=1.00, time=420.00.\n",
      "Warning: Vehicle 'CWE.33' performs emergency stop at the end of lane 'end4_junction_1' because of a red traffic light (decel=-30.18, offset=0.07), time=420.97.\n"
     ]
    },
    {
     "name": "stdout",
     "output_type": "stream",
     "text": [
      "state : [ 0  0 18  0  2  1  0  0  2  0  7  0  0  0  0  0  0  0  0  0  0  0  0  0\n",
      "  0  1 21  0  3  2  4  0  2  1 10  0  2  2  1  4  0  0  0  2  1  0  0  0]\n",
      "Q_values : [-2.1554608 15.12922    7.429514   1.0369666]\n",
      "state : [ 0  0  8  0  0  6  0  0  0  0  0  0  0  0  0  0  0  0  0  0  0  0  0  0\n",
      "  2  0 11  2  0  6  5  0  0  2 11  0  2  0  0  2  6  4  0  0  0  0  4  3]\n",
      "Q_values : [-10.426817   -5.177742   -4.2545166  -7.6864586]\n",
      "Step #662.00 (0ms ?*RT. ?UPS, TraCI: 0ms, vehicles TOT 517 ACT 59 BUF 5)                  \r"
     ]
    },
    {
     "name": "stderr",
     "output_type": "stream",
     "text": [
      "Warning: Vehicle 'CEWR.2' performs emergency braking on lane 'end2_junction_1' with decel=9.00, wished=5.00, severity=1.00, time=662.58.\n"
     ]
    },
    {
     "name": "stdout",
     "output_type": "stream",
     "text": [
      "Step #680.00 (0ms ?*RT. ?UPS, TraCI: 67ms, vehicles TOT 533 ACT 67 BUF 1)                 \r"
     ]
    },
    {
     "name": "stderr",
     "output_type": "stream",
     "text": [
      "Warning: Vehicle 'CESR.1' performs emergency braking on lane 'end2_junction_2' with decel=9.00, wished=5.00, severity=1.00, time=680.00.\n",
      "Warning: Vehicle 'CESR.1' performs emergency stop at the end of lane 'end2_junction_2' because of a red traffic light (decel=-15.66, offset=0.06), time=680.14.\n"
     ]
    },
    {
     "name": "stdout",
     "output_type": "stream",
     "text": [
      "state : [ 0  0 10  0  0 13  0  0  2  0  0  0  0  0  0  0  0  0  0  0  0  0  0  0\n",
      "  0  0 12  5  4 17  2  0  2  0  2  0  4  0  0  2  2  1  0  0  0  0  7  3]\n",
      "Q_values : [0.52153873 3.6434698  3.693009   9.899845  ]\n",
      "Step #722.00 (0ms ?*RT. ?UPS, TraCI: 0ms, vehicles TOT 559 ACT 63 BUF 5)                  \r"
     ]
    },
    {
     "name": "stderr",
     "output_type": "stream",
     "text": [
      "Warning: Vehicle 'CEWR.7' performs emergency braking on lane 'end2_junction_1' with decel=9.00, wished=5.00, severity=1.00, time=720.00.\n",
      "Warning: Vehicle 'CEWR.7' performs emergency braking on lane 'end2_junction_1' with decel=9.00, wished=5.00, severity=1.00, time=722.33.\n"
     ]
    },
    {
     "name": "stdout",
     "output_type": "stream",
     "text": [
      "state : [ 0  2  2  0  0 19  0  2  0  0  0  2  0  0  0  0  0  0  0  0  0  0  0  0\n",
      "  1  3  2  7  3 22  2  2  0  1  1  2  4  0  0  1  3  1  0  0  0  0  6  3]\n",
      "Q_values : [ 3.6265283  5.889721   5.344411  16.594301 ]\n",
      "Step #920.00 (0ms ?*RT. ?UPS, TraCI: 69ms, vehicles TOT 713 ACT 73 BUF 1)                 \r"
     ]
    },
    {
     "name": "stderr",
     "output_type": "stream",
     "text": [
      "Warning: Vehicle 'CNSR.2' performs emergency braking on lane 'end1_junction_1' with decel=9.00, wished=5.00, severity=1.00, time=920.00.\n",
      "Warning: Vehicle 'CNSR.2' performs emergency stop at the end of lane 'end1_junction_1' because of a red traffic light (decel=-24.22, offset=0.01), time=920.15.\n"
     ]
    },
    {
     "name": "stdout",
     "output_type": "stream",
     "text": [
      "state : [ 0  0  2  0  0 22  0  0  0  0  0  2  0  0  0  0  0  0  0  0  0  0  0  0\n",
      "  0  0  4  6 18 27  2  0  0  0  2  2  2  0  0  0  4  3  0  0  0  0  7  3]\n",
      "Q_values : [-1.5545027 -2.9859102 -1.5185959  9.645683 ]\n",
      "Step #1082.00 (0ms ?*RT. ?UPS, TraCI: 0ms, vehicles TOT 835 ACT 92 BUF 5)                 \r"
     ]
    },
    {
     "name": "stderr",
     "output_type": "stream",
     "text": [
      "Warning: Vehicle 'CEWR.34' performs emergency braking on lane 'end2_junction_1' with decel=9.00, wished=5.00, severity=1.00, time=1082.09.\n"
     ]
    },
    {
     "name": "stdout",
     "output_type": "stream",
     "text": [
      "state : [ 0  2  0  0  7 12  0  2  0  0  2  0  0  0  0  0  0  0  0  0  0  0  0  0\n",
      "  0  2  2  6 12 35  2  2  0  0  4  0  4  0  1  0  0  0  0  0  9  0  0  0]\n",
      "Q_values : [-1.8418248  -1.4466901  -0.06144118  5.564874  ]\n",
      "state : [ 0  2  2  0 10  0  0  2  0  0  4  0  0  0  0  0  0  0  0  0  0  0  0  0\n",
      "  2  3  2  6 15 25  2  3  0  2  5  0  4  0  0  2  0  0  0  0 12  0  0  0]\n",
      "Q_values : [-6.9907293 -4.961377   0.5603329 -2.646558 ]\n",
      "episode : 14\n",
      "Step #1300.00 (0ms ?*RT. ?UPS, TraCI: 0ms, vehicles TOT 924 ACT 31 BUF 0)                 \n",
      " Retrying in 1 seconds\n"
     ]
    },
    {
     "name": "stderr",
     "output_type": "stream",
     "text": [
      "Warning: Environment variable SUMO_HOME is not set properly, disabling XML validation. Set 'auto' or 'always' for web lookups.\n"
     ]
    },
    {
     "name": "stdout",
     "output_type": "stream",
     "text": [
      "state : [ 0  2  6  0  1  0  0  2  0  0  2  0  0  0  0  0  0  0  0  0  0  0  0  0\n",
      "  0  2 10  2  4  1  4  2  0  0  6  0  2  0  1  3  0  1  0  0  5  0  0  0]\n",
      "Q_values : [-6.1756506  -0.906342   -0.22798109 -1.6505983 ]\n"
     ]
    },
    {
     "name": "stderr",
     "output_type": "stream",
     "text": [
      "Warning: Vehicle 'CNE.10' performs emergency braking on lane 'end1_junction_2' with decel=9.00, wished=5.00, severity=1.00, time=180.00.\n",
      "Warning: Vehicle 'CNE.10' performs emergency stop at the end of lane 'end1_junction_2' because of a red traffic light (decel=-14.39, offset=0.00), time=180.26.\n"
     ]
    },
    {
     "name": "stdout",
     "output_type": "stream",
     "text": [
      "state : [ 0  0 12  0  4  2  0  0  0  0 12  0  0  0  0  0  0  0  0  0  0  0  0  0          \n",
      "  1  0 16  2  4  2  5  0  0  1 16  0  1  2  0  2  0  0  0  1  0  0  0  0]\n",
      "Q_values : [-0.75130033 12.526461   12.53625     3.081592  ]\n",
      "Step #321.00 (0ms ?*RT. ?UPS, TraCI: 0ms, vehicles TOT 252 ACT 67 BUF 0)                  \r"
     ]
    },
    {
     "name": "stderr",
     "output_type": "stream",
     "text": [
      "Warning: Vehicle 'CSW.2' performs emergency braking on lane 'end3_junction_2' with decel=9.00, wished=5.00, severity=1.00, time=320.00.\n",
      "Warning: Vehicle 'CNE.21' performs emergency braking on lane 'end1_junction_2' with decel=9.00, wished=5.00, severity=1.00, time=320.00.\n",
      "Warning: Vehicle 'CSW.2' performs emergency stop at the end of lane 'end3_junction_2' because of a red traffic light (decel=-16.71, offset=0.04), time=320.51.\n",
      "Warning: Vehicle 'CNE.21' performs emergency braking on lane 'end1_junction_2' with decel=9.00, wished=5.00, severity=1.00, time=321.36.\n"
     ]
    },
    {
     "name": "stdout",
     "output_type": "stream",
     "text": [
      "Step #421.00 (0ms ?*RT. ?UPS, TraCI: 0ms, vehicles TOT 321 ACT 56 BUF 3)                  \r"
     ]
    },
    {
     "name": "stderr",
     "output_type": "stream",
     "text": [
      "Warning: Vehicle 'CES.10' performs emergency braking on lane 'end2_junction_2' with decel=9.00, wished=5.00, severity=1.00, time=421.32.\n"
     ]
    },
    {
     "name": "stdout",
     "output_type": "stream",
     "text": [
      "Step #560.00 (0ms ?*RT. ?UPS, TraCI: 81ms, vehicles TOT 426 ACT 64 BUF 0)                 \r"
     ]
    },
    {
     "name": "stderr",
     "output_type": "stream",
     "text": [
      "Warning: Vehicle 'AWE.45' performs emergency stop at the end of lane 'end4_junction_1' because of a red traffic light (decel=-32.20, offset=0.05), time=560.31.\n"
     ]
    },
    {
     "name": "stdout",
     "output_type": "stream",
     "text": [
      "Step #711.00 (0ms ?*RT. ?UPS, TraCI: 0ms, vehicles TOT 554 ACT 88 BUF 4)                  \r"
     ]
    },
    {
     "name": "stderr",
     "output_type": "stream",
     "text": [
      "Warning: Teleporting vehicle 'ANE.32'; waited too long (yield), lane='end1_junction_2', time=711.61.\n",
      "Warning: Vehicle 'ANE.32' ends teleporting on edge 'junction_end2', time=711.61.\n"
     ]
    },
    {
     "name": "stdout",
     "output_type": "stream",
     "text": [
      "state : [ 0  0 30  0  0 13  0  0  6  0  0  0  0  0  0  0  0  0  0  0  0  0  0  0\n",
      "  0  0 43  5  4 17  2  0  6  0  2  0  4  0  0  1  0  1  0  0  0  0  3  0]\n",
      "Q_values : [-0.2012763 21.492317   3.169179   8.055103 ]\n",
      "Step #722.00 (0ms ?*RT. ?UPS, TraCI: 0ms, vehicles TOT 559 ACT 87 BUF 5)                  \r"
     ]
    },
    {
     "name": "stderr",
     "output_type": "stream",
     "text": [
      "Warning: Vehicle 'CEWR.7' performs emergency braking on lane 'end2_junction_1' with decel=9.00, wished=5.00, severity=1.00, time=720.00.\n",
      "Warning: Vehicle 'CEWR.7' performs emergency braking on lane 'end2_junction_1' with decel=9.00, wished=5.00, severity=1.00, time=722.29.\n"
     ]
    },
    {
     "name": "stdout",
     "output_type": "stream",
     "text": [
      "state : [ 0  0  6  0  3 16  0  0  0  0  1  0  0  0  0  0  0  0  0  0  0  0  0  0\n",
      "  0  0 32  5  7 21  0  0  0  0  2  0  3  0  0  2  0  9  0  0  0  0  0  6]\n",
      "Q_values : [-7.0135794 -5.639232   1.2256973  4.346586 ]\n",
      "state : [ 0  0  6  0 17  8  0  0  0  0  6  0  0  0  0  0  0  0  0  0  0  0  0  0\n",
      "  0  1 26  7 20 11  2  0  0  1  7  0  3  0  0  2  0  9  0  0  0  0  0  1]\n",
      "Q_values : [ 1.8169932  7.4859533 16.525948  10.0173855]\n",
      "Step #820.00 (0ms ?*RT. ?UPS, TraCI: 0ms, vehicles TOT 638 ACT 92 BUF 4)                  "
     ]
    },
    {
     "name": "stderr",
     "output_type": "stream",
     "text": [
      "Warning: Vehicle 'CNE.43' performs emergency braking on lane 'end1_junction_2' with decel=9.00, wished=5.00, severity=1.00, time=820.00.\n",
      "Warning: Vehicle 'CWER.6' performs emergency braking on lane 'end4_junction_1' with decel=9.00, wished=5.00, severity=1.00, time=840.00.\n",
      "Warning: Vehicle 'CWER.6' performs emergency stop at the end of lane 'end4_junction_1' because of a red traffic light (decel=-30.18, offset=0.01), time=840.97.\n"
     ]
    },
    {
     "name": "stdout",
     "output_type": "stream",
     "text": [
      "state : [ 0  0  0  0 18 21  0  0  0  0  3  0  0  0  0  0  0  0  0  0  0  0  0  08 BUF 5)  \n",
      "  3  1 20  5 22 25  2  2  2  3  4  2  4  0  0  2  0  9  0  0  0  0  0  0]\n",
      "Q_values : [-6.0386834 -4.375074   2.2703114  3.644955 ]\n",
      "Step #1121.00 (0ms ?*RT. ?UPS, TraCI: 0ms, vehicles TOT 862 ACT 118 BUF 2)                \r"
     ]
    },
    {
     "name": "stderr",
     "output_type": "stream",
     "text": [
      "Warning: Vehicle 'CESR.40' performs emergency braking on lane 'end2_junction_2' with decel=9.00, wished=5.00, severity=1.00, time=1121.61.\n"
     ]
    },
    {
     "name": "stdout",
     "output_type": "stream",
     "text": [
      "Step #1142.00 (0ms ?*RT. ?UPS, TraCI: 0ms, vehicles TOT 874 ACT 113 BUF 8)                \r"
     ]
    },
    {
     "name": "stderr",
     "output_type": "stream",
     "text": [
      "Warning: Teleporting vehicle 'CWER.6'; waited too long (yield), lane='end4_junction_1', time=1140.98.\n",
      "Warning: Vehicle 'CWER.6' ends teleporting on edge 'junction_end2', time=1140.98.\n",
      "Warning: Teleporting vehicle 'CEWR.13'; waited too long (yield), lane='end2_junction_1', time=1142.43.\n",
      "Warning: Vehicle 'CEWR.13' ends teleporting on edge 'junction_end4', time=1142.43.\n"
     ]
    },
    {
     "name": "stdout",
     "output_type": "stream",
     "text": [
      "state : [ 0  0  2  0 48 12  0  0  0  0 18  0  0  0  0  0  0  0  0  0  0  0  0  0\n",
      "  2  1  2  6 68 15  2  1  0  2 19  0  4  0  0  2  0  0  0  0  0  0  0  0]\n",
      "Q_values : [12.9445095 21.873665  48.916645  29.16825  ]\n",
      "Step #1241.00 (0ms ?*RT. ?UPS, TraCI: 0ms, vehicles TOT 924 ACT 91 BUF 0)                 \r"
     ]
    },
    {
     "name": "stderr",
     "output_type": "stream",
     "text": [
      "Warning: Vehicle 'CESR.48' performs emergency braking on lane 'end2_junction_2' with decel=9.00, wished=5.00, severity=1.00, time=1240.00.\n",
      "Warning: Vehicle 'CESR.48' performs emergency stop at the end of lane 'end2_junction_2' because of a red traffic light (decel=-14.60, offset=0.04), time=1241.03.\n"
     ]
    },
    {
     "name": "stdout",
     "output_type": "stream",
     "text": [
      "state : [ 0  0  4  0 50 11  0  0  2  0  8  0  0  0  0  0  0  0  0  0  0  0  0  0\n",
      "  0  0  4  0 51 11  0  0  2  0  8  0  0  0  0  0  0  0  0  0  1  0  0  0]\n",
      "Q_values : [25.947796 40.328526 59.47046  34.409355]\n",
      "episode : 15\n",
      "Step #1300.00 (0ms ?*RT. ?UPS, TraCI: 1ms, vehicles TOT 924 ACT 74 BUF 0)                 \n",
      " Retrying in 1 seconds\n"
     ]
    },
    {
     "name": "stderr",
     "output_type": "stream",
     "text": [
      "Warning: Environment variable SUMO_HOME is not set properly, disabling XML validation. Set 'auto' or 'always' for web lookups.\n"
     ]
    },
    {
     "name": "stdout",
     "output_type": "stream",
     "text": [
      "state : [0 0 2 0 2 2 0 0 2 0 3 2 0 0 0 0 0 0 0 0 0 0 0 0 1 0 7 2 2 2 5 0 2 1 7 2 2\n",
      " 1 0 2 0 0 1 1 1 2 0 0]\n",
      "Q_values : [-3.9122772   5.8877697   1.4828032   0.97261655]\n"
     ]
    },
    {
     "name": "stderr",
     "output_type": "stream",
     "text": [
      "Warning: Vehicle 'CNE.3' performs emergency braking on lane 'end1_junction_2' with decel=9.00, wished=5.00, severity=1.00, time=63.80.\n"
     ]
    },
    {
     "name": "stdout",
     "output_type": "stream",
     "text": [
      "state : [ 0  0  6  0  0  4  0  0  0  0  0  2  0  0  0  0  0  0  0  0  0  0  0  0UF 0)     \n",
      "  1  0 10  1  1  6  5  0  0  1  5  2  0  0  0  3  6  4  0  0  0  0  3  1]\n",
      "Q_values : [-7.476186  -3.5804687 -2.215136  -4.638961 ]\n",
      "Step #141.00 (0ms ?*RT. ?UPS, TraCI: 0ms, vehicles TOT 108 ACT 44 BUF 0)                  \r"
     ]
    },
    {
     "name": "stderr",
     "output_type": "stream",
     "text": [
      "Warning: Vehicle 'CES.3' performs emergency braking on lane 'end2_junction_2' with decel=9.00, wished=5.00, severity=1.00, time=140.00.\n",
      "Warning: Vehicle 'CES.3' performs emergency stop at the end of lane 'end2_junction_2' because of a red traffic light (decel=-13.50, offset=0.03), time=141.15.\n"
     ]
    },
    {
     "name": "stdout",
     "output_type": "stream",
     "text": [
      "state : [ 0  1 19  0  0  2  0  1  1  0  0  1  0  0  0  0  0  0  0  0  0  0  0  0\n",
      "  0  2 23  0  0  3  4  2  2  0  3  2  2  0  0  3  2  0  2  0  0  2  2  0]\n",
      "Q_values : [ 7.3699865  9.781643  -2.427013   6.6571207]\n",
      "state : [ 0  2  0  0  0  3  0  2  0  0  2  2  0  0  0  0  0  0  0  0  0  0  0  0\n",
      "  0  3 15  2  2  5  4  2  0  1  6  2  0  0  0  4  0  9  0  0  0  0  0  1]\n",
      "Q_values : [-12.226734   -6.1430593  -7.3143454 -10.7137   ]\n",
      "state : [ 0  2  3  0  4  0  0  2  0  0 16  0  0  0  0  0  0  0  0  0  0  0  0  0\n",
      "  1  2  7  1  6  2  6  2  0  1 20  0  0  0  1  3  0  0  0  0  7  0  0  0]\n",
      "Q_values : [ 0.97630024  6.4096317  12.200084    3.725297  ]\n",
      "state : [ 0  2  6  0  0  2  0  2  0  0  0  0  0  0  0  0  0  0  0  0  0  0  0  0\n",
      "  2  5  9  2  3  3  5  4  1  3 11  1  2  0  0  4  6  4  0  0  0  0  3  2]\n",
      "Q_values : [-9.148766 -6.899086 -9.059306 -9.15732 ]\n",
      "Step #320.00 (1ms ~= 10.00*RT, ~61000.00UPS, TraCI: 106ms, vehicles TOT 252 ACT 61 BUF 0) \r"
     ]
    },
    {
     "name": "stderr",
     "output_type": "stream",
     "text": [
      "Warning: Vehicle 'CSW.2' performs emergency braking on lane 'end3_junction_2' with decel=9.00, wished=5.00, severity=1.00, time=320.00.\n",
      "Warning: Vehicle 'CNE.24' performs emergency braking on lane 'end1_junction_2' with decel=9.00, wished=5.00, severity=1.00, time=320.00.\n",
      "Warning: Vehicle 'CSW.2' performs emergency stop at the end of lane 'end3_junction_2' because of a red traffic light (decel=-16.80, offset=0.04), time=320.49.\n",
      "Warning: Vehicle 'CNE.24' performs emergency stop at the end of lane 'end1_junction_2' because of a red traffic light (decel=-16.73, offset=0.05), time=320.56.\n"
     ]
    },
    {
     "name": "stdout",
     "output_type": "stream",
     "text": [
      "Step #500.00 (0ms ?*RT. ?UPS, TraCI: 70ms, vehicles TOT 384 ACT 49 BUF 0)                 \r"
     ]
    },
    {
     "name": "stderr",
     "output_type": "stream",
     "text": [
      "Warning: Vehicle 'CES.13' performs emergency braking on lane 'end2_junction_2' with decel=9.00, wished=5.00, severity=1.00, time=500.00.\n",
      "Warning: Vehicle 'CES.13' performs emergency stop at the end of lane 'end2_junction_2' because of a red traffic light (decel=-18.43, offset=0.05), time=500.47.\n"
     ]
    },
    {
     "name": "stdout",
     "output_type": "stream",
     "text": [
      "state : [ 0  2  0  0  3  2  0  2  0  0 12  0  0  0  0  0  0  0  0  0  0  0  0  0\n",
      "  0  2  3  0  4  3  4  2  0  0 15  0  2  0  0  4  0 10  0  0  0  0  0  0]\n",
      "Q_values : [-1.9130216  7.194543   9.935692   1.5413971]\n",
      "Step #543.00 (0ms ?*RT. ?UPS, TraCI: 0ms, vehicles TOT 416 ACT 55 BUF 4)                  \r"
     ]
    },
    {
     "name": "stderr",
     "output_type": "stream",
     "text": [
      "Warning: Vehicle 'CNE.43' performs emergency braking on lane 'end1_junction_2' with decel=9.00, wished=5.00, severity=1.00, time=543.92.\n"
     ]
    },
    {
     "name": "stdout",
     "output_type": "stream",
     "text": [
      "state : [0 0 6 0 2 5 0 0 0 0 6 0 0 0 0 0 0 0 0 0 0 0 0 0 2 0 9 2 2 5 5 0 0 2 9 0 1\n",
      " 2 0 1 1 0 0 1 0 0 0 0]\n",
      "Q_values : [-3.3322434  0.7928162  3.889872   5.6246915]\n",
      "state : [ 0  0  0  0 12 15  0  0  0  0  6  4  0  0  0  0  0  0  0  0  0  0  0  0\n",
      "  0  0  0  7 15 18  1  0  0  0  7  4  4  0  0  0  0 10  0  0  0  0  0  0]\n",
      "Q_values : [-0.27836037  2.137247   13.815191   16.3782    ]\n",
      "state : [ 0  0  0  0 15  0  0  0  0  0  7  0  0  0  0  0  0  0  0  0  0  0  0  0\n",
      "  0  0  2  5 19 11  2  0  0  0  9  0  4  0  3  2  0  1  0  0  8  0  0  0]\n",
      "Q_values : [-3.3220363   0.86936474  5.3512564   5.344541  ]\n",
      "state : [ 0  0  4  0  0 19  0  0  0  0  0  2  0  0  0  0  0  0  0  0  0  0  0  0\n",
      "  0  1  5  5  6 24  2  0  0  1  1  2  3  0  0  1  2  2  0  0  0  0  7  3]\n",
      "Q_values : [-1.1099839  1.3016644  2.00519    6.4926963]\n",
      "Step #880.00 (0ms ?*RT. ?UPS, TraCI: 82ms, vehicles TOT 674 ACT 57 BUF 4)                 \r"
     ]
    },
    {
     "name": "stderr",
     "output_type": "stream",
     "text": [
      "Warning: Vehicle 'CESR.15' performs emergency braking on lane 'end2_junction_2' with decel=9.00, wished=5.00, severity=1.00, time=880.00.\n",
      "Warning: Vehicle 'CESR.15' performs emergency stop at the end of lane 'end2_junction_2' because of a red traffic light (decel=-11.81, offset=0.01), time=880.55.\n"
     ]
    },
    {
     "name": "stdout",
     "output_type": "stream",
     "text": [
      "state : [ 0  2  4  0  0 14  0  2  2  0  0  0  0  0  0  0  0  0  0  0  0  0  0  0\n",
      "  0  2  4  5  4 18  0  2  2  0  0  0  4  0  0  2  1  0  0  0  0  0  5  2]\n",
      "Q_values : [ 6.477907   6.0083222  2.6003566 14.054676 ]\n",
      "Step #962.00 (0ms ?*RT. ?UPS, TraCI: 0ms, vehicles TOT 742 ACT 53 BUF 8)                  \r"
     ]
    },
    {
     "name": "stderr",
     "output_type": "stream",
     "text": [
      "Warning: Vehicle 'CEWR.27' performs emergency braking on lane 'end2_junction_1' with decel=9.00, wished=5.00, severity=1.00, time=962.74.\n"
     ]
    },
    {
     "name": "stdout",
     "output_type": "stream",
     "text": [
      "Step #1003.00 (0ms ?*RT. ?UPS, TraCI: 0ms, vehicles TOT 773 ACT 57 BUF 1)                 \r"
     ]
    },
    {
     "name": "stderr",
     "output_type": "stream",
     "text": [
      "Warning: Vehicle 'CESR.31' performs emergency braking on lane 'end2_junction_2' with decel=9.00, wished=5.00, severity=1.00, time=1003.98.\n"
     ]
    },
    {
     "name": "stdout",
     "output_type": "stream",
     "text": [
      "state : [ 0  0  5  0  3  7  0  0  2  0  0  0  0  0  0  0  0  0  0  0  0  0  0  0\n",
      "  0  0  7  7  7 10  2  0  2  0  2  0  2  3  1  1  0  0  0  2  1  0  1  0]\n",
      "Q_values : [2.153204  5.9648113 3.8428211 9.1276655]\n",
      "state : [ 0  2  0  0 10 13  0  2  0  0  3  2  0  0  0  0  0  0  0  0  0  0  0  0\n",
      "  0  2  0  0 12 14  0  2  0  0  3  2  3  0  0  2  0  1  2  0  0  2  0  2]\n",
      "Q_values : [ 1.8410172  8.103415  17.24509   12.939658 ]\n",
      "state : [ 0  0  0  0  0 14  0  0  0  0  0  2  0  0  0  0  0  0  0  0  0  0  0  0\n",
      "  0  0  0  0  0 14  0  0  0  0  0  2  0  1  0  0  0  0  0  1  0  0  1  0]\n",
      "Q_values : [0.854105 4.15273  1.247948 8.549605]\n",
      "episode : 160 (0ms ?*RT. ?UPS, TraCI: 0ms, vehicles TOT 924 ACT 14 BUF 0)                 \n",
      "Step #1300.00 (0ms ?*RT. ?UPS, TraCI: 0ms, vehicles TOT 924 ACT 5 BUF 0)                  \n",
      " Retrying in 1 seconds\n"
     ]
    },
    {
     "name": "stderr",
     "output_type": "stream",
     "text": [
      "Warning: Vehicle 'CESR.48' performs emergency braking on lane 'end2_junction_2' with decel=9.00, wished=5.00, severity=1.00, time=1280.00.\n",
      "Warning: Vehicle 'CESR.48' performs emergency braking on lane 'end2_junction_2' with decel=9.00, wished=5.00, severity=1.00, time=1281.04.\n",
      "Warning: Environment variable SUMO_HOME is not set properly, disabling XML validation. Set 'auto' or 'always' for web lookups.\n"
     ]
    },
    {
     "name": "stdout",
     "output_type": "stream",
     "text": [
      "state : [0 0 0 0 0 0 0 0 0 0 0 0 0 0 0 0 0 0 0 0 0 0 0 0 2 3 3 2 2 2 4 2 2 3 3 2 0\n",
      " 0 0 0 0 0 0 0 0 0 0 0]\n",
      "Q_values : [-11.889729   -6.004471   -7.2013063  -6.601848 ]\n",
      "state : [0 2 0 0 2 2 0 2 0 0 3 2 0 0 0 0 0 0 0 0 0 0 0 0 1 2 3 2 2 2 6 2 0 1 7 2 2\n",
      " 0 0 2 0 3 2 0 0 2 0 2]\n",
      "Q_values : [-4.8503346  -0.6089183  -0.40886295  1.6016257 ]\n",
      "state : [ 0  1  0  0 10  5  0  1  0  0 27  1  0  0  0  0  0  0  0  0  0  0  0  0\n",
      "  0  2  3  0 10  6  4  2  0  0 30  2  2  0  0  4  0  3  2  0  0  2  0  2]\n",
      "Q_values : [11.545559 17.767115 31.048311 12.505836]\n",
      "state : [ 0  0  0  0  4  0  0  0  0  0 32  0  0  0  0  0  0  0  0  0  0  0  0  0\n",
      "  1  0  9  1  6  2  5  0  0  1 35  0  0  0  0  2  0  9  0  0  0  0  0  0]\n",
      "Q_values : [10.196457 18.358923 31.45592   6.718976]\n",
      "state : [ 0  1 11  0  1  0  0  1  1  0 11  2  0  0  0  0  0  0  0  0  0  0  0  0\n",
      "  0  3 15  0  2  1  4  2  2  2 29  3  2  0  0  3  2  0  0  0  3  2  0  0]\n",
      "Q_values : [-4.553211   5.8089676  4.991429  -1.785825 ]\n",
      "Step #320.00 (0ms ?*RT. ?UPS, TraCI: 95ms, vehicles TOT 252 ACT 75 BUF 0)                 \r"
     ]
    },
    {
     "name": "stderr",
     "output_type": "stream",
     "text": [
      "Warning: Vehicle 'CES.8' performs emergency braking on lane 'end2_junction_2' with decel=9.00, wished=5.00, severity=1.00, time=320.00.\n",
      "Warning: Vehicle 'CES.8' performs emergency stop at the end of lane 'end2_junction_2' because of a red traffic light (decel=-20.96, offset=0.03), time=320.21.\n"
     ]
    },
    {
     "name": "stdout",
     "output_type": "stream",
     "text": [
      "state : [ 0  2  0  0  2  1  0  2  0  0 26  3  0  0  0  0  0  0  0  0  0  0  0  0\n",
      "  1  2  8  2  5  2  6  2  0  1 32  3  1  0  0  2  0  9  2  0  0  1  0  1]\n",
      "Q_values : [-1.685668   10.057008   20.669874    0.09845901]\n",
      "Step #340.00 (0ms ?*RT. ?UPS, TraCI: 98ms, vehicles TOT 270 ACT 81 BUF 0)                 \r"
     ]
    },
    {
     "name": "stderr",
     "output_type": "stream",
     "text": [
      "Warning: Vehicle 'CNE.24' performs emergency braking on lane 'end1_junction_2' with decel=9.00, wished=5.00, severity=1.00, time=340.00.\n",
      "Warning: Vehicle 'CNE.24' performs emergency stop at the end of lane 'end1_junction_2' because of a red traffic light (decel=-14.45, offset=0.05), time=340.32.\n"
     ]
    },
    {
     "name": "stdout",
     "output_type": "stream",
     "text": [
      "state : [ 0  0 18  0  0  5  0  0  0  0  0  2  0  0  0  0  0  0  0  0  0  0  0  0\n",
      "  0  0 21  2  2  7  4  0  0  0 10  2  0  0  0  3  9  3  0  0  0  0  1  0]\n",
      "Q_values : [-2.9491336 14.16474    4.915416   2.033642 ]\n",
      "Step #420.00 (0ms ?*RT. ?UPS, TraCI: 99ms, vehicles TOT 321 ACT 68 BUF 3)                 \r"
     ]
    },
    {
     "name": "stderr",
     "output_type": "stream",
     "text": [
      "Warning: Vehicle 'AWE.30' performs emergency stop at the end of lane 'end4_junction_1' because of a red traffic light (decel=-13.99, offset=0.00), time=420.69.\n"
     ]
    },
    {
     "name": "stdout",
     "output_type": "stream",
     "text": [
      "Step #460.00 (0ms ?*RT. ?UPS, TraCI: 76ms, vehicles TOT 360 ACT 76 BUF 0)                 \r"
     ]
    },
    {
     "name": "stderr",
     "output_type": "stream",
     "text": [
      "Warning: Vehicle 'CNE.35' performs emergency braking on lane 'end1_junction_2' with decel=9.00, wished=5.00, severity=1.00, time=460.00.\n",
      "Warning: Vehicle 'CNE.35' performs emergency stop at the end of lane 'end1_junction_2' because of a red traffic light (decel=-15.34, offset=0.01), time=460.29.\n"
     ]
    },
    {
     "name": "stdout",
     "output_type": "stream",
     "text": [
      "state : [ 0  0  2  0 10  2  0  0  0  0 36  0  0  0  0  0  0  0  0  0  0  0  0  0\n",
      "  2  2  6  2 12  4  4  1  2  2 40  2  0  2  0  4  0  1  0  1  0  0  0  0]\n",
      "Q_values : [ 7.159831 17.715164 25.657028 11.922602]\n",
      "Step #640.00 (1ms ~= 10.00*RT, ~92000.00UPS, TraCI: 78ms, vehicles TOT 506 ACT 92 BUF 4)  \r"
     ]
    },
    {
     "name": "stderr",
     "output_type": "stream",
     "text": [
      "Warning: Vehicle 'CWE.40' performs emergency braking on lane 'end4_junction_1' with decel=9.00, wished=5.00, severity=1.00, time=640.00.\n",
      "Warning: Vehicle 'CWE.40' performs emergency stop at the end of lane 'end4_junction_1' because of a red traffic light (decel=-17.62, offset=0.04), time=640.20.\n"
     ]
    },
    {
     "name": "stdout",
     "output_type": "stream",
     "text": [
      "Step #704.00 (0ms ?*RT. ?UPS, TraCI: 0ms, vehicles TOT 545 ACT 77 BUF 1)                  \r"
     ]
    },
    {
     "name": "stderr",
     "output_type": "stream",
     "text": [
      "Warning: Vehicle 'CESR.6' performs emergency braking on lane 'end2_junction_2' with decel=9.00, wished=5.00, severity=1.00, time=704.02.\n"
     ]
    },
    {
     "name": "stdout",
     "output_type": "stream",
     "text": [
      "state : [ 0  0 14  0 16  0  0  0  4  0 24  0  0  0  0  0  0  0  0  0  0  0  0  0\n",
      "  0  0 14  6 21  3  0  0  4  0 24  0  2  1  0  2  0  0  0  0  6  0  0  0]\n",
      "Q_values : [14.537315 38.89369  40.723427 16.54007 ]\n",
      "state : [ 0  0 14  0  0  2  0  0  4  0  0  0  0  0  0  0  0  0  0  0  0  0  0  0\n",
      "  2  2 16  7 11  6  2  2  6  2 14  2  4  0  0  0  7  3  0  0  1  0  7  3]\n",
      "Q_values : [-15.531107    1.0137267  -8.559826  -15.069244 ]\n",
      "Step #761.00 (1ms ~= 10.00*RT, ~102000.00UPS, TraCI: 0ms, vehicles TOT 598 ACT 102 BUF 2) \r"
     ]
    },
    {
     "name": "stderr",
     "output_type": "stream",
     "text": [
      "Warning: Vehicle 'CWE.47' performs emergency braking on lane 'end4_junction_1' with decel=9.00, wished=5.00, severity=1.00, time=761.79.\n"
     ]
    },
    {
     "name": "stdout",
     "output_type": "stream",
     "text": [
      "Step #781.00 (1ms ~= 10.00*RT, ~84000.00UPS, TraCI: 0ms, vehicles TOT 610 ACT 84 BUF 8)   \r"
     ]
    },
    {
     "name": "stderr",
     "output_type": "stream",
     "text": [
      "Warning: Vehicle 'CNER.2' performs emergency braking on lane 'end1_junction_2' with decel=9.00, wished=5.00, severity=1.00, time=780.00.\n",
      "Warning: Vehicle 'CNER.2' performs emergency braking on lane 'end1_junction_2' with decel=9.00, wished=5.00, severity=1.00, time=781.01.\n"
     ]
    },
    {
     "name": "stdout",
     "output_type": "stream",
     "text": [
      "state : [ 0  0  0  0 21 16  0  0  0  0 17  2  0  0  0  0  0  0  0  0  0  0  0  0\n",
      "  0  0  1  5 25 20  2  0  0  0 18  2  4  0  0  0  0  7  0  0  0  0  0  0]\n",
      "Q_values : [ 9.493288  5.777956 29.138138 22.500725]\n",
      "state : [ 0  0  3  0  0 26  0  0  0  0  0  2  0  0  0  0  0  0  0  0  0  0  0  0\n",
      "  3  1  5  5 11 30  2  2  2  3  1  4  4  0  0  1  5  3  0  0  0  0  7  3]\n",
      "Q_values : [-6.6049285 -7.8843436 -4.0225105  3.104349 ]\n",
      "Step #920.00 (0ms ?*RT. ?UPS, TraCI: 74ms, vehicles TOT 713 ACT 79 BUF 1)                 \r"
     ]
    },
    {
     "name": "stderr",
     "output_type": "stream",
     "text": [
      "Warning: Vehicle 'CESR.15' performs emergency braking on lane 'end2_junction_2' with decel=9.00, wished=5.00, severity=1.00, time=920.00.\n",
      "Warning: Vehicle 'CESR.15' performs emergency stop at the end of lane 'end2_junction_2' because of a red traffic light (decel=-11.82, offset=0.02), time=920.55.\n"
     ]
    },
    {
     "name": "stdout",
     "output_type": "stream",
     "text": [
      "Step #1040.00 (0ms ?*RT. ?UPS, TraCI: 73ms, vehicles TOT 809 ACT 82 BUF 1)                \r"
     ]
    },
    {
     "name": "stderr",
     "output_type": "stream",
     "text": [
      "Warning: Vehicle 'CESR.26' performs emergency braking on lane 'end2_junction_2' with decel=9.00, wished=5.00, severity=1.00, time=1040.00.\n",
      "Warning: Vehicle 'CESR.26' performs emergency stop at the end of lane 'end2_junction_2' because of a red traffic light (decel=-12.83, offset=0.01), time=1040.45.\n"
     ]
    },
    {
     "name": "stdout",
     "output_type": "stream",
     "text": [
      "Step #1161.00 (0ms ?*RT. ?UPS, TraCI: 0ms, vehicles TOT 888 ACT 73 BUF 0)                 \r"
     ]
    },
    {
     "name": "stderr",
     "output_type": "stream",
     "text": [
      "Warning: Vehicle 'CESR.37' performs emergency braking on lane 'end2_junction_2' with decel=9.00, wished=5.00, severity=1.00, time=1161.31.\n"
     ]
    },
    {
     "name": "stdout",
     "output_type": "stream",
     "text": [
      "state : [ 0  0  8  0 10 24  0  0  2  0  2  2  0  0  0  0  0  0  0  0  0  0  0  0\n",
      "  0  0  8  1 18 25  0  0  2  0  2  2  2  2  0  2  0  0  1  3  0  1  2  0]\n",
      "Q_values : [ 7.4091563 13.997452  10.307963  22.874609 ]\n",
      "state : [ 0  0  8  0 18  0  0  0  2  0  2  0  0  0  0  0  0  0  0  0  0  0  0  0\n",
      "  0  0  8  0 18  3  0  0  2  0  2  0  0  0  0  0  0  0  0  0 13  0  0  0]\n",
      "Q_values : [ 2.5860643 26.167208  24.935402   9.702947 ]\n",
      "Step #1260.00 (0ms ?*RT. ?UPS, TraCI: 0ms, vehicles TOT 924 ACT 47 BUF 0)                 "
     ]
    },
    {
     "name": "stderr",
     "output_type": "stream",
     "text": [
      "Warning: Vehicle 'CESR.48' performs emergency braking on lane 'end2_junction_2' with decel=9.00, wished=5.00, severity=1.00, time=1260.00.\n"
     ]
    },
    {
     "name": "stdout",
     "output_type": "stream",
     "text": [
      "episode : 17\n",
      "Step #1300.00 (0ms ?*RT. ?UPS, TraCI: 0ms, vehicles TOT 924 ACT 23 BUF 0)                 \n",
      " Retrying in 1 seconds\n"
     ]
    },
    {
     "name": "stderr",
     "output_type": "stream",
     "text": [
      "Warning: Environment variable SUMO_HOME is not set properly, disabling XML validation. Set 'auto' or 'always' for web lookups.\n"
     ]
    },
    {
     "name": "stdout",
     "output_type": "stream",
     "text": [
      "state : [ 0  0 10  0  2  0  0  0  2  0  2  0  0  0  0  0  0  0  0  0  0  0  0  0\n",
      "  0  1 13  4  3  0  4  0  2  1  6  0  2  0  1  3  1  0  0  0  3  0  0  0]\n",
      "Q_values : [-4.7697177  7.539727   1.6265746 -0.4820022]\n"
     ]
    },
    {
     "name": "stderr",
     "output_type": "stream",
     "text": [
      "Warning: Vehicle 'CNE.5' performs emergency braking on lane 'end1_junction_2' with decel=9.00, wished=5.00, severity=1.00, time=100.00.\n",
      "Warning: Vehicle 'CNE.5' performs emergency braking on lane 'end1_junction_2' with decel=9.00, wished=5.00, severity=1.00, time=101.21.\n"
     ]
    },
    {
     "name": "stdout",
     "output_type": "stream",
     "text": [
      "state : [ 0  1  3  0  1  0  0  1  1  0  7  0  0  0  0  0  0  0  0  0  0  0  0  0          \n",
      "  0  2  8  0  2  0  4  2  2  0 11  0  2  0  2  4  0  3  2  0  6  2  0  0]\n",
      "Q_values : [-8.362647    0.9506649  -0.63655937 -4.546302  ]\n",
      "state : [ 0  1 12  0  5  0  0  1  1  0 18  0  0  0  0  0  0  0  0  0  0  0  0  0\n",
      "  0  3 16  0  6  1  4  2  2  1 22  1  2  0  1  4  0  0  1  0  1  2  0  0]\n",
      "Q_values : [ 1.7233672 13.987774  14.062569   3.9140735]\n",
      "Step #320.00 (0ms ?*RT. ?UPS, TraCI: 94ms, vehicles TOT 252 ACT 70 BUF 0)                 \r"
     ]
    },
    {
     "name": "stderr",
     "output_type": "stream",
     "text": [
      "Warning: Vehicle 'CES.8' performs emergency braking on lane 'end2_junction_2' with decel=9.00, wished=5.00, severity=1.00, time=320.00.\n",
      "Warning: Vehicle 'CWN.2' performs emergency braking on lane 'end4_junction_2' with decel=9.00, wished=5.00, severity=1.00, time=320.00.\n",
      "Warning: Vehicle 'CES.8' performs emergency stop at the end of lane 'end2_junction_2' because of a red traffic light (decel=-20.92, offset=0.02), time=320.22.\n",
      "Warning: Vehicle 'CWN.2' performs emergency stop at the end of lane 'end4_junction_2' because of a red traffic light (decel=-18.77, offset=0.02), time=320.36.\n"
     ]
    },
    {
     "name": "stdout",
     "output_type": "stream",
     "text": [
      "Step #440.00 (0ms ?*RT. ?UPS, TraCI: 69ms, vehicles TOT 344 ACT 73 BUF 4)                 \r"
     ]
    },
    {
     "name": "stderr",
     "output_type": "stream",
     "text": [
      "Warning: Vehicle 'CNE.29' performs emergency braking on lane 'end1_junction_2' with decel=9.00, wished=5.00, severity=1.00, time=440.00.\n",
      "Warning: Vehicle 'CNE.29' performs emergency stop at the end of lane 'end1_junction_2' because of a red traffic light (decel=-12.56, offset=0.01), time=440.50.\n"
     ]
    },
    {
     "name": "stdout",
     "output_type": "stream",
     "text": [
      "state : [ 0  0 18  0  4  6  0  0  2  0 12  2  0  0  0  0  0  0  0  0  0  0  0  0\n",
      "  0  0 21  2  7  7  4  0  2  0 16  2  1  1  1  4  0  0  2  1  0  2  0  0]\n",
      "Q_values : [ 5.802971 14.353124 12.939582  9.703729]\n",
      "state : [ 0  0  0  0  5  7  0  0  0  0 16  2  0  0  0  0  0  0  0  0  0  0  0  0\n",
      "  0  1 13  0  6  8  4  0  0  1 19  2  2  0  0  4  0  9  0  0  0  0  0  2]\n",
      "Q_values : [ 1.9247894  4.6278496 14.517943   9.706942 ]\n",
      "state : [ 0  0 23  0  0  2  0  0  0  0  0  0  0  0  0  0  0  0  0  0  0  0  0  0\n",
      "  2  0 26  2  0  2  5  0  0  2  2  0  2  0  0  2  4  3  0  0  1  0  2  0]\n",
      "Q_values : [-2.8045783  7.8662796  2.039256   2.03348  ]\n",
      "Step #600.00 (0ms ?*RT. ?UPS, TraCI: 0ms, vehicles TOT 462 ACT 63 BUF 0)                  "
     ]
    },
    {
     "name": "stderr",
     "output_type": "stream",
     "text": [
      "Warning: Vehicle 'CNE.40' performs emergency braking on lane 'end1_junction_2' with decel=9.00, wished=5.00, severity=1.00, time=600.00.\n"
     ]
    },
    {
     "name": "stdout",
     "output_type": "stream",
     "text": [
      "state : [ 0  0 13  0  3 10  0  0  0  0  1  0  0  0  0  0  0  0  0  0  0  0  0  0\n",
      "  0  0 14  7  7 13  1  0  0  0  2  0  2  2  0  1  0  0  0  1  0  0  0  0]\n",
      "Q_values : [ 0.6795678 14.010867   5.654561  10.106639 ]\n",
      "Step #700.00 (0ms ?*RT. ?UPS, TraCI: 0ms, vehicles TOT 542 ACT 51 BUF 4)                  "
     ]
    },
    {
     "name": "stderr",
     "output_type": "stream",
     "text": [
      "Warning: Vehicle 'CENR.6' performs emergency braking on lane 'end2_junction_0' with decel=9.00, wished=5.00, severity=1.00, time=700.00.\n"
     ]
    },
    {
     "name": "stdout",
     "output_type": "stream",
     "text": [
      "Step #720.00 (0ms ?*RT. ?UPS, TraCI: 72ms, vehicles TOT 559 ACT 61 BUF 5)                 \r"
     ]
    },
    {
     "name": "stderr",
     "output_type": "stream",
     "text": [
      "Warning: Vehicle 'CNER.1' performs emergency braking on lane 'end1_junction_2' with decel=9.00, wished=5.00, severity=1.00, time=720.00.\n",
      "Warning: Vehicle 'CNER.1' performs emergency stop at the end of lane 'end1_junction_2' because of a red traffic light (decel=-9.80, offset=0.01), time=720.74.\n"
     ]
    },
    {
     "name": "stdout",
     "output_type": "stream",
     "text": [
      "state : [ 0  1  0  0 17 23  0  2  0  0  5  2  0  0  0  0  0  0  0  0  0  0  0  0\n",
      "  1  2  0  5 21 27  0  2  0  1  6  2  4  0  0  2  0  7  1  0  0  1  0  2]\n",
      "Q_values : [ 6.907303 19.439257 26.295233 21.656397]\n",
      "Step #840.00 (1ms ~= 10.00*RT, ~70000.00UPS, TraCI: 72ms, vehicles TOT 649 ACT 70 BUF 5)  \r"
     ]
    },
    {
     "name": "stderr",
     "output_type": "stream",
     "text": [
      "Warning: Vehicle 'CWER.6' performs emergency braking on lane 'end4_junction_1' with decel=9.00, wished=5.00, severity=1.00, time=840.00.\n",
      "Warning: Vehicle 'CWER.6' performs emergency stop at the end of lane 'end4_junction_1' because of a red traffic light (decel=-30.27, offset=0.00), time=840.96.\n"
     ]
    },
    {
     "name": "stdout",
     "output_type": "stream",
     "text": [
      "state : [ 0  0  2  0 30 50  0  0  0  0  9  2  0  0  0  0  0  0  0  0  0  0  0  0\n",
      "  1  1  2  6 34 52  2  0  0  1 10  2  3  2  0  2  0  0  0  1  0  0  0  0]\n",
      "Q_values : [23.307396 24.474308 47.427822 46.917866]\n",
      "state : [ 0  0  4  0 10 57  0  0  0  0  1  2  0  0  0  0  0  0  0  0  0  0  0  0\n",
      "  3  2  5  7 29 60  4  2  0  3  3  3  3  0  0  1  1  0  0  0  0  0  1  0]\n",
      "Q_values : [16.214058 17.312317  6.500991 35.107544]\n",
      "Step #1280.00 (1ms ~= 10.00*RT, ~109000.00UPS, TraCI: 71ms, vehicles TOT 924 ACT 109 BUF 0\r"
     ]
    },
    {
     "name": "stderr",
     "output_type": "stream",
     "text": [
      "Warning: Vehicle 'CESR.35' performs emergency braking on lane 'end2_junction_2' with decel=9.00, wished=5.00, severity=1.00, time=1280.00.\n",
      "Warning: Vehicle 'CESR.35' performs emergency stop at the end of lane 'end2_junction_2' because of a red traffic light (decel=-15.05, offset=0.03), time=1280.24.\n"
     ]
    },
    {
     "name": "stdout",
     "output_type": "stream",
     "text": [
      "episode : 18\n",
      "Step #1300.00 (0ms ?*RT. ?UPS, TraCI: 0ms, vehicles TOT 924 ACT 96 BUF 0)                 \n",
      " Retrying in 1 seconds\n"
     ]
    },
    {
     "name": "stderr",
     "output_type": "stream",
     "text": [
      "Warning: Environment variable SUMO_HOME is not set properly, disabling XML validation. Set 'auto' or 'always' for web lookups.\n"
     ]
    },
    {
     "name": "stdout",
     "output_type": "stream",
     "text": [
      "state : [0 0 0 0 0 0 0 0 0 0 0 0 0 0 0 0 0 0 0 0 0 0 0 0 0 0 0 0 0 0 0 0 0 0 0 0 0\n",
      " 0 0 0 0 0 0 0 0 0 0 0]\n",
      "Q_values : [-2.6399426   0.05120242 -1.876104   -0.38467538]\n",
      "state : [0 2 2 0 2 0 0 2 2 0 3 0 0 0 0 0 0 0 0 0 0 0 0 0 1 2 7 2 2 0 6 2 2 1 7 0 2\n",
      " 0 2 2 0 0 2 0 2 2 0 0]\n",
      "Q_values : [0.9506073  8.072939   0.45957458 3.0038302 ]\n",
      "state : [ 0  2  2  0  4  0  0  2  0  0 10  0  0  0  0  0  0  0  0  0  0  0  0  0\n",
      "  0  3  6  4  5  0  4  2  0  1 13  0  2  0  0  4  0  0  0  0  2  0  0  0]\n",
      "Q_values : [ 0.19525003  8.342547   13.093185    2.2568097 ]\n",
      "state : [ 0  2  6  0  0  0  0  2  0  0  0  0  0  0  0  0  0  0  0  0  0  0  0  0\n",
      "  1  2 10  1  1  2  5  2  0  1  5  0  0  0  0  3  6  4  0  0  0  0  3  1]\n",
      "Q_values : [-5.8878345  0.795777  -4.9738226 -4.763111 ]\n",
      "state : [ 0  2 13  0  0  0  0  2  2  0  0  0  0  0  0  0  0  0  0  0  0  0  0  0\n",
      "  0  3 16  2  2  2  4  2  2  1  2  0  0  0  0  4  5  4  0  0  0  0  1  0]\n",
      "Q_values : [-4.2068     3.949005  -3.637548  -3.9704013]\n",
      "state : [ 0  2  2  0  4  0  0  2  0  0  9  0  0  0  0  0  0  0  0  0  0  0  0  0\n",
      "  0  3  6  4  5  0  4  2  0  1 12  0  2  0  0  4  0  0  0  0  3  0  0  0]\n",
      "Q_values : [-0.8761163 12.048042  11.68623    1.281393 ]\n",
      "state : [ 0  0  5  0  1  3  0  0  1  0  6  1  0  0  0  0  0  0  0  0  0  0  0  0\n",
      "  0  1  9  0  2  4  4  0  2  1 10  2  2  2  0  3  1  0  2  2  0  2  0  0]\n",
      "Q_values : [-4.090927    7.5794      2.4356856  -0.18217206]\n",
      "state : [ 0  0 12  0  8  2  0  0  0  0 30  0  0  0  0  0  0  0  0  0  0  0  0  0\n",
      "  3  1 17  1 10  4  5  1  2  3 34  2  0  1  0  3  0  0  0  0  0  0  0  0]\n",
      "Q_values : [12.493145 16.7727   32.121    15.559778]\n",
      "state : [ 0  1 20  0  0  5  0  1  2  0  0  2  0  0  0  0  0  0  0  0  0  0  0  0\n",
      "  0  2 23  0  0  6  4  1  2  1 16  2  2  0  0  4  8  4  0  0  0  0  1  0]\n",
      "Q_values : [-3.7500806   9.174151    0.9429821   0.25213504]\n",
      "Step #500.00 (0ms ?*RT. ?UPS, TraCI: 94ms, vehicles TOT 384 ACT 78 BUF 0)                 \r"
     ]
    },
    {
     "name": "stderr",
     "output_type": "stream",
     "text": [
      "Warning: Vehicle 'CWE.32' performs emergency braking on lane 'end4_junction_1' with decel=9.00, wished=5.00, severity=1.00, time=500.00.\n",
      "Warning: Vehicle 'CWE.32' performs emergency stop at the end of lane 'end4_junction_1' because of a red traffic light (decel=-11.37, offset=0.00), time=500.86.\n"
     ]
    },
    {
     "name": "stdout",
     "output_type": "stream",
     "text": [
      "Step #520.00 (1ms ~= 10.00*RT, ~76000.00UPS, TraCI: 71ms, vehicles TOT 402 ACT 76 BUF 0)  \r"
     ]
    },
    {
     "name": "stderr",
     "output_type": "stream",
     "text": [
      "Warning: Vehicle 'CNE.35' performs emergency braking on lane 'end1_junction_2' with decel=9.00, wished=5.00, severity=1.00, time=520.00.\n",
      "Warning: Vehicle 'CNE.35' performs emergency stop at the end of lane 'end1_junction_2' because of a red traffic light (decel=-14.02, offset=0.05), time=520.36.\n"
     ]
    },
    {
     "name": "stdout",
     "output_type": "stream",
     "text": [
      "state : [ 0  0 22  0  4  0  0  0  0  0 26  0  0  0  0  0  0  0  0  0  0  0  0  0\n",
      "  2  0 25  2  4  0  5  0  0  2 29  0  2  0  0  2  0  0  0  0  2  0  0  0]\n",
      "Q_values : [11.7900715 22.782145  31.252552  14.956551 ]\n",
      "state : [ 0  2 29  0  0  2  0  2  2  0  0  2  0  0  0  0  0  0  0  0  0  0  0  0\n",
      "  2  4 31  6  3  4  2  4  4  2  9  4  2  0  0  2  8  5  2  0  0  1  1  1]\n",
      "Q_values : [4.2724609e-03 1.8085312e+01 4.8201909e+00 5.6361117e+00]\n",
      "state : [ 0  0 23  0  3  0  0  0  0  0  1  0  0  0  0  0  0  0  0  0  0  0  0  0\n",
      "  0  0 24  7  7  7  1  0  0  0  2  0  3  0  3  0  1  0  0  0  8  0  0  0]\n",
      "Q_values : [-4.8329515 13.463619  -0.5585804  1.9292338]\n",
      "state : [ 0  2  0  0 11 24  0  2  0  0  2  2  0  0  0  0  0  0  0  0  0  0  0  0\n",
      "  1  3  0  7 15 27  2  2  0  1  3  2  4  0  0  2  0  1  0  0  0  0  0  0]\n",
      "Q_values : [ 3.9894176  7.0500813 15.084981  14.820818 ]\n",
      "state : [ 0  2  0  0  6 31  0  2  0  0  1  2  0  0  0  0  0  0  0  0  0  0  0  0\n",
      "  0  2  2  6 10 35  2  2  0  1  2  2  3  0  0  2  0  1  0  0  0  0  1  0]\n",
      "Q_values : [ 4.600938   7.7769413 13.391292  14.358514 ]\n",
      "Step #921.00 (0ms ?*RT. ?UPS, TraCI: 0ms, vehicles TOT 714 ACT 86 BUF 0)                  \r"
     ]
    },
    {
     "name": "stderr",
     "output_type": "stream",
     "text": [
      "Warning: Vehicle 'CSWR.2' performs emergency braking on lane 'end3_junction_2' with decel=9.00, wished=5.00, severity=1.00, time=920.00.\n",
      "Warning: Vehicle 'CSWR.2' performs emergency stop at the end of lane 'end3_junction_2' because of a red traffic light (decel=-12.81, offset=0.01), time=921.41.\n"
     ]
    },
    {
     "name": "stdout",
     "output_type": "stream",
     "text": [
      "state : [ 0  2  0  0 20  3  0  2  1  0  5  0  0  0  0  0  0  0  0  0  0  0  0  0\n",
      "  0  2  2  6 24 25  2  2  1  0  7  0  4  0  1  2  0  0  2  0  9  2  0  0]\n",
      "Q_values : [-4.13128   -0.6271659  8.874106   4.3927855]\n",
      "Step #940.00 (0ms ?*RT. ?UPS, TraCI: 114ms, vehicles TOT 728 ACT 92 BUF 4)                \r"
     ]
    },
    {
     "name": "stderr",
     "output_type": "stream",
     "text": [
      "Warning: Vehicle 'CESR.15' performs emergency braking on lane 'end2_junction_2' with decel=9.00, wished=5.00, severity=1.00, time=940.00.\n",
      "Warning: Vehicle 'CESR.15' performs emergency stop at the end of lane 'end2_junction_2' because of a red traffic light (decel=-11.54, offset=0.01), time=940.58.\n"
     ]
    },
    {
     "name": "stdout",
     "output_type": "stream",
     "text": [
      "state : [ 0  2  0  0 10 26  0  2  0  0  0  0  0  0  0  0  0  0  0  0  0  0  0  0\n",
      "  0  2  2  6 18 33  2  2  0  0  2  0  2  0  0  0  0  1  0  0  0  0  1  1]\n",
      "Q_values : [ 4.9202332  9.086607  10.89012   15.505835 ]\n",
      "Step #1020.00 (0ms ?*RT. ?UPS, TraCI: 68ms, vehicles TOT 781 ACT 78 BUF 5)                \r"
     ]
    },
    {
     "name": "stderr",
     "output_type": "stream",
     "text": [
      "Warning: Vehicle 'CWER.11' performs emergency braking on lane 'end4_junction_1' with decel=9.00, wished=5.00, severity=1.00, time=1020.00.\n",
      "Warning: Vehicle 'CWER.11' performs emergency stop at the end of lane 'end4_junction_1' because of a red traffic light (decel=-30.36, offset=0.06), time=1020.95.\n"
     ]
    },
    {
     "name": "stdout",
     "output_type": "stream",
     "text": [
      "state : [ 0  0  0  0  0 32  0  0  0  0  0  0  0  0  0  0  0  0  0  0  0  0  0  0\n",
      "  2  2  2  5  7 35  2  2  2  2  2  2  4  0  0  0  1  0  0  0  0  0  7  3]\n",
      "Q_values : [-5.079859  -2.0848699 -1.4696573  5.50556  ]\n",
      "episode : 19\n",
      "Step #1300.00 (0ms ?*RT. ?UPS, TraCI: 0ms, vehicles TOT 924 ACT 36 BUF 0)                 \n",
      " Retrying in 1 seconds\n"
     ]
    },
    {
     "name": "stderr",
     "output_type": "stream",
     "text": [
      "Warning: Environment variable SUMO_HOME is not set properly, disabling XML validation. Set 'auto' or 'always' for web lookups.\n"
     ]
    },
    {
     "name": "stdout",
     "output_type": "stream",
     "text": [
      "state : [0 2 2 0 2 0 0 2 2 0 3 0 0 0 0 0 0 0 0 0 0 0 0 0 1 2 7 2 2 0 6 2 2 1 7 0 2\n",
      " 0 2 2 0 0 2 0 2 2 0 0]\n",
      "Q_values : [-1.2732632   6.921216   -0.7993183  -0.05617893]\n"
     ]
    },
    {
     "name": "stderr",
     "output_type": "stream",
     "text": [
      "Warning: Vehicle 'CNE.3' performs emergency braking on lane 'end1_junction_2' with decel=9.00, wished=5.00, severity=1.00, time=63.79.\n"
     ]
    },
    {
     "name": "stdout",
     "output_type": "stream",
     "text": [
      "Step #331.00 (0ms ?*RT. ?UPS, TraCI: 0ms, vehicles TOT 263 ACT 71 BUF 1)                  \r"
     ]
    },
    {
     "name": "stderr",
     "output_type": "stream",
     "text": [
      "Warning: Vehicle 'CSW.2' performs emergency braking on lane 'end3_junction_2' with decel=9.00, wished=5.00, severity=1.00, time=320.00.\n",
      "Warning: Vehicle 'CNE.24' performs emergency braking on lane 'end1_junction_2' with decel=9.00, wished=5.00, severity=1.00, time=320.00.\n",
      "Warning: Vehicle 'CSW.2' performs emergency stop at the end of lane 'end3_junction_2' because of a red traffic light (decel=-16.97, offset=0.02), time=320.46.\n",
      "Warning: Vehicle 'CNE.24' performs emergency braking on lane 'end1_junction_2' with decel=9.00, wished=5.00, severity=1.00, time=322.37.\n",
      "Warning: Teleporting vehicle 'CNS.0'; waited too long (yield), lane='end1_junction_1', time=330.56.\n",
      "Warning: Vehicle 'CNS.0' ends teleporting on edge 'junction_end3', time=330.56.\n",
      "Warning: Teleporting vehicle 'ASN.0'; waited too long (yield), lane='end3_junction_1', time=331.30.\n",
      "Warning: Vehicle 'ASN.0' ends teleporting on edge 'junction_end1', time=331.30.\n"
     ]
    },
    {
     "name": "stdout",
     "output_type": "stream",
     "text": [
      "state : [ 0  5  7  0  3  0  0  5  1  0 18  0  0  0  0  0  0  0  0  0  0  0  0  0\n",
      "  0  5 11  0  4  0  4  5  1  0 21  0  2  0  0  4  0  0  0  0  2  0  0  0]\n",
      "Q_values : [ 6.850135 13.690842 22.25873  10.437598]\n",
      "Step #621.00 (0ms ?*RT. ?UPS, TraCI: 0ms, vehicles TOT 492 ACT 88 BUF 0)                  \r"
     ]
    },
    {
     "name": "stderr",
     "output_type": "stream",
     "text": [
      "Warning: Vehicle 'CNE.44' performs emergency braking on lane 'end1_junction_2' with decel=9.00, wished=5.00, severity=1.00, time=620.00.\n",
      "Warning: Vehicle 'CNE.44' performs emergency braking on lane 'end1_junction_2' with decel=9.00, wished=5.00, severity=1.00, time=621.25.\n"
     ]
    },
    {
     "name": "stdout",
     "output_type": "stream",
     "text": [
      "Step #721.00 (0ms ?*RT. ?UPS, TraCI: 0ms, vehicles TOT 559 ACT 56 BUF 5)                  \r"
     ]
    },
    {
     "name": "stderr",
     "output_type": "stream",
     "text": [
      "Warning: Vehicle 'CESR.3' performs emergency braking on lane 'end2_junction_2' with decel=9.00, wished=5.00, severity=1.00, time=721.21.\n"
     ]
    },
    {
     "name": "stdout",
     "output_type": "stream",
     "text": [
      "state : [ 0  0  0  0  9 16  0  0  0  0  2  0  0  0  0  0  0  0  0  0  0  0  0  0\n",
      "  2  2  2  7 13 19  2  2  2  2  4  2  4  0  0  0  0  8  0  0  0  0  0  0]\n",
      "Q_values : [-4.2318244 -5.6960883  2.3815827  8.596751 ]\n",
      "state : [ 0  0  6  0 14 21  0  0  2  0  3  0  0  0  0  0  0  0  0  0  0  0  0  0\n",
      "  0  1  7  5 18 26  2  0  2  1  4  0  3  0  0  2  0  0  0  0  0  0  0  0]\n",
      "Q_values : [ 9.348206  5.886635 11.691415 20.801275]\n",
      "state : [ 0  0  7  0 18  0  0  0  2  0  4  0  0  0  0  0  0  0  0  0  0  0  0  0\n",
      "  0  0  8  7 21 17  1  0  2  0  5  0  4  0  0  0  0  0  0  0  9  0  0  0]\n",
      "Q_values : [ 1.8506494  2.191794  10.734103  10.333101 ]\n",
      "Step #880.00 (0ms ?*RT. ?UPS, TraCI: 97ms, vehicles TOT 674 ACT 76 BUF 4)                 \r"
     ]
    },
    {
     "name": "stderr",
     "output_type": "stream",
     "text": [
      "Warning: Vehicle 'CESR.14' performs emergency braking on lane 'end2_junction_2' with decel=9.00, wished=5.00, severity=1.00, time=880.00.\n",
      "Warning: Vehicle 'CESR.14' performs emergency braking on lane 'end2_junction_2' with decel=9.00, wished=5.00, severity=1.00, time=880.95.\n"
     ]
    },
    {
     "name": "stdout",
     "output_type": "stream",
     "text": [
      "state : [ 0  0  8  0  0 11  0  0  2  0  0  0  0  0  0  0  0  0  0  0  0  0  0  0\n",
      "  3  1 10  5 13 21  2  2  4  3  1  2  4  0  0  2  3  2  0  0  2  0  7  3]\n",
      "Q_values : [-4.276985  -4.3342314 -3.334914   2.2231421]\n",
      "state : [ 0  2  0  0 14  2  0  2  0  0  4  0  0  0  0  0  0  0  0  0  0  0  0  0\n",
      "  1  2  4  7 17  6  2  2  0  1  5  0  4  0  0  2  0  9  0  0  1  0  0  3]\n",
      "Q_values : [ 0.9812679  4.386518  16.290527   9.837045 ]\n",
      "Step #1000.00 (0ms ?*RT. ?UPS, TraCI: 98ms, vehicles TOT 770 ACT 67 BUF 4)                \r"
     ]
    },
    {
     "name": "stderr",
     "output_type": "stream",
     "text": [
      "Warning: Vehicle 'CNER.9' performs emergency braking on lane 'end1_junction_2' with decel=9.00, wished=5.00, severity=1.00, time=1000.00.\n",
      "Warning: Vehicle 'CNER.9' performs emergency stop at the end of lane 'end1_junction_2' because of a red traffic light (decel=-15.22, offset=0.02), time=1000.21.\n"
     ]
    },
    {
     "name": "stdout",
     "output_type": "stream",
     "text": [
      "state : [ 0  4  7  0  7  0  0  4  2  0  2  0  0  0  0  0  0  0  0  0  0  0  0  0\n",
      "  0  4  9  5 11  4  2  4  2  0  4  0  4  0  1  2  0  0  2  0  7  2  0  0]\n",
      "Q_values : [ 0.5938668 13.793195   1.9283386  9.338935 ]\n",
      "episode : 200 (0ms ?*RT. ?UPS, TraCI: 71ms, vehicles TOT 924 ACT 36 BUF 0)                \n",
      "Step #1300.00 (0ms ?*RT. ?UPS, TraCI: 1ms, vehicles TOT 924 ACT 27 BUF 0)                 \n",
      " Retrying in 1 seconds\n"
     ]
    },
    {
     "name": "stderr",
     "output_type": "stream",
     "text": [
      "Warning: Vehicle 'CESR.43' performs emergency braking on lane 'end2_junction_2' with decel=9.00, wished=5.00, severity=1.00, time=1280.00.\n",
      "Warning: Vehicle 'CESR.43' performs emergency stop at the end of lane 'end2_junction_2' because of a red traffic light (decel=-10.14, offset=0.00), time=1280.70.\n",
      "Warning: Environment variable SUMO_HOME is not set properly, disabling XML validation. Set 'auto' or 'always' for web lookups.\n"
     ]
    },
    {
     "name": "stdout",
     "output_type": "stream",
     "text": [
      "state : [0 0 0 0 0 0 0 0 0 0 0 0 0 0 0 0 0 0 0 0 0 0 0 0 0 0 0 0 0 0 0 0 0 0 0 0 0\n",
      " 0 0 0 0 0 0 0 0 0 0 0]\n",
      "Q_values : [-4.508103   0.6662222 -3.1238203 -2.5318904]\n",
      "state : [0 0 0 0 0 0 0 0 0 0 0 0 0 0 0 0 0 0 0 0 0 0 0 0 2 3 3 2 2 2 4 2 2 3 3 2 0\n",
      " 0 0 0 0 0 0 0 0 0 0 0]\n",
      "Q_values : [-12.278753  -6.473619 -10.435525 -12.374668]\n",
      "state : [0 2 0 0 2 2 0 2 0 0 3 2 0 0 0 0 0 0 0 0 0 0 0 0 1 2 3 2 2 2 6 2 0 1 7 2 2\n",
      " 0 0 2 0 3 2 0 0 2 0 2]\n",
      "Q_values : [-3.0389538  1.749054   3.1336048  2.505308 ]\n",
      "state : [ 0  2  9  0  2  0  0  2  0  0  6  0  0  0  0  0  0  0  0  0  0  0  0  0\n",
      "  1  2 13  1  4  2  6  2  0  1 10  0  0  0  0  3  0  0  0  0  0  0  0  0]\n",
      "Q_values : [-2.5067544  4.7391553  5.5530477  1.8692958]\n",
      "state : [ 0  2 13  0  0  2  0  2  0  0  0  0  0  0  0  0  0  0  0  0  0  0  0  0\n",
      "  0  2 16  2  3  3  4  2  0  0  3  0  2  0  0  4  6  4  0  0  0  0  2  1]\n",
      "Q_values : [-2.0357406  8.115271   3.4836855  6.1635103]\n",
      "Step #123.00 (0ms ?*RT. ?UPS, TraCI: 0ms, vehicles TOT 102 ACT 58 BUF 0)                  \r"
     ]
    },
    {
     "name": "stderr",
     "output_type": "stream",
     "text": [
      "Warning: Vehicle 'CWE.8' performs emergency braking on lane 'end4_junction_1' with decel=9.00, wished=5.00, severity=1.00, time=120.00.\n",
      "Warning: Vehicle 'CWE.8' performs emergency braking on lane 'end4_junction_1' with decel=9.00, wished=5.00, severity=1.00, time=123.32.\n"
     ]
    },
    {
     "name": "stdout",
     "output_type": "stream",
     "text": [
      "Step #140.00 (0ms ?*RT. ?UPS, TraCI: 74ms, vehicles TOT 108 ACT 46 BUF 0)                 \r"
     ]
    },
    {
     "name": "stderr",
     "output_type": "stream",
     "text": [
      "Warning: Vehicle 'CNE.7' performs emergency braking on lane 'end1_junction_2' with decel=9.00, wished=5.00, severity=1.00, time=140.00.\n",
      "Warning: Vehicle 'CNE.7' performs emergency stop at the end of lane 'end1_junction_2' because of a red traffic light (decel=-12.05, offset=0.01), time=140.55.\n"
     ]
    },
    {
     "name": "stdout",
     "output_type": "stream",
     "text": [
      "state : [ 0  3 10  0  0  5  0  3  1  0  0  1  0  0  0  0  0  0  0  0  0  0  0  0\n",
      "  0  4 15  0  0  6  4  4  2  0  3  2  2  0  0  4  1  0  2  0  0  2  2  0]\n",
      "Q_values : [-3.3170807  1.3285847 -2.869732   3.0620112]\n",
      "state : [ 0  4 18  0  0  2  0  4  2  0  0  0  0  0  0  0  0  0  0  0  0  0  0  0\n",
      "  1  4 22  2  0  2  6  4  2  1  3  0  2  0  0  3  4  3  0  0  0  0  1  0]\n",
      "Q_values : [ 0.81433487 14.562526    5.1296763  11.758774  ]\n",
      "Step #261.00 (0ms ?*RT. ?UPS, TraCI: 0ms, vehicles TOT 204 ACT 60 BUF 0)                  \r"
     ]
    },
    {
     "name": "stderr",
     "output_type": "stream",
     "text": [
      "Warning: Vehicle 'CNE.18' performs emergency braking on lane 'end1_junction_2' with decel=9.00, wished=5.00, severity=1.00, time=261.38.\n"
     ]
    },
    {
     "name": "stdout",
     "output_type": "stream",
     "text": [
      "state : [ 0  4  0  0  4  2  0  4  0  0 13  0  0  0  0  0  0  0  0  0  0  0  0  0\n",
      "  2  7  2  2  7  3  5  6  1  3 16  1  2  0  0  4  0  9  0  0  0  0  0  0]\n",
      "Q_values : [-2.1954427   2.013793    7.7126927   0.50234604]\n",
      "Step #320.00 (0ms ?*RT. ?UPS, TraCI: 74ms, vehicles TOT 252 ACT 68 BUF 0)                 \r"
     ]
    },
    {
     "name": "stderr",
     "output_type": "stream",
     "text": [
      "Warning: Vehicle 'AWE.23' performs emergency stop at the end of lane 'end4_junction_1' because of a red traffic light (decel=-12.67, offset=0.00), time=320.78.\n"
     ]
    },
    {
     "name": "stdout",
     "output_type": "stream",
     "text": [
      "state : [ 0  0 13  0  0  6  0  0  2  0  0  2  0  0  0  0  0  0  0  0  0  0  0  0\n",
      "  0  1 16  2  2  8  4  0  2  1  5  2  0  0  0  3  6  5  0  0  0  0  1  0]\n",
      "Q_values : [-0.1111927 10.532662   5.3198037  7.476088 ]\n",
      "state : [ 0  0 12  0  2  0  0  0  0  0  2  0  0  0  0  0  0  0  0  0  0  0  0  0\n",
      "  4  1 14  4  3  0  6  1  0  4  6  0  2  0  1  4  0  0  0  0 10  0  0  0]\n",
      "Q_values : [-12.185913    5.5704675  -3.6393886 -10.523679 ]\n",
      "state : [ 0  0  6  0  2  6  0  0  0  0 11  2  0  0  0  0  0  0  0  0  0  0  0  0\n",
      "  0  1  9  2  4  8  4  0  0  1 14  2  0  0  0  4  0  0  0  0  0  0  0  0]\n",
      "Q_values : [0.77834797 4.417388   9.250834   7.5042114 ]\n",
      "Step #644.00 (0ms ?*RT. ?UPS, TraCI: 0ms, vehicles TOT 509 ACT 73 BUF 1)                  \r"
     ]
    },
    {
     "name": "stderr",
     "output_type": "stream",
     "text": [
      "Warning: Vehicle 'CESR.1' performs emergency braking on lane 'end2_junction_2' with decel=9.00, wished=5.00, severity=1.00, time=644.16.\n"
     ]
    },
    {
     "name": "stdout",
     "output_type": "stream",
     "text": [
      "Step #660.00 (0ms ?*RT. ?UPS, TraCI: 70ms, vehicles TOT 517 ACT 69 BUF 5)                 \r"
     ]
    },
    {
     "name": "stderr",
     "output_type": "stream",
     "text": [
      "Warning: Vehicle 'CWER.1' performs emergency braking on lane 'end4_junction_1' with decel=9.00, wished=5.00, severity=1.00, time=660.00.\n",
      "Warning: Vehicle 'CWER.1' performs emergency stop at the end of lane 'end4_junction_1' because of a red traffic light (decel=-30.45, offset=0.08), time=660.94.\n"
     ]
    },
    {
     "name": "stdout",
     "output_type": "stream",
     "text": [
      "state : [ 0  0 24  0  0 16  0  0  4  0  0  0  0  0  0  0  0  0  0  0  0  0  0  0\n",
      "  0  0 24  5  4 21  0  0  4  0  0  0  4  0  0  2  2  0  0  0  0  0  3  2]\n",
      "Q_values : [ 5.788593 18.499596 12.911386 20.996008]\n",
      "state : [ 0  0 24  0  3  0  0  0  4  0  0  0  0  0  0  0  0  0  0  0  0  0  0  0\n",
      "  2  2 26  7  7 12  2  2  6  2  2  2  3  0  0  0  0  0  0  0  9  0  0  0]\n",
      "Q_values : [-2.62999    11.505232    6.62314     0.75262856]\n",
      "state : [ 0  1  0  0  6 10  0  2  0  0  1  2  0  0  0  0  0  0  0  0  0  0  0  0\n",
      "  2  2 15  5 11 16  0  2  0  1  2  2  4  0  0  2  0  9  1  0  3  0  0  5]\n",
      "Q_values : [-9.3684025 -7.9890094  1.3728768  2.8962514]\n",
      "Step #780.00 (1ms ~= 10.00*RT, ~87000.00UPS, TraCI: 91ms, vehicles TOT 610 ACT 87 BUF 8)  \r"
     ]
    },
    {
     "name": "stderr",
     "output_type": "stream",
     "text": [
      "Warning: Vehicle 'CNE.47' performs emergency braking on lane 'end1_junction_2' with decel=9.00, wished=5.00, severity=1.00, time=780.00.\n",
      "Warning: Vehicle 'CNE.47' performs emergency stop at the end of lane 'end1_junction_2' because of a red traffic light (decel=-15.53, offset=0.01), time=780.16.\n"
     ]
    },
    {
     "name": "stdout",
     "output_type": "stream",
     "text": [
      "Step #800.00 (0ms ?*RT. ?UPS, TraCI: 69ms, vehicles TOT 623 ACT 77 BUF 1)                 \r"
     ]
    },
    {
     "name": "stderr",
     "output_type": "stream",
     "text": [
      "Warning: Vehicle 'CESR.12' performs emergency braking on lane 'end2_junction_2' with decel=9.00, wished=5.00, severity=1.00, time=800.00.\n",
      "Warning: Vehicle 'CESR.12' performs emergency stop at the end of lane 'end2_junction_2' because of a red traffic light (decel=-11.04, offset=0.00), time=800.64.\n"
     ]
    },
    {
     "name": "stdout",
     "output_type": "stream",
     "text": [
      "state : [ 0  0 19  0 20  3  0  0  0  0  6  0  0  0  0  0  0  0  0  0  0  0  0  0\n",
      "  0  1 20  6 25  7  2  0  0  1  7  0  3  0  0  2  0  0  0  0  3  0  0  0]\n",
      "Q_values : [ 6.6788673 14.481146  20.489853  10.205378 ]\n",
      "state : [ 0  0 20  0  0  7  0  0  0  0  0  0  0  0  0  0  0  0  0  0  0  0  0  0\n",
      "  0  0 21  6 16 10  1  0  0  0  0  0  4  0  0  0  4  3  0  0  0  0  7  3]\n",
      "Q_values : [-4.286127   6.7891097  2.9219155 -1.4558141]\n",
      "state : [ 0  0  0  0 10 10  0  0  0  0  0  0  0  0  0  0  0  0  0  0  0  0  0  0\n",
      "  3  1 12  5 19 14  2  2  2  3  1  2  4  0  0  1  0  9  0  0  0  0  1  0]\n",
      "Q_values : [-18.535189 -15.679041  -8.082367  -6.879873]\n",
      "Step #960.00 (0ms ?*RT. ?UPS, TraCI: 69ms, vehicles TOT 742 ACT 75 BUF 8)                 \r"
     ]
    },
    {
     "name": "stderr",
     "output_type": "stream",
     "text": [
      "Warning: Vehicle 'CNER.8' performs emergency braking on lane 'end1_junction_2' with decel=9.00, wished=5.00, severity=1.00, time=960.00.\n",
      "Warning: Vehicle 'CNER.8' performs emergency stop at the end of lane 'end1_junction_2' because of a red traffic light (decel=-14.51, offset=0.05), time=960.30.\n"
     ]
    },
    {
     "name": "stdout",
     "output_type": "stream",
     "text": [
      "state : [ 0  0  3  0 29 12  0  0  0  0  4  0  0  0  0  0  0  0  0  0  0  0  0  0\n",
      "  0  0  5  6 32 17  2  0  0  0  6  0  2  0  0  0  0  2  0  0  0  0  0  0]\n",
      "Q_values : [ 7.0179677  4.134176  25.493559  26.863071 ]\n",
      "state : [ 0  0  2  0 42 15  0  0  0  0  8  1  0  0  0  0  0  0  0  0  0  0  0  0\n",
      "  2  2  3  6 46 18  2  0  2  2 10  2  4  2  0  0  0  0  0  0  0  0  0  0]\n",
      "Q_values : [ 9.92359   8.841895 32.49463  27.95347 ]\n",
      "Step #1060.00 (1ms ~= 10.00*RT, ~101000.00UPS, TraCI: 92ms, vehicles TOT 818 ACT 101 BUF 4\r"
     ]
    },
    {
     "name": "stderr",
     "output_type": "stream",
     "text": [
      "Warning: Vehicle 'ANSR.3' performs emergency stop at the end of lane 'end1_junction_1' because of a red traffic light (decel=-20.18, offset=0.02), time=1060.64.\n"
     ]
    },
    {
     "name": "stdout",
     "output_type": "stream",
     "text": [
      "Step #1121.00 (0ms ?*RT. ?UPS, TraCI: 0ms, vehicles TOT 862 ACT 87 BUF 2)                 \r"
     ]
    },
    {
     "name": "stderr",
     "output_type": "stream",
     "text": [
      "Warning: Vehicle 'AEWR.34' performs emergency stop at the end of lane 'end2_junction_1' because of a red traffic light (decel=-15.68, offset=0.05), time=1121.09.\n"
     ]
    },
    {
     "name": "stdout",
     "output_type": "stream",
     "text": [
      "Step #1140.00 (0ms ?*RT. ?UPS, TraCI: 71ms, vehicles TOT 874 ACT 83 BUF 8)                \r"
     ]
    },
    {
     "name": "stderr",
     "output_type": "stream",
     "text": [
      "Warning: Vehicle 'CESR.34' performs emergency braking on lane 'end2_junction_2' with decel=9.00, wished=5.00, severity=1.00, time=1140.00.\n",
      "Warning: Vehicle 'CESR.34' performs emergency braking on lane 'end2_junction_2' with decel=9.00, wished=5.00, severity=1.00, time=1140.97.\n"
     ]
    },
    {
     "name": "stdout",
     "output_type": "stream",
     "text": [
      "episode : 21\n",
      "Step #1300.00 (0ms ?*RT. ?UPS, TraCI: 0ms, vehicles TOT 924 ACT 41 BUF 0)                 \n",
      " Retrying in 1 seconds\n"
     ]
    },
    {
     "name": "stderr",
     "output_type": "stream",
     "text": [
      "Warning: Environment variable SUMO_HOME is not set properly, disabling XML validation. Set 'auto' or 'always' for web lookups.\n"
     ]
    },
    {
     "name": "stdout",
     "output_type": "stream",
     "text": [
      "state : [0 0 0 0 0 0 0 0 0 0 0 0 0 0 0 0 0 0 0 0 0 0 0 0 0 0 0 0 0 0 0 0 0 0 0 0 0\n",
      " 0 0 0 0 0 0 0 0 0 0 0]\n",
      "Q_values : [-3.8313081 -0.8921175 -1.3877496 -2.1174731]\n",
      "state : [ 0  0 10  0  4  2  0  0  2  0 10  0  0  0  0  0  0  0  0  0  0  0  0  0\n",
      "  0  1 13  4  5  2  4  0  2  1 13  0  2  0  0  4  0  0  0  0  0  0  0  0]\n",
      "Q_values : [ 1.8541827  9.802156  14.500109   6.1280556]\n"
     ]
    },
    {
     "name": "stderr",
     "output_type": "stream",
     "text": [
      "Warning: Vehicle 'AWE.6' performs emergency stop at the end of lane 'end4_junction_1' because of a red traffic light (decel=-11.12, offset=0.00), time=100.93.\n"
     ]
    },
    {
     "name": "stdout",
     "output_type": "stream",
     "text": [
      "state : [ 0  0  0  0  1  4  0  0  0  0  4  0  0  0  0  0  0  0  0  0  0  0  0  0          \n",
      "  0  0  9  2  4  5  4  0  0  0  8  0  2  0  0  3  2 10  0  0  0  0  0  1]\n",
      "Q_values : [-6.237889  -1.499307   0.8690132 -1.7959294]\n",
      "Step #121.00 (0ms ?*RT. ?UPS, TraCI: 0ms, vehicles TOT 99 ACT 52 BUF 3)                   \r"
     ]
    },
    {
     "name": "stderr",
     "output_type": "stream",
     "text": [
      "Warning: Vehicle 'CNE.5' performs emergency braking on lane 'end1_junction_2' with decel=9.00, wished=5.00, severity=1.00, time=120.00.\n",
      "Warning: Vehicle 'CNE.5' performs emergency braking on lane 'end1_junction_2' with decel=9.00, wished=5.00, severity=1.00, time=121.21.\n"
     ]
    },
    {
     "name": "stdout",
     "output_type": "stream",
     "text": [
      "state : [ 0  0  9  0  0  5  0  0  0  0  0  0  0  0  0  0  0  0  0  0  0  0  0  0\n",
      "  0  1 12  0  1  6  4  0  0  1  2  0  2  0  0  3  5  6  0  0  0  0  2  0]\n",
      "Q_values : [-1.601692   2.69892    1.2374244  5.8760223]\n",
      "Step #140.00 (0ms ?*RT. ?UPS, TraCI: 90ms, vehicles TOT 108 ACT 46 BUF 0)                 \r"
     ]
    },
    {
     "name": "stderr",
     "output_type": "stream",
     "text": [
      "Warning: Vehicle 'CEW.3' performs emergency braking on lane 'end2_junction_1' with decel=9.00, wished=5.00, severity=1.00, time=140.00.\n",
      "Warning: Vehicle 'CEW.3' performs emergency stop at the end of lane 'end2_junction_1' because of a red traffic light (decel=-25.14, offset=0.09), time=140.05.\n"
     ]
    },
    {
     "name": "stdout",
     "output_type": "stream",
     "text": [
      "state : [ 0  0  3  0  5  4  0  0  0  0 12  2  0  0  0  0  0  0  0  0  0  0  0  0\n",
      "  1  0  7  2  5  4  5  0  0  1 16  2  1  2  0  2  0  0  0  1  0  0  0  0]\n",
      "Q_values : [-1.6955893  3.3842854  8.4854765  5.1082644]\n",
      "state : [ 0  0 37  0  4  0  0  0  2  0 22  0  0  0  0  0  0  0  0  0  0  0  0  0\n",
      "  0  0 40  2  6  2  4  0  2  0 25  0  0  0  0  4  0  0  0  0  1  0  0  0]\n",
      "Q_values : [ 8.827147 30.57538  31.879004 10.676771]\n",
      "state : [ 0  0 43  0  0  0  0  0  2  0 10  0  0  0  0  0  0  0  0  0  0  0  0  0\n",
      "  1  3 47  1  2  2  5  2  4  3 20  2  0  0  0  1  2  0  0  0  1  0  0  0]\n",
      "Q_values : [-1.9975767  14.263145   15.913904    0.06465805]\n",
      "state : [ 0  2 21  0  1  3  0  2  0  0 10  2  0  0  0  0  0  0  0  0  0  0  0  0\n",
      "  0  2 43  0  2  4  4  2  0  1 14  2  2  0  0  4  1  9  0  0  0  0  0  3]\n",
      "Q_values : [-1.7405989  3.8289006  9.079248   3.8813806]\n",
      "Step #501.00 (1ms ~= 10.00*RT, ~94000.00UPS, TraCI: 0ms, vehicles TOT 384 ACT 94 BUF 0)   \r"
     ]
    },
    {
     "name": "stderr",
     "output_type": "stream",
     "text": [
      "Warning: Vehicle 'CNE.20' performs emergency braking on lane 'end1_junction_2' with decel=9.00, wished=5.00, severity=1.00, time=500.00.\n",
      "Warning: Vehicle 'CNE.20' performs emergency braking on lane 'end1_junction_2' with decel=9.00, wished=5.00, severity=1.00, time=501.24.\n"
     ]
    },
    {
     "name": "stdout",
     "output_type": "stream",
     "text": [
      "state : [ 0  2 12  0  0  4  0  2  0  0  0  2  0  0  0  0  0  0  0  0  0  0  0  0\n",
      "  0  3 46  2  3  5  5  2  0  1  6  2  0  0  0  2  7  5  0  0  0  0  1  0]\n",
      "Q_values : [-23.84018  -11.738273 -10.338599 -14.523416]\n",
      "state : [ 0  0 55  0  2  0  0  0  0  0  6  0  0  0  0  0  0  0  0  0  0  0  0  0\n",
      "  2  2 59  2  4  2  4  1  2  2 10  2  0  2  0  4  0  0  0  1  0  0  0  0]\n",
      "Q_values : [ 2.960082 26.227345 19.245274  9.059211]\n",
      "state : [ 0  2 30  0  4  2  0  1  0  0 10  2  0  0  0  0  0  0  0  0  0  0  0  0\n",
      "  2  4 50  6  7  4  2  3  2  2 12  4  2  0  0  3  0  9  2  0  0  2  0  2]\n",
      "Q_values : [ 1.3951683 15.216233  13.631227   5.8389983]\n",
      "Step #640.00 (0ms ?*RT. ?UPS, TraCI: 72ms, vehicles TOT 506 ACT 117 BUF 4)                \r"
     ]
    },
    {
     "name": "stderr",
     "output_type": "stream",
     "text": [
      "Warning: Vehicle 'CNE.31' performs emergency braking on lane 'end1_junction_2' with decel=9.00, wished=5.00, severity=1.00, time=640.00.\n",
      "Warning: Vehicle 'CNE.31' performs emergency stop at the end of lane 'end1_junction_2' because of a red traffic light (decel=-15.16, offset=0.03), time=640.24.\n"
     ]
    },
    {
     "name": "stdout",
     "output_type": "stream",
     "text": [
      "state : [ 0  5 10  0  9  8  0  0  0  0 13  4  0  0  0  0  0  0  0  0  0  0  0  0\n",
      "  0  5 36  5 13 12  2  0  0  0 14  4  4  2  1  0  0  2  0  2  1  2  0  0]\n",
      "Q_values : [ 3.1584506 14.282444  11.770129   9.195122 ]\n",
      "Step #681.00 (0ms ?*RT. ?UPS, TraCI: 0ms, vehicles TOT 534 ACT 109 BUF 0)                 \r"
     ]
    },
    {
     "name": "stderr",
     "output_type": "stream",
     "text": [
      "Warning: Vehicle 'CNE.34' performs emergency braking on lane 'end1_junction_2' with decel=9.00, wished=5.00, severity=1.00, time=681.31.\n"
     ]
    },
    {
     "name": "stdout",
     "output_type": "stream",
     "text": [
      "state : [ 0  0 36  0 20  9  0  0  2  0  8  0  0  0  0  0  0  0  0  0  0  0  0  0\n",
      "  0  0 38  6 24 14  2  0  2  0 10  0  3  1  1  0  0  0  2  1  4  2  0  0]\n",
      "Q_values : [12.296566 27.888212 26.800884 20.022549]\n",
      "Step #843.00 (0ms ?*RT. ?UPS, TraCI: 0ms, vehicles TOT 650 ACT 105 BUF 4)                 \r"
     ]
    },
    {
     "name": "stderr",
     "output_type": "stream",
     "text": [
      "Warning: Vehicle 'CWER.6' performs emergency braking on lane 'end4_junction_1' with decel=9.00, wished=5.00, severity=1.00, time=843.79.\n"
     ]
    },
    {
     "name": "stdout",
     "output_type": "stream",
     "text": [
      "Step #920.00 (0ms ?*RT. ?UPS, TraCI: 69ms, vehicles TOT 713 ACT 106 BUF 1)                \r"
     ]
    },
    {
     "name": "stderr",
     "output_type": "stream",
     "text": [
      "Warning: Vehicle 'AEWR.16' performs emergency stop at the end of lane 'end2_junction_1' because of a red traffic light (decel=-19.49, offset=0.01), time=920.15.\n"
     ]
    },
    {
     "name": "stdout",
     "output_type": "stream",
     "text": [
      "state : [ 0  0 35  0 23  0  0  0  2  0  2  0  0  0  0  0  0  0  0  0  0  0  0  0\n",
      "  0  0 35  5 27  6  0  0  2  0  2  0  4  0  1  2  0  0  0  0  9  0  0  0]\n",
      "Q_values : [ 5.897458 22.237488 25.66675  11.848545]\n",
      "Step #1004.00 (0ms ?*RT. ?UPS, TraCI: 0ms, vehicles TOT 773 ACT 92 BUF 1)                 \r"
     ]
    },
    {
     "name": "stderr",
     "output_type": "stream",
     "text": [
      "Warning: Vehicle 'CESR.31' performs emergency braking on lane 'end2_junction_2' with decel=9.00, wished=5.00, severity=1.00, time=1004.02.\n"
     ]
    },
    {
     "name": "stdout",
     "output_type": "stream",
     "text": [
      "state : [ 0  0 39  0  0  6  0  0  2  0  0  0  0  0  0  0  0  0  0  0  0  0  0  0\n",
      "  3  1 41  6 17 10  4  2  2  3  1  2  2  0  0  2  2  1  0  0  0  0  7  3]\n",
      "Q_values : [-0.08105516 15.918588    8.653427    2.8277743 ]\n",
      "state : [ 0  2  0  0 19 13  0  2  0  0  2  2  0  0  0  0  0  0  0  0  0  0  0  0\n",
      "  0  2 19  5 23 17  2  2  0  0  4  2  4  0  0  2  0 11  2  0  0  2  0  1]\n",
      "Q_values : [-0.53531694  2.7503304  14.856459    8.410214  ]\n",
      "Step #1122.00 (0ms ?*RT. ?UPS, TraCI: 0ms, vehicles TOT 863 ACT 83 BUF 1)                 \r"
     ]
    },
    {
     "name": "stderr",
     "output_type": "stream",
     "text": [
      "Warning: Vehicle 'CEWR.40' performs emergency braking on lane 'end2_junction_1' with decel=9.00, wished=5.00, severity=1.00, time=1122.16.\n"
     ]
    },
    {
     "name": "stdout",
     "output_type": "stream",
     "text": [
      "Step #1200.00 (1ms ~= 10.00*RT, ~86000.00UPS, TraCI: 68ms, vehicles TOT 924 ACT 86 BUF 0) \r"
     ]
    },
    {
     "name": "stderr",
     "output_type": "stream",
     "text": [
      "Warning: Vehicle 'CNER.15' performs emergency braking on lane 'end1_junction_2' with decel=9.00, wished=5.00, severity=1.00, time=1200.00.\n",
      "Warning: Vehicle 'CNER.15' performs emergency braking on lane 'end1_junction_2' with decel=9.00, wished=5.00, severity=1.00, time=1200.93.\n"
     ]
    },
    {
     "name": "stdout",
     "output_type": "stream",
     "text": [
      "state : [0 2 3 0 0 0 0 2 2 0 0 0 0 0 0 0 0 0 0 0 0 0 0 0 0 2 3 0 7 0 0 2 2 0 0 0 0\n",
      " 0 0 0 3 2 0 0 0 0 7 3]\n",
      "Q_values : [-3.859437    3.279355   -0.57274044  1.1933539 ]\n",
      "episode : 22\n",
      "Step #1300.00 (0ms ?*RT. ?UPS, TraCI: 0ms, vehicles TOT 924 ACT 17 BUF 0)                 \n",
      " Retrying in 1 seconds\n"
     ]
    },
    {
     "name": "stderr",
     "output_type": "stream",
     "text": [
      "Warning: Environment variable SUMO_HOME is not set properly, disabling XML validation. Set 'auto' or 'always' for web lookups.\n"
     ]
    },
    {
     "name": "stdout",
     "output_type": "stream",
     "text": [
      "state : [0 0 0 0 0 0 0 0 0 0 0 0 0 0 0 0 0 0 0 0 0 0 0 0 2 3 3 2 2 2 4 2 2 3 3 2 0\n",
      " 0 0 0 0 0 0 0 0 0 0 0]\n",
      "Q_values : [-15.092936 -10.671835  -8.285659  -8.524599]\n",
      "state : [ 0  0  3  0  2  4  0  0  0  0  9  2  0  0  0  0  0  0  0  0  0  0  0  0\n",
      "  1  0  7  1  4  6  5  0  0  1 13  2  0  1  0  4  0  0  0  1  0  0  0  0]\n",
      "Q_values : [-4.377616   2.2058651  5.9890294  3.0972118]\n"
     ]
    },
    {
     "name": "stderr",
     "output_type": "stream",
     "text": [
      "Warning: Vehicle 'CEW.3' performs emergency braking on lane 'end2_junction_1' with decel=9.00, wished=5.00, severity=1.00, time=140.00.\n",
      "Warning: Vehicle 'CEW.3' performs emergency stop at the end of lane 'end2_junction_1' because of a red traffic light (decel=-22.56, offset=0.02), time=140.33.\n"
     ]
    },
    {
     "name": "stdout",
     "output_type": "stream",
     "text": [
      "state : [ 0  1 16  0  0  1  0  1  1  0  0  1  0  0  0  0  0  0  0  0  0  0  0  0          \n",
      "  0  2 20  0  0  2  4  2  2  0  3  2  2  0  0  3  5  2  2  0  0  2  2  1]\n",
      "Q_values : [-2.6431086   8.054491    0.48101866  2.1196122 ]\n",
      "Step #200.00 (0ms ?*RT. ?UPS, TraCI: 69ms, vehicles TOT 162 ACT 53 BUF 0)                 \r"
     ]
    },
    {
     "name": "stderr",
     "output_type": "stream",
     "text": [
      "Warning: Vehicle 'CNE.10' performs emergency braking on lane 'end1_junction_2' with decel=9.00, wished=5.00, severity=1.00, time=200.00.\n",
      "Warning: Vehicle 'CNE.10' performs emergency stop at the end of lane 'end1_junction_2' because of a red traffic light (decel=-14.39, offset=0.02), time=200.26.\n"
     ]
    },
    {
     "name": "stdout",
     "output_type": "stream",
     "text": [
      "state : [ 0  2  3  0  0  4  0  2  0  0  0  0  0  0  0  0  0  0  0  0  0  0  0  0\n",
      "  2  5  6  2  3  5  5  4  1  3 11  1  2  0  0  4  6  6  0  0  0  0  3  2]\n",
      "Q_values : [-8.784753  -2.837376  -2.209949  -4.9290705]\n",
      "state : [ 0  0 14  0  1  0  0  0  2  0  6  0  0  0  0  0  0  0  0  0  0  0  0  0\n",
      "  0  0 17  0  2  0  4  0  2  0 10  0  2  0  1  4  0  0  0  0  7  0  0  0]\n",
      "Q_values : [-3.4042654 10.029441   7.562931  -0.5047123]\n",
      "state : [ 0  0  0  0  2  0  0  0  0  0 10  0  0  0  0  0  0  0  0  0  0  0  0  0\n",
      "  0  1  9  2  4  2  4  0  0  1 13  0  0  0  0  4  0  9  0  0  0  0  0  1]\n",
      "Q_values : [-3.307879   4.3300653  5.613791  -0.8142885]\n",
      "state : [ 0  0  9  0  0  2  0  0  0  0 10  0  0  0  0  0  0  0  0  0  0  0  0  0\n",
      "  2  2 13  2  2  4  4  1  2  2 15  2  0  2  0  3  1  0  0  1  0  0  0  0]\n",
      "Q_values : [-8.436122    1.9088924   0.29651618 -5.4863944 ]\n",
      "state : [ 0  2  0  0  2  4  0  1  0  0 15  2  0  0  0  0  0  0  0  0  0  0  0  0\n",
      "  2  4  4  6  5  6  2  3  2  2 17  4  2  0  0  3  0  9  2  0  0  2  0  2]\n",
      "Q_values : [-6.281845  -6.4497766 -4.976405   2.9563184]\n",
      "state : [ 0  4  4  0  3  0  0  3  2  0 17  0  0  0  0  0  0  0  0  0  0  0  0  0\n",
      "  1  5  4  7  7  3  2  3  2  1 18  0  2  0  3  3  0  3  2  0  5  2  0  0]\n",
      "Q_values : [ 1.9710274  8.547878  16.555      8.428661 ]\n",
      "Step #644.00 (0ms ?*RT. ?UPS, TraCI: 0ms, vehicles TOT 509 ACT 73 BUF 1)                  \r"
     ]
    },
    {
     "name": "stderr",
     "output_type": "stream",
     "text": [
      "Warning: Vehicle 'CESR.1' performs emergency braking on lane 'end2_junction_2' with decel=9.00, wished=5.00, severity=1.00, time=644.21.\n"
     ]
    },
    {
     "name": "stdout",
     "output_type": "stream",
     "text": [
      "state : [0 4 6 0 2 0 0 3 2 0 7 0 0 0 0 0 0 0 0 0 0 0 0 0 0 5 7 5 7 3 2 3 2 1 8 0 4\n",
      " 0 0 1 1 1 0 0 6 0 0 0]\n",
      "Q_values : [1.6716776 9.614753  7.4492154 5.2380037]\n",
      "Step #720.00 (0ms ?*RT. ?UPS, TraCI: 68ms, vehicles TOT 559 ACT 57 BUF 5)                 \r"
     ]
    },
    {
     "name": "stderr",
     "output_type": "stream",
     "text": [
      "Warning: Vehicle 'CEWR.7' performs emergency braking on lane 'end2_junction_1' with decel=9.00, wished=5.00, severity=1.00, time=720.00.\n",
      "Warning: Vehicle 'CEWR.7' performs emergency stop at the end of lane 'end2_junction_1' because of a red traffic light (decel=-23.02, offset=0.13), time=720.28.\n"
     ]
    },
    {
     "name": "stdout",
     "output_type": "stream",
     "text": [
      "state : [ 0  4  0  0  6  0  0  3  0  0  2  0  0  0  0  0  0  0  0  0  0  0  0  0\n",
      "  2  6  2  7 10  5  2  5  2  2  4  2  3  0  0  1  0  0  0  0  9  0  0  0]\n",
      "Q_values : [-9.550179  -4.545144  -2.6574845 -4.9119873]\n",
      "Step #761.00 (0ms ?*RT. ?UPS, TraCI: 0ms, vehicles TOT 598 ACT 64 BUF 2)                  \r"
     ]
    },
    {
     "name": "stderr",
     "output_type": "stream",
     "text": [
      "Warning: Vehicle 'CESR.10' performs emergency braking on lane 'end2_junction_2' with decel=9.00, wished=5.00, severity=1.00, time=760.00.\n",
      "Warning: Vehicle 'CESR.10' performs emergency braking on lane 'end2_junction_2' with decel=9.00, wished=5.00, severity=1.00, time=761.15.\n"
     ]
    },
    {
     "name": "stdout",
     "output_type": "stream",
     "text": [
      "Step #780.00 (1ms ~= 10.00*RT, ~64000.00UPS, TraCI: 69ms, vehicles TOT 610 ACT 64 BUF 8)  \r"
     ]
    },
    {
     "name": "stderr",
     "output_type": "stream",
     "text": [
      "Warning: Vehicle 'CEWR.12' performs emergency braking on lane 'end2_junction_1' with decel=9.00, wished=5.00, severity=1.00, time=780.00.\n",
      "Warning: Vehicle 'CEWR.12' performs emergency stop at the end of lane 'end2_junction_1' because of a red traffic light (decel=-25.09, offset=0.07), time=780.01.\n"
     ]
    },
    {
     "name": "stdout",
     "output_type": "stream",
     "text": [
      "state : [ 0  0  1  0 24  0  0  1  1  0  7  0  0  0  0  0  0  0  0  0  0  0  0  0\n",
      "  2  2  2  6 27  7  1  2  2  2  8  0  2  0  2  0  0  0  0  0  9  0  0  0]\n",
      "Q_values : [ 4.5987396 10.5001135 23.980686  12.575578 ]\n",
      "Step #920.00 (0ms ?*RT. ?UPS, TraCI: 88ms, vehicles TOT 713 ACT 77 BUF 1)                 \r"
     ]
    },
    {
     "name": "stderr",
     "output_type": "stream",
     "text": [
      "Warning: Vehicle 'CESR.23' performs emergency braking on lane 'end2_junction_2' with decel=9.00, wished=5.00, severity=1.00, time=920.00.\n",
      "Warning: Vehicle 'CESR.23' performs emergency braking on lane 'end2_junction_2' with decel=9.00, wished=5.00, severity=1.00, time=920.92.\n"
     ]
    },
    {
     "name": "stdout",
     "output_type": "stream",
     "text": [
      "state : [ 0  0  2  0 10  0  0  0  0  0  0  0  0  0  0  0  0  0  0  0  0  0  0  0\n",
      "  0  0  4  5 20 12  2  0  0  0  2  0  4  0  0  0  0  0  0  0  9  0  1  0]\n",
      "Q_values : [-14.4792     -7.861949   -0.7613902  -4.721086 ]\n",
      "state : [ 0  0 12  0  0 35  0  0  2  0  0  2  0  0  0  0  0  0  0  0  0  0  0  0\n",
      "  2  1 12  7  3 38  2  1  2  2  1  2  4  0  0  1  2  0  0  0  0  0  5  2]\n",
      "Q_values : [ 9.2818985  9.81522   10.614347  24.650625 ]\n",
      "state : [ 0  0 13  0  2  9  0  0  2  0  0  0  0  0  0  0  0  0  0  0  0  0  0  0\n",
      "  2  2 14  5  7 31  2  2  4  2  2  1  4  0  1  0  0  0  0  0  9  0  0  0]\n",
      "Q_values : [-0.28880453 -0.6804683   0.2656399   1.4989443 ]\n",
      "state : [ 0  2  0  0  8 19  0  2  0  0  2  0  0  0  0  0  0  0  0  0  0  0  0  0\n",
      "  0  2  0  0  8 19  0  2  0  0  2  0  0  0  0  0  0  5  0  0  0  0  0  0]\n",
      "Q_values : [ 4.7634454 10.361337  17.396473  16.238552 ]\n",
      "state : [ 0  2  0  0  0 19  0  2  0  0  0  0  0  0  0  0  0  0  0  0  0  0  0  0\n",
      "  0  2  0  0  0 19  0  2  0  0  0  0  0  0  0  0  1  0  0  0  0  0  4  3]\n",
      "Q_values : [ 6.379586  8.940427  8.437188 19.693205]\n",
      "episode : 23\n",
      "Step #1300.00 (0ms ?*RT. ?UPS, TraCI: 0ms, vehicles TOT 924 ACT 23 BUF 0)                 \n",
      " Retrying in 1 seconds\n"
     ]
    },
    {
     "name": "stderr",
     "output_type": "stream",
     "text": [
      "Warning: Environment variable SUMO_HOME is not set properly, disabling XML validation. Set 'auto' or 'always' for web lookups.\n"
     ]
    },
    {
     "name": "stdout",
     "output_type": "stream",
     "text": [
      "state : [ 0  0  9  0  0  4  0  0  0  0  0  2  0  0  0  0  0  0  0  0  0  0  0  0\n",
      "  1  0 13  1  1  6  5  0  0  1  5  2  0  0  0  3  6  4  0  0  0  0  3  1]\n",
      "Q_values : [-11.574629   -2.7761695  -1.9801844  -5.505746 ]\n",
      "state : [ 0  0 13  0  0  6  0  0  0  0  0  2  0  0  0  0  0  0  0  0  0  0  0  0\n",
      "  0  0 16  2  3  7  4  0  0  0  3  2  2  0  0  3  5  1  0  0  0  0  1  0]\n",
      "Q_values : [-4.8975625  4.9139185  0.7354071  0.5240675]\n",
      "state : [ 0  0  0  0  2  8  0  0  0  0  6  2  0  0  0  0  0  0  0  0  0  0  0  0\n",
      "  3  2  3  2  4 10  5  3  1  3 11  3  1  0  0  3  0 10  0  0  0  0  0  0]\n",
      "Q_values : [-7.266511  -3.4577527 -2.1771712 -4.089875 ]\n",
      "state : [ 0  2  9  0  0  2  0  2  2  0  0  0  0  0  0  0  0  0  0  0  0  0  0  0\n",
      "  1  2 13  2  0  2  5  2  2  1  3  0  2  0  0  2  4  3  0  0  1  0  1  0]\n",
      "Q_values : [2.5070415 6.867202  1.6415205 5.1726236]\n"
     ]
    },
    {
     "name": "stderr",
     "output_type": "stream",
     "text": [
      "Warning: Vehicle 'CNE.17' performs emergency braking on lane 'end1_junction_2' with decel=9.00, wished=5.00, severity=1.00, time=240.00.\n",
      "Warning: Vehicle 'CNE.17' performs emergency braking on lane 'end1_junction_2' with decel=9.00, wished=5.00, severity=1.00, time=241.22.\n"
     ]
    },
    {
     "name": "stdout",
     "output_type": "stream",
     "text": [
      "state : [ 0  0  8  0  2  0  0  0  0  0  9  0  0  0  0  0  0  0  0  0  0  0  0  0          \n",
      "  1  0 12  1  4  2  5  0  0  1 13  0  0  1  0  3  0  0  0  1  0  0  0  0]\n",
      "Q_values : [-3.7502043  2.0552185  7.3141046  1.7358019]\n",
      "Step #322.00 (1ms ~= 10.00*RT, ~55000.00UPS, TraCI: 0ms, vehicles TOT 252 ACT 55 BUF 0)   \r"
     ]
    },
    {
     "name": "stderr",
     "output_type": "stream",
     "text": [
      "Warning: Vehicle 'ANS.2' performs emergency braking on lane 'end1_junction_1' with decel=9.00, wished=5.00, severity=1.00, time=320.00.\n",
      "Warning: Vehicle 'ANS.2' performs emergency braking on lane 'end1_junction_1' with decel=9.00, wished=5.00, severity=1.00, time=322.54.\n"
     ]
    },
    {
     "name": "stdout",
     "output_type": "stream",
     "text": [
      "state : [ 0  0  2  0  8  0  0  0  0  0 24  0  0  0  0  0  0  0  0  0  0  0  0  0\n",
      "  4  1  5  4  9  0  6  1  0  4 27  0  2  0  1  4  0  1  0  0 10  0  0  0]\n",
      "Q_values : [ 5.382313 11.010859 20.989927  8.56587 ]\n",
      "state : [ 0  0  5  0  0  0  0  0  0  0  0  0  0  0  0  0  0  0  0  0  0  0  0  0\n",
      "  2  2 10  1  1  2  5  2  2  3 19  2  0  0  0  2  6  4  0  0  1  0  4  4]\n",
      "Q_values : [-16.579908 -11.242776  -8.061579 -15.066766]\n",
      "Step #481.00 (0ms ?*RT. ?UPS, TraCI: 0ms, vehicles TOT 375 ACT 68 BUF 3)                  \r"
     ]
    },
    {
     "name": "stderr",
     "output_type": "stream",
     "text": [
      "Warning: Vehicle 'CWE.35' performs emergency braking on lane 'end4_junction_1' with decel=9.00, wished=5.00, severity=1.00, time=480.00.\n",
      "Warning: Vehicle 'CWE.35' performs emergency stop at the end of lane 'end4_junction_1' because of a red traffic light (decel=-9.55, offset=0.00), time=481.39.\n"
     ]
    },
    {
     "name": "stdout",
     "output_type": "stream",
     "text": [
      "state : [ 0  0  0  0  3  5  0  0  0  0 16  2  0  0  0  0  0  0  0  0  0  0  0  0\n",
      "  0  0 12  0  4  6  4  0  0  0 19  2  2  0  0  4  0  9  0  0  0  0  0  2]\n",
      "Q_values : [ 0.02696419  4.2974367  17.473734    8.318455  ]\n",
      "state : [ 0  0 15  0  0  8  0  0  0  0  0  2  0  0  0  0  0  0  0  0  0  0  0  0\n",
      "  2  0 18  2  0  8  5  0  0  2  2  2  2  0  0  2  6  5  0  0  0  0  2  0]\n",
      "Q_values : [-0.9723239  8.692884   6.140465   6.3319287]\n",
      "Step #600.00 (0ms ?*RT. ?UPS, TraCI: 0ms, vehicles TOT 462 ACT 64 BUF 0)                  "
     ]
    },
    {
     "name": "stderr",
     "output_type": "stream",
     "text": [
      "Warning: Vehicle 'CNE.44' performs emergency braking on lane 'end1_junction_2' with decel=9.00, wished=5.00, severity=1.00, time=600.00.\n"
     ]
    },
    {
     "name": "stdout",
     "output_type": "stream",
     "text": [
      "state : [ 0  2 13  0  0 13  0  2  4  0  0  6  0  0  0  0  0  0  0  0  0  0  0  0\n",
      "  1  3 13  6  3 16  2  2  4  1  1  6  2  0  0  2  5  3  2  0  0  2  3  0]\n",
      "Q_values : [ 5.657028   8.994623   7.5485525 17.740957 ]\n",
      "state : [ 0  2 14  0  2  0  0  2  4  0  0  0  0  0  0  0  0  0  0  0  0  0  0  0\n",
      "  0  2 15  5  7  9  2  2  4  0  2  0  4  0  6  0  0  0  0  0  9  0  0  0]\n",
      "Q_values : [-0.03958035 12.409048    6.324891    7.002698  ]\n",
      "Step #660.00 (1ms ~= 10.00*RT, ~69000.00UPS, TraCI: 86ms, vehicles TOT 517 ACT 69 BUF 5)  \r"
     ]
    },
    {
     "name": "stderr",
     "output_type": "stream",
     "text": [
      "Warning: Vehicle 'CESR.0' performs emergency braking on lane 'end2_junction_2' with decel=9.00, wished=5.00, severity=1.00, time=660.00.\n",
      "Warning: Vehicle 'CESR.0' performs emergency stop at the end of lane 'end2_junction_2' because of a red traffic light (decel=-16.36, offset=0.01), time=660.09.\n"
     ]
    },
    {
     "name": "stdout",
     "output_type": "stream",
     "text": [
      "state : [ 0  2  0  0  6  8  0  2  0  0  2  0  0  0  0  0  0  0  0  0  0  0  0  0\n",
      "  0  3  5  5 10 13  2  2  0  1  3  0  3  0  0  2  0  9  0  0  2  0  0  3]\n",
      "Q_values : [-3.425385    0.48563623  6.227167    6.873246  ]\n",
      "Step #843.00 (0ms ?*RT. ?UPS, TraCI: 0ms, vehicles TOT 650 ACT 95 BUF 4)                  \r"
     ]
    },
    {
     "name": "stderr",
     "output_type": "stream",
     "text": [
      "Warning: Vehicle 'CNER.6' performs emergency braking on lane 'end1_junction_2' with decel=9.00, wished=5.00, severity=1.00, time=843.96.\n"
     ]
    },
    {
     "name": "stdout",
     "output_type": "stream",
     "text": [
      "Step #860.00 (0ms ?*RT. ?UPS, TraCI: 0ms, vehicles TOT 665 ACT 103 BUF 1)                 "
     ]
    },
    {
     "name": "stderr",
     "output_type": "stream",
     "text": [
      "Warning: Vehicle 'CESR.11' performs emergency braking on lane 'end2_junction_2' with decel=9.00, wished=5.00, severity=1.00, time=860.00.\n"
     ]
    },
    {
     "name": "stdout",
     "output_type": "stream",
     "text": [
      "state : [ 0  0  1  0  0 26  0  1  1  0  0  1  0  0  0  0  0  0  0  0  0  0  0  0\n",
      "  2  2  2  7 26 31  1  2  2  2  0  2  3  0  0  0  2  0  0  0  0  0  7  3]\n",
      "Q_values : [-7.579936  -6.331682   2.2927804  9.00267  ]\n",
      "Step #920.00 (1ms ~= 10.00*RT, ~99000.00UPS, TraCI: 0ms, vehicles TOT 713 ACT 99 BUF 1)   "
     ]
    },
    {
     "name": "stderr",
     "output_type": "stream",
     "text": [
      "Warning: Vehicle 'CENR.24' performs emergency braking on lane 'end2_junction_0' with decel=9.00, wished=5.00, severity=1.00, time=920.00.\n"
     ]
    },
    {
     "name": "stdout",
     "output_type": "stream",
     "text": [
      "Step #961.00 (0ms ?*RT. ?UPS, TraCI: 1ms, vehicles TOT 742 ACT 88 BUF 8)                  \r"
     ]
    },
    {
     "name": "stderr",
     "output_type": "stream",
     "text": [
      "Warning: Vehicle 'CESR.22' performs emergency braking on lane 'end2_junction_2' with decel=9.00, wished=5.00, severity=1.00, time=960.00.\n",
      "Warning: Vehicle 'CESR.22' performs emergency braking on lane 'end2_junction_2' with decel=9.00, wished=5.00, severity=1.00, time=961.11.\n"
     ]
    },
    {
     "name": "stdout",
     "output_type": "stream",
     "text": [
      "state : [ 0  0  4  0 33 10  0  0  2  0  2  0  0  0  0  0  0  0  0  0  0  0  0  0\n",
      "  0  0  6  6 36 19  2  0  2  0  4  0  2  2  0  0  0  0  0  1  3  0  0  0]\n",
      "Q_values : [ 2.650158   4.6011753 20.194923  18.647846 ]\n",
      "Step #1002.00 (0ms ?*RT. ?UPS, TraCI: 0ms, vehicles TOT 773 ACT 90 BUF 1)                 \r"
     ]
    },
    {
     "name": "stderr",
     "output_type": "stream",
     "text": [
      "Warning: Vehicle 'CEWR.19' performs emergency braking on lane 'end2_junction_1' with decel=9.00, wished=5.00, severity=1.00, time=1002.04.\n"
     ]
    },
    {
     "name": "stdout",
     "output_type": "stream",
     "text": [
      "Step #1040.00 (0ms ?*RT. ?UPS, TraCI: 66ms, vehicles TOT 809 ACT 97 BUF 1)                \r"
     ]
    },
    {
     "name": "stderr",
     "output_type": "stream",
     "text": [
      "Warning: Vehicle 'CESR.33' performs emergency braking on lane 'end2_junction_2' with decel=9.00, wished=5.00, severity=1.00, time=1040.00.\n",
      "Warning: Vehicle 'CESR.33' performs emergency stop at the end of lane 'end2_junction_2' because of a red traffic light (decel=-13.36, offset=0.02), time=1040.42.\n"
     ]
    },
    {
     "name": "stdout",
     "output_type": "stream",
     "text": [
      "Step #1060.00 (0ms ?*RT. ?UPS, TraCI: 68ms, vehicles TOT 818 ACT 87 BUF 4)                \r"
     ]
    },
    {
     "name": "stderr",
     "output_type": "stream",
     "text": [
      "Warning: Vehicle 'AWER.12' performs emergency stop at the end of lane 'end4_junction_1' because of a red traffic light (decel=-18.06, offset=0.02), time=1060.85.\n"
     ]
    },
    {
     "name": "stdout",
     "output_type": "stream",
     "text": [
      "Step #1100.00 (0ms ?*RT. ?UPS, TraCI: 65ms, vehicles TOT 845 ACT 75 BUF 1)                \r"
     ]
    },
    {
     "name": "stderr",
     "output_type": "stream",
     "text": [
      "Warning: Vehicle 'CEWR.31' performs emergency braking on lane 'end2_junction_1' with decel=9.00, wished=5.00, severity=1.00, time=1100.00.\n",
      "Warning: Vehicle 'CEWR.31' performs emergency stop at the end of lane 'end2_junction_1' because of a red traffic light (decel=-11.17, offset=0.01), time=1100.95.\n"
     ]
    },
    {
     "name": "stdout",
     "output_type": "stream",
     "text": [
      "state : [ 0  2  0  0 22  2  0  2  0  0  2  0  0  0  0  0  0  0  0  0  0  0  0  0\n",
      "  0  2  3  5 26  7  0  2  0  0  2  0  4  0  0  2  0  9  0  0  0  0  0  3]\n",
      "Q_values : [ 3.4077206 11.636575  22.811121   9.2541895]\n",
      "Step #1140.00 (0ms ?*RT. ?UPS, TraCI: 87ms, vehicles TOT 874 ACT 70 BUF 8)                \r"
     ]
    },
    {
     "name": "stderr",
     "output_type": "stream",
     "text": [
      "Warning: Vehicle 'CNER.13' performs emergency braking on lane 'end1_junction_2' with decel=9.00, wished=5.00, severity=1.00, time=1140.00.\n",
      "Warning: Vehicle 'CNER.13' performs emergency stop at the end of lane 'end1_junction_2' because of a red traffic light (decel=-14.23, offset=0.04), time=1140.31.\n"
     ]
    },
    {
     "name": "stdout",
     "output_type": "stream",
     "text": [
      "state : [ 0  2  3  0  0  6  0  2  0  0  0  0  0  0  0  0  0  0  0  0  0  0  0  0\n",
      "  0  2  5  6 18 10  2  2  0  0  1  0  4  0  0  0  2  3  0  0  0  0  7  3]\n",
      "Q_values : [-17.51899   -13.7331705  -6.449197   -7.087091 ]\n",
      "Step #1202.00 (0ms ?*RT. ?UPS, TraCI: 0ms, vehicles TOT 924 ACT 62 BUF 0)                 \r"
     ]
    },
    {
     "name": "stderr",
     "output_type": "stream",
     "text": [
      "Warning: Vehicle 'CEWR.47' performs emergency braking on lane 'end2_junction_1' with decel=9.00, wished=5.00, severity=1.00, time=1200.00.\n",
      "Warning: Vehicle 'CEWR.47' performs emergency braking on lane 'end2_junction_1' with decel=9.00, wished=5.00, severity=1.00, time=1202.32.\n"
     ]
    },
    {
     "name": "stdout",
     "output_type": "stream",
     "text": [
      "state : [ 0  0  7  0  0 17  0  0  2  0  0  2  0  0  0  0  0  0  0  0  0  0  0  0\n",
      "  0  0  7  0  0 17  0  0  2  0  0  2  0  0  0  0  0  0  0  0  0  0  0  0]\n",
      "Q_values : [ 3.3796577  7.215583   2.2882533 11.40041  ]\n",
      "episode : 24\n",
      "Step #1300.00 (0ms ?*RT. ?UPS, TraCI: 0ms, vehicles TOT 924 ACT 17 BUF 0)                 \n",
      " Retrying in 1 seconds\n"
     ]
    },
    {
     "name": "stderr",
     "output_type": "stream",
     "text": [
      "Warning: Environment variable SUMO_HOME is not set properly, disabling XML validation. Set 'auto' or 'always' for web lookups.\n"
     ]
    },
    {
     "name": "stdout",
     "output_type": "stream",
     "text": [
      "state : [0 0 0 0 0 0 0 0 0 0 0 0 0 0 0 0 0 0 0 0 0 0 0 0 0 0 0 0 0 0 0 0 0 0 0 0 0\n",
      " 0 0 0 0 0 0 0 0 0 0 0]\n",
      "Q_values : [-5.873786  -0.5430505 -2.0989685 -2.8895106]\n"
     ]
    },
    {
     "name": "stderr",
     "output_type": "stream",
     "text": [
      "Warning: Vehicle 'CNE.5' performs emergency braking on lane 'end1_junction_2' with decel=9.00, wished=5.00, severity=1.00, time=100.00.\n"
     ]
    },
    {
     "name": "stdout",
     "output_type": "stream",
     "text": [
      "Step #100.00(0ms ?*RT. ?UPS, TraCI: 0ms, vehicles TOT 84 ACT 53 BUF 0)                    state : [ 0  2  5  0  2  0  0  2  0  0  6  0  0  0  0  0  0  0  0  0  0  0  0  0\n",
      "  0  2  9  2  5  1  4  2  0  0 10  0  2  0  1  4  0  2  0  0  5  0  0  0]\n",
      "Q_values : [-5.107779   1.1710522  3.2404678  1.4886688]\n",
      "Step #140.00 (0ms ?*RT. ?UPS, TraCI: 69ms, vehicles TOT 108 ACT 45 BUF 0)                 \r"
     ]
    },
    {
     "name": "stderr",
     "output_type": "stream",
     "text": [
      "Warning: Vehicle 'AWE.10' performs emergency stop at the end of lane 'end4_junction_1' because of a red traffic light (decel=-35.94, offset=0.24), time=140.20.\n"
     ]
    },
    {
     "name": "stdout",
     "output_type": "stream",
     "text": [
      "state : [0 2 0 0 0 2 0 2 0 0 3 0 0 0 0 0 0 0 0 0 0 0 0 0 3 4 5 2 3 3 6 5 1 3 8 1 0\n",
      " 0 0 1 1 9 0 0 0 0 0 0]\n",
      "Q_values : [-11.715667  -5.675333  -8.289016 -10.869558]\n",
      "Step #240.00 (0ms ?*RT. ?UPS, TraCI: 67ms, vehicles TOT 189 ACT 56 BUF 3)                 \r"
     ]
    },
    {
     "name": "stderr",
     "output_type": "stream",
     "text": [
      "Warning: Vehicle 'AWE.16' performs emergency stop at the end of lane 'end4_junction_1' because of a red traffic light (decel=-13.99, offset=0.00), time=240.64.\n"
     ]
    },
    {
     "name": "stdout",
     "output_type": "stream",
     "text": [
      "state : [ 0  4  6  0  2  0  0  4  0  0  8  0  0  0  0  0  0  0  0  0  0  0  0  0\n",
      "  0  5  9  4  3  0  4  4  0  1 11  0  2  0  0  3  2  0  0  0  3  0  0  0]\n",
      "Q_values : [-0.29610348  7.2944503   8.757794    5.2017097 ]\n",
      "Step #300.00 (0ms ?*RT. ?UPS, TraCI: 67ms, vehicles TOT 243 ACT 64 BUF 3)                 \r"
     ]
    },
    {
     "name": "stderr",
     "output_type": "stream",
     "text": [
      "Warning: Vehicle 'CNE.22' performs emergency braking on lane 'end1_junction_2' with decel=9.00, wished=5.00, severity=1.00, time=300.00.\n",
      "Warning: Vehicle 'CNE.22' performs emergency stop at the end of lane 'end1_junction_2' because of a red traffic light (decel=-11.56, offset=0.00), time=300.60.\n"
     ]
    },
    {
     "name": "stdout",
     "output_type": "stream",
     "text": [
      "state : [0 5 4 0 2 0 0 5 1 0 5 0 0 0 0 0 0 0 0 0 0 0 0 0 0 7 8 0 3 1 4 6 2 1 9 1 2\n",
      " 0 1 4 0 2 2 0 3 2 0 0]\n",
      "Q_values : [-5.436588   1.529997   1.2128403 -3.0801668]\n",
      "Step #320.00 (0ms ?*RT. ?UPS, TraCI: 88ms, vehicles TOT 252 ACT 58 BUF 0)                 \r"
     ]
    },
    {
     "name": "stderr",
     "output_type": "stream",
     "text": [
      "Warning: Vehicle 'CWN.2' performs emergency braking on lane 'end4_junction_2' with decel=9.00, wished=5.00, severity=1.00, time=320.00.\n",
      "Warning: Vehicle 'CES.8' performs emergency braking on lane 'end2_junction_2' with decel=9.00, wished=5.00, severity=1.00, time=320.00.\n",
      "Warning: Vehicle 'CES.8' performs emergency stop at the end of lane 'end2_junction_2' because of a red traffic light (decel=-20.96, offset=0.03), time=320.21.\n",
      "Warning: Vehicle 'CWN.2' performs emergency stop at the end of lane 'end4_junction_2' because of a red traffic light (decel=-19.01, offset=0.02), time=320.31.\n",
      "Warning: Teleporting vehicle 'CNS.0'; waited too long (yield), lane='end1_junction_1', time=331.25.\n",
      "Warning: Vehicle 'CNS.0' ends teleporting on edge 'junction_end3', time=331.25.\n",
      "Warning: Teleporting vehicle 'ASN.0'; waited too long (yield), lane='end3_junction_1', time=331.82.\n",
      "Warning: Vehicle 'ASN.0' ends teleporting on edge 'junction_end1', time=331.82.\n"
     ]
    },
    {
     "name": "stdout",
     "output_type": "stream",
     "text": [
      "state : [ 0  2  0  0  1  4  0  2  0  0  3  2  0  0  0  0  0  0  0  0  0  0  0  0          \n",
      "  0  2 15  2  4  5  4  2  0  0  7  2  2  0  0  3  1  9  2  0  0  1  1  2]\n",
      "Q_values : [-8.840656  -6.1972613 -3.6593485 -4.609316 ]\n",
      "Step #480.00 (1ms ~= 10.00*RT, ~65000.00UPS, TraCI: 0ms, vehicles TOT 372 ACT 65 BUF 0)   "
     ]
    },
    {
     "name": "stderr",
     "output_type": "stream",
     "text": [
      "Warning: Vehicle 'CNE.32' performs emergency braking on lane 'end1_junction_2' with decel=9.00, wished=5.00, severity=1.00, time=480.00.\n"
     ]
    },
    {
     "name": "stdout",
     "output_type": "stream",
     "text": [
      "state : [ 0  2 10  0  0  7  0  2  0  0  0  2  0  0  0  0  0  0  0  0  0  0  0  0\n",
      "  0  2 14  0  0  8  4  2  0  0  3  2  2  0  0  4  4  6  0  0  0  0  2  0]\n",
      "Q_values : [-3.9170723  -0.73868954  4.794832    6.0005827 ]\n",
      "state : [ 0  2 14  0  0  0  0  2  0  0  2  0  0  0  0  0  0  0  0  0  0  0  0  0\n",
      "  0  3 17  2  2  2  4  2  0  1  6  0  0  0  2  4  0  0  0  0  7  0  0  0]\n",
      "Q_values : [-10.515818    8.118188    0.758711   -5.7284164]\n",
      "Step #581.00 (0ms ?*RT. ?UPS, TraCI: 0ms, vehicles TOT 448 ACT 60 BUF 8)                  \r"
     ]
    },
    {
     "name": "stderr",
     "output_type": "stream",
     "text": [
      "Warning: Vehicle 'CNE.43' performs emergency braking on lane 'end1_junction_2' with decel=9.00, wished=5.00, severity=1.00, time=580.00.\n",
      "Warning: Vehicle 'CNE.43' performs emergency braking on lane 'end1_junction_2' with decel=9.00, wished=5.00, severity=1.00, time=581.20.\n"
     ]
    },
    {
     "name": "stdout",
     "output_type": "stream",
     "text": [
      "state : [ 0  4 13  0  0  4  0  4  2  0  0  2  0  0  0  0  0  0  0  0  0  0  0  0\n",
      "  2  6 15  6  3  6  2  6  4  2  2  4  2  0  0  2  3  1  2  0  0  1  1  1]\n",
      "Q_values : [-2.1101599  6.7549405  4.2276063  4.9739957]\n",
      "state : [ 0  6  4  0  0 10  0  6  0  0  0  4  0  0  0  0  0  0  0  0  0  0  0  0\n",
      "  0  6  6  5  4 14  2  6  0  0  1  4  4  0  0  0  1  5  0  0  0  0  3  1]\n",
      "Q_values : [-3.30931    1.2342908  6.5339546  9.345125 ]\n",
      "Step #660.00 (0ms ?*RT. ?UPS, TraCI: 88ms, vehicles TOT 517 ACT 63 BUF 5)                 \r"
     ]
    },
    {
     "name": "stderr",
     "output_type": "stream",
     "text": [
      "Warning: Vehicle 'CEWR.2' performs emergency braking on lane 'end2_junction_1' with decel=9.00, wished=5.00, severity=1.00, time=660.00.\n",
      "Warning: Vehicle 'CEWR.2' performs emergency stop at the end of lane 'end2_junction_1' because of a red traffic light (decel=-17.10, offset=0.02), time=660.94.\n"
     ]
    },
    {
     "name": "stdout",
     "output_type": "stream",
     "text": [
      "state : [0 6 6 0 3 0 0 6 0 0 1 0 0 0 0 0 0 0 0 0 0 0 0 0 0 7 7 5 7 7 2 6 0 1 2 0 3\n",
      " 0 3 2 0 0 0 0 9 0 0 0]\n",
      "Q_values : [-3.6803992  1.4136212  4.1546082  6.21457  ]\n",
      "state : [ 0  6  7  0  7  0  0  6  0  0  2  0  0  0  0  0  0  0  0  0  0  0  0  0\n",
      "  0  6  8  7 10  3  2  6  0  0  3  0  3  0  0  0  0  0  0  0  8  0  0  0]\n",
      "Q_values : [-1.0049143  4.5467553  9.442511   9.427629 ]\n",
      "state : [ 0  6  8  0  0  2  0  6  0  0  0  0  0  0  0  0  0  0  0  0  0  0  0  0\n",
      "  0  6 10  5  3  7  2  6  0  0  2  0  4  0  0  2  2  1  0  0  0  0  7  3]\n",
      "Q_values : [-1.2632449   6.4133725  -1.6708072  -0.15379536]\n",
      "state : [ 0  6  0  0  2  6  0  6  0  0  1  0  0  0  0  0  0  0  0  0  0  0  0  0\n",
      "  0  6  0  5  7 10  0  6  0  0  2  0  3  0  0  1  0  9  0  0  0  0  1  0]\n",
      "Q_values : [-3.678174   1.5235842  3.9272811  5.987241 ]\n",
      "state : [ 0  0  2  0 12  6  0  0  2  0  4  2  0  0  0  0  0  0  0  0  0  0  0  0\n",
      "  0  0  4  5 17 10  2  0  2  0  6  2  3  0  0  0  0  0  1  0  0  1  0  0]\n",
      "Q_values : [ 0.8060441  4.267351  10.302183  13.173864 ]\n",
      "Step #840.00 (0ms ?*RT. ?UPS, TraCI: 70ms, vehicles TOT 649 ACT 58 BUF 5)                 \r"
     ]
    },
    {
     "name": "stderr",
     "output_type": "stream",
     "text": [
      "Warning: Vehicle 'CWER.6' performs emergency braking on lane 'end4_junction_1' with decel=9.00, wished=5.00, severity=1.00, time=840.00.\n",
      "Warning: Vehicle 'CWER.6' performs emergency stop at the end of lane 'end4_junction_1' because of a red traffic light (decel=-30.27, offset=0.06), time=840.96.\n"
     ]
    },
    {
     "name": "stdout",
     "output_type": "stream",
     "text": [
      "state : [ 0  0  6  0 10  6  0  0  2  0  1  0  0  0  0  0  0  0  0  0  0  0  0  0\n",
      "  0  1  7  5 15 10  2  0  2  1  2  0  3  0  0  2  0  0  0  0  0  0  1  0]\n",
      "Q_values : [ 1.1073451  2.78608   10.739331  12.234508 ]\n",
      "state : [ 0  0  7  0 14  0  0  0  2  0  2  0  0  0  0  0  0  0  0  0  0  0  0  0\n",
      "  0  0  8  7 17  3  1  0  2  0  3  0  3  0  0  0  0  0  0  0  9  0  0  0]\n",
      "Q_values : [ 2.8800268 10.432747  10.886776   8.163122 ]\n",
      "state : [ 0  0  8  0  0  2  0  0  2  0  0  0  0  0  0  0  0  0  0  0  0  0  0  0\n",
      "  3  1 10  5  9  7  2  2  4  3  1  2  4  0  0  2  2  1  0  0  2  0  7  3]\n",
      "Q_values : [-16.735638   -7.9139314  -4.5464926 -11.1340475]\n",
      "state : [ 0  0 10  0  3 10  0  0  4  0  0  2  0  0  0  0  0  0  0  0  0  0  0  0\n",
      "  0  0 12  7  7 13  2  0  4  0  2  2  1  2  0  1  1  0  1  1  1  1  1  0]\n",
      "Q_values : [ 2.3461466  7.993269   6.350715  10.558645 ]\n",
      "state : [ 0  0  0  0 10  5  0  0  0  0  2  0  0  0  0  0  0  0  0  0  0  0  0  0\n",
      "  0  0  3  5 15  9  2  0  0  0  4  0  3  0  0  0  0  9  0  0  3  0  0  4]\n",
      "Q_values : [-7.2910175 -5.7606587  3.6769538  4.580833 ]\n",
      "Step #980.00 (0ms ?*RT. ?UPS, TraCI: 89ms, vehicles TOT 755 ACT 59 BUF 1)                 \r"
     ]
    },
    {
     "name": "stderr",
     "output_type": "stream",
     "text": [
      "Warning: Vehicle 'CNER.9' performs emergency braking on lane 'end1_junction_2' with decel=9.00, wished=5.00, severity=1.00, time=980.00.\n",
      "Warning: Vehicle 'CNER.9' performs emergency stop at the end of lane 'end1_junction_2' because of a red traffic light (decel=-15.21, offset=0.01), time=980.21.\n"
     ]
    },
    {
     "name": "stdout",
     "output_type": "stream",
     "text": [
      "state : [ 0  0  5  0 20  3  0  0  0  0  6  0  0  0  0  0  0  0  0  0  0  0  0  0\n",
      "  3  2  6  7 25  6  4  2  0  3  7  2  2  0  0  2  0  0  0  0  0  0  0  0]\n",
      "Q_values : [ 7.644187 12.339384 21.101185  8.573108]\n",
      "Step #1082.00 (0ms ?*RT. ?UPS, TraCI: 0ms, vehicles TOT 835 ACT 70 BUF 5)                 \r"
     ]
    },
    {
     "name": "stderr",
     "output_type": "stream",
     "text": [
      "Warning: Vehicle 'CEWR.36' performs emergency braking on lane 'end2_junction_1' with decel=9.00, wished=5.00, severity=1.00, time=1082.13.\n"
     ]
    },
    {
     "name": "stdout",
     "output_type": "stream",
     "text": [
      "state : [ 0  0  9  0  8  0  0  0  2  0  2  0  0  0  0  0  0  0  0  0  0  0  0  0\n",
      "  0  0 11  7 12  9  2  0  2  0  4  0  3  0  1  1  0  0  0  0  8  0  0  0]\n",
      "Q_values : [-6.7615056  2.681652   2.9604244 -1.0411856]\n",
      "Step #1121.00 (0ms ?*RT. ?UPS, TraCI: 0ms, vehicles TOT 862 ACT 62 BUF 2)                 \r"
     ]
    },
    {
     "name": "stderr",
     "output_type": "stream",
     "text": [
      "Warning: Vehicle 'CESR.38' performs emergency braking on lane 'end2_junction_2' with decel=9.00, wished=5.00, severity=1.00, time=1121.37.\n"
     ]
    },
    {
     "name": "stdout",
     "output_type": "stream",
     "text": [
      "state : [ 0  0 11  0  0  9  0  0  2  0  0  0  0  0  0  0  0  0  0  0  0  0  0  0\n",
      "  0  0 11  5  4 13  0  0  2  0  0  0  4  0  0  1  3  1  0  0  2  0  7  3]\n",
      "Q_values : [-3.3325644  4.245758   2.8289201  3.8963246]\n",
      "state : [ 0  0  2  0  0 16  0  0  0  0  0  0  0  0  0  0  0  0  0  0  0  0  0  0\n",
      "  2  1  2  6  3 19  2  1  0  2  1  0  3  0  0  2  1  4  0  0  0  0  4  3]\n",
      "Q_values : [-4.9981604 -4.059207  -1.4591268  4.9391384]\n",
      "state : [ 0  0  2  0  2  0  0  0  0  0  0  0  0  0  0  0  0  0  0  0  0  0  0  0\n",
      "  2  2  4  5  7 12  2  2  2  2  2  1  4  0  0  0  0  0  0  0  9  0  0  0]\n",
      "Q_values : [-21.443817 -13.401382 -12.765917 -14.67699 ]\n",
      "Step #1204.00 (0ms ?*RT. ?UPS, TraCI: 0ms, vehicles TOT 924 ACT 57 BUF 0)                 \r"
     ]
    },
    {
     "name": "stderr",
     "output_type": "stream",
     "text": [
      "Warning: Vehicle 'CWNR.4' performs emergency braking on lane 'end4_junction_2' with decel=9.00, wished=5.00, severity=1.00, time=1204.12.\n"
     ]
    },
    {
     "name": "stdout",
     "output_type": "stream",
     "text": [
      "episode : 25\n",
      "Step #1300.00 (0ms ?*RT. ?UPS, TraCI: 1ms, vehicles TOT 924 ACT 17 BUF 0)                 \n",
      " Retrying in 1 seconds\n"
     ]
    },
    {
     "name": "stderr",
     "output_type": "stream",
     "text": [
      "Warning: Environment variable SUMO_HOME is not set properly, disabling XML validation. Set 'auto' or 'always' for web lookups.\n",
      "Warning: Vehicle 'CWE.3' performs emergency braking on lane 'end4_junction_1' with decel=9.00, wished=5.00, severity=1.00, time=60.00.\n",
      "Warning: Vehicle 'CWE.3' performs emergency stop at the end of lane 'end4_junction_1' because of a red traffic light (decel=-29.73, offset=0.15), time=61.02.\n"
     ]
    },
    {
     "name": "stdout",
     "output_type": "stream",
     "text": [
      "Step #101.00 (0ms ?*RT. ?UPS, TraCI: 0ms, vehicles TOT 84 ACT 46 BUF 0)                   \r"
     ]
    },
    {
     "name": "stderr",
     "output_type": "stream",
     "text": [
      "Warning: Vehicle 'CNE.5' performs emergency braking on lane 'end1_junction_2' with decel=9.00, wished=5.00, severity=1.00, time=100.00.\n",
      "Warning: Vehicle 'CNE.5' performs emergency braking on lane 'end1_junction_2' with decel=9.00, wished=5.00, severity=1.00, time=101.22.\n"
     ]
    },
    {
     "name": "stdout",
     "output_type": "stream",
     "text": [
      "state : [ 0  0  8  0  7  0  0  0  2  0 23  0  0  0  0  0  0  0  0  0  0  0  0  0\n",
      "  0  1 11  2  9  2  4  0  2  1 26  0  0  1  0  4  0  0  0  1  1  0  0  0]\n",
      "Q_values : [ 7.330191 14.408342 22.60706  12.119521]\n",
      "state : [ 0  0  0  0  2  4  0  0  0  0 21  0  0  0  0  0  0  0  0  0  0  0  0  0\n",
      "  0  1 10  4  3  4  4  0  0  1 24  0  2  0  0  4  0  8  0  0  0  0  0  1]\n",
      "Q_values : [ 0.24685669  6.2668924  11.560772    3.368714  ]\n",
      "Step #260.00 (0ms ?*RT. ?UPS, TraCI: 0ms, vehicles TOT 203 ACT 69 BUF 1)                  "
     ]
    },
    {
     "name": "stderr",
     "output_type": "stream",
     "text": [
      "Warning: Vehicle 'CNE.16' performs emergency braking on lane 'end1_junction_2' with decel=9.00, wished=5.00, severity=1.00, time=260.00.\n"
     ]
    },
    {
     "name": "stdout",
     "output_type": "stream",
     "text": [
      "Step #300.00 (0ms ?*RT. ?UPS, TraCI: 71ms, vehicles TOT 243 ACT 75 BUF 3)                 \r"
     ]
    },
    {
     "name": "stderr",
     "output_type": "stream",
     "text": [
      "Warning: Vehicle 'CWE.21' performs emergency braking on lane 'end4_junction_1' with decel=9.00, wished=5.00, severity=1.00, time=300.00.\n",
      "Warning: Vehicle 'CWE.21' performs emergency stop at the end of lane 'end4_junction_1' because of a red traffic light (decel=-22.90, offset=0.12), time=300.01.\n"
     ]
    },
    {
     "name": "stdout",
     "output_type": "stream",
     "text": [
      "state : [ 0  0  6  0  0 10  0  0  0  0  0  2  0  0  0  0  0  0  0  0  0  0  0  0\n",
      "  0  1  9  2  2 12  4  0  0  1  8  2  0  0  0  4  6  4  0  0  0  0  2  1]\n",
      "Q_values : [-4.8318496  0.7042486  2.4924126  1.6418557]\n",
      "state : [ 0  0 13  0  0 12  0  0  0  0  0  2  0  0  0  0  0  0  0  0  0  0  0  0\n",
      "  0  0 16  2  2 14  4  0  0  0  3  2  0  0  0  2  5  0  0  0  0  0  0  0]\n",
      "Q_values : [1.0187898 9.14051   6.8090973 8.86474  ]\n",
      "Step #440.00 (0ms ?*RT. ?UPS, TraCI: 69ms, vehicles TOT 344 ACT 68 BUF 4)                 \r"
     ]
    },
    {
     "name": "stderr",
     "output_type": "stream",
     "text": [
      "Warning: Vehicle 'CNE.32' performs emergency braking on lane 'end1_junction_2' with decel=9.00, wished=5.00, severity=1.00, time=440.00.\n",
      "Warning: Vehicle 'CNE.32' performs emergency stop at the end of lane 'end1_junction_2' because of a red traffic light (decel=-9.59, offset=0.00), time=440.79.\n"
     ]
    },
    {
     "name": "stdout",
     "output_type": "stream",
     "text": [
      "Step #500.00 (0ms ?*RT. ?UPS, TraCI: 71ms, vehicles TOT 384 ACT 57 BUF 0)                 \r"
     ]
    },
    {
     "name": "stderr",
     "output_type": "stream",
     "text": [
      "Warning: Vehicle 'CES.13' performs emergency braking on lane 'end2_junction_2' with decel=9.00, wished=5.00, severity=1.00, time=500.00.\n",
      "Warning: Vehicle 'CES.13' performs emergency stop at the end of lane 'end2_junction_2' because of a red traffic light (decel=-18.26, offset=0.05), time=500.50.\n"
     ]
    },
    {
     "name": "stdout",
     "output_type": "stream",
     "text": [
      "state : [ 0  0  6  0  0  3  0  0  0  0 10  0  0  0  0  0  0  0  0  0  0  0  0  0\n",
      "  0  1  9  2  2  5  4  0  0  1 14  0  0  1  0  3  1  1  0  1  0  0  0  0]\n",
      "Q_values : [-3.9609113  2.2866616  4.631414   3.5784268]\n",
      "Step #660.00 (1ms ~= 10.00*RT, ~63000.00UPS, TraCI: 69ms, vehicles TOT 517 ACT 63 BUF 5)  \r"
     ]
    },
    {
     "name": "stderr",
     "output_type": "stream",
     "text": [
      "Warning: Vehicle 'CNE.47' performs emergency braking on lane 'end1_junction_2' with decel=9.00, wished=5.00, severity=1.00, time=660.00.\n",
      "Warning: Vehicle 'CNE.47' performs emergency stop at the end of lane 'end1_junction_2' because of a red traffic light (decel=-15.07, offset=0.03), time=660.21.\n"
     ]
    },
    {
     "name": "stdout",
     "output_type": "stream",
     "text": [
      "state : [ 0  5  2  0  6  0  0  6  1  0  1  0  0  0  0  0  0  0  0  0  0  0  0  0\n",
      "  1  6  2  5 11  8  0  6  2  1  2  0  4  0  2  2  0  0  1  0  9  1  0  0]\n",
      "Q_values : [-2.4325428  2.3872283 -1.5051477 -2.9116728]\n",
      "state : [ 0  6  0  0 10  7  0  6  0  0  2  0  0  0  0  0  0  0  0  0  0  0  0  0\n",
      "  0  6  2  5 14 12  2  6  0  0  4  0  3  0  0  0  0  1  2  0  3  2  0  2]\n",
      "Q_values : [-2.8011386  1.9377419  9.544398   4.832542 ]\n",
      "state : [ 0  0  2  0  4 14  0  0  0  0  0  0  0  0  0  0  0  0  0  0  0  0  0  0\n",
      "  0  0  4  5  9 18  2  0  0  0  2  0  4  3  2  0  0  0  0  3  2  0  1  0]\n",
      "Q_values : [-3.6558309  -0.34634697  6.389412    7.7232943 ]\n",
      "Step #860.00 (0ms ?*RT. ?UPS, TraCI: 70ms, vehicles TOT 665 ACT 56 BUF 1)                 \r"
     ]
    },
    {
     "name": "stderr",
     "output_type": "stream",
     "text": [
      "Warning: Vehicle 'CESR.16' performs emergency braking on lane 'end2_junction_2' with decel=9.00, wished=5.00, severity=1.00, time=860.00.\n",
      "Warning: Vehicle 'CESR.16' performs emergency stop at the end of lane 'end2_junction_2' because of a red traffic light (decel=-11.75, offset=0.02), time=860.57.\n"
     ]
    },
    {
     "name": "stdout",
     "output_type": "stream",
     "text": [
      "state : [ 0  0  0  0 12 10  0  0  0  0  3  0  0  0  0  0  0  0  0  0  0  0  0  0\n",
      "  0  0  0  7 15 13  1  0  0  0  4  0  4  0  0  0  0  4  0  0  2  0  0  0]\n",
      "Q_values : [ 0.42266273  2.930001   16.002172   13.785873  ]\n",
      "state : [ 0  2  0  0 13 12  0  2  0  0  4  0  0  0  0  0  0  0  0  0  0  0  0  0\n",
      "  0  2  0  5 17 16  0  2  0  0  4  0  4  0  0  2  0  2  0  0  0  0  0  0]\n",
      "Q_values : [-1.8205173  2.7045996 13.5124     8.871558 ]\n",
      "state : [ 0  0  0  0  6 25  0  0  0  0  2  0  0  0  0  0  0  0  0  0  0  0  0  0\n",
      "  3  1  2  5 10 30  4  2  0  3  3  2  3  0  0  2  0  3  0  0  0  0  0  0]\n",
      "Q_values : [-4.70614   -0.9639288  4.338269   8.009915 ]\n",
      "Step #1060.00 (0ms ?*RT. ?UPS, TraCI: 70ms, vehicles TOT 818 ACT 75 BUF 4)                \r"
     ]
    },
    {
     "name": "stderr",
     "output_type": "stream",
     "text": [
      "Warning: Vehicle 'CESR.27' performs emergency braking on lane 'end2_junction_2' with decel=9.00, wished=5.00, severity=1.00, time=1060.00.\n",
      "Warning: Vehicle 'CESR.27' performs emergency stop at the end of lane 'end2_junction_2' because of a red traffic light (decel=-14.59, offset=0.03), time=1060.28.\n"
     ]
    },
    {
     "name": "stdout",
     "output_type": "stream",
     "text": [
      "Step #1081.00 (0ms ?*RT. ?UPS, TraCI: 0ms, vehicles TOT 835 ACT 76 BUF 5)                 \r"
     ]
    },
    {
     "name": "stderr",
     "output_type": "stream",
     "text": [
      "Warning: Vehicle 'AEWR.37' performs emergency stop at the end of lane 'end2_junction_1' because of a red traffic light (decel=-13.36, offset=0.02), time=1081.11.\n"
     ]
    },
    {
     "name": "stdout",
     "output_type": "stream",
     "text": [
      "Step #1200.00 (1ms ~= 10.00*RT, ~97000.00UPS, TraCI: 69ms, vehicles TOT 924 ACT 97 BUF 0) \r"
     ]
    },
    {
     "name": "stderr",
     "output_type": "stream",
     "text": [
      "Warning: Vehicle 'ASNR.4' performs emergency braking on lane 'end3_junction_1' with decel=9.00, wished=5.00, severity=1.00, time=1200.00.\n",
      "Warning: Vehicle 'ASNR.4' performs emergency stop at the end of lane 'end3_junction_1' because of a red traffic light (decel=-30.63, offset=0.15), time=1200.92.\n"
     ]
    },
    {
     "name": "stdout",
     "output_type": "stream",
     "text": [
      "Step #1220.00 (0ms ?*RT. ?UPS, TraCI: 71ms, vehicles TOT 924 ACT 87 BUF 0)                \r"
     ]
    },
    {
     "name": "stderr",
     "output_type": "stream",
     "text": [
      "Warning: Vehicle 'AEWR.43' performs emergency stop at the end of lane 'end2_junction_1' because of a red traffic light (decel=-12.73, offset=0.02), time=1220.76.\n"
     ]
    },
    {
     "name": "stdout",
     "output_type": "stream",
     "text": [
      "state : [ 0  2  0  0 10 34  0  1  0  0  0  2  0  0  0  0  0  0  0  0  0  0  0  0\n",
      "  0  2  0  0 14 34  0  1  0  0  0  2  2  0  0  0  0  3  0  0  0  0  1  1]\n",
      "Q_values : [ 5.0669694  9.091242  18.676163  27.414307 ]\n",
      "Step #1261.00 (0ms ?*RT. ?UPS, TraCI: 0ms, vehicles TOT 924 ACT 51 BUF 0)                 \r"
     ]
    },
    {
     "name": "stderr",
     "output_type": "stream",
     "text": [
      "Warning: Vehicle 'CESR.38' performs emergency braking on lane 'end2_junction_2' with decel=9.00, wished=5.00, severity=1.00, time=1261.37.\n"
     ]
    },
    {
     "name": "stdout",
     "output_type": "stream",
     "text": [
      "state : [ 0  2  0  0  0 11  0  1  0  0  0  0  0  0  0  0  0  0  0  0  0  0  0  0\n",
      "  0  2  0  0  2 23  0  1  0  0  0  0  0  0  0  0  0  0  0  0  2  0  7  3]\n",
      "Q_values : [-4.5707793  -0.8613955   0.11955404  4.858606  ]\n",
      "episode : 26\n",
      "Step #1300.00 (0ms ?*RT. ?UPS, TraCI: 0ms, vehicles TOT 924 ACT 29 BUF 0)                 \n",
      " Retrying in 1 seconds\n"
     ]
    },
    {
     "name": "stderr",
     "output_type": "stream",
     "text": [
      "Warning: Environment variable SUMO_HOME is not set properly, disabling XML validation. Set 'auto' or 'always' for web lookups.\n"
     ]
    },
    {
     "name": "stdout",
     "output_type": "stream",
     "text": [
      "state : [ 0  0 10  0  4  4  0  0  2  0 10  2  0  0  0  0  0  0  0  0  0  0  0  0\n",
      "  0  1 13  4  5  4  4  0  2  1 13  2  2  0  0  4  0  0  0  0  0  0  0  0]\n",
      "Q_values : [ 2.890936 11.565265 12.737732 12.90227 ]\n",
      "state : [ 0  0 17  0  6  0  0  0  2  0 17  0  0  0  0  0  0  0  0  0  0  0  0  0\n",
      "  0  0 20  3  8  1  4  0  2  0 20  0  2  0  0  4  0  0  0  0  1  0  0  0]\n",
      "Q_values : [ 8.125179 21.636932 21.623833 10.885568]\n",
      "state : [ 0  0  0  0  7  0  0  0  0  0 20  0  0  0  0  0  0  0  0  0  0  0  0  0\n",
      "  0  1 12  0  8  2  4  0  0  1 23  0  2  0  0  4  0 10  0  0  0  0  0  1]\n",
      "Q_values : [ 4.0839744 10.9348955 16.30188    5.013982 ]\n",
      "Step #141.00 (0ms ?*RT. ?UPS, TraCI: 0ms, vehicles TOT 108 ACT 68 BUF 0)                  \r"
     ]
    },
    {
     "name": "stderr",
     "output_type": "stream",
     "text": [
      "Warning: Vehicle 'CNE.5' performs emergency braking on lane 'end1_junction_2' with decel=9.00, wished=5.00, severity=1.00, time=140.00.\n",
      "Warning: Vehicle 'CNE.5' performs emergency braking on lane 'end1_junction_2' with decel=9.00, wished=5.00, severity=1.00, time=141.20.\n"
     ]
    },
    {
     "name": "stdout",
     "output_type": "stream",
     "text": [
      "state : [ 0  0 11  0  0  2  0  0  0  0  0  0  0  0  0  0  0  0  0  0  0  0  0  0\n",
      "  3  2 16  2  3  3  5  3  1  3 16  1  1  0  0  3  6  7  0  0  0  0  4  3]\n",
      "Q_values : [-8.882755  -4.0682716 -3.2887647 -5.226663 ]\n",
      "Step #181.00 (0ms ?*RT. ?UPS, TraCI: 0ms, vehicles TOT 148 ACT 69 BUF 8)                  \r"
     ]
    },
    {
     "name": "stderr",
     "output_type": "stream",
     "text": [
      "Warning: Vehicle 'CWE.12' performs emergency braking on lane 'end4_junction_1' with decel=9.00, wished=5.00, severity=1.00, time=180.00.\n",
      "Warning: Vehicle 'CWE.12' performs emergency stop at the end of lane 'end4_junction_1' because of a red traffic light (decel=-12.17, offset=0.02), time=181.18.\n"
     ]
    },
    {
     "name": "stdout",
     "output_type": "stream",
     "text": [
      "state : [ 0  0 19  0  0  4  0  0  2  0  5  2  0  0  0  0  0  0  0  0  0  0  0  0\n",
      "  0  1 22  2  2  6  4  0  2  1  8  2  0  1  0  3  1  0  0  1  0  0  0  0]\n",
      "Q_values : [-1.0961809 12.250206   7.808249   3.0199704]\n",
      "state : [ 0  0  0  0  2  8  0  0  0  0  2  2  0  0  0  0  0  0  0  0  0  0  0  0\n",
      "  0  1 10  4  3  8  4  0  0  1  6  2  2  0  0  4  2  8  0  0  0  0  0  0]\n",
      "Q_values : [-7.5071115  -3.3875256  -0.46010828 -0.47416708]\n",
      "Step #261.00 (0ms ?*RT. ?UPS, TraCI: 0ms, vehicles TOT 204 ACT 57 BUF 0)                  \r"
     ]
    },
    {
     "name": "stderr",
     "output_type": "stream",
     "text": [
      "Warning: Vehicle 'CNE.16' performs emergency braking on lane 'end1_junction_2' with decel=9.00, wished=5.00, severity=1.00, time=260.00.\n",
      "Warning: Vehicle 'CNE.16' performs emergency braking on lane 'end1_junction_2' with decel=9.00, wished=5.00, severity=1.00, time=261.06.\n"
     ]
    },
    {
     "name": "stdout",
     "output_type": "stream",
     "text": [
      "Step #321.00 (0ms ?*RT. ?UPS, TraCI: 0ms, vehicles TOT 252 ACT 66 BUF 0)                  \r"
     ]
    },
    {
     "name": "stderr",
     "output_type": "stream",
     "text": [
      "Warning: Vehicle 'CEW.8' performs emergency braking on lane 'end2_junction_1' with decel=9.00, wished=5.00, severity=1.00, time=320.00.\n",
      "Warning: Vehicle 'CEW.8' performs emergency stop at the end of lane 'end2_junction_1' because of a red traffic light (decel=-16.31, offset=0.03), time=321.03.\n"
     ]
    },
    {
     "name": "stdout",
     "output_type": "stream",
     "text": [
      "state : [ 0  2  0  0  1 12  0  2  0  0  3  4  0  0  0  0  0  0  0  0  0  0  0  0\n",
      "  1  2 13  2  3 14  6  2  0  1  7  4  2  0  0  1  1  9  0  0  0  0  0  1]\n",
      "Q_values : [-4.4705534 -0.5649148  4.533124   4.391831 ]\n",
      "state : [ 0  2 10  0  0 13  0  2  0  0  0  4  0  0  0  0  0  0  0  0  0  0  0  0\n",
      "  0  2 16  0  0 14  4  2  0  0  3  4  2  0  0  4  4  6  0  0  0  0  3  0]\n",
      "Q_values : [1.0973978 9.128546  4.181837  8.442701 ]\n",
      "Step #380.00 (0ms ?*RT. ?UPS, TraCI: 70ms, vehicles TOT 294 ACT 62 BUF 0)                 \r"
     ]
    },
    {
     "name": "stderr",
     "output_type": "stream",
     "text": [
      "Warning: Vehicle 'CNE.27' performs emergency braking on lane 'end1_junction_2' with decel=9.00, wished=5.00, severity=1.00, time=380.00.\n",
      "Warning: Vehicle 'CNE.27' performs emergency stop at the end of lane 'end1_junction_2' because of a red traffic light (decel=-14.67, offset=0.00), time=380.24.\n"
     ]
    },
    {
     "name": "stdout",
     "output_type": "stream",
     "text": [
      "state : [ 0  0  8  0  2 16  0  0  0  0  6  4  0  0  0  0  0  0  0  0  0  0  0  0\n",
      "  1  0 12  2  2 16  5  0  0  1 10  4  1  2  0  3  0  2  0  1  0  0  0  0]\n",
      "Q_values : [ 0.9106355  6.505928  15.134184  11.110762 ]\n",
      "Step #442.00 (0ms ?*RT. ?UPS, TraCI: 0ms, vehicles TOT 348 ACT 77 BUF 0)                  \r"
     ]
    },
    {
     "name": "stderr",
     "output_type": "stream",
     "text": [
      "Warning: Teleporting vehicle 'AES.3'; waited too long (yield), lane='end2_junction_2', time=442.11.\n",
      "Warning: Vehicle 'AES.3' ends teleporting on edge 'junction_end3', time=442.11.\n"
     ]
    },
    {
     "name": "stdout",
     "output_type": "stream",
     "text": [
      "Step #477.00 (0ms ?*RT. ?UPS, TraCI: 0ms, vehicles TOT 372 ACT 86 BUF 0)                  \r"
     ]
    },
    {
     "name": "stderr",
     "output_type": "stream",
     "text": [
      "Warning: Teleporting vehicle 'AWN.1'; waited too long (yield), lane='end4_junction_2', time=477.35.\n",
      "Warning: Vehicle 'AWN.1' ends teleporting on edge 'junction_end1', time=477.35.\n"
     ]
    },
    {
     "name": "stdout",
     "output_type": "stream",
     "text": [
      "state : [ 0  0  0  0  3 20  0  0  0  0 10  5  0  0  0  0  0  0  0  0  0  0  0  0\n",
      "  0  1 17  0  4 21  4  0  0  1 13  5  1  0  0  4  0  9  0  0  0  0  0  2]\n",
      "Q_values : [ 1.40307    6.2921476 19.180086  13.906354 ]\n",
      "Step #520.00 (1ms ~= 10.00*RT, ~87000.00UPS, TraCI: 71ms, vehicles TOT 402 ACT 87 BUF 0)  \r"
     ]
    },
    {
     "name": "stderr",
     "output_type": "stream",
     "text": [
      "Warning: Vehicle 'AWE.41' performs emergency stop at the end of lane 'end4_junction_1' because of a red traffic light (decel=-11.40, offset=0.01), time=520.90.\n"
     ]
    },
    {
     "name": "stdout",
     "output_type": "stream",
     "text": [
      "Step #600.00 (1ms ~= 10.00*RT, ~73000.00UPS, TraCI: 95ms, vehicles TOT 466 ACT 73 BUF 20) \r"
     ]
    },
    {
     "name": "stderr",
     "output_type": "stream",
     "text": [
      "Warning: Vehicle 'CNE.38' performs emergency braking on lane 'end1_junction_2' with decel=9.00, wished=5.00, severity=1.00, time=600.00.\n",
      "Warning: Vehicle 'CNE.38' performs emergency stop at the end of lane 'end1_junction_2' because of a red traffic light (decel=-12.53, offset=0.02), time=600.47.\n"
     ]
    },
    {
     "name": "stdout",
     "output_type": "stream",
     "text": [
      "state : [ 0  4 26  0  0 11  0  4  4  0  0  4  0  0  0  0  0  0  0  0  0  0  0  0\n",
      "  0  4 27  5  4 15  2  4  4  0  1  4  4  0  0  0  1  0  0  0  0  0  3  0]\n",
      "Q_values : [11.955181 21.493269 12.397513 20.522827]\n",
      "Step #661.00 (0ms ?*RT. ?UPS, TraCI: 1ms, vehicles TOT 517 ACT 78 BUF 5)                  \r"
     ]
    },
    {
     "name": "stderr",
     "output_type": "stream",
     "text": [
      "Warning: Vehicle 'CEWR.2' performs emergency braking on lane 'end2_junction_1' with decel=9.00, wished=5.00, severity=1.00, time=660.00.\n",
      "Warning: Vehicle 'CEWR.2' performs emergency stop at the end of lane 'end2_junction_1' because of a red traffic light (decel=-14.57, offset=0.00), time=661.22.\n"
     ]
    },
    {
     "name": "stdout",
     "output_type": "stream",
     "text": [
      "state : [ 0  4 10  0  6  0  0  4  0  0  2  0  0  0  0  0  0  0  0  0  0  0  0  0\n",
      "  0  4 18  7 10 10  2  4  0  0  3  0  3  0  3  0  0  3  0  0  9  0  0  0]\n",
      "Q_values : [-6.8006144   7.096474   -0.35710096 -2.2806907 ]\n",
      "state : [ 0  6  0  0  0 23  0  6  0  0  0  2  0  0  0  0  0  0  0  0  0  0  0  0\n",
      "  0  6  2  5  4 28  2  6  0  0  2  2  3  0  0  0  1  0  2  0  0  2  6  4]\n",
      "Q_values : [ 7.502657   5.5073085  6.270811  16.024035 ]\n",
      "Step #820.00 (0ms ?*RT. ?UPS, TraCI: 80ms, vehicles TOT 638 ACT 74 BUF 4)                 \r"
     ]
    },
    {
     "name": "stderr",
     "output_type": "stream",
     "text": [
      "Warning: Vehicle 'CESR.8' performs emergency braking on lane 'end2_junction_2' with decel=9.00, wished=5.00, severity=1.00, time=820.00.\n",
      "Warning: Vehicle 'CESR.8' performs emergency stop at the end of lane 'end2_junction_2' because of a red traffic light (decel=-9.70, offset=0.01), time=820.74.\n"
     ]
    },
    {
     "name": "stdout",
     "output_type": "stream",
     "text": [
      "state : [ 0  6  0  0  6 11  0  6  0  0  2  0  0  0  0  0  0  0  0  0  0  0  0  0\n",
      "  0  6  1  5 11 23  2  6  0  0  4  0  4  0  0  0  0  1  0  0  2  0  0  0]\n",
      "Q_values : [-0.85724425  2.2449775   6.9428453   7.0388613 ]\n",
      "Step #1000.00(0ms ?*RT. ?UPS, TraCI: 0ms, vehicles TOT 770 ACT 88 BUF 4)                  "
     ]
    },
    {
     "name": "stderr",
     "output_type": "stream",
     "text": [
      "Warning: Vehicle 'CESR.19' performs emergency braking on lane 'end2_junction_2' with decel=9.00, wished=5.00, severity=1.00, time=1000.00.\n"
     ]
    },
    {
     "name": "stdout",
     "output_type": "stream",
     "text": [
      "state : [ 0  2  0  0 30  0  0  0  0  0  4  0  0  0  0  0  0  0  0  0  0  0  0  0\n",
      "  0  2  2  6 34 25  2  0  0  0  6  0  4  0  0  1  0  0  0  0  9  0  0  0]\n",
      "Q_values : [-8.075621  -9.389204   8.571762  -4.9495726]\n",
      "Step #1120.00 (0ms ?*RT. ?UPS, TraCI: 95ms, vehicles TOT 860 ACT 92 BUF 4)                \r"
     ]
    },
    {
     "name": "stderr",
     "output_type": "stream",
     "text": [
      "Warning: Vehicle 'CESR.30' performs emergency braking on lane 'end2_junction_2' with decel=9.00, wished=5.00, severity=1.00, time=1120.00.\n",
      "Warning: Vehicle 'CESR.30' performs emergency stop at the end of lane 'end2_junction_2' because of a red traffic light (decel=-13.84, offset=0.02), time=1120.33.\n"
     ]
    },
    {
     "name": "stdout",
     "output_type": "stream",
     "text": [
      "state : [ 0  2  2  0  4 11  0  0  0  0  0  0  0  0  0  0  0  0  0  0  0  0  0  0\n",
      "  0  2  2  5 25 29  0  0  0  0  0  0  4  0  0  1  4  2  0  0  2  0  7  3]\n",
      "Q_values : [-15.136963  -12.588835   -0.9521948  -0.4197   ]\n",
      "state : [ 0  0  0  0 32 24  0  0  0  0  2  0  0  0  0  0  0  0  0  0  0  0  0  0\n",
      "  2  2  2  5 35 28  2  1  2  2  4  2  4  1  0  0  0  0  0  1  0  0  0  0]\n",
      "Q_values : [ 2.8816576  6.855675  26.096754  19.239466 ]\n",
      "Step #1200.00 (0ms ?*RT. ?UPS, TraCI: 94ms, vehicles TOT 924 ACT 93 BUF 0)                \r"
     ]
    },
    {
     "name": "stderr",
     "output_type": "stream",
     "text": [
      "Warning: Vehicle 'ASNR.4' performs emergency braking on lane 'end3_junction_1' with decel=9.00, wished=5.00, severity=1.00, time=1200.00.\n",
      "Warning: Vehicle 'ASNR.4' performs emergency stop at the end of lane 'end3_junction_1' because of a red traffic light (decel=-30.80, offset=0.05), time=1200.90.\n"
     ]
    },
    {
     "name": "stdout",
     "output_type": "stream",
     "text": [
      "Step #1260.00 (0ms ?*RT. ?UPS, TraCI: 73ms, vehicles TOT 924 ACT 56 BUF 0)                \r"
     ]
    },
    {
     "name": "stderr",
     "output_type": "stream",
     "text": [
      "Warning: Vehicle 'CESR.41' performs emergency braking on lane 'end2_junction_2' with decel=9.00, wished=5.00, severity=1.00, time=1260.00.\n",
      "Warning: Vehicle 'CESR.41' performs emergency stop at the end of lane 'end2_junction_2' because of a red traffic light (decel=-13.86, offset=0.03), time=1260.37.\n"
     ]
    },
    {
     "name": "stdout",
     "output_type": "stream",
     "text": [
      "episode : 27\n",
      "Step #1300.00 (0ms ?*RT. ?UPS, TraCI: 0ms, vehicles TOT 924 ACT 33 BUF 0)                 \n",
      " Retrying in 1 seconds\n"
     ]
    },
    {
     "name": "stderr",
     "output_type": "stream",
     "text": [
      "Warning: Environment variable SUMO_HOME is not set properly, disabling XML validation. Set 'auto' or 'always' for web lookups.\n"
     ]
    },
    {
     "name": "stdout",
     "output_type": "stream",
     "text": [
      "state : [0 0 0 0 0 0 0 0 0 0 0 0 0 0 0 0 0 0 0 0 0 0 0 0 2 3 3 2 2 2 4 2 2 3 3 2 0\n",
      " 0 0 0 0 0 0 0 0 0 0 0]\n",
      "Q_values : [-11.368225   -8.691738   -7.318906  -11.3336115]\n",
      "state : [ 0  0  6  0  0  2  0  0  2  0  2  2  0  0  0  0  0  0  0  0  0  0  0  0\n",
      "  0  0 10  2  2  4  4  0  2  0  6  2  0  1  0  3  1  0  0  1  0  0  0  0]\n",
      "Q_values : [-4.971475   4.601672   0.7657143 -1.5080249]\n",
      "state : [0 0 0 0 2 4 0 0 0 0 6 2 0 0 0 0 0 0 0 0 0 0 0 0 0 1 3 4 3 4 4 0 0 1 9 2 2\n",
      " 0 0 4 0 9 0 0 0 0 0 1]\n",
      "Q_values : [-3.2655    -0.6142117  5.130155   5.7465553]\n",
      "state : [ 0  0  3  0  2  0  0  0  0  0  9  0  0  0  0  0  0  0  0  0  0  0  0  0\n",
      "  1  0  7  1  4  2  5  0  0  1 13  0  0  0  1  3  0  1  0  0  3  0  0  0]\n",
      "Q_values : [-3.5066824  3.338691   4.1021085 -0.2169593]\n",
      "state : [ 0  0 10  0  1  0  0  0  0  0  4  0  0  0  0  0  0  0  0  0  0  0  0  0\n",
      "  0  1 13  0  2  1  4  0  0  1  7  0  2  0  0  3  1  1  0  0  2  0  0  0]\n",
      "Q_values : [-2.9310536   6.9939404   3.9583406   0.02314675]\n",
      "Step #141.00 (0ms ?*RT. ?UPS, TraCI: 0ms, vehicles TOT 108 ACT 37 BUF 0)                  \r"
     ]
    },
    {
     "name": "stderr",
     "output_type": "stream",
     "text": [
      "Warning: Vehicle 'CES.3' performs emergency braking on lane 'end2_junction_2' with decel=9.00, wished=5.00, severity=1.00, time=140.00.\n",
      "Warning: Vehicle 'CES.3' performs emergency stop at the end of lane 'end2_junction_2' because of a red traffic light (decel=-13.45, offset=0.01), time=141.16.\n"
     ]
    },
    {
     "name": "stdout",
     "output_type": "stream",
     "text": [
      "Step #160.00 (0ms ?*RT. ?UPS, TraCI: 71ms, vehicles TOT 138 ACT 59 BUF 0)                 \r"
     ]
    },
    {
     "name": "stderr",
     "output_type": "stream",
     "text": [
      "Warning: Vehicle 'CNE.10' performs emergency braking on lane 'end1_junction_2' with decel=9.00, wished=5.00, severity=1.00, time=160.00.\n",
      "Warning: Vehicle 'CNE.10' performs emergency stop at the end of lane 'end1_junction_2' because of a red traffic light (decel=-14.39, offset=0.05), time=160.26.\n"
     ]
    },
    {
     "name": "stdout",
     "output_type": "stream",
     "text": [
      "state : [ 0  2  3  0  6  0  0  2  0  0 17  0  0  0  0  0  0  0  0  0  0  0  0  0\n",
      "  1  2  7  2  6  0  6  2  0  1 21  0  2  0  0  2  0  1  0  0  2  0  0  0]\n",
      "Q_values : [ 4.4065137 13.10195   15.701617   8.862654 ]\n",
      "state : [ 0  2 10  0  1  0  0  2  0  0 10  0  0  0  0  0  0  0  0  0  0  0  0  0\n",
      "  0  3 13  4  2  0  4  2  0  1 15  0  2  0  0  3  2  0  0  0  2  0  0  0]\n",
      "Q_values : [ 0.39584398 10.753831    9.649263    4.2320776 ]\n",
      "state : [ 0  2  0  0  1  0  0  2  0  0 15  0  0  0  0  0  0  0  0  0  0  0  0  0\n",
      "  1  2  6  1  3  2  6  2  0  1 19  0  0  0  0  3  0  9  0  0  0  0  0  0]\n",
      "Q_values : [-1.1358702  5.6424184  8.915203   1.2203231]\n",
      "Step #281.00 (0ms ?*RT. ?UPS, TraCI: 0ms, vehicles TOT 216 ACT 56 BUF 0)                  \r"
     ]
    },
    {
     "name": "stderr",
     "output_type": "stream",
     "text": [
      "Warning: Vehicle 'CNE.20' performs emergency braking on lane 'end1_junction_2' with decel=9.00, wished=5.00, severity=1.00, time=280.00.\n",
      "Warning: Vehicle 'CNE.20' performs emergency braking on lane 'end1_junction_2' with decel=9.00, wished=5.00, severity=1.00, time=281.24.\n"
     ]
    },
    {
     "name": "stdout",
     "output_type": "stream",
     "text": [
      "Step #300.00 (1ms ~= 10.00*RT, ~73000.00UPS, TraCI: 71ms, vehicles TOT 243 ACT 73 BUF 3)  \r"
     ]
    },
    {
     "name": "stderr",
     "output_type": "stream",
     "text": [
      "Warning: Vehicle 'AWE.20' performs emergency stop at the end of lane 'end4_junction_1' because of a red traffic light (decel=-12.84, offset=0.00), time=300.75.\n"
     ]
    },
    {
     "name": "stdout",
     "output_type": "stream",
     "text": [
      "Step #320.00 (0ms ?*RT. ?UPS, TraCI: 71ms, vehicles TOT 252 ACT 58 BUF 0)                 \r"
     ]
    },
    {
     "name": "stderr",
     "output_type": "stream",
     "text": [
      "Warning: Vehicle 'ANS.2' performs emergency braking on lane 'end1_junction_1' with decel=9.00, wished=5.00, severity=1.00, time=320.00.\n",
      "Warning: Vehicle 'ANS.2' performs emergency stop at the end of lane 'end1_junction_1' because of a red traffic light (decel=-22.41, offset=0.04), time=320.35.\n"
     ]
    },
    {
     "name": "stdout",
     "output_type": "stream",
     "text": [
      "Step #360.00 (0ms ?*RT. ?UPS, TraCI: 69ms, vehicles TOT 280 ACT 60 BUF 8)                 \r"
     ]
    },
    {
     "name": "stderr",
     "output_type": "stream",
     "text": [
      "Warning: Vehicle 'AWE.26' performs emergency stop at the end of lane 'end4_junction_1' because of a red traffic light (decel=-12.94, offset=0.01), time=360.74.\n"
     ]
    },
    {
     "name": "stdout",
     "output_type": "stream",
     "text": [
      "state : [ 0  1  0  0  2  2  0  0  0  0 11  0  0  0  0  0  0  0  0  0  0  0  0  0\n",
      "  1  1 15  2  2  2  5  0  0  1 15  0  2  0  0  2  0  9  0  0  0  0  0  1]\n",
      "Q_values : [-6.3234625  -0.99869573  0.88830435 -3.081108  ]\n",
      "state : [ 0  1 18  0  0  4  0  0  0  0  0  0  0  0  0  0  0  0  0  0  0  0  0  0\n",
      "  4  2 20  4  1  4  6  1  0  4  3  0  2  0  0  4  4  2  0  0  0  0  1  0]\n",
      "Q_values : [ 1.0208855   7.684952   -0.98341835  2.12313   ]\n",
      "Step #440.00 (0ms ?*RT. ?UPS, TraCI: 91ms, vehicles TOT 344 ACT 62 BUF 4)                 \r"
     ]
    },
    {
     "name": "stderr",
     "output_type": "stream",
     "text": [
      "Warning: Vehicle 'AWE.35' performs emergency stop at the end of lane 'end4_junction_1' because of a red traffic light (decel=-35.15, offset=0.02), time=440.75.\n"
     ]
    },
    {
     "name": "stdout",
     "output_type": "stream",
     "text": [
      "Step #460.00 (1ms ~= 10.00*RT, ~64000.00UPS, TraCI: 72ms, vehicles TOT 360 ACT 64 BUF 0)  \r"
     ]
    },
    {
     "name": "stderr",
     "output_type": "stream",
     "text": [
      "Warning: Vehicle 'CNE.31' performs emergency braking on lane 'end1_junction_2' with decel=9.00, wished=5.00, severity=1.00, time=460.00.\n",
      "Warning: Vehicle 'CNE.31' performs emergency stop at the end of lane 'end1_junction_2' because of a red traffic light (decel=-10.99, offset=0.00), time=460.64.\n"
     ]
    },
    {
     "name": "stdout",
     "output_type": "stream",
     "text": [
      "state : [ 0  3 11  0  0  6  0  2  2  0  0  2  0  0  0  0  0  0  0  0  0  0  0  0\n",
      "  0  3 17  2  3  7  4  2  2  0  3  2  2  0  0  3  5  5  2  0  0  1  1  1]\n",
      "Q_values : [ 4.3312716 12.3738     3.4174106  7.3825984]\n",
      "Step #560.00 (0ms ?*RT. ?UPS, TraCI: 0ms, vehicles TOT 426 ACT 57 BUF 0)                  "
     ]
    },
    {
     "name": "stderr",
     "output_type": "stream",
     "text": [
      "Warning: Vehicle 'CNE.42' performs emergency braking on lane 'end1_junction_2' with decel=9.00, wished=5.00, severity=1.00, time=560.00.\n"
     ]
    },
    {
     "name": "stdout",
     "output_type": "stream",
     "text": [
      "state : [ 0  2  0  0 10  9  0  2  0  0 25  4  0  0  0  0  0  0  0  0  0  0  0  0\n",
      "  1  3  0  7 13 12  2  2  0  1 26  4  2  0  0  3  0  5  2  0  0  2  0  3]\n",
      "Q_values : [10.341536 15.890168 27.18413  19.441092]\n",
      "state : [ 0  0  2  0  4 15  0  0  0  0 10  4  0  0  0  0  0  0  0  0  0  0  0  0\n",
      "  0  1  3  5  8 20  2  0  0  1 16  4  2  1  1  1  1  1  0  1  0  0  1  0]\n",
      "Q_values : [-0.33159828  5.4697146  11.922174    9.456917  ]\n",
      "state : [ 0  0  3  0  0 19  0  0  0  0  0  4  0  0  0  0  0  0  0  0  0  0  0  0\n",
      "  0  0  4  7  3 22  1  0  0  0  5  4  2  0  0  1  7  3  0  0  0  0  4  3]\n",
      "Q_values : [-0.49724627  1.2701645   5.8314342  11.334522  ]\n",
      "state : [ 0  0  4  0  2  0  0  0  0  0  5  0  0  0  0  0  0  0  0  0  0  0  0  0\n",
      "  0  0  6  5  7 15  2  0  0  0  7  0  4  0  3  1  0  3  0  0  9  0  0  0]\n",
      "Q_values : [-9.022768  -3.6704106  0.6200111 -0.470872 ]\n",
      "Step #720.00 (1ms ~= 10.00*RT, ~64000.00UPS, TraCI: 92ms, vehicles TOT 559 ACT 64 BUF 5)  \r"
     ]
    },
    {
     "name": "stderr",
     "output_type": "stream",
     "text": [
      "Warning: Vehicle 'CESR.2' performs emergency braking on lane 'end2_junction_2' with decel=9.00, wished=5.00, severity=1.00, time=720.00.\n",
      "Warning: Vehicle 'CESR.2' performs emergency stop at the end of lane 'end2_junction_2' because of a red traffic light (decel=-13.82, offset=0.00), time=720.30.\n"
     ]
    },
    {
     "name": "stdout",
     "output_type": "stream",
     "text": [
      "state : [ 0  0  6  0  0 18  0  0  0  0  0  0  0  0  0  0  0  0  0  0  0  0  0  0\n",
      "  2  2  8  7  3 21  2  2  2  2  2  2  3  0  0  0  0  0  0  0  0  0  3  0]\n",
      "Q_values : [-3.9452202  -1.129157   -0.45211613  4.7653165 ]\n",
      "state : [ 0  2  0  0  6 10  0  2  0  0  2  0  0  0  0  0  0  0  0  0  0  0  0  0\n",
      "  0  2  2  5 10 18  2  2  0  0  4  0  3  0  0  0  0  7  2  0  3  2  0  2]\n",
      "Q_values : [-5.943619  -3.1086946  5.1249456  7.4337244]\n",
      "Step #820.00 (0ms ?*RT. ?UPS, TraCI: 71ms, vehicles TOT 638 ACT 61 BUF 4)                 \r"
     ]
    },
    {
     "name": "stderr",
     "output_type": "stream",
     "text": [
      "Warning: Vehicle 'CESR.13' performs emergency braking on lane 'end2_junction_2' with decel=9.00, wished=5.00, severity=1.00, time=820.00.\n",
      "Warning: Vehicle 'CESR.13' performs emergency stop at the end of lane 'end2_junction_2' because of a red traffic light (decel=-12.32, offset=0.03), time=820.47.\n"
     ]
    },
    {
     "name": "stdout",
     "output_type": "stream",
     "text": [
      "state : [ 0  2  0  0 13  9  0  2  0  0  4  0  0  0  0  0  0  0  0  0  0  0  0  0\n",
      "  0  2  1  5 17 13  2  2  0  0  6  0  4  0  0  0  0  1  0  0  2  0  0  0]\n",
      "Q_values : [-2.5731866  0.6792735 12.185028  10.800009 ]\n",
      "state : [ 0  2  1  0  0 12  0  2  0  0  0  0  0  0  0  0  0  0  0  0  0  0  0  0\n",
      "  0  3  2  5  8 17  2  2  0  1  1  0  3  0  0  2  3  2  0  0  0  0  7  3]\n",
      "Q_values : [-6.9044123 -5.308499  -4.243808   4.7544146]\n",
      "Step #940.00 (0ms ?*RT. ?UPS, TraCI: 0ms, vehicles TOT 728 ACT 62 BUF 4)                  "
     ]
    },
    {
     "name": "stderr",
     "output_type": "stream",
     "text": [
      "Warning: Vehicle 'CENR.26' performs emergency braking on lane 'end2_junction_0' with decel=9.00, wished=5.00, severity=1.00, time=940.00.\n"
     ]
    },
    {
     "name": "stdout",
     "output_type": "stream",
     "text": [
      "Step #960.00 (0ms ?*RT. ?UPS, TraCI: 72ms, vehicles TOT 742 ACT 62 BUF 8)                 \r"
     ]
    },
    {
     "name": "stderr",
     "output_type": "stream",
     "text": [
      "Warning: Vehicle 'CESR.24' performs emergency braking on lane 'end2_junction_2' with decel=9.00, wished=5.00, severity=1.00, time=960.00.\n",
      "Warning: Vehicle 'CESR.24' performs emergency stop at the end of lane 'end2_junction_2' because of a red traffic light (decel=-13.65, offset=0.04), time=960.35.\n"
     ]
    },
    {
     "name": "stdout",
     "output_type": "stream",
     "text": [
      "state : [ 0  0  0  0 23  9  0  0  0  0  6  0  0  0  0  0  0  0  0  0  0  0  0  0\n",
      "  3  1  2  6 26 14  4  2  0  3  7  2  2  0  0  2  0  3  0  0  3  0  0  0]\n",
      "Q_values : [ 0.9452858  4.1524267 15.258178  10.197052 ]\n",
      "Step #1060.00 (1ms ~= 10.00*RT, ~78000.00UPS, TraCI: 70ms, vehicles TOT 818 ACT 78 BUF 4) \r"
     ]
    },
    {
     "name": "stderr",
     "output_type": "stream",
     "text": [
      "Warning: Vehicle 'AWER.12' performs emergency stop at the end of lane 'end4_junction_1' because of a red traffic light (decel=-17.30, offset=0.07), time=1060.93.\n"
     ]
    },
    {
     "name": "stdout",
     "output_type": "stream",
     "text": [
      "state : [ 0  0  0  0 24 23  0  0  0  0  4  2  0  0  0  0  0  0  0  0  0  0  0  0\n",
      "  0  0  2  6 28 26  2  0  0  0  6  2  4  1  0  2  0  0  0  1  0  0  0  0]\n",
      "Q_values : [ 5.7047243  5.3634496 25.478416  21.700747 ]\n",
      "state : [ 0  0  2  0  0 26  0  0  0  0  0  2  0  0  0  0  0  0  0  0  0  0  0  0\n",
      "  0  0  2  5 19 30  0  0  0  0  0  2  4  0  0  1  4  2  0  0  0  0  7  3]\n",
      "Q_values : [-1.8636482  -0.82642055  5.770707    9.124437  ]\n",
      "Step #1160.00 (0ms ?*RT. ?UPS, TraCI: 0ms, vehicles TOT 887 ACT 76 BUF 1)                 "
     ]
    },
    {
     "name": "stderr",
     "output_type": "stream",
     "text": [
      "Warning: Vehicle 'CESR.35' performs emergency braking on lane 'end2_junction_2' with decel=9.00, wished=5.00, severity=1.00, time=1160.00.\n"
     ]
    },
    {
     "name": "stdout",
     "output_type": "stream",
     "text": [
      "state : [ 0  0  2  0 29 28  0  0  2  0  4  2  0  0  0  0  0  0  0  0  0  0  0  0\n",
      "  0  0  2  1 30 29  0  0  2  0  4  2  1  1  0  2  0  0  1  3  0  2  0  0]\n",
      "Q_values : [13.465904 15.394265 32.994194 32.765667]\n",
      "state : [ 0  0  2  0  0 29  0  0  2  0  0  2  0  0  0  0  0  0  0  0  0  0  0  0\n",
      "  0  0  2  0 18 29  0  0  2  0  0  2  2  0  0  0  2  1  0  0  0  0  8  3]\n",
      "Q_values : [ 2.7098036  2.563764  11.921785  15.401953 ]\n",
      "state : [ 0  0  2  0 18 10  0  0  2  0  0  0  0  0  0  0  0  0  0  0  0  0  0  0\n",
      "  0  0  2  0 18 18  0  0  2  0  0  0  0  0  0  0  0  0  0  0  3  0  0  0]\n",
      "Q_values : [ 2.4972787  6.4891353 15.436781  15.874959 ]\n",
      "episode : 28\n",
      "Step #1300.00 (0ms ?*RT. ?UPS, TraCI: 0ms, vehicles TOT 924 ACT 39 BUF 0)                 \n",
      " Retrying in 1 seconds\n"
     ]
    },
    {
     "name": "stderr",
     "output_type": "stream",
     "text": [
      "Warning: Environment variable SUMO_HOME is not set properly, disabling XML validation. Set 'auto' or 'always' for web lookups.\n"
     ]
    },
    {
     "name": "stdout",
     "output_type": "stream",
     "text": [
      "state : [0 0 0 0 0 0 0 0 0 0 0 0 0 0 0 0 0 0 0 0 0 0 0 0 0 0 0 0 0 0 0 0 0 0 0 0 0\n",
      " 0 0 0 0 0 0 0 0 0 0 0]\n",
      "Q_values : [-2.6492627 -1.9493216 -4.4297514 -2.8297756]\n",
      "state : [ 0  0  0  0  2  4  0  0  0  0  6  2  0  0  0  0  0  0  0  0  0  0  0  0\n",
      "  1  0  6  1  4  6  5  0  0  1 10  2  0  0  0  2  0 10  0  0  0  0  0  1]\n",
      "Q_values : [-5.429738   -2.157701    2.112597   -0.02847576]\n",
      "Step #101.00 (0ms ?*RT. ?UPS, TraCI: 0ms, vehicles TOT 84 ACT 51 BUF 0)                   \r"
     ]
    },
    {
     "name": "stderr",
     "output_type": "stream",
     "text": [
      "Warning: Vehicle 'CNE.5' performs emergency braking on lane 'end1_junction_2' with decel=9.00, wished=5.00, severity=1.00, time=100.00.\n",
      "Warning: Vehicle 'CNE.5' performs emergency braking on lane 'end1_junction_2' with decel=9.00, wished=5.00, severity=1.00, time=101.18.\n"
     ]
    },
    {
     "name": "stdout",
     "output_type": "stream",
     "text": [
      "state : [ 0  0 12  0  2  0  0  0  0  0  6  0  0  0  0  0  0  0  0  0  0  0  0  0\n",
      "  3  2 16  2  5  1  5  3  1  3 11  1  0  0  0  3  0  0  0  0  1  0  0  0]\n",
      "Q_values : [-4.097888    5.97595     5.89938    -0.55467623]\n",
      "state : [ 0  2  8  0  4  0  0  2  0  0 13  0  0  0  0  0  0  0  0  0  0  0  0  0\n",
      "  0  3 11  2  6  2  4  2  0  1 16  0  0  0  1  4  0  3  0  0  1  0  0  0]\n",
      "Q_values : [ 1.6295009 11.25149   14.567021   6.264781 ]\n",
      "state : [ 0  2 11  0  0  2  0  2  0  0  0  0  0  0  0  0  0  0  0  0  0  0  0  0\n",
      "  1  2 15  2  0  2  5  2  0  1  8  0  2  0  0  2  6  4  0  0  0  0  3  2]\n",
      "Q_values : [-6.7782626   6.727768   -0.06634521 -1.582602  ]\n",
      "state : [ 0  2  0  0  0  2  0  2  0  0  7  0  0  0  0  0  0  0  0  0  0  0  0  0\n",
      "  0  2  7  2  2  4  4  2  0  0 11  0  0  0  0  3  0 10  0  0  0  0  0  0]\n",
      "Q_values : [-8.570068  -3.1564002 -1.8590986 -4.0874205]\n",
      "Step #241.00 (1ms ~= 10.00*RT, ~51000.00UPS, TraCI: 0ms, vehicles TOT 189 ACT 51 BUF 3)   \r"
     ]
    },
    {
     "name": "stderr",
     "output_type": "stream",
     "text": [
      "Warning: Vehicle 'CNE.16' performs emergency braking on lane 'end1_junction_2' with decel=9.00, wished=5.00, severity=1.00, time=240.00.\n",
      "Warning: Vehicle 'CNE.16' performs emergency braking on lane 'end1_junction_2' with decel=9.00, wished=5.00, severity=1.00, time=241.04.\n"
     ]
    },
    {
     "name": "stdout",
     "output_type": "stream",
     "text": [
      "state : [ 0  2 10  0  0  4  0  2  0  0  0  0  0  0  0  0  0  0  0  0  0  0  0  0\n",
      "  1  2 14  1  1  6  5  2  0  1  3  0  0  0  0  2  3  1  0  0  0  0  1  0]\n",
      "Q_values : [-3.870113   4.750524  -3.2320576 -3.2010431]\n",
      "state : [ 0  0  9  0  0  8  0  0  2  0  0  2  0  0  0  0  0  0  0  0  0  0  0  0\n",
      "  1  0 13  2  2 10  5  0  2  1  3  2  0  0  0  3  5  3  0  0  0  0  2  1]\n",
      "Q_values : [-0.9400573  5.6531625  3.3590083  7.0178795]\n",
      "state : [ 0  0 19  0  4  2  0  0  2  0  9  0  0  0  0  0  0  0  0  0  0  0  0  0\n",
      "  1  0 23  2  4  2  5  0  2  1 13  0  2  0  0  2  0  0  0  0  0  0  0  0]\n",
      "Q_values : [ 4.284172  18.994335  14.246103   7.9710054]\n",
      "state : [ 0  0  0  0  4  2  0  0  0  0 13  0  0  0  0  0  0  0  0  0  0  0  0  0\n",
      "  0  0 15  2  6  4  4  0  0  0 16  0  0  0  0  4  0  9  0  0  0  0  0  1]\n",
      "Q_values : [-2.8641376   2.198872    5.39618    -0.52987605]\n",
      "Step #420.00 (0ms ?*RT. ?UPS, TraCI: 92ms, vehicles TOT 321 ACT 65 BUF 3)                 \r"
     ]
    },
    {
     "name": "stderr",
     "output_type": "stream",
     "text": [
      "Warning: Vehicle 'CNE.27' performs emergency braking on lane 'end1_junction_2' with decel=9.00, wished=5.00, severity=1.00, time=420.00.\n",
      "Warning: Vehicle 'CNE.27' performs emergency stop at the end of lane 'end1_junction_2' because of a red traffic light (decel=-14.58, offset=0.01), time=420.25.\n"
     ]
    },
    {
     "name": "stdout",
     "output_type": "stream",
     "text": [
      "state : [ 0  0 32  0  6  0  0  0  2  0 21  0  0  0  0  0  0  0  0  0  0  0  0  0\n",
      "  0  0 35  0  6  0  4  0  2  0 24  0  2  0  0  4  0  0  0  0  2  0  0  0]\n",
      "Q_values : [18.33208  39.934265 34.91581  22.235   ]\n",
      "state : [ 0  0  6  0  6  0  0  0  0  0 24  0  0  0  0  0  0  0  0  0  0  0  0  0\n",
      "  0  0 28  2  8  2  4  0  0  1 27  0  0  0  0  4  0  9  0  0  0  0  0  2]\n",
      "Q_values : [ 4.3778787 11.233831  16.043863   5.402271 ]\n",
      "Step #580.00 (1ms ~= 10.00*RT, ~88000.00UPS, TraCI: 71ms, vehicles TOT 440 ACT 88 BUF 16) \r"
     ]
    },
    {
     "name": "stderr",
     "output_type": "stream",
     "text": [
      "Warning: Vehicle 'AWE.39' performs emergency stop at the end of lane 'end4_junction_1' because of a red traffic light (decel=-11.65, offset=0.01), time=580.88.\n"
     ]
    },
    {
     "name": "stdout",
     "output_type": "stream",
     "text": [
      "Step #620.00 (1ms ~= 10.00*RT, ~107000.00UPS, TraCI: 71ms, vehicles TOT 491 ACT 107 BUF 1)\r"
     ]
    },
    {
     "name": "stderr",
     "output_type": "stream",
     "text": [
      "Warning: Vehicle 'CNE.38' performs emergency braking on lane 'end1_junction_2' with decel=9.00, wished=5.00, severity=1.00, time=620.00.\n",
      "Warning: Vehicle 'CNE.38' performs emergency stop at the end of lane 'end1_junction_2' because of a red traffic light (decel=-12.71, offset=0.00), time=620.45.\n"
     ]
    },
    {
     "name": "stdout",
     "output_type": "stream",
     "text": [
      "Step #644.00 (0ms ?*RT. ?UPS, TraCI: 0ms, vehicles TOT 509 ACT 102 BUF 1)                 \r"
     ]
    },
    {
     "name": "stderr",
     "output_type": "stream",
     "text": [
      "Warning: Vehicle 'CESR.1' performs emergency braking on lane 'end2_junction_2' with decel=9.00, wished=5.00, severity=1.00, time=644.18.\n"
     ]
    },
    {
     "name": "stdout",
     "output_type": "stream",
     "text": [
      "state : [ 0  0 10  0 10  6  0  0  0  0 25  5  0  0  0  0  0  0  0  0  0  0  0  0\n",
      "  0  1 17  5 15 10  2  0  0  1 26  5  3  2  1  2  0  3  0  2  1  0  0  0]\n",
      "Q_values : [ 7.7125864 10.542819  26.262196  18.856392 ]\n",
      "Step #740.00 (0ms ?*RT. ?UPS, TraCI: 71ms, vehicles TOT 569 ACT 73 BUF 1)                 \r"
     ]
    },
    {
     "name": "stderr",
     "output_type": "stream",
     "text": [
      "Warning: Vehicle 'CNE.49' performs emergency braking on lane 'end1_junction_2' with decel=9.00, wished=5.00, severity=1.00, time=740.00.\n",
      "Warning: Vehicle 'CNE.49' performs emergency stop at the end of lane 'end1_junction_2' because of a red traffic light (decel=-13.94, offset=0.00), time=740.32.\n"
     ]
    },
    {
     "name": "stdout",
     "output_type": "stream",
     "text": [
      "Step #781.00 (0ms ?*RT. ?UPS, TraCI: 0ms, vehicles TOT 610 ACT 92 BUF 8)                  \r"
     ]
    },
    {
     "name": "stderr",
     "output_type": "stream",
     "text": [
      "Warning: Vehicle 'CESR.12' performs emergency braking on lane 'end2_junction_2' with decel=9.00, wished=5.00, severity=1.00, time=780.00.\n",
      "Warning: Vehicle 'CESR.12' performs emergency braking on lane 'end2_junction_2' with decel=9.00, wished=5.00, severity=1.00, time=781.14.\n"
     ]
    },
    {
     "name": "stdout",
     "output_type": "stream",
     "text": [
      "Step #823.00 (1ms ~= 10.00*RT, ~93000.00UPS, TraCI: 0ms, vehicles TOT 641 ACT 93 BUF 1)   \r"
     ]
    },
    {
     "name": "stderr",
     "output_type": "stream",
     "text": [
      "Warning: Vehicle 'CESR.16' performs emergency braking on lane 'end2_junction_2' with decel=9.00, wished=5.00, severity=1.00, time=823.95.\n"
     ]
    },
    {
     "name": "stdout",
     "output_type": "stream",
     "text": [
      "state : [ 0  0 14  0  0  2  0  0  2  0  0  0  0  0  0  0  0  0  0  0  0  0  0  0\n",
      "  0  0 15  5 17  7  2  0  2  0 12  0  4  0  0  0  7  3  0  0  0  0  7  3]\n",
      "Q_values : [-10.875787   -2.8580422  -5.624827  -10.094381 ]\n",
      "Step #840.00 (0ms ?*RT. ?UPS, TraCI: 0ms, vehicles TOT 648 ACT 86 BUF 0)                  "
     ]
    },
    {
     "name": "stderr",
     "output_type": "stream",
     "text": [
      "Warning: Vehicle 'CWER.0' performs emergency braking on lane 'end4_junction_1' with decel=9.00, wished=5.00, severity=1.00, time=840.00.\n"
     ]
    },
    {
     "name": "stdout",
     "output_type": "stream",
     "text": [
      "state : [ 0  0  0  0 10  6  0  0  0  0 10  0  0  0  0  0  0  0  0  0  0  0  0  0\n",
      "  0  1  5  6 21 10  2  0  0  1 13  0  2  0  0  1  1  9  0  0  0  0  1  1]\n",
      "Q_values : [-3.166966  -3.4866643  7.208433   4.060916 ]\n",
      "state : [ 0  0  5  0  0 10  0  0  0  0  0  0  0  0  0  0  0  0  0  0  0  0  0  0\n",
      "  0  0  6  7 11 13  1  0  0  0  2  0  4  0  0  0  7  6  0  0  0  0  7  3]\n",
      "Q_values : [-12.42655  -10.764868  -4.096751  -3.932827]\n",
      "state : [ 0  0  6  0 10  0  0  0  0  0  2  0  0  0  0  0  0  0  0  0  0  0  0  0\n",
      "  3  1  8  5 15  6  2  2  2  3  3  2  4  0  0  2  0  1  0  0  9  0  1  0]\n",
      "Q_values : [-8.033665  -3.0371828 -1.7410092 -4.362118 ]\n",
      "state : [ 0  2  8  0  5  0  0  2  2  0  0  0  0  0  0  0  0  0  0  0  0  0  0  0\n",
      "  0  2 10  7  9  3  2  2  2  0  2  0  4  0  1  1  1  0  2  0  8  1  2  0]\n",
      "Q_values : [-3.7143683  9.099205   2.3049943 -1.0833062]\n",
      "state : [ 0  2  0  0  0  6  0  2  0  0  0  0  0  0  0  0  0  0  0  0  0  0  0  0\n",
      "  0  2  2  5  5 10  2  2  0  0  1  0  3  0  0  0  2  2  0  0  0  0  7  3]\n",
      "Q_values : [-10.184504   -6.843384   -1.9125671  -3.8235855]\n",
      "state : [ 0  2  2  0  0 13  0  2  0  0  0  0  0  0  0  0  0  0  0  0  0  0  0  0\n",
      "  0  2  4  5  4 17  2  2  0  0  1  0  4  0  0  0  1  0  0  0  0  0  3  0]\n",
      "Q_values : [-2.1292694 -0.5959302  1.6007969  6.5292854]\n",
      "Step #1020.00 (1ms ~= 10.00*RT, ~46000.00UPS, TraCI: 127ms, vehicles TOT 781 ACT 46 BUF 5)\r"
     ]
    },
    {
     "name": "stderr",
     "output_type": "stream",
     "text": [
      "Warning: Vehicle 'CWER.11' performs emergency braking on lane 'end4_junction_1' with decel=9.00, wished=5.00, severity=1.00, time=1020.00.\n",
      "Warning: Vehicle 'CEWR.32' performs emergency braking on lane 'end2_junction_1' with decel=9.00, wished=5.00, severity=1.00, time=1020.00.\n",
      "Warning: Vehicle 'CWER.11' performs emergency stop at the end of lane 'end4_junction_1' because of a red traffic light (decel=-30.00, offset=0.02), time=1020.99.\n"
     ]
    },
    {
     "name": "stdout",
     "output_type": "stream",
     "text": [
      "state : [ 0  2  5  0  6  0  0  3  0  0  1  0  0  0  0  0  0  0  0  0  0  0  0  0\n",
      "  2  4  6  7 10  3  2  4  2  2  3  0  4  0  1  0  0  0  0  0 11  0  0  0]\n",
      "Q_values : [-3.9714274   4.263845    2.131546   -0.11402041]\n",
      "state : [ 0  4  0  0  0 10  0  4  0  0  0  0  0  0  0  0  0  0  0  0  0  0  0  0\n",
      "  0  4  2  7  8 13  2  4  0  0  2  0  4  0  0  2  3  2  0  0  0  0  8  2]\n",
      "Q_values : [-4.2882185 -2.702462  -2.6659508  3.1932983]\n",
      "state : [0 4 2 0 0 5 0 4 0 0 0 0 0 0 0 0 0 0 0 0 0 0 0 0 0 4 4 5 5 9 2 4 0 0 1 0 3\n",
      " 0 0 0 2 0 0 0 3 0 7 3]\n",
      "Q_values : [-3.6699133 -1.6373094 -3.281323   1.0620332]\n",
      "Step #1223.00 (0ms ?*RT. ?UPS, TraCI: 0ms, vehicles TOT 924 ACT 44 BUF 0)                 \r"
     ]
    },
    {
     "name": "stderr",
     "output_type": "stream",
     "text": [
      "Warning: Teleporting vehicle 'CSNR.2'; waited too long (yield), lane='end3_junction_1', time=1215.39.\n",
      "Warning: Vehicle 'CSNR.2' ends teleporting on edge 'junction_end1', time=1215.39.\n",
      "Warning: Teleporting vehicle 'ANSR.2'; waited too long (yield), lane='end1_junction_1', time=1223.51.\n",
      "Warning: Vehicle 'ANSR.2' ends teleporting on edge 'junction_end3', time=1223.51.\n"
     ]
    },
    {
     "name": "stdout",
     "output_type": "stream",
     "text": [
      "episode : 29\n",
      "Step #1300.00 (0ms ?*RT. ?UPS, TraCI: 1ms, vehicles TOT 924 ACT 6 BUF 0)                  \n",
      " Retrying in 1 seconds\n"
     ]
    },
    {
     "name": "stderr",
     "output_type": "stream",
     "text": [
      "Warning: Environment variable SUMO_HOME is not set properly, disabling XML validation. Set 'auto' or 'always' for web lookups.\n",
      "Warning: Vehicle 'CNE.3' performs emergency braking on lane 'end1_junction_2' with decel=9.00, wished=5.00, severity=1.00, time=63.79.\n"
     ]
    },
    {
     "name": "stdout",
     "output_type": "stream",
     "text": [
      "state : [ 0  0  6  0  0  4  0  0  0  0  3  2  0  0  0  0  0  0  0  0  0  0  0  0          \n",
      "  1  0 10  1  2  6  5  0  0  1  7  2  0  1  0  3  0  0  0  1  0  0  0  0]\n",
      "Q_values : [-5.131873   1.3171641 -2.0517585 -2.6707454]\n",
      "state : [ 0  1  1  0  5  0  0  1  1  0 16  0  0  0  0  0  0  0  0  0  0  0  0  0\n",
      "  0  2  6  0  6  0  4  2  2  0 20  0  2  0  3  4  0  1  2  0  8  2  0  0]\n",
      "Q_values : [ 3.5118494  9.259426  17.351059   4.800583 ]\n",
      "state : [ 0  2  9  0  2  0  0  2  2  0 10  0  0  0  0  0  0  0  0  0  0  0  0  0\n",
      "  1  2 13  2  2  0  6  2  2  1 15  0  2  0  0  1  2  0  0  0  2  0  0  0]\n",
      "Q_values : [ 1.8580146 12.207809  12.860512   4.7432594]\n",
      "state : [ 0  0 19  0  1  2  0  0  2  0  9  0  0  0  0  0  0  0  0  0  0  0  0  0\n",
      "  1  0 23  1  3  4  5  0  2  1 13  0  0  0  0  2  0  0  0  0  0  0  0  0]\n",
      "Q_values : [ 1.5878401 14.622647  10.300134   4.9976225]\n",
      "Step #300.00 (0ms ?*RT. ?UPS, TraCI: 0ms, vehicles TOT 240 ACT 77 BUF 0)                  "
     ]
    },
    {
     "name": "stderr",
     "output_type": "stream",
     "text": [
      "Warning: Vehicle 'CNE.17' performs emergency braking on lane 'end1_junction_2' with decel=9.00, wished=5.00, severity=1.00, time=300.00.\n"
     ]
    },
    {
     "name": "stdout",
     "output_type": "stream",
     "text": [
      "Step #320.00 (0ms ?*RT. ?UPS, TraCI: 72ms, vehicles TOT 252 ACT 73 BUF 0)                 \r"
     ]
    },
    {
     "name": "stderr",
     "output_type": "stream",
     "text": [
      "Warning: Vehicle 'CWN.2' performs emergency braking on lane 'end4_junction_2' with decel=9.00, wished=5.00, severity=1.00, time=320.00.\n",
      "Warning: Vehicle 'CES.8' performs emergency braking on lane 'end2_junction_2' with decel=9.00, wished=5.00, severity=1.00, time=320.00.\n",
      "Warning: Vehicle 'CES.8' performs emergency stop at the end of lane 'end2_junction_2' because of a red traffic light (decel=-20.97, offset=0.03), time=320.21.\n",
      "Warning: Vehicle 'CWN.2' performs emergency stop at the end of lane 'end4_junction_2' because of a red traffic light (decel=-19.05, offset=0.03), time=320.30.\n"
     ]
    },
    {
     "name": "stdout",
     "output_type": "stream",
     "text": [
      "state : [ 0  0 17  0  2  2  0  0  0  0 17  0  0  0  0  0  0  0  0  0  0  0  0  0\n",
      "  1  0 21  2  2  2  5  0  0  1 21  0  1  2  0  3  0  0  0  1  0  0  0  0]\n",
      "Q_values : [ 4.708528 16.783323 14.845469  9.849953]\n",
      "state : [ 0  0  0  0  2  2  0  0  0  0 21  0  0  0  0  0  0  0  0  0  0  0  0  0\n",
      "  0  0 13  2  4  4  4  0  0  0 24  0  0  0  0  4  0  9  0  0  0  0  0  0]\n",
      "Q_values : [ 1.4657917  7.4909415 12.902811   2.8567734]\n",
      "Step #420.00 (0ms ?*RT. ?UPS, TraCI: 91ms, vehicles TOT 321 ACT 68 BUF 3)                 \r"
     ]
    },
    {
     "name": "stderr",
     "output_type": "stream",
     "text": [
      "Warning: Vehicle 'CNE.28' performs emergency braking on lane 'end1_junction_2' with decel=9.00, wished=5.00, severity=1.00, time=420.00.\n",
      "Warning: Vehicle 'CNE.28' performs emergency stop at the end of lane 'end1_junction_2' because of a red traffic light (decel=-13.86, offset=0.01), time=420.32.\n"
     ]
    },
    {
     "name": "stdout",
     "output_type": "stream",
     "text": [
      "state : [ 0  0 30  0  6  0  0  0  2  0 29  0  0  0  0  0  0  0  0  0  0  0  0  0\n",
      "  0  0 33  0  6  0  4  0  2  0 32  0  2  0  0  4  0  0  0  0  3  0  0  0]\n",
      "Q_values : [18.117872 39.434772 38.667084 19.795513]\n",
      "Step #600.00 (1ms ~= 10.00*RT, ~95000.00UPS, TraCI: 72ms, vehicles TOT 466 ACT 95 BUF 20) \r"
     ]
    },
    {
     "name": "stderr",
     "output_type": "stream",
     "text": [
      "Warning: Vehicle 'AWE.39' performs emergency stop at the end of lane 'end4_junction_1' because of a red traffic light (decel=-13.13, offset=0.02), time=600.41.\n"
     ]
    },
    {
     "name": "stdout",
     "output_type": "stream",
     "text": [
      "Step #620.00 (0ms ?*RT. ?UPS, TraCI: 0ms, vehicles TOT 491 ACT 105 BUF 1)                 "
     ]
    },
    {
     "name": "stderr",
     "output_type": "stream",
     "text": [
      "Warning: Vehicle 'CNE.39' performs emergency braking on lane 'end1_junction_2' with decel=9.00, wished=5.00, severity=1.00, time=620.00.\n"
     ]
    },
    {
     "name": "stdout",
     "output_type": "stream",
     "text": [
      "Step #660.00 (1ms ~= 10.00*RT, ~84000.00UPS, TraCI: 72ms, vehicles TOT 517 ACT 84 BUF 5)  \r"
     ]
    },
    {
     "name": "stderr",
     "output_type": "stream",
     "text": [
      "Warning: Vehicle 'CEWR.2' performs emergency braking on lane 'end2_junction_1' with decel=9.00, wished=5.00, severity=1.00, time=660.00.\n",
      "Warning: Vehicle 'CEWR.2' performs emergency stop at the end of lane 'end2_junction_1' because of a red traffic light (decel=-16.85, offset=0.02), time=660.97.\n"
     ]
    },
    {
     "name": "stdout",
     "output_type": "stream",
     "text": [
      "state : [ 0  4 25  0  3  0  0  4  2  0  1  0  0  0  0  0  0  0  0  0  0  0  0  0\n",
      "  0  5 26  5  8  6  2  4  2  1  2  0  3  0  3  2  0  0  0  0  9  0  0  0]\n",
      "Q_values : [-0.5919132 13.023627   5.544964   4.1342354]\n",
      "state : [ 0  0 18  0 17  2  0  0  0  0  5  0  0  0  0  0  0  0  0  0  0  0  0  0\n",
      "  2  2 20  7 20  6  2  2  2  2  7  2  3  3  1  1  0  0  0  2  3  0  0  0]\n",
      "Q_values : [0.2892828 9.629739  8.878164  5.703912 ]\n",
      "Step #780.00 (0ms ?*RT. ?UPS, TraCI: 70ms, vehicles TOT 610 ACT 87 BUF 8)                 \r"
     ]
    },
    {
     "name": "stderr",
     "output_type": "stream",
     "text": [
      "Warning: Vehicle 'CNER.0' performs emergency braking on lane 'end1_junction_2' with decel=9.00, wished=5.00, severity=1.00, time=780.00.\n",
      "Warning: Vehicle 'CNER.0' performs emergency stop at the end of lane 'end1_junction_2' because of a red traffic light (decel=-12.85, offset=0.01), time=780.41.\n"
     ]
    },
    {
     "name": "stdout",
     "output_type": "stream",
     "text": [
      "state : [ 0  2  9  0 24  0  0  2  0  0  7  0  0  0  0  0  0  0  0  0  0  0  0  0\n",
      "  0  2 11  6 28  3  2  2  0  0  9  0  2  0  1  0  0  2  2  0  8  2  0  1]\n",
      "Q_values : [10.773375 16.829126 28.93503  17.614206]\n",
      "state : [ 0  2 12  0 10  0  0  2  0  0  0  0  0  0  0  0  0  0  0  0  0  0  0  0\n",
      "  0  2 13  5 22  4  2  2  0  0  2  0  4  0  0  0  0  0  0  0  5  0  1  0]\n",
      "Q_values : [-2.7017422  6.8846903  3.6069481  1.8315877]\n",
      "state : [ 0  2  1  0 32  0  0  4  1  0  5  0  0  0  0  0  0  0  0  0  0  0  0  0\n",
      "  2  4  2  6 35  7  1  4  2  2  6  0  2  0  2  0  0  0  0  0  9  0  0  0]\n",
      "Q_values : [ 5.474944 12.725477 18.86042  11.343583]\n",
      "Step #920.00 (0ms ?*RT. ?UPS, TraCI: 0ms, vehicles TOT 713 ACT 88 BUF 1)                  "
     ]
    },
    {
     "name": "stderr",
     "output_type": "stream",
     "text": [
      "Warning: Vehicle 'CESR.23' performs emergency braking on lane 'end2_junction_2' with decel=9.00, wished=5.00, severity=1.00, time=920.00.\n"
     ]
    },
    {
     "name": "stdout",
     "output_type": "stream",
     "text": [
      "Step #960.00 (1ms ~= 10.00*RT, ~74000.00UPS, TraCI: 69ms, vehicles TOT 742 ACT 74 BUF 8)  \r"
     ]
    },
    {
     "name": "stderr",
     "output_type": "stream",
     "text": [
      "Warning: Vehicle 'CEWR.18' performs emergency braking on lane 'end2_junction_1' with decel=9.00, wished=5.00, severity=1.00, time=960.00.\n",
      "Warning: Vehicle 'CEWR.18' performs emergency stop at the end of lane 'end2_junction_1' because of a red traffic light (decel=-19.90, offset=0.09), time=960.19.\n"
     ]
    },
    {
     "name": "stdout",
     "output_type": "stream",
     "text": [
      "state : [ 0  4  2  0  0  8  0  4  0  0  0  0  0  0  0  0  0  0  0  0  0  0  0  0\n",
      "  0  4  4  5 17 12  2  4  0  0  1  0  4  0  0  0  2  0  0  0  3  0  8  3]\n",
      "Q_values : [-10.790386   -4.0660405  -3.87542    -4.901895 ]\n",
      "state : [ 0  4  4  0  0 11  0  4  0  0  0  0  0  0  0  0  0  0  0  0  0  0  0  0\n",
      "  3  6  5  6  7 16  4  6  0  3  1  2  2  0  0  1  1  0  0  0  0  0  7  5]\n",
      "Q_values : [-0.7334323   1.5791427  -0.52213395  4.394196  ]\n",
      "Step #1040.00 (0ms ?*RT. ?UPS, TraCI: 93ms, vehicles TOT 809 ACT 77 BUF 1)                \r"
     ]
    },
    {
     "name": "stderr",
     "output_type": "stream",
     "text": [
      "Warning: Vehicle 'CEWR.32' performs emergency braking on lane 'end2_junction_1' with decel=9.00, wished=5.00, severity=1.00, time=1040.00.\n",
      "Warning: Vehicle 'CEWR.32' performs emergency stop at the end of lane 'end2_junction_1' because of a red traffic light (decel=-14.10, offset=0.01), time=1040.93.\n"
     ]
    },
    {
     "name": "stdout",
     "output_type": "stream",
     "text": [
      "state : [ 0  6  6  0 10  0  0  3  2  0  2  0  0  0  0  0  0  0  0  0  0  0  0  0          \n",
      "  0  6  8  5 14  4  2  5  2  0  4  0  4  1  1  2  0  0  2  0  9  2  0  0]\n",
      "Q_values : [ 1.0696049 12.6016865  9.228584   7.622083 ]\n"
     ]
    },
    {
     "name": "stderr",
     "output_type": "stream",
     "text": [
      "Warning: Teleporting vehicle 'CSNR.1'; waited too long (yield), lane='end3_junction_1', time=1071.35.\n",
      "Warning: Vehicle 'CSNR.1' ends teleporting on edge 'junction_end1', time=1071.35.\n"
     ]
    },
    {
     "name": "stdout",
     "output_type": "stream",
     "text": [
      "Step #1081.00 (0ms ?*RT. ?UPS, TraCI: 0ms, vehicles TOT 835 ACT 71 BUF 5)                 \r"
     ]
    },
    {
     "name": "stderr",
     "output_type": "stream",
     "text": [
      "Warning: Teleporting vehicle 'ANSR.1'; waited too long (yield), lane='end1_junction_1', time=1081.11.\n",
      "Warning: Vehicle 'ANSR.1' ends teleporting on edge 'junction_end3', time=1081.11.\n"
     ]
    },
    {
     "name": "stdout",
     "output_type": "stream",
     "text": [
      "state : [ 0  5  0  0 13  3  0  5  0  0  3  0  0  0  0  0  0  0  0  0  0  0  0  0\n",
      "  0  5  0  6 17  7  0  5  0  0  4  0  3  0  0  1  0  7  0  0  0  0  0  1]\n",
      "Q_values : [ 3.9055657 11.57268   15.859609  11.684618 ]\n",
      "state : [ 0  5  2  0  8  0  0  5  0  0  2  0  0  0  0  0  0  0  0  0  0  0  0  0\n",
      "  0  5  2  5 12  4  0  5  0  0  2  0  4  0  0  2  0  0  0  0  9  0  1  0]\n",
      "Q_values : [-0.9751456  6.7257066  7.8425975  5.022304 ]\n",
      "state : [0 2 6 0 0 3 0 2 2 0 0 1 0 0 0 0 0 0 0 0 0 0 0 0 0 2 6 0 2 4 0 2 2 0 0 1 3\n",
      " 0 0 1 3 1 2 0 1 2 5 4]\n",
      "Q_values : [ 4.660093 10.69888   6.66556  10.1219  ]\n",
      "state : [0 0 0 0 2 0 0 0 0 0 0 0 0 0 0 0 0 0 0 0 0 0 0 0 0 0 0 0 2 0 0 0 0 0 0 0 0\n",
      " 0 1 0 0 0 0 0 3 0 0 0]\n",
      "Q_values : [-5.3113294  -1.2583601   0.30065918  0.45645958]\n",
      "episode : 30\n",
      "Step #1300.00 (0ms ?*RT. ?UPS, TraCI: 1ms, vehicles TOT 924 ACT 2 BUF 0)                  \n",
      " Retrying in 1 seconds\n"
     ]
    },
    {
     "name": "stderr",
     "output_type": "stream",
     "text": [
      "Warning: Environment variable SUMO_HOME is not set properly, disabling XML validation. Set 'auto' or 'always' for web lookups.\n"
     ]
    },
    {
     "name": "stdout",
     "output_type": "stream",
     "text": [
      "state : [0 2 6 0 0 2 0 2 0 0 0 0 0 0 0 0 0 0 0 0 0 0 0 0 0 3 9 4 1 2 4 2 0 1 3 0 2\n",
      " 0 0 4 5 4 0 0 0 0 2 1]\n",
      "Q_values : [-4.2118683  -0.06110191 -1.8028738  -0.495317  ]\n",
      "Step #80.00 (0ms ?*RT. ?UPS, TraCI: 90ms, vehicles TOT 71 ACT 47 BUF 1)                   \r"
     ]
    },
    {
     "name": "stderr",
     "output_type": "stream",
     "text": [
      "Warning: Vehicle 'AWE.5' performs emergency stop at the end of lane 'end4_junction_1' because of a red traffic light (decel=-36.27, offset=0.06), time=80.12.\n"
     ]
    },
    {
     "name": "stdout",
     "output_type": "stream",
     "text": [
      "Step #160.00 (1ms ~= 10.00*RT, ~61000.00UPS, TraCI: 68ms, vehicles TOT 138 ACT 61 BUF 0)  \r"
     ]
    },
    {
     "name": "stderr",
     "output_type": "stream",
     "text": [
      "Warning: Vehicle 'AWE.11' performs emergency stop at the end of lane 'end4_junction_1' because of a red traffic light (decel=-13.60, offset=0.01), time=160.68.\n"
     ]
    },
    {
     "name": "stdout",
     "output_type": "stream",
     "text": [
      "state : [ 0  0 10  0  2  0  0  0  2  0  8  0  0  0  0  0  0  0  0  0  0  0  0  0\n",
      "  0  1 13  2  4  2  4  0  2  1 11  0  0  2  2  4  0  0  0  2  2  0  0  0]\n",
      "Q_values : [-3.4365609 10.1859455  4.9673324  1.7923856]\n",
      "state : [ 0  0  0  0  4  2  0  0  0  0 11  0  0  0  0  0  0  0  0  0  0  0  0  0\n",
      "  1  0  6  2  4  2  5  0  0  1 15  0  2  0  0  2  0  9  0  0  0  0  0  1]\n",
      "Q_values : [ 0.47340965  9.898952   10.683825    4.9689884 ]\n",
      "Step #220.00 (1ms ~= 10.00*RT, ~52000.00UPS, TraCI: 89ms, vehicles TOT 176 ACT 52 BUF 4)  \r"
     ]
    },
    {
     "name": "stderr",
     "output_type": "stream",
     "text": [
      "Warning: Vehicle 'CNE.15' performs emergency braking on lane 'end1_junction_2' with decel=9.00, wished=5.00, severity=1.00, time=220.00.\n",
      "Warning: Vehicle 'CNE.15' performs emergency stop at the end of lane 'end1_junction_2' because of a red traffic light (decel=-12.64, offset=0.01), time=220.48.\n"
     ]
    },
    {
     "name": "stdout",
     "output_type": "stream",
     "text": [
      "Step #240.00 (0ms ?*RT. ?UPS, TraCI: 71ms, vehicles TOT 189 ACT 51 BUF 3)                 \r"
     ]
    },
    {
     "name": "stderr",
     "output_type": "stream",
     "text": [
      "Warning: Vehicle 'AWE.17' performs emergency stop at the end of lane 'end4_junction_1' because of a red traffic light (decel=-12.53, offset=0.02), time=240.78.\n"
     ]
    },
    {
     "name": "stdout",
     "output_type": "stream",
     "text": [
      "state : [ 0  0  9  0  2  0  0  0  0  0  6  0  0  0  0  0  0  0  0  0  0  0  0  0\n",
      "  0  1 12  4  3  0  4  0  0  1  9  0  2  0  0  3  2  0  0  0  3  0  0  0]\n",
      "Q_values : [-2.9019413  8.4957695  5.643891   1.8129213]\n",
      "Step #303.00 (0ms ?*RT. ?UPS, TraCI: 0ms, vehicles TOT 246 ACT 63 BUF 0)                  \r"
     ]
    },
    {
     "name": "stderr",
     "output_type": "stream",
     "text": [
      "Warning: Vehicle 'CNE.23' performs emergency braking on lane 'end1_junction_2' with decel=9.00, wished=5.00, severity=1.00, time=303.96.\n"
     ]
    },
    {
     "name": "stdout",
     "output_type": "stream",
     "text": [
      "state : [0 1 2 0 0 3 0 1 1 0 0 1 0 0 0 0 0 0 0 0 0 0 0 0 0 3 6 0 0 4 4 2 2 1 7 2 2\n",
      " 0 0 3 6 5 1 0 0 2 3 1]\n",
      "Q_values : [-11.634712  -7.189782  -2.927646  -4.13358 ]\n",
      "state : [ 0  2  6  0  0  4  0  2  2  0  0  2  0  0  0  0  0  0  0  0  0  0  0  0\n",
      "  1  2 10  2  3  5  5  2  2  1  3  2  1  0  0  1  6  3  1  0  0  0  0  0]\n",
      "Q_values : [ 0.30712175  2.2786307  -0.39214015  6.250566  ]\n",
      "state : [ 0  2  9  0  1  0  0  2  2  0  2  0  0  0  0  0  0  0  0  0  0  0  0  0\n",
      "  0  2 13  0  2  0  4  2  2  0  6  0  2  0  1  3  1  0  0  0  6  0  0  0]\n",
      "Q_values : [-4.0665207   7.4358907   4.43786     0.85033274]\n",
      "state : [ 0  2  0  0  4  2  0  2  0  0  9  0  0  0  0  0  0  0  0  0  0  0  0  0\n",
      "  1  2  3  2  4  2  6  2  0  1 13  0  2  0  0  3  0  8  0  0  0  0  0  0]\n",
      "Q_values : [-0.6888728  5.993005   9.33846    3.204297 ]\n",
      "state : [0 2 6 0 0 4 0 2 0 0 0 0 0 0 0 0 0 0 0 0 0 0 0 0 4 3 8 4 1 4 6 3 0 4 3 0 2\n",
      " 0 0 4 4 0 0 0 0 0 1 0]\n",
      "Q_values : [-1.7132306   1.3700482  -3.0981996  -0.14732403]\n",
      "Step #440.00 (0ms ?*RT. ?UPS, TraCI: 92ms, vehicles TOT 344 ACT 51 BUF 4)                 \r"
     ]
    },
    {
     "name": "stderr",
     "output_type": "stream",
     "text": [
      "Warning: Vehicle 'AWE.35' performs emergency stop at the end of lane 'end4_junction_1' because of a red traffic light (decel=-35.35, offset=0.05), time=440.73.\n"
     ]
    },
    {
     "name": "stdout",
     "output_type": "stream",
     "text": [
      "state : [0 2 0 0 0 4 0 2 0 0 2 0 0 0 0 0 0 0 0 0 0 0 0 0 2 4 5 1 2 6 5 4 2 2 7 2 0\n",
      " 0 0 2 0 7 0 0 0 0 0 0]\n",
      "Q_values : [-12.784275   -9.312031   -9.500095   -8.8139105]\n",
      "state : [ 0  4  4  0  2  0  0  4  2  0  6  0  0  0  0  0  0  0  0  0  0  0  0  0\n",
      "  0  4  8  2  5  1  4  4  2  0 10  0  2  0  2  4  0  0  2  0  5  2  0  0]\n",
      "Q_values : [-2.2135577  6.3011236  7.5317316  2.0355272]\n",
      "state : [ 0  0 15  0  1  0  0  0  2  0  5  0  0  0  0  0  0  0  0  0  0  0  0  0\n",
      "  0  0 18  0  2  0  4  0  2  0  9  0  2  0  0  4  0  0  0  0  3  0  0  0]\n",
      "Q_values : [-3.525424  10.969121   6.510955   2.4357753]\n",
      "Step #560.00 (0ms ?*RT. ?UPS, TraCI: 0ms, vehicles TOT 426 ACT 53 BUF 0)                  "
     ]
    },
    {
     "name": "stderr",
     "output_type": "stream",
     "text": [
      "Warning: Vehicle 'CNE.41' performs emergency braking on lane 'end1_junction_2' with decel=9.00, wished=5.00, severity=1.00, time=560.00.\n"
     ]
    },
    {
     "name": "stdout",
     "output_type": "stream",
     "text": [
      "state : [ 0  0 13  0  4  0  0  0  0  0 15  0  0  0  0  0  0  0  0  0  0  0  0  0\n",
      "  2  2 17  2  6  2  4  2  2  2 19  2  0  0  0  4  0  0  0  0  0  0  0  0]\n",
      "Q_values : [-1.587493   9.01922    9.000127   3.6557076]\n",
      "state : [ 0  0  8  0  2  8  0  0  2  0  9  4  0  0  0  0  0  0  0  0  0  0  0  0\n",
      "  0  0 10  5  7 12  2  0  2  0 11  4  3  3  1  0  0  0  1  2  1  0  0  0]\n",
      "Q_values : [ 0.722209  8.358216  7.094581 12.105531]\n",
      "state : [ 0  0 10  0  6  0  0  0  2  0 11  0  0  0  0  0  0  0  0  0  0  0  0  0\n",
      "  0  1 11  5 10  5  2  0  2  1 12  0  3  0  3  2  0  0  0  0  8  0  0  0]\n",
      "Q_values : [ 0.67212677 13.034748   10.804473    6.531179  ]\n",
      "state : [ 0  0  0  0 10  3  0  0  0  0 12  0  0  0  0  0  0  0  0  0  0  0  0  0\n",
      "  0  0  1  7 13  7  1  0  0  0 13  0  4  0  0  0  0  9  0  0  2  0  0  1]\n",
      "Q_values : [-2.5773182  2.9593837 18.120033  12.796143 ]\n",
      "Step #780.00 (1ms ~= 10.00*RT, ~64000.00UPS, TraCI: 70ms, vehicles TOT 610 ACT 64 BUF 8)  \r"
     ]
    },
    {
     "name": "stderr",
     "output_type": "stream",
     "text": [
      "Warning: Vehicle 'CEWR.12' performs emergency braking on lane 'end2_junction_1' with decel=9.00, wished=5.00, severity=1.00, time=780.00.\n",
      "Warning: Vehicle 'CEWR.12' performs emergency stop at the end of lane 'end2_junction_1' because of a red traffic light (decel=-20.54, offset=0.03), time=780.41.\n"
     ]
    },
    {
     "name": "stdout",
     "output_type": "stream",
     "text": [
      "state : [ 0  2  0  0 10  0  0  2  0  0  2  0  0  0  0  0  0  0  0  0  0  0  0  0\n",
      "  0  2  2  5 14  4  2  2  0  0  4  0  4  0  0  0  0  0  0  0  5  0  0  0]\n",
      "Q_values : [-5.618359   -0.91685486 11.2156315   3.2138877 ]\n",
      "Step #883.00 (0ms ?*RT. ?UPS, TraCI: 0ms, vehicles TOT 677 ACT 41 BUF 1)                  \r"
     ]
    },
    {
     "name": "stderr",
     "output_type": "stream",
     "text": [
      "Warning: Vehicle 'CESR.21' performs emergency braking on lane 'end2_junction_2' with decel=9.00, wished=5.00, severity=1.00, time=883.89.\n"
     ]
    },
    {
     "name": "stdout",
     "output_type": "stream",
     "text": [
      "state : [ 0  0  4  0  8  2  0  0  0  0  2  0  0  0  0  0  0  0  0  0  0  0  0  0\n",
      "  3  1  6  5 12  7  2  2  2  3  3  2  4  1  0  2  0  0  0  1  0  0  0  0]\n",
      "Q_values : [-8.870781  -4.3300056  0.8280605  3.0523636]\n",
      "Step #1000.00 (0ms ?*RT. ?UPS, TraCI: 68ms, vehicles TOT 770 ACT 71 BUF 4)                \r"
     ]
    },
    {
     "name": "stderr",
     "output_type": "stream",
     "text": [
      "Warning: Vehicle 'CESR.30' performs emergency braking on lane 'end2_junction_2' with decel=9.00, wished=5.00, severity=1.00, time=1000.00.\n",
      "Warning: Vehicle 'CESR.30' performs emergency stop at the end of lane 'end2_junction_2' because of a red traffic light (decel=-14.05, offset=0.02), time=1000.31.\n"
     ]
    },
    {
     "name": "stdout",
     "output_type": "stream",
     "text": [
      "state : [ 0  0  2  0  0  4  0  0  0  0  0  0  0  0  0  0  0  0  0  0  0  0  0  0\n",
      "  0  0  4  5 20  9  2  0  0  0  1  0  4  0  0  0  4  4  0  0  2  0  7  3]\n",
      "Q_values : [-16.31677  -13.214955  -8.3927   -10.028776]\n",
      "state : [ 0  0  4  0  0  8  0  0  0  0  0  0  0  0  0  0  0  0  0  0  0  0  0  0\n",
      "  3  2  5  6 12 12  4  2  0  3  1  2  2  0  0  1  1  0  0  0  0  0  7  5]\n",
      "Q_values : [-13.109426   -8.741559   -2.9059176  -3.843004 ]\n",
      "state : [ 0  0  5  0  0 12  0  1  0  0  0  1  0  0  0  0  0  0  0  0  0  0  0  0\n",
      "  2  2  6  6  3 15  2  2  2  2  2  2  4  0  0  0  0  0  0  0  0  0  7  3]\n",
      "Q_values : [-7.1330304 -5.1853204 -1.7460077  4.504913 ]\n",
      "Step #1060.00 (0ms ?*RT. ?UPS, TraCI: 88ms, vehicles TOT 818 ACT 61 BUF 4)                \r"
     ]
    },
    {
     "name": "stderr",
     "output_type": "stream",
     "text": [
      "Warning: Vehicle 'AWER.12' performs emergency stop at the end of lane 'end4_junction_1' because of a red traffic light (decel=-17.74, offset=0.03), time=1060.88.\n"
     ]
    },
    {
     "name": "stdout",
     "output_type": "stream",
     "text": [
      "state : [ 0  0  8  0  6  7  0  0  2  0  3  0  0  0  0  0  0  0  0  0  0  0  0  0\n",
      "  0  0  8  5 10 12  0  0  2  0  4  0  2  1  1  2  0  0  0  1  4  0  0  0]\n",
      "Q_values : [ 0.57472944  6.4239407  11.164244    9.178701  ]\n",
      "state : [ 0  0  8  0  0 11  0  0  2  0  0  0  0  0  0  0  0  0  0  0  0  0  0  0\n",
      "  0  0 10  6  3 14  2  0  2  0  2  0  2  0  0  1  2  1  0  0  0  0  6  3]\n",
      "Q_values : [0.65651035 8.563057   5.257223   9.184819  ]\n",
      "state : [ 0  0 10  0  2  0  0  0  2  0  2  0  0  0  0  0  0  0  0  0  0  0  0  0\n",
      "  0  0 10  5  7  7  0  0  2  0  2  0  4  0  0  2  0  0  0  0  9  0  0  0]\n",
      "Q_values : [-4.094719    8.167431    5.0795975   0.96982294]\n",
      "Step #1140.00 (1ms ~= 10.00*RT, ~53000.00UPS, TraCI: 91ms, vehicles TOT 874 ACT 53 BUF 8) \r"
     ]
    },
    {
     "name": "stderr",
     "output_type": "stream",
     "text": [
      "Warning: Vehicle 'CESR.41' performs emergency braking on lane 'end2_junction_2' with decel=9.00, wished=5.00, severity=1.00, time=1140.00.\n",
      "Warning: Vehicle 'CESR.41' performs emergency stop at the end of lane 'end2_junction_2' because of a red traffic light (decel=-13.86, offset=0.02), time=1140.37.\n"
     ]
    },
    {
     "name": "stdout",
     "output_type": "stream",
     "text": [
      "state : [ 0  0  0  0  6  6  0  0  0  0  2  0  0  0  0  0  0  0  0  0  0  0  0  0\n",
      "  0  0  2  5 11 10  2  0  0  0  4  0  3  0  0  0  0  9  0  0  2  0  0  1]\n",
      "Q_values : [-6.8095427 -4.2890897  4.3740826  4.865904 ]\n",
      "Step #1200.00 (0ms ?*RT. ?UPS, TraCI: 68ms, vehicles TOT 924 ACT 59 BUF 0)                \r"
     ]
    },
    {
     "name": "stderr",
     "output_type": "stream",
     "text": [
      "Warning: Vehicle 'ASNR.4' performs emergency braking on lane 'end3_junction_1' with decel=9.00, wished=5.00, severity=1.00, time=1200.00.\n",
      "Warning: Vehicle 'ASNR.4' performs emergency stop at the end of lane 'end3_junction_1' because of a red traffic light (decel=-30.35, offset=0.07), time=1200.95.\n"
     ]
    },
    {
     "name": "stdout",
     "output_type": "stream",
     "text": [
      "state : [0 2 4 0 0 6 0 1 2 0 0 2 0 0 0 0 0 0 0 0 0 0 0 0 0 2 4 0 6 7 0 1 2 0 0 2 3\n",
      " 0 0 2 3 2 2 0 0 2 6 4]\n",
      "Q_values : [0.5866003 6.9666476 6.935132  9.122089 ]\n",
      "state : [0 2 4 0 6 0 0 1 2 0 0 0 0 0 0 0 0 0 0 0 0 0 0 0 0 2 4 0 6 0 0 1 2 0 0 0 2\n",
      " 0 1 0 0 0 0 0 7 0 1 0]\n",
      "Q_values : [-1.6556358 11.915148  10.828012   3.2460666]\n",
      "episode : 31\n",
      "Step #1300.00 (1ms ~= 10.00*RT, ~8000.00UPS, TraCI: 0ms, vehicles TOT 924 ACT 8 BUF 0)    \n",
      " Retrying in 1 seconds\n"
     ]
    },
    {
     "name": "stderr",
     "output_type": "stream",
     "text": [
      "Warning: Environment variable SUMO_HOME is not set properly, disabling XML validation. Set 'auto' or 'always' for web lookups.\n"
     ]
    },
    {
     "name": "stdout",
     "output_type": "stream",
     "text": [
      "state : [0 0 0 0 0 0 0 0 0 0 0 0 0 0 0 0 0 0 0 0 0 0 0 0 0 0 0 0 0 0 0 0 0 0 0 0 0\n",
      " 0 0 0 0 0 0 0 0 0 0 0]\n",
      "Q_values : [-2.5039604  -2.0693197  -1.4739616  -0.78650945]\n",
      "state : [0 0 0 0 0 0 0 0 0 0 0 0 0 0 0 0 0 0 0 0 0 0 0 0 2 3 3 2 2 2 4 2 2 3 3 2 0\n",
      " 0 0 0 0 0 0 0 0 0 0 0]\n",
      "Q_values : [-11.660603   -8.551631   -7.5899916  -8.546299 ]\n",
      "state : [0 2 2 0 0 2 0 2 2 0 0 2 0 0 0 0 0 0 0 0 0 0 0 0 1 2 7 2 0 2 5 2 2 1 3 2 2\n",
      " 0 0 2 2 0 2 0 0 1 2 0]\n",
      "Q_values : [-3.9992714   0.07631481 -1.2259595  -1.3988202 ]\n"
     ]
    },
    {
     "name": "stderr",
     "output_type": "stream",
     "text": [
      "Warning: Vehicle 'CNE.3' performs emergency braking on lane 'end1_junction_2' with decel=9.00, wished=5.00, severity=1.00, time=63.79.\n"
     ]
    },
    {
     "name": "stdout",
     "output_type": "stream",
     "text": [
      "state : [0 2 2 0 0 4 0 2 0 0 0 2 0 0 0 0 0 0 0 0 0 0 0 0 0 3 6 4 1 4 4 2 0 1 3 2 2        \n",
      " 0 0 4 3 2 0 0 0 0 1 0]\n",
      "Q_values : [-4.11203    -3.3559086  -2.4161005  -0.96333987]\n",
      "state : [ 0  2  6  0  0  0  0  2  0  0  3  0  0  0  0  0  0  0  0  0  0  0  0  0\n",
      "  1  2 10  1  2  2  6  2  0  1  7  0  0  0  1  2  0  0  0  0  3  0  0  0]\n",
      "Q_values : [-8.078964   0.7052993 -2.7021306 -4.134983 ]\n",
      "state : [ 0  2  6  0  4  0  0  2  0  0 13  0  0  0  0  0  0  0  0  0  0  0  0  0\n",
      "  3  4 10  2  7  1  6  5  1  3 18  1  0  0  0  3  0  0  0  0  1  0  0  0]\n",
      "Q_values : [-1.2692652   1.1641276   8.235069    0.03753608]\n",
      "state : [ 0  4 13  0  0  2  0  4  2  0  0  2  0  0  0  0  0  0  0  0  0  0  0  0\n",
      "  0  5 16  2  2  4  4  4  2  1  3  2  0  0  0  3  6  3  0  0  0  0  0  0]\n",
      "Q_values : [ 1.641717 11.234904  4.56374   5.018319]\n",
      "state : [ 0  0  0  0  4  6  0  0  0  0 10  2  0  0  0  0  0  0  0  0  0  0  0  0\n",
      "  0  1  4  4  5  6  4  0  0  1 13  2  2  0  0  4  0  9  0  0  0  0  0  0]\n",
      "Q_values : [-1.887279  3.122381  9.649018  6.900399]\n",
      "Step #261.00 (1ms ~= 10.00*RT, ~57000.00UPS, TraCI: 0ms, vehicles TOT 204 ACT 57 BUF 0)   \r"
     ]
    },
    {
     "name": "stderr",
     "output_type": "stream",
     "text": [
      "Warning: Vehicle 'CNE.19' performs emergency braking on lane 'end1_junction_2' with decel=9.00, wished=5.00, severity=1.00, time=260.00.\n",
      "Warning: Vehicle 'CNE.19' performs emergency braking on lane 'end1_junction_2' with decel=9.00, wished=5.00, severity=1.00, time=261.30.\n"
     ]
    },
    {
     "name": "stdout",
     "output_type": "stream",
     "text": [
      "state : [ 0  0  7  0  1  0  0  0  0  0  4  0  0  0  0  0  0  0  0  0  0  0  0  0\n",
      "  2  3 10  2  4  1  5  2  1  3  8  1  2  0  1  3  2  0  0  0  7  0  0  0]\n",
      "Q_values : [-12.13059     -0.33452737  -5.683938    -6.181436  ]\n",
      "state : [ 0  0  2  0  4  3  0  0  0  0 15  2  0  0  0  0  0  0  0  0  0  0  0  0\n",
      "  0  0  6  0  5  4  4  0  0  0 18  2  2  1  0  4  0  1  0  1  0  0  0  0]\n",
      "Q_values : [-3.0323462  2.4987688 12.091106   7.295828 ]\n",
      "state : [ 0  0 13  0  0  0  0  0  0  0  2  0  0  0  0  0  0  0  0  0  0  0  0  0\n",
      "  0  0 16  2  2  2  4  0  0  0  6  0  0  0  1  3  1  0  0  0  5  0  0  0]\n",
      "Q_values : [-14.250721   10.187198   -7.0318437  -9.916541 ]\n",
      "state : [ 0  2  2  0  5  0  0  2  0  0 16  0  0  0  0  0  0  0  0  0  0  0  0  0\n",
      "  0  3  6  0  6  1  4  2  0  1 19  0  2  0  2  4  0  0  0  0  4  0  0  0]\n",
      "Q_values : [ 2.5486517  8.176801  18.686012   6.7679605]\n",
      "Step #500.00 (0ms ?*RT. ?UPS, TraCI: 89ms, vehicles TOT 384 ACT 54 BUF 0)                 \r"
     ]
    },
    {
     "name": "stderr",
     "output_type": "stream",
     "text": [
      "Warning: Vehicle 'CES.13' performs emergency braking on lane 'end2_junction_2' with decel=9.00, wished=5.00, severity=1.00, time=500.00.\n",
      "Warning: Vehicle 'CES.13' performs emergency stop at the end of lane 'end2_junction_2' because of a red traffic light (decel=-18.30, offset=0.09), time=500.49.\n"
     ]
    },
    {
     "name": "stdout",
     "output_type": "stream",
     "text": [
      "state : [ 0  2  6  0  0  1  0  2  0  0  0  0  0  0  0  0  0  0  0  0  0  0  0  0\n",
      "  1  2 10  2  3  2  5  2  0  1 11  0  0  0  0  2  6  4  0  0  0  0  3  2]\n",
      "Q_values : [-10.359524   -3.6919513  -5.3089805  -6.466746 ]\n",
      "state : [ 0  2  0  0  2  3  0  2  0  0 14  0  0  0  0  0  0  0  0  0  0  0  0  0\n",
      "  0  3  3  2  4  5  4  2  0  1 17  0  0  0  0  4  0  5  0  0  0  0  0  0]\n",
      "Q_values : [-0.5207987  5.090572  14.240069   5.062158 ]\n",
      "Step #580.00 (0ms ?*RT. ?UPS, TraCI: 69ms, vehicles TOT 440 ACT 53 BUF 16)                \r"
     ]
    },
    {
     "name": "stderr",
     "output_type": "stream",
     "text": [
      "Warning: Vehicle 'AWE.44' performs emergency stop at the end of lane 'end4_junction_1' because of a red traffic light (decel=-13.94, offset=0.04), time=580.65.\n"
     ]
    },
    {
     "name": "stdout",
     "output_type": "stream",
     "text": [
      "state : [ 0  2  6  0  0  0  0  2  0  0  8  0  0  0  0  0  0  0  0  0  0  0  0  0\n",
      "  2  4 10  2  2  2  4  4  2  2 12  2  0  0  0  3  2  0  0  0  5  0  0  0]\n",
      "Q_values : [-9.503029  -5.263913  -4.324108  -4.8606873]\n",
      "state : [ 0  4 10  0  0  2  0  4  2  0  0  2  0  0  0  0  0  0  0  0  0  0  0  0\n",
      "  2  6 12  6  3  4  2  6  4  2  2  4  2  0  0  3  6  4  2  0  0  1  1  1]\n",
      "Q_values : [-2.0684621 -2.9256654 -3.3652778 -5.6973443]\n",
      "state : [ 0  0 12  0  0  8  0  0  4  0  0  4  0  0  0  0  0  0  0  0  0  0  0  0\n",
      "  0  0 14  5  4 12  2  0  4  0  1  4  3  0  0  0  2  0  0  0  0  0  3  1]\n",
      "Q_values : [0.01763391 8.772381   7.3603764  7.8224936 ]\n",
      "Step #660.00 (0ms ?*RT. ?UPS, TraCI: 90ms, vehicles TOT 517 ACT 56 BUF 5)                 \r"
     ]
    },
    {
     "name": "stderr",
     "output_type": "stream",
     "text": [
      "Warning: Vehicle 'CEWR.2' performs emergency braking on lane 'end2_junction_1' with decel=9.00, wished=5.00, severity=1.00, time=660.00.\n",
      "Warning: Vehicle 'CEWR.2' performs emergency stop at the end of lane 'end2_junction_1' because of a red traffic light (decel=-20.60, offset=0.11), time=660.55.\n"
     ]
    },
    {
     "name": "stdout",
     "output_type": "stream",
     "text": [
      "state : [ 0  0  0  0  3 11  0  0  0  0  1  4  0  0  0  0  0  0  0  0  0  0  0  0\n",
      "  0  1  4  5  7 16  2  0  0  1  2  4  3  0  0  1  1  9  0  0  0  0  0  3]\n",
      "Q_values : [-7.0491734 -3.5639238  2.154821  12.577496 ]\n",
      "Step #680.00 (0ms ?*RT. ?UPS, TraCI: 92ms, vehicles TOT 533 ACT 61 BUF 1)                 \r"
     ]
    },
    {
     "name": "stderr",
     "output_type": "stream",
     "text": [
      "Warning: Vehicle 'CNER.0' performs emergency braking on lane 'end1_junction_2' with decel=9.00, wished=5.00, severity=1.00, time=680.00.\n",
      "Warning: Vehicle 'CNER.0' performs emergency stop at the end of lane 'end1_junction_2' because of a red traffic light (decel=-13.03, offset=0.02), time=680.39.\n"
     ]
    },
    {
     "name": "stdout",
     "output_type": "stream",
     "text": [
      "state : [ 0  0  4  0  6  0  0  0  0  0  2  0  0  0  0  0  0  0  0  0  0  0  0  0\n",
      "  0  0  5  7 10  7  1  0  0  0  3  0  3  0  3  0  0  2  0  0  8  0  0  0]\n",
      "Q_values : [-6.5940695  -3.6858191  -1.9118323  -0.59895074]\n",
      "state : [ 0  0  0  0 13  3  0  0  0  0  5  0  0  0  0  0  0  0  0  0  0  0  0  0\n",
      "  0  0  0  6 18  6  0  0  0  0  5  0  3  0  0  2  0  7  0  0  0  0  0  0]\n",
      "Q_values : [-0.819252   4.4405003  9.905956   9.7612705]\n",
      "state : [0 2 2 0 0 3 0 2 2 0 0 0 0 0 0 0 0 0 0 0 0 0 0 0 0 2 4 5 5 7 2 2 2 0 1 0 3\n",
      " 0 0 0 2 0 2 0 1 2 6 4]\n",
      "Q_values : [-3.57868    -1.304476   -1.6481898   0.01741433]\n",
      "state : [ 0  0  6  0  0  6  0  0  2  0  0  0  0  0  0  0  0  0  0  0  0  0  0  0\n",
      "  0  1  7  5  5 10  2  0  2  1  1  0  3  0  0  2  2  1  0  0  0  0  6  3]\n",
      "Q_values : [-3.465102   -1.5157605   1.325778   -0.28622258]\n",
      "state : [ 0  0  8  0  2  0  0  0  2  0  0  0  0  0  0  0  0  0  0  0  0  0  0  0\n",
      "  3  1 10  5  7  6  2  2  4  3  1  2  4  0  0  1  0  0  0  0  9  0  0  0]\n",
      "Q_values : [-9.148117   -0.98180246 -3.4500716  -5.2377753 ]\n",
      "Step #921.00 (0ms ?*RT. ?UPS, TraCI: 0ms, vehicles TOT 714 ACT 58 BUF 0)                  \r"
     ]
    },
    {
     "name": "stderr",
     "output_type": "stream",
     "text": [
      "Warning: Vehicle 'CSWR.2' performs emergency braking on lane 'end3_junction_2' with decel=9.00, wished=5.00, severity=1.00, time=920.00.\n",
      "Warning: Vehicle 'CSWR.2' performs emergency stop at the end of lane 'end3_junction_2' because of a red traffic light (decel=-13.20, offset=0.02), time=921.36.\n"
     ]
    },
    {
     "name": "stdout",
     "output_type": "stream",
     "text": [
      "state : [ 0  2  2  0 13  0  0  2  1  0  4  0  0  0  0  0  0  0  0  0  0  0  0  0\n",
      "  0  2  2  5 17  4  0  2  1  0  4  0  4  0  0  2  0  0  0  0  3  0  0  0]\n",
      "Q_values : [ 1.3819594  5.221669  16.046122   6.3122773]\n",
      "state : [0 2 2 0 0 3 0 2 1 0 0 0 0 0 0 0 0 0 0 0 0 0 0 0 0 2 4 6 9 6 2 2 1 0 1 0 3\n",
      " 0 0 0 3 1 0 0 0 0 7 3]\n",
      "Q_values : [-8.328142  -6.1089463  0.6502688 -1.6586127]\n",
      "state : [0 2 6 0 0 3 0 2 1 0 0 0 0 0 0 0 0 0 0 0 0 0 0 0 3 4 7 5 5 7 4 4 1 3 1 2 4\n",
      " 0 0 1 2 0 0 0 1 0 3 2]\n",
      "Q_values : [-1.4717731 -2.0250955 -2.5340207 -1.1033702]\n",
      "state : [ 0  4  0  0 10  6  0  4  0  0  3  0  0  0  0  0  0  0  0  0  0  0  0  0\n",
      "  0  4  0  5 15 10  0  4  0  0  4  0  3  0  0  1  0  2  0  0  0  0  0  0]\n",
      "Q_values : [-0.6027775  4.0735474 14.437122   8.25511  ]\n",
      "state : [ 0  4  0  0  0 10  0  4  0  0  0  0  0  0  0  0  0  0  0  0  0  0  0  0\n",
      "  0  4  2  7  5 13  2  4  0  0  2  0  4  0  0  2  2  1  0  0  0  0  8  2]\n",
      "Q_values : [-4.2972965  -4.8062677  -0.34580374  6.884529  ]\n",
      "state : [0 4 2 0 4 0 0 4 0 0 2 0 0 0 0 0 0 0 0 0 0 0 0 0 0 4 2 5 9 6 0 4 0 0 2 0 4\n",
      " 0 0 2 0 0 0 0 9 0 1 0]\n",
      "Q_values : [-3.997303  -2.5476816  5.7730417  2.0537963]\n",
      "state : [0 4 2 0 0 5 0 4 0 0 0 0 0 0 0 0 0 0 0 0 0 0 0 0 0 4 4 5 5 9 2 4 0 0 1 0 4\n",
      " 0 0 0 2 0 0 0 3 0 4 3]\n",
      "Q_values : [-4.0141425 -2.901324  -0.2649331  4.229764 ]\n",
      "state : [0 4 4 0 3 0 0 4 0 0 1 0 0 0 0 0 0 0 0 0 0 0 0 0 2 5 4 7 7 3 2 5 0 2 2 0 2\n",
      " 0 0 2 0 0 0 0 8 0 0 0]\n",
      "Q_values : [-3.8536024  -1.782897    1.7355794   0.61288536]\n",
      "Step #1183.00 (0ms ?*RT. ?UPS, TraCI: 0ms, vehicles TOT 915 ACT 61 BUF 3)                 \r"
     ]
    },
    {
     "name": "stderr",
     "output_type": "stream",
     "text": [
      "Warning: Vehicle 'CESR.46' performs emergency braking on lane 'end2_junction_2' with decel=9.00, wished=5.00, severity=1.00, time=1183.85.\n"
     ]
    },
    {
     "name": "stdout",
     "output_type": "stream",
     "text": [
      "state : [0 6 6 0 2 0 0 1 2 0 2 0 0 0 0 0 0 0 0 0 0 0 0 0 0 6 6 0 4 0 0 5 2 0 2 0 4        \n",
      " 1 1 2 0 0 2 0 6 2 0 0]\n",
      "Q_values : [ 0.75191975 10.323333    5.592923    9.149412  ]\n",
      "Step #1223.00 (0ms ?*RT. ?UPS, TraCI: 0ms, vehicles TOT 924 ACT 44 BUF 0)                 \r"
     ]
    },
    {
     "name": "stderr",
     "output_type": "stream",
     "text": [
      "Warning: Teleporting vehicle 'CSNR.2'; waited too long (yield), lane='end3_junction_1', time=1215.39.\n",
      "Warning: Vehicle 'CSNR.2' ends teleporting on edge 'junction_end1', time=1215.39.\n",
      "Warning: Teleporting vehicle 'ANSR.2'; waited too long (yield), lane='end1_junction_1', time=1223.37.\n",
      "Warning: Vehicle 'ANSR.2' ends teleporting on edge 'junction_end3', time=1223.37.\n"
     ]
    },
    {
     "name": "stdout",
     "output_type": "stream",
     "text": [
      "episode : 32\n",
      "Step #1300.00 (0ms ?*RT. ?UPS, TraCI: 0ms, vehicles TOT 924 ACT 4 BUF 0)                  \n",
      " Retrying in 1 seconds\n"
     ]
    },
    {
     "name": "stderr",
     "output_type": "stream",
     "text": [
      "Warning: Environment variable SUMO_HOME is not set properly, disabling XML validation. Set 'auto' or 'always' for web lookups.\n"
     ]
    },
    {
     "name": "stdout",
     "output_type": "stream",
     "text": [
      "state : [0 0 0 0 0 0 0 0 0 0 0 0 0 0 0 0 0 0 0 0 0 0 0 0 0 0 0 0 0 0 0 0 0 0 0 0 0\n",
      " 0 0 0 0 0 0 0 0 0 0 0]\n",
      "Q_values : [-1.7767255 -1.7636229 -2.263693  -0.7869968]\n",
      "state : [0 0 0 0 0 0 0 0 0 0 0 0 0 0 0 0 0 0 0 0 0 0 0 0 2 3 3 2 2 2 4 2 2 3 3 2 0\n",
      " 0 0 0 0 0 0 0 0 0 0 0]\n",
      "Q_values : [-11.338457  -12.032178   -5.1856976  -9.117119 ]\n",
      "state : [ 0  0  6  0  0  2  0  0  2  0  2  2  0  0  0  0  0  0  0  0  0  0  0  0\n",
      "  0  0 10  2  2  4  4  0  2  0  6  2  0  1  0  3  1  0  0  1  0  0  0  0]\n",
      "Q_values : [-5.1870003   2.9180746   0.06723142 -4.3472037 ]\n",
      "state : [ 0  0 13  0  6  2  0  0  0  0 19  0  0  0  0  0  0  0  0  0  0  0  0  0\n",
      "  3  2 17  2  9  3  5  3  1  3 24  1  0  0  0  3  0  0  0  0  0  0  0  0]\n",
      "Q_values : [ 0.53258276  8.208412   14.219343    5.2617702 ]\n"
     ]
    },
    {
     "name": "stderr",
     "output_type": "stream",
     "text": [
      "Warning: Vehicle 'CWE.18' performs emergency braking on lane 'end4_junction_1' with decel=9.00, wished=5.00, severity=1.00, time=240.00.\n",
      "Warning: Vehicle 'CWE.18' performs emergency stop at the end of lane 'end4_junction_1' because of a red traffic light (decel=-30.00, offset=0.12), time=240.99.\n"
     ]
    },
    {
     "name": "stdout",
     "output_type": "stream",
     "text": [
      "state : [ 0  2  0  0  2  4  0  2  0  0  2  0  0  0  0  0  0  0  0  0  0  0  0  07 BUF 3)  \n",
      "  0  2 23  4  3  4  4  2  0  1  6  0  2  0  0  4  0  9  0  0  0  0  0  1]\n",
      "Q_values : [-12.225943   -7.0675797  -5.169385   -6.581637 ]\n",
      "Step #260.00 (1ms ~= 10.00*RT, ~66000.00UPS, TraCI: 86ms, vehicles TOT 203 ACT 66 BUF 1)  \r"
     ]
    },
    {
     "name": "stderr",
     "output_type": "stream",
     "text": [
      "Warning: Vehicle 'CNE.10' performs emergency braking on lane 'end1_junction_2' with decel=9.00, wished=5.00, severity=1.00, time=260.00.\n",
      "Warning: Vehicle 'CNE.10' performs emergency stop at the end of lane 'end1_junction_2' because of a red traffic light (decel=-14.29, offset=0.01), time=260.27.\n"
     ]
    },
    {
     "name": "stdout",
     "output_type": "stream",
     "text": [
      "state : [ 0  2 26  0  1  0  0  2  0  0  2  0  0  0  0  0  0  0  0  0  0  0  0  0\n",
      "  2  5 28  2  4  1  5  4  1  3  6  1  2  0  0  3  1  0  0  0  5  0  0  0]\n",
      "Q_values : [-1.996897  10.528337   9.111805   1.3628988]\n",
      "Step #320.00 (1ms ~= 10.00*RT, ~74000.00UPS, TraCI: 65ms, vehicles TOT 252 ACT 74 BUF 0)  \r"
     ]
    },
    {
     "name": "stderr",
     "output_type": "stream",
     "text": [
      "Warning: Vehicle 'CSW.2' performs emergency braking on lane 'end3_junction_2' with decel=9.00, wished=5.00, severity=1.00, time=320.00.\n",
      "Warning: Vehicle 'CSW.2' performs emergency stop at the end of lane 'end3_junction_2' because of a red traffic light (decel=-16.76, offset=0.04), time=320.50.\n"
     ]
    },
    {
     "name": "stdout",
     "output_type": "stream",
     "text": [
      "state : [ 0  0  0  0  0  4  0  0  0  0  3  2  0  0  0  0  0  0  0  0  0  0  0  0\n",
      "  0  0 21  2  2  6  4  0  0  1  7  2  0  0  0  3  2  9  0  0  0  0  0  1]\n",
      "Q_values : [-17.993122   -6.1348057 -10.571073  -10.774255 ]\n",
      "state : [ 0  0  0  0  2  6  0  0  0  0  7  2  0  0  0  0  0  0  0  0  0  0  0  0\n",
      "  1  0 12  2  2  6  5  0  0  1 11  2  2  0  0  2  0 12  0  0  0  0  0  0]\n",
      "Q_values : [-7.6546335 -3.1946251 -2.335754  -3.4996302]\n",
      "state : [ 0  0 10  0  0  6  0  0  0  0  0  2  0  0  0  0  0  0  0  0  0  0  0  0\n",
      "  0  0 15  2  2  8  4  0  0  0  3  2  0  0  0  4  6  7  0  0  0  0  1  0]\n",
      "Q_values : [-3.2868118  2.5842087  1.5754108  1.9177842]\n",
      "state : [ 0  0 11  0  2  1  0  0  2  0  6  0  0  0  0  0  0  0  0  0  0  0  0  0\n",
      "  1  0 15  2  5  2  5  0  2  1 10  0  0  1  0  2  0  0  0  1  3  0  0  0]\n",
      "Q_values : [-2.9685793 11.72133    8.46676    2.123168 ]\n",
      "state : [ 0  0  0  0  3  2  0  0  0  0 10  0  0  0  0  0  0  0  0  0  0  0  0  0\n",
      "  0  0  7  0  4  3  4  0  0  0 13  0  2  0  0  4  0  9  0  0  0  0  0  2]\n",
      "Q_values : [-2.6688895  7.102288   7.2117395  1.7053797]\n",
      "Step #541.00 (0ms ?*RT. ?UPS, TraCI: 0ms, vehicles TOT 412 ACT 52 BUF 8)                  \r"
     ]
    },
    {
     "name": "stderr",
     "output_type": "stream",
     "text": [
      "Warning: Vehicle 'CNE.41' performs emergency braking on lane 'end1_junction_2' with decel=9.00, wished=5.00, severity=1.00, time=540.00.\n",
      "Warning: Vehicle 'CNE.41' performs emergency braking on lane 'end1_junction_2' with decel=9.00, wished=5.00, severity=1.00, time=541.22.\n"
     ]
    },
    {
     "name": "stdout",
     "output_type": "stream",
     "text": [
      "state : [ 0  0  7  0  0  3  0  0  0  0  0  0  0  0  0  0  0  0  0  0  0  0  0  0\n",
      "  0  1 10  2  2  5  4  0  0  1  4  0  0  0  0  3  6  7  0  0  0  0  2  1]\n",
      "Q_values : [-8.492615  -3.6145997 -3.7912796 -4.3896265]\n",
      "Step #580.00 (0ms ?*RT. ?UPS, TraCI: 66ms, vehicles TOT 440 ACT 44 BUF 16)                \r"
     ]
    },
    {
     "name": "stderr",
     "output_type": "stream",
     "text": [
      "Warning: Vehicle 'CNE.46' performs emergency braking on lane 'end1_junction_2' with decel=9.00, wished=5.00, severity=1.00, time=580.00.\n",
      "Warning: Vehicle 'CNE.46' performs emergency stop at the end of lane 'end1_junction_2' because of a red traffic light (decel=-17.75, offset=0.01), time=580.23.\n"
     ]
    },
    {
     "name": "stdout",
     "output_type": "stream",
     "text": [
      "state : [ 0  0  3  0  2  5  0  0  0  0  7  0  0  0  0  0  0  0  0  0  0  0  0  0\n",
      "  2  2  7  2  4  7  4  1  2  2 11  2  0  1  0  4  0  2  0  0  0  0  0  0]\n",
      "Q_values : [-4.3601193  -2.604753   -1.3706398  -0.39237928]\n",
      "state : [ 0  4  0  0  2  6  0  3  0  0  1  2  0  0  0  0  0  0  0  0  0  0  0  0\n",
      "  0  4  1  5  7 10  2  3  0  0  3  2  4  0  0  0  1  9  0  0  0  0  0  3]\n",
      "Q_values : [-4.703875  -1.4462836  5.384843   5.1523876]\n",
      "state : [ 0  4  0  0  7  4  0  3  0  0  2  0  0  0  0  0  0  0  0  0  0  0  0  0\n",
      "  0  4  2  5 11  9  2  3  0  0  4  0  4  0  0  2  0  3  0  0  2  0  0  0]\n",
      "Q_values : [-3.3267083  1.0751333  6.151999   5.1934876]\n",
      "state : [ 0  4  1  0  0  8  0  3  0  0  0  0  0  0  0  0  0  0  0  0  0  0  0  0\n",
      "  0  4  2  5  5 12  0  3  0  0  0  0  3  0  0  2  2  1  0  0  0  0  6  3]\n",
      "Q_values : [-3.5016496   0.9389411   0.16120636  5.2729616 ]\n",
      "state : [0 4 2 0 3 0 0 3 0 0 0 0 0 0 0 0 0 0 0 0 0 0 0 0 2 6 4 7 7 4 2 5 2 2 2 2 3\n",
      " 0 0 0 0 0 0 0 9 0 0 0]\n",
      "Q_values : [-6.2784147 -7.125983  -4.682266  -4.617289 ]\n",
      "state : [ 0  5  4  0  7  0  0  5  1  0  1  0  0  0  0  0  0  0  0  0  0  0  0  0\n",
      "  1  6  4  5 11  4  0  5  2  1  2  0  4  0  2  2  0  0  1  0  7  1  0  0]\n",
      "Q_values : [-2.440553   5.22847    8.080997   3.1892686]\n",
      "state : [ 0  0  8  0 10  0  0  0  2  0  3  0  0  0  0  0  0  0  0  0  0  0  0  0\n",
      "  0  1  9  5 14  7  2  0  2  1  4  0  3  0  0  2  0  0  0  0  9  0  0  0]\n",
      "Q_values : [-2.634334   7.655703   3.596705   2.4475718]\n",
      "Step #860.00 (0ms ?*RT. ?UPS, TraCI: 86ms, vehicles TOT 665 ACT 61 BUF 1)                 \r"
     ]
    },
    {
     "name": "stderr",
     "output_type": "stream",
     "text": [
      "Warning: Vehicle 'CESR.18' performs emergency braking on lane 'end2_junction_2' with decel=9.00, wished=5.00, severity=1.00, time=860.00.\n",
      "Warning: Vehicle 'CESR.18' performs emergency stop at the end of lane 'end2_junction_2' because of a red traffic light (decel=-11.39, offset=0.02), time=860.59.\n"
     ]
    },
    {
     "name": "stdout",
     "output_type": "stream",
     "text": [
      "state : [ 0  0  0  0 14  6  0  0  0  0  4  0  0  0  0  0  0  0  0  0  0  0  0  0\n",
      "  0  0  0  7 17  9  1  0  0  0  5  0  4  0  0  0  0  8  0  0  2  0  0  1]\n",
      "Q_values : [-0.82817507  1.0799993  13.008234   11.355959  ]\n",
      "state : [ 0  0  1  0  8 12  0  0  1  0  0  1  0  0  0  0  0  0  0  0  0  0  0  0\n",
      "  2  0  2  5 12 17  0  0  2  2  2  2  2  1  1  1  0  0  0  1  0  0  1  0]\n",
      "Q_values : [-2.3512328   0.25973058  7.5325203  10.367733  ]\n",
      "state : [ 0  0  2  0 25  0  0  0  0  0  6  0  0  0  0  0  0  0  0  0  0  0  0  0\n",
      "  0  0  4  5 29  4  2  0  0  0  8  0  4  0  0  0  0  0  0  0  3  0  0  0]\n",
      "Q_values : [ 4.286532 10.081511 25.654142 11.241412]\n",
      "state : [ 0  0  4  0  0  3  0  0  0  0  0  0  0  0  0  0  0  0  0  0  0  0  0  0\n",
      "  3  2  5  7 21  6  4  2  0  3  1  2  2  0  0  1  4  4  0  0  0  0  7  3]\n",
      "Q_values : [-15.035659 -10.224812  -8.1792    -9.330461]\n",
      "state : [ 0  0  5  0  0  6  0  1  0  0  0  1  0  0  0  0  0  0  0  0  0  0  0  0\n",
      "  2  2  6  7 10 10  2  2  2  2  2  2  4  0  0  0  0  0  0  0  0  0  7  5]\n",
      "Q_values : [-15.856637  -12.5501     -2.773028   -3.4528618]\n",
      "Step #1080.00 (1ms ~= 10.00*RT, ~64000.00UPS, TraCI: 68ms, vehicles TOT 835 ACT 64 BUF 5) \r"
     ]
    },
    {
     "name": "stderr",
     "output_type": "stream",
     "text": [
      "Warning: Vehicle 'CEWR.37' performs emergency braking on lane 'end2_junction_1' with decel=9.00, wished=5.00, severity=1.00, time=1080.00.\n",
      "Warning: Vehicle 'CEWR.37' performs emergency stop at the end of lane 'end2_junction_1' because of a red traffic light (decel=-18.02, offset=0.08), time=1080.84.\n"
     ]
    },
    {
     "name": "stdout",
     "output_type": "stream",
     "text": [
      "state : [ 0  0  8  0  3 13  0  0  2  0  1  2  0  0  0  0  0  0  0  0  0  0  0  0\n",
      "  0  0  8  5  7 18  0  0  2  0  2  2  2  1  1  2  0  0  0  1  0  0  0  0]\n",
      "Q_values : [ 2.3601985  9.16764    6.1807113 15.947334 ]\n",
      "Step #1121.00 (0ms ?*RT. ?UPS, TraCI: 0ms, vehicles TOT 862 ACT 59 BUF 2)                 \r"
     ]
    },
    {
     "name": "stderr",
     "output_type": "stream",
     "text": [
      "Warning: Vehicle 'CESR.38' performs emergency braking on lane 'end2_junction_2' with decel=9.00, wished=5.00, severity=1.00, time=1121.37.\n"
     ]
    },
    {
     "name": "stdout",
     "output_type": "stream",
     "text": [
      "state : [ 0  0 10  0  0  9  0  0  2  0  0  0  0  0  0  0  0  0  0  0  0  0  0  0\n",
      "  0  0 10  5  4 13  0  0  2  0  0  0  4  0  0  1  3  1  0  0  2  0  7  3]\n",
      "Q_values : [ 2.2719212 11.82045    3.0516944  6.150166 ]\n",
      "Step #1140.00 (1ms ~= 10.00*RT, ~59000.00UPS, TraCI: 86ms, vehicles TOT 874 ACT 59 BUF 8) \r"
     ]
    },
    {
     "name": "stderr",
     "output_type": "stream",
     "text": [
      "Warning: Vehicle 'CEWR.42' performs emergency braking on lane 'end2_junction_1' with decel=9.00, wished=5.00, severity=1.00, time=1140.00.\n",
      "Warning: Vehicle 'CEWR.42' performs emergency stop at the end of lane 'end2_junction_1' because of a red traffic light (decel=-19.11, offset=0.09), time=1140.72.\n"
     ]
    },
    {
     "name": "stdout",
     "output_type": "stream",
     "text": [
      "episode : 33\n",
      "Step #1300.00 (0ms ?*RT. ?UPS, TraCI: 0ms, vehicles TOT 924 ACT 19 BUF 0)                 \n",
      " Retrying in 1 seconds\n"
     ]
    },
    {
     "name": "stderr",
     "output_type": "stream",
     "text": [
      "Warning: Environment variable SUMO_HOME is not set properly, disabling XML validation. Set 'auto' or 'always' for web lookups.\n"
     ]
    },
    {
     "name": "stdout",
     "output_type": "stream",
     "text": [
      "state : [0 2 2 0 2 0 0 2 2 0 3 0 0 0 0 0 0 0 0 0 0 0 0 0 1 2 7 2 2 0 6 2 2 1 7 0 2\n",
      " 0 2 2 0 0 2 0 2 2 0 0]\n",
      "Q_values : [-1.7215705  3.7751293  2.5195959  3.8530917]\n",
      "state : [ 0  2  6  0  2  0  0  2  2  0  6  0  0  0  0  0  0  0  0  0  0  0  0  0\n",
      "  0  2 10  2  4  2  4  2  2  0 10  0  0  0  0  4  0  0  0  0  0  0  0  0]\n",
      "Q_values : [-0.9047947  7.1399455  7.811334   2.1396527]\n",
      "state : [ 0  2 10  0  0  2  0  2  2  0  0  0  0  0  0  0  0  0  0  0  0  0  0  0\n",
      "  0  3 13  4  1  2  4  2  2  1  3  0  2  0  0  4  5  4  0  0  0  0  2  1]\n",
      "Q_values : [ 2.162127    7.6085634  -0.90365696  0.69598615]\n",
      "Step #80.00 (0ms ?*RT. ?UPS, TraCI: 87ms, vehicles TOT 71 ACT 53 BUF 1)                   \r"
     ]
    },
    {
     "name": "stderr",
     "output_type": "stream",
     "text": [
      "Warning: Vehicle 'AWE.5' performs emergency stop at the end of lane 'end4_junction_1' because of a red traffic light (decel=-36.24, offset=0.01), time=80.12.\n"
     ]
    },
    {
     "name": "stdout",
     "output_type": "stream",
     "text": [
      "Step #123.00 (0ms ?*RT. ?UPS, TraCI: 0ms, vehicles TOT 102 ACT 49 BUF 0)                  \r"
     ]
    },
    {
     "name": "stderr",
     "output_type": "stream",
     "text": [
      "Warning: Vehicle 'CNE.8' performs emergency braking on lane 'end1_junction_2' with decel=9.00, wished=5.00, severity=1.00, time=123.88.\n"
     ]
    },
    {
     "name": "stdout",
     "output_type": "stream",
     "text": [
      "state : [ 0  0  2  0  3  5  0  0  0  0 10  0  0  0  0  0  0  0  0  0  0  0  0  0\n",
      "  0  1  6  0  4  6  4  0  0  1 13  0  2  1  0  4  0  0  0  1  0  0  0  0]\n",
      "Q_values : [-2.3634005  0.7478604  7.0343966  6.9233627]\n",
      "Step #160.00 (1ms ~= 10.00*RT, ~64000.00UPS, TraCI: 70ms, vehicles TOT 138 ACT 64 BUF 0)  \r"
     ]
    },
    {
     "name": "stderr",
     "output_type": "stream",
     "text": [
      "Warning: Vehicle 'AWE.11' performs emergency stop at the end of lane 'end4_junction_1' because of a red traffic light (decel=-14.63, offset=0.01), time=160.58.\n"
     ]
    },
    {
     "name": "stdout",
     "output_type": "stream",
     "text": [
      "state : [ 0  2 13  0  2  0  0  2  2  0  8  0  0  0  0  0  0  0  0  0  0  0  0  0\n",
      "  0  3 16  2  4  2  4  2  2  1 11  0  0  0  0  4  0  0  0  0  0  0  0  0]\n",
      "Q_values : [ 2.5948482 12.148939  13.867938   5.2287564]\n",
      "state : [ 0  0 26  0  2  0  0  0  2  0  9  0  0  0  0  0  0  0  0  0  0  0  0  0\n",
      "  1  0 30  1  4  2  5  0  2  1 13  0  0  0  0  2  0  0  0  0  0  0  0  0]\n",
      "Q_values : [ 2.3045025 18.14337   15.438368   5.581704 ]\n",
      "state : [ 0  0  1  0  4  2  0  0  0  0 13  0  0  0  0  0  0  0  0  0  0  0  0  0\n",
      "  2  3 21  2  7  3  5  2  1  3 16  1  2  0  0  4  0  9  0  0  0  0  0  1]\n",
      "Q_values : [-4.7864056  -0.70649517 -0.14538884 -2.8998978 ]\n",
      "state : [ 0  2  0  0  2  2  0  2  0  0 14  0  0  0  0  0  0  0  0  0  0  0  0  0\n",
      "  0  3 12  2  4  4  4  2  0  1 17  0  0  0  0  4  0 12  0  0  0  0  0  0]\n",
      "Q_values : [-4.620343  -2.2454076  2.4786105 -2.3833482]\n",
      "state : [ 0  2 10  0  0  4  0  2  0  0  0  0  0  0  0  0  0  0  0  0  0  0  0  0\n",
      "  1  2 16  2  0  4  5  2  0  1  9  0  2  0  0  3  7  7  0  0  0  0  2  1]\n",
      "Q_values : [-2.0458992  3.0713992 -4.0054564 -1.7352308]\n",
      "state : [ 0  4 10  0  5  0  0  4  2  0 22  0  0  0  0  0  0  0  0  0  0  0  0  0\n",
      "  0  5 13  0  6  1  4  4  2  1 25  0  2  0  0  4  0  0  0  0  1  0  0  0]\n",
      "Q_values : [10.723917 24.611221 30.749212 12.513352]\n",
      "Step #500.00 (0ms ?*RT. ?UPS, TraCI: 92ms, vehicles TOT 384 ACT 68 BUF 0)                 \r"
     ]
    },
    {
     "name": "stderr",
     "output_type": "stream",
     "text": [
      "Warning: Vehicle 'CES.13' performs emergency braking on lane 'end2_junction_2' with decel=9.00, wished=5.00, severity=1.00, time=500.00.\n",
      "Warning: Vehicle 'CES.13' performs emergency stop at the end of lane 'end2_junction_2' because of a red traffic light (decel=-18.35, offset=0.08), time=500.48.\n"
     ]
    },
    {
     "name": "stdout",
     "output_type": "stream",
     "text": [
      "state : [ 0  4 13  0  0  1  0  4  2  0  0  0  0  0  0  0  0  0  0  0  0  0  0  0\n",
      "  1  4 17  2  3  2  6  4  2  1 17  0  0  0  0  2  7  3  0  0  0  0  3  2]\n",
      "Q_values : [-4.7476444   6.961441    1.5937239  -0.73271227]\n",
      "state : [ 0  4  3  0  0  5  0  4  0  0  0  0  0  0  0  0  0  0  0  0  0  0  0  0\n",
      "  2  4  6  2  0  5  5  4  0  2 14  0  2  0  0  3  6  5  0  0  0  0  2  1]\n",
      "Q_values : [-4.0805016 -3.016613  -0.5602732 -0.5882242]\n",
      "state : [ 0  4  6  0  0  5  0  4  0  0  0  0  0  0  0  0  0  0  0  0  0  0  0  0\n",
      "  2  6 10  2  2  7  4  6  2  2  5  2  0  0  0  3  7  6  0  0  0  0  0  0]\n",
      "Q_values : [-3.6967149  1.1793785 -5.1152816 -2.9690843]\n",
      "Step #601.00 (0ms ?*RT. ?UPS, TraCI: 0ms, vehicles TOT 466 ACT 70 BUF 20)                 \r"
     ]
    },
    {
     "name": "stderr",
     "output_type": "stream",
     "text": [
      "Warning: Vehicle 'CWE.47' performs emergency braking on lane 'end4_junction_1' with decel=9.00, wished=5.00, severity=1.00, time=600.00.\n",
      "Warning: Vehicle 'CWE.47' performs emergency stop at the end of lane 'end4_junction_1' because of a red traffic light (decel=-9.49, offset=0.00), time=601.41.\n"
     ]
    },
    {
     "name": "stdout",
     "output_type": "stream",
     "text": [
      "Step #624.00 (0ms ?*RT. ?UPS, TraCI: 1ms, vehicles TOT 493 ACT 79 BUF 5)                  \r"
     ]
    },
    {
     "name": "stderr",
     "output_type": "stream",
     "text": [
      "Warning: Teleporting vehicle 'ASN.2'; waited too long (yield), lane='end3_junction_1', time=619.23.\n",
      "Warning: Vehicle 'ASN.2' ends teleporting on edge 'junction_end1', time=619.23.\n",
      "Warning: Teleporting vehicle 'CNS.2'; waited too long (yield), lane='end1_junction_1', time=624.58.\n",
      "Warning: Vehicle 'CNS.2' ends teleporting on edge 'junction_end3', time=624.58.\n"
     ]
    },
    {
     "name": "stdout",
     "output_type": "stream",
     "text": [
      "state : [ 0  7  2  0  0 10  0  7  2  0  0  4  0  0  0  0  0  0  0  0  0  0  0  0\n",
      "  1  8  2  6  3 13  2  7  2  1  1  4  2  0  0  4  4  4  2  0  0  2  3  0]\n",
      "Q_values : [ 2.7074022  5.458931   4.6704426 13.787165 ]\n",
      "state : [ 0  7  0  0  6  5  0  7  0  0  2  0  0  0  0  0  0  0  0  0  0  0  0  0\n",
      "  0  7  2  5 11  9  2  7  0  1  3  0  3  0  0  2  0  4  0  0  3  0  0  1]\n",
      "Q_values : [-1.0811074  1.4947227  9.414387   7.527448 ]\n",
      "state : [ 0  7  1  0  0  9  0  7  0  0  0  0  0  0  0  0  0  0  0  0  0  0  0  0\n",
      "  0  7  2  6  3 12  2  7  0  0  0  0  3  0  0  0  3  0  0  0  0  0  6  3]\n",
      "Q_values : [ 3.2629528  6.4917755  2.7964685 10.391671 ]\n",
      "state : [ 0  7  2  0  2  0  0  7  0  0  0  0  0  0  0  0  0  0  0  0  0  0  0  0\n",
      "  0  7  4  5  7  5  2  7  0  0  2  0  4  0  0  1  1  0  0  0 10  0  0  0]\n",
      "Q_values : [-3.958325   -3.1957855   3.0868058   0.47189164]\n",
      "state : [0 7 3 0 0 4 0 7 0 0 0 0 0 0 0 0 0 0 0 0 0 0 0 0 0 7 4 5 5 8 0 7 0 0 0 0 4\n",
      " 0 0 1 2 0 0 0 2 0 3 2]\n",
      "Q_values : [1.7146668  3.4982882  0.34601104 5.5219045 ]\n",
      "state : [0 7 4 0 3 0 0 7 0 0 0 0 0 0 0 0 0 0 0 0 0 0 0 0 2 9 6 7 7 3 2 9 2 2 2 2 2\n",
      " 0 0 0 0 0 0 0 8 0 0 0]\n",
      "Q_values : [-3.603676   -0.33618486 -0.29875016 -0.68539304]\n",
      "Step #763.00 (0ms ?*RT. ?UPS, TraCI: 0ms, vehicles TOT 599 ACT 66 BUF 1)                  \r"
     ]
    },
    {
     "name": "stderr",
     "output_type": "stream",
     "text": [
      "Warning: Vehicle 'CESR.11' performs emergency braking on lane 'end2_junction_2' with decel=9.00, wished=5.00, severity=1.00, time=763.93.\n"
     ]
    },
    {
     "name": "stdout",
     "output_type": "stream",
     "text": [
      "state : [0 9 6 0 0 2 0 9 1 0 0 2 0 0 0 0 0 0 0 0 0 0 0 0 1 9 6 5 3 7 0 9 2 0 0 2 4\n",
      " 0 0 2 2 0 1 0 0 1 4 2]\n",
      "Q_values : [5.677386  4.819774  0.8491812 8.711526 ]\n",
      "state : [ 0  9  8  0  6  0  0  9  2  0  2  0  0  0  0  0  0  0  0  0  0  0  0  0\n",
      "  1 10  8  7  9  3  2  9  2  1  3  0  3  0  0  2  0  0  0  0  4  0  0  0]\n",
      "Q_values : [ 6.667249 14.412663 11.029313 15.026388]\n",
      "state : [ 0  9 11  0 16  0  0  9  2  0  5  0  0  0  0  0  0  0  0  0  0  0  0  0\n",
      "  0  9 12  7 19  3  2  9  2  0  6  0  4  0  0  0  0  0  0  0  4  0  0  0]\n",
      "Q_values : [ 7.5280952 24.19324   26.463753  11.596919 ]\n",
      "Step #883.00 (0ms ?*RT. ?UPS, TraCI: 0ms, vehicles TOT 677 ACT 77 BUF 1)                  \r"
     ]
    },
    {
     "name": "stderr",
     "output_type": "stream",
     "text": [
      "Warning: Vehicle 'CESR.21' performs emergency braking on lane 'end2_junction_2' with decel=9.00, wished=5.00, severity=1.00, time=883.91.\n"
     ]
    },
    {
     "name": "stdout",
     "output_type": "stream",
     "text": [
      "state : [ 0  9 12  0  0  2  0  9  2  0  0  0  0  0  0  0  0  0  0  0  0  0  0  0\n",
      "  3 10 14  5 11  7  2 11  4  3  1  2  4  0  0  2  3  2  0  0  0  0  7  3]\n",
      "Q_values : [ 3.9684873  10.235966   -0.72171235  1.3055818 ]\n",
      "state : [ 0 10  0  0 10  6  0 11  0  0  0  1  0  0  0  0  0  0  0  0  0  0  0  0\n",
      "  2 11  3  5 15 10  2 11  1  2  2  2  3  0  0  0  0  9  0  0  0  0  1  2]\n",
      "Q_values : [0.81127787 7.932349   8.334047   9.275368  ]\n",
      "Step #927.00 (0ms ?*RT. ?UPS, TraCI: 0ms, vehicles TOT 722 ACT 89 BUF 4)                  \r"
     ]
    },
    {
     "name": "stderr",
     "output_type": "stream",
     "text": [
      "Warning: Vehicle 'CSWR.2' performs emergency braking on lane 'end3_junction_2' with decel=9.00, wished=5.00, severity=1.00, time=920.00.\n",
      "Warning: Vehicle 'CNER.7' performs emergency braking on lane 'end1_junction_2' with decel=9.00, wished=5.00, severity=1.00, time=920.00.\n",
      "Warning: Vehicle 'CNER.7' performs emergency stop at the end of lane 'end1_junction_2' because of a red traffic light (decel=-11.93, offset=0.02), time=920.55.\n",
      "Warning: Vehicle 'CSWR.2' performs emergency stop at the end of lane 'end3_junction_2' because of a red traffic light (decel=-12.84, offset=0.02), time=921.41.\n",
      "Warning: Teleporting vehicle 'CSN.2'; waited too long (yield), lane='end3_junction_1', time=922.08.\n",
      "Warning: Vehicle 'CSN.2' ends teleporting on edge 'junction_end1', time=922.08.\n",
      "Warning: Teleporting vehicle 'ANS.2'; waited too long (yield), lane='end1_junction_1', time=927.44.\n",
      "Warning: Vehicle 'ANS.2' ends teleporting on edge 'junction_end3', time=927.44.\n"
     ]
    },
    {
     "name": "stdout",
     "output_type": "stream",
     "text": [
      "state : [ 0 10  0  0 12  2  0 10  0  0  2  0  0  0  0  0  0  0  0  0  0  0  0  0\n",
      "  1 11  0  7 15  6  2 10  0  1  3  0  4  0  0  2  0  7  0  0  1  0  0  1]\n",
      "Q_values : [ 2.0447273  9.689341  16.991226   7.972558 ]\n",
      "state : [ 0 10  0  0  0  6  0 10  0  0  0  0  0  0  0  0  0  0  0  0  0  0  0  0\n",
      "  0 10  2  5  7 10  2 10  0  0  1  0  4  0  0  0  2  0  0  0  0  0  7  3]\n",
      "Q_values : [ 4.0743933  3.471356  -1.0562472  6.04843  ]\n",
      "Step #1021.00 (1ms ~= 10.00*RT, ~65000.00UPS, TraCI: 90ms, vehicles TOT 781 ACT 65 BUF 5) "
     ]
    },
    {
     "name": "stderr",
     "output_type": "stream",
     "text": [
      "Warning: Vehicle 'CWER.11' performs emergency braking on lane 'end4_junction_1' with decel=9.00, wished=5.00, severity=1.00, time=1020.00.\n",
      "Warning: Vehicle 'CWER.11' performs emergency stop at the end of lane 'end4_junction_1' because of a red traffic light (decel=-29.91, offset=0.18), time=1021.00.\n"
     ]
    },
    {
     "name": "stdout",
     "output_type": "stream",
     "text": [
      "state : [ 0 10  2  0  6  0  0 10  0  0  1  0  0  0  0  0  0  0  0  0  0  0  0  0\n",
      "  3 12  3  5 11  3  4 12  0  3  2  2  3  0  0  2  0  0  0  0  8  0  1  0]\n",
      "Q_values : [-1.0831549  7.2074513  5.0150332  5.95975  ]\n",
      "state : [ 0 12  2  0 20  0  0 12  0  0  5  0  0  0  0  0  0  0  0  0  0  0  0  0\n",
      "  0 12  4  6 24  3  2 12  0  0  7  0  4  0  0  2  0  0  0  0  4  0  0  0]\n",
      "Q_values : [ 7.597939 15.682109 25.281622 10.235433]\n",
      "Step #1123.00 (0ms ?*RT. ?UPS, TraCI: 0ms, vehicles TOT 863 ACT 78 BUF 1)                 \r"
     ]
    },
    {
     "name": "stderr",
     "output_type": "stream",
     "text": [
      "Warning: Vehicle 'CESR.41' performs emergency braking on lane 'end2_junction_2' with decel=9.00, wished=5.00, severity=1.00, time=1123.98.\n"
     ]
    },
    {
     "name": "stdout",
     "output_type": "stream",
     "text": [
      "state : [ 0 12  6  0 18  0  0 12  0  0  2  0  0  0  0  0  0  0  0  0  0  0  0  0\n",
      "  2 13  6  7 21  3  2 13  0  2  3  0  4  0  0  2  0  0  0  0  4  0  0  0]\n",
      "Q_values : [ 5.6139107 17.306751  20.353067   7.8027763]\n",
      "state : [ 0  0  0  0 14  7  0  0  0  0  2  2  0  0  0  0  0  0  0  0  0  0  0  0\n",
      "  0  2  0  0 14  7  0  2  0  0  2  2  2  7  3  0  0  0  0  7  3  0  0  0]\n",
      "Q_values : [ 0.2423296  4.4350996 12.302612   5.4789095]\n",
      "state : [0 2 0 0 0 7 0 2 0 0 0 2 0 0 0 0 0 0 0 0 0 0 0 0 0 2 0 0 0 7 0 2 0 0 0 2 0\n",
      " 0 0 0 0 0 0 0 0 0 2 0]\n",
      "Q_values : [1.2973614 3.8255422 2.2622669 7.560232 ]\n",
      "episode : 34\n",
      "Step #1300.00 (0ms ?*RT. ?UPS, TraCI: 0ms, vehicles TOT 924 ACT 12 BUF 0)                 \n",
      " Retrying in 1 seconds\n"
     ]
    },
    {
     "name": "stderr",
     "output_type": "stream",
     "text": [
      "Warning: Environment variable SUMO_HOME is not set properly, disabling XML validation. Set 'auto' or 'always' for web lookups.\n"
     ]
    },
    {
     "name": "stdout",
     "output_type": "stream",
     "text": [
      "state : [0 0 0 0 0 0 0 0 0 0 0 0 0 0 0 0 0 0 0 0 0 0 0 0 0 0 0 0 0 0 0 0 0 0 0 0 0\n",
      " 0 0 0 0 0 0 0 0 0 0 0]\n",
      "Q_values : [-1.8033586  -0.70222867 -1.7183895  -1.0733272 ]\n",
      "state : [ 0  2  6  0  0  2  0  2  2  0  0  2  0  0  0  0  0  0  0  0  0  0  0  0\n",
      "  0  2 10  2  2  4  4  2  2  0  3  2  0  0  0  3  4  0  0  0  0  0  0  0]\n",
      "Q_values : [-0.4559679  2.0961354 -2.0228775  2.2986183]\n",
      "state : [ 0  2 10  0  2  0  0  2  2  0  2  0  0  0  0  0  0  0  0  0  0  0  0  0\n",
      "  0  3 13  4  3  0  4  2  2  1  6  0  2  0  1  3  1  0  0  0  3  0  0  0]\n",
      "Q_values : [0.04521894 8.144432   6.305648   5.758797  ]\n",
      "state : [ 0  2  0  0  2  0  0  2  0  0  6  0  0  0  0  0  0  0  0  0  0  0  0  0\n",
      "  1  2  6  1  4  2  6  2  0  1 10  0  0  0  0  3  0 10  0  0  0  0  0  1]\n",
      "Q_values : [-5.1463585   3.6974337  -0.20944047 -3.1578603 ]\n",
      "state : [ 0  2  0  0  4  2  0  2  0  0  9  0  0  0  0  0  0  0  0  0  0  0  0  0\n",
      "  0  2  3  2  7  3  4  2  0  0 13  0  2  0  0  4  0  8  0  0  0  0  0  0]\n",
      "Q_values : [-0.07671022  7.198351    8.645679    4.9467993 ]\n",
      "Step #123.00 (0ms ?*RT. ?UPS, TraCI: 0ms, vehicles TOT 102 ACT 52 BUF 0)                  \r"
     ]
    },
    {
     "name": "stderr",
     "output_type": "stream",
     "text": [
      "Warning: Vehicle 'CNE.8' performs emergency braking on lane 'end1_junction_2' with decel=9.00, wished=5.00, severity=1.00, time=123.88.\n"
     ]
    },
    {
     "name": "stdout",
     "output_type": "stream",
     "text": [
      "state : [ 0  2  6  0  0  4  0  2  0  0  0  0  0  0  0  0  0  0  0  0  0  0  0  0\n",
      "  3  4 10  2  3  5  5  5  1  3  4  1  0  0  0  3  4  2  0  0  0  0  0  0]\n",
      "Q_values : [-1.2802792  9.658842  -4.8290987 -3.0524   ]\n",
      "state : [0 3 0 0 1 5 0 3 0 0 1 1 0 0 0 0 0 0 0 0 0 0 0 0 0 4 3 0 2 6 4 4 0 0 6 2 2\n",
      " 0 0 3 1 9 2 0 0 2 0 2]\n",
      "Q_values : [-3.385723   3.5013025 -1.0664597 -2.3248181]\n",
      "state : [0 4 0 0 2 6 0 4 0 0 6 2 0 0 0 0 0 0 0 0 0 0 0 0 0 5 3 2 4 8 4 4 0 1 9 2 0\n",
      " 0 0 4 0 5 0 0 0 0 0 0]\n",
      "Q_values : [-1.5412831  3.119605   6.6649303  6.5560937]\n",
      "state : [0 4 3 0 0 8 0 4 0 0 0 2 0 0 0 0 0 0 0 0 0 0 0 0 1 4 7 2 0 8 5 4 0 1 3 2 2\n",
      " 0 0 3 4 4 0 0 0 0 2 1]\n",
      "Q_values : [1.1573029  6.7050047  0.20035696 7.1745305 ]\n",
      "state : [ 0  4  6  0  0  0  0  4  0  0  2  0  0  0  0  0  0  0  0  0  0  0  0  0\n",
      "  0  4 10  2  2  2  4  4  0  0  6  0  0  0  1  3  1  0  0  0  7  0  0  0]\n",
      "Q_values : [-4.241637   7.0243134 -3.8638902 -3.9155347]\n",
      "state : [ 0  4  2  0  4  0  0  4  0  0 13  0  0  0  0  0  0  0  0  0  0  0  0  0\n",
      "  2  7  5  2  7  1  5  6  1  3 16  1  2  0  0  4  0  1  0  0  3  0  0  0]\n",
      "Q_values : [-1.5427926  3.3906431  9.2881565 -1.7162657]\n",
      "Step #331.00 (0ms ?*RT. ?UPS, TraCI: 0ms, vehicles TOT 263 ACT 67 BUF 1)                  \r"
     ]
    },
    {
     "name": "stderr",
     "output_type": "stream",
     "text": [
      "Warning: Teleporting vehicle 'CNS.0'; waited too long (yield), lane='end1_junction_1', time=331.25.\n",
      "Warning: Vehicle 'CNS.0' ends teleporting on edge 'junction_end3', time=331.25.\n",
      "Warning: Teleporting vehicle 'ASN.0'; waited too long (yield), lane='end3_junction_1', time=331.82.\n",
      "Warning: Vehicle 'ASN.0' ends teleporting on edge 'junction_end1', time=331.82.\n"
     ]
    },
    {
     "name": "stdout",
     "output_type": "stream",
     "text": [
      "Step #380.00 (0ms ?*RT. ?UPS, TraCI: 71ms, vehicles TOT 294 ACT 52 BUF 0)                 \r"
     ]
    },
    {
     "name": "stderr",
     "output_type": "stream",
     "text": [
      "Warning: Vehicle 'CNE.27' performs emergency braking on lane 'end1_junction_2' with decel=9.00, wished=5.00, severity=1.00, time=380.00.\n",
      "Warning: Vehicle 'CNE.27' performs emergency stop at the end of lane 'end1_junction_2' because of a red traffic light (decel=-14.59, offset=0.01), time=380.25.\n"
     ]
    },
    {
     "name": "stdout",
     "output_type": "stream",
     "text": [
      "state : [ 0  0  8  0  4  6  0  0  0  0  9  2  0  0  0  0  0  0  0  0  0  0  0  0\n",
      "  1  0 12  2  4  6  5  0  0  1 13  2  2  0  0  2  0  2  0  0  0  0  0  0]\n",
      "Q_values : [ 1.3553782  5.316427  12.103946   9.339474 ]\n",
      "state : [0 0 0 0 2 8 0 0 0 0 3 2 0 0 0 0 0 0 0 0 0 0 0 0 4 1 6 4 3 8 6 1 0 4 7 2 2\n",
      " 0 0 3 2 9 0 0 0 0 0 0]\n",
      "Q_values : [-5.7140527 -3.9103308  2.4760647  3.7219825]\n",
      "state : [ 0  2  0  0  1  1  0  2  0  0  6  0  0  0  0  0  0  0  0  0  0  0  0  0\n",
      "  0  2 13  0  2  2  4  2  0  0 10  0  2  0  0  4  0  9  0  0  0  0  0  2]\n",
      "Q_values : [-6.1500125 -2.9309087  0.3395368 -3.7619061]\n",
      "Step #540.00 (0ms ?*RT. ?UPS, TraCI: 90ms, vehicles TOT 412 ACT 57 BUF 8)                 \r"
     ]
    },
    {
     "name": "stderr",
     "output_type": "stream",
     "text": [
      "Warning: Vehicle 'CNE.38' performs emergency braking on lane 'end1_junction_2' with decel=9.00, wished=5.00, severity=1.00, time=540.00.\n",
      "Warning: Vehicle 'CNE.38' performs emergency stop at the end of lane 'end1_junction_2' because of a red traffic light (decel=-12.53, offset=0.03), time=540.47.\n"
     ]
    },
    {
     "name": "stdout",
     "output_type": "stream",
     "text": [
      "state : [ 0  2 11  0  0  2  0  2  0  0  0  0  0  0  0  0  0  0  0  0  0  0  0  0\n",
      "  0  3 16  2  2  4  4  2  0  1  2  0  0  0  0  3  7  6  0  0  0  0  1  0]\n",
      "Q_values : [-0.36865377  5.1640673   0.4424379   1.4870465 ]\n",
      "Step #660.00 (1ms ~= 10.00*RT, ~60000.00UPS, TraCI: 70ms, vehicles TOT 517 ACT 60 BUF 5)  \r"
     ]
    },
    {
     "name": "stderr",
     "output_type": "stream",
     "text": [
      "Warning: Vehicle 'CNE.49' performs emergency braking on lane 'end1_junction_2' with decel=9.00, wished=5.00, severity=1.00, time=660.00.\n",
      "Warning: Vehicle 'CNE.49' performs emergency stop at the end of lane 'end1_junction_2' because of a red traffic light (decel=-13.85, offset=0.03), time=660.33.\n"
     ]
    },
    {
     "name": "stdout",
     "output_type": "stream",
     "text": [
      "state : [ 0  0  5  0 10  9  0  0  0  0  7  2  0  0  0  0  0  0  0  0  0  0  0  0\n",
      "  0  1  6  5 15 13  2  0  0  1  8  2  3  0  0  2  0  2  0  0  0  0  0  0]\n",
      "Q_values : [ 0.95411015  5.102898   15.118842   11.908367  ]\n",
      "Step #722.00 (0ms ?*RT. ?UPS, TraCI: 0ms, vehicles TOT 559 ACT 52 BUF 5)                  \r"
     ]
    },
    {
     "name": "stderr",
     "output_type": "stream",
     "text": [
      "Warning: Vehicle 'CEWR.7' performs emergency braking on lane 'end2_junction_1' with decel=9.00, wished=5.00, severity=1.00, time=722.95.\n"
     ]
    },
    {
     "name": "stdout",
     "output_type": "stream",
     "text": [
      "state : [ 0  0  0  0  6 23  0  0  0  0  2  2  0  0  0  0  0  0  0  0  0  0  0  0\n",
      "  2  2  2  7 10 26  2  2  2  2  4  4  4  0  0  0  0  1  0  0  0  0  0  0]\n",
      "Q_values : [-7.3484864 -7.6427565  6.6294646 10.080766 ]\n",
      "Step #843.00 (0ms ?*RT. ?UPS, TraCI: 0ms, vehicles TOT 650 ACT 80 BUF 4)                  \r"
     ]
    },
    {
     "name": "stderr",
     "output_type": "stream",
     "text": [
      "Warning: Vehicle 'CNER.6' performs emergency braking on lane 'end1_junction_2' with decel=9.00, wished=5.00, severity=1.00, time=843.99.\n"
     ]
    },
    {
     "name": "stdout",
     "output_type": "stream",
     "text": [
      "state : [ 0  0  1  0  0 28  0  0  0  0  0  0  0  0  0  0  0  0  0  0  0  0  0  0\n",
      "  0  1  2  6 15 33  2  0  0  1  1  0  2  0  0  1  4  4  0  0  0  0  7  3]\n",
      "Q_values : [-5.347963  -5.5212646  8.377843  10.958281 ]\n",
      "state : [ 0  0  2  0 10  3  0  0  0  0  1  0  0  0  0  0  0  0  0  0  0  0  0  0\n",
      "  0  0  3  7 18 24  1  0  0  0  2  0  4  0  0  0  0  0  0  0  9  0  1  0]\n",
      "Q_values : [-10.898297   -8.1928215   2.4300787   1.7788719]\n",
      "state : [ 0  0  3  0  0 10  0  0  0  0  0  0  0  0  0  0  0  0  0  0  0  0  0  0\n",
      "  3  1  5  5 10 28  2  2  2  3  1  2  4  0  0  1  3  0  0  0  3  0  7  3]\n",
      "Q_values : [-13.677109   -9.423097   -2.7850502  -1.5551764]\n",
      "state : [ 0  0  5  0  9  0  0  1  1  0  0  0  0  0  0  0  0  0  0  0  0  0  0  0\n",
      "  2  2  5  6 13 21  1  2  2  2  2  0  3  0  2  0  0  0  0  0  9  0  1  0]\n",
      "Q_values : [-10.660381    -6.9193373   -0.84579134  -0.9507834 ]\n",
      "Step #920.00 (0ms ?*RT. ?UPS, TraCI: 97ms, vehicles TOT 713 ACT 75 BUF 1)                 \r"
     ]
    },
    {
     "name": "stderr",
     "output_type": "stream",
     "text": [
      "Warning: Vehicle 'CESR.16' performs emergency braking on lane 'end2_junction_2' with decel=9.00, wished=5.00, severity=1.00, time=920.00.\n",
      "Warning: Vehicle 'CESR.16' performs emergency stop at the end of lane 'end2_junction_2' because of a red traffic light (decel=-12.13, offset=0.01), time=920.53.\n"
     ]
    },
    {
     "name": "stdout",
     "output_type": "stream",
     "text": [
      "Step #980.00 (1ms ~= 10.00*RT, ~64000.00UPS, TraCI: 82ms, vehicles TOT 755 ACT 64 BUF 1)  \r"
     ]
    },
    {
     "name": "stderr",
     "output_type": "stream",
     "text": [
      "Warning: Vehicle 'CESR.27' performs emergency braking on lane 'end2_junction_2' with decel=9.00, wished=5.00, severity=1.00, time=980.00.\n",
      "Warning: Vehicle 'CESR.27' performs emergency stop at the end of lane 'end2_junction_2' because of a red traffic light (decel=-10.36, offset=0.00), time=980.80.\n"
     ]
    },
    {
     "name": "stdout",
     "output_type": "stream",
     "text": [
      "state : [ 0  0 12  0  0 18  0  1  2  0  0  1  0  0  0  0  0  0  0  0  0  0  0  0\n",
      "  2  2 13  6  3 21  2  2  4  2  2  2  4  0  0  0  1  0  0  0  0  0  6  3]\n",
      "Q_values : [ 3.1267977 11.244356   7.572054  10.856103 ]\n",
      "Step #1060.00 (0ms ?*RT. ?UPS, TraCI: 100ms, vehicles TOT 818 ACT 76 BUF 4)               \r"
     ]
    },
    {
     "name": "stderr",
     "output_type": "stream",
     "text": [
      "Warning: Vehicle 'AWER.12' performs emergency stop at the end of lane 'end4_junction_1' because of a red traffic light (decel=-17.79, offset=0.01), time=1060.87.\n"
     ]
    },
    {
     "name": "stdout",
     "output_type": "stream",
     "text": [
      "state : [ 0  2  0  0  2 21  0  2  0  0  2  2  0  0  0  0  0  0  0  0  0  0  0  0\n",
      "  0  2  4  5  7 25  2  2  0  0  4  2  4  0  0  2  0  9  2  0  0  1  0  4]\n",
      "Q_values : [-2.5821369  0.489645  12.757915  13.245605 ]\n",
      "state : [ 0  2  4  0  6  0  0  2  0  0  3  0  0  0  0  0  0  0  0  0  0  0  0  0\n",
      "  0  2  4  5 10 18  0  2  0  0  4  0  3  0  1  2  0  3  0  0  9  0  0  0]\n",
      "Q_values : [-8.050263  -6.0908313  1.7899092 -1.2770463]\n",
      "state : [ 0  2  6  0  0 20  0  2  0  0  0  0  0  0  0  0  0  0  0  0  0  0  0  0\n",
      "  0  2  6  5  4 24  0  2  0  0  0  0  4  0  0  2  1  0  0  0  0  0  2  0]\n",
      "Q_values : [ 5.6471004 11.290136   8.074631  12.095909 ]\n",
      "state : [ 0  2  6  0  3  0  0  2  0  0  0  0  0  0  0  0  0  0  0  0  0  0  0  0\n",
      "  0  2  8  5  7 17  2  2  0  0  2  0  3  0  0  0  0  0  0  0  8  0  0  0]\n",
      "Q_values : [-7.670414  -3.9118085 -1.3101668 -3.0833654]\n",
      "Step #1161.00 (0ms ?*RT. ?UPS, TraCI: 0ms, vehicles TOT 888 ACT 60 BUF 0)                 \r"
     ]
    },
    {
     "name": "stderr",
     "output_type": "stream",
     "text": [
      "Warning: Vehicle 'CESR.38' performs emergency braking on lane 'end2_junction_2' with decel=9.00, wished=5.00, severity=1.00, time=1161.37.\n"
     ]
    },
    {
     "name": "stdout",
     "output_type": "stream",
     "text": [
      "Step #1200.00 (1ms ~= 10.00*RT, ~67000.00UPS, TraCI: 76ms, vehicles TOT 924 ACT 67 BUF 0) \r"
     ]
    },
    {
     "name": "stderr",
     "output_type": "stream",
     "text": [
      "Warning: Vehicle 'ASNR.4' performs emergency braking on lane 'end3_junction_1' with decel=9.00, wished=5.00, severity=1.00, time=1200.00.\n",
      "Warning: Vehicle 'ASNR.4' performs emergency stop at the end of lane 'end3_junction_1' because of a red traffic light (decel=-30.09, offset=0.13), time=1200.98.\n"
     ]
    },
    {
     "name": "stdout",
     "output_type": "stream",
     "text": [
      "state : [ 0  0 10  0  2 23  0  0  2  0  0  2  0  0  0  0  0  0  0  0  0  0  0  0\n",
      "  0  0 10  0  2 23  0  0  2  0  0  2  1  1  0  0  0  0  0  1  0  0  0  0]\n",
      "Q_values : [12.873861 19.402256 11.943835 19.186764]\n",
      "episode : 35\n",
      "Step #1300.00 (0ms ?*RT. ?UPS, TraCI: 1ms, vehicles TOT 924 ACT 16 BUF 0)                 \n",
      " Retrying in 1 seconds\n"
     ]
    },
    {
     "name": "stderr",
     "output_type": "stream",
     "text": [
      "Warning: Environment variable SUMO_HOME is not set properly, disabling XML validation. Set 'auto' or 'always' for web lookups.\n"
     ]
    },
    {
     "name": "stdout",
     "output_type": "stream",
     "text": [
      "state : [ 0  2 10  0  0  4  0  2  2  0  0  2  0  0  0  0  0  0  0  0  0  0  0  0\n",
      "  0  3 13  4  1  4  4  2  2  1  3  2  2  0  0  3  4  0  0  0  0  0  1  0]\n",
      "Q_values : [-0.8941529  7.7802157  2.6820388  4.07656  ]\n",
      "state : [ 0  2  0  0  0  4  0  2  0  0  3  2  0  0  0  0  0  0  0  0  0  0  0  0\n",
      "  1  2  6  1  2  6  5  2  0  1  7  2  0  0  0  2  0 10  0  0  0  0  0  1]\n",
      "Q_values : [-5.659991  -3.820087  -3.1781402 -3.3097372]\n",
      "Step #100.00(0ms ?*RT. ?UPS, TraCI: 0ms, vehicles TOT 84 ACT 53 BUF 0)                    "
     ]
    },
    {
     "name": "stderr",
     "output_type": "stream",
     "text": [
      "Warning: Vehicle 'CNE.5' performs emergency braking on lane 'end1_junction_2' with decel=9.00, wished=5.00, severity=1.00, time=100.00.\n"
     ]
    },
    {
     "name": "stdout",
     "output_type": "stream",
     "text": [
      "state : [0 2 5 0 0 6 0 2 0 0 0 2 0 0 0 0 0 0 0 0 0 0 0 0 0 2 9 2 3 7 4 2 0 0 3 2 2\n",
      " 0 0 3 5 5 0 0 0 0 1 0]\n",
      "Q_values : [-3.0875788  -0.3777479  -0.07461286  3.0552151 ]\n",
      "state : [ 0  2  9  0  1  0  0  2  0  0  2  0  0  0  0  0  0  0  0  0  0  0  0  0\n",
      "  0  3 12  0  2  1  4  2  0  1  6  0  2  0  1  4  0  0  0  0  6  0  0  0]\n",
      "Q_values : [-5.3123903  5.3649874  1.7947335 -4.258876 ]\n",
      "Step #141.00 (0ms ?*RT. ?UPS, TraCI: 0ms, vehicles TOT 108 ACT 44 BUF 0)                  \r"
     ]
    },
    {
     "name": "stderr",
     "output_type": "stream",
     "text": [
      "Warning: Vehicle 'CES.3' performs emergency braking on lane 'end2_junction_2' with decel=9.00, wished=5.00, severity=1.00, time=140.00.\n",
      "Warning: Vehicle 'CES.3' performs emergency stop at the end of lane 'end2_junction_2' because of a red traffic light (decel=-13.40, offset=0.04), time=141.17.\n"
     ]
    },
    {
     "name": "stdout",
     "output_type": "stream",
     "text": [
      "state : [ 0  3  3  0  3  0  0  3  1  0  9  0  0  0  0  0  0  0  0  0  0  0  0  0\n",
      "  0  4  8  0  4  0  4  4  2  0 13  0  2  0  2  4  0  3  2  0  3  2  0  0]\n",
      "Q_values : [0.23919535 8.122786   9.698839   2.4254346 ]\n",
      "state : [ 0  4 11  0  0  2  0  4  2  0  0  0  0  0  0  0  0  0  0  0  0  0  0  0\n",
      "  1  4 15  2  0  2  6  4  2  1  3  0  2  0  0  2  4  1  0  0  0  0  1  0]\n",
      "Q_values : [-1.1824968 11.381914   4.1158457  3.1965628]\n",
      "state : [0 4 0 0 2 4 0 4 0 0 6 0 0 0 0 0 0 0 0 0 0 0 0 0 0 5 3 4 3 4 4 4 0 1 9 0 2\n",
      " 0 0 4 0 9 0 0 0 0 0 0]\n",
      "Q_values : [-3.7772892   4.0125957   4.6046724   0.05738318]\n",
      "state : [ 0  0  9  0  2  7  0  0  1  0  5  1  0  0  0  0  0  0  0  0  0  0  0  0\n",
      "  0  2 13  0  3  8  4  0  2  1  9  2  2  1  0  4  0  0  2  1  0  2  0  0]\n",
      "Q_values : [-3.2974153  6.597928   1.351985   2.06197  ]\n",
      "Step #320.00 (1ms ~= 10.00*RT, ~57000.00UPS, TraCI: 96ms, vehicles TOT 252 ACT 57 BUF 0)  \r"
     ]
    },
    {
     "name": "stderr",
     "output_type": "stream",
     "text": [
      "Warning: Vehicle 'ANS.2' performs emergency braking on lane 'end1_junction_1' with decel=9.00, wished=5.00, severity=1.00, time=320.00.\n",
      "Warning: Vehicle 'ANS.2' performs emergency stop at the end of lane 'end1_junction_1' because of a red traffic light (decel=-20.95, offset=0.04), time=320.51.\n"
     ]
    },
    {
     "name": "stdout",
     "output_type": "stream",
     "text": [
      "Step #340.00 (0ms ?*RT. ?UPS, TraCI: 75ms, vehicles TOT 270 ACT 61 BUF 0)                 \r"
     ]
    },
    {
     "name": "stderr",
     "output_type": "stream",
     "text": [
      "Warning: Vehicle 'CNE.25' performs emergency braking on lane 'end1_junction_2' with decel=9.00, wished=5.00, severity=1.00, time=340.00.\n",
      "Warning: Vehicle 'CNE.25' performs emergency stop at the end of lane 'end1_junction_2' because of a red traffic light (decel=-15.88, offset=0.03), time=340.14.\n"
     ]
    },
    {
     "name": "stdout",
     "output_type": "stream",
     "text": [
      "state : [ 0  0  5  0  4  9  0  0  0  0 13  2  0  0  0  0  0  0  0  0  0  0  0  0\n",
      "  0  0  9  0  5 10  4  0  0  0 16  2  2  0  0  4  0  2  0  1  0  0  0  0]\n",
      "Q_values : [-0.13588285  1.1562039  11.621653   14.144246  ]\n",
      "state : [ 0  0 12  0  0  2  0  0  0  0  0  0  0  0  0  0  0  0  0  0  0  0  0  0\n",
      "  1  0 16  2  0  2  5  0  0  1 11  0  2  0  0  1  8  3  0  0  1  0  4  3]\n",
      "Q_values : [-10.660956   -4.7900543  -4.699298   -8.546778 ]\n",
      "state : [ 0  0 16  0  0  2  0  0  0  0  0  0  0  0  0  0  0  0  0  0  0  0  0  0\n",
      "  0  0 19  2  2  4  4  0  0  0  3  0  0  0  0  4  6  5  0  0  0  0  0  0]\n",
      "Q_values : [-0.32956123  9.094686    3.4196272   3.404264  ]\n",
      "Step #420.00 (1ms ~= 10.00*RT, ~52000.00UPS, TraCI: 96ms, vehicles TOT 321 ACT 52 BUF 3)  \r"
     ]
    },
    {
     "name": "stderr",
     "output_type": "stream",
     "text": [
      "Warning: Vehicle 'CWE.33' performs emergency braking on lane 'end4_junction_1' with decel=9.00, wished=5.00, severity=1.00, time=420.00.\n",
      "Warning: Vehicle 'CWE.33' performs emergency stop at the end of lane 'end4_junction_1' because of a red traffic light (decel=-30.00, offset=0.05), time=420.99.\n"
     ]
    },
    {
     "name": "stdout",
     "output_type": "stream",
     "text": [
      "state : [ 0  0 10  0  0  4  0  0  0  0  0  0  0  0  0  0  0  0  0  0  0  0  0  0\n",
      "  3  2 15  1  1  6  5  2  2  2  4  2  0  0  0  1  5  5  0  0  0  0  2  0]\n",
      "Q_values : [-6.8990316  -0.61828816 -2.1090705  -5.001207  ]\n",
      "Step #480.00 (0ms ?*RT. ?UPS, TraCI: 74ms, vehicles TOT 375 ACT 61 BUF 3)                 \r"
     ]
    },
    {
     "name": "stderr",
     "output_type": "stream",
     "text": [
      "Warning: Vehicle 'CNE.36' performs emergency braking on lane 'end1_junction_2' with decel=9.00, wished=5.00, severity=1.00, time=480.00.\n",
      "Warning: Vehicle 'CNE.36' performs emergency stop at the end of lane 'end1_junction_2' because of a red traffic light (decel=-13.44, offset=0.01), time=480.38.\n"
     ]
    },
    {
     "name": "stdout",
     "output_type": "stream",
     "text": [
      "Step #500.00 (0ms ?*RT. ?UPS, TraCI: 79ms, vehicles TOT 384 ACT 51 BUF 0)                 \r"
     ]
    },
    {
     "name": "stderr",
     "output_type": "stream",
     "text": [
      "Warning: Vehicle 'CEW.13' performs emergency braking on lane 'end2_junction_1' with decel=9.00, wished=5.00, severity=1.00, time=500.00.\n",
      "Warning: Vehicle 'CEW.13' performs emergency stop at the end of lane 'end2_junction_1' because of a red traffic light (decel=-24.03, offset=0.02), time=500.17.\n"
     ]
    },
    {
     "name": "stdout",
     "output_type": "stream",
     "text": [
      "state : [ 0  2  0  0  1  8  0  2  0  0  3  2  0  0  0  0  0  0  0  0  0  0  0  0\n",
      "  1  2  4  2  3 10  6  2  0  1  7  2  0  0  0  2  0  9  0  0  0  0  0  0]\n",
      "Q_values : [-2.8212962  -0.93781877  1.7078675   2.3371835 ]\n",
      "Step #520.00 (0ms ?*RT. ?UPS, TraCI: 97ms, vehicles TOT 402 ACT 52 BUF 0)                 \r"
     ]
    },
    {
     "name": "stderr",
     "output_type": "stream",
     "text": [
      "Warning: Vehicle 'CNE.41' performs emergency braking on lane 'end1_junction_2' with decel=9.00, wished=5.00, severity=1.00, time=520.00.\n",
      "Warning: Vehicle 'CNE.41' performs emergency stop at the end of lane 'end1_junction_2' because of a red traffic light (decel=-13.13, offset=0.01), time=520.73.\n"
     ]
    },
    {
     "name": "stdout",
     "output_type": "stream",
     "text": [
      "state : [ 0  2  3  0  2  0  0  2  0  0  6  0  0  0  0  0  0  0  0  0  0  0  0  0\n",
      "  0  2  7  0  3  0  4  2  0  0 10  0  2  0  2  4  0  2  0  0  8  0  0  0]\n",
      "Q_values : [-3.2574239  1.0109099  3.7345872 -1.4272674]\n",
      "state : [ 0  2  7  0  0  0  0  2  0  0  0  0  0  0  0  0  0  0  0  0  0  0  0  0\n",
      "  0  3 10  2  2  2  4  2  0  1  2  0  0  0  0  3  6  4  0  0  1  0  2  1]\n",
      "Q_values : [-7.9095726   0.18432736 -2.1367037  -5.4744153 ]\n",
      "Step #580.00 (1ms ~= 10.00*RT, ~42000.00UPS, TraCI: 72ms, vehicles TOT 440 ACT 42 BUF 16) \r"
     ]
    },
    {
     "name": "stderr",
     "output_type": "stream",
     "text": [
      "Warning: Vehicle 'CNE.46' performs emergency braking on lane 'end1_junction_2' with decel=9.00, wished=5.00, severity=1.00, time=580.00.\n",
      "Warning: Vehicle 'CNE.46' performs emergency stop at the end of lane 'end1_junction_2' because of a red traffic light (decel=-17.79, offset=0.05), time=580.22.\n"
     ]
    },
    {
     "name": "stdout",
     "output_type": "stream",
     "text": [
      "state : [ 0  2  9  0  0  6  0  2  4  0  0  4  0  0  0  0  0  0  0  0  0  0  0  0\n",
      "  1  3  9  6  3 10  2  2  4  1  1  4  2  0  0  2  3  3  2  0  0  2  3  0]\n",
      "Q_values : [-0.43116426  0.95943546  4.7825565   7.5638742 ]\n",
      "state : [ 0  2  0  0  3  7  0  2  0  0  1  0  0  0  0  0  0  0  0  0  0  0  0  0\n",
      "  0  2  2  7  7 10  2  2  0  0  2  0  2  0  0  0  0  9  0  0  0  0  0  3]\n",
      "Q_values : [-3.4640374  -0.91149914  8.987526    7.361905  ]\n",
      "Step #720.00 (0ms ?*RT. ?UPS, TraCI: 73ms, vehicles TOT 559 ACT 53 BUF 5)                 \r"
     ]
    },
    {
     "name": "stderr",
     "output_type": "stream",
     "text": [
      "Warning: Vehicle 'CEWR.7' performs emergency braking on lane 'end2_junction_1' with decel=9.00, wished=5.00, severity=1.00, time=720.00.\n",
      "Warning: Vehicle 'CEWR.7' performs emergency stop at the end of lane 'end2_junction_1' because of a red traffic light (decel=-17.85, offset=0.05), time=720.86.\n"
     ]
    },
    {
     "name": "stdout",
     "output_type": "stream",
     "text": [
      "Step #740.00 (0ms ?*RT. ?UPS, TraCI: 74ms, vehicles TOT 569 ACT 46 BUF 1)                 \r"
     ]
    },
    {
     "name": "stderr",
     "output_type": "stream",
     "text": [
      "Warning: Vehicle 'CESR.8' performs emergency braking on lane 'end2_junction_2' with decel=9.00, wished=5.00, severity=1.00, time=740.00.\n",
      "Warning: Vehicle 'CESR.8' performs emergency stop at the end of lane 'end2_junction_2' because of a red traffic light (decel=-9.61, offset=0.01), time=740.75.\n"
     ]
    },
    {
     "name": "stdout",
     "output_type": "stream",
     "text": [
      "Step #760.00 (0ms ?*RT. ?UPS, TraCI: 0ms, vehicles TOT 596 ACT 60 BUF 4)                  "
     ]
    },
    {
     "name": "stderr",
     "output_type": "stream",
     "text": [
      "Warning: Vehicle 'CENR.11' performs emergency braking on lane 'end2_junction_0' with decel=9.00, wished=5.00, severity=1.00, time=760.00.\n"
     ]
    },
    {
     "name": "stdout",
     "output_type": "stream",
     "text": [
      "state : [ 0  0  2  0 20  8  0  0  0  0  6  0  0  0  0  0  0  0  0  0  0  0  0  0\n",
      "  0  0  4  5 24 12  2  0  0  0  8  0  4  0  0  0  0  0  0  0  0  0  0  0]\n",
      "Q_values : [-0.7711768  4.3744516 14.168963   8.719211 ]\n",
      "state : [ 0  0  4  0  0 11  0  0  0  0  0  0  0  0  0  0  0  0  0  0  0  0  0  0\n",
      "  0  1  5  6 15 16  2  0  0  1  1  0  3  0  0  1  4  4  0  0  0  0  7  3]\n",
      "Q_values : [-8.87504   -6.1394634 -3.9463918  1.6626327]\n",
      "state : [ 0  0  5  0 10  0  0  0  0  0  1  0  0  0  0  0  0  0  0  0  0  0  0  0\n",
      "  0  0  6  7 18  7  1  0  0  0  2  0  4  0  0  0  0  0  0  0  9  0  1  0]\n",
      "Q_values : [-7.3557844  -4.952254   -1.9786468  -0.82278246]\n",
      "state : [ 0  0  6  0 18  0  0  0  0  0  2  0  0  0  0  0  0  0  0  0  0  0  0  0\n",
      "  3  1  8  5 22  4  2  2  2  3  3  2  4  0  0  2  0  0  0  0  9  0  0  0]\n",
      "Q_values : [-3.0120485  2.6651435  7.418      4.0377502]\n",
      "state : [ 0  0  8  0  0  3  0  1  1  0  0  1  0  0  0  0  0  0  0  0  0  0  0  0\n",
      "  2  2  8  6 14  7  1  2  2  2  0  2  3  0  0  0  2  0  0  0  0  0  7  3]\n",
      "Q_values : [-9.277208  -6.683779  -2.4080465 -2.780499 ]\n",
      "Step #940.00 (0ms ?*RT. ?UPS, TraCI: 76ms, vehicles TOT 728 ACT 66 BUF 4)                 \r"
     ]
    },
    {
     "name": "stderr",
     "output_type": "stream",
     "text": [
      "Warning: Vehicle 'CEWR.25' performs emergency braking on lane 'end2_junction_1' with decel=9.00, wished=5.00, severity=1.00, time=940.00.\n",
      "Warning: Vehicle 'CEWR.25' performs emergency stop at the end of lane 'end2_junction_1' because of a red traffic light (decel=-19.51, offset=0.07), time=940.36.\n"
     ]
    },
    {
     "name": "stdout",
     "output_type": "stream",
     "text": [
      "state : [ 0  2  0  0  3 10  0  2  0  0  2  2  0  0  0  0  0  0  0  0  0  0  0  0\n",
      "  0  2  0  5  8 14  0  2  0  0  2  2  4  0  0  2  0  9  0  0  0  0  0  1]\n",
      "Q_values : [-3.3809395  1.6201047  5.6577644  9.187179 ]\n",
      "Step #980.00 (0ms ?*RT. ?UPS, TraCI: 76ms, vehicles TOT 755 ACT 51 BUF 1)                 \r"
     ]
    },
    {
     "name": "stderr",
     "output_type": "stream",
     "text": [
      "Warning: Vehicle 'CESR.28' performs emergency braking on lane 'end2_junction_2' with decel=9.00, wished=5.00, severity=1.00, time=980.00.\n",
      "Warning: Vehicle 'CESR.28' performs emergency stop at the end of lane 'end2_junction_2' because of a red traffic light (decel=-13.63, offset=0.02), time=980.35.\n"
     ]
    },
    {
     "name": "stdout",
     "output_type": "stream",
     "text": [
      "Step #1000.00(1ms ~= 10.00*RT, ~53000.00UPS, TraCI: 0ms, vehicles TOT 770 ACT 53 BUF 4)   "
     ]
    },
    {
     "name": "stderr",
     "output_type": "stream",
     "text": [
      "Warning: Vehicle 'CENR.31' performs emergency braking on lane 'end2_junction_0' with decel=9.00, wished=5.00, severity=1.00, time=1000.00.\n"
     ]
    },
    {
     "name": "stdout",
     "output_type": "stream",
     "text": [
      "state : [ 0  0  2  0 10 10  0  0  0  0  0  0  0  0  0  0  0  0  0  0  0  0  0  0\n",
      "  0  0  4  6 23 13  2  0  0  0  2  0  4  1  0  0  0  0  0  1  0  0  1  0]\n",
      "Q_values : [-10.708405   -7.703569   -1.35217     1.1615486]\n",
      "state : [ 0  0  4  0 22  0  0  0  0  0  2  0  0  0  0  0  0  0  0  0  0  0  0  0\n",
      "  0  0  4  5 26  6  0  0  0  0  2  0  4  0  0  2  0  0  0  0  9  0  0  0]\n",
      "Q_values : [-1.713809   5.4535007 13.600219   8.834908 ]\n",
      "state : [ 0  0  6  0 20  2  0  0  0  0  1  0  0  0  0  0  0  0  0  0  0  0  0  0\n",
      "  2  2  8  5 24  7  2  1  2  2  3  2  4  1  0  0  0  0  0  0  0  0  0  0]\n",
      "Q_values : [-3.9520042  2.5697694 11.340561   8.39385  ]\n",
      "Step #1200.00 (0ms ?*RT. ?UPS, TraCI: 103ms, vehicles TOT 924 ACT 65 BUF 0)               \r"
     ]
    },
    {
     "name": "stderr",
     "output_type": "stream",
     "text": [
      "Warning: Vehicle 'ASNR.4' performs emergency braking on lane 'end3_junction_1' with decel=9.00, wished=5.00, severity=1.00, time=1200.00.\n",
      "Warning: Vehicle 'ASNR.4' performs emergency stop at the end of lane 'end3_junction_1' because of a red traffic light (decel=-30.35, offset=0.05), time=1200.95.\n"
     ]
    },
    {
     "name": "stdout",
     "output_type": "stream",
     "text": [
      "state : [ 0  2  8  0  0  6  0  1  2  0  0  2  0  0  0  0  0  0  0  0  0  0  0  0\n",
      "  0  2  8  1 13  7  0  1  2  0  0  2  3  0  0  2  2  1  2  0  0  2  6  4]\n",
      "Q_values : [-2.4617703  4.7921147  6.3851213  6.943363 ]\n",
      "state : [ 0  2  8  0 10  0  0  1  2  0  0  0  0  0  0  0  0  0  0  0  0  0  0  0\n",
      "  0  2  8  0 13  0  0  1  2  0  0  0  2  0  1  0  0  0  0  0  7  0  0  0]\n",
      "Q_values : [ 0.7120843 20.472319   9.385458   6.027572 ]\n",
      "state : [ 0  2  0  0 13  0  0  1  0  0  0  0  0  0  0  0  0  0  0  0  0  0  0  0\n",
      "  0  2  0  0 13  0  0  1  0  0  0  0  0  0  0  0  0  7  0  0  0  0  0  1]\n",
      "Q_values : [ 3.3275156 16.087915  14.82872    7.2499466]\n",
      "state : [ 0  2  0  0 13  0  0  1  0  0  0  0  0  0  0  0  0  0  0  0  0  0  0  0\n",
      "  0  2  0  0 13  0  0  1  0  0  0  0  0  0  0  0  0  0  0  0  0  0  0  0]\n",
      "Q_values : [ 2.7600474 13.554701  14.1033125  6.3858047]\n",
      "episode : 36\n",
      "Step #1300.00 (0ms ?*RT. ?UPS, TraCI: 0ms, vehicles TOT 924 ACT 16 BUF 0)                 \n",
      " Retrying in 1 seconds\n"
     ]
    },
    {
     "name": "stderr",
     "output_type": "stream",
     "text": [
      "Warning: Environment variable SUMO_HOME is not set properly, disabling XML validation. Set 'auto' or 'always' for web lookups.\n"
     ]
    },
    {
     "name": "stdout",
     "output_type": "stream",
     "text": [
      "state : [0 0 0 0 0 0 0 0 0 0 0 0 0 0 0 0 0 0 0 0 0 0 0 0 0 0 0 0 0 0 0 0 0 0 0 0 0\n",
      " 0 0 0 0 0 0 0 0 0 0 0]\n",
      "Q_values : [-2.4944484  -0.81005037 -3.3975124  -0.34240752]\n",
      "state : [0 0 0 0 0 0 0 0 0 0 0 0 0 0 0 0 0 0 0 0 0 0 0 0 2 3 3 2 2 2 4 2 2 3 3 2 0\n",
      " 0 0 0 0 0 0 0 0 0 0 0]\n",
      "Q_values : [-19.308634  -10.702796  -11.4254875 -13.872618 ]\n",
      "state : [0 2 6 0 2 0 0 2 0 0 2 0 0 0 0 0 0 0 0 0 0 0 0 0 0 3 9 4 3 0 4 2 0 1 6 0 2\n",
      " 0 1 3 1 0 0 0 3 0 0 0]\n",
      "Q_values : [-4.8184705  3.501767   3.0759053 -3.8761463]\n",
      "state : [ 0  2  0  0  2  0  0  2  0  0  6  0  0  0  0  0  0  0  0  0  0  0  0  0\n",
      "  1  2  3  1  4  2  6  2  0  1 10  0  0  0  0  3  0  8  0  0  0  0  0  0]\n",
      "Q_values : [-2.608068    0.24555671  5.6215954  -2.5867286 ]\n",
      "state : [0 2 6 0 0 3 0 2 0 0 0 0 0 0 0 0 0 0 0 0 0 0 0 0 0 3 9 0 0 4 4 2 0 1 2 0 2\n",
      " 0 0 4 2 0 0 0 0 0 1 0]\n",
      "Q_values : [ 0.24778652  4.4685187  -2.8626266   2.2240348 ]\n",
      "state : [0 3 0 0 1 5 0 3 0 0 4 1 0 0 0 0 0 0 0 0 0 0 0 0 0 4 3 0 2 6 4 4 0 0 9 2 2\n",
      " 0 0 4 0 3 2 0 0 2 0 2]\n",
      "Q_values : [-3.300504  -1.8717825  0.696074   0.9129736]\n",
      "state : [ 0  4  2  0  2  0  0  4  0  0  9  0  0  0  0  0  0  0  0  0  0  0  0  0\n",
      "  0  5  6  2  4  2  4  4  0  1 12  0  0  0  1  4  0  0  0  0  5  0  0  0]\n",
      "Q_values : [-2.4039452   0.11114895  6.1712837  -2.597333  ]\n",
      "state : [ 0  4 16  0  0  0  0  4  0  0  0  0  0  0  0  0  0  0  0  0  0  0  0  0\n",
      "  1  4 20  1  1  2  5  4  0  1  3  0  0  0  0  3  6  4  0  0  0  0  2  0]\n",
      "Q_values : [-4.717748    8.612944    3.1591675   0.46736526]\n",
      "state : [ 0  4  0  0  1  2  0  4  0  0  2  0  0  0  0  0  0  0  0  0  0  0  0  0\n",
      "  2  7 11  2  4  3  5  6  1  3  6  1  2  0  0  3  1  9  0  0  0  0  0  0]\n",
      "Q_values : [-10.542728   -6.488288   -3.567906   -6.5394692]\n"
     ]
    },
    {
     "name": "stderr",
     "output_type": "stream",
     "text": [
      "Warning: Teleporting vehicle 'CNS.0'; waited too long (yield), lane='end1_junction_1', time=331.25.\n",
      "Warning: Vehicle 'CNS.0' ends teleporting on edge 'junction_end3', time=331.25.\n",
      "Warning: Teleporting vehicle 'ASN.0'; waited too long (yield), lane='end3_junction_1', time=331.82.\n",
      "Warning: Vehicle 'ASN.0' ends teleporting on edge 'junction_end1', time=331.82.\n"
     ]
    },
    {
     "name": "stdout",
     "output_type": "stream",
     "text": [
      "Step #360.00 (1ms ~= 10.00*RT, ~60000.00UPS, TraCI: 72ms, vehicles TOT 280 ACT 60 BUF 8)  \r"
     ]
    },
    {
     "name": "stderr",
     "output_type": "stream",
     "text": [
      "Warning: Vehicle 'CWE.28' performs emergency braking on lane 'end4_junction_1' with decel=9.00, wished=5.00, severity=1.00, time=360.00.\n",
      "Warning: Vehicle 'CWE.28' performs emergency stop at the end of lane 'end4_junction_1' because of a red traffic light (decel=-30.35, offset=0.19), time=360.95.\n"
     ]
    },
    {
     "name": "stdout",
     "output_type": "stream",
     "text": [
      "Step #400.00 (0ms ?*RT. ?UPS, TraCI: 72ms, vehicles TOT 308 ACT 59 BUF 4)                 \r"
     ]
    },
    {
     "name": "stderr",
     "output_type": "stream",
     "text": [
      "Warning: Vehicle 'CNE.24' performs emergency braking on lane 'end1_junction_2' with decel=9.00, wished=5.00, severity=1.00, time=400.00.\n",
      "Warning: Vehicle 'CNE.24' performs emergency stop at the end of lane 'end1_junction_2' because of a red traffic light (decel=-14.44, offset=0.01), time=400.32.\n"
     ]
    },
    {
     "name": "stdout",
     "output_type": "stream",
     "text": [
      "state : [ 0  0 21  0  0  6  0  0  0  0  0  0  0  0  0  0  0  0  0  0  0  0  0  0\n",
      "  4  1 23  4  1  6  6  1  0  4  4  0  2  0  0  4  7  3  0  0  0  0  2  1]\n",
      "Q_values : [ 2.6633043  8.816545  -4.0175858  0.8996743]\n",
      "state : [ 0  2 10  0  0  8  0  2  2  0  0  2  0  0  0  0  0  0  0  0  0  0  0  0\n",
      "  0  2 20  2  3  9  4  2  2  0  3  2  2  0  0  3  5  7  2  0  0  1  1  1]\n",
      "Q_values : [ 2.6413121  3.0563512 -6.2044945  4.4663887]\n",
      "state : [ 0  2 20  0  1  0  0  2  2  0  2  0  0  0  0  0  0  0  0  0  0  0  0  0\n",
      "  0  3 23  0  2  1  4  2  2  1  6  0  2  0  2  3  0  1  0  0  9  0  0  0]\n",
      "Q_values : [-3.121942  13.542394   6.997441   0.7188305]\n",
      "Step #500.00 (1ms ~= 10.00*RT, ~61000.00UPS, TraCI: 94ms, vehicles TOT 384 ACT 61 BUF 0)  \r"
     ]
    },
    {
     "name": "stderr",
     "output_type": "stream",
     "text": [
      "Warning: Vehicle 'CES.13' performs emergency braking on lane 'end2_junction_2' with decel=9.00, wished=5.00, severity=1.00, time=500.00.\n",
      "Warning: Vehicle 'CES.13' performs emergency stop at the end of lane 'end2_junction_2' because of a red traffic light (decel=-17.93, offset=0.08), time=500.57.\n"
     ]
    },
    {
     "name": "stdout",
     "output_type": "stream",
     "text": [
      "state : [ 0  2  0  0  2  1  0  2  0  0  6  0  0  0  0  0  0  0  0  0  0  0  0  0\n",
      "  1  2 16  2  5  2  6  2  0  1 10  0  0  0  0  2  0  9  0  0  0  0  0  2]\n",
      "Q_values : [-6.1985035 -2.39757   -0.3433621 -1.3455844]\n",
      "Step #520.00 (0ms ?*RT. ?UPS, TraCI: 96ms, vehicles TOT 402 ACT 61 BUF 0)                 \r"
     ]
    },
    {
     "name": "stderr",
     "output_type": "stream",
     "text": [
      "Warning: Vehicle 'CNE.35' performs emergency braking on lane 'end1_junction_2' with decel=9.00, wished=5.00, severity=1.00, time=520.00.\n",
      "Warning: Vehicle 'CNE.35' performs emergency stop at the end of lane 'end1_junction_2' because of a red traffic light (decel=-14.41, offset=0.04), time=520.32.\n"
     ]
    },
    {
     "name": "stdout",
     "output_type": "stream",
     "text": [
      "state : [ 0  2 19  0  0  3  0  2  0  0  0  0  0  0  0  0  0  0  0  0  0  0  0  0\n",
      "  0  3 22  2  2  5  4  2  0  1  2  0  0  0  0  3  3  1  0  0  0  0  0  0]\n",
      "Q_values : [ 0.95270014  9.888154   -0.29139876  2.0767982 ]\n",
      "state : [ 0  2  0  0  2  5  0  2  0  0  2  0  0  0  0  0  0  0  0  0  0  0  0  0\n",
      "  2  2 14  2  2  5  6  2  0  2  5  0  2  0  0  2  0  9  0  0  0  0  0  0]\n",
      "Q_values : [-2.381267    0.21296382 -4.5829983  -0.53684294]\n",
      "state : [ 0  2  0  0  2  5  0  2  0  0  5  0  0  0  0  0  0  0  0  0  0  0  0  0\n",
      "  2  4  7  2  4  7  4  4  2  2  9  2  0  0  0  4  0 13  0  0  0  0  0  0]\n",
      "Q_values : [-11.923997   -9.634221   -7.9831166  -4.8988914]\n",
      "Step #600.00 (0ms ?*RT. ?UPS, TraCI: 0ms, vehicles TOT 462 ACT 67 BUF 0)                  "
     ]
    },
    {
     "name": "stderr",
     "output_type": "stream",
     "text": [
      "Warning: Vehicle 'CNE.46' performs emergency braking on lane 'end1_junction_2' with decel=9.00, wished=5.00, severity=1.00, time=600.00.\n"
     ]
    },
    {
     "name": "stdout",
     "output_type": "stream",
     "text": [
      "state : [ 0  0 13  0 19  6  0  0  4  0 15  0  0  0  0  0  0  0  0  0  0  0  0  0\n",
      "  0  0 15  5 23 10  2  0  4  0 17  0  4  0  0  2  0  0  0  0  0  0  0  0]\n",
      "Q_values : [10.154489 15.259551 32.429367 16.121084]\n",
      "state : [ 0  1  6  0 17  0  0  2  1  0  7  0  0  0  0  0  0  0  0  0  0  0  0  0\n",
      "  1  2  6  5 21  9  0  2  2  1  7  0  4  0  2  2  0  3  1  0  8  1  0  0]\n",
      "Q_values : [ 0.7371621  6.1487203 16.080925   8.99765  ]\n",
      "state : [ 0  0  8  0 10 12  0  0  2  0  1  0  0  0  0  0  0  0  0  0  0  0  0  0\n",
      "  1  1  8  7 15 15  2  0  2  1  2  0  2  3  0  2  0  0  0  1  0  0  1  0]\n",
      "Q_values : [ 0.20402765  5.6222043  11.869947   12.916223  ]\n",
      "state : [ 0  2  4  0 10  0  0  2  2  0  0  0  0  0  0  0  0  0  0  0  0  0  0  0\n",
      "  0  2  6  6 24 13  2  2  2  0  2  0  4  0  1  1  1  0  2  0  9  1  2  0]\n",
      "Q_values : [-11.3894005  -4.9517355  -5.2525835 -10.104279 ]\n",
      "Step #940.00 (0ms ?*RT. ?UPS, TraCI: 0ms, vehicles TOT 728 ACT 81 BUF 4)                  "
     ]
    },
    {
     "name": "stderr",
     "output_type": "stream",
     "text": [
      "Warning: Vehicle 'CESR.21' performs emergency braking on lane 'end2_junction_2' with decel=9.00, wished=5.00, severity=1.00, time=940.00.\n"
     ]
    },
    {
     "name": "stdout",
     "output_type": "stream",
     "text": [
      "state : [ 0  2  0  0  0 16  0  2  0  0  0  0  0  0  0  0  0  0  0  0  0  0  0  0\n",
      "  0  2  2  6 18 21  2  2  0  0  1  0  2  0  0  0  2  0  0  0  0  0  7  3]\n",
      "Q_values : [-6.542178  -3.072167  -1.8545225  2.8836927]\n",
      "state : [ 0  2  2  0 10  0  0  2  0  0  1  0  0  0  0  0  0  0  0  0  0  0  0  0\n",
      "  1  3  2  7 21 12  2  2  0  1  2  0  4  0  0  2  0  0  0  0  9  0  1  0]\n",
      "Q_values : [-8.946659  -4.3646417 -2.6830204 -3.5459976]\n",
      "state : [ 0  2  4  0  0 15  0  2  0  0  0  0  0  0  0  0  0  0  0  0  0  0  0  0\n",
      "  3  4  5  6  4 20  4  4  0  3  1  2  3  0  0  1  1  0  0  0  0  0  7  5]\n",
      "Q_values : [-1.6318557   1.8169712  -0.17332244  6.741933  ]\n",
      "Step #1060.00 (0ms ?*RT. ?UPS, TraCI: 71ms, vehicles TOT 818 ACT 65 BUF 4)                \r"
     ]
    },
    {
     "name": "stderr",
     "output_type": "stream",
     "text": [
      "Warning: Vehicle 'CESR.32' performs emergency braking on lane 'end2_junction_2' with decel=9.00, wished=5.00, severity=1.00, time=1060.00.\n",
      "Warning: Vehicle 'CESR.32' performs emergency stop at the end of lane 'end2_junction_2' because of a red traffic light (decel=-9.72, offset=0.00), time=1060.75.\n"
     ]
    },
    {
     "name": "stdout",
     "output_type": "stream",
     "text": [
      "state : [ 0  0 13  0  2 20  0  0  2  0  0  0  0  0  0  0  0  0  0  0  0  0  0  0\n",
      "  2  2 14  5  7 24  2  1  4  2  2  2  4  1  0  0  0  0  0  0  0  0  0  0]\n",
      "Q_values : [0.31841993 7.252771   2.8085277  7.2166853 ]\n",
      "Step #1220.00 (0ms ?*RT. ?UPS, TraCI: 0ms, vehicles TOT 924 ACT 65 BUF 0)                 "
     ]
    },
    {
     "name": "stderr",
     "output_type": "stream",
     "text": [
      "Warning: Vehicle 'CNER.15' performs emergency braking on lane 'end1_junction_2' with decel=9.00, wished=5.00, severity=1.00, time=1220.00.\n"
     ]
    },
    {
     "name": "stdout",
     "output_type": "stream",
     "text": [
      "episode : 37\n",
      "Step #1300.00 (0ms ?*RT. ?UPS, TraCI: 0ms, vehicles TOT 924 ACT 29 BUF 0)                 \n",
      " Retrying in 1 seconds\n"
     ]
    },
    {
     "name": "stderr",
     "output_type": "stream",
     "text": [
      "Warning: Environment variable SUMO_HOME is not set properly, disabling XML validation. Set 'auto' or 'always' for web lookups.\n"
     ]
    },
    {
     "name": "stdout",
     "output_type": "stream",
     "text": [
      "state : [0 0 0 0 0 0 0 0 0 0 0 0 0 0 0 0 0 0 0 0 0 0 0 0 2 3 3 2 2 2 4 2 2 3 3 2 0\n",
      " 0 0 0 0 0 0 0 0 0 0 0]\n",
      "Q_values : [-13.254186  -12.636831  -11.081871  -13.4086075]\n",
      "state : [ 0  2  6  0  0  0  0  2  2  0  2  0  0  0  0  0  0  0  0  0  0  0  0  0\n",
      "  0  2 10  2  2  2  4  2  2  0  6  0  0  0  1  3  1  0  0  0  1  0  0  0]\n",
      "Q_values : [-3.6669917  7.0654087  0.5365901 -1.1846684]\n",
      "state : [0 2 0 0 2 2 0 2 0 0 6 0 0 0 0 0 0 0 0 0 0 0 0 0 0 3 3 4 3 2 4 2 0 1 9 0 2\n",
      " 0 0 4 0 9 0 0 0 0 0 1]\n",
      "Q_values : [-2.4273498  4.8918056  5.4098196 -2.3610823]\n",
      "state : [ 0  0  6  0  1  4  0  0  0  0  2  0  0  0  0  0  0  0  0  0  0  0  0  0\n",
      "  0  0 10  2  4  5  4  0  0  0  6  0  1  2  0  3  0  1  0  1  0  0  0  0]\n",
      "Q_values : [-5.3125024   1.9499159  -0.71512985 -3.3905365 ]\n",
      "state : [ 0  0  0  0  3  6  0  0  0  0  9  0  0  0  0  0  0  0  0  0  0  0  0  0\n",
      "  3  3  2  2  6  7  5  3  1  3 14  1  1  0  0  3  0  4  0  0  0  0  0  0]\n",
      "Q_values : [-5.095841   -3.250875   -0.16948962 -0.3161686 ]\n",
      "state : [ 0  2  6  0  0  0  0  2  0  0  2  0  0  0  0  0  0  0  0  0  0  0  0  0\n",
      "  0  2 10  2  2  2  4  2  0  0  6  0  0  0  1  3  1  0  0  0  9  0  0  0]\n",
      "Q_values : [-10.800332    -0.63818026  -1.9266486   -6.2073145 ]\n",
      "state : [0 2 0 0 2 2 0 2 0 0 6 0 0 0 0 0 0 0 0 0 0 0 0 0 0 3 3 4 3 2 4 2 0 1 9 0 2\n",
      " 0 0 4 0 9 0 0 1 0 0 0]\n",
      "Q_values : [-2.8238754  1.6267948  5.919532  -3.9157062]\n",
      "state : [0 2 3 0 0 2 0 2 0 0 0 0 0 0 0 0 0 0 0 0 0 0 0 0 1 2 7 1 1 4 5 2 0 1 3 0 0\n",
      " 0 0 2 6 6 0 0 0 0 2 0]\n",
      "Q_values : [-5.634547  -3.7122536 -3.8054311 -2.5559936]\n",
      "state : [0 3 0 0 2 1 0 3 0 0 5 1 0 0 0 0 0 0 0 0 0 0 0 0 0 5 4 0 3 2 4 4 1 1 9 2 2\n",
      " 0 0 4 0 8 2 0 0 2 0 1]\n",
      "Q_values : [-3.4996252  1.1520241  5.3260813 -4.61008  ]\n",
      "Step #320.00 (0ms ?*RT. ?UPS, TraCI: 95ms, vehicles TOT 252 ACT 54 BUF 0)                 \r"
     ]
    },
    {
     "name": "stderr",
     "output_type": "stream",
     "text": [
      "Warning: Vehicle 'CSW.2' performs emergency braking on lane 'end3_junction_2' with decel=9.00, wished=5.00, severity=1.00, time=320.00.\n",
      "Warning: Vehicle 'CNE.24' performs emergency braking on lane 'end1_junction_2' with decel=9.00, wished=5.00, severity=1.00, time=320.00.\n",
      "Warning: Vehicle 'CSW.2' performs emergency stop at the end of lane 'end3_junction_2' because of a red traffic light (decel=-16.59, offset=0.07), time=320.53.\n",
      "Warning: Vehicle 'CNE.24' performs emergency stop at the end of lane 'end1_junction_2' because of a red traffic light (decel=-16.52, offset=0.05), time=320.60.\n"
     ]
    },
    {
     "name": "stdout",
     "output_type": "stream",
     "text": [
      "state : [0 4 4 0 0 2 0 4 1 0 0 2 0 0 0 0 0 0 0 0 0 0 0 0 1 4 8 2 3 3 5 4 1 1 3 2 1\n",
      " 0 0 1 6 3 1 0 0 0 2 1]\n",
      "Q_values : [-3.241462   -1.9826478  -2.7612722   0.19401681]\n",
      "state : [ 0  0  0  0  6  4  0  0  0  0 16  0  0  0  0  0  0  0  0  0  0  0  0  0\n",
      "  4  1  2  4  7  4  6  1  0  4 19  0  2  0  0  4  0  3  0  0  0  0  0  0]\n",
      "Q_values : [ 1.9401302 12.873605  14.002416   4.904581 ]\n",
      "state : [ 0  0  2  0  0  4  0  0  0  0  0  0  0  0  0  0  0  0  0  0  0  0  0  0\n",
      "  2  2  7  1  1  6  5  2  2  3 11  2  0  0  0  2  6  4  0  0  0  0  4  2]\n",
      "Q_values : [-17.492802 -12.483048 -12.168735 -14.191679]\n",
      "state : [ 0  2  6  0  0  6  0  2  2  0  0  2  0  0  0  0  0  0  0  0  0  0  0  0\n",
      "  0  2 10  2  3  7  4  2  2  0  3  2  2  0  0  4  7  4  2  0  0  1  1  1]\n",
      "Q_values : [4.2848186  6.042715   0.37246466 9.963096  ]\n",
      "Step #500.00 (1ms ~= 10.00*RT, ~48000.00UPS, TraCI: 70ms, vehicles TOT 384 ACT 48 BUF 0)  \r"
     ]
    },
    {
     "name": "stderr",
     "output_type": "stream",
     "text": [
      "Warning: Vehicle 'CES.13' performs emergency braking on lane 'end2_junction_2' with decel=9.00, wished=5.00, severity=1.00, time=500.00.\n",
      "Warning: Vehicle 'CES.13' performs emergency stop at the end of lane 'end2_junction_2' because of a red traffic light (decel=-18.34, offset=0.08), time=500.48.\n"
     ]
    },
    {
     "name": "stdout",
     "output_type": "stream",
     "text": [
      "Step #520.00 (0ms ?*RT. ?UPS, TraCI: 0ms, vehicles TOT 402 ACT 53 BUF 0)                  "
     ]
    },
    {
     "name": "stderr",
     "output_type": "stream",
     "text": [
      "Warning: Vehicle 'CNE.40' performs emergency braking on lane 'end1_junction_2' with decel=9.00, wished=5.00, severity=1.00, time=520.00.\n"
     ]
    },
    {
     "name": "stdout",
     "output_type": "stream",
     "text": [
      "state : [ 0  0 15  0  0  2  0  0  0  0  0  0  0  0  0  0  0  0  0  0  0  0  0  0\n",
      "  2  2 19  2  2  4  4  2  2  2 11  2  0  0  0  4  6  4  0  0  0  0  3  2]\n",
      "Q_values : [-13.735302   -2.9694161  -8.613901   -9.283732 ]\n"
     ]
    },
    {
     "name": "stderr",
     "output_type": "stream",
     "text": [
      "Warning: Vehicle 'CESR.1' performs emergency braking on lane 'end2_junction_2' with decel=9.00, wished=5.00, severity=1.00, time=644.21.\n"
     ]
    },
    {
     "name": "stdout",
     "output_type": "stream",
     "text": [
      "state : [ 0  4  0  0  7  2  0  4  0  0 14  0  0  0  0  0  0  0  0  0  0  0  0  0          \n",
      "  0  4  1  5 11  7  2  4  0  0 15  0  4  0  0  0  0  9  0  0  0  1  0  1]\n",
      "Q_values : [ 3.5814748  8.67863   16.944271   9.747019 ]\n",
      "state : [ 0  4  0  0  3 10  0  4  0  0  4  0  0  0  0  0  0  0  0  0  0  0  0  0\n",
      "  0  4  0  7  7 13  2  4  0  0  5  0  3  0  0  0  1  2  0  0  0  0  0  0]\n",
      "Q_values : [ 0.28219748  1.4713898   8.7657385  10.488784  ]\n",
      "state : [ 0  4  0  0  6  0  0  4  0  0  5  0  0  0  0  0  0  0  0  0  0  0  0  0\n",
      "  0  4  2  5 11  6  2  4  0  0  7  0  4  0  0  2  0  1  0  0  9  0  0  0]\n",
      "Q_values : [-3.5858097 -1.9265927  2.244784   2.311901 ]\n",
      "state : [0 4 2 0 0 2 0 4 0 0 0 0 0 0 0 0 0 0 0 0 0 0 0 0 2 6 4 7 5 6 2 6 2 2 2 2 4\n",
      " 0 0 1 4 3 0 0 1 0 7 3]\n",
      "Q_values : [-10.350794   -6.14094    -5.8322573  -7.9165425]\n",
      "Step #780.00 (1ms ~= 10.00*RT, ~60000.00UPS, TraCI: 72ms, vehicles TOT 610 ACT 60 BUF 8)  \r"
     ]
    },
    {
     "name": "stderr",
     "output_type": "stream",
     "text": [
      "Warning: Vehicle 'CEWR.12' performs emergency braking on lane 'end2_junction_1' with decel=9.00, wished=5.00, severity=1.00, time=780.00.\n",
      "Warning: Vehicle 'CEWR.12' performs emergency stop at the end of lane 'end2_junction_1' because of a red traffic light (decel=-23.30, offset=0.09), time=780.25.\n"
     ]
    },
    {
     "name": "stdout",
     "output_type": "stream",
     "text": [
      "state : [ 0  0  6  0  6 13  0  0  2  0  2  2  0  0  0  0  0  0  0  0  0  0  0  0\n",
      "  1  1  6  7 10 16  2  0  2  1  3  2  2  0  0  2  0  0  0  0  0  0  0  0]\n",
      "Q_values : [-0.11987448  4.8041787  13.523448    7.262832  ]\n",
      "state : [ 0  0  8  0  0 19  0  0  2  0  0  2  0  0  0  0  0  0  0  0  0  0  0  0\n",
      "  0  1  9  5  4 24  2  0  2  1  1  2  4  0  0  1  2  0  0  0  0  0  3  0]\n",
      "Q_values : [ 6.342925 15.033671  6.119702 10.014387]\n",
      "state : [ 0  0  0  0  6  0  0  0  0  0  2  0  0  0  0  0  0  0  0  0  0  0  0  0\n",
      "  3  1  2  5 11 19  2  2  2  3  3  2  4  0  1  2  0  1  0  0  9  0  0  0]\n",
      "Q_values : [-14.635988   -9.361894   -4.216468   -3.8049774]\n",
      "state : [ 0  2  0  0 14  9  0  2  0  0  4  0  0  0  0  0  0  0  0  0  0  0  0  0\n",
      "  0  2  2  7 17 13  2  2  0  0  6  0  4  0  0  2  0  1  2  0  3  2  0  1]\n",
      "Q_values : [ 0.5324216  5.8781476 15.735009  11.445741 ]\n",
      "state : [ 0  0  2  0  8 16  0  0  0  0  0  0  0  0  0  0  0  0  0  0  0  0  0  0\n",
      "  0  0  4  5 12 21  2  0  0  0  2  0  2  2  0  0  0  0  0  1  0  0  1  0]\n",
      "Q_values : [-3.7230766  1.0305331 10.383715   8.492544 ]\n",
      "Step #1000.00(0ms ?*RT. ?UPS, TraCI: 0ms, vehicles TOT 770 ACT 60 BUF 4)                  "
     ]
    },
    {
     "name": "stderr",
     "output_type": "stream",
     "text": [
      "Warning: Vehicle 'CENR.31' performs emergency braking on lane 'end2_junction_0' with decel=9.00, wished=5.00, severity=1.00, time=1000.00.\n"
     ]
    },
    {
     "name": "stdout",
     "output_type": "stream",
     "text": [
      "state : [ 0  0  0  0  2 23  0  0  0  0  0  0  0  0  0  0  0  0  0  0  0  0  0  0\n",
      "  0  0  1  5  7 27  2  0  0  0  2  0  4  0  0  0  0  3  0  0  0  0  1  0]\n",
      "Q_values : [-2.4077299  0.8782726  4.841507  10.248668 ]\n",
      "state : [ 0  0  2  0  9 10  0  0  0  0  2  1  0  0  0  0  0  0  0  0  0  0  0  0\n",
      "  2  2  3  7 13 22  2  0  2  2  4  2  4  2  0  0  0  0  0  0  3  0  0  0]\n",
      "Q_values : [-10.076886   -7.2292414   1.4474193   2.2435632]\n",
      "Step #1060.00 (0ms ?*RT. ?UPS, TraCI: 92ms, vehicles TOT 818 ACT 70 BUF 4)                \r"
     ]
    },
    {
     "name": "stderr",
     "output_type": "stream",
     "text": [
      "Warning: Vehicle 'ANSR.3' performs emergency stop at the end of lane 'end1_junction_1' because of a red traffic light (decel=-19.68, offset=0.05), time=1060.69.\n"
     ]
    },
    {
     "name": "stdout",
     "output_type": "stream",
     "text": [
      "Step #1080.00 (0ms ?*RT. ?UPS, TraCI: 0ms, vehicles TOT 834 ACT 75 BUF 0)                 "
     ]
    },
    {
     "name": "stderr",
     "output_type": "stream",
     "text": [
      "Warning: Vehicle 'CESR.32' performs emergency braking on lane 'end2_junction_2' with decel=9.00, wished=5.00, severity=1.00, time=1080.00.\n"
     ]
    },
    {
     "name": "stdout",
     "output_type": "stream",
     "text": [
      "state : [ 0  2  2  0 23  0  0  0  0  0  8  0  0  0  0  0  0  0  0  0  0  0  0  0\n",
      "  0  2  2  5 27 14  0  0  0  0  8  0  4  0  0  2  0  0  0  0  9  0  0  0]\n",
      "Q_values : [ 4.526121  7.43958  19.86129  14.941504]\n",
      "state : [ 0  2  2  0  0 10  0  0  0  0  0  0  0  0  0  0  0  0  0  0  0  0  0  0\n",
      "  0  2  4  6 18 18  2  0  0  0  1  0  3  0  0  0  4  3  0  0  3  0  7  3]\n",
      "Q_values : [-13.40029  -10.809087  -2.900442  -2.025529]\n",
      "state : [ 0  2  4  0 10  0  0  0  0  0  1  0  0  0  0  0  0  0  0  0  0  0  0  0\n",
      "  2  3  4  6 22  9  2  1  0  2  2  0  4  0  0  2  0  0  0  0  9  0  1  0]\n",
      "Q_values : [-7.5589943  -5.511714    0.5685561  -0.07935119]\n",
      "Step #1180.00 (0ms ?*RT. ?UPS, TraCI: 94ms, vehicles TOT 905 ACT 70 BUF 13)               \r"
     ]
    },
    {
     "name": "stderr",
     "output_type": "stream",
     "text": [
      "Warning: Vehicle 'CESR.43' performs emergency braking on lane 'end2_junction_2' with decel=9.00, wished=5.00, severity=1.00, time=1180.00.\n",
      "Warning: Vehicle 'CESR.43' performs emergency stop at the end of lane 'end2_junction_2' because of a red traffic light (decel=-10.49, offset=0.00), time=1180.66.\n"
     ]
    },
    {
     "name": "stdout",
     "output_type": "stream",
     "text": [
      "state : [ 0  2  4  0  0  9  0  0  0  0  0  0  0  0  0  0  0  0  0  0  0  0  0  0\n",
      "  2  4  6  5 13 13  2  2  2  2  2  2  4  0  0  0  1  0  0  0  2  0  7  3]\n",
      "Q_values : [-15.801086  -10.467915   -4.9808984  -5.048457 ]\n",
      "state : [ 0  4  6  0  0 12  0  2  2  0  0  2  0  0  0  0  0  0  0  0  0  0  0  0\n",
      "  0  4  6  1  2 13  0  2  2  0  0  2  4  0  0  1  2  0  2  0  0  2  8  4]\n",
      "Q_values : [ 9.451913  14.435816   4.1284184 15.101408 ]\n",
      "episode : 38\n",
      "Step #1300.00 (0ms ?*RT. ?UPS, TraCI: 1ms, vehicles TOT 924 ACT 4 BUF 0)                  \n",
      " Retrying in 1 seconds\n"
     ]
    },
    {
     "name": "stderr",
     "output_type": "stream",
     "text": [
      "Warning: Environment variable SUMO_HOME is not set properly, disabling XML validation. Set 'auto' or 'always' for web lookups.\n"
     ]
    },
    {
     "name": "stdout",
     "output_type": "stream",
     "text": [
      "state : [0 0 0 0 0 0 0 0 0 0 0 0 0 0 0 0 0 0 0 0 0 0 0 0 0 0 0 0 0 0 0 0 0 0 0 0 0\n",
      " 0 0 0 0 0 0 0 0 0 0 0]\n",
      "Q_values : [-2.8819351 -1.7414496 -4.0869865 -2.375373 ]\n",
      "state : [0 2 2 0 2 0 0 2 2 0 3 0 0 0 0 0 0 0 0 0 0 0 0 0 1 2 7 2 2 0 6 2 2 1 7 0 2\n",
      " 0 2 2 0 0 2 0 2 2 0 0]\n",
      "Q_values : [-2.6834288  2.6059413  1.0664835  3.574756 ]\n",
      "state : [ 0  2  6  0  2  0  0  2  2  0  6  0  0  0  0  0  0  0  0  0  0  0  0  0\n",
      "  0  2 10  2  4  2  4  2  2  0 10  0  0  0  0  4  0  0  0  0  0  0  0  0]\n",
      "Q_values : [-2.6129887  5.5593925  5.546783  -1.5016736]\n",
      "state : [ 0  2 10  0  0  5  0  2  0  0  0  0  0  0  0  0  0  0  0  0  0  0  0  0\n",
      "  0  3 13  0  1  6  4  2  0  1  2  0  2  0  0  4  2  0  0  0  0  0  1  0]\n",
      "Q_values : [-2.3223543  5.178576   3.0432305  5.5678225]\n",
      "Step #140.00 (0ms ?*RT. ?UPS, TraCI: 91ms, vehicles TOT 108 ACT 42 BUF 0)                 \r"
     ]
    },
    {
     "name": "stderr",
     "output_type": "stream",
     "text": [
      "Warning: Vehicle 'CEW.3' performs emergency braking on lane 'end2_junction_1' with decel=9.00, wished=5.00, severity=1.00, time=140.00.\n",
      "Warning: Vehicle 'CEW.3' performs emergency stop at the end of lane 'end2_junction_1' because of a red traffic light (decel=-24.54, offset=0.11), time=140.11.\n"
     ]
    },
    {
     "name": "stdout",
     "output_type": "stream",
     "text": [
      "state : [ 0  2 13  0  1  0  0  2  0  0  2  0  0  0  0  0  0  0  0  0  0  0  0  0\n",
      "  3  4 17  2  4  1  6  5  1  3  7  1  0  0  0  3  0  0  0  0  5  0  0  0]\n",
      "Q_values : [-6.2701197  4.268496   2.5407128 -6.5025396]\n",
      "state : [0 3 0 0 2 1 0 3 0 0 4 1 0 0 0 0 0 0 0 0 0 0 0 0 0 4 9 0 3 2 4 4 0 0 9 2 2\n",
      " 0 0 4 0 9 2 0 0 2 0 2]\n",
      "Q_values : [-5.7291775  -0.62670505  1.0328813  -5.6433487 ]\n",
      "Step #180.00 (0ms ?*RT. ?UPS, TraCI: 92ms, vehicles TOT 148 ACT 63 BUF 8)                 \r"
     ]
    },
    {
     "name": "stderr",
     "output_type": "stream",
     "text": [
      "Warning: Vehicle 'CNE.10' performs emergency braking on lane 'end1_junction_2' with decel=9.00, wished=5.00, severity=1.00, time=180.00.\n",
      "Warning: Vehicle 'CNE.10' performs emergency stop at the end of lane 'end1_junction_2' because of a red traffic light (decel=-14.48, offset=0.04), time=180.25.\n"
     ]
    },
    {
     "name": "stdout",
     "output_type": "stream",
     "text": [
      "state : [ 0  4  9  0  0  2  0  4  0  0  0  2  0  0  0  0  0  0  0  0  0  0  0  0\n",
      "  0  5 12  2  2  4  4  4  0  1  3  2  0  0  0  4  5  6  0  0  0  0  2  1]\n",
      "Q_values : [-2.23471    3.6342144  1.5676385  3.802923 ]\n",
      "state : [ 0  4  0  0  2  0  0  4  0  0  6  0  0  0  0  0  0  0  0  0  0  0  0  0\n",
      "  0  4  8  2  4  2  4  4  0  0 10  0  0  0  0  4  0  9  0  0  0  0  0  0]\n",
      "Q_values : [-5.2598453 -0.5478023  1.0936198 -6.083687 ]\n",
      "Step #260.00 (0ms ?*RT. ?UPS, TraCI: 70ms, vehicles TOT 203 ACT 57 BUF 1)                 \r"
     ]
    },
    {
     "name": "stderr",
     "output_type": "stream",
     "text": [
      "Warning: Vehicle 'AWE.20' performs emergency stop at the end of lane 'end4_junction_1' because of a red traffic light (decel=-34.68, offset=0.19), time=260.38.\n"
     ]
    },
    {
     "name": "stdout",
     "output_type": "stream",
     "text": [
      "state : [ 0  0 15  0  2  2  0  0  0  0  6  0  0  0  0  0  0  0  0  0  0  0  0  0\n",
      "  2  3 17  2  5  3  5  2  1  3 10  1  2  2  1  4  0  0  0  2  1  0  0  0]\n",
      "Q_values : [-6.0352187  5.93243    2.5240076 -4.8917146]\n",
      "state : [0 2 2 0 0 5 0 2 0 0 0 2 0 0 0 0 0 0 0 0 0 0 0 0 0 2 6 0 0 6 4 2 0 0 8 2 2\n",
      " 0 0 4 6 6 0 0 0 0 3 2]\n",
      "Q_values : [-3.8523037  -2.034147   -4.763995   -0.15405089]\n",
      "Step #360.00 (0ms ?*RT. ?UPS, TraCI: 92ms, vehicles TOT 280 ACT 58 BUF 8)                 \r"
     ]
    },
    {
     "name": "stderr",
     "output_type": "stream",
     "text": [
      "Warning: Vehicle 'AWE.26' performs emergency stop at the end of lane 'end4_junction_1' because of a red traffic light (decel=-12.22, offset=0.02), time=360.81.\n"
     ]
    },
    {
     "name": "stdout",
     "output_type": "stream",
     "text": [
      "state : [ 0  2  6  0  0  0  0  2  0  0  8  0  0  0  0  0  0  0  0  0  0  0  0  0\n",
      "  0  3  9  2  2  2  4  2  0  1 11  0  0  0  1  3  2  0  0  0  6  0  0  0]\n",
      "Q_values : [-5.7771716  5.745791   0.9577255 -3.2530127]\n",
      "state : [ 0  0 13  0  1  6  0  0  2  0  3  2  0  0  0  0  0  0  0  0  0  0  0  0\n",
      "  0  0 16  2  4  7  4  0  2  0  7  2  2  2  1  3  0  0  1  3  1  1  1  0]\n",
      "Q_values : [-1.6590004 11.111516   3.6135366  3.5742114]\n",
      "state : [ 0  0  0  0  2  7  0  0  0  0  7  2  0  0  0  0  0  0  0  0  0  0  0  0\n",
      "  0  1  8  0  3  8  4  0  0  1 10  2  2  0  0  4  0  9  0  0  0  0  0  2]\n",
      "Q_values : [-3.6636727 -3.3969061  4.1640015  5.530901 ]\n",
      "Step #500.00 (0ms ?*RT. ?UPS, TraCI: 91ms, vehicles TOT 384 ACT 55 BUF 0)                 \r"
     ]
    },
    {
     "name": "stderr",
     "output_type": "stream",
     "text": [
      "Warning: Vehicle 'CNE.37' performs emergency braking on lane 'end1_junction_2' with decel=9.00, wished=5.00, severity=1.00, time=500.00.\n",
      "Warning: Vehicle 'CNE.37' performs emergency stop at the end of lane 'end1_junction_2' because of a red traffic light (decel=-11.96, offset=0.03), time=500.51.\n"
     ]
    },
    {
     "name": "stdout",
     "output_type": "stream",
     "text": [
      "state : [ 0  0  8  0  3  0  0  0  0  0 10  0  0  0  0  0  0  0  0  0  0  0  0  0\n",
      "  1  0 12  2  6  1  5  0  0  1 14  0  0  0  2  2  0  2  0  0  7  0  0  0]\n",
      "Q_values : [-1.9577429   8.388289    7.7495127   0.10377967]\n",
      "state : [ 0  0  0  0  5  2  0  0  0  0 17  0  0  0  0  0  0  0  0  0  0  0  0  0\n",
      "  0  1  3  2  7  4  4  0  0  1 20  0  0  0  0  4  0  7  0  0  0  0  0  0]\n",
      "Q_values : [ 2.4657845  8.685078  14.093216   4.774217 ]\n",
      "state : [ 0  0  3  0  0  4  0  0  0  0  0  0  0  0  0  0  0  0  0  0  0  0  0  0\n",
      "  2  0  6  2  0  4  5  0  0  2 11  0  2  0  0  2  6  4  0  0  0  0  4  3]\n",
      "Q_values : [-10.371473  -7.344134  -5.087016  -9.792056]\n",
      "Step #660.00 (0ms ?*RT. ?UPS, TraCI: 70ms, vehicles TOT 517 ACT 58 BUF 5)                 \r"
     ]
    },
    {
     "name": "stderr",
     "output_type": "stream",
     "text": [
      "Warning: Vehicle 'CNER.0' performs emergency braking on lane 'end1_junction_2' with decel=9.00, wished=5.00, severity=1.00, time=660.00.\n",
      "Warning: Vehicle 'CNER.0' performs emergency stop at the end of lane 'end1_junction_2' because of a red traffic light (decel=-12.21, offset=0.00), time=660.48.\n"
     ]
    },
    {
     "name": "stdout",
     "output_type": "stream",
     "text": [
      "state : [ 0  0  3  0 10  0  0  0  0  0  7  0  0  0  0  0  0  0  0  0  0  0  0  0\n",
      "  0  1  4  5 15  3  2  0  0  1  8  0  3  0  1  2  0  2  0  0  8  0  0  0]\n",
      "Q_values : [-0.5866213  5.967977  10.217066   5.052661 ]\n",
      "state : [ 0  0  7  0  8  9  0  0  0  0  1  0  0  0  0  0  0  0  0  0  0  0  0  0\n",
      "  0  0  7  5 13 13  0  0  0  0  2  0  3  0  0  2  0  0  0  0  0  0  0  0]\n",
      "Q_values : [-1.7421699  3.9082904 10.712145   8.18016  ]\n",
      "state : [ 0  0  9  0  2 16  0  0  1  0  1  2  0  0  0  0  0  0  0  0  0  0  0  0\n",
      "  1  0  9  5  7 20  0  0  2  0  2  2  4  1  0  2  0  0  1  2  0  1  1  0]\n",
      "Q_values : [ 1.2722602  4.477679   7.7755394 13.08638  ]\n",
      "state : [ 0  0  9  0  6  0  0  0  2  0  2  0  0  0  0  0  0  0  0  0  0  0  0  0\n",
      "  0  0 11  5 10 13  2  0  2  0  4  0  3  0  1  0  0  0  1  0  9  2  0  0]\n",
      "Q_values : [-4.2231174  0.2109971 -0.8390956 -1.7702446]\n",
      "Step #801.00 (0ms ?*RT. ?UPS, TraCI: 0ms, vehicles TOT 624 ACT 64 BUF 0)                  \r"
     ]
    },
    {
     "name": "stderr",
     "output_type": "stream",
     "text": [
      "Warning: Vehicle 'CESR.10' performs emergency braking on lane 'end2_junction_2' with decel=9.00, wished=5.00, severity=1.00, time=800.00.\n",
      "Warning: Vehicle 'CESR.10' performs emergency braking on lane 'end2_junction_2' with decel=9.00, wished=5.00, severity=1.00, time=801.14.\n"
     ]
    },
    {
     "name": "stdout",
     "output_type": "stream",
     "text": [
      "state : [ 0  0  2  0 16 18  0  0  0  0  6  0  0  0  0  0  0  0  0  0  0  0  0  0\n",
      "  0  1  3  5 20 23  2  0  0  1  7  0  3  0  0  2  0  0  0  0  0  0  0  0]\n",
      "Q_values : [ 2.4088058  3.4877186 20.802511  19.677061 ]\n",
      "state : [ 0  0  3  0  0 22  0  0  0  0  0  0  0  0  0  0  0  0  0  0  0  0  0  0\n",
      "  0  0  4  7 11 25  1  0  0  0  0  0  4  0  0  0  4  3  0  0  0  0  7  3]\n",
      "Q_values : [-3.4884837 -3.6209626  4.78481   12.1397705]\n",
      "state : [ 0  0  4  0 10  0  0  0  0  0  0  0  0  0  0  0  0  0  0  0  0  0  0  0\n",
      "  3  1  6  5 15 18  2  2  2  3  1  2  4  0  0  1  0  0  0  0  9  0  1  0]\n",
      "Q_values : [-16.759064  -10.169715   -8.58588    -6.5277033]\n",
      "Step #920.00 (1ms ~= 10.00*RT, ~74000.00UPS, TraCI: 71ms, vehicles TOT 713 ACT 74 BUF 1)  \r"
     ]
    },
    {
     "name": "stderr",
     "output_type": "stream",
     "text": [
      "Warning: Vehicle 'CESR.21' performs emergency braking on lane 'end2_junction_2' with decel=9.00, wished=5.00, severity=1.00, time=920.00.\n",
      "Warning: Vehicle 'CESR.21' performs emergency stop at the end of lane 'end2_junction_2' because of a red traffic light (decel=-10.83, offset=0.02), time=920.74.\n"
     ]
    },
    {
     "name": "stdout",
     "output_type": "stream",
     "text": [
      "state : [ 0  0  2  0 10 16  0  0  0  0  0  0  0  0  0  0  0  0  0  0  0  0  0  0\n",
      "  0  0  4  6 16 21  2  0  0  0  2  0  2  2  0  0  0  0  0  1  0  0  1  0]\n",
      "Q_values : [-1.8277445  -0.31780493 11.603057    9.345347  ]\n",
      "state : [ 0  0  0  0 13 30  0  1  0  0  2  1  0  0  0  0  0  0  0  0  0  0  0  0\n",
      "  2  2  0  7 17 33  2  2  1  2  4  2  4  0  0  0  0  2  0  0  0  0  0  0]\n",
      "Q_values : [ 6.0933666  6.8844395 23.509901  20.164482 ]\n",
      "Step #1080.00 (0ms ?*RT. ?UPS, TraCI: 70ms, vehicles TOT 835 ACT 91 BUF 5)                \r"
     ]
    },
    {
     "name": "stderr",
     "output_type": "stream",
     "text": [
      "Warning: Vehicle 'AEWR.35' performs emergency stop at the end of lane 'end2_junction_1' because of a red traffic light (decel=-11.82, offset=0.01), time=1080.86.\n"
     ]
    },
    {
     "name": "stdout",
     "output_type": "stream",
     "text": [
      "state : [ 0  0  2  0 11 40  0  0  1  0  2  2  0  0  0  0  0  0  0  0  0  0  0  0\n",
      "  0  0  4  7 15 43  2  0  1  0  4  2  4  0  0  1  0  0  0  0  0  0  0  0]\n",
      "Q_values : [15.604467 14.900837 18.343159 31.029428]\n",
      "Step #1160.00 (1ms ~= 10.00*RT, ~89000.00UPS, TraCI: 69ms, vehicles TOT 887 ACT 89 BUF 1) \r"
     ]
    },
    {
     "name": "stderr",
     "output_type": "stream",
     "text": [
      "Warning: Vehicle 'AEWR.41' performs emergency stop at the end of lane 'end2_junction_1' because of a red traffic light (decel=-11.31, offset=0.01), time=1160.88.\n"
     ]
    },
    {
     "name": "stdout",
     "output_type": "stream",
     "text": [
      "Step #1180.00 (0ms ?*RT. ?UPS, TraCI: 0ms, vehicles TOT 905 ACT 85 BUF 13)                "
     ]
    },
    {
     "name": "stderr",
     "output_type": "stream",
     "text": [
      "Warning: Vehicle 'CESR.32' performs emergency braking on lane 'end2_junction_2' with decel=9.00, wished=5.00, severity=1.00, time=1180.00.\n"
     ]
    },
    {
     "name": "stdout",
     "output_type": "stream",
     "text": [
      "state : [ 0  0  0  0  0 10  0  0  0  0  0  0  0  0  0  0  0  0  0  0  0  0  0  0\n",
      "  0  0  0  0  0 24  0  0  0  0  0  0  0  0  0  0  1  0  0  0  3  0  3  2]\n",
      "Q_values : [-5.9526796  -3.2877884  -1.3829036   0.37328517]\n",
      "episode : 39\n",
      "Step #1300.00 (0ms ?*RT. ?UPS, TraCI: 0ms, vehicles TOT 924 ACT 23 BUF 0)                 \n",
      " Retrying in 1 seconds\n"
     ]
    },
    {
     "name": "stderr",
     "output_type": "stream",
     "text": [
      "Warning: Environment variable SUMO_HOME is not set properly, disabling XML validation. Set 'auto' or 'always' for web lookups.\n"
     ]
    },
    {
     "name": "stdout",
     "output_type": "stream",
     "text": [
      "state : [0 2 0 0 2 2 0 2 0 0 3 2 0 0 0 0 0 0 0 0 0 0 0 0 1 2 3 2 2 2 6 2 0 1 7 2 2\n",
      " 0 0 2 0 3 2 0 0 2 0 2]\n",
      "Q_values : [-3.6952124  -0.70315135  3.9310644   4.7519746 ]\n",
      "state : [ 0  2  2  0  2  0  0  2  0  0  6  0  0  0  0  0  0  0  0  0  0  0  0  0\n",
      "  0  2  6  2  4  2  4  2  0  0 10  0  0  0  1  4  0  1  0  0  1  0  0  0]\n",
      "Q_values : [-5.269679    0.69628835  4.618849   -2.9433947 ]\n"
     ]
    },
    {
     "name": "stderr",
     "output_type": "stream",
     "text": [
      "Warning: Vehicle 'AWE.5' performs emergency stop at the end of lane 'end4_junction_1' because of a red traffic light (decel=-36.27, offset=0.06), time=80.12.\n"
     ]
    },
    {
     "name": "stdout",
     "output_type": "stream",
     "text": [
      "state : [ 0  2  9  0  0  0  0  2  0  0  3  0  0  0  0  0  0  0  0  0  0  0  0  0          \n",
      "  1  2 13  1  2  2  6  2  0  1  7  0  0  0  0  2  0  0  0  0  1  0  0  0]\n",
      "Q_values : [-9.438488    1.4216807  -0.43858075 -5.819388  ]\n",
      "state : [ 0  2  0  0  2  2  0  2  0  0  6  0  0  0  0  0  0  0  0  0  0  0  0  0\n",
      "  0  2  5  2  5  3  4  2  0  0 10  0  2  0  0  4  0  9  0  0  0  0  0  0]\n",
      "Q_values : [-5.5055623  -0.48161077  4.694034   -2.6859248 ]\n",
      "Step #120.00 (1ms ~= 10.00*RT, ~52000.00UPS, TraCI: 91ms, vehicles TOT 99 ACT 52 BUF 3)   \r"
     ]
    },
    {
     "name": "stderr",
     "output_type": "stream",
     "text": [
      "Warning: Vehicle 'CNE.7' performs emergency braking on lane 'end1_junction_2' with decel=9.00, wished=5.00, severity=1.00, time=120.00.\n",
      "Warning: Vehicle 'CNE.7' performs emergency stop at the end of lane 'end1_junction_2' because of a red traffic light (decel=-11.99, offset=0.02), time=120.56.\n"
     ]
    },
    {
     "name": "stdout",
     "output_type": "stream",
     "text": [
      "state : [0 2 5 0 0 3 0 2 0 0 0 0 0 0 0 0 0 0 0 0 0 0 0 0 0 3 8 0 0 4 4 2 0 1 3 0 2\n",
      " 0 0 4 5 7 0 0 0 0 2 0]\n",
      "Q_values : [-4.3923006 -5.551549  -4.1785555 -3.6179519]\n",
      "Step #140.00 (0ms ?*RT. ?UPS, TraCI: 91ms, vehicles TOT 108 ACT 46 BUF 0)                 \r"
     ]
    },
    {
     "name": "stderr",
     "output_type": "stream",
     "text": [
      "Warning: Vehicle 'AWE.10' performs emergency stop at the end of lane 'end4_junction_1' because of a red traffic light (decel=-36.27, offset=0.18), time=140.18.\n"
     ]
    },
    {
     "name": "stdout",
     "output_type": "stream",
     "text": [
      "Step #260.00 (0ms ?*RT. ?UPS, TraCI: 0ms, vehicles TOT 203 ACT 66 BUF 1)                  "
     ]
    },
    {
     "name": "stderr",
     "output_type": "stream",
     "text": [
      "Warning: Vehicle 'CNE.18' performs emergency braking on lane 'end1_junction_2' with decel=9.00, wished=5.00, severity=1.00, time=260.00.\n"
     ]
    },
    {
     "name": "stdout",
     "output_type": "stream",
     "text": [
      "state : [ 0  0  0  0  8  2  0  0  0  0 27  0  0  0  0  0  0  0  0  0  0  0  0  0\n",
      "  2  3  2  2 11  3  5  2  1  3 30  1  2  0  0  4  0  9  0  0  0  0  0  0]\n",
      "Q_values : [ 5.984958  13.6785965 21.503645   7.4185686]\n",
      "state : [ 0  1  2  0  0  3  0  1  1  0  0  1  0  0  0  0  0  0  0  0  0  0  0  0\n",
      "  0  3  6  0  0  4  4  2  2  2 20  3  2  0  0  3  6  8  0  0  0  2  5  3]\n",
      "Q_values : [-18.19722   -6.124011  -8.652519  -8.928962]\n",
      "state : [ 0  2  2  0  4  0  0  2  0  0 34  1  0  0  0  0  0  0  0  0  0  0  0  0\n",
      "  0  2  6  2  6  2  4  2  0  0 37  1  0  0  0  4  0  1  0  0  1  0  0  0]\n",
      "Q_values : [ 8.73966  18.823248 25.709646 11.354432]\n",
      "state : [ 0  2  6  0  0  2  0  2  0  0  0  0  0  0  0  0  0  0  0  0  0  0  0  0\n",
      "  4  3  8  4  1  2  6  3  0  4 25  4  2  0  0  4  7  3  0  0  0  0  3  2]\n",
      "Q_values : [-12.960302    -0.07868063  -4.864567    -9.70264   ]\n",
      "Step #440.00 (0ms ?*RT. ?UPS, TraCI: 90ms, vehicles TOT 344 ACT 86 BUF 4)                 \r"
     ]
    },
    {
     "name": "stderr",
     "output_type": "stream",
     "text": [
      "Warning: Vehicle 'CWE.21' performs emergency braking on lane 'end4_junction_1' with decel=9.00, wished=5.00, severity=1.00, time=440.00.\n",
      "Warning: Vehicle 'CWE.21' performs emergency stop at the end of lane 'end4_junction_1' because of a red traffic light (decel=-13.47, offset=0.00), time=440.63.\n"
     ]
    },
    {
     "name": "stdout",
     "output_type": "stream",
     "text": [
      "state : [ 0  2  0  0  0  2  0  2  0  0 11  4  0  0  0  0  0  0  0  0  0  0  0  0\n",
      "  2  4  5  1  2  4  5  4  2  3 29  6  0  0  0  2  0  9  0  0  0  0  0  0]\n",
      "Q_values : [-23.339869 -20.010502 -13.947897 -11.915773]\n",
      "state : [ 0  4  4  0  2  0  0  4  2  0 26  6  0  0  0  0  0  0  0  0  0  0  0  0\n",
      "  0  4  8  2  5  1  4  4  2  0 32  6  2  0  0  4  0  0  2  0  3  2  0  0]\n",
      "Q_values : [ 2.290769  12.056862  15.805389   4.0585594]\n",
      "state : [ 0  4  8  0  0  1  0  4  2  0  9  1  0  0  0  0  0  0  0  0  0  0  0  0\n",
      "  0  5 11  0  0  2  4  4  2  0 29  2  2  0  0  4  8  2  0  0  0  0  2  0]\n",
      "Q_values : [-5.6445227  3.1344194  3.0706406 -6.769376 ]\n",
      "Step #500.00 (0ms ?*RT. ?UPS, TraCI: 90ms, vehicles TOT 384 ACT 79 BUF 0)                 \r"
     ]
    },
    {
     "name": "stderr",
     "output_type": "stream",
     "text": [
      "Warning: Vehicle 'CWE.25' performs emergency braking on lane 'end4_junction_1' with decel=9.00, wished=5.00, severity=1.00, time=500.00.\n",
      "Warning: Vehicle 'CWE.25' performs emergency stop at the end of lane 'end4_junction_1' because of a red traffic light (decel=-15.92, offset=0.01), time=500.26.\n"
     ]
    },
    {
     "name": "stdout",
     "output_type": "stream",
     "text": [
      "state : [ 0  4  0  0  0  2  0  4  0  0 11  2  0  0  0  0  0  0  0  0  0  0  0  0\n",
      "  1  4  4  2  3  3  6  4  0  1 32  2  0  0  0  1  1 10  0  0  0  0  0  2]\n",
      "Q_values : [-5.643669   -4.7460756  -0.70763326 -2.9946256 ]\n",
      "Step #540.00 (1ms ~= 10.00*RT, ~74000.00UPS, TraCI: 71ms, vehicles TOT 412 ACT 74 BUF 8)  \r"
     ]
    },
    {
     "name": "stderr",
     "output_type": "stream",
     "text": [
      "Warning: Vehicle 'CWE.33' performs emergency braking on lane 'end4_junction_1' with decel=9.00, wished=5.00, severity=1.00, time=540.00.\n",
      "Warning: Vehicle 'CWE.33' performs emergency stop at the end of lane 'end4_junction_1' because of a red traffic light (decel=-17.48, offset=0.01), time=540.34.\n"
     ]
    },
    {
     "name": "stdout",
     "output_type": "stream",
     "text": [
      "state : [ 0  4  2  0  5  0  0  4  2  0 35  0  0  0  0  0  0  0  0  0  0  0  0  0\n",
      "  1  5  2  7  9  3  2  4  2  1 36  0  2  0  3  4  0  0  1  0  5  2  0  0]\n",
      "Q_values : [ 9.385546 23.665447 27.990946 15.444206]\n",
      "Step #644.00 (0ms ?*RT. ?UPS, TraCI: 0ms, vehicles TOT 509 ACT 92 BUF 1)                  \r"
     ]
    },
    {
     "name": "stderr",
     "output_type": "stream",
     "text": [
      "Warning: Vehicle 'CESR.1' performs emergency braking on lane 'end2_junction_2' with decel=9.00, wished=5.00, severity=1.00, time=644.20.\n"
     ]
    },
    {
     "name": "stdout",
     "output_type": "stream",
     "text": [
      "state : [ 0  4  0  0  3 10  0  4  0  0 11  0  0  0  0  0  0  0  0  0  0  0  0  0\n",
      "  0  4  0  7  7 13  2  4  0  0 16  0  2  0  0  0  1  5  0  0  0  0  0  1]\n",
      "Q_values : [ 1.2615514  5.596756  15.022898   9.788417 ]\n",
      "Step #722.00 (0ms ?*RT. ?UPS, TraCI: 0ms, vehicles TOT 559 ACT 69 BUF 5)                  \r"
     ]
    },
    {
     "name": "stderr",
     "output_type": "stream",
     "text": [
      "Warning: Vehicle 'CEWR.7' performs emergency braking on lane 'end2_junction_1' with decel=9.00, wished=5.00, severity=1.00, time=720.00.\n",
      "Warning: Vehicle 'CEWR.7' performs emergency braking on lane 'end2_junction_1' with decel=9.00, wished=5.00, severity=1.00, time=722.27.\n"
     ]
    },
    {
     "name": "stdout",
     "output_type": "stream",
     "text": [
      "state : [ 0  4  2  0  0  9  0  4  0  0  0  0  0  0  0  0  0  0  0  0  0  0  0  0\n",
      "  2  6  4  6  3 12  2  6  2  2  2  2  4  0  0  1  3  2  0  0  3  0  4  3]\n",
      "Q_values : [-3.356694  -3.2653475 -3.1920986 -1.2202064]\n",
      "state : [ 0  5  4  0  2  0  0  6  1  0  1  0  0  0  0  0  0  0  0  0  0  0  0  0\n",
      "  1  6  4  5  7  5  0  6  2  0  2  0  4  0  2  2  0  0  1  0 10  1  0  0]\n",
      "Q_values : [-5.9977694  -1.2008345   0.37767494 -3.1431026 ]\n",
      "Step #781.00 (0ms ?*RT. ?UPS, TraCI: 0ms, vehicles TOT 610 ACT 63 BUF 8)                  \r"
     ]
    },
    {
     "name": "stderr",
     "output_type": "stream",
     "text": [
      "Warning: Vehicle 'CESR.12' performs emergency braking on lane 'end2_junction_2' with decel=9.00, wished=5.00, severity=1.00, time=780.00.\n",
      "Warning: Vehicle 'CESR.12' performs emergency braking on lane 'end2_junction_2' with decel=9.00, wished=5.00, severity=1.00, time=781.11.\n"
     ]
    },
    {
     "name": "stdout",
     "output_type": "stream",
     "text": [
      "state : [ 0  6  6  0  0  8  0  6  2  0  0  0  0  0  0  0  0  0  0  0  0  0  0  0\n",
      "  1  7  6  6  3 11  2  6  2  1  1  0  2  0  0  1  2  0  0  0  0  0  3  0]\n",
      "Q_values : [-0.79334354  7.1314106   3.8248851   9.318095  ]\n",
      "state : [0 6 8 0 0 3 0 6 2 0 0 0 0 0 0 0 0 0 0 0 0 0 0 0 0 7 9 5 5 7 2 6 2 1 1 0 4\n",
      " 0 0 1 2 0 0 0 3 0 3 2]\n",
      "Q_values : [-0.7564187  4.563311   2.0341322  6.439481 ]\n",
      "Step #883.00 (0ms ?*RT. ?UPS, TraCI: 0ms, vehicles TOT 677 ACT 56 BUF 1)                  \r"
     ]
    },
    {
     "name": "stderr",
     "output_type": "stream",
     "text": [
      "Warning: Vehicle 'CESR.21' performs emergency braking on lane 'end2_junction_2' with decel=9.00, wished=5.00, severity=1.00, time=883.90.\n"
     ]
    },
    {
     "name": "stdout",
     "output_type": "stream",
     "text": [
      "state : [ 0  0 12  0 10  0  0  1  3  0  3  0  0  0  0  0  0  0  0  0  0  0  0  0\n",
      "  2  2 12  5 15  3  1  2  4  2  4  0  3  0  2  0  0  0  0  0  6  0  0  0]\n",
      "Q_values : [ 0.95349693 11.985563   13.179522    2.9502168 ]\n",
      "state : [ 0  2 12  0  0  2  0  2  4  0  0  0  0  0  0  0  0  0  0  0  0  0  0  0\n",
      "  0  2 14  7  5  6  2  2  4  0  2  0  4  0  0  1  3  1  2  0  1  1  8  3]\n",
      "Q_values : [-0.4367404  8.097481   2.8506885  5.894517 ]\n",
      "Step #960.00 (0ms ?*RT. ?UPS, TraCI: 68ms, vehicles TOT 742 ACT 57 BUF 8)                 \r"
     ]
    },
    {
     "name": "stderr",
     "output_type": "stream",
     "text": [
      "Warning: Vehicle 'CNER.8' performs emergency braking on lane 'end1_junction_2' with decel=9.00, wished=5.00, severity=1.00, time=960.00.\n",
      "Warning: Vehicle 'CNER.8' performs emergency stop at the end of lane 'end1_junction_2' because of a red traffic light (decel=-14.23, offset=0.02), time=960.33.\n"
     ]
    },
    {
     "name": "stdout",
     "output_type": "stream",
     "text": [
      "state : [ 0  0  3  0  8  9  0  0  0  0  2  0  0  0  0  0  0  0  0  0  0  0  0  0\n",
      "  0  0  5  5 12 14  2  0  0  0  4  0  2  2  0  0  0  2  0  1  0  0  0  0]\n",
      "Q_values : [-3.9915662 -1.6287012  7.8638616  5.0471997]\n",
      "Step #1000.00(0ms ?*RT. ?UPS, TraCI: 0ms, vehicles TOT 770 ACT 56 BUF 4)                  "
     ]
    },
    {
     "name": "stderr",
     "output_type": "stream",
     "text": [
      "Warning: Vehicle 'CENR.31' performs emergency braking on lane 'end2_junction_0' with decel=9.00, wished=5.00, severity=1.00, time=1000.00.\n"
     ]
    },
    {
     "name": "stdout",
     "output_type": "stream",
     "text": [
      "Step #1020.00 (0ms ?*RT. ?UPS, TraCI: 69ms, vehicles TOT 781 ACT 48 BUF 5)                \r"
     ]
    },
    {
     "name": "stderr",
     "output_type": "stream",
     "text": [
      "Warning: Vehicle 'CESR.30' performs emergency braking on lane 'end2_junction_2' with decel=9.00, wished=5.00, severity=1.00, time=1020.00.\n",
      "Warning: Vehicle 'CESR.30' performs emergency stop at the end of lane 'end2_junction_2' because of a red traffic light (decel=-14.12, offset=0.02), time=1020.30.\n"
     ]
    },
    {
     "name": "stdout",
     "output_type": "stream",
     "text": [
      "state : [ 0  0  0  0 10 12  0  1  0  0  2  1  0  0  0  0  0  0  0  0  0  0  0  0\n",
      "  2  2  0  7 13 15  2  2  1  2  4  2  4  0  0  0  0  8  0  0  0  0  0  0]\n",
      "Q_values : [-5.9237585 -5.0688715  8.337075   8.236563 ]\n",
      "state : [ 0  2  0  0  0 15  0  2  1  0  0  2  0  0  0  0  0  0  0  0  0  0  0  0\n",
      "  0  2  2  5  5 19  2  2  1  0  2  2  4  0  0  1  2  4  2  0  0  2  7  3]\n",
      "Q_values : [-3.2523277   0.14442861  3.2788792   8.944882  ]\n",
      "Step #1080.00 (0ms ?*RT. ?UPS, TraCI: 84ms, vehicles TOT 835 ACT 69 BUF 5)                \r"
     ]
    },
    {
     "name": "stderr",
     "output_type": "stream",
     "text": [
      "Warning: Vehicle 'AEWR.37' performs emergency stop at the end of lane 'end2_junction_1' because of a red traffic light (decel=-11.08, offset=0.01), time=1080.93.\n"
     ]
    },
    {
     "name": "stdout",
     "output_type": "stream",
     "text": [
      "state : [ 0  0  4  0  2 14  0  0  1  0  2  0  0  0  0  0  0  0  0  0  0  0  0  0\n",
      "  0  0  4  5  7 18  0  0  1  0  2  0  4  1  0  2  0  0  0  1  0  0  0  0]\n",
      "Q_values : [-1.4701066  2.3174896  8.482277  11.965945 ]\n",
      "state : [ 0  0  4  0  6  0  0  0  1  0  2  0  0  0  0  0  0  0  0  0  0  0  0  0\n",
      "  0  0  6  5 10 11  2  0  1  0  4  0  3  0  0  0  0  0  0  0  9  0  0  0]\n",
      "Q_values : [-9.872862  -4.711729  -4.7537994 -5.5240955]\n",
      "Step #1160.00 (0ms ?*RT. ?UPS, TraCI: 81ms, vehicles TOT 887 ACT 53 BUF 1)                \r"
     ]
    },
    {
     "name": "stderr",
     "output_type": "stream",
     "text": [
      "Warning: Vehicle 'CESR.41' performs emergency braking on lane 'end2_junction_2' with decel=9.00, wished=5.00, severity=1.00, time=1160.00.\n",
      "Warning: Vehicle 'CESR.41' performs emergency stop at the end of lane 'end2_junction_2' because of a red traffic light (decel=-13.86, offset=0.03), time=1160.37.\n"
     ]
    },
    {
     "name": "stdout",
     "output_type": "stream",
     "text": [
      "state : [ 0  0  0  0  9 10  0  0  0  0  4  0  0  0  0  0  0  0  0  0  0  0  0  0\n",
      "  2  1  0  7 13 13  2  1  0  2  5  0  3  0  0  2  0  5  0  0  2  0  0  1]\n",
      "Q_values : [-2.2159593  1.0069771 11.991869  10.778654 ]\n",
      "state : [0 2 2 0 0 6 0 2 2 0 0 0 0 0 0 0 0 0 0 0 0 0 0 0 0 2 2 0 0 6 0 2 2 0 0 0 0\n",
      " 0 0 0 0 0 0 0 3 0 1 0]\n",
      "Q_values : [-1.0568852  8.222166   1.7755104  7.237627 ]\n",
      "state : [0 2 0 0 0 6 0 2 0 0 0 0 0 0 0 0 0 0 0 0 0 0 0 0 0 2 0 0 0 6 0 2 0 0 0 0 0\n",
      " 0 0 0 0 1 0 0 0 0 0 1]\n",
      "Q_values : [-1.3301282  5.9769382  1.723279   6.307503 ]\n",
      "episode : 40\n",
      "Step #1300.00 (0ms ?*RT. ?UPS, TraCI: 1ms, vehicles TOT 924 ACT 9 BUF 0)                  \n",
      " Retrying in 1 seconds\n"
     ]
    },
    {
     "name": "stderr",
     "output_type": "stream",
     "text": [
      "Warning: Environment variable SUMO_HOME is not set properly, disabling XML validation. Set 'auto' or 'always' for web lookups.\n"
     ]
    },
    {
     "name": "stdout",
     "output_type": "stream",
     "text": [
      "state : [0 0 0 0 0 0 0 0 0 0 0 0 0 0 0 0 0 0 0 0 0 0 0 0 2 3 3 2 2 2 4 2 2 3 3 2 0\n",
      " 0 0 0 0 0 0 0 0 0 0 0]\n",
      "Q_values : [-17.813171 -12.640034  -6.791651 -12.050575]\n"
     ]
    },
    {
     "name": "stderr",
     "output_type": "stream",
     "text": [
      "Warning: Vehicle 'CNE.3' performs emergency braking on lane 'end1_junction_2' with decel=9.00, wished=5.00, severity=1.00, time=63.79.\n"
     ]
    },
    {
     "name": "stdout",
     "output_type": "stream",
     "text": [
      "state : [ 0  0  6  0  2  0  0  0  0  0  9  0  0  0  0  0  0  0  0  0  0  0  0  0          \n",
      "  1  0 10  1  4  2  5  0  0  1 13  0  0  1  0  4  0  0  0  1  0  0  0  0]\n",
      "Q_values : [-2.478556   1.6529702  5.7363033  3.6157324]\n",
      "state : [ 0  0 13  0  1  0  0  0  0  0  4  0  0  0  0  0  0  0  0  0  0  0  0  0\n",
      "  0  1 16  0  2  1  4  0  0  1  7  0  2  0  0  3  1  1  0  0  2  0  0  0]\n",
      "Q_values : [-2.4076037  5.1207647  6.840163   2.366697 ]\n",
      "Step #141.00 (0ms ?*RT. ?UPS, TraCI: 0ms, vehicles TOT 108 ACT 40 BUF 0)                  \r"
     ]
    },
    {
     "name": "stderr",
     "output_type": "stream",
     "text": [
      "Warning: Vehicle 'CES.3' performs emergency braking on lane 'end2_junction_2' with decel=9.00, wished=5.00, severity=1.00, time=140.00.\n",
      "Warning: Vehicle 'CES.3' performs emergency stop at the end of lane 'end2_junction_2' because of a red traffic light (decel=-13.66, offset=0.04), time=141.13.\n"
     ]
    },
    {
     "name": "stdout",
     "output_type": "stream",
     "text": [
      "state : [ 0  2 10  0  4  0  0  2  0  0  9  0  0  0  0  0  0  0  0  0  0  0  0  0\n",
      "  1  2 19  2  4  0  6  2  0  1 13  0  2  0  0  2  0  3  0  0  2  0  0  0]\n",
      "Q_values : [ 2.0271177 14.888609  14.457898   6.214959 ]\n",
      "state : [ 0  2  0  0  4  0  0  2  0  0 13  0  0  0  0  0  0  0  0  0  0  0  0  0\n",
      "  0  2 11  2  6  2  4  2  0  0 16  0  0  0  0  4  0  9  0  0  0  0  0  0]\n",
      "Q_values : [-1.4297104 10.300287   9.155709   3.0117903]\n",
      "state : [ 0  2  0  0  6  2  0  2  0  0 16  0  0  0  0  0  0  0  0  0  0  0  0  0\n",
      "  0  3  3  4  7  2  4  2  0  1 19  0  2  0  0  4  0 12  0  0  0  0  0  0]\n",
      "Q_values : [ 5.6785145 14.671439  16.59394    8.787832 ]\n",
      "state : [ 0  2  3  0  0  2  0  2  0  0  0  0  0  0  0  0  0  0  0  0  0  0  0  0\n",
      "  1  2  7  1  1  4  5  2  0  1 11  0  0  0  0  3  6  7  0  0  0  0  4  2]\n",
      "Q_values : [-12.593416   -4.610009   -4.9211206  -5.76469  ]\n",
      "state : [ 0  2  0  0  1  4  0  2  0  0 10  0  0  0  0  0  0  0  0  0  0  0  0  0\n",
      "  2  5  2  2  4  5  5  4  1  3 14  1  2  0  0  3  2  6  0  0  0  0  0  0]\n",
      "Q_values : [-2.284172   1.5660353  2.0014105  4.377636 ]\n",
      "Step #303.00 (0ms ?*RT. ?UPS, TraCI: 0ms, vehicles TOT 246 ACT 63 BUF 0)                  \r"
     ]
    },
    {
     "name": "stderr",
     "output_type": "stream",
     "text": [
      "Warning: Vehicle 'CNE.23' performs emergency braking on lane 'end1_junction_2' with decel=9.00, wished=5.00, severity=1.00, time=303.97.\n"
     ]
    },
    {
     "name": "stdout",
     "output_type": "stream",
     "text": [
      "state : [ 0  4  6  0  3  0  0  4  2  0 17  0  0  0  0  0  0  0  0  0  0  0  0  0\n",
      "  1  4 10  2  6  1  6  4  2  1 21  0  1  0  1  2  0  0  2  0  1  0  0  0]\n",
      "Q_values : [ 2.910028  10.6075735 12.202225   5.8440976]\n",
      "state : [ 0  4  9  0  0  1  0  4  2  0  0  0  0  0  0  0  0  0  0  0  0  0  0  0\n",
      "  0  4 13  0  0  2  4  4  2  0 12  0  2  0  0  4  6  4  0  0  0  0  3  2]\n",
      "Q_values : [-1.9226537  0.1147089  1.3959942  3.6689777]\n",
      "Step #360.00 (1ms ~= 10.00*RT, ~67000.00UPS, TraCI: 86ms, vehicles TOT 280 ACT 67 BUF 8)  \r"
     ]
    },
    {
     "name": "stderr",
     "output_type": "stream",
     "text": [
      "Warning: Vehicle 'AWE.24' performs emergency stop at the end of lane 'end4_junction_1' because of a red traffic light (decel=-12.65, offset=0.02), time=360.77.\n"
     ]
    },
    {
     "name": "stdout",
     "output_type": "stream",
     "text": [
      "state : [ 0  4 13  0  0  0  0  4  2  0 10  0  0  0  0  0  0  0  0  0  0  0  0  0\n",
      "  0  5 16  2  2  2  4  4  2  1 15  0  0  0  0  3  2  0  0  0  2  0  0  0]\n",
      "Q_values : [ 1.1615143 12.156139   8.804401   4.889592 ]\n",
      "state : [ 0  4  0  0  2  2  0  4  0  0 15  0  0  0  0  0  0  0  0  0  0  0  0  0\n",
      "  1  4  9  2  2  2  6  4  0  1 19  0  2  0  0  2  0  9  0  0  0  0  0  1]\n",
      "Q_values : [ 3.4553456  6.9746823 11.969222   7.735938 ]\n",
      "Step #420.00 (1ms ~= 10.00*RT, ~65000.00UPS, TraCI: 67ms, vehicles TOT 321 ACT 65 BUF 3)  \r"
     ]
    },
    {
     "name": "stderr",
     "output_type": "stream",
     "text": [
      "Warning: Vehicle 'AWE.30' performs emergency stop at the end of lane 'end4_junction_1' because of a red traffic light (decel=-12.31, offset=0.01), time=420.80.\n"
     ]
    },
    {
     "name": "stdout",
     "output_type": "stream",
     "text": [
      "state : [ 0  0 12  0  2  4  0  0  0  0  9  0  0  0  0  0  0  0  0  0  0  0  0  0\n",
      "  4  1 14  4  3  4  6  1  0  4 13  0  2  2  1  3  1  1  0  2  1  0  0  0]\n",
      "Q_values : [2.6356225 8.509877  8.894808  8.355542 ]\n",
      "state : [ 0  0 14  0  0  4  0  0  0  0  0  0  0  0  0  0  0  0  0  0  0  0  0  0\n",
      "  3  2 19  1  1  6  5  2  2  2  5  2  0  0  0  2  6  4  0  0  0  0  2  0]\n",
      "Q_values : [-10.457026    1.3712124  -4.1353674  -3.8793554]\n",
      "Step #460.00 (0ms ?*RT. ?UPS, TraCI: 85ms, vehicles TOT 360 ACT 68 BUF 0)                 \r"
     ]
    },
    {
     "name": "stderr",
     "output_type": "stream",
     "text": [
      "Warning: Vehicle 'AWE.36' performs emergency stop at the end of lane 'end4_junction_1' because of a red traffic light (decel=-15.15, offset=0.00), time=460.53.\n"
     ]
    },
    {
     "name": "stdout",
     "output_type": "stream",
     "text": [
      "state : [ 0  2  0  0  2  7  0  2  0  0  8  2  0  0  0  0  0  0  0  0  0  0  0  0\n",
      "  0  3  3  0  3  8  4  2  0  1 11  2  2  0  0  4  0 12  0  0  0  0  0  0]\n",
      "Q_values : [ 1.7233429  3.3898082  9.463166  10.480005 ]\n",
      "state : [ 0  2  3  0  3  0  0  2  0  0 11  0  0  0  0  0  0  0  0  0  0  0  0  0\n",
      "  1  2  7  2  5  2  6  2  0  1 15  0  0  0  2  2  0  1  0  0  7  0  0  0]\n",
      "Q_values : [-0.76986337  5.079053    8.740234    4.1760454 ]\n",
      "state : [ 0  2  6  0  0  1  0  2  0  0  0  0  0  0  0  0  0  0  0  0  0  0  0  0\n",
      "  0  2 10  0  0  2  4  2  0  0  6  0  2  0  0  4  6  4  0  0  0  0  3  2]\n",
      "Q_values : [-8.868969  -1.52405   -4.089773  -3.9329515]\n",
      "Step #540.00 (1ms ~= 10.00*RT, ~52000.00UPS, TraCI: 84ms, vehicles TOT 412 ACT 52 BUF 8)  \r"
     ]
    },
    {
     "name": "stderr",
     "output_type": "stream",
     "text": [
      "Warning: Vehicle 'AWE.42' performs emergency stop at the end of lane 'end4_junction_1' because of a red traffic light (decel=-12.73, offset=0.01), time=540.76.\n"
     ]
    },
    {
     "name": "stdout",
     "output_type": "stream",
     "text": [
      "state : [ 0  2  0  0  0  2  0  2  0  0  6  0  0  0  0  0  0  0  0  0  0  0  0  0\n",
      "  0  3  3  2  2  4  4  2  0  1  9  0  0  0  0  3  2 10  0  0  0  0  0  0]\n",
      "Q_values : [-5.8009887 -3.852583  -2.3488433 -0.7157849]\n",
      "state : [ 0  2  3  0  2  0  0  2  0  0  9  0  0  0  0  0  0  0  0  0  0  0  0  0\n",
      "  2  2  6  2  2  0  6  2  0  2 12  0  2  0  0  2  0  1  0  0  3  0  0  0]\n",
      "Q_values : [-0.96785665  5.6709895   9.072575    4.019687  ]\n",
      "state : [ 0  4 10  0  0  2  0  4  2  0  0  2  0  0  0  0  0  0  0  0  0  0  0  0\n",
      "  2  6 12  6  3  4  2  6  4  2  2  4  2  0  0  2  4  1  2  0  0  1  1  1]\n",
      "Q_values : [-0.4784565  2.764082  -0.8786994  2.376948 ]\n",
      "Step #640.00 (0ms ?*RT. ?UPS, TraCI: 66ms, vehicles TOT 506 ACT 68 BUF 4)                 \r"
     ]
    },
    {
     "name": "stderr",
     "output_type": "stream",
     "text": [
      "Warning: Vehicle 'CNER.0' performs emergency braking on lane 'end1_junction_2' with decel=9.00, wished=5.00, severity=1.00, time=640.00.\n",
      "Warning: Vehicle 'CNER.0' performs emergency stop at the end of lane 'end1_junction_2' because of a red traffic light (decel=-12.76, offset=0.03), time=640.42.\n"
     ]
    },
    {
     "name": "stdout",
     "output_type": "stream",
     "text": [
      "state : [0 6 1 0 5 0 0 6 0 0 2 0 0 0 0 0 0 0 0 0 0 0 0 0 0 6 3 5 9 4 2 6 0 0 4 0 4\n",
      " 0 3 0 0 2 0 0 7 0 0 0]\n",
      "Q_values : [-3.639445   1.9846346  2.4133744  1.1702671]\n",
      "state : [0 6 3 0 0 3 0 6 0 0 0 0 0 0 0 0 0 0 0 0 0 0 0 0 0 7 4 6 5 6 2 6 0 1 1 0 4\n",
      " 0 0 2 2 1 0 0 0 0 4 3]\n",
      "Q_values : [-0.53412366  0.25715566 -1.276974    2.2240152 ]\n",
      "state : [0 6 4 0 3 0 0 6 0 0 1 0 0 0 0 0 0 0 0 0 0 0 0 0 0 6 5 7 7 3 2 6 0 0 2 0 3\n",
      " 0 0 0 0 0 0 0 7 0 0 0]\n",
      "Q_values : [-2.8783143  1.5415471  3.0838013  3.0722783]\n",
      "state : [0 6 5 0 0 2 0 6 0 0 0 0 0 0 0 0 0 0 0 0 0 0 0 0 0 6 7 5 3 7 2 6 0 0 2 0 4\n",
      " 0 0 2 1 0 0 0 0 0 4 2]\n",
      "Q_values : [ 0.34548235  0.5809714  -1.285896    3.1122596 ]\n",
      "state : [0 6 7 0 6 0 0 6 0 0 2 0 0 0 0 0 0 0 0 0 0 0 0 0 2 8 9 7 9 3 2 8 2 2 4 2 3\n",
      " 0 0 1 0 0 0 0 4 0 0 0]\n",
      "Q_values : [-3.5425632  2.3736386  2.2043433 -0.6581378]\n",
      "Step #765.00 (0ms ?*RT. ?UPS, TraCI: 0ms, vehicles TOT 600 ACT 66 BUF 0)                  \r"
     ]
    },
    {
     "name": "stderr",
     "output_type": "stream",
     "text": [
      "Warning: Teleporting vehicle 'ASN.3'; waited too long (yield), lane='end3_junction_1', time=763.20.\n",
      "Warning: Vehicle 'ASN.3' ends teleporting on edge 'junction_end1', time=763.20.\n",
      "Warning: Vehicle 'CESR.11' performs emergency braking on lane 'end2_junction_2' with decel=9.00, wished=5.00, severity=1.00, time=763.92.\n",
      "Warning: Teleporting vehicle 'CNS.3'; waited too long (yield), lane='end1_junction_1', time=765.93.\n",
      "Warning: Vehicle 'CNS.3' ends teleporting on edge 'junction_end3', time=765.93.\n"
     ]
    },
    {
     "name": "stdout",
     "output_type": "stream",
     "text": [
      "state : [ 0  0  4  0  0  6  0  0  0  0  0  0  0  0  0  0  0  0  0  0  0  0  0  0\n",
      "  0  1  5  6 15 10  2  0  0  1  1  0  3  0  0  1  4  4  0  0  0  0  7  3]\n",
      "Q_values : [-9.3931465 -7.1466966 -5.5621214 -5.0569663]\n",
      "state : [ 0  0  0  0 17  2  0  0  0  0  2  0  0  0  0  0  0  0  0  0  0  0  0  0\n",
      "  2  2  2  5 21  7  2  2  2  3  3  2  4  0  0  2  0  5  0  0  2  0  0  0]\n",
      "Q_values : [-3.4525163 -1.7680255  5.196254   6.0201783]\n",
      "state : [ 0  0  0  0 25  0  0  0  0  0  4  0  0  0  0  0  0  0  0  0  0  0  0  0\n",
      "  0  0  2  5 29  9  2  0  0  0  6  0  4  0  0  0  0  0  0  0  9  0  0  0]\n",
      "Q_values : [ 1.9586539  3.8219206 14.098868  11.08037  ]\n",
      "Step #1020.00 (0ms ?*RT. ?UPS, TraCI: 87ms, vehicles TOT 781 ACT 68 BUF 5)                \r"
     ]
    },
    {
     "name": "stderr",
     "output_type": "stream",
     "text": [
      "Warning: Vehicle 'CESR.30' performs emergency braking on lane 'end2_junction_2' with decel=9.00, wished=5.00, severity=1.00, time=1020.00.\n",
      "Warning: Vehicle 'CESR.30' performs emergency stop at the end of lane 'end2_junction_2' because of a red traffic light (decel=-13.93, offset=0.03), time=1020.32.\n"
     ]
    },
    {
     "name": "stdout",
     "output_type": "stream",
     "text": [
      "state : [ 0  0  3  0  0 12  0  1  0  0  0  1  0  0  0  0  0  0  0  0  0  0  0  0\n",
      "  2  2  4  7 10 15  2  2  2  2  2  2  4  0  0  0  0  0  0  0  0  0  7  5]\n",
      "Q_values : [-10.991269  -12.715345   -4.015566    1.8244207]\n",
      "Step #1060.00 (1ms ~= 10.00*RT, ~69000.00UPS, TraCI: 85ms, vehicles TOT 818 ACT 69 BUF 4) \r"
     ]
    },
    {
     "name": "stderr",
     "output_type": "stream",
     "text": [
      "Warning: Vehicle 'AWER.12' performs emergency stop at the end of lane 'end4_junction_1' because of a red traffic light (decel=-17.78, offset=0.02), time=1060.88.\n"
     ]
    },
    {
     "name": "stdout",
     "output_type": "stream",
     "text": [
      "state : [0 2 6 0 0 2 0 2 2 0 0 0 0 0 0 0 0 0 0 0 0 0 0 0 0 2 8 7 8 6 2 2 2 0 2 0 4\n",
      " 0 0 2 2 1 0 0 1 0 8 2]\n",
      "Q_values : [-5.4671597   3.6059227  -1.9142127  -0.17430204]\n",
      "state : [ 0  0  2  0  0 16  0  0  0  0  0  0  0  0  0  0  0  0  0  0  0  0  0  0\n",
      "  2  2  4  5  4 20  2  2  2  2  2  2  4  0  0  0  1  0  0  0  0  0  4  2]\n",
      "Q_values : [-5.1509237  -3.2284946  -0.24041963  3.9661734 ]\n",
      "Step #1202.00 (0ms ?*RT. ?UPS, TraCI: 0ms, vehicles TOT 924 ACT 60 BUF 0)                 \r"
     ]
    },
    {
     "name": "stderr",
     "output_type": "stream",
     "text": [
      "Warning: Vehicle 'CEWR.47' performs emergency braking on lane 'end2_junction_1' with decel=9.00, wished=5.00, severity=1.00, time=1202.91.\n"
     ]
    },
    {
     "name": "stdout",
     "output_type": "stream",
     "text": [
      "Step #1221.00 (0ms ?*RT. ?UPS, TraCI: 0ms, vehicles TOT 924 ACT 47 BUF 0)                 \r"
     ]
    },
    {
     "name": "stderr",
     "output_type": "stream",
     "text": [
      "Warning: Vehicle 'CESR.45' performs emergency braking on lane 'end2_junction_2' with decel=9.00, wished=5.00, severity=1.00, time=1221.32.\n"
     ]
    },
    {
     "name": "stdout",
     "output_type": "stream",
     "text": [
      "state : [0 2 0 0 5 0 0 2 0 0 2 0 0 0 0 0 0 0 0 0 0 0 0 0 0 2 0 0 5 0 0 2 0 0 2 0 0\n",
      " 0 0 0 0 0 0 0 9 0 0 0]\n",
      "Q_values : [-1.1381671  5.4186444  8.472081   3.538951 ]\n",
      "state : [0 2 0 0 0 0 0 2 0 0 0 0 0 0 0 0 0 0 0 0 0 0 0 0 0 2 0 0 0 0 0 2 0 0 0 0 0\n",
      " 0 0 0 1 0 0 0 1 0 3 2]\n",
      "Q_values : [-0.40518212 -2.1416016  -0.15751505 -0.43105865]\n",
      "episode : 41\n",
      "Step #1300.00 (0ms ?*RT. ?UPS, TraCI: 0ms, vehicles TOT 924 ACT 4 BUF 0)                  \n",
      " Retrying in 1 seconds\n"
     ]
    },
    {
     "name": "stderr",
     "output_type": "stream",
     "text": [
      "Warning: Environment variable SUMO_HOME is not set properly, disabling XML validation. Set 'auto' or 'always' for web lookups.\n"
     ]
    },
    {
     "name": "stdout",
     "output_type": "stream",
     "text": [
      "state : [0 0 0 0 0 0 0 0 0 0 0 0 0 0 0 0 0 0 0 0 0 0 0 0 0 0 0 0 0 0 0 0 0 0 0 0 0\n",
      " 0 0 0 0 0 0 0 0 0 0 0]\n",
      "Q_values : [-1.0623271 -3.4105058 -1.1335744 -2.485559 ]\n",
      "state : [0 2 2 0 2 0 0 2 2 0 3 0 0 0 0 0 0 0 0 0 0 0 0 0 1 2 7 2 2 0 6 2 2 1 7 0 2\n",
      " 0 2 2 0 0 2 0 2 2 0 0]\n",
      "Q_values : [-2.321302   3.44335    3.9680057  2.596919 ]\n"
     ]
    },
    {
     "name": "stderr",
     "output_type": "stream",
     "text": [
      "Warning: Vehicle 'CWE.3' performs emergency braking on lane 'end4_junction_1' with decel=9.00, wished=5.00, severity=1.00, time=60.00.\n",
      "Warning: Vehicle 'CWE.3' performs emergency stop at the end of lane 'end4_junction_1' because of a red traffic light (decel=-29.73, offset=0.15), time=61.02.\n"
     ]
    },
    {
     "name": "stdout",
     "output_type": "stream",
     "text": [
      "state : [ 0  2 13  0  1  0  0  2  2  0  6  0  0  0  0  0  0  0  0  0  0  0  0  0          \n",
      "  1  2 17  1  3  2  6  2  2  1 10  0  0  0  0  3  0  0  0  0  0  0  0  0]\n",
      "Q_values : [-1.3814659  9.94624    9.27461    2.308809 ]\n",
      "state : [ 0  2  0  0  3  2  0  2  0  0  9  0  0  0  0  0  0  0  0  0  0  0  0  0\n",
      "  0  2  9  2  6  3  4  2  0  0 13  0  2  0  0  4  0 10  0  0  0  0  0  1]\n",
      "Q_values : [-2.5046592  3.5594826  5.883781   0.7614722]\n",
      "Step #121.00 (0ms ?*RT. ?UPS, TraCI: 0ms, vehicles TOT 99 ACT 61 BUF 3)                   \r"
     ]
    },
    {
     "name": "stderr",
     "output_type": "stream",
     "text": [
      "Warning: Vehicle 'CNE.5' performs emergency braking on lane 'end1_junction_2' with decel=9.00, wished=5.00, severity=1.00, time=120.00.\n",
      "Warning: Vehicle 'CNE.5' performs emergency braking on lane 'end1_junction_2' with decel=9.00, wished=5.00, severity=1.00, time=121.20.\n"
     ]
    },
    {
     "name": "stdout",
     "output_type": "stream",
     "text": [
      "state : [ 0  2  9  0  0  3  0  2  0  0  0  0  0  0  0  0  0  0  0  0  0  0  0  0\n",
      "  0  3 12  0  0  4  4  2  0  1  4  0  2  0  0  4  6  6  0  0  0  0  3  1]\n",
      "Q_values : [-1.4618471  2.6391041  2.0000725  3.5431237]\n",
      "state : [ 0  2 12  0  0  0  0  2  0  0  4  0  0  0  0  0  0  0  0  0  0  0  0  0\n",
      "  3  4 16  2  3  1  6  5  1  3  9  1  0  0  0  3  0  1  0  0  3  0  0  0]\n",
      "Q_values : [-3.790348   2.5234623  2.9620175 -3.932743 ]\n",
      "state : [ 0  3 14  0  0  1  0  3  1  0  0  1  0  0  0  0  0  0  0  0  0  0  0  0\n",
      "  0  4 19  0  0  2  4  4  2  0  3  2  2  0  0  4  5  3  2  0  0  2  1  0]\n",
      "Q_values : [-2.9601824  5.5627832 -0.424757   0.2861023]\n",
      "state : [ 0  0 15  0  2  0  0  0  0  0 10  0  0  0  0  0  0  0  0  0  0  0  0  0\n",
      "  0  0 18  2  4  2  4  0  0  0 13  0  0  2  1  4  0  0  0  2  1  0  0  0]\n",
      "Q_values : [ 2.3533359 13.152964   9.223778   6.8189673]\n",
      "Step #261.00 (0ms ?*RT. ?UPS, TraCI: 0ms, vehicles TOT 204 ACT 60 BUF 0)                  \r"
     ]
    },
    {
     "name": "stderr",
     "output_type": "stream",
     "text": [
      "Warning: Vehicle 'CNE.16' performs emergency braking on lane 'end1_junction_2' with decel=9.00, wished=5.00, severity=1.00, time=260.00.\n",
      "Warning: Vehicle 'CNE.16' performs emergency braking on lane 'end1_junction_2' with decel=9.00, wished=5.00, severity=1.00, time=261.07.\n"
     ]
    },
    {
     "name": "stdout",
     "output_type": "stream",
     "text": [
      "state : [ 0  0 10  0  4  0  0  0  0  0 16  0  0  0  0  0  0  0  0  0  0  0  0  0\n",
      "  1  0 14  1  6  2  5  0  0  1 20  0  0  0  0  2  0  2  0  0  2  0  0  0]\n",
      "Q_values : [ 3.6234803 16.599527  15.598887   6.0070744]\n",
      "state : [ 0  0  0  0  6  2  0  0  0  0 20  0  0  0  0  0  0  0  0  0  0  0  0  0\n",
      "  2  3  5  2  9  3  5  2  1  3 23  1  2  0  0  4  0  9  0  0  0  0  0  0]\n",
      "Q_values : [ 3.1406121 10.672925  13.321098   5.5694895]\n",
      "state : [ 0  1  5  0  0  3  0  1  1  0  0  1  0  0  0  0  0  0  0  0  0  0  0  0\n",
      "  0  3  9  0  0  4  4  2  2  1 14  2  2  0  0  3  7  7  1  0  0  2  3  3]\n",
      "Q_values : [-9.884885  -6.3774076 -5.72668   -5.2694607]\n",
      "Step #380.00 (0ms ?*RT. ?UPS, TraCI: 67ms, vehicles TOT 294 ACT 63 BUF 0)                 \r"
     ]
    },
    {
     "name": "stderr",
     "output_type": "stream",
     "text": [
      "Warning: Vehicle 'CNE.27' performs emergency braking on lane 'end1_junction_2' with decel=9.00, wished=5.00, severity=1.00, time=380.00.\n",
      "Warning: Vehicle 'CNE.27' performs emergency stop at the end of lane 'end1_junction_2' because of a red traffic light (decel=-14.68, offset=0.02), time=380.24.\n"
     ]
    },
    {
     "name": "stdout",
     "output_type": "stream",
     "text": [
      "state : [ 0  0  8  0  4  4  0  0  0  0 24  0  0  0  0  0  0  0  0  0  0  0  0  0\n",
      "  1  0 12  2  4  4  5  0  0  1 28  0  2  0  0  2  0  2  0  0  0  0  0  0]\n",
      "Q_values : [ 9.148415 14.674806 24.375938 13.596156]\n",
      "state : [ 0  0 11  0  0  4  0  0  0  0  0  0  0  0  0  0  0  0  0  0  0  0  0  0\n",
      "  0  0 15  2  2  6  4  0  0  0 19  0  0  0  0  4  6  4  0  0  0  0  2  1]\n",
      "Q_values : [-11.641054   -3.972745   -5.5222282  -6.701685 ]\n",
      "state : [ 0  0  0  0  2  6  0  0  0  0 10  0  0  0  0  0  0  0  0  0  0  0  0  0\n",
      "  4  1  6  4  3  6  6  1  0  4 22  0  2  0  0  3  2  9  0  0  0  0  0  0]\n",
      "Q_values : [-2.0443194  -2.379115    1.4408451   0.38456452]\n",
      "state : [ 0  0  6  0  0  6  0  0  0  0  0  0  0  0  0  0  0  0  0  0  0  0  0  0\n",
      "  2  2 11  1  1  8  5  2  2  3 14  2  0  0  0  2  6  7  0  0  0  0  2  0]\n",
      "Q_values : [-13.164528   -6.8367686  -7.329115   -7.9300137]\n",
      "state : [ 0  2  0  0  1  8  0  2  0  0 10  2  0  0  0  0  0  0  0  0  0  0  0  0\n",
      "  0  2  3  2  4  9  4  2  0  0 17  2  2  0  0  3  2 10  2  0  0  1  1  2]\n",
      "Q_values : [ 0.32972717  3.4266546   8.640086   10.221909  ]\n",
      "Step #500.00 (0ms ?*RT. ?UPS, TraCI: 67ms, vehicles TOT 384 ACT 59 BUF 0)                 \r"
     ]
    },
    {
     "name": "stderr",
     "output_type": "stream",
     "text": [
      "Warning: Vehicle 'CES.13' performs emergency braking on lane 'end2_junction_2' with decel=9.00, wished=5.00, severity=1.00, time=500.00.\n",
      "Warning: Vehicle 'CES.13' performs emergency stop at the end of lane 'end2_junction_2' because of a red traffic light (decel=-17.89, offset=0.07), time=500.58.\n"
     ]
    },
    {
     "name": "stdout",
     "output_type": "stream",
     "text": [
      "state : [0 2 2 0 0 3 0 2 0 0 0 0 0 0 0 0 0 0 0 0 0 0 0 0 0 3 6 2 2 5 4 2 0 1 6 0 0\n",
      " 0 0 4 6 6 0 0 0 0 1 0]\n",
      "Q_values : [-6.733732  -4.0568933 -2.2493613 -4.928799 ]\n",
      "state : [0 2 6 0 0 5 0 2 0 0 0 0 0 0 0 0 0 0 0 0 0 0 0 0 2 2 9 2 0 5 5 2 0 2 2 0 2\n",
      " 0 0 1 5 3 0 0 0 0 2 0]\n",
      "Q_values : [-1.3111665   3.098145   -0.24586642  1.5411863 ]\n",
      "state : [0 2 0 0 0 5 0 2 0 0 2 0 0 0 0 0 0 0 0 0 0 0 0 0 2 4 4 2 2 7 4 4 2 2 6 2 0\n",
      " 0 0 3 1 9 0 0 0 0 0 0]\n",
      "Q_values : [-11.3722515  -6.7626047  -5.9351926  -7.309177 ]\n",
      "state : [ 0  4  3  0  0  7  0  4  2  0  0  2  0  0  0  0  0  0  0  0  0  0  0  0\n",
      "  2  6  6  5  3 10  2  6  4  2  2  4  2  0  0  2  4  4  2  0  0  2  1  0]\n",
      "Q_values : [ 1.8485775  -0.64873743 -3.3362741   3.171535  ]\n",
      "state : [0 6 0 0 5 2 0 6 0 0 2 0 0 0 0 0 0 0 0 0 0 0 0 0 0 6 1 5 9 7 2 6 0 0 4 0 4\n",
      " 0 0 0 0 5 0 0 2 0 0 3]\n",
      "Q_values : [-1.3816195  2.1475     4.8183284  7.0556993]\n",
      "state : [ 0  6  1  0  8  0  0  6  0  0  4  0  0  0  0  0  0  0  0  0  0  0  0  0\n",
      "  0  7  2  5 13  3  2  6  0  1  5  0  3  0  0  2  0  0  0  0  6  0  0  0]\n",
      "Q_values : [-0.06576204  3.906436    7.862656    6.65043   ]\n",
      "state : [0 6 2 0 0 2 0 6 0 0 0 0 0 0 0 0 0 0 0 0 0 0 0 0 0 6 3 7 3 6 2 6 0 0 0 0 4\n",
      " 0 0 0 3 2 0 0 1 0 7 3]\n",
      "Q_values : [ 0.7224903   0.26033962 -3.303687    3.4488869 ]\n",
      "state : [0 6 3 0 3 0 0 6 0 0 0 0 0 0 0 0 0 0 0 0 0 0 0 0 0 6 5 5 7 4 2 6 0 0 2 0 4\n",
      " 0 0 1 1 0 0 0 5 0 1 0]\n",
      "Q_values : [-2.6355913 -3.0751812 -2.6330903 -3.1647778]\n",
      "Step #800.00 (0ms ?*RT. ?UPS, TraCI: 71ms, vehicles TOT 623 ACT 58 BUF 1)                 \r"
     ]
    },
    {
     "name": "stderr",
     "output_type": "stream",
     "text": [
      "Warning: Vehicle 'CESR.13' performs emergency braking on lane 'end2_junction_2' with decel=9.00, wished=5.00, severity=1.00, time=800.00.\n",
      "Warning: Vehicle 'CESR.13' performs emergency stop at the end of lane 'end2_junction_2' because of a red traffic light (decel=-12.51, offset=0.01), time=800.45.\n"
     ]
    },
    {
     "name": "stdout",
     "output_type": "stream",
     "text": [
      "Step #841.00 (0ms ?*RT. ?UPS, TraCI: 0ms, vehicles TOT 649 ACT 54 BUF 5)                  \r"
     ]
    },
    {
     "name": "stderr",
     "output_type": "stream",
     "text": [
      "Warning: Vehicle 'CWER.6' performs emergency braking on lane 'end4_junction_1' with decel=9.00, wished=5.00, severity=1.00, time=840.00.\n",
      "Warning: Vehicle 'CWER.6' performs emergency stop at the end of lane 'end4_junction_1' because of a red traffic light (decel=-29.55, offset=0.01), time=841.04.\n"
     ]
    },
    {
     "name": "stdout",
     "output_type": "stream",
     "text": [
      "state : [ 0  0  4  0  8 12  0  0  0  0  1  0  0  0  0  0  0  0  0  0  0  0  0  0\n",
      "  0  1  5  5 12 17  2  0  0  1  2  0  3  0  0  2  0  0  0  0  0  0  1  0]\n",
      "Q_values : [-1.3868804  1.8322649  6.7876663  7.049347 ]\n",
      "state : [ 0  0  5  0 12  0  0  0  0  0  2  0  0  0  0  0  0  0  0  0  0  0  0  0\n",
      "  0  0  6  7 15  8  1  0  0  0  3  0  3  0  0  0  0  0  0  0  9  0  0  0]\n",
      "Q_values : [-2.226861   -0.16436636  4.3471704   4.6793313 ]\n",
      "state : [ 0  0  6  0 15  0  0  0  0  0  3  0  0  0  0  0  0  0  0  0  0  0  0  0\n",
      "  3  1  8  5 19  4  2  2  2  3  4  2  4  0  0  2  0  0  0  0 11  0  0  0]\n",
      "Q_values : [-1.3955541  4.8716073  5.538982   1.040736 ]\n",
      "state : [ 0  0  8  0  0  3  0  1  1  0  0  1  0  0  0  0  0  0  0  0  0  0  0  0\n",
      "  2  2  8  7 11  6  1  2  2  2  0  2  3  0  0  0  3  1  0  0  0  0  7  3]\n",
      "Q_values : [-7.758278  -3.0228357 -4.517625  -3.7784157]\n",
      "state : [ 0  2  0  0  9  7  0  2  0  0  0  2  0  0  0  0  0  0  0  0  0  0  0  0\n",
      "  0  2  2  7 13 10  2  2  0  0  2  2  4  0  0  1  1  7  2  0  0  1  1  2]\n",
      "Q_values : [-3.5561676 -2.7992933  5.60194    7.4437094]\n",
      "state : [ 0  2  2  0 13  0  0  2  0  0  2  0  0  0  0  0  0  0  0  0  0  0  0  0\n",
      "  0  2  2  5 17  4  0  2  0  0  2  0  4  0  1  2  0  0  0  0  8  0  0  0]\n",
      "Q_values : [ 0.13109541  3.9016175  11.056       6.4932103 ]\n",
      "state : [ 0  2  4  0  8  0  0  2  0  0  1  0  0  0  0  0  0  0  0  0  0  0  0  0\n",
      "  1  3  4  7 11  3  2  2  0  1  2  0  4  0  0  2  0  0  0  0  6  0  1  0]\n",
      "Q_values : [-1.7533653  -0.39041853  6.0957212   4.9785986 ]\n",
      "Step #1004.00 (0ms ?*RT. ?UPS, TraCI: 0ms, vehicles TOT 773 ACT 49 BUF 1)                 \r"
     ]
    },
    {
     "name": "stderr",
     "output_type": "stream",
     "text": [
      "Warning: Vehicle 'CESR.31' performs emergency braking on lane 'end2_junction_2' with decel=9.00, wished=5.00, severity=1.00, time=1004.03.\n"
     ]
    },
    {
     "name": "stdout",
     "output_type": "stream",
     "text": [
      "Step #1020.00 (0ms ?*RT. ?UPS, TraCI: 71ms, vehicles TOT 781 ACT 46 BUF 5)                \r"
     ]
    },
    {
     "name": "stderr",
     "output_type": "stream",
     "text": [
      "Warning: Vehicle 'CWER.11' performs emergency braking on lane 'end4_junction_1' with decel=9.00, wished=5.00, severity=1.00, time=1020.00.\n",
      "Warning: Vehicle 'CEWR.32' performs emergency braking on lane 'end2_junction_1' with decel=9.00, wished=5.00, severity=1.00, time=1020.00.\n",
      "Warning: Vehicle 'CEWR.32' performs emergency stop at the end of lane 'end2_junction_1' because of a red traffic light (decel=-22.47, offset=0.05), time=1020.12.\n",
      "Warning: Vehicle 'CWER.11' performs emergency stop at the end of lane 'end4_junction_1' because of a red traffic light (decel=-30.00, offset=0.18), time=1020.99.\n"
     ]
    },
    {
     "name": "stdout",
     "output_type": "stream",
     "text": [
      "state : [ 0  0  7  0  7  2  0  0  0  0  1  1  0  0  0  0  0  0  0  0  0  0  0  0\n",
      "  2  2  8  7 10  6  2  0  2  2  3  2  4  3  0  0  0  0  0  1  2  0  0  0]\n",
      "Q_values : [-3.5246968 -4.6179776 -0.7785541 -1.8331604]\n",
      "state : [ 0  2  8  0  0  6  0  0  2  0  0  2  0  0  0  0  0  0  0  0  0  0  0  0\n",
      "  0  2 10  5  4 10  2  0  2  0  2  2  3  1  0  2  2  1  2  0  0  2  7  3]\n",
      "Q_values : [-1.2605457  4.4928837  4.2903256  6.6340504]\n",
      "Step #1080.00 (1ms ~= 10.00*RT, ~63000.00UPS, TraCI: 95ms, vehicles TOT 835 ACT 63 BUF 5) \r"
     ]
    },
    {
     "name": "stderr",
     "output_type": "stream",
     "text": [
      "Warning: Vehicle 'CEWR.37' performs emergency braking on lane 'end2_junction_1' with decel=9.00, wished=5.00, severity=1.00, time=1080.00.\n",
      "Warning: Vehicle 'CEWR.37' performs emergency stop at the end of lane 'end2_junction_1' because of a red traffic light (decel=-23.33, offset=0.14), time=1080.25.\n"
     ]
    },
    {
     "name": "stdout",
     "output_type": "stream",
     "text": [
      "state : [ 0  2  0  0  6  2  0  0  0  0  2  0  0  0  0  0  0  0  0  0  0  0  0  0\n",
      "  0  2  2  7 10  6  2  0  0  0  4  0  3  0  0  1  0  9  0  0  1  0  0  1]\n",
      "Q_values : [-4.0053377 -4.659331   3.246252   4.386208 ]\n",
      "state : [ 0  2  2  0 10  0  0  0  0  0  4  0  0  0  0  0  0  0  0  0  0  0  0  0\n",
      "  0  2  2  5 14  4  0  0  0  0  4  0  4  0  0  2  0  1  0  0  5  0  0  0]\n",
      "Q_values : [1.0809407 2.3281252 9.667075  7.9218955]\n",
      "state : [0 2 2 0 0 3 0 0 0 0 0 0 0 0 0 0 0 0 0 0 0 0 0 0 0 2 4 6 6 6 2 0 0 0 1 0 3\n",
      " 0 0 0 3 1 0 0 0 0 7 3]\n",
      "Q_values : [-9.43034  -6.153741 -4.683009 -4.586069]\n",
      "state : [0 2 4 0 4 0 0 0 0 0 1 0 0 0 0 0 0 0 0 0 0 0 0 0 2 3 4 7 8 3 2 1 0 2 2 0 3\n",
      " 0 0 2 0 0 0 0 6 0 1 0]\n",
      "Q_values : [-1.6602266  -1.0510632   0.5618067   0.22832513]\n",
      "state : [0 2 4 0 0 2 0 0 0 0 0 0 0 0 0 0 0 0 0 0 0 0 0 0 2 4 6 5 3 7 2 2 2 2 2 2 4\n",
      " 0 0 0 1 0 0 0 0 0 4 4]\n",
      "Q_values : [-11.797537   -8.294209   -5.7172484  -6.1776986]\n",
      "state : [0 0 6 0 0 7 0 0 2 0 0 2 0 0 0 0 0 0 0 0 0 0 0 0 0 0 6 0 0 7 0 0 2 0 0 2 0\n",
      " 1 0 0 0 0 0 2 1 0 0 0]\n",
      "Q_values : [ 3.2322094 12.678073   6.7115    12.654812 ]\n",
      "state : [0 0 0 0 0 7 0 0 0 0 0 2 0 0 0 0 0 0 0 0 0 0 0 0 0 0 0 0 0 7 0 0 0 0 0 2 0\n",
      " 0 0 0 0 6 0 0 0 0 0 1]\n",
      "Q_values : [-0.8301041  -0.09504557  3.548258    9.394532  ]\n",
      "episode : 42\n",
      "Step #1300.00 (0ms ?*RT. ?UPS, TraCI: 0ms, vehicles TOT 924 ACT 8 BUF 0)                  \n",
      " Retrying in 1 seconds\n"
     ]
    },
    {
     "name": "stderr",
     "output_type": "stream",
     "text": [
      "Warning: Environment variable SUMO_HOME is not set properly, disabling XML validation. Set 'auto' or 'always' for web lookups.\n"
     ]
    },
    {
     "name": "stdout",
     "output_type": "stream",
     "text": [
      "state : [0 0 0 0 0 0 0 0 0 0 0 0 0 0 0 0 0 0 0 0 0 0 0 0 0 0 0 0 0 0 0 0 0 0 0 0 0\n",
      " 0 0 0 0 0 0 0 0 0 0 0]\n",
      "Q_values : [-2.7849872 -4.252105  -4.0663633 -3.5648868]\n",
      "state : [0 0 0 0 0 0 0 0 0 0 0 0 0 0 0 0 0 0 0 0 0 0 0 0 2 3 3 2 2 2 4 2 2 3 3 2 0\n",
      " 0 0 0 0 0 0 0 0 0 0 0]\n",
      "Q_values : [-14.895135  -11.542572  -10.588261   -9.6693535]\n"
     ]
    },
    {
     "name": "stderr",
     "output_type": "stream",
     "text": [
      "Warning: Vehicle 'CNE.3' performs emergency braking on lane 'end1_junction_2' with decel=9.00, wished=5.00, severity=1.00, time=63.79.\n"
     ]
    },
    {
     "name": "stdout",
     "output_type": "stream",
     "text": [
      "state : [ 0  2  0  0  3  4  0  2  0  0 11  0  0  0  0  0  0  0  0  0  0  0  0  0          \n",
      "  3  5  2  2  6  5  6  5  1  3 16  1  0  0  0  3  0  3  0  0  0  0  0  0]\n",
      "Q_values : [-1.1676371  1.7428017  5.562626   7.083212 ]\n",
      "state : [ 0  3  1  0  4  0  0  3  1  0 14  0  0  0  0  0  0  0  0  0  0  0  0  0\n",
      "  0  4  6  0  5  0  4  4  2  0 18  0  2  0  2  4  0  1  2  0  5  2  0  0]\n",
      "Q_values : [ 0.97615385 11.425714   11.486566    5.6357884 ]\n",
      "state : [0 4 6 0 0 0 0 4 2 0 0 0 0 0 0 0 0 0 0 0 0 0 0 0 0 5 9 2 2 2 4 4 2 1 9 0 0\n",
      " 0 0 4 6 4 0 0 0 0 3 2]\n",
      "Q_values : [-1.8992546 -2.255637   1.2141191  2.2842164]\n",
      "Step #200.00 (1ms ~= 10.00*RT, ~60000.00UPS, TraCI: 92ms, vehicles TOT 162 ACT 60 BUF 0)  \r"
     ]
    },
    {
     "name": "stderr",
     "output_type": "stream",
     "text": [
      "Warning: Vehicle 'AWE.12' performs emergency stop at the end of lane 'end4_junction_1' because of a red traffic light (decel=-12.66, offset=0.02), time=200.76.\n"
     ]
    },
    {
     "name": "stdout",
     "output_type": "stream",
     "text": [
      "Step #240.00 (0ms ?*RT. ?UPS, TraCI: 71ms, vehicles TOT 189 ACT 59 BUF 3)                 \r"
     ]
    },
    {
     "name": "stderr",
     "output_type": "stream",
     "text": [
      "Warning: Vehicle 'AWE.18' performs emergency stop at the end of lane 'end4_junction_1' because of a red traffic light (decel=-13.19, offset=0.03), time=240.72.\n"
     ]
    },
    {
     "name": "stdout",
     "output_type": "stream",
     "text": [
      "Step #301.00 (0ms ?*RT. ?UPS, TraCI: 0ms, vehicles TOT 243 ACT 76 BUF 3)                  \r"
     ]
    },
    {
     "name": "stderr",
     "output_type": "stream",
     "text": [
      "Warning: Vehicle 'CNE.17' performs emergency braking on lane 'end1_junction_2' with decel=9.00, wished=5.00, severity=1.00, time=300.00.\n",
      "Warning: Vehicle 'CNE.17' performs emergency braking on lane 'end1_junction_2' with decel=9.00, wished=5.00, severity=1.00, time=301.19.\n"
     ]
    },
    {
     "name": "stdout",
     "output_type": "stream",
     "text": [
      "state : [ 0  0 11  0  0  3  0  1  1  0  0  1  0  0  0  0  0  0  0  0  0  0  0  0\n",
      "  0  3 18  0  0  4  4  2  2  1  5  2  2  0  0  3  7  7  2  0  0  1  3  1]\n",
      "Q_values : [-7.8384495  1.4120619 -2.1444538 -4.656805 ]\n",
      "state : [ 0  0 10  0  1  5  0  0  0  0  8  2  0  0  0  0  0  0  0  0  0  0  0  0\n",
      "  0  0 14  0  2  6  4  0  0  0 12  2  2  1  0  4  0  3  0  1  0  0  0  0]\n",
      "Q_values : [ 2.139864   5.1426444 13.2189665 10.711698 ]\n",
      "state : [ 0  0 17  0  2  8  0  0  0  0  3  2  0  0  0  0  0  0  0  0  0  0  0  0\n",
      "  1  0 21  2  2  8  5  0  0  1  7  2  2  0  0  1  1  1  0  0  0  0  0  0]\n",
      "Q_values : [ 2.631053 12.911642 10.726116  9.264262]\n",
      "state : [ 0  0  0  0  2  8  0  0  0  0  6  2  0  0  0  0  0  0  0  0  0  0  0  0\n",
      "  0  0 13  2  4 10  4  0  0  0 10  2  0  0  0  4  0  9  0  0  0  0  0  0]\n",
      "Q_values : [-5.973942  -4.5675354 -1.0577666 -2.9616594]\n",
      "Step #420.00 (0ms ?*RT. ?UPS, TraCI: 92ms, vehicles TOT 321 ACT 62 BUF 3)                 \r"
     ]
    },
    {
     "name": "stderr",
     "output_type": "stream",
     "text": [
      "Warning: Vehicle 'CNE.28' performs emergency braking on lane 'end1_junction_2' with decel=9.00, wished=5.00, severity=1.00, time=420.00.\n",
      "Warning: Vehicle 'CNE.28' performs emergency stop at the end of lane 'end1_junction_2' because of a red traffic light (decel=-13.59, offset=0.02), time=420.35.\n"
     ]
    },
    {
     "name": "stdout",
     "output_type": "stream",
     "text": [
      "state : [ 0  2 20  0  0  2  0  2  2  0  0  2  0  0  0  0  0  0  0  0  0  0  0  0\n",
      "  0  2 23  2  3  3  4  2  2  0  3  2  2  0  0  3  5  2  2  0  1  1  1  1]\n",
      "Q_values : [-1.1989942  8.948063   3.6121044  2.8220537]\n",
      "state : [ 0  2  0  0  1  3  0  2  0  0  2  2  0  0  0  0  0  0  0  0  0  0  0  0\n",
      "  0  3 15  0  2  4  4  2  0  1  6  2  2  0  0  3  1  9  0  0  0  0  0  2]\n",
      "Q_values : [-10.938252   -9.189514   -7.023011   -7.2620764]\n",
      "state : [ 0  2 10  0  0  4  0  2  0  0  0  2  0  0  0  0  0  0  0  0  0  0  0  0\n",
      "  1  2 19  2  3  5  5  2  0  1  3  2  0  0  0  2  4  6  0  0  0  0  1  0]\n",
      "Q_values : [-4.57747     0.16896814 -1.412644   -4.190725  ]\n",
      "state : [ 0  2  0  0  1  5  0  2  0  0  2  2  0  0  0  0  0  0  0  0  0  0  0  0\n",
      "  0  2 11  0  2  6  4  2  0  0  6  2  2  0  0  3  1  9  0  0  0  0  0  0]\n",
      "Q_values : [-6.7542562 -5.0582166 -3.5608454 -4.657409 ]\n",
      "Step #540.00 (0ms ?*RT. ?UPS, TraCI: 92ms, vehicles TOT 412 ACT 55 BUF 8)                 \r"
     ]
    },
    {
     "name": "stderr",
     "output_type": "stream",
     "text": [
      "Warning: Vehicle 'CNE.39' performs emergency braking on lane 'end1_junction_2' with decel=9.00, wished=5.00, severity=1.00, time=540.00.\n",
      "Warning: Vehicle 'CNE.39' performs emergency stop at the end of lane 'end1_junction_2' because of a red traffic light (decel=-9.68, offset=0.00), time=540.77.\n"
     ]
    },
    {
     "name": "stdout",
     "output_type": "stream",
     "text": [
      "state : [ 0  0  0  0  2  8  0  0  0  0  6  2  0  0  0  0  0  0  0  0  0  0  0  0\n",
      "  2  2 10  2  4 10  4  2  2  2 10  4  0  0  0  4  0  9  0  0  0  0  0  0]\n",
      "Q_values : [-9.572255  -7.2574425 -5.8575687 -6.9478836]\n",
      "Step #640.00 (0ms ?*RT. ?UPS, TraCI: 68ms, vehicles TOT 506 ACT 74 BUF 4)                 \r"
     ]
    },
    {
     "name": "stderr",
     "output_type": "stream",
     "text": [
      "Warning: Vehicle 'CESR.0' performs emergency braking on lane 'end2_junction_2' with decel=9.00, wished=5.00, severity=1.00, time=640.00.\n",
      "Warning: Vehicle 'CESR.0' performs emergency stop at the end of lane 'end2_junction_2' because of a red traffic light (decel=-16.01, offset=0.05), time=640.13.\n"
     ]
    },
    {
     "name": "stdout",
     "output_type": "stream",
     "text": [
      "Step #660.00 (1ms ~= 10.00*RT, ~60000.00UPS, TraCI: 70ms, vehicles TOT 517 ACT 60 BUF 5)  \r"
     ]
    },
    {
     "name": "stderr",
     "output_type": "stream",
     "text": [
      "Warning: Vehicle 'CNER.0' performs emergency braking on lane 'end1_junction_2' with decel=9.00, wished=5.00, severity=1.00, time=660.00.\n",
      "Warning: Vehicle 'CNER.0' performs emergency stop at the end of lane 'end1_junction_2' because of a red traffic light (decel=-12.85, offset=0.03), time=660.41.\n"
     ]
    },
    {
     "name": "stdout",
     "output_type": "stream",
     "text": [
      "state : [ 0  0  3  0  8  8  0  0  0  0  4  0  0  0  0  0  0  0  0  0  0  0  0  0\n",
      "  0  1  4  5 12 13  2  0  0  1  5  0  3  2  1  2  0  2  0  2  1  0  0  0]\n",
      "Q_values : [-1.2968369  1.6212041  7.2680154  7.413941 ]\n",
      "state : [ 0  0  4  0 12  0  0  0  0  0  5  0  0  0  0  0  0  0  0  0  0  0  0  0\n",
      "  0  0  5  7 15  4  1  0  0  0  6  0  3  0  0  0  0  0  0  0  9  0  0  0]\n",
      "Q_values : [-0.8336024  2.5419145  7.8786273  7.572162 ]\n",
      "state : [ 0  0  7  0  6  7  0  0  0  0  1  0  0  0  0  0  0  0  0  0  0  0  0  0\n",
      "  0  0  7  5 11 11  0  0  0  0  2  0  3  0  0  2  0  0  0  0  0  0  1  0]\n",
      "Q_values : [-1.5679505  1.420373   6.233739   7.250417 ]\n",
      "state : [ 0  0  7  0 10  0  0  0  0  0  2  0  0  0  0  0  0  0  0  0  0  0  0  0\n",
      "  2  2  9  7 13  3  2  2  2  2  4  2  3  0  0  0  0  0  0  0  9  0  0  0]\n",
      "Q_values : [-2.8430297 -1.3021258 -1.7481526 -1.6589437]\n",
      "state : [ 0  1  0  0 13  2  0  2  0  0  3  2  0  0  0  0  0  0  0  0  0  0  0  0\n",
      "  1  2  0  5 17  7  0  2  0  1  4  2  4  0  0  2  0  9  1  0  2  1  0  2]\n",
      "Q_values : [-1.7303026 -1.1503078  8.753426   9.038661 ]\n",
      "state : [ 0  2  0  0 23  2  0  2  0  0  6  0  0  0  0  0  0  0  0  0  0  0  0  0\n",
      "  0  2  1  5 27  7  2  2  0  0  8  0  4  0  0  0  0  1  0  0  0  0  0  0]\n",
      "Q_values : [ 5.230421   7.3511724 18.39915   14.66818  ]\n",
      "Step #843.00 (1ms ~= 10.00*RT, ~62000.00UPS, TraCI: 0ms, vehicles TOT 650 ACT 62 BUF 4)   \r"
     ]
    },
    {
     "name": "stderr",
     "output_type": "stream",
     "text": [
      "Warning: Vehicle 'CNER.6' performs emergency braking on lane 'end1_junction_2' with decel=9.00, wished=5.00, severity=1.00, time=843.97.\n"
     ]
    },
    {
     "name": "stdout",
     "output_type": "stream",
     "text": [
      "state : [ 0  2  2  0  0 10  0  2  0  0  0  0  0  0  0  0  0  0  0  0  0  0  0  0\n",
      "  0  2  3  7  8 13  1  2  0  0  0  0  4  0  0  0  2  0  0  0  0  0  7  5]\n",
      "Q_values : [-4.5335627  -2.9584274   0.15173471  4.6067257 ]\n",
      "Step #882.00 (0ms ?*RT. ?UPS, TraCI: 0ms, vehicles TOT 677 ACT 57 BUF 1)                  \r"
     ]
    },
    {
     "name": "stderr",
     "output_type": "stream",
     "text": [
      "Warning: Vehicle 'CEWR.18' performs emergency braking on lane 'end2_junction_1' with decel=9.00, wished=5.00, severity=1.00, time=882.11.\n"
     ]
    },
    {
     "name": "stdout",
     "output_type": "stream",
     "text": [
      "state : [ 0  2  3  0  7  0  0  2  0  0  0  0  0  0  0  0  0  0  0  0  0  0  0  0\n",
      "  3  3  5  5 12  6  2  4  2  3  1  2  4  0  0  1  1  0  0  0  9  0  0  0]\n",
      "Q_values : [-7.2487063 -4.254752  -3.246766  -5.365832 ]\n",
      "state : [ 0  0  7  0  6 12  0  0  2  0  2  2  0  0  0  0  0  0  0  0  0  0  0  0\n",
      "  0  0  7  5 11 16  0  0  2  0  2  2  4  0  0  2  0  0  0  0  0  0  0  0]\n",
      "Q_values : [ 3.022049  6.572205  9.430796 10.782125]\n",
      "state : [ 0  0  7  0 10  0  0  0  2  0  2  0  0  0  0  0  0  0  0  0  0  0  0  0\n",
      "  0  0  9  5 14  9  2  0  2  0  4  0  3  0  1  0  0  0  0  0  9  0  0  0]\n",
      "Q_values : [-1.1229887  5.456833   3.9719582  3.992207 ]\n",
      "Step #980.00 (0ms ?*RT. ?UPS, TraCI: 91ms, vehicles TOT 755 ACT 60 BUF 1)                 \r"
     ]
    },
    {
     "name": "stderr",
     "output_type": "stream",
     "text": [
      "Warning: Vehicle 'CESR.27' performs emergency braking on lane 'end2_junction_2' with decel=9.00, wished=5.00, severity=1.00, time=980.00.\n",
      "Warning: Vehicle 'CESR.27' performs emergency stop at the end of lane 'end2_junction_2' because of a red traffic light (decel=-14.69, offset=0.02), time=980.27.\n"
     ]
    },
    {
     "name": "stdout",
     "output_type": "stream",
     "text": [
      "state : [ 0  0  0  0 14  8  0  0  0  0  4  0  0  0  0  0  0  0  0  0  0  0  0  0\n",
      "  1  1  0  7 17 11  2  0  0  1  5  0  4  0  0  2  0  9  0  0  2  0  0  1]\n",
      "Q_values : [ 1.6382792  4.5098896 12.210262   8.788593 ]\n",
      "state : [ 0  0  0  0  0 11  0  0  0  0  0  0  0  0  0  0  0  0  0  0  0  0  0  0\n",
      "  0  0  2  5  9 15  2  0  0  0  1  0  4  0  0  0  3  3  0  0  0  0  7  3]\n",
      "Q_values : [-11.245128  -10.758208   -5.051326   -1.5659633]\n",
      "Step #1020.00 (0ms ?*RT. ?UPS, TraCI: 91ms, vehicles TOT 781 ACT 56 BUF 5)                \r"
     ]
    },
    {
     "name": "stderr",
     "output_type": "stream",
     "text": [
      "Warning: Vehicle 'CWER.11' performs emergency braking on lane 'end4_junction_1' with decel=9.00, wished=5.00, severity=1.00, time=1020.00.\n",
      "Warning: Vehicle 'CWER.11' performs emergency stop at the end of lane 'end4_junction_1' because of a red traffic light (decel=-30.27, offset=0.00), time=1020.96.\n"
     ]
    },
    {
     "name": "stdout",
     "output_type": "stream",
     "text": [
      "state : [ 0  0  2  0  8  0  0  0  0  0  1  0  0  0  0  0  0  0  0  0  0  0  0  0\n",
      "  3  2  3  5 12  8  4  2  0  3  2  2  3  0  0  2  0  0  0  0  9  0  1  0]\n",
      "Q_values : [-9.481725  -5.346031  -4.7208686 -4.4358044]\n",
      "state : [ 0  0  3  0 12  0  0  1  0  0  1  0  0  0  0  0  0  0  0  0  0  0  0  0\n",
      "  2  2  4  7 15  3  2  2  2  2  3  0  4  0  1  0  0  0  0  0  9  0  0  0]\n",
      "Q_values : [-2.6185784  -2.480744    1.9080911   0.29569662]\n",
      "Step #1064.00 (0ms ?*RT. ?UPS, TraCI: 0ms, vehicles TOT 821 ACT 58 BUF 1)                 \r"
     ]
    },
    {
     "name": "stderr",
     "output_type": "stream",
     "text": [
      "Warning: Vehicle 'CESR.36' performs emergency braking on lane 'end2_junction_2' with decel=9.00, wished=5.00, severity=1.00, time=1064.15.\n"
     ]
    },
    {
     "name": "stdout",
     "output_type": "stream",
     "text": [
      "state : [0 2 4 0 0 2 0 2 2 0 0 0 0 0 0 0 0 0 0 0 0 0 0 0 0 2 6 5 7 7 2 2 2 0 2 0 4\n",
      " 0 1 2 2 1 2 0 0 2 6 4]\n",
      "Q_values : [-3.788686   -2.4877143  -3.3070848   0.34933865]\n",
      "Step #1080.00 (0ms ?*RT. ?UPS, TraCI: 94ms, vehicles TOT 835 ACT 61 BUF 5)                \r"
     ]
    },
    {
     "name": "stderr",
     "output_type": "stream",
     "text": [
      "Warning: Vehicle 'AEWR.36' performs emergency stop at the end of lane 'end2_junction_1' because of a red traffic light (decel=-12.23, offset=0.00), time=1080.82.\n"
     ]
    },
    {
     "name": "stdout",
     "output_type": "stream",
     "text": [
      "state : [ 0  2  6  0  6  0  0  2  2  0  1  0  0  0  0  0  0  0  0  0  0  0  0  0\n",
      "  0  2  6  5 11  3  0  2  2  0  2  0  3  0  0  2  0  0  0  0  6  0  1  0]\n",
      "Q_values : [0.56925654 5.0023985  8.917117   6.220124  ]\n",
      "state : [ 0  0 10  0  6  0  0  0  2  0  1  0  0  0  0  0  0  0  0  0  0  0  0  0\n",
      "  2  2 12  5 11  9  2  2  4  2  3  1  4  0  0  0  0  0  0  0  8  0  0  0]\n",
      "Q_values : [-5.9883866 -1.9861754 -3.5112956 -2.3526042]\n",
      "Step #1220.00 (0ms ?*RT. ?UPS, TraCI: 0ms, vehicles TOT 924 ACT 58 BUF 0)                 "
     ]
    },
    {
     "name": "stderr",
     "output_type": "stream",
     "text": [
      "Warning: Vehicle 'CNER.16' performs emergency braking on lane 'end1_junction_2' with decel=9.00, wished=5.00, severity=1.00, time=1220.00.\n"
     ]
    },
    {
     "name": "stdout",
     "output_type": "stream",
     "text": [
      "state : [ 0  0  1  0 12  9  0  0  0  0  3  1  0  0  0  0  0  0  0  0  0  0  0  0\n",
      "  0  0  1  0 12  9  0  0  0  0  3  1  1  2  0  0  0  2  0  1  0  0  0  0]\n",
      "Q_values : [ 4.2901134  5.4127264 17.505184  13.91323  ]\n",
      "state : [0 0 1 0 0 9 0 0 0 0 0 1 0 0 0 0 0 0 0 0 0 0 0 0 0 0 1 0 0 9 0 0 0 0 0 1 0\n",
      " 0 0 0 2 1 0 0 0 0 7 3]\n",
      "Q_values : [-1.7686701 -1.9492837  2.5724976  8.148877 ]\n",
      "episode : 43\n",
      "Step #1300.00 (0ms ?*RT. ?UPS, TraCI: 1ms, vehicles TOT 924 ACT 2 BUF 0)                  \n",
      " Retrying in 1 seconds\n"
     ]
    },
    {
     "name": "stderr",
     "output_type": "stream",
     "text": [
      "Warning: Environment variable SUMO_HOME is not set properly, disabling XML validation. Set 'auto' or 'always' for web lookups.\n"
     ]
    },
    {
     "name": "stdout",
     "output_type": "stream",
     "text": [
      "state : [0 0 0 0 0 0 0 0 0 0 0 0 0 0 0 0 0 0 0 0 0 0 0 0 0 0 0 0 0 0 0 0 0 0 0 0 0\n",
      " 0 0 0 0 0 0 0 0 0 0 0]\n",
      "Q_values : [-0.6844356 -1.4193282 -3.8856452 -3.3888822]\n",
      "state : [ 0  0  6  0  0  2  0  0  2  0  2  2  0  0  0  0  0  0  0  0  0  0  0  0\n",
      "  0  0 10  2  2  4  4  0  2  0  6  2  0  1  0  3  1  0  0  1  0  0  0  0]\n",
      "Q_values : [-5.2272177   5.939887   -0.10155594 -1.6793396 ]\n",
      "state : [ 0  0  3  0  2  0  0  0  0  0  9  0  0  0  0  0  0  0  0  0  0  0  0  0\n",
      "  1  0  7  1  4  2  5  0  0  1 13  0  0  0  1  3  0  1  0  0  3  0  0  0]\n",
      "Q_values : [-1.6371343  4.5069976  4.5134187 -2.8996277]\n",
      "state : [ 0  2  0  0  0  6  0  2  0  0  2  2  0  0  0  0  0  0  0  0  0  0  0  0\n",
      "  0  3 12  2  2  8  4  2  0  1  6  2  0  0  0  3  1  9  0  0  0  0  0  1]\n",
      "Q_values : [-8.206785  -4.3093834 -4.9252033 -3.7027779]\n",
      "Step #200.00 (1ms ~= 10.00*RT, ~57000.00UPS, TraCI: 93ms, vehicles TOT 162 ACT 57 BUF 0)  \r"
     ]
    },
    {
     "name": "stderr",
     "output_type": "stream",
     "text": [
      "Warning: Vehicle 'CNE.10' performs emergency braking on lane 'end1_junction_2' with decel=9.00, wished=5.00, severity=1.00, time=200.00.\n",
      "Warning: Vehicle 'CNE.10' performs emergency stop at the end of lane 'end1_junction_2' because of a red traffic light (decel=-14.20, offset=0.02), time=200.28.\n"
     ]
    },
    {
     "name": "stdout",
     "output_type": "stream",
     "text": [
      "state : [ 0  2 11  0  2  0  0  2  0  0  6  0  0  0  0  0  0  0  0  0  0  0  0  0\n",
      "  1  2 16  2  2  0  6  2  0  1 10  0  2  0  1  2  0  2  0  0  7  0  0  0]\n",
      "Q_values : [1.540689  8.515237  9.330793  1.4861121]\n",
      "Step #240.00 (0ms ?*RT. ?UPS, TraCI: 0ms, vehicles TOT 186 ACT 51 BUF 0)                  "
     ]
    },
    {
     "name": "stderr",
     "output_type": "stream",
     "text": [
      "Warning: Vehicle 'CWE.18' performs emergency braking on lane 'end4_junction_1' with decel=9.00, wished=5.00, severity=1.00, time=240.00.\n"
     ]
    },
    {
     "name": "stdout",
     "output_type": "stream",
     "text": [
      "state : [ 0  0 19  0  1  2  0  0  0  0  2  0  0  0  0  0  0  0  0  0  0  0  0  0\n",
      "  0  1 22  4  2  2  4  0  0  1  6  0  1  1  1  3  1  0  0  1  0  0  0  0]\n",
      "Q_values : [-1.5890491 10.334902   5.2364235  3.7771235]\n",
      "state : [ 0  0  0  0  1  2  0  0  0  0  6  0  0  0  0  0  0  0  0  0  0  0  0  0\n",
      "  1  0 15  1  3  4  5  0  0  1 10  0  0  0  0  2  0  9  0  0  0  0  0  0]\n",
      "Q_values : [-7.561276  -3.4958987 -3.6372721 -3.6510942]\n",
      "Step #300.00 (0ms ?*RT. ?UPS, TraCI: 0ms, vehicles TOT 240 ACT 69 BUF 0)                  "
     ]
    },
    {
     "name": "stderr",
     "output_type": "stream",
     "text": [
      "Warning: Vehicle 'CNE.21' performs emergency braking on lane 'end1_junction_2' with decel=9.00, wished=5.00, severity=1.00, time=300.00.\n"
     ]
    },
    {
     "name": "stdout",
     "output_type": "stream",
     "text": [
      "Step #320.00 (0ms ?*RT. ?UPS, TraCI: 0ms, vehicles TOT 252 ACT 64 BUF 0)                  "
     ]
    },
    {
     "name": "stderr",
     "output_type": "stream",
     "text": [
      "Warning: Vehicle 'ANS.2' performs emergency braking on lane 'end1_junction_1' with decel=9.00, wished=5.00, severity=1.00, time=320.00.\n",
      "Warning: Vehicle 'ANS.2' performs emergency stop at the end of lane 'end1_junction_1' because of a red traffic light (decel=-25.55, offset=0.14), time=320.00.\n"
     ]
    },
    {
     "name": "stdout",
     "output_type": "stream",
     "text": [
      "state : [ 0  1  0  0  5  6  0  0  0  0 16  2  0  0  0  0  0  0  0  0  0  0  0  0\n",
      "  1  1  4  2  8  7  5  0  0  1 20  2  0  0  0  2  0  9  0  0  0  0  0  1]\n",
      "Q_values : [ 2.2285547  3.7047973 12.956666  13.147162 ]\n",
      "Step #340.00 (0ms ?*RT. ?UPS, TraCI: 93ms, vehicles TOT 270 ACT 65 BUF 0)                 \r"
     ]
    },
    {
     "name": "stderr",
     "output_type": "stream",
     "text": [
      "Warning: Vehicle 'CNE.26' performs emergency braking on lane 'end1_junction_2' with decel=9.00, wished=5.00, severity=1.00, time=340.00.\n",
      "Warning: Vehicle 'CNE.26' performs emergency stop at the end of lane 'end1_junction_2' because of a red traffic light (decel=-17.87, offset=0.02), time=340.28.\n"
     ]
    },
    {
     "name": "stdout",
     "output_type": "stream",
     "text": [
      "state : [ 0  1  3  0  7  0  0  0  0  0 20  0  0  0  0  0  0  0  0  0  0  0  0  0\n",
      "  0  1  7  0  7  0  4  0  0  0 23  0  2  0  1  4  0  2  0  0  7  0  0  0]\n",
      "Q_values : [ 6.628932  10.905777  18.040205   3.3342495]\n",
      "state : [ 0  1  7  0  0  0  0  0  0  0  0  0  0  0  0  0  0  0  0  0  0  0  0  0\n",
      "  0  2 10  2  2  2  4  0  0  1 14  0  0  0  0  4  6  4  0  0  0  0  4  3]\n",
      "Q_values : [-11.063632  -4.047937  -8.650711  -8.135452]\n",
      "state : [ 0  1  0  0  2  2  0  0  0  0 10  0  0  0  0  0  0  0  0  0  0  0  0  0\n",
      "  1  1  4  2  2  2  5  0  0  1 18  0  2  0  0  1  1 10  0  0  0  0  0  0]\n",
      "Q_values : [-1.3081951  4.839232   5.48926   -3.9316816]\n",
      "Step #400.00 (0ms ?*RT. ?UPS, TraCI: 93ms, vehicles TOT 308 ACT 52 BUF 4)                 \r"
     ]
    },
    {
     "name": "stderr",
     "output_type": "stream",
     "text": [
      "Warning: Vehicle 'CNE.31' performs emergency braking on lane 'end1_junction_2' with decel=9.00, wished=5.00, severity=1.00, time=400.00.\n",
      "Warning: Vehicle 'CNE.31' performs emergency stop at the end of lane 'end1_junction_2' because of a red traffic light (decel=-16.54, offset=0.02), time=400.42.\n"
     ]
    },
    {
     "name": "stdout",
     "output_type": "stream",
     "text": [
      "state : [0 1 3 0 0 2 0 0 0 0 0 0 0 0 0 0 0 0 0 0 0 0 0 0 0 1 7 2 2 4 4 0 0 0 9 0 0\n",
      " 0 0 3 7 6 0 0 0 0 1 0]\n",
      "Q_values : [-8.469725  -5.4181824 -4.636356  -5.428933 ]\n",
      "state : [0 1 7 0 0 4 0 0 0 0 0 0 0 0 0 0 0 0 0 0 0 0 0 0 4 2 9 4 1 4 6 1 0 4 3 0 2\n",
      " 0 0 3 6 5 0 0 0 0 1 0]\n",
      "Q_values : [-2.1783657 -1.1496754 -2.2800114 -1.8978598]\n",
      "Step #441.00 (0ms ?*RT. ?UPS, TraCI: 0ms, vehicles TOT 348 ACT 58 BUF 0)                  \r"
     ]
    },
    {
     "name": "stderr",
     "output_type": "stream",
     "text": [
      "Warning: Vehicle 'AWE.35' performs emergency stop at the end of lane 'end4_junction_1' because of a red traffic light (decel=-30.89, offset=0.19), time=441.07.\n"
     ]
    },
    {
     "name": "stdout",
     "output_type": "stream",
     "text": [
      "state : [0 3 4 0 0 6 0 2 2 0 0 2 0 0 0 0 0 0 0 0 0 0 0 0 0 3 8 2 3 7 4 2 2 0 3 2 2\n",
      " 0 0 4 4 4 2 0 0 1 1 1]\n",
      "Q_values : [0.14397812 2.1573591  2.760097   7.497234  ]\n",
      "Step #500.00 (0ms ?*RT. ?UPS, TraCI: 71ms, vehicles TOT 384 ACT 47 BUF 0)                 \r"
     ]
    },
    {
     "name": "stderr",
     "output_type": "stream",
     "text": [
      "Warning: Vehicle 'CES.13' performs emergency braking on lane 'end2_junction_2' with decel=9.00, wished=5.00, severity=1.00, time=500.00.\n",
      "Warning: Vehicle 'CES.13' performs emergency stop at the end of lane 'end2_junction_2' because of a red traffic light (decel=-18.60, offset=0.02), time=500.44.\n"
     ]
    },
    {
     "name": "stdout",
     "output_type": "stream",
     "text": [
      "state : [ 0  3 11  0  0  1  0  2  2  0  0  0  0  0  0  0  0  0  0  0  0  0  0  0\n",
      "  1  3 15  2  3  2  5  2  2  1  3  0  0  0  0  2  4  3  0  0  0  0  1  0]\n",
      "Q_values : [-1.0872192  8.641977   3.171698   4.29298  ]\n",
      "Step #540.00 (0ms ?*RT. ?UPS, TraCI: 0ms, vehicles TOT 408 ACT 46 BUF 0)                  "
     ]
    },
    {
     "name": "stderr",
     "output_type": "stream",
     "text": [
      "Warning: Vehicle 'CNE.41' performs emergency braking on lane 'end1_junction_2' with decel=9.00, wished=5.00, severity=1.00, time=540.00.\n"
     ]
    },
    {
     "name": "stdout",
     "output_type": "stream",
     "text": [
      "state : [ 0  0  7  0  2  3  0  0  0  0  6  0  0  0  0  0  0  0  0  0  0  0  0  0\n",
      "  0  1 10  2  4  5  4  0  0  1  9  0  0  1  0  4  0  2  0  2  1  0  0  0]\n",
      "Q_values : [-0.45110083  5.7199326   4.1855416   2.0502279 ]\n",
      "state : [ 0  0  0  0  4  5  0  0  0  0  9  0  0  0  0  0  0  0  0  0  0  0  0  0\n",
      "  2  0  3  2  4  5  5  0  0  2 12  0  2  0  0  2  0  9  0  0  0  0  0  0]\n",
      "Q_values : [2.097625  4.3511124 8.152149  8.827586 ]\n",
      "Step #580.00 (0ms ?*RT. ?UPS, TraCI: 94ms, vehicles TOT 440 ACT 50 BUF 16)                \r"
     ]
    },
    {
     "name": "stderr",
     "output_type": "stream",
     "text": [
      "Warning: Vehicle 'CNE.46' performs emergency braking on lane 'end1_junction_2' with decel=9.00, wished=5.00, severity=1.00, time=580.00.\n",
      "Warning: Vehicle 'CNE.46' performs emergency stop at the end of lane 'end1_junction_2' because of a red traffic light (decel=-17.75, offset=0.05), time=580.23.\n"
     ]
    },
    {
     "name": "stdout",
     "output_type": "stream",
     "text": [
      "state : [ 0  0  3  0  4  0  0  0  0  0 12  0  0  0  0  0  0  0  0  0  0  0  0  0\n",
      "  2  2  7  2  6  2  4  2  2  2 16  2  0  0  0  4  0  2  0  0  5  0  0  0]\n",
      "Q_values : [-1.2615309  3.516018   5.9324017 -4.4408536]\n",
      "state : [0 2 7 0 0 2 0 2 2 0 0 2 0 0 0 0 0 0 0 0 0 0 0 0 2 4 9 6 3 4 2 4 4 2 6 4 2\n",
      " 0 0 3 7 3 2 0 0 2 3 2]\n",
      "Q_values : [-3.896164    0.29534292 -2.1386037  -2.3851395 ]\n",
      "state : [ 0  4  0  0  4  8  0  4  0  0  6  4  0  0  0  0  0  0  0  0  0  0  0  0\n",
      "  0  4  1  5  9 12  2  4  0  0  8  4  4  0  0  0  0  1  0  0  0  0  0  0]\n",
      "Q_values : [ 3.0181522  4.776399   9.860035  11.974061 ]\n",
      "state : [0 4 2 0 0 3 0 4 0 0 0 0 0 0 0 0 0 0 0 0 0 0 0 0 0 4 3 7 3 7 1 4 0 0 0 0 4\n",
      " 0 0 0 6 3 0 0 2 0 7 3]\n",
      "Q_values : [-5.047007  -2.9281163 -3.1862016  3.1015916]\n",
      "state : [0 4 5 0 0 3 0 4 0 0 0 0 0 0 0 0 0 0 0 0 0 0 0 0 0 4 5 6 5 6 0 4 0 0 0 0 4\n",
      " 0 0 2 2 0 0 0 0 0 3 2]\n",
      "Q_values : [-2.0848413   0.8781266   0.54803884  3.375824  ]\n",
      "state : [0 4 5 0 3 0 0 4 0 0 0 0 0 0 0 0 0 0 0 0 0 0 0 0 2 6 7 7 7 3 2 6 2 2 2 2 2\n",
      " 0 0 0 0 0 0 0 6 0 0 0]\n",
      "Q_values : [-4.881413   -2.525086   -0.73917246 -3.224489  ]\n",
      "Step #763.00 (0ms ?*RT. ?UPS, TraCI: 0ms, vehicles TOT 599 ACT 59 BUF 1)                  \r"
     ]
    },
    {
     "name": "stderr",
     "output_type": "stream",
     "text": [
      "Warning: Vehicle 'CESR.11' performs emergency braking on lane 'end2_junction_2' with decel=9.00, wished=5.00, severity=1.00, time=763.97.\n"
     ]
    },
    {
     "name": "stdout",
     "output_type": "stream",
     "text": [
      "state : [0 6 9 0 3 0 0 6 2 0 2 0 0 0 0 0 0 0 0 0 0 0 0 0 1 7 9 7 7 3 2 6 2 1 3 0 2\n",
      " 0 1 2 0 0 0 0 9 0 0 0]\n",
      "Q_values : [0.5136044 7.424803  5.8022456 9.135992 ]\n",
      "state : [ 0  6 11  0  0  3  0  6  2  0  0  0  0  0  0  0  0  0  0  0  0  0  0  0\n",
      "  0  7 12  6  5  6  2  6  2  1  1  0  3  0  0  2  2  1  0  0  0  0  6  3]\n",
      "Q_values : [ 1.8707192  7.839607   7.101436  10.151609 ]\n",
      "state : [ 0  0 13  0  7  2  0  0  2  0  2  0  0  0  0  0  0  0  0  0  0  0  0  0\n",
      "  3  1 15  5 11  7  2  2  4  3  3  2  4  3  2  2  0  0  0  3  2  0  0  0]\n",
      "Q_values : [-1.7547069  8.141434   3.764892   2.5513463]\n",
      "state : [ 0  0  0  0 10  6  0  1  0  0  2  1  0  0  0  0  0  0  0  0  0  0  0  0\n",
      "  2  2  4  5 15 10  1  2  1  2  4  2  3  0  0  0  0  9  0  0  0  0  0  2]\n",
      "Q_values : [-5.683134   -3.7704115   0.67940927  3.9863029 ]\n",
      "Step #921.00 (0ms ?*RT. ?UPS, TraCI: 0ms, vehicles TOT 714 ACT 69 BUF 0)                  \r"
     ]
    },
    {
     "name": "stderr",
     "output_type": "stream",
     "text": [
      "Warning: Vehicle 'CSWR.2' performs emergency braking on lane 'end3_junction_2' with decel=9.00, wished=5.00, severity=1.00, time=920.00.\n",
      "Warning: Vehicle 'CSWR.2' performs emergency stop at the end of lane 'end3_junction_2' because of a red traffic light (decel=-13.03, offset=0.01), time=921.38.\n"
     ]
    },
    {
     "name": "stdout",
     "output_type": "stream",
     "text": [
      "Step #944.00 (0ms ?*RT. ?UPS, TraCI: 0ms, vehicles TOT 731 ACT 67 BUF 1)                  \r"
     ]
    },
    {
     "name": "stderr",
     "output_type": "stream",
     "text": [
      "Warning: Vehicle 'CESR.26' performs emergency braking on lane 'end2_junction_2' with decel=9.00, wished=5.00, severity=1.00, time=944.19.\n"
     ]
    },
    {
     "name": "stdout",
     "output_type": "stream",
     "text": [
      "state : [ 0  2  0  0  0  6  0  2  0  0  0  0  0  0  0  0  0  0  0  0  0  0  0  0\n",
      "  0  2  2  6 13 10  2  2  0  0  1  0  3  0  0  0  4  2  0  0  0  0  7  3]\n",
      "Q_values : [-8.473952   -7.353452   -5.4395957  -0.19067341]\n",
      "state : [ 0  2  0  0 18  6  0  2  0  0  3  0  0  0  0  0  0  0  0  0  0  0  0  0\n",
      "  3  3  2  6 23 10  4  4  0  3  4  2  2  0  0  2  0  1  0  0  0  0  0  0]\n",
      "Q_values : [ 1.9199829  4.3335133  6.8393674 11.437011 ]\n",
      "state : [ 0  2  1  0 22  0  0  3  0  0  3  0  0  0  0  0  0  0  0  0  0  0  0  0\n",
      "  2  4  2  6 26  3  2  4  2  2  5  0  4  0  1  0  0  0  0  0  9  0  0  0]\n",
      "Q_values : [ 3.5595326  9.664196  13.394873   4.134332 ]\n",
      "state : [ 0  4  2  0  0  2  0  4  2  0  0  0  0  0  0  0  0  0  0  0  0  0  0  0\n",
      "  0  4  4  5 17  7  2  4  2  0  2  0  4  0  1  2  3  2  2  0  2  2  6  4]\n",
      "Q_values : [-2.7183132  -0.8129083   0.76876134 -3.5412889 ]\n",
      "state : [ 0  4  4  0  0  6  0  4  2  0  0  0  0  0  0  0  0  0  0  0  0  0  0  0\n",
      "  0  4  4  6  8 10  0  4  2  0  0  0  2  0  0  2  2  0  0  0  0  0  8  4]\n",
      "Q_values : [0.1637342 4.006981  4.1070247 4.2744093]\n",
      "Step #1101.00 (0ms ?*RT. ?UPS, TraCI: 0ms, vehicles TOT 846 ACT 58 BUF 0)                 \r"
     ]
    },
    {
     "name": "stderr",
     "output_type": "stream",
     "text": [
      "Warning: Vehicle 'CEWR.37' performs emergency braking on lane 'end2_junction_1' with decel=9.00, wished=5.00, severity=1.00, time=1100.00.\n",
      "Warning: Vehicle 'CEWR.37' performs emergency braking on lane 'end2_junction_1' with decel=9.00, wished=5.00, severity=1.00, time=1101.73.\n"
     ]
    },
    {
     "name": "stdout",
     "output_type": "stream",
     "text": [
      "state : [ 0  4  4  0  6  0  0  4  2  0  0  0  0  0  0  0  0  0  0  0  0  0  0  0\n",
      "  0  4  6  7 10  3  2  4  2  0  2  0  4  0  0  1  0  0  0  0  9  0  0  0]\n",
      "Q_values : [-1.3921099  3.1456006  5.839347  -1.2504609]\n",
      "state : [ 0  4  6  0  0  6  0  4  2  0  0  0  0  0  0  0  0  0  0  0  0  0  0  0\n",
      "  0  4  8  5  5 10  2  4  2  0  1  0  4  0  0  0  1  0  0  0  0  0  3  0]\n",
      "Q_values : [-1.0424957   0.43098587 -0.15510166  1.4887102 ]\n",
      "state : [ 0  4  0  0  7  2  0  4  0  0  1  0  0  0  0  0  0  0  0  0  0  0  0  0\n",
      "  2  6  1  5 11  7  2  6  2  2  3  2  4  0  0  0  0  7  0  0  2  0  0  1]\n",
      "Q_values : [-6.6423755  -5.1568623  -1.3695569  -0.21129692]\n",
      "Step #1224.00 (0ms ?*RT. ?UPS, TraCI: 0ms, vehicles TOT 924 ACT 48 BUF 0)                 \r"
     ]
    },
    {
     "name": "stderr",
     "output_type": "stream",
     "text": [
      "Warning: Teleporting vehicle 'CSNR.2'; waited too long (yield), lane='end3_junction_1', time=1215.40.\n",
      "Warning: Vehicle 'CSNR.2' ends teleporting on edge 'junction_end1', time=1215.40.\n",
      "Warning: Teleporting vehicle 'ANSR.2'; waited too long (yield), lane='end1_junction_1', time=1224.38.\n",
      "Warning: Vehicle 'ANSR.2' ends teleporting on edge 'junction_end3', time=1224.38.\n"
     ]
    },
    {
     "name": "stdout",
     "output_type": "stream",
     "text": [
      "state : [ 0  5  0  0 12  0  0  5  0  0  3  0  0  0  0  0  0  0  0  0  0  0  0  0\n",
      "  0  5  0  0 12  0  0  5  0  0  3  0  0  0  0  0  0  1  0  0  0  0  0  1]\n",
      "Q_values : [ 7.163908 12.596557 19.21893   7.902634]\n",
      "episode : 44\n",
      "Step #1300.00 (0ms ?*RT. ?UPS, TraCI: 0ms, vehicles TOT 924 ACT 11 BUF 0)                 \n",
      " Retrying in 1 seconds\n"
     ]
    },
    {
     "name": "stderr",
     "output_type": "stream",
     "text": [
      "Warning: Environment variable SUMO_HOME is not set properly, disabling XML validation. Set 'auto' or 'always' for web lookups.\n"
     ]
    },
    {
     "name": "stdout",
     "output_type": "stream",
     "text": [
      "state : [0 0 0 0 0 0 0 0 0 0 0 0 0 0 0 0 0 0 0 0 0 0 0 0 0 0 0 0 0 0 0 0 0 0 0 0 0\n",
      " 0 0 0 0 0 0 0 0 0 0 0]\n",
      "Q_values : [-1.8753482 -2.8252044 -1.8626372 -1.2529454]\n",
      "state : [0 0 0 0 0 0 0 0 0 0 0 0 0 0 0 0 0 0 0 0 0 0 0 0 2 3 3 2 2 2 4 2 2 3 3 2 0\n",
      " 0 0 0 0 0 0 0 0 0 0 0]\n",
      "Q_values : [-13.451414  -9.673329  -8.586085  -9.533881]\n",
      "state : [0 2 2 0 0 2 0 2 2 0 0 2 0 0 0 0 0 0 0 0 0 0 0 0 1 2 7 2 0 2 5 2 2 1 3 2 2\n",
      " 0 0 2 2 0 2 0 0 1 2 0]\n",
      "Q_values : [ 0.997463    0.59923816 -1.5155553  -0.05412996]\n",
      "state : [ 0  0 13  0  0  0  0  0  2  0  0  0  0  0  0  0  0  0  0  0  0  0  0  0\n",
      "  1  0 17  1  1  2  5  0  2  1  3  0  0  0  0  4  5  4  0  0  0  0  2  0]\n",
      "Q_values : [-5.8387527  7.6139593 -1.1443431  0.8378032]\n",
      "state : [ 0  0  3  0  3  4  0  0  0  0  9  0  0  0  0  0  0  0  0  0  0  0  0  0\n",
      "  3  3  6  2  6  5  5  3  1  3 14  1  0  0  0  3  0  0  0  0  0  0  0  0]\n",
      "Q_values : [-2.5762956  -2.3650715   0.7135353   0.37731302]\n",
      "state : [ 0  0  0  0  2  8  0  0  0  0 11  2  0  0  0  0  0  0  0  0  0  0  0  0\n",
      "  0  0  9  2  4 10  4  0  0  0 14  2  0  0  0  4  0  9  0  0  0  0  0  1]\n",
      "Q_values : [-0.21302056  0.8379272   8.246535    6.601275  ]\n",
      "Step #240.00 (1ms ~= 10.00*RT, ~63000.00UPS, TraCI: 95ms, vehicles TOT 189 ACT 63 BUF 3)  \r"
     ]
    },
    {
     "name": "stderr",
     "output_type": "stream",
     "text": [
      "Warning: Vehicle 'CNE.15' performs emergency braking on lane 'end1_junction_2' with decel=9.00, wished=5.00, severity=1.00, time=240.00.\n",
      "Warning: Vehicle 'CNE.15' performs emergency stop at the end of lane 'end1_junction_2' because of a red traffic light (decel=-12.82, offset=0.01), time=240.46.\n"
     ]
    },
    {
     "name": "stdout",
     "output_type": "stream",
     "text": [
      "state : [ 0  0  9  0  0 10  0  0  0  0  0  2  0  0  0  0  0  0  0  0  0  0  0  0\n",
      "  0  1 12  4  1 10  4  0  0  1  5  2  2  0  0  4  7  6  0  0  0  0  2  1]\n",
      "Q_values : [-1.0402567  0.1990372  5.5305815  7.4359827]\n",
      "state : [ 0  0 12  0  0  0  0  0  0  0  5  0  0  0  0  0  0  0  0  0  0  0  0  0\n",
      "  1  0 16  1  2  2  5  0  0  1  9  0  0  0  1  1  2  0  0  0  9  0  0  0]\n",
      "Q_values : [-5.14934    8.188128  -1.1172222  1.2693877]\n",
      "state : [ 0  1  7  0  3  0  0  1  1  0 11  0  0  0  0  0  0  0  0  0  0  0  0  0\n",
      "  0  3 11  0  4  1  4  2  2  1 15  1  2  0  1  4  0  3  1  0  3  2  0  0]\n",
      "Q_values : [1.863884  7.858201  9.276485  2.6610992]\n",
      "Step #320.00 (0ms ?*RT. ?UPS, TraCI: 96ms, vehicles TOT 252 ACT 61 BUF 0)                 \r"
     ]
    },
    {
     "name": "stderr",
     "output_type": "stream",
     "text": [
      "Warning: Vehicle 'CWN.2' performs emergency braking on lane 'end4_junction_2' with decel=9.00, wished=5.00, severity=1.00, time=320.00.\n",
      "Warning: Vehicle 'CES.8' performs emergency braking on lane 'end2_junction_2' with decel=9.00, wished=5.00, severity=1.00, time=320.00.\n",
      "Warning: Vehicle 'CES.8' performs emergency stop at the end of lane 'end2_junction_2' because of a red traffic light (decel=-21.02, offset=0.04), time=320.19.\n",
      "Warning: Vehicle 'CWN.2' performs emergency stop at the end of lane 'end4_junction_2' because of a red traffic light (decel=-18.98, offset=0.00), time=320.32.\n"
     ]
    },
    {
     "name": "stdout",
     "output_type": "stream",
     "text": [
      "state : [ 0  2 18  0  0  3  0  2  2  0  0  1  0  0  0  0  0  0  0  0  0  0  0  0\n",
      "  0  3 21  2  2  5  4  2  2  1  3  1  0  0  0  3  4  0  0  0  0  0  0  0]\n",
      "Q_values : [ 1.4551778 11.917509   5.9270983  7.3499017]\n",
      "Step #400.00 (0ms ?*RT. ?UPS, TraCI: 85ms, vehicles TOT 308 ACT 58 BUF 4)                 \r"
     ]
    },
    {
     "name": "stderr",
     "output_type": "stream",
     "text": [
      "Warning: Vehicle 'CNE.26' performs emergency braking on lane 'end1_junction_2' with decel=9.00, wished=5.00, severity=1.00, time=400.00.\n",
      "Warning: Vehicle 'CNE.26' performs emergency stop at the end of lane 'end1_junction_2' because of a red traffic light (decel=-15.27, offset=0.04), time=400.19.\n"
     ]
    },
    {
     "name": "stdout",
     "output_type": "stream",
     "text": [
      "state : [ 0  2 11  0  0  5  0  2  0  0  0  1  0  0  0  0  0  0  0  0  0  0  0  0\n",
      "  0  2 17  2  2  7  4  2  0  0  3  1  0  0  0  3  5  5  0  0  0  0  1  0]\n",
      "Q_values : [-0.22316933  4.210081    1.7051682   2.5985594 ]\n",
      "state : [ 0  4  0  0  1  9  0  4  0  0  3  3  0  0  0  0  0  0  0  0  0  0  0  0\n",
      "  0  4  5  2  4 10  4  4  0  0  7  3  2  0  0  3  1  9  2  0  0  1  1  2]\n",
      "Q_values : [0.84941196 5.4454546  4.251359   5.990719  ]\n",
      "Step #480.00 (1ms ~= 10.00*RT, ~68000.00UPS, TraCI: 95ms, vehicles TOT 375 ACT 68 BUF 3)  \r"
     ]
    },
    {
     "name": "stderr",
     "output_type": "stream",
     "text": [
      "Warning: Vehicle 'CNE.37' performs emergency braking on lane 'end1_junction_2' with decel=9.00, wished=5.00, severity=1.00, time=480.00.\n",
      "Warning: Vehicle 'CNE.37' performs emergency stop at the end of lane 'end1_junction_2' because of a red traffic light (decel=-11.81, offset=0.02), time=480.53.\n"
     ]
    },
    {
     "name": "stdout",
     "output_type": "stream",
     "text": [
      "state : [ 0  4  5  0  2  0  0  4  0  0  7  0  0  0  0  0  0  0  0  0  0  0  0  0\n",
      "  0  5  8  0  3  1  4  4  0  1 10  0  2  0  3  4  0  2  0  0  9  0  0  0]\n",
      "Q_values : [1.6121418 5.9605627 9.829654  2.4496608]\n",
      "Step #502.00 (0ms ?*RT. ?UPS, TraCI: 0ms, vehicles TOT 384 ACT 56 BUF 0)                  \r"
     ]
    },
    {
     "name": "stderr",
     "output_type": "stream",
     "text": [
      "Warning: Vehicle 'CES.13' performs emergency braking on lane 'end2_junction_2' with decel=9.00, wished=5.00, severity=1.00, time=502.51.\n"
     ]
    },
    {
     "name": "stdout",
     "output_type": "stream",
     "text": [
      "state : [ 0  4  8  0  0  1  0  4  0  0  0  0  0  0  0  0  0  0  0  0  0  0  0  0\n",
      "  1  4 12  2  3  2  6  4  0  1  3  0  0  0  0  3  6  4  0  0  2  0  2  1]\n",
      "Q_values : [ 0.96398115  0.5943901  -0.7864342   0.90840185]\n",
      "state : [ 0  0 12  0  1  2  0  0  0  0  2  0  0  0  0  0  0  0  0  0  0  0  0  0\n",
      "  0  0 15  0  2  3  4  0  0  0  6  0  1  3  1  3  1  0  0  2  1  0  0  0]\n",
      "Q_values : [-3.4013324   6.638955    0.25838888  1.6308577 ]\n",
      "state : [0 0 0 0 2 3 0 0 0 0 6 0 0 0 0 0 0 0 0 0 0 0 0 0 0 1 7 2 4 5 4 0 0 1 9 0 0\n",
      " 0 0 4 0 9 0 0 0 0 0 0]\n",
      "Q_values : [-5.4610653 -1.230541  -3.0102305 -1.750617 ]\n",
      "state : [ 0  0  0  0  4  5  0  0  0  0  9  0  0  0  0  0  0  0  0  0  0  0  0  0\n",
      "  2  0  2  2  4  5  5  0  0  2 12  0  2  0  0  2  0 10  0  0  0  0  0  0]\n",
      "Q_values : [ 1.1550806  6.1830063 10.312867   6.935366 ]\n",
      "state : [0 0 2 0 0 5 0 0 0 0 0 0 0 0 0 0 0 0 0 0 0 0 0 0 2 2 6 2 2 7 4 2 2 2 4 2 0\n",
      " 0 0 4 6 6 0 0 0 0 2 1]\n",
      "Q_values : [-11.075218   -8.987094   -7.44415    -7.0856633]\n",
      "state : [0 4 8 0 3 0 0 4 4 0 6 0 0 0 0 0 0 0 0 0 0 0 0 0 1 5 8 7 7 3 2 4 4 1 7 0 2\n",
      " 0 1 4 0 0 2 0 2 2 0 0]\n",
      "Q_values : [ 3.7175426 14.119238   5.8860154 11.762222 ]\n",
      "state : [ 0  0  1  0 10  6  0  0  0  0  8  0  0  0  0  0  0  0  0  0  0  0  0  0\n",
      "  0  1  2  5 15 10  2  0  0  1  9  0  3  2  1  2  0  0  0  2  1  0  0  0]\n",
      "Q_values : [0.2811265 4.3626013 8.996788  9.511501 ]\n",
      "state : [ 0  0  2  0 14  0  0  0  0  0  9  0  0  0  0  0  0  0  0  0  0  0  0  0\n",
      "  0  0  3  7 17  3  1  0  0  0 10  0  4  0  0  0  0  0  0  0  9  0  0  0]\n",
      "Q_values : [ 4.0226393 10.139931  16.291779   9.552327 ]\n",
      "state : [0 0 3 0 0 2 0 0 0 0 0 0 0 0 0 0 0 0 0 0 0 0 0 0 0 0 5 5 9 7 2 0 0 0 2 0 4\n",
      " 0 0 2 6 3 0 0 2 0 7 3]\n",
      "Q_values : [-11.900195   -9.974787   -7.2212496  -6.126893 ]\n",
      "state : [ 0  0  5  0  8  0  0  0  0  0  1  0  0  0  0  0  0  0  0  0  0  0  0  0\n",
      "  0  0  5  5 13  3  0  0  0  0  2  0  3  0  0  2  0  0  0  0  6  0  1  0]\n",
      "Q_values : [-0.9647622  2.3248901  5.625394   4.514269 ]\n",
      "state : [0 0 5 0 0 2 0 0 0 0 0 0 0 0 0 0 0 0 0 0 0 0 0 0 2 2 7 7 3 6 2 2 2 2 2 2 4\n",
      " 0 0 0 1 0 0 0 1 0 7 3]\n",
      "Q_values : [-11.808842   -9.727457   -6.0012097  -5.0509033]\n",
      "state : [0 1 7 0 3 0 0 2 1 0 1 0 0 0 0 0 0 0 0 0 0 0 0 0 1 2 7 5 7 4 0 2 2 1 2 0 4\n",
      " 0 2 2 0 0 1 0 5 1 1 0]\n",
      "Q_values : [-1.9804327   0.95331156 -0.66108274  0.44425195]\n",
      "state : [ 0  0  4  0  6 13  0  0  0  0  2  0  0  0  0  0  0  0  0  0  0  0  0  0\n",
      "  0  1  5  5 10 18  2  0  0  1  3  0  3  0  0  2  0  0  0  0  0  0  0  0]\n",
      "Q_values : [-1.5294099  1.1654226  6.3757973  6.090127 ]\n",
      "state : [ 0  0  6  0  0 20  0  0  0  0  0  0  0  0  0  0  0  0  0  0  0  0  0  0\n",
      "  3  1  8  5  4 24  2  2  2  3  1  2  4  0  0  1  0  0  0  0  0  0  2  0]\n",
      "Q_values : [-4.666611  -3.746264  -1.042422   4.2528934]\n",
      "state : [ 0  2 10  0  0  7  0  2  2  0  0  0  0  0  0  0  0  0  0  0  0  0  0  0\n",
      "  0  2 10  5  4 11  0  2  2  0  0  0  4  0  0  2  2  1  0  0  3  0  7  3]\n",
      "Q_values : [1.6551461 6.132446  4.899663  6.667477 ]\n",
      "Step #960.00 (1ms ~= 10.00*RT, ~62000.00UPS, TraCI: 91ms, vehicles TOT 742 ACT 62 BUF 8)  \r"
     ]
    },
    {
     "name": "stderr",
     "output_type": "stream",
     "text": [
      "Warning: Vehicle 'CEWR.27' performs emergency braking on lane 'end2_junction_1' with decel=9.00, wished=5.00, severity=1.00, time=960.00.\n",
      "Warning: Vehicle 'CEWR.27' performs emergency stop at the end of lane 'end2_junction_1' because of a red traffic light (decel=-20.62, offset=0.04), time=960.55.\n"
     ]
    },
    {
     "name": "stdout",
     "output_type": "stream",
     "text": [
      "Step #980.00 (0ms ?*RT. ?UPS, TraCI: 73ms, vehicles TOT 755 ACT 53 BUF 1)                 \r"
     ]
    },
    {
     "name": "stderr",
     "output_type": "stream",
     "text": [
      "Warning: Vehicle 'CESR.29' performs emergency braking on lane 'end2_junction_2' with decel=9.00, wished=5.00, severity=1.00, time=980.00.\n",
      "Warning: Vehicle 'CESR.29' performs emergency stop at the end of lane 'end2_junction_2' because of a red traffic light (decel=-15.87, offset=0.06), time=980.53.\n"
     ]
    },
    {
     "name": "stdout",
     "output_type": "stream",
     "text": [
      "state : [ 0  2  0  0  6  3  0  2  0  0  2  0  0  0  0  0  0  0  0  0  0  0  0  0\n",
      "  1  2  2  7 10  7  2  2  0  1  3  0  3  0  0  2  0  9  0  0  2  0  0  1]\n",
      "Q_values : [-4.673069  -2.468137   1.0262791  3.599764 ]\n",
      "Step #1000.00 (0ms ?*RT. ?UPS, TraCI: 94ms, vehicles TOT 770 ACT 55 BUF 4)                \r"
     ]
    },
    {
     "name": "stderr",
     "output_type": "stream",
     "text": [
      "Warning: Vehicle 'CNER.10' performs emergency braking on lane 'end1_junction_2' with decel=9.00, wished=5.00, severity=1.00, time=1000.00.\n",
      "Warning: Vehicle 'CNER.10' performs emergency stop at the end of lane 'end1_junction_2' because of a red traffic light (decel=-15.26, offset=0.04), time=1000.21.\n"
     ]
    },
    {
     "name": "stdout",
     "output_type": "stream",
     "text": [
      "state : [ 0  2  1  0 10  0  0  2  0  0  2  0  0  0  0  0  0  0  0  0  0  0  0  0\n",
      "  0  2  3  5 14  4  2  2  0  0  4  0  4  0  0  0  0  2  0  0  7  0  0  0]\n",
      "Q_values : [-0.85214305  1.532595    4.099739    3.8222961 ]\n",
      "state : [0 2 3 0 0 3 0 2 0 0 0 0 0 0 0 0 0 0 0 0 0 0 0 0 3 4 4 6 6 6 4 4 0 3 1 2 3\n",
      " 0 0 2 2 1 0 0 0 0 7 3]\n",
      "Q_values : [-8.93251   -6.563498  -4.612522  -5.1461673]\n",
      "state : [ 0  2  4  0  0  6  0  3  0  0  0  1  0  0  0  0  0  0  0  0  0  0  0  0\n",
      "  2  4  5  6  3 10  2  4  2  2  2  2  4  0  0  0  0  0  0  0  0  0  5  1]\n",
      "Q_values : [-7.0104623  -5.13491    -2.4101868  -0.37029842]\n",
      "Step #1060.00 (0ms ?*RT. ?UPS, TraCI: 89ms, vehicles TOT 818 ACT 55 BUF 4)                \r"
     ]
    },
    {
     "name": "stderr",
     "output_type": "stream",
     "text": [
      "Warning: Vehicle 'AWER.12' performs emergency stop at the end of lane 'end4_junction_1' because of a red traffic light (decel=-17.44, offset=0.04), time=1060.91.\n"
     ]
    },
    {
     "name": "stdout",
     "output_type": "stream",
     "text": [
      "state : [0 4 5 0 2 0 0 4 2 0 2 0 0 0 0 0 0 0 0 0 0 0 0 0 0 4 7 5 7 4 2 4 2 0 4 0 4\n",
      " 0 1 2 0 0 2 0 8 2 0 0]\n",
      "Q_values : [-0.5159228  3.405907   7.0002146  0.8445608]\n",
      "state : [0 4 7 0 0 3 0 4 2 0 0 0 0 0 0 0 0 0 0 0 0 0 0 0 0 4 7 5 5 7 0 4 2 0 0 0 4\n",
      " 0 0 2 2 1 0 0 1 0 3 2]\n",
      "Q_values : [1.4213245 4.6845045 5.410397  8.847259 ]\n",
      "state : [0 4 7 0 3 0 0 4 2 0 0 0 0 0 0 0 0 0 0 0 0 0 0 0 0 4 9 7 7 3 2 4 2 0 2 0 2\n",
      " 0 0 1 0 0 0 0 6 0 0 0]\n",
      "Q_values : [-0.43983603  6.8566856   5.4999104   3.618225  ]\n",
      "Step #1124.00 (0ms ?*RT. ?UPS, TraCI: 0ms, vehicles TOT 863 ACT 51 BUF 1)                 \r"
     ]
    },
    {
     "name": "stderr",
     "output_type": "stream",
     "text": [
      "Warning: Vehicle 'CESR.41' performs emergency braking on lane 'end2_junction_2' with decel=9.00, wished=5.00, severity=1.00, time=1124.02.\n"
     ]
    },
    {
     "name": "stdout",
     "output_type": "stream",
     "text": [
      "state : [ 0  4  0  0  7  2  0  4  0  0  2  0  0  0  0  0  0  0  0  0  0  0  0  0\n",
      "  0  4  0  5 11  7  0  4  0  0  2  0  4  0  0  2  0  9  0  0  0  0  0  1]\n",
      "Q_values : [-1.1862419  1.9006143  8.652812   7.9716434]\n",
      "state : [ 0  4  0  0  0  6  0  4  0  0  0  0  0  0  0  0  0  0  0  0  0  0  0  0\n",
      "  0  4  2  5  5 10  2  4  0  0  1  0  4  0  0  0  2  2  0  0  0  0  6  3]\n",
      "Q_values : [-6.821697   -4.7826886  -3.7733393   0.16106278]\n",
      "state : [ 0  4  0  0  7  2  0  4  0  0  1  0  0  0  0  0  0  0  0  0  0  0  0  0\n",
      "  2  6  1  5 11  7  2  6  2  2  3  2  4  0  0  0  0  1  0  0  2  0  0  0]\n",
      "Q_values : [-6.8387494 -4.427203  -1.2234945  0.9285906]\n",
      "Step #1223.00 (0ms ?*RT. ?UPS, TraCI: 0ms, vehicles TOT 924 ACT 48 BUF 0)                 \r"
     ]
    },
    {
     "name": "stderr",
     "output_type": "stream",
     "text": [
      "Warning: Teleporting vehicle 'CSNR.2'; waited too long (yield), lane='end3_junction_1', time=1215.39.\n",
      "Warning: Vehicle 'CSNR.2' ends teleporting on edge 'junction_end1', time=1215.39.\n",
      "Warning: Teleporting vehicle 'ANSR.2'; waited too long (yield), lane='end1_junction_1', time=1223.50.\n",
      "Warning: Vehicle 'ANSR.2' ends teleporting on edge 'junction_end3', time=1223.50.\n"
     ]
    },
    {
     "name": "stdout",
     "output_type": "stream",
     "text": [
      "state : [ 0  5  0  0 12  0  0  5  0  0  3  0  0  0  0  0  0  0  0  0  0  0  0  0\n",
      "  0  5  0  0 12  0  0  5  0  0  3  0  0  0  0  0  0  0  0  0  0  0  0  0]\n",
      "Q_values : [ 3.6903396  9.094858  15.605835   8.263915 ]\n",
      "state : [0 5 0 0 0 0 0 5 0 0 0 0 0 0 0 0 0 0 0 0 0 0 0 0 0 5 0 0 0 0 0 5 0 0 0 0 0\n",
      " 0 0 0 2 1 0 0 0 0 7 3]\n",
      "Q_values : [-1.4963436   2.158807    0.44439614  3.3936543 ]\n",
      "episode : 45\n",
      "Step #1300.00 (0ms ?*RT. ?UPS, TraCI: 1ms, vehicles TOT 924 ACT 11 BUF 0)                 \n",
      " Retrying in 1 seconds\n"
     ]
    },
    {
     "name": "stderr",
     "output_type": "stream",
     "text": [
      "Warning: Environment variable SUMO_HOME is not set properly, disabling XML validation. Set 'auto' or 'always' for web lookups.\n"
     ]
    },
    {
     "name": "stdout",
     "output_type": "stream",
     "text": [
      "state : [0 0 0 0 0 0 0 0 0 0 0 0 0 0 0 0 0 0 0 0 0 0 0 0 2 3 3 2 2 2 4 2 2 3 3 2 0\n",
      " 0 0 0 0 0 0 0 0 0 0 0]\n",
      "Q_values : [-12.12582    -9.709598   -9.9218445  -8.382991 ]\n",
      "state : [0 2 2 0 2 0 0 2 2 0 3 0 0 0 0 0 0 0 0 0 0 0 0 0 1 2 7 2 2 0 6 2 2 1 7 0 2\n",
      " 0 2 2 0 0 2 0 2 2 0 0]\n",
      "Q_values : [-1.623543   4.1625366  4.4221926 -0.6598782]\n",
      "state : [ 0  2  6  0  0  0  0  2  2  0  0  0  0  0  0  0  0  0  0  0  0  0  0  0\n",
      "  0  2 10  2  1  2  4  2  2  0  3  0  0  0  0  4  4  2  0  0  0  0  2  0]\n",
      "Q_values : [-1.4649014   2.675685    0.25636876 -0.5325017 ]\n",
      "Step #61.00 (0ms ?*RT. ?UPS, TraCI: 0ms, vehicles TOT 57 ACT 43 BUF 3)                    \r"
     ]
    },
    {
     "name": "stderr",
     "output_type": "stream",
     "text": [
      "Warning: Vehicle 'CWE.3' performs emergency braking on lane 'end4_junction_1' with decel=9.00, wished=5.00, severity=1.00, time=60.00.\n",
      "Warning: Vehicle 'CWE.3' performs emergency stop at the end of lane 'end4_junction_1' because of a red traffic light (decel=-29.73, offset=0.15), time=61.02.\n"
     ]
    },
    {
     "name": "stdout",
     "output_type": "stream",
     "text": [
      "state : [ 0  2  3  0  1  0  0  2  0  0  6  0  0  0  0  0  0  0  0  0  0  0  0  0\n",
      "  1  2  7  1  3  2  6  2  0  1 10  0  0  0  0  3  0  1  0  0  1  0  0  0]\n",
      "Q_values : [-2.333487   0.2693994  2.7087545 -3.3966374]\n",
      "Step #123.00 (0ms ?*RT. ?UPS, TraCI: 0ms, vehicles TOT 102 ACT 52 BUF 0)                  \r"
     ]
    },
    {
     "name": "stderr",
     "output_type": "stream",
     "text": [
      "Warning: Vehicle 'CWE.8' performs emergency braking on lane 'end4_junction_1' with decel=9.00, wished=5.00, severity=1.00, time=120.00.\n",
      "Warning: Vehicle 'CWE.8' performs emergency braking on lane 'end4_junction_1' with decel=9.00, wished=5.00, severity=1.00, time=123.26.\n"
     ]
    },
    {
     "name": "stdout",
     "output_type": "stream",
     "text": [
      "state : [0 2 0 0 1 3 0 2 0 0 2 0 0 0 0 0 0 0 0 0 0 0 0 0 0 3 3 0 2 4 4 2 0 1 6 0 2\n",
      " 0 0 3 1 9 0 0 0 0 0 0]\n",
      "Q_values : [-5.455356  -3.7244537 -2.2012577 -2.9024944]\n",
      "state : [0 2 3 0 0 4 0 2 0 0 0 0 0 0 0 0 0 0 0 0 0 0 0 0 3 4 7 2 3 5 5 5 1 3 4 1 0\n",
      " 0 0 2 5 4 0 0 0 0 1 0]\n",
      "Q_values : [-7.706604  -5.1667194 -3.4926934 -4.031667 ]\n",
      "state : [ 0  3  5  0  0  5  0  3  1  0  0  1  0  0  0  0  0  0  0  0  0  0  0  0\n",
      "  0  4 10  0  0  6  4  4  2  0  3  2  2  0  0  3  2  0  2  0  0  2  2  0]\n",
      "Q_values : [ 2.4082906   0.41361207 -0.5737653   0.07969767]\n",
      "state : [ 0  0  0  0  2  8  0  0  0  0 10  2  0  0  0  0  0  0  0  0  0  0  0  0\n",
      "  0  0  9  2  4 10  4  0  0  0 13  2  0  0  0  4  0  9  0  0  0  0  0  1]\n",
      "Q_values : [-3.752408   1.8086972 10.175717   4.8891554]\n",
      "Step #240.00 (0ms ?*RT. ?UPS, TraCI: 93ms, vehicles TOT 189 ACT 62 BUF 3)                 \r"
     ]
    },
    {
     "name": "stderr",
     "output_type": "stream",
     "text": [
      "Warning: Vehicle 'CNE.15' performs emergency braking on lane 'end1_junction_2' with decel=9.00, wished=5.00, severity=1.00, time=240.00.\n",
      "Warning: Vehicle 'CNE.15' performs emergency stop at the end of lane 'end1_junction_2' because of a red traffic light (decel=-12.73, offset=0.02), time=240.47.\n"
     ]
    },
    {
     "name": "stdout",
     "output_type": "stream",
     "text": [
      "state : [ 0  0  9  0  0 10  0  0  0  0  0  2  0  0  0  0  0  0  0  0  0  0  0  0\n",
      "  0  1 12  4  1 10  4  0  0  1  4  2  2  0  0  3  7  6  0  0  0  0  2  1]\n",
      "Q_values : [-1.3113029  5.4814034  9.664996   6.321652 ]\n",
      "state : [ 0  0 12  0  0 10  0  0  0  0  0  2  0  0  0  0  0  0  0  0  0  0  0  0\n",
      "  1  0 16  1  1 12  5  0  0  1  3  2  0  0  0  1  4  3  0  0  0  0  0  0]\n",
      "Q_values : [-0.30614853  8.205191   11.903259    6.9966893 ]\n",
      "state : [ 0  0 22  0  2 14  0  0  2  0  6  4  0  0  0  0  0  0  0  0  0  0  0  0\n",
      "  1  0 26  2  4 16  5  0  2  1 10  4  1  0  0  3  0  0  0  1  0  0  0  0]\n",
      "Q_values : [ 3.964577 15.177035 27.351887 14.853988]\n",
      "Step #400.00 (0ms ?*RT. ?UPS, TraCI: 71ms, vehicles TOT 308 ACT 86 BUF 4)                 \r"
     ]
    },
    {
     "name": "stderr",
     "output_type": "stream",
     "text": [
      "Warning: Teleporting vehicle 'AES.2'; waited too long (yield), lane='end2_junction_2', time=400.93.\n",
      "Warning: Vehicle 'AES.2' ends teleporting on edge 'junction_end3', time=400.93.\n"
     ]
    },
    {
     "name": "stdout",
     "output_type": "stream",
     "text": [
      "state : [ 0  0 36  0  0 12  0  0  2  0  0  4  0  0  0  0  0  0  0  0  0  0  0  0\n",
      "  0  0 39  2  2 19  4  0  2  0  3  4  0  0  0  2  5  0  0  0  0  0  0  0]\n",
      "Q_values : [ 6.5435247 19.524601  15.518248  15.911893 ]\n",
      "state : [ 0  0 11  0  2 19  0  0  0  0  2  4  0  0  0  0  0  0  0  0  0  0  0  0\n",
      "  4  1 30  4  3 19  6  1  0  4  6  4  2  0  0  4  0  9  0  0  0  0  0  1]\n",
      "Q_values : [-1.7201078  5.040918   7.71517    4.79703  ]\n",
      "state : [ 0  0 10  0  0 19  0  0  0  0  0  4  0  0  0  0  0  0  0  0  0  0  0  0\n",
      "  1  3 35  1  2 21  5  2  2  2  4  6  0  0  0  1  5  5  0  0  0  0  1  0]\n",
      "Q_values : [-7.813748  -5.0016403 -4.1882896 -3.9604836]\n",
      "Step #460.00 (1ms ~= 10.00*RT, ~100000.00UPS, TraCI: 92ms, vehicles TOT 360 ACT 100 BUF 0)\r"
     ]
    },
    {
     "name": "stderr",
     "output_type": "stream",
     "text": [
      "Warning: Vehicle 'AEW.12' performs emergency stop at the end of lane 'end2_junction_1' because of a red traffic light (decel=-18.97, offset=0.06), time=460.76.\n"
     ]
    },
    {
     "name": "stdout",
     "output_type": "stream",
     "text": [
      "state : [ 0  2 25  0  2  0  0  2  2  0  3  0  0  0  0  0  0  0  0  0  0  0  0  0\n",
      "  0  2 38  2  5 11  4  2  2  0  7  0  2  0  5  3  0  0  2  0  9  2  0  0]\n",
      "Q_values : [-4.5807457  3.709673   1.383398  -1.0639595]\n",
      "Step #500.00 (0ms ?*RT. ?UPS, TraCI: 70ms, vehicles TOT 384 ACT 87 BUF 0)                 \r"
     ]
    },
    {
     "name": "stderr",
     "output_type": "stream",
     "text": [
      "Warning: Vehicle 'CNE.26' performs emergency braking on lane 'end1_junction_2' with decel=9.00, wished=5.00, severity=1.00, time=500.00.\n",
      "Warning: Vehicle 'CNE.26' performs emergency stop at the end of lane 'end1_junction_2' because of a red traffic light (decel=-15.17, offset=0.02), time=500.20.\n"
     ]
    },
    {
     "name": "stdout",
     "output_type": "stream",
     "text": [
      "state : [ 0  0 37  0  6  0  0  0  0  0 17  0  0  0  0  0  0  0  0  0  0  0  0  0\n",
      "  0  0 41  2  8  2  4  0  0  1 20  0  0  0  0  4  0  0  0  0  5  0  0  0]\n",
      "Q_values : [ 9.770818 23.961903 29.772774 13.765697]\n",
      "state : [ 0  0 41  0  0  2  0  0  0  0  0  0  0  0  0  0  0  0  0  0  0  0  0  0\n",
      "  2  0 43  2  0  2  5  0  0  2 11  0  2  0  0  2  6  4  0  0  0  0  4  3]\n",
      "Q_values : [ 5.2651715 15.540007   7.5581403 12.570212 ]\n",
      "state : [ 0  0 10  0  2  4  0  0  2  0 15  2  0  0  0  0  0  0  0  0  0  0  0  0\n",
      "  2  2 38  6  5  6  2  2  4  2 17  4  2  1  0  4  0  3  2  2  0  2  0  0]\n",
      "Q_values : [-3.1215744   0.12350321  2.3344333  -4.6157    ]\n",
      "state : [ 0  1 26  0  0  6  0  2  4  0  0  4  0  0  0  0  0  0  0  0  0  0  0  0\n",
      "  0  3 39  6  3 10  2  2  4  1  6  4  2  0  0  3  6  4  2  0  0  1  3  0]\n",
      "Q_values : [4.220319   7.276608   0.70443666 4.321185  ]\n",
      "state : [ 0  2  9  0  2 10  0  2  0  0  5  4  0  0  0  0  0  0  0  0  0  0  0  0\n",
      "  0  2 29  5  7 14  2  2  0  0  7  4  4  0  0  0  1 10  0  0  0  1  0  3]\n",
      "Q_values : [-2.4797854 -2.323697   4.061955   2.5482934]\n",
      "Step #660.00 (0ms ?*RT. ?UPS, TraCI: 92ms, vehicles TOT 517 ACT 93 BUF 5)                 \r"
     ]
    },
    {
     "name": "stderr",
     "output_type": "stream",
     "text": [
      "Warning: Vehicle 'CNE.37' performs emergency braking on lane 'end1_junction_2' with decel=9.00, wished=5.00, severity=1.00, time=660.00.\n",
      "Warning: Vehicle 'CNE.37' performs emergency stop at the end of lane 'end1_junction_2' because of a red traffic light (decel=-12.05, offset=0.01), time=660.50.\n"
     ]
    },
    {
     "name": "stdout",
     "output_type": "stream",
     "text": [
      "state : [ 0  2 11  0  0 13  0  2  0  0  0  4  0  0  0  0  0  0  0  0  0  0  0  0\n",
      "  0  2 31  5  4 18  2  2  0  1  1  4  4  0  0  2  4  5  0  0  0  0  3  2]\n",
      "Q_values : [ 2.6325912  2.374596  -2.4402962  1.4641647]\n",
      "state : [ 0  0 33  0 13  0  0  0  0  0  4  0  0  0  0  0  0  0  0  0  0  0  0  0\n",
      "  2  2 35  7 17 19  2  2  2  2  6  2  4  0  3  0  0  0  0  0  9  0  0  0]\n",
      "Q_values : [ 2.8048716 13.404472   6.72494    7.425049 ]\n",
      "Step #761.00 (1ms ~= 10.00*RT, ~116000.00UPS, TraCI: 0ms, vehicles TOT 598 ACT 116 BUF 2) \r"
     ]
    },
    {
     "name": "stderr",
     "output_type": "stream",
     "text": [
      "Warning: Vehicle 'CESR.3' performs emergency braking on lane 'end2_junction_2' with decel=9.00, wished=5.00, severity=1.00, time=761.21.\n"
     ]
    },
    {
     "name": "stdout",
     "output_type": "stream",
     "text": [
      "state : [ 0  2 10  0  0 22  0  2  0  0  0  2  0  0  0  0  0  0  0  0  0  0  0  0\n",
      "  0  2 26  6 12 27  2  2  0  0  2  2  3  0  0  0  3  6  2  0  0  2  7  5]\n",
      "Q_values : [0.47174335 6.894516   5.8287725  3.0142639 ]\n",
      "state : [ 0  2  0  0 10 26  0  2  0  0  2  2  0  0  0  0  0  0  0  0  0  0  0  0\n",
      "  1  3 15  7 15 29  2  2  0  1  3  2  4  0  0  2  0  9  0  0  0  0  1  0]\n",
      "Q_values : [-1.0875216  2.8963933 15.012545   8.903689 ]\n",
      "Step #820.00 (0ms ?*RT. ?UPS, TraCI: 91ms, vehicles TOT 638 ACT 97 BUF 4)                 \r"
     ]
    },
    {
     "name": "stderr",
     "output_type": "stream",
     "text": [
      "Warning: Vehicle 'CNE.48' performs emergency braking on lane 'end1_junction_2' with decel=9.00, wished=5.00, severity=1.00, time=820.00.\n",
      "Warning: Vehicle 'CNE.48' performs emergency stop at the end of lane 'end1_junction_2' because of a red traffic light (decel=-14.71, offset=0.02), time=820.26.\n"
     ]
    },
    {
     "name": "stdout",
     "output_type": "stream",
     "text": [
      "state : [ 0  2 11  0  0 29  0  2  0  0  0  2  0  0  0  0  0  0  0  0  0  0  0  0\n",
      "  0  2 17  5  7 33  2  2  0  0  1  2  4  0  0  0  2  3  0  0  0  0  7  3]\n",
      "Q_values : [10.691557 19.788544  9.349873 11.425323]\n",
      "state : [ 0  2  7  0  9  7  0  2  0  0  2  0  0  0  0  0  0  0  0  0  0  0  0  0\n",
      "  0  2  8  7 13 28  2  2  0  0  3  0  4  0  1  0  0  3  0  0  9  0  0  0]\n",
      "Q_values : [-6.073921  -2.8313894  2.8816915 -4.3467607]\n",
      "state : [ 0  2  8  0  0 10  0  2  0  0  0  0  0  0  0  0  0  0  0  0  0  0  0  0\n",
      "  3  3 10  5  5 32  2  4  2  3  1  2  4  0  0  2  2  1  0  0  3  0  7  3]\n",
      "Q_values : [-8.521236  -5.31594   -0.5456071 -6.313475 ]\n",
      "state : [ 0  2 10  0  0 25  0  4  1  0  0  1  0  0  0  0  0  0  0  0  0  0  0  0\n",
      "  2  4 10  5  4 36  1  4  2  2  0  2  3  0  0  0  1  0  0  0  0  0  4  0]\n",
      "Q_values : [ 5.618904  13.672882   3.5876508  8.78323  ]\n",
      "state : [ 0  4  0  0  6 39  0  4  0  0  2  2  0  0  0  0  0  0  0  0  0  0  0  0\n",
      "  0  4  0  5 11 42  0  4  0  0  2  2  4  0  0  2  0  3  0  0  0  0  0  0]\n",
      "Q_values : [ 7.379456 13.280553 18.722641 14.771841]\n",
      "state : [ 0  4  0  0  0 42  0  4  0  0  0  2  0  0  0  0  0  0  0  0  0  0  0  0\n",
      "  0  4  2  5  6 46  2  4  0  0  2  2  3  0  0  0  1  0  0  0  0  0  6  3]\n",
      "Q_values : [ 7.0084586 13.823725  10.499865  15.014155 ]\n",
      "state : [ 0  4  2  0  3 15  0  4  0  0  2  0  0  0  0  0  0  0  0  0  0  0  0  0\n",
      "  1  5  2  6  8 37  2  4  0  1  3  0  4  0  1  2  0  0  0  0  9  0  0  0]\n",
      "Q_values : [-3.0350702   0.40082836  4.0011377   2.2936995 ]\n",
      "Step #1000.00 (0ms ?*RT. ?UPS, TraCI: 92ms, vehicles TOT 770 ACT 86 BUF 4)                \r"
     ]
    },
    {
     "name": "stderr",
     "output_type": "stream",
     "text": [
      "Warning: Vehicle 'CESR.14' performs emergency braking on lane 'end2_junction_2' with decel=9.00, wished=5.00, severity=1.00, time=1000.00.\n",
      "Warning: Vehicle 'CESR.14' performs emergency braking on lane 'end2_junction_2' with decel=9.00, wished=5.00, severity=1.00, time=1000.90.\n"
     ]
    },
    {
     "name": "stdout",
     "output_type": "stream",
     "text": [
      "Step #1020.00 (0ms ?*RT. ?UPS, TraCI: 74ms, vehicles TOT 781 ACT 80 BUF 5)                \r"
     ]
    },
    {
     "name": "stderr",
     "output_type": "stream",
     "text": [
      "Warning: Vehicle 'CWER.11' performs emergency braking on lane 'end4_junction_1' with decel=9.00, wished=5.00, severity=1.00, time=1020.00.\n",
      "Warning: Vehicle 'CWER.11' performs emergency stop at the end of lane 'end4_junction_1' because of a red traffic light (decel=-30.18, offset=0.01), time=1020.97.\n"
     ]
    },
    {
     "name": "stdout",
     "output_type": "stream",
     "text": [
      "Step #1100.00 (1ms ~= 10.00*RT, ~77000.00UPS, TraCI: 80ms, vehicles TOT 845 ACT 77 BUF 1) \r"
     ]
    },
    {
     "name": "stderr",
     "output_type": "stream",
     "text": [
      "Warning: Vehicle 'CESR.25' performs emergency braking on lane 'end2_junction_2' with decel=9.00, wished=5.00, severity=1.00, time=1100.00.\n",
      "Warning: Vehicle 'CESR.25' performs emergency stop at the end of lane 'end2_junction_2' because of a red traffic light (decel=-13.23, offset=0.02), time=1100.38.\n"
     ]
    },
    {
     "name": "stdout",
     "output_type": "stream",
     "text": [
      "Step #1120.00 (0ms ?*RT. ?UPS, TraCI: 71ms, vehicles TOT 860 ACT 81 BUF 4)                \r"
     ]
    },
    {
     "name": "stderr",
     "output_type": "stream",
     "text": [
      "Warning: Vehicle 'CEWR.40' performs emergency braking on lane 'end2_junction_1' with decel=9.00, wished=5.00, severity=1.00, time=1120.00.\n",
      "Warning: Vehicle 'CEWR.40' performs emergency stop at the end of lane 'end2_junction_1' because of a red traffic light (decel=-23.06, offset=0.12), time=1120.28.\n"
     ]
    },
    {
     "name": "stdout",
     "output_type": "stream",
     "text": [
      "state : [ 0  2 10  0  3  0  0  2  2  0  2  0  0  0  0  0  0  0  0  0  0  0  0  0\n",
      "  0  2 10  5  8 28  0  2  2  0  2  0  4  0  0  2  0  0  0  0  9  0  0  0]\n",
      "Q_values : [-7.4126854 -2.7383192 -1.7984293 -3.2869012]\n",
      "state : [ 0  2 12  0  2  0  0  2  2  0  1  0  0  0  0  0  0  0  0  0  0  0  0  0\n",
      "  2  3 12  7  7 23  2  3  2  2  2  0  4  0  0  2  0  0  0  0  8  0  0  0]\n",
      "Q_values : [-7.0910544 -3.5779414 -2.0872808 -3.9439278]\n",
      "Step #1181.00 (0ms ?*RT. ?UPS, TraCI: 0ms, vehicles TOT 912 ACT 87 BUF 6)                 \r"
     ]
    },
    {
     "name": "stderr",
     "output_type": "stream",
     "text": [
      "Warning: Vehicle 'CESR.36' performs emergency braking on lane 'end2_junction_2' with decel=9.00, wished=5.00, severity=1.00, time=1181.25.\n"
     ]
    },
    {
     "name": "stdout",
     "output_type": "stream",
     "text": [
      "state : [ 0  2 13  0  0 11  0  2  2  0  0  0  0  0  0  0  0  0  0  0  0  0  0  0\n",
      "  2  4 14  5  5 27  2  4  4  2  2  2  4  0  0  0  1  0  0  0  2  0  3  2]\n",
      "Q_values : [-2.8161206   0.58421993 -3.6456041   1.2837977 ]\n",
      "Step #1201.00 (0ms ?*RT. ?UPS, TraCI: 1ms, vehicles TOT 924 ACT 85 BUF 0)                 \r"
     ]
    },
    {
     "name": "stderr",
     "output_type": "stream",
     "text": [
      "Warning: Vehicle 'AEWR.47' performs emergency stop at the end of lane 'end2_junction_1' because of a red traffic light (decel=-14.97, offset=0.03), time=1201.16.\n"
     ]
    },
    {
     "name": "stdout",
     "output_type": "stream",
     "text": [
      "Step #1261.00 (0ms ?*RT. ?UPS, TraCI: 0ms, vehicles TOT 924 ACT 41 BUF 0)                 \r"
     ]
    },
    {
     "name": "stderr",
     "output_type": "stream",
     "text": [
      "Warning: Vehicle 'CESR.47' performs emergency braking on lane 'end2_junction_2' with decel=9.00, wished=5.00, severity=1.00, time=1260.00.\n",
      "Warning: Vehicle 'CESR.47' performs emergency braking on lane 'end2_junction_2' with decel=9.00, wished=5.00, severity=1.00, time=1261.20.\n"
     ]
    },
    {
     "name": "stdout",
     "output_type": "stream",
     "text": [
      "state : [0 4 0 0 0 5 0 4 0 0 0 0 0 0 0 0 0 0 0 0 0 0 0 0 0 4 3 0 0 5 0 4 0 0 0 0 0\n",
      " 0 0 0 0 9 0 0 2 0 0 3]\n",
      "Q_values : [-1.4307041  3.4678597  0.8590163  5.9762607]\n",
      "Step #1280.00 (0ms ?*RT. ?UPS, TraCI: 0ms, vehicles TOT 924 ACT 32 BUF 0)                 "
     ]
    },
    {
     "name": "stderr",
     "output_type": "stream",
     "text": [
      "Warning: Vehicle 'CNER.15' performs emergency braking on lane 'end1_junction_2' with decel=9.00, wished=5.00, severity=1.00, time=1280.00.\n",
      "Warning: Environment variable SUMO_HOME is not set properly, disabling XML validation. Set 'auto' or 'always' for web lookups.\n"
     ]
    },
    {
     "name": "stdout",
     "output_type": "stream",
     "text": [
      "episode : 46\n",
      "Step #1300.00 (0ms ?*RT. ?UPS, TraCI: 0ms, vehicles TOT 924 ACT 18 BUF 0)                 \n",
      " Retrying in 1 seconds\n",
      "state : [0 0 2 0 2 2 0 0 2 0 3 2 0 0 0 0 0 0 0 0 0 0 0 0 1 0 7 2 2 2 5 0 2 1 7 2 2\n",
      " 1 0 2 0 0 1 1 1 2 0 0]\n",
      "Q_values : [-2.43295    3.9713945  7.0156107 -3.7081404]\n",
      "state : [ 0  0  6  0  0  2  0  0  2  0  0  2  0  0  0  0  0  0  0  0  0  0  0  0\n",
      "  0  0 10  2  2  4  4  0  2  0  3  2  0  0  0  3  5  2  0  0  0  0  1  0]\n",
      "Q_values : [-1.0925901  6.5095873  1.1267933  1.4219857]\n",
      "state : [0 0 0 0 2 4 0 0 0 0 2 2 0 0 0 0 0 0 0 0 0 0 0 0 0 1 3 4 3 4 4 0 0 1 6 2 2\n",
      " 0 0 3 1 9 0 0 0 0 0 1]\n",
      "Q_values : [-7.1061873  -4.864481    0.03816414  0.49352783]\n",
      "state : [ 0  0  3  0  2  0  0  0  0  0  6  0  0  0  0  0  0  0  0  0  0  0  0  0\n",
      "  1  0  7  1  4  2  5  0  0  1 10  0  0  0  1  3  0  1  0  0  3  0  0  0]\n",
      "Q_values : [-3.2465458  2.7375884  5.141932  -4.4993052]\n",
      "state : [ 0  0  6  0  0  2  0  0  0  0  0  0  0  0  0  0  0  0  0  0  0  0  0  0\n",
      "  0  0 10  3  2  3  4  0  0  0  3  0  2  0  0  4  6  4  0  0  0  0  2  1]\n",
      "Q_values : [-4.0361624 -1.4840357 -1.0500703 -2.368336 ]\n",
      "state : [ 0  2 20  0  0  0  0  2  2  0  2  0  0  0  0  0  0  0  0  0  0  0  0  0\n",
      "  0  3 23  2  2  2  4  2  2  1  6  0  0  0  1  4  0  0  0  0  5  0  0  0]\n",
      "Q_values : [-1.5017915  11.549627    9.413246    0.29514527]\n",
      "state : [ 0  2  0  0  2  2  0  2  0  0  6  0  0  0  0  0  0  0  0  0  0  0  0  0\n",
      "  1  2 16  2  2  2  6  2  0  1 10  0  2  0  0  2  0  9  0  0  0  0  0  1]\n",
      "Q_values : [-8.4124775 -6.52864   -1.9302957 -7.1008124]\n",
      "Step #220.00 (0ms ?*RT. ?UPS, TraCI: 102ms, vehicles TOT 176 ACT 59 BUF 4)                \r"
     ]
    },
    {
     "name": "stderr",
     "output_type": "stream",
     "text": [
      "Warning: Vehicle 'CNE.10' performs emergency braking on lane 'end1_junction_2' with decel=9.00, wished=5.00, severity=1.00, time=220.00.\n",
      "Warning: Vehicle 'CNE.10' performs emergency stop at the end of lane 'end1_junction_2' because of a red traffic light (decel=-14.30, offset=0.05), time=220.27.\n"
     ]
    },
    {
     "name": "stdout",
     "output_type": "stream",
     "text": [
      "state : [ 0  2 11  0  0  2  0  2  0  0  0  0  0  0  0  0  0  0  0  0  0  0  0  0\n",
      "  0  2 19  2  2  4  4  2  0  0  3  0  0  0  0  4  6  6  0  0  0  0  1  0]\n",
      "Q_values : [-6.2944865  -4.2335987  -0.68823195 -5.344147  ]\n",
      "state : [ 0  0 26  0  1  6  0  0  0  0  2  0  0  0  0  0  0  0  0  0  0  0  0  0\n",
      "  2  3 28  2  4  7  5  2  1  3  6  1  2  1  0  3  1  0  0  1  0  0  0  0]\n",
      "Q_values : [-1.900111    9.288179    8.25634     0.21142888]\n",
      "state : [ 0  2  0  0  3  8  0  2  0  0  9  2  0  0  0  0  0  0  0  0  0  0  0  0\n",
      "  1  2 14  2  5 10  6  2  0  1 13  2  1  0  0  2  0 13  1  0  0  0  0  1]\n",
      "Q_values : [-0.02622199 -1.5517279   8.246913    2.812395  ]\n",
      "Step #341.00 (0ms ?*RT. ?UPS, TraCI: 0ms, vehicles TOT 270 ACT 75 BUF 0)                  \r"
     ]
    },
    {
     "name": "stderr",
     "output_type": "stream",
     "text": [
      "Warning: Vehicle 'CNE.21' performs emergency braking on lane 'end1_junction_2' with decel=9.00, wished=5.00, severity=1.00, time=340.00.\n",
      "Warning: Vehicle 'CNE.21' performs emergency braking on lane 'end1_junction_2' with decel=9.00, wished=5.00, severity=1.00, time=341.37.\n"
     ]
    },
    {
     "name": "stdout",
     "output_type": "stream",
     "text": [
      "state : [ 0  2 10  0  0  9  0  2  0  0  0  2  0  0  0  0  0  0  0  0  0  0  0  0\n",
      "  0  2 17  0  0 10  4  2  0  0  4  2  2  0  0  4  6  7  0  0  0  0  3  2]\n",
      "Q_values : [ 3.0694218  6.1808133  4.351209  10.343629 ]\n",
      "state : [ 0  2 17  0  0  0  0  2  0  0  3  0  0  0  0  0  0  0  0  0  0  0  0  0\n",
      "  0  3 20  2  2  2  4  2  0  1  7  0  0  0  1  3  2  0  0  0  8  0  0  0]\n",
      "Q_values : [-3.3385766  9.158918   6.0491657 -0.6380615]\n",
      "state : [ 0  2 10  0  0  2  0  2  0  0  0  0  0  0  0  0  0  0  0  0  0  0  0  0\n",
      "  0  2 16  2  2  4  4  2  0  0  3  0  0  0  0  4  7  7  0  0  0  0  1  0]\n",
      "Q_values : [-0.17995477  4.383688   -0.6644964  -0.29824632]\n",
      "Step #423.00 (0ms ?*RT. ?UPS, TraCI: 0ms, vehicles TOT 324 ACT 58 BUF 0)                  \r"
     ]
    },
    {
     "name": "stderr",
     "output_type": "stream",
     "text": [
      "Warning: Vehicle 'CWE.33' performs emergency braking on lane 'end4_junction_1' with decel=9.00, wished=5.00, severity=1.00, time=423.74.\n"
     ]
    },
    {
     "name": "stdout",
     "output_type": "stream",
     "text": [
      "state : [0 2 0 0 2 4 0 2 0 0 2 0 0 0 0 0 0 0 0 0 0 0 0 0 4 3 7 4 3 4 6 3 0 4 6 0 2\n",
      " 0 0 3 1 9 0 0 0 0 0 0]\n",
      "Q_values : [-5.333116    0.83052635 -0.3487239  -1.0713077 ]\n",
      "state : [ 0  2  0  0  2  4  0  2  0  0  5  0  0  0  0  0  0  0  0  0  0  0  0  0\n",
      "  2  4  5  1  4  6  5  4  2  2 10  2  0  0  0  2  0  9  0  0  0  0  0  0]\n",
      "Q_values : [-6.866949   -0.71996534 -0.75597525 -1.8729403 ]\n",
      "state : [ 0  4  0  0  4  6  0  4  0  0  9  2  0  0  0  0  0  0  0  0  0  0  0  0\n",
      "  0  4  3  2  7  7  4  4  0  0 13  2  2  0  0  4  0  3  2  0  0  2  0  2]\n",
      "Q_values : [ 0.96347    5.0648303 10.086792   8.916183 ]\n",
      "Step #483.00 (0ms ?*RT. ?UPS, TraCI: 0ms, vehicles TOT 378 ACT 63 BUF 0)                  \r"
     ]
    },
    {
     "name": "stderr",
     "output_type": "stream",
     "text": [
      "Warning: Vehicle 'CNE.38' performs emergency braking on lane 'end1_junction_2' with decel=9.00, wished=5.00, severity=1.00, time=483.96.\n"
     ]
    },
    {
     "name": "stdout",
     "output_type": "stream",
     "text": [
      "Step #500.00 (1ms ~= 10.00*RT, ~57000.00UPS, TraCI: 83ms, vehicles TOT 384 ACT 57 BUF 0)  \r"
     ]
    },
    {
     "name": "stderr",
     "output_type": "stream",
     "text": [
      "Warning: Vehicle 'CEW.13' performs emergency braking on lane 'end2_junction_1' with decel=9.00, wished=5.00, severity=1.00, time=500.00.\n",
      "Warning: Vehicle 'CEW.13' performs emergency stop at the end of lane 'end2_junction_1' because of a red traffic light (decel=-23.68, offset=0.01), time=500.21.\n"
     ]
    },
    {
     "name": "stdout",
     "output_type": "stream",
     "text": [
      "Interrupt signal received, trying to exit gracefully.T 419 ACT 53 BUF 1)                  \n"
     ]
    },
    {
     "ename": "KeyboardInterrupt",
     "evalue": "",
     "output_type": "error",
     "traceback": [
      "\u001b[0;31m---------------------------------------------------------------------------\u001b[0m",
      "\u001b[0;31mKeyboardInterrupt\u001b[0m                         Traceback (most recent call last)",
      "Cell \u001b[0;32mIn[22], line 38\u001b[0m\n\u001b[1;32m     35\u001b[0m         \u001b[38;5;28;01mif\u001b[39;00m \u001b[38;5;28mlen\u001b[39m(replay_buffer) \u001b[38;5;241m>\u001b[39m\u001b[38;5;241m=\u001b[39m batch_size\u001b[38;5;241m*\u001b[39m\u001b[38;5;241m10\u001b[39m:\n\u001b[1;32m     36\u001b[0m             training_step(batch_size)\n\u001b[0;32m---> 38\u001b[0m     \u001b[43mtraci\u001b[49m\u001b[38;5;241;43m.\u001b[39;49m\u001b[43msimulationStep\u001b[49m\u001b[43m(\u001b[49m\u001b[43m)\u001b[49m\n\u001b[1;32m     40\u001b[0m \u001b[38;5;28;01mif\u001b[39;00m episode\u001b[38;5;241m%\u001b[39m\u001b[38;5;241m5\u001b[39m\u001b[38;5;241m==\u001b[39m\u001b[38;5;241m0\u001b[39m:\n\u001b[1;32m     41\u001b[0m     target\u001b[38;5;241m.\u001b[39mset_weights(model_action\u001b[38;5;241m.\u001b[39mget_weights())\n",
      "File \u001b[0;32m~/.pyenv/versions/3.10.6/envs/RL_traffic/lib/python3.10/site-packages/traci/main.py:198\u001b[0m, in \u001b[0;36msimulationStep\u001b[0;34m(step)\u001b[0m\n\u001b[1;32m    192\u001b[0m \u001b[38;5;28;01mdef\u001b[39;00m\u001b[38;5;250m \u001b[39m\u001b[38;5;21msimulationStep\u001b[39m(step\u001b[38;5;241m=\u001b[39m\u001b[38;5;241m0\u001b[39m):\n\u001b[1;32m    193\u001b[0m \u001b[38;5;250m    \u001b[39m\u001b[38;5;124;03m\"\"\"simulationStep(float) -> None\u001b[39;00m\n\u001b[1;32m    194\u001b[0m \u001b[38;5;124;03m    Make a simulation step and simulate up to the given second in sim time.\u001b[39;00m\n\u001b[1;32m    195\u001b[0m \u001b[38;5;124;03m    If the given value is 0 or absent, exactly one step is performed.\u001b[39;00m\n\u001b[1;32m    196\u001b[0m \u001b[38;5;124;03m    Values smaller than or equal to the current sim time result in no action.\u001b[39;00m\n\u001b[1;32m    197\u001b[0m \u001b[38;5;124;03m    \"\"\"\u001b[39;00m\n\u001b[0;32m--> 198\u001b[0m     \u001b[43mconnection\u001b[49m\u001b[38;5;241;43m.\u001b[39;49m\u001b[43mcheck\u001b[49m\u001b[43m(\u001b[49m\u001b[43m)\u001b[49m\u001b[38;5;241;43m.\u001b[39;49m\u001b[43msimulationStep\u001b[49m\u001b[43m(\u001b[49m\u001b[43mstep\u001b[49m\u001b[43m)\u001b[49m\n",
      "File \u001b[0;32m~/.pyenv/versions/3.10.6/envs/RL_traffic/lib/python3.10/site-packages/traci/connection.py:370\u001b[0m, in \u001b[0;36mConnection.simulationStep\u001b[0;34m(self, step)\u001b[0m\n\u001b[1;32m    368\u001b[0m \u001b[38;5;28;01mif\u001b[39;00m \u001b[38;5;28mtype\u001b[39m(step) \u001b[38;5;129;01mis\u001b[39;00m \u001b[38;5;28mint\u001b[39m \u001b[38;5;129;01mand\u001b[39;00m step \u001b[38;5;241m>\u001b[39m\u001b[38;5;241m=\u001b[39m \u001b[38;5;241m1000\u001b[39m:\n\u001b[1;32m    369\u001b[0m     warnings\u001b[38;5;241m.\u001b[39mwarn(\u001b[38;5;124m\"\u001b[39m\u001b[38;5;124mAPI change now handles step as floating point seconds\u001b[39m\u001b[38;5;124m\"\u001b[39m, stacklevel\u001b[38;5;241m=\u001b[39m\u001b[38;5;241m2\u001b[39m)\n\u001b[0;32m--> 370\u001b[0m result \u001b[38;5;241m=\u001b[39m \u001b[38;5;28;43mself\u001b[39;49m\u001b[38;5;241;43m.\u001b[39;49m\u001b[43m_sendCmd\u001b[49m\u001b[43m(\u001b[49m\u001b[43mtc\u001b[49m\u001b[38;5;241;43m.\u001b[39;49m\u001b[43mCMD_SIMSTEP\u001b[49m\u001b[43m,\u001b[49m\u001b[43m \u001b[49m\u001b[38;5;28;43;01mNone\u001b[39;49;00m\u001b[43m,\u001b[49m\u001b[43m \u001b[49m\u001b[38;5;28;43;01mNone\u001b[39;49;00m\u001b[43m,\u001b[49m\u001b[43m \u001b[49m\u001b[38;5;124;43m\"\u001b[39;49m\u001b[38;5;124;43mD\u001b[39;49m\u001b[38;5;124;43m\"\u001b[39;49m\u001b[43m,\u001b[49m\u001b[43m \u001b[49m\u001b[43mstep\u001b[49m\u001b[43m)\u001b[49m\n\u001b[1;32m    371\u001b[0m \u001b[38;5;28;01mfor\u001b[39;00m subscriptionResults \u001b[38;5;129;01min\u001b[39;00m \u001b[38;5;28mself\u001b[39m\u001b[38;5;241m.\u001b[39m_subscriptionMapping\u001b[38;5;241m.\u001b[39mvalues():\n\u001b[1;32m    372\u001b[0m     subscriptionResults\u001b[38;5;241m.\u001b[39mreset()\n",
      "File \u001b[0;32m~/.pyenv/versions/3.10.6/envs/RL_traffic/lib/python3.10/site-packages/traci/connection.py:232\u001b[0m, in \u001b[0;36mConnection._sendCmd\u001b[0;34m(self, cmdID, varID, objID, format, *values)\u001b[0m\n\u001b[1;32m    230\u001b[0m     \u001b[38;5;28mself\u001b[39m\u001b[38;5;241m.\u001b[39m_string \u001b[38;5;241m+\u001b[39m\u001b[38;5;241m=\u001b[39m struct\u001b[38;5;241m.\u001b[39mpack(\u001b[38;5;124m\"\u001b[39m\u001b[38;5;124m!i\u001b[39m\u001b[38;5;124m\"\u001b[39m, \u001b[38;5;28mlen\u001b[39m(objID)) \u001b[38;5;241m+\u001b[39m objID\n\u001b[1;32m    231\u001b[0m \u001b[38;5;28mself\u001b[39m\u001b[38;5;241m.\u001b[39m_string \u001b[38;5;241m+\u001b[39m\u001b[38;5;241m=\u001b[39m packed\n\u001b[0;32m--> 232\u001b[0m \u001b[38;5;28;01mreturn\u001b[39;00m \u001b[38;5;28;43mself\u001b[39;49m\u001b[38;5;241;43m.\u001b[39;49m\u001b[43m_sendExact\u001b[49m\u001b[43m(\u001b[49m\u001b[43m)\u001b[49m\n",
      "File \u001b[0;32m~/.pyenv/versions/3.10.6/envs/RL_traffic/lib/python3.10/site-packages/traci/connection.py:131\u001b[0m, in \u001b[0;36mConnection._sendExact\u001b[0;34m(self)\u001b[0m\n\u001b[1;32m    129\u001b[0m     \u001b[38;5;28mprint\u001b[39m(\u001b[38;5;124m\"\u001b[39m\u001b[38;5;124msending\u001b[39m\u001b[38;5;124m\"\u001b[39m, Storage(length \u001b[38;5;241m+\u001b[39m \u001b[38;5;28mself\u001b[39m\u001b[38;5;241m.\u001b[39m_string)\u001b[38;5;241m.\u001b[39mgetDebugString())\n\u001b[1;32m    130\u001b[0m \u001b[38;5;28mself\u001b[39m\u001b[38;5;241m.\u001b[39m_socket\u001b[38;5;241m.\u001b[39msend(length \u001b[38;5;241m+\u001b[39m \u001b[38;5;28mself\u001b[39m\u001b[38;5;241m.\u001b[39m_string)\n\u001b[0;32m--> 131\u001b[0m result \u001b[38;5;241m=\u001b[39m \u001b[38;5;28;43mself\u001b[39;49m\u001b[38;5;241;43m.\u001b[39;49m\u001b[43m_recvExact\u001b[49m\u001b[43m(\u001b[49m\u001b[43m)\u001b[49m\n\u001b[1;32m    132\u001b[0m \u001b[38;5;28;01mif\u001b[39;00m _DEBUG:\n\u001b[1;32m    133\u001b[0m     \u001b[38;5;28mprint\u001b[39m(\u001b[38;5;124m\"\u001b[39m\u001b[38;5;124mreceiving\u001b[39m\u001b[38;5;124m\"\u001b[39m, result\u001b[38;5;241m.\u001b[39mgetDebugString())\n",
      "File \u001b[0;32m~/.pyenv/versions/3.10.6/envs/RL_traffic/lib/python3.10/site-packages/traci/connection.py:109\u001b[0m, in \u001b[0;36mConnection._recvExact\u001b[0;34m(self)\u001b[0m\n\u001b[1;32m    107\u001b[0m result \u001b[38;5;241m=\u001b[39m \u001b[38;5;28mbytes\u001b[39m()\n\u001b[1;32m    108\u001b[0m \u001b[38;5;28;01mwhile\u001b[39;00m \u001b[38;5;28mlen\u001b[39m(result) \u001b[38;5;241m<\u001b[39m \u001b[38;5;241m4\u001b[39m:\n\u001b[0;32m--> 109\u001b[0m     t \u001b[38;5;241m=\u001b[39m \u001b[38;5;28;43mself\u001b[39;49m\u001b[38;5;241;43m.\u001b[39;49m\u001b[43m_socket\u001b[49m\u001b[38;5;241;43m.\u001b[39;49m\u001b[43mrecv\u001b[49m\u001b[43m(\u001b[49m\u001b[38;5;241;43m4\u001b[39;49m\u001b[43m \u001b[49m\u001b[38;5;241;43m-\u001b[39;49m\u001b[43m \u001b[49m\u001b[38;5;28;43mlen\u001b[39;49m\u001b[43m(\u001b[49m\u001b[43mresult\u001b[49m\u001b[43m)\u001b[49m\u001b[43m)\u001b[49m\n\u001b[1;32m    110\u001b[0m     \u001b[38;5;28;01mif\u001b[39;00m \u001b[38;5;129;01mnot\u001b[39;00m t:\n\u001b[1;32m    111\u001b[0m         \u001b[38;5;28;01mreturn\u001b[39;00m \u001b[38;5;28;01mNone\u001b[39;00m\n",
      "\u001b[0;31mKeyboardInterrupt\u001b[0m: "
     ]
    }
   ],
   "source": [
    "sumoConfig3 = r\"Traditional_traffic/traditional_traffic.sumo.cfg\"\n",
    "\n",
    "replay_buffer = deque(maxlen=10000)\n",
    "\n",
    "\n",
    "sumoCmd = [sumo_bin, \"-c\",simulConfig,'--start']\n",
    "print(sumoCmd)\n",
    "for episode in range(80):\n",
    "    if traci.isLoaded():\n",
    "        traci.close()\n",
    "    traci.start(sumoCmd)\n",
    "    lane_ids =  traci.lane.getIDList()\n",
    "    # print(lane_ids[0])\n",
    "\n",
    "    trafic_light_ids = traci.trafficlight.getIDList()\n",
    "\n",
    "    # state = np.array(queue(lane_ids))\n",
    "    state=np.array(get_state(lane_ids))\n",
    "    action=-1\n",
    "    # print(state)\n",
    "    for step in range(130000): ## TO CHANGED\n",
    "        epsilon = max(1 - episode / 80, 0.01)\n",
    "\n",
    "        if step%2000 == 0:\n",
    "            #######################################################################\n",
    "            next_state = np.array(get_state(lane_ids))\n",
    "            reward = np.sum(state[:24])- np.sum(next_state[:24])\n",
    "            replay_buffer.append((state, action, reward, next_state))\n",
    "            #######################################################################\n",
    "\n",
    "            state=next_state\n",
    "            action = epsilon_greedy_policy(state, epsilon)\n",
    "            traci.trafficlight.setPhase(trafic_light_ids[0],2*action)\n",
    "\n",
    "            if len(replay_buffer) >= batch_size*10:\n",
    "                training_step(batch_size)\n",
    "\n",
    "        traci.simulationStep()\n",
    "\n",
    "    if episode%5==0:\n",
    "        target.set_weights(model_action.get_weights())\n",
    "    print(f'episode : {episode}')\n",
    "    traci.close()\n"
   ]
  },
  {
   "cell_type": "code",
   "execution_count": null,
   "metadata": {},
   "outputs": [],
   "source": [
    "model_action."
   ]
  },
  {
   "cell_type": "code",
   "execution_count": 26,
   "metadata": {},
   "outputs": [
    {
     "name": "stdout",
     "output_type": "stream",
     "text": [
      " Retrying in 1 seconds\n",
      "state : [0 0 0 0 0 0 0 0 0 0 0 0 0 0 0 0 0 0 0 0 0 0 0 0 0 0 0 0 0 0 0 0 0 0 0 0 0\n",
      " 0 0 0 0 0 0 0 0 0 0 0]\n",
      "Q_values : [-1.5612404  1.1188273 -1.5535202  0.8271354]\n"
     ]
    },
    {
     "ename": "FatalTraCIError",
     "evalue": "Connection closed by SUMO.",
     "output_type": "error",
     "traceback": [
      "\u001b[0;31m---------------------------------------------------------------------------\u001b[0m",
      "\u001b[0;31mFatalTraCIError\u001b[0m                           Traceback (most recent call last)",
      "Cell \u001b[0;32mIn[26], line 20\u001b[0m\n\u001b[1;32m     18\u001b[0m         action \u001b[38;5;241m=\u001b[39m epsilon_greedy_policy(state,\u001b[38;5;241m0\u001b[39m)\u001b[38;5;241m*\u001b[39m\u001b[38;5;241m2\u001b[39m\n\u001b[1;32m     19\u001b[0m         traci\u001b[38;5;241m.\u001b[39mtrafficlight\u001b[38;5;241m.\u001b[39msetPhase(trafic_light_ids[\u001b[38;5;241m0\u001b[39m],action)\n\u001b[0;32m---> 20\u001b[0m     \u001b[43mtraci\u001b[49m\u001b[38;5;241;43m.\u001b[39;49m\u001b[43msimulationStep\u001b[49m\u001b[43m(\u001b[49m\u001b[43m)\u001b[49m\n\u001b[1;32m     22\u001b[0m traci\u001b[38;5;241m.\u001b[39mclose()\n",
      "File \u001b[0;32m~/.pyenv/versions/3.10.6/envs/RL_traffic/lib/python3.10/site-packages/traci/main.py:198\u001b[0m, in \u001b[0;36msimulationStep\u001b[0;34m(step)\u001b[0m\n\u001b[1;32m    192\u001b[0m \u001b[38;5;28;01mdef\u001b[39;00m\u001b[38;5;250m \u001b[39m\u001b[38;5;21msimulationStep\u001b[39m(step\u001b[38;5;241m=\u001b[39m\u001b[38;5;241m0\u001b[39m):\n\u001b[1;32m    193\u001b[0m \u001b[38;5;250m    \u001b[39m\u001b[38;5;124;03m\"\"\"simulationStep(float) -> None\u001b[39;00m\n\u001b[1;32m    194\u001b[0m \u001b[38;5;124;03m    Make a simulation step and simulate up to the given second in sim time.\u001b[39;00m\n\u001b[1;32m    195\u001b[0m \u001b[38;5;124;03m    If the given value is 0 or absent, exactly one step is performed.\u001b[39;00m\n\u001b[1;32m    196\u001b[0m \u001b[38;5;124;03m    Values smaller than or equal to the current sim time result in no action.\u001b[39;00m\n\u001b[1;32m    197\u001b[0m \u001b[38;5;124;03m    \"\"\"\u001b[39;00m\n\u001b[0;32m--> 198\u001b[0m     \u001b[43mconnection\u001b[49m\u001b[38;5;241;43m.\u001b[39;49m\u001b[43mcheck\u001b[49m\u001b[43m(\u001b[49m\u001b[43m)\u001b[49m\u001b[38;5;241;43m.\u001b[39;49m\u001b[43msimulationStep\u001b[49m\u001b[43m(\u001b[49m\u001b[43mstep\u001b[49m\u001b[43m)\u001b[49m\n",
      "File \u001b[0;32m~/.pyenv/versions/3.10.6/envs/RL_traffic/lib/python3.10/site-packages/traci/connection.py:370\u001b[0m, in \u001b[0;36mConnection.simulationStep\u001b[0;34m(self, step)\u001b[0m\n\u001b[1;32m    368\u001b[0m \u001b[38;5;28;01mif\u001b[39;00m \u001b[38;5;28mtype\u001b[39m(step) \u001b[38;5;129;01mis\u001b[39;00m \u001b[38;5;28mint\u001b[39m \u001b[38;5;129;01mand\u001b[39;00m step \u001b[38;5;241m>\u001b[39m\u001b[38;5;241m=\u001b[39m \u001b[38;5;241m1000\u001b[39m:\n\u001b[1;32m    369\u001b[0m     warnings\u001b[38;5;241m.\u001b[39mwarn(\u001b[38;5;124m\"\u001b[39m\u001b[38;5;124mAPI change now handles step as floating point seconds\u001b[39m\u001b[38;5;124m\"\u001b[39m, stacklevel\u001b[38;5;241m=\u001b[39m\u001b[38;5;241m2\u001b[39m)\n\u001b[0;32m--> 370\u001b[0m result \u001b[38;5;241m=\u001b[39m \u001b[38;5;28;43mself\u001b[39;49m\u001b[38;5;241;43m.\u001b[39;49m\u001b[43m_sendCmd\u001b[49m\u001b[43m(\u001b[49m\u001b[43mtc\u001b[49m\u001b[38;5;241;43m.\u001b[39;49m\u001b[43mCMD_SIMSTEP\u001b[49m\u001b[43m,\u001b[49m\u001b[43m \u001b[49m\u001b[38;5;28;43;01mNone\u001b[39;49;00m\u001b[43m,\u001b[49m\u001b[43m \u001b[49m\u001b[38;5;28;43;01mNone\u001b[39;49;00m\u001b[43m,\u001b[49m\u001b[43m \u001b[49m\u001b[38;5;124;43m\"\u001b[39;49m\u001b[38;5;124;43mD\u001b[39;49m\u001b[38;5;124;43m\"\u001b[39;49m\u001b[43m,\u001b[49m\u001b[43m \u001b[49m\u001b[43mstep\u001b[49m\u001b[43m)\u001b[49m\n\u001b[1;32m    371\u001b[0m \u001b[38;5;28;01mfor\u001b[39;00m subscriptionResults \u001b[38;5;129;01min\u001b[39;00m \u001b[38;5;28mself\u001b[39m\u001b[38;5;241m.\u001b[39m_subscriptionMapping\u001b[38;5;241m.\u001b[39mvalues():\n\u001b[1;32m    372\u001b[0m     subscriptionResults\u001b[38;5;241m.\u001b[39mreset()\n",
      "File \u001b[0;32m~/.pyenv/versions/3.10.6/envs/RL_traffic/lib/python3.10/site-packages/traci/connection.py:232\u001b[0m, in \u001b[0;36mConnection._sendCmd\u001b[0;34m(self, cmdID, varID, objID, format, *values)\u001b[0m\n\u001b[1;32m    230\u001b[0m     \u001b[38;5;28mself\u001b[39m\u001b[38;5;241m.\u001b[39m_string \u001b[38;5;241m+\u001b[39m\u001b[38;5;241m=\u001b[39m struct\u001b[38;5;241m.\u001b[39mpack(\u001b[38;5;124m\"\u001b[39m\u001b[38;5;124m!i\u001b[39m\u001b[38;5;124m\"\u001b[39m, \u001b[38;5;28mlen\u001b[39m(objID)) \u001b[38;5;241m+\u001b[39m objID\n\u001b[1;32m    231\u001b[0m \u001b[38;5;28mself\u001b[39m\u001b[38;5;241m.\u001b[39m_string \u001b[38;5;241m+\u001b[39m\u001b[38;5;241m=\u001b[39m packed\n\u001b[0;32m--> 232\u001b[0m \u001b[38;5;28;01mreturn\u001b[39;00m \u001b[38;5;28;43mself\u001b[39;49m\u001b[38;5;241;43m.\u001b[39;49m\u001b[43m_sendExact\u001b[49m\u001b[43m(\u001b[49m\u001b[43m)\u001b[49m\n",
      "File \u001b[0;32m~/.pyenv/versions/3.10.6/envs/RL_traffic/lib/python3.10/site-packages/traci/connection.py:137\u001b[0m, in \u001b[0;36mConnection._sendExact\u001b[0;34m(self)\u001b[0m\n\u001b[1;32m    135\u001b[0m     \u001b[38;5;28mself\u001b[39m\u001b[38;5;241m.\u001b[39m_socket\u001b[38;5;241m.\u001b[39mclose()\n\u001b[1;32m    136\u001b[0m     \u001b[38;5;28mself\u001b[39m\u001b[38;5;241m.\u001b[39m_socket \u001b[38;5;241m=\u001b[39m \u001b[38;5;28;01mNone\u001b[39;00m\n\u001b[0;32m--> 137\u001b[0m     \u001b[38;5;28;01mraise\u001b[39;00m FatalTraCIError(\u001b[38;5;124m\"\u001b[39m\u001b[38;5;124mConnection closed by SUMO.\u001b[39m\u001b[38;5;124m\"\u001b[39m)\n\u001b[1;32m    138\u001b[0m \u001b[38;5;28;01mfor\u001b[39;00m command \u001b[38;5;129;01min\u001b[39;00m \u001b[38;5;28mself\u001b[39m\u001b[38;5;241m.\u001b[39m_queue:\n\u001b[1;32m    139\u001b[0m     prefix \u001b[38;5;241m=\u001b[39m result\u001b[38;5;241m.\u001b[39mread(\u001b[38;5;124m\"\u001b[39m\u001b[38;5;124m!BBB\u001b[39m\u001b[38;5;124m\"\u001b[39m)\n",
      "\u001b[0;31mFatalTraCIError\u001b[0m: Connection closed by SUMO."
     ]
    }
   ],
   "source": [
    "sumoCmd = [sumo_gui_bin, \"-c\",simulConfig,\"--start\", \"--no-warnings\"]\n",
    "\n",
    "if traci.isLoaded():\n",
    "    traci.close()\n",
    "traci.start(sumoCmd)\n",
    "lane_ids =  traci.lane.getIDList()\n",
    "trafic_light_ids = traci.trafficlight.getIDList()\n",
    "\n",
    "state = np.array(get_state(lane_ids))\n",
    "action=1\n",
    "wating_times= np.ones(shape=(24))\n",
    "for step in range(130000): ## TO CHANGED\n",
    "    #epsilon = max(1 - episode / 10, 0.01)\n",
    "    nom_du_feu= traci.trafficlight.getIDList()[0]\n",
    "\n",
    "    if step%2000 == 0:\n",
    "        state = np.array(get_state(lane_ids))\n",
    "        action = epsilon_greedy_policy(state,0)*2\n",
    "        traci.trafficlight.setPhase(trafic_light_ids[0],action)\n",
    "    traci.simulationStep()\n",
    "\n",
    "traci.close()\n"
   ]
  }
 ],
 "metadata": {
  "kernelspec": {
   "display_name": "RL_traffic",
   "language": "python",
   "name": "python3"
  },
  "language_info": {
   "codemirror_mode": {
    "name": "ipython",
    "version": 3
   },
   "file_extension": ".py",
   "mimetype": "text/x-python",
   "name": "python",
   "nbconvert_exporter": "python",
   "pygments_lexer": "ipython3",
   "version": "3.10.6"
  }
 },
 "nbformat": 4,
 "nbformat_minor": 2
}
